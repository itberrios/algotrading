{
  "cells": [
    {
      "cell_type": "markdown",
      "metadata": {
        "id": "uL7rliFsw4k7"
      },
      "source": [
        "## **Backtest models on real data**\n",
        "\n",
        "This is a working notebook to backtest different models on real data.\n",
        "\n",
        "NEED MATPLOTLIB Version 3.2.2 for cerebro plotting"
      ]
    },
    {
      "cell_type": "markdown",
      "metadata": {
        "id": "BVPb0pIGw77C"
      },
      "source": [
        "Install libraries if necessary"
      ]
    },
    {
      "cell_type": "code",
      "execution_count": 1,
      "metadata": {
        "id": "l7GogoFdw4k8"
      },
      "outputs": [],
      "source": [
        "import sys\n",
        "import os \n",
        "import yfinance as yf\n",
        "import numpy as np\n",
        "import pandas as pd\n",
        "import tensorflow as tf\n",
        "import backtrader as bt\n",
        "from datetime import datetime"
      ]
    },
    {
      "cell_type": "markdown",
      "metadata": {
        "id": "J95Y_h5Qw4k-"
      },
      "source": [
        "local imports"
      ]
    },
    {
      "cell_type": "code",
      "execution_count": 2,
      "metadata": {
        "colab": {
          "base_uri": "https://localhost:8080/",
          "height": 374
        },
        "id": "kvFVFKpow4k-",
        "outputId": "9e97c1fd-436c-4c82-f13f-e232871049ba"
      },
      "outputs": [],
      "source": [
        "sys.path.append(os.path.abspath(os.path.abspath('..')))\n",
        "sys.path.append(os.getcwd())\n",
        "\n",
        "from data_utils import *\n",
        "from Strategies import *\n",
        "from predictive_analytics.RNN.functions import transform_raw_data, last_step_accuracy, get_last_step_predictions_with_confidence\n",
        "from predictive_analytics.transformer.models.basic_transformer import TransformerModel\n"
      ]
    },
    {
      "cell_type": "markdown",
      "metadata": {
        "id": "8fFiXuwcw4lA"
      },
      "source": [
        "Get trained models"
      ]
    },
    {
      "cell_type": "code",
      "execution_count": 3,
      "metadata": {
        "id": "rBzagbQ3w4lA"
      },
      "outputs": [],
      "source": [
        "RNN_MODEL = \"../predictive_analytics/RNN/models/beta_1\"\n",
        "LINEAR_MODEL = \"../predictive_analytics/transformer/models/basic_linear_model_2\"\n",
        "TRANSFORMER_MODEL = \"../predictive_analytics/transformer/models/transformer_checkpoint\""
      ]
    },
    {
      "cell_type": "markdown",
      "metadata": {
        "id": "eFsMmvmJw4lB"
      },
      "source": [
        "Helper functions"
      ]
    },
    {
      "cell_type": "code",
      "execution_count": 4,
      "metadata": {
        "id": "cUX08vqkw4lB"
      },
      "outputs": [],
      "source": [
        "def change_time_format(timestamp): # so that backtrader logs are correct\n",
        "    reg = \"%Y-%m-%d %H:%M:%S\"\n",
        "    time_as_str = timestamp.strftime(reg)\n",
        "    reformatted_time = datetime.strptime(time_as_str, reg)\n",
        "    return reformatted_time\n",
        "\n",
        "\n",
        "def get_predictions_with_confidence(model, X):\n",
        "    ''' used for models that only output a single target'''\n",
        "    y_pred = model.predict(X)\n",
        "    pred_labels = tf.argmax(y_pred, axis=-1).numpy()\n",
        "    probabilities = tf.reduce_max(y_pred, axis=-1).numpy()\n",
        "    return np.c_[pred_labels.reshape((-1,1)), probabilities.reshape((-1,1))]\n",
        "\n",
        "# modify strategy here\n",
        "class MyStrategy(bt.Strategy):\n",
        "    params = dict(\n",
        "    )\n",
        "    \n",
        "    def __init__(self):\n",
        "        # keep track of open, close prices and predicted value in the series\n",
        "        self.data_prediction = self.datas[0].prediction\n",
        "        self.data_confidence = self.datas[0].confidence\n",
        "        self.data_open = self.datas[0].open\n",
        "        self.data_close = self.datas[0].close\n",
        "\n",
        "        # set number of shares to buy sell\n",
        "        self.num_shares = 10\n",
        "\n",
        "        # set required buy/sell probabilities\n",
        "        self.buy_prob = 0.7\n",
        "        self.sell_prob = 0.6\n",
        "        \n",
        "        # keep track of pending orders/buy price/buy commission\n",
        "        self.order = None\n",
        "        self.price = None\n",
        "        self.comm = None\n",
        "        \n",
        "        \n",
        "    # logging function\n",
        "    def log(self, txt):\n",
        "        '''Logging function'''\n",
        "        dt = str(self.datas[0].datetime.datetime())\n",
        "        print(f'{dt}, {txt}')\n",
        "    \n",
        "    \n",
        "    def notify_order(self, order):\n",
        "        if order.status in [order.Submitted, order.Accepted]:\n",
        "            # order already submitted/accepted - no action required\n",
        "            return\n",
        "        # report executed order\n",
        "        if order.status in [order.Completed]:\n",
        "            if order.isbuy():\n",
        "                self.log(f'BUY EXECUTED --- Price: {order.executed.price:.2f}, Cost: {order.executed.value:.2f},Commission: {order.executed.comm:.2f}'\n",
        "                )\n",
        "                self.price = order.executed.price\n",
        "                self.comm = order.executed.comm\n",
        "            else:\n",
        "                self.log(f'SELL EXECUTED --- Price: {order.executed.price:.2f}, Cost: {order.executed.value:.2f},Commission: {order.executed.comm:.2f}'\n",
        "                )\n",
        "        # report failed order\n",
        "        elif order.status in [order.Canceled, order.Margin, \n",
        "                              order.Rejected]:\n",
        "            self.log('Order Failed')\n",
        "        # set no pending order\n",
        "        self.order = None\n",
        "    \n",
        "    \n",
        "    def notify_trade(self, trade):\n",
        "        if not trade.isclosed:\n",
        "            return\n",
        "        self.log(f'OPERATION RESULT --- Gross: {trade.pnl:.2f}, Net: {trade.pnlcomm:.2f}')\n",
        "        \n",
        "    \n",
        "    def next_open(self):\n",
        "        if not self.position:   # not in the market\n",
        "            if self.data_prediction == 1:\n",
        "                if self.data_confidence > self.buy_prob and self.broker.getcash() > self.data_open*10:\n",
        "                    # buy order\n",
        "                    self.log(f'BUY CREATED --- Size: {self.num_shares}, Cash: {self.broker.getcash():.2f}, Open: {self.data_open[0]}, Close: {self.data_close[0]}')\n",
        "                    self.buy(size=self.num_shares)\n",
        "        else:                   # in the market\n",
        "            if self.data_prediction == 0 and self.data_confidence > self.sell_prob:\n",
        "                # sell order\n",
        "                self.log(f'SELL CREATED --- Size: {self.position.size}')\n",
        "                self.sell(size=self.position.size)"
      ]
    },
    {
      "cell_type": "markdown",
      "metadata": {
        "id": "mtZjfu7Ww4lD"
      },
      "source": [
        "##### Load Model\n",
        "The model loading and inferences will be different for each model type"
      ]
    },
    {
      "cell_type": "code",
      "execution_count": 5,
      "metadata": {
        "id": "RV32xSwQw4lE"
      },
      "outputs": [],
      "source": [
        "# linear model\n",
        "model = tf.keras.models.load_model(LINEAR_MODEL, custom_objects={'mcc_metric' : mcc_metric})"
      ]
    },
    {
      "cell_type": "code",
      "execution_count": null,
      "metadata": {
        "id": "6ISn3k_1w4lE",
        "outputId": "f1cd5fec-45c6-4b0b-cc4c-2bccf5e8085a"
      },
      "outputs": [
        {
          "name": "stdout",
          "output_type": "stream",
          "text": [
            "WARNING:tensorflow:SavedModel saved prior to TF 2.5 detected when loading Keras model. Please ensure that you are saving the model with model.save() or tf.keras.models.save_model(), *NOT* tf.saved_model.save(). To confirm, there should be a file named \"keras_metadata.pb\" in the SavedModel directory.\n"
          ]
        }
      ],
      "source": [
        "# RNN\n",
        "model = tf.keras.models.load_model(RNN_MODEL, custom_objects={'last_step_accuracy': last_step_accuracy})"
      ]
    },
    {
      "cell_type": "code",
      "execution_count": null,
      "metadata": {
        "id": "2RSddJ5Zw4lF"
      },
      "outputs": [],
      "source": [
        "from tensorflow_addons.layers import multihead_attention\n",
        "\n",
        "custom_objects={\n",
        "    'MultiHeadAttention' : multihead_attention.MultiHeadAttention,\n",
        "    'TransformerModel' : TransformerModel,\n",
        "    'mcc_metric' : mcc_metric}\n",
        "\n",
        "model = tf.keras.models.load_model(TRANSFORMER_MODEL,\n",
        "                                   custom_objects=custom_objects)"
      ]
    },
    {
      "cell_type": "markdown",
      "metadata": {
        "id": "8BRkfsorw4lF"
      },
      "source": [
        "Load Transformer"
      ]
    },
    {
      "cell_type": "markdown",
      "metadata": {
        "id": "2WvAE1Rrw4lF"
      },
      "source": [
        "#### Get stock data"
      ]
    },
    {
      "cell_type": "code",
      "execution_count": 6,
      "metadata": {
        "id": "z3m-Ys07w4lG"
      },
      "outputs": [],
      "source": [
        "ticker = 'AAPL'\n",
        "START_DATE = '2022-11-1'\n",
        "END_DATE = '2022-11-30'\n",
        "\n",
        "EVAL_RANGE=24\n",
        "PREDICT_RANGE=3\n",
        "INTERVAL = 5"
      ]
    },
    {
      "cell_type": "code",
      "execution_count": 7,
      "metadata": {
        "id": "88FpvVmuw4lG"
      },
      "outputs": [],
      "source": [
        "# for normalization\n",
        "train_means = np.load('../data/transformed/{}min/{}_train_means.npy'.format(INTERVAL, ticker))\n",
        "train_stds = np.load('../data/transformed/{}min/{}_train_stds.npy'.format(INTERVAL, ticker))\n",
        "\n",
        "# get stock data\n",
        "tickerData = yf.Ticker(ticker)\n",
        "df = tickerData.history(interval=\"{}m\".format(INTERVAL),  start=START_DATE, end=END_DATE)\n",
        "df = df.reset_index().rename({'Datetime':'Time'}, axis=1)\n",
        "\n",
        "# transform\n",
        "data, targets, time_stamps = transform_raw_data(df, INTERVAL, EVAL_RANGE=24, \n",
        "                                      PREDICT_RANGE=3, NO_CHANGE_THRESHOLD=0.01,\n",
        "                                      TRAIN_RATIO=None, train_means=train_means,\n",
        "                                      train_stds=train_stds)"
      ]
    },
    {
      "cell_type": "markdown",
      "metadata": {
        "id": "ErSFh-Hxw4lG"
      },
      "source": [
        "#### Get Predictions\n",
        "Inferences will be different for each model type"
      ]
    },
    {
      "cell_type": "code",
      "execution_count": 8,
      "metadata": {
        "id": "17VaLNJQw4lG"
      },
      "outputs": [
        {
          "name": "stdout",
          "output_type": "stream",
          "text": [
            "34/34 [==============================] - 1s 1ms/step\n"
          ]
        }
      ],
      "source": [
        "# linear\n",
        "y_pred = get_predictions_with_confidence(model, data[:, -1, :])"
      ]
    },
    {
      "cell_type": "code",
      "execution_count": null,
      "metadata": {
        "id": "KfAUUA6jw4lG",
        "outputId": "b184d856-a28a-4c56-ae2b-1f106c1429a7"
      },
      "outputs": [],
      "source": [
        "# RNN\n",
        "y_pred = get_last_step_predictions_with_confidence(model, data)"
      ]
    },
    {
      "cell_type": "code",
      "execution_count": null,
      "metadata": {
        "id": "pGxEHKGSw4lI",
        "outputId": "a1762d45-014c-4ff0-a8bc-8c721a19bb63"
      },
      "outputs": [
        {
          "name": "stdout",
          "output_type": "stream",
          "text": [
            "34/34 [==============================] - 0s 9ms/step\n"
          ]
        }
      ],
      "source": [
        "# Transformer\n",
        "y_pred = get_predictions_with_confidence(model, data)"
      ]
    },
    {
      "cell_type": "markdown",
      "metadata": {
        "id": "WY3xtbPCw4lI"
      },
      "source": [
        "#### Prepare for Backtrade analysis"
      ]
    },
    {
      "cell_type": "code",
      "execution_count": 9,
      "metadata": {
        "id": "E7FtB483w4lI"
      },
      "outputs": [],
      "source": [
        "# supress setting with copy warning\n",
        "# https://stackoverflow.com/questions/20625582/how-to-deal-with-settingwithcopywarning-in-pandas\n",
        "pd.options.mode.chained_assignment = None\n",
        "\n",
        "# create data file for backtrade\n",
        "df = df.loc[EVAL_RANGE-1:df.shape[0]-PREDICT_RANGE-1] # data points with labels\n",
        "df.drop(['Dividends','Stock Splits'], axis=1, inplace=True)\n",
        "df.rename(columns = {'Open':'open','High':'high','Low':'low','Adj Close':'close','Volume':'volume',\n",
        "                         }, inplace=True)\n",
        "df[['prediction','confidence']] = y_pred\n",
        "df['Time'] = df['Time'].apply(change_time_format)\n",
        "df.set_index('Time', inplace=True)\n",
        "\n",
        "# print(df.head())\n",
        "\n",
        "# return setting with copy warning to default \n",
        "pd.options.mode.chained_assignment = 'warn'"
      ]
    },
    {
      "cell_type": "markdown",
      "metadata": {
        "id": "-2SvEEuQw4lI"
      },
      "source": [
        "#### Perform Backtrade Analysis\n",
        "\n",
        "Brokers such as IB charge about $ 0.0005 - 0.0035 per share. So we can take an average price value (with an added fudge factor) and compute an estimated commision percentage.\n",
        "\n",
        "https://www.interactivebrokers.com/en/pricing/commissions-home.php"
      ]
    },
    {
      "cell_type": "code",
      "execution_count": 10,
      "metadata": {
        "id": "vmIg11Few4lJ",
        "outputId": "aa108aea-e2ee-41c3-cc74-4508c90ff561"
      },
      "outputs": [
        {
          "name": "stdout",
          "output_type": "stream",
          "text": [
            "Starting Portfolio Value: 10000.00\n",
            "2022-11-02 09:30:00, BUY CREATED --- Size: 10, Cash: 10000.00, Open: 148.94500732421875, Close: 149.7698974609375\n",
            "2022-11-02 09:30:00, BUY EXECUTED --- Price: 148.95, Cost: 10.00,Commission: 0.04\n",
            "2022-11-02 11:10:00, SELL CREATED --- Size: 10\n",
            "2022-11-02 11:10:00, SELL EXECUTED --- Price: 149.43, Cost: 10.00,Commission: 0.04\n",
            "2022-11-02 11:10:00, OPERATION RESULT --- Gross: 4.80, Net: 4.73\n",
            "2022-11-02 11:40:00, BUY CREATED --- Size: 10, Cash: 10004.73, Open: 148.3800048828125, Close: 148.97000122070312\n",
            "2022-11-02 11:40:00, BUY EXECUTED --- Price: 148.38, Cost: 10.00,Commission: 0.04\n",
            "2022-11-02 14:15:00, SELL CREATED --- Size: 10\n",
            "2022-11-02 14:15:00, SELL EXECUTED --- Price: 151.25, Cost: 10.00,Commission: 0.04\n",
            "2022-11-02 14:15:00, OPERATION RESULT --- Gross: 28.73, Net: 28.66\n",
            "2022-11-02 14:25:00, BUY CREATED --- Size: 10, Cash: 10033.39, Open: 151.08230590820312, Close: 151.72000122070312\n",
            "2022-11-02 14:25:00, BUY EXECUTED --- Price: 151.08, Cost: 10.00,Commission: 0.04\n",
            "2022-11-02 14:30:00, SELL CREATED --- Size: 10\n",
            "2022-11-02 14:30:00, SELL EXECUTED --- Price: 151.71, Cost: 10.00,Commission: 0.04\n",
            "2022-11-02 14:30:00, OPERATION RESULT --- Gross: 6.28, Net: 6.21\n",
            "2022-11-02 14:40:00, BUY CREATED --- Size: 10, Cash: 10039.60, Open: 149.88999938964844, Close: 150.44000244140625\n",
            "2022-11-02 14:40:00, BUY EXECUTED --- Price: 149.89, Cost: 10.00,Commission: 0.04\n",
            "2022-11-02 14:45:00, SELL CREATED --- Size: 10\n",
            "2022-11-02 14:45:00, SELL EXECUTED --- Price: 150.42, Cost: 10.00,Commission: 0.04\n",
            "2022-11-02 14:45:00, OPERATION RESULT --- Gross: 5.30, Net: 5.23\n",
            "2022-11-02 15:05:00, BUY CREATED --- Size: 10, Cash: 10044.83, Open: 147.89010620117188, Close: 148.64999389648438\n",
            "2022-11-02 15:05:00, BUY EXECUTED --- Price: 147.89, Cost: 10.00,Commission: 0.04\n",
            "2022-11-02 15:10:00, SELL CREATED --- Size: 10\n",
            "2022-11-02 15:10:00, SELL EXECUTED --- Price: 148.65, Cost: 10.00,Commission: 0.04\n",
            "2022-11-02 15:10:00, OPERATION RESULT --- Gross: 7.60, Net: 7.53\n",
            "2022-11-03 10:00:00, BUY CREATED --- Size: 10, Cash: 10052.35, Open: 139.69000244140625, Close: 140.3802947998047\n",
            "2022-11-03 10:00:00, BUY EXECUTED --- Price: 139.69, Cost: 10.00,Commission: 0.04\n",
            "2022-11-03 10:05:00, SELL CREATED --- Size: 10\n",
            "2022-11-03 10:05:00, SELL EXECUTED --- Price: 140.36, Cost: 10.00,Commission: 0.04\n",
            "2022-11-03 10:05:00, OPERATION RESULT --- Gross: 6.72, Net: 6.65\n",
            "2022-11-03 10:10:00, BUY CREATED --- Size: 10, Cash: 10059.00, Open: 139.88999938964844, Close: 140.5\n",
            "2022-11-03 10:10:00, BUY EXECUTED --- Price: 139.89, Cost: 10.00,Commission: 0.04\n",
            "2022-11-03 10:30:00, SELL CREATED --- Size: 10\n",
            "2022-11-03 10:30:00, SELL EXECUTED --- Price: 140.99, Cost: 10.00,Commission: 0.04\n",
            "2022-11-03 10:30:00, OPERATION RESULT --- Gross: 11.00, Net: 10.93\n",
            "2022-11-03 10:45:00, BUY CREATED --- Size: 10, Cash: 10069.93, Open: 140.02000427246094, Close: 141.25\n",
            "2022-11-03 10:45:00, BUY EXECUTED --- Price: 140.02, Cost: 10.00,Commission: 0.04\n",
            "2022-11-03 11:05:00, SELL CREATED --- Size: 10\n",
            "2022-11-03 11:05:00, SELL EXECUTED --- Price: 140.79, Cost: 10.00,Commission: 0.04\n",
            "2022-11-03 11:05:00, OPERATION RESULT --- Gross: 7.70, Net: 7.63\n",
            "2022-11-03 11:35:00, BUY CREATED --- Size: 10, Cash: 10077.56, Open: 139.5850067138672, Close: 140.1636962890625\n",
            "2022-11-03 11:35:00, BUY EXECUTED --- Price: 139.59, Cost: 10.00,Commission: 0.04\n",
            "2022-11-03 15:55:00, SELL CREATED --- Size: 10\n",
            "2022-11-03 15:55:00, SELL EXECUTED --- Price: 139.24, Cost: 10.00,Commission: 0.04\n",
            "2022-11-03 15:55:00, OPERATION RESULT --- Gross: -3.45, Net: -3.52\n",
            "2022-11-04 09:55:00, BUY CREATED --- Size: 10, Cash: 10074.04, Open: 137.25, Close: 138.9158935546875\n",
            "2022-11-04 09:55:00, BUY EXECUTED --- Price: 137.25, Cost: 10.00,Commission: 0.04\n",
            "2022-11-04 10:05:00, SELL CREATED --- Size: 10\n",
            "2022-11-04 10:05:00, SELL EXECUTED --- Price: 139.07, Cost: 10.00,Commission: 0.04\n",
            "2022-11-04 10:05:00, OPERATION RESULT --- Gross: 18.25, Net: 18.18\n",
            "2022-11-04 10:20:00, BUY CREATED --- Size: 10, Cash: 10092.22, Open: 139.2949981689453, Close: 140.0\n",
            "2022-11-04 10:20:00, BUY EXECUTED --- Price: 139.29, Cost: 10.00,Commission: 0.04\n",
            "2022-11-04 10:30:00, SELL CREATED --- Size: 10\n",
            "2022-11-04 10:30:00, SELL EXECUTED --- Price: 139.46, Cost: 10.00,Commission: 0.04\n",
            "2022-11-04 10:30:00, OPERATION RESULT --- Gross: 1.65, Net: 1.58\n",
            "2022-11-04 12:15:00, BUY CREATED --- Size: 10, Cash: 10093.80, Open: 135.3300018310547, Close: 136.4250030517578\n",
            "2022-11-04 12:15:00, BUY EXECUTED --- Price: 135.33, Cost: 10.00,Commission: 0.04\n",
            "2022-11-04 12:20:00, SELL CREATED --- Size: 10\n",
            "2022-11-04 12:20:00, SELL EXECUTED --- Price: 136.42, Cost: 10.00,Commission: 0.04\n",
            "2022-11-04 12:20:00, OPERATION RESULT --- Gross: 10.90, Net: 10.83\n",
            "2022-11-04 13:10:00, BUY CREATED --- Size: 10, Cash: 10104.63, Open: 134.55999755859375, Close: 135.3699951171875\n",
            "2022-11-04 13:10:00, BUY EXECUTED --- Price: 134.56, Cost: 10.00,Commission: 0.04\n",
            "2022-11-04 13:25:00, SELL CREATED --- Size: 10\n",
            "2022-11-04 13:25:00, SELL EXECUTED --- Price: 135.29, Cost: 10.00,Commission: 0.04\n",
            "2022-11-04 13:25:00, OPERATION RESULT --- Gross: 7.30, Net: 7.23\n",
            "2022-11-04 14:15:00, BUY CREATED --- Size: 10, Cash: 10111.86, Open: 134.71499633789062, Close: 135.36000061035156\n",
            "2022-11-04 14:15:00, BUY EXECUTED --- Price: 134.71, Cost: 10.00,Commission: 0.04\n",
            "2022-11-04 14:45:00, SELL CREATED --- Size: 10\n",
            "2022-11-04 14:45:00, SELL EXECUTED --- Price: 136.69, Cost: 10.00,Commission: 0.04\n",
            "2022-11-04 14:45:00, OPERATION RESULT --- Gross: 19.75, Net: 19.68\n",
            "2022-11-04 14:55:00, BUY CREATED --- Size: 10, Cash: 10131.54, Open: 136.30999755859375, Close: 136.75999450683594\n",
            "2022-11-04 14:55:00, BUY EXECUTED --- Price: 136.31, Cost: 10.00,Commission: 0.04\n",
            "2022-11-04 15:20:00, SELL CREATED --- Size: 10\n",
            "2022-11-04 15:20:00, SELL EXECUTED --- Price: 137.52, Cost: 10.00,Commission: 0.04\n",
            "2022-11-04 15:20:00, OPERATION RESULT --- Gross: 12.10, Net: 12.03\n",
            "2022-11-04 15:30:00, BUY CREATED --- Size: 10, Cash: 10143.57, Open: 137.28500366210938, Close: 137.71499633789062\n",
            "2022-11-04 15:30:00, BUY EXECUTED --- Price: 137.29, Cost: 10.00,Commission: 0.04\n",
            "2022-11-07 09:30:00, SELL CREATED --- Size: 10\n",
            "2022-11-07 09:30:00, SELL EXECUTED --- Price: 137.11, Cost: 10.00,Commission: 0.04\n",
            "2022-11-07 09:30:00, OPERATION RESULT --- Gross: -1.75, Net: -1.82\n",
            "2022-11-07 09:40:00, BUY CREATED --- Size: 10, Cash: 10141.75, Open: 135.86500549316406, Close: 136.52000427246094\n",
            "2022-11-07 09:40:00, BUY EXECUTED --- Price: 135.87, Cost: 10.00,Commission: 0.04\n",
            "2022-11-07 09:45:00, SELL CREATED --- Size: 10\n",
            "2022-11-07 09:45:00, SELL EXECUTED --- Price: 136.18, Cost: 10.00,Commission: 0.04\n",
            "2022-11-07 09:45:00, OPERATION RESULT --- Gross: 3.15, Net: 3.08\n",
            "2022-11-07 09:50:00, BUY CREATED --- Size: 10, Cash: 10144.83, Open: 135.75, Close: 136.3936004638672\n",
            "2022-11-07 09:50:00, BUY EXECUTED --- Price: 135.75, Cost: 10.00,Commission: 0.04\n",
            "2022-11-07 11:40:00, SELL CREATED --- Size: 10\n",
            "2022-11-07 11:40:00, SELL EXECUTED --- Price: 137.52, Cost: 10.00,Commission: 0.04\n",
            "2022-11-07 11:40:00, OPERATION RESULT --- Gross: 17.71, Net: 17.64\n",
            "2022-11-08 10:40:00, BUY CREATED --- Size: 10, Cash: 10162.48, Open: 138.85000610351562, Close: 139.3197021484375\n",
            "2022-11-08 10:40:00, BUY EXECUTED --- Price: 138.85, Cost: 10.00,Commission: 0.04\n",
            "2022-11-08 13:20:00, SELL CREATED --- Size: 10\n",
            "2022-11-08 13:20:00, SELL EXECUTED --- Price: 140.99, Cost: 10.00,Commission: 0.04\n",
            "2022-11-08 13:20:00, OPERATION RESULT --- Gross: 21.40, Net: 21.33\n",
            "2022-11-08 14:35:00, BUY CREATED --- Size: 10, Cash: 10183.81, Open: 137.8636016845703, Close: 138.2949981689453\n",
            "2022-11-08 14:35:00, BUY EXECUTED --- Price: 137.86, Cost: 10.00,Commission: 0.04\n",
            "2022-11-08 15:55:00, SELL CREATED --- Size: 10\n",
            "2022-11-08 15:55:00, SELL EXECUTED --- Price: 139.82, Cost: 10.00,Commission: 0.04\n",
            "2022-11-08 15:55:00, OPERATION RESULT --- Gross: 19.51, Net: 19.44\n",
            "2022-11-09 10:05:00, BUY CREATED --- Size: 10, Cash: 10203.25, Open: 137.3076934814453, Close: 137.8699951171875\n",
            "2022-11-09 10:05:00, BUY EXECUTED --- Price: 137.31, Cost: 10.00,Commission: 0.04\n",
            "2022-11-09 10:25:00, SELL CREATED --- Size: 10\n",
            "2022-11-09 10:25:00, SELL EXECUTED --- Price: 137.59, Cost: 10.00,Commission: 0.04\n",
            "2022-11-09 10:25:00, OPERATION RESULT --- Gross: 2.82, Net: 2.75\n",
            "2022-11-09 11:05:00, BUY CREATED --- Size: 10, Cash: 10206.01, Open: 136.58999633789062, Close: 136.92999267578125\n",
            "2022-11-09 11:05:00, BUY EXECUTED --- Price: 136.59, Cost: 10.00,Commission: 0.04\n",
            "2022-11-09 11:55:00, SELL CREATED --- Size: 10\n",
            "2022-11-09 11:55:00, SELL EXECUTED --- Price: 137.05, Cost: 10.00,Commission: 0.04\n",
            "2022-11-09 11:55:00, OPERATION RESULT --- Gross: 4.65, Net: 4.58\n",
            "2022-11-10 09:45:00, BUY CREATED --- Size: 10, Cash: 10210.59, Open: 140.8699951171875, Close: 142.00010681152344\n",
            "2022-11-10 09:45:00, BUY EXECUTED --- Price: 140.87, Cost: 10.00,Commission: 0.04\n",
            "2022-11-10 10:30:00, SELL CREATED --- Size: 10\n",
            "2022-11-10 10:30:00, SELL EXECUTED --- Price: 143.46, Cost: 10.00,Commission: 0.04\n",
            "2022-11-10 10:30:00, OPERATION RESULT --- Gross: 25.90, Net: 25.83\n",
            "2022-11-10 10:45:00, BUY CREATED --- Size: 10, Cash: 10236.42, Open: 142.97999572753906, Close: 143.3699951171875\n",
            "2022-11-10 10:45:00, BUY EXECUTED --- Price: 142.98, Cost: 10.00,Commission: 0.04\n",
            "2022-11-10 11:00:00, SELL CREATED --- Size: 10\n",
            "2022-11-10 11:00:00, SELL EXECUTED --- Price: 143.21, Cost: 10.00,Commission: 0.04\n",
            "2022-11-10 11:00:00, OPERATION RESULT --- Gross: 2.30, Net: 2.23\n",
            "2022-11-10 11:10:00, BUY CREATED --- Size: 10, Cash: 10238.65, Open: 142.33999633789062, Close: 142.82000732421875\n",
            "2022-11-10 11:10:00, BUY EXECUTED --- Price: 142.34, Cost: 10.00,Commission: 0.04\n",
            "2022-11-11 09:30:00, SELL CREATED --- Size: 10\n",
            "2022-11-11 09:30:00, SELL EXECUTED --- Price: 145.82, Cost: 10.00,Commission: 0.04\n",
            "2022-11-11 09:30:00, OPERATION RESULT --- Gross: 34.80, Net: 34.73\n",
            "2022-11-11 09:40:00, BUY CREATED --- Size: 10, Cash: 10273.38, Open: 144.85000610351562, Close: 145.32000732421875\n",
            "2022-11-11 09:40:00, BUY EXECUTED --- Price: 144.85, Cost: 10.00,Commission: 0.04\n",
            "2022-11-11 09:55:00, SELL CREATED --- Size: 10\n",
            "2022-11-11 09:55:00, SELL EXECUTED --- Price: 146.01, Cost: 10.00,Commission: 0.04\n",
            "2022-11-11 09:55:00, OPERATION RESULT --- Gross: 11.60, Net: 11.53\n",
            "2022-11-11 10:00:00, BUY CREATED --- Size: 10, Cash: 10284.91, Open: 145.4199981689453, Close: 145.80230712890625\n",
            "2022-11-11 10:00:00, BUY EXECUTED --- Price: 145.42, Cost: 10.00,Commission: 0.04\n",
            "2022-11-11 11:05:00, SELL CREATED --- Size: 10\n",
            "2022-11-11 11:05:00, SELL EXECUTED --- Price: 148.59, Cost: 10.00,Commission: 0.04\n",
            "2022-11-11 11:05:00, OPERATION RESULT --- Gross: 31.70, Net: 31.63\n",
            "2022-11-11 12:10:00, BUY CREATED --- Size: 10, Cash: 10316.54, Open: 147.54989624023438, Close: 148.02000427246094\n",
            "2022-11-11 12:10:00, BUY EXECUTED --- Price: 147.55, Cost: 10.00,Commission: 0.04\n",
            "2022-11-14 09:35:00, SELL CREATED --- Size: 10\n",
            "2022-11-14 09:35:00, SELL EXECUTED --- Price: 149.07, Cost: 10.00,Commission: 0.04\n",
            "2022-11-14 09:35:00, OPERATION RESULT --- Gross: 15.20, Net: 15.13\n",
            "2022-11-14 10:00:00, BUY CREATED --- Size: 10, Cash: 10331.67, Open: 147.91000366210938, Close: 148.35499572753906\n",
            "2022-11-14 10:00:00, BUY EXECUTED --- Price: 147.91, Cost: 10.00,Commission: 0.04\n",
            "2022-11-14 15:10:00, SELL CREATED --- Size: 10\n",
            "2022-11-14 15:10:00, SELL EXECUTED --- Price: 149.82, Cost: 10.00,Commission: 0.04\n",
            "2022-11-14 15:10:00, OPERATION RESULT --- Gross: 19.10, Net: 19.03\n",
            "2022-11-15 09:55:00, BUY CREATED --- Size: 10, Cash: 10350.70, Open: 151.69000244140625, Close: 152.63999938964844\n",
            "2022-11-15 09:55:00, BUY EXECUTED --- Price: 151.69, Cost: 10.00,Commission: 0.04\n",
            "2022-11-15 10:35:00, SELL CREATED --- Size: 10\n",
            "2022-11-15 10:35:00, SELL EXECUTED --- Price: 153.16, Cost: 10.00,Commission: 0.04\n",
            "2022-11-15 10:35:00, OPERATION RESULT --- Gross: 14.75, Net: 14.68\n",
            "2022-11-15 11:30:00, BUY CREATED --- Size: 10, Cash: 10365.38, Open: 152.16000366210938, Close: 152.8000030517578\n",
            "2022-11-15 11:30:00, BUY EXECUTED --- Price: 152.16, Cost: 10.00,Commission: 0.04\n",
            "2022-11-15 12:00:00, SELL CREATED --- Size: 10\n",
            "2022-11-15 12:00:00, SELL EXECUTED --- Price: 152.73, Cost: 10.00,Commission: 0.04\n",
            "2022-11-15 12:00:00, OPERATION RESULT --- Gross: 5.70, Net: 5.63\n",
            "2022-11-15 13:40:00, BUY CREATED --- Size: 10, Cash: 10371.01, Open: 149.22000122070312, Close: 149.72000122070312\n",
            "2022-11-15 13:40:00, BUY EXECUTED --- Price: 149.22, Cost: 10.00,Commission: 0.04\n",
            "2022-11-15 13:45:00, SELL CREATED --- Size: 10\n",
            "2022-11-15 13:45:00, SELL EXECUTED --- Price: 149.69, Cost: 10.00,Commission: 0.04\n",
            "2022-11-15 13:45:00, OPERATION RESULT --- Gross: 4.70, Net: 4.63\n",
            "2022-11-15 13:50:00, BUY CREATED --- Size: 10, Cash: 10375.64, Open: 149.16000366210938, Close: 149.64500427246094\n",
            "2022-11-15 13:50:00, BUY EXECUTED --- Price: 149.16, Cost: 10.00,Commission: 0.04\n",
            "2022-11-15 14:00:00, SELL CREATED --- Size: 10\n",
            "2022-11-15 14:00:00, SELL EXECUTED --- Price: 149.49, Cost: 10.00,Commission: 0.04\n",
            "2022-11-15 14:00:00, OPERATION RESULT --- Gross: 3.25, Net: 3.18\n",
            "2022-11-15 14:05:00, BUY CREATED --- Size: 10, Cash: 10378.82, Open: 148.60000610351562, Close: 149.41000366210938\n",
            "2022-11-15 14:05:00, BUY EXECUTED --- Price: 148.60, Cost: 10.00,Commission: 0.04\n",
            "2022-11-15 15:30:00, SELL CREATED --- Size: 10\n",
            "2022-11-15 15:30:00, SELL EXECUTED --- Price: 150.56, Cost: 10.00,Commission: 0.04\n",
            "2022-11-15 15:30:00, OPERATION RESULT --- Gross: 19.60, Net: 19.53\n",
            "2022-11-15 15:35:00, BUY CREATED --- Size: 10, Cash: 10398.35, Open: 149.9149932861328, Close: 150.51499938964844\n",
            "2022-11-15 15:35:00, BUY EXECUTED --- Price: 149.91, Cost: 10.00,Commission: 0.04\n",
            "2022-11-16 09:35:00, SELL CREATED --- Size: 10\n",
            "2022-11-16 09:35:00, SELL EXECUTED --- Price: 149.71, Cost: 10.00,Commission: 0.04\n",
            "2022-11-16 09:35:00, OPERATION RESULT --- Gross: -2.05, Net: -2.12\n",
            "2022-11-16 10:30:00, BUY CREATED --- Size: 10, Cash: 10396.23, Open: 148.20849609375, Close: 148.7801055908203\n",
            "2022-11-16 10:30:00, BUY EXECUTED --- Price: 148.21, Cost: 10.00,Commission: 0.04\n",
            "2022-11-16 15:55:00, SELL CREATED --- Size: 10\n",
            "2022-11-16 15:55:00, SELL EXECUTED --- Price: 149.16, Cost: 10.00,Commission: 0.04\n",
            "2022-11-16 15:55:00, OPERATION RESULT --- Gross: 9.52, Net: 9.45\n",
            "2022-11-17 09:30:00, BUY CREATED --- Size: 10, Cash: 10405.67, Open: 146.42999267578125, Close: 147.25\n",
            "2022-11-17 09:30:00, BUY EXECUTED --- Price: 146.43, Cost: 10.00,Commission: 0.04\n",
            "2022-11-18 09:30:00, SELL CREATED --- Size: 10\n",
            "2022-11-18 09:30:00, SELL EXECUTED --- Price: 152.30, Cost: 10.00,Commission: 0.04\n",
            "2022-11-18 09:30:00, OPERATION RESULT --- Gross: 58.75, Net: 58.68\n",
            "2022-11-18 10:15:00, BUY CREATED --- Size: 10, Cash: 10464.35, Open: 150.16419982910156, Close: 150.67999267578125\n",
            "2022-11-18 10:15:00, BUY EXECUTED --- Price: 150.16, Cost: 10.00,Commission: 0.04\n",
            "2022-11-18 12:15:00, SELL CREATED --- Size: 10\n",
            "2022-11-18 12:15:00, SELL EXECUTED --- Price: 151.13, Cost: 10.00,Commission: 0.04\n",
            "2022-11-18 12:15:00, OPERATION RESULT --- Gross: 9.71, Net: 9.64\n",
            "Final Portfolio Value: 10473.99\n"
          ]
        }
      ],
      "source": [
        "STARTING_CASH = 10000.0\n",
        "COMMISSION = 0.0035 \n",
        "# set margin=1 to have a fixed commission per share, else None for a percentage\n",
        "MARGIN = 1\n",
        "\n",
        "# instantiate SignalData class\n",
        "data = SignalData(dataname=df)\n",
        "# instantiate Cerebro, add strategy, data, initial cash, commission \n",
        "cerebro = bt.Cerebro(stdstats=True, cheat_on_open=True)\n",
        "cerebro.addstrategy(MyStrategy)\n",
        "cerebro.adddata(data, name=ticker)\n",
        "cerebro.broker.setcash(STARTING_CASH)\n",
        "cerebro.broker.setcommission(commission=COMMISSION, margin=MARGIN)\n",
        "# cerebro.addanalyzer(bt.analyzers.PyFolio, _name='pyfolio')\n",
        "\n",
        "# run the backtest\n",
        "print('Starting Portfolio Value: %.2f' % cerebro.broker.getvalue())\n",
        "backtest_result = cerebro.run()\n",
        "final_value = cerebro.broker.getvalue()\n",
        "print('Final Portfolio Value: %.2f' % final_value)\n"
      ]
    },
    {
      "cell_type": "markdown",
      "metadata": {
        "id": "M-naLyX1w4lJ"
      },
      "source": [
        "Compute Net Gain\n",
        "\n",
        "$$\n",
        "    net\\_gain = \\frac{price_{new} - price_{orig}}{price_{orig}}\n",
        "$$"
      ]
    },
    {
      "cell_type": "code",
      "execution_count": 11,
      "metadata": {
        "id": "p8bfiP8lw4lK",
        "outputId": "9aa7fb4d-06d3-44e9-bdce-6cfb08ae9833"
      },
      "outputs": [
        {
          "name": "stdout",
          "output_type": "stream",
          "text": [
            "Net Gain Percentage: 4.74%\n"
          ]
        }
      ],
      "source": [
        "net_gain = (final_value - STARTING_CASH)/STARTING_CASH\n",
        "print(f'Net Gain Percentage: {net_gain*100:.2f}%')"
      ]
    },
    {
      "cell_type": "code",
      "execution_count": 12,
      "metadata": {
        "id": "gIcXsKdEw4lK",
        "outputId": "61e17b9c-5ca2-4b0b-f322-544f8b3b0ae8"
      },
      "outputs": [
        {
          "data": {
            "text/plain": [
              "Text(0.5, 0.98, 'AAPL - linear model')"
            ]
          },
          "execution_count": 12,
          "metadata": {},
          "output_type": "execute_result"
        }
      ],
      "source": [
        "import matplotlib as mpl\n",
        "%matplotlib inline\n",
        "mpl.rcParams['figure.dpi'] = 105\n",
        "\n",
        "p = cerebro.plot(iplot=False)\n",
        "# p[0][0].suptitle('AAPL - linear model')"
      ]
    },
    {
      "cell_type": "code",
      "execution_count": null,
      "metadata": {},
      "outputs": [],
      "source": []
    }
  ],
  "metadata": {
    "colab": {
      "provenance": []
    },
    "kernelspec": {
      "display_name": "Python 3.9.12 ('tf')",
      "language": "python",
      "name": "python3"
    },
    "language_info": {
      "codemirror_mode": {
        "name": "ipython",
        "version": 3
      },
      "file_extension": ".py",
      "mimetype": "text/x-python",
      "name": "python",
      "nbconvert_exporter": "python",
      "pygments_lexer": "ipython3",
      "version": "3.9.12"
    },
    "orig_nbformat": 4,
    "vscode": {
      "interpreter": {
        "hash": "2b2da39daaaff30a84159e8452ba91acfc0bbd521fb66c6aa9941f847b87bd81"
      }
    }
  },
  "nbformat": 4,
  "nbformat_minor": 0
}
