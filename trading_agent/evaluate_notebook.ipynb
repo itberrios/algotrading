{
 "cells": [
  {
   "cell_type": "markdown",
   "metadata": {},
   "source": [
    "## **Backtest models on real data**\n",
    "\n",
    "This is a working notebook to backtest different models on real data.\n",
    "\n",
    "NEED MATPLOTLIB Version 3.2.2 for cerebro plotting"
   ]
  },
  {
   "cell_type": "code",
   "execution_count": 4,
   "metadata": {},
   "outputs": [],
   "source": [
    "import sys\n",
    "import os \n",
    "import yfinance as yf\n",
    "import numpy as np\n",
    "import pandas as pd\n",
    "import tensorflow as tf\n",
    "import backtrader as bt\n",
    "from datetime import datetime"
   ]
  },
  {
   "cell_type": "markdown",
   "metadata": {},
   "source": [
    "local imports"
   ]
  },
  {
   "cell_type": "code",
   "execution_count": 20,
   "metadata": {},
   "outputs": [],
   "source": [
    "sys.path.append(os.path.abspath(os.path.abspath('..')))\n",
    "sys.path.append(os.getcwd())\n",
    "\n",
    "from data_utils import *\n",
    "from Strategies import *\n",
    "from predictive_analytics.RNN.functions import transform_raw_data, last_step_accuracy, get_last_step_predictions_with_confidence\n",
    "from predictive_analytics.transformer.models.basic_transformer import TransformerModel\n"
   ]
  },
  {
   "cell_type": "markdown",
   "metadata": {},
   "source": [
    "Get trained models"
   ]
  },
  {
   "cell_type": "code",
   "execution_count": 8,
   "metadata": {},
   "outputs": [],
   "source": [
    "RNN_MODEL = \"../predictive_analytics/RNN/models/beta_1\"\n",
    "LINEAR_MODEL = \"../predictive_analytics/transformer/models/basic_linear_model_2\"\n",
    "TRANSFORMER_MODEL = \"../predictive_analytics/transformer/models/transformer_checkpoint\""
   ]
  },
  {
   "cell_type": "markdown",
   "metadata": {},
   "source": [
    "Helper functions"
   ]
  },
  {
   "cell_type": "code",
   "execution_count": 47,
   "metadata": {},
   "outputs": [],
   "source": [
    "def change_time_format(timestamp): # so that backtrader logs are correct\n",
    "    reg = \"%Y-%m-%d %H:%M:%S\"\n",
    "    time_as_str = timestamp.strftime(reg)\n",
    "    reformatted_time = datetime.strptime(time_as_str, reg)\n",
    "    return reformatted_time\n",
    "\n",
    "\n",
    "def get_predictions_with_confidence(model, X):\n",
    "    ''' used for models that only output a single target'''\n",
    "    y_pred = model.predict(X)\n",
    "    pred_labels = tf.argmax(y_pred, axis=-1).numpy()\n",
    "    probabilities = tf.reduce_max(y_pred, axis=-1).numpy()\n",
    "    return np.c_[pred_labels.reshape((-1,1)), probabilities.reshape((-1,1))]"
   ]
  },
  {
   "cell_type": "markdown",
   "metadata": {},
   "source": [
    "##### Load Model\n",
    "The model loading and inferences will be different for each model type"
   ]
  },
  {
   "cell_type": "code",
   "execution_count": 11,
   "metadata": {},
   "outputs": [],
   "source": [
    "# linear model\n",
    "model = tf.keras.models.load_model(LINEAR_MODEL, custom_objects={'mcc_metric' : mcc_metric})"
   ]
  },
  {
   "cell_type": "code",
   "execution_count": 19,
   "metadata": {},
   "outputs": [
    {
     "name": "stdout",
     "output_type": "stream",
     "text": [
      "WARNING:tensorflow:SavedModel saved prior to TF 2.5 detected when loading Keras model. Please ensure that you are saving the model with model.save() or tf.keras.models.save_model(), *NOT* tf.saved_model.save(). To confirm, there should be a file named \"keras_metadata.pb\" in the SavedModel directory.\n"
     ]
    }
   ],
   "source": [
    "# RNN\n",
    "model = tf.keras.models.load_model(RNN_MODEL, custom_objects={'last_step_accuracy': last_step_accuracy})\n"
   ]
  },
  {
   "cell_type": "code",
   "execution_count": 48,
   "metadata": {},
   "outputs": [],
   "source": [
    "from tensorflow_addons.layers import multihead_attention\n",
    "\n",
    "custom_objects={\n",
    "    'MultiHeadAttention' : multihead_attention.MultiHeadAttention,\n",
    "    'TransformerModel' : TransformerModel,\n",
    "    'mcc_metric' : mcc_metric}\n",
    "\n",
    "model = tf.keras.models.load_model(TRANSFORMER_MODEL,\n",
    "                                   custom_objects=custom_objects)"
   ]
  },
  {
   "cell_type": "markdown",
   "metadata": {},
   "source": [
    "Load Transformer"
   ]
  },
  {
   "cell_type": "markdown",
   "metadata": {},
   "source": [
    "#### Get stock data"
   ]
  },
  {
   "cell_type": "code",
   "execution_count": 49,
   "metadata": {},
   "outputs": [],
   "source": [
    "ticker = 'TSLA'\n",
    "START_DATE = '2022-11-1'\n",
    "END_DATE = '2022-11-20'\n",
    "\n",
    "EVAL_RANGE=24\n",
    "PREDICT_RANGE=3\n",
    "INTERVAL = 5"
   ]
  },
  {
   "cell_type": "code",
   "execution_count": 50,
   "metadata": {},
   "outputs": [],
   "source": [
    "# for normalization\n",
    "train_means = np.load('../data/transformed/{}min/{}_train_means.npy'.format(INTERVAL, ticker))\n",
    "train_stds = np.load('../data/transformed/{}min/{}_train_stds.npy'.format(INTERVAL, ticker))\n",
    "\n",
    "# get stock data\n",
    "tickerData = yf.Ticker(ticker)\n",
    "df = tickerData.history(interval=\"{}m\".format(INTERVAL),  start=START_DATE, end=END_DATE)\n",
    "df = df.reset_index().rename({'Datetime':'Time'}, axis=1)\n",
    "\n",
    "# transform\n",
    "data, targets, time_stamps = transform_raw_data(df, INTERVAL, EVAL_RANGE=24, \n",
    "                                      PREDICT_RANGE=3, NO_CHANGE_THRESHOLD=0.01,\n",
    "                                      TRAIN_RATIO=None, train_means=train_means,\n",
    "                                      train_stds=train_stds)"
   ]
  },
  {
   "cell_type": "markdown",
   "metadata": {},
   "source": [
    "#### Get Predictions\n",
    "Inferences will be different for each model type"
   ]
  },
  {
   "cell_type": "code",
   "execution_count": 14,
   "metadata": {},
   "outputs": [
    {
     "name": "stdout",
     "output_type": "stream",
     "text": [
      "34/34 [==============================] - 1s 849us/step\n"
     ]
    }
   ],
   "source": [
    "# linear\n",
    "y_pred = get_predictions_with_confidence(model, data[:, -1, :])"
   ]
  },
  {
   "cell_type": "code",
   "execution_count": 53,
   "metadata": {},
   "outputs": [
    {
     "name": "stdout",
     "output_type": "stream",
     "text": [
      "34/34 [==============================] - 0s 14ms/step\n"
     ]
    }
   ],
   "source": [
    "# RNN\n",
    "y_pred = get_last_step_predictions_with_confidence(model, data)"
   ]
  },
  {
   "cell_type": "code",
   "execution_count": 52,
   "metadata": {},
   "outputs": [
    {
     "name": "stdout",
     "output_type": "stream",
     "text": [
      "34/34 [==============================] - 0s 10ms/step\n"
     ]
    }
   ],
   "source": [
    "# Transformer\n",
    "y_pred = get_predictions_with_confidence(model, data)"
   ]
  },
  {
   "cell_type": "code",
   "execution_count": 78,
   "metadata": {},
   "outputs": [
    {
     "data": {
      "text/plain": [
       "array([[1.        , 0.59651297],\n",
       "       [2.        , 0.75608945],\n",
       "       [0.        , 0.72969216],\n",
       "       ...,\n",
       "       [2.        , 0.84498638],\n",
       "       [2.        , 0.82757694],\n",
       "       [2.        , 0.89306724]])"
      ]
     },
     "execution_count": 78,
     "metadata": {},
     "output_type": "execute_result"
    }
   ],
   "source": [
    "y_pred"
   ]
  },
  {
   "cell_type": "markdown",
   "metadata": {},
   "source": [
    "#### Prepare for Backtrade analysis"
   ]
  },
  {
   "cell_type": "code",
   "execution_count": 53,
   "metadata": {},
   "outputs": [],
   "source": [
    "# supress setting with copy warning\n",
    "# https://stackoverflow.com/questions/20625582/how-to-deal-with-settingwithcopywarning-in-pandas\n",
    "pd.options.mode.chained_assignment = None\n",
    "\n",
    "# create data file for backtrade\n",
    "df = df.loc[EVAL_RANGE-1:df.shape[0]-PREDICT_RANGE-1] # data points with labels\n",
    "df.drop(['Dividends','Stock Splits'], axis=1, inplace=True)\n",
    "df.rename(columns = {'Open':'open','High':'high','Low':'low','Adj Close':'close','Volume':'volume',\n",
    "                         }, inplace=True)\n",
    "df[['prediction','confidence']] = y_pred\n",
    "df['Time'] = df['Time'].apply(change_time_format)\n",
    "df.set_index('Time', inplace=True)\n",
    "\n",
    "\n",
    "# return setting with copy warning to default \n",
    "pd.options.mode.chained_assignment = 'warn'"
   ]
  },
  {
   "cell_type": "code",
   "execution_count": 54,
   "metadata": {},
   "outputs": [
    {
     "data": {
      "text/html": [
       "<div>\n",
       "<style scoped>\n",
       "    .dataframe tbody tr th:only-of-type {\n",
       "        vertical-align: middle;\n",
       "    }\n",
       "\n",
       "    .dataframe tbody tr th {\n",
       "        vertical-align: top;\n",
       "    }\n",
       "\n",
       "    .dataframe thead th {\n",
       "        text-align: right;\n",
       "    }\n",
       "</style>\n",
       "<table border=\"1\" class=\"dataframe\">\n",
       "  <thead>\n",
       "    <tr style=\"text-align: right;\">\n",
       "      <th></th>\n",
       "      <th>open</th>\n",
       "      <th>high</th>\n",
       "      <th>low</th>\n",
       "      <th>Close</th>\n",
       "      <th>volume</th>\n",
       "      <th>prediction</th>\n",
       "      <th>confidence</th>\n",
       "    </tr>\n",
       "    <tr>\n",
       "      <th>Time</th>\n",
       "      <th></th>\n",
       "      <th></th>\n",
       "      <th></th>\n",
       "      <th></th>\n",
       "      <th></th>\n",
       "      <th></th>\n",
       "      <th></th>\n",
       "    </tr>\n",
       "  </thead>\n",
       "  <tbody>\n",
       "    <tr>\n",
       "      <th>2022-11-01 11:25:00</th>\n",
       "      <td>229.350006</td>\n",
       "      <td>230.000000</td>\n",
       "      <td>229.000000</td>\n",
       "      <td>229.880005</td>\n",
       "      <td>692651</td>\n",
       "      <td>1.0</td>\n",
       "      <td>0.596513</td>\n",
       "    </tr>\n",
       "    <tr>\n",
       "      <th>2022-11-01 11:30:00</th>\n",
       "      <td>229.869995</td>\n",
       "      <td>230.389999</td>\n",
       "      <td>229.210007</td>\n",
       "      <td>229.750000</td>\n",
       "      <td>581693</td>\n",
       "      <td>2.0</td>\n",
       "      <td>0.756089</td>\n",
       "    </tr>\n",
       "    <tr>\n",
       "      <th>2022-11-01 11:35:00</th>\n",
       "      <td>229.738602</td>\n",
       "      <td>230.089996</td>\n",
       "      <td>228.309998</td>\n",
       "      <td>228.748993</td>\n",
       "      <td>684823</td>\n",
       "      <td>0.0</td>\n",
       "      <td>0.729692</td>\n",
       "    </tr>\n",
       "    <tr>\n",
       "      <th>2022-11-01 11:40:00</th>\n",
       "      <td>228.679993</td>\n",
       "      <td>229.019897</td>\n",
       "      <td>228.100006</td>\n",
       "      <td>228.199905</td>\n",
       "      <td>710022</td>\n",
       "      <td>2.0</td>\n",
       "      <td>0.674045</td>\n",
       "    </tr>\n",
       "    <tr>\n",
       "      <th>2022-11-01 11:45:00</th>\n",
       "      <td>228.169998</td>\n",
       "      <td>229.000000</td>\n",
       "      <td>228.009995</td>\n",
       "      <td>228.598297</td>\n",
       "      <td>538755</td>\n",
       "      <td>2.0</td>\n",
       "      <td>0.551132</td>\n",
       "    </tr>\n",
       "  </tbody>\n",
       "</table>\n",
       "</div>"
      ],
      "text/plain": [
       "                           open        high         low       Close  volume  \\\n",
       "Time                                                                          \n",
       "2022-11-01 11:25:00  229.350006  230.000000  229.000000  229.880005  692651   \n",
       "2022-11-01 11:30:00  229.869995  230.389999  229.210007  229.750000  581693   \n",
       "2022-11-01 11:35:00  229.738602  230.089996  228.309998  228.748993  684823   \n",
       "2022-11-01 11:40:00  228.679993  229.019897  228.100006  228.199905  710022   \n",
       "2022-11-01 11:45:00  228.169998  229.000000  228.009995  228.598297  538755   \n",
       "\n",
       "                     prediction  confidence  \n",
       "Time                                         \n",
       "2022-11-01 11:25:00         1.0    0.596513  \n",
       "2022-11-01 11:30:00         2.0    0.756089  \n",
       "2022-11-01 11:35:00         0.0    0.729692  \n",
       "2022-11-01 11:40:00         2.0    0.674045  \n",
       "2022-11-01 11:45:00         2.0    0.551132  "
      ]
     },
     "execution_count": 54,
     "metadata": {},
     "output_type": "execute_result"
    }
   ],
   "source": [
    "df.head()"
   ]
  },
  {
   "cell_type": "markdown",
   "metadata": {},
   "source": [
    "#### Perform Backtrade Analysis"
   ]
  },
  {
   "cell_type": "code",
   "execution_count": 77,
   "metadata": {},
   "outputs": [
    {
     "name": "stdout",
     "output_type": "stream",
     "text": [
      "Starting Portfolio Value: 10000.00\n",
      "2022-11-02 09:40:00, BUY CREATED --- Size: 10, Cash: 10000.00, Open: 225.08999633789062, Close: 226.0500030517578\n",
      "2022-11-02 09:40:00, BUY EXECUTED --- Price: 225.09, Cost: 2250.90,Commission: 0.00\n",
      "2022-11-02 10:05:00, SELL CREATED --- Size: 10\n",
      "2022-11-02 10:05:00, SELL EXECUTED --- Price: 227.30, Cost: 2250.90,Commission: 0.00\n",
      "2022-11-02 10:05:00, OPERATION RESULT --- Gross: 22.10, Net: 22.10\n",
      "2022-11-02 14:00:00, BUY CREATED --- Size: 10, Cash: 10022.10, Open: 221.88999938964844, Close: 226.55999755859375\n",
      "2022-11-02 14:00:00, BUY EXECUTED --- Price: 221.89, Cost: 2218.90,Commission: 0.00\n",
      "2022-11-02 14:05:00, SELL CREATED --- Size: 10\n",
      "2022-11-02 14:05:00, SELL EXECUTED --- Price: 226.50, Cost: 2218.90,Commission: 0.00\n",
      "2022-11-02 14:05:00, OPERATION RESULT --- Gross: 46.07, Net: 46.07\n",
      "2022-11-02 14:25:00, BUY CREATED --- Size: 10, Cash: 10068.17, Open: 224.89999389648438, Close: 226.375\n",
      "2022-11-02 14:25:00, BUY EXECUTED --- Price: 224.90, Cost: 2249.00,Commission: 0.00\n",
      "2022-11-02 14:30:00, SELL CREATED --- Size: 10\n",
      "2022-11-02 14:30:00, SELL EXECUTED --- Price: 226.38, Cost: 2249.00,Commission: 0.00\n",
      "2022-11-02 14:30:00, OPERATION RESULT --- Gross: 14.80, Net: 14.80\n",
      "2022-11-02 15:05:00, BUY CREATED --- Size: 10, Cash: 10082.97, Open: 219.25, Close: 221.02999877929688\n",
      "2022-11-02 15:05:00, BUY EXECUTED --- Price: 219.25, Cost: 2192.50,Commission: 0.00\n",
      "2022-11-02 15:10:00, SELL CREATED --- Size: 10\n",
      "2022-11-02 15:10:00, SELL EXECUTED --- Price: 221.02, Cost: 2192.50,Commission: 0.00\n",
      "2022-11-02 15:10:00, OPERATION RESULT --- Gross: 17.70, Net: 17.70\n",
      "2022-11-03 09:30:00, BUY CREATED --- Size: 10, Cash: 10100.67, Open: 211.36000061035156, Close: 215.75999450683594\n",
      "2022-11-03 09:30:00, BUY EXECUTED --- Price: 211.36, Cost: 2113.60,Commission: 0.00\n",
      "2022-11-03 09:55:00, SELL CREATED --- Size: 10\n",
      "2022-11-03 09:55:00, SELL EXECUTED --- Price: 216.18, Cost: 2113.60,Commission: 0.00\n",
      "2022-11-03 09:55:00, OPERATION RESULT --- Gross: 48.20, Net: 48.20\n",
      "2022-11-03 10:00:00, BUY CREATED --- Size: 10, Cash: 10148.87, Open: 215.27999877929688, Close: 217.5800018310547\n",
      "2022-11-03 10:00:00, BUY EXECUTED --- Price: 215.28, Cost: 2152.80,Commission: 0.00\n",
      "2022-11-03 10:05:00, SELL CREATED --- Size: 10\n",
      "2022-11-03 10:05:00, SELL EXECUTED --- Price: 217.60, Cost: 2152.80,Commission: 0.00\n",
      "2022-11-03 10:05:00, OPERATION RESULT --- Gross: 23.25, Net: 23.25\n",
      "2022-11-03 10:10:00, BUY CREATED --- Size: 10, Cash: 10172.12, Open: 216.4199981689453, Close: 218.3300018310547\n",
      "2022-11-03 10:10:00, BUY EXECUTED --- Price: 216.42, Cost: 2164.20,Commission: 0.00\n",
      "2022-11-03 10:30:00, SELL CREATED --- Size: 10\n",
      "2022-11-03 10:30:00, SELL EXECUTED --- Price: 218.88, Cost: 2164.20,Commission: 0.00\n",
      "2022-11-03 10:30:00, OPERATION RESULT --- Gross: 24.60, Net: 24.60\n",
      "2022-11-03 10:35:00, BUY CREATED --- Size: 10, Cash: 10196.72, Open: 217.82000732421875, Close: 219.2946014404297\n",
      "2022-11-03 10:35:00, BUY EXECUTED --- Price: 217.82, Cost: 2178.20,Commission: 0.00\n",
      "2022-11-03 10:50:00, SELL CREATED --- Size: 10\n",
      "2022-11-03 10:50:00, SELL EXECUTED --- Price: 220.46, Cost: 2178.20,Commission: 0.00\n",
      "2022-11-03 10:50:00, OPERATION RESULT --- Gross: 26.41, Net: 26.41\n",
      "2022-11-03 12:40:00, BUY CREATED --- Size: 10, Cash: 10223.12, Open: 215.02999877929688, Close: 216.1717987060547\n",
      "2022-11-03 12:40:00, BUY EXECUTED --- Price: 215.03, Cost: 2150.30,Commission: 0.00\n",
      "2022-11-04 09:30:00, SELL CREATED --- Size: 10\n",
      "2022-11-04 09:30:00, SELL EXECUTED --- Price: 222.60, Cost: 2150.30,Commission: 0.00\n",
      "2022-11-04 09:30:00, OPERATION RESULT --- Gross: 75.70, Net: 75.70\n",
      "2022-11-04 09:45:00, BUY CREATED --- Size: 10, Cash: 10298.82, Open: 217.0, Close: 217.8800048828125\n",
      "2022-11-04 09:45:00, BUY EXECUTED --- Price: 217.00, Cost: 2170.00,Commission: 0.00\n",
      "2022-11-04 10:00:00, SELL CREATED --- Size: 10\n",
      "2022-11-04 10:00:00, SELL EXECUTED --- Price: 220.28, Cost: 2170.00,Commission: 0.00\n",
      "2022-11-04 10:00:00, OPERATION RESULT --- Gross: 32.80, Net: 32.80\n",
      "2022-11-04 10:05:00, BUY CREATED --- Size: 10, Cash: 10331.62, Open: 219.0449981689453, Close: 219.85000610351562\n",
      "2022-11-04 10:05:00, BUY EXECUTED --- Price: 219.04, Cost: 2190.45,Commission: 0.00\n",
      "2022-11-04 10:50:00, SELL CREATED --- Size: 10\n",
      "2022-11-04 10:50:00, SELL EXECUTED --- Price: 222.99, Cost: 2190.45,Commission: 0.00\n",
      "2022-11-04 10:50:00, OPERATION RESULT --- Gross: 39.45, Net: 39.45\n",
      "2022-11-04 12:05:00, BUY CREATED --- Size: 10, Cash: 10371.07, Open: 210.69500732421875, Close: 211.49989318847656\n",
      "2022-11-04 12:05:00, BUY EXECUTED --- Price: 210.70, Cost: 2106.95,Commission: 0.00\n",
      "2022-11-04 12:10:00, SELL CREATED --- Size: 10\n",
      "2022-11-04 12:10:00, SELL EXECUTED --- Price: 211.46, Cost: 2106.95,Commission: 0.00\n",
      "2022-11-04 12:10:00, OPERATION RESULT --- Gross: 7.70, Net: 7.70\n",
      "2022-11-04 12:50:00, BUY CREATED --- Size: 10, Cash: 10378.77, Open: 205.5800018310547, Close: 206.1300048828125\n",
      "2022-11-04 12:50:00, BUY EXECUTED --- Price: 205.58, Cost: 2055.80,Commission: 0.00\n",
      "2022-11-04 12:55:00, SELL CREATED --- Size: 10\n",
      "2022-11-04 12:55:00, SELL EXECUTED --- Price: 206.11, Cost: 2055.80,Commission: 0.00\n",
      "2022-11-04 12:55:00, OPERATION RESULT --- Gross: 5.30, Net: 5.30\n",
      "2022-11-04 13:00:00, BUY CREATED --- Size: 10, Cash: 10384.07, Open: 204.47470092773438, Close: 205.0\n",
      "2022-11-04 13:00:00, BUY EXECUTED --- Price: 204.47, Cost: 2044.75,Commission: 0.00\n",
      "2022-11-04 13:05:00, SELL CREATED --- Size: 10\n",
      "2022-11-04 13:05:00, SELL EXECUTED --- Price: 205.00, Cost: 2044.75,Commission: 0.00\n",
      "2022-11-04 13:05:00, OPERATION RESULT --- Gross: 5.25, Net: 5.25\n",
      "2022-11-04 13:10:00, BUY CREATED --- Size: 10, Cash: 10389.32, Open: 203.33999633789062, Close: 204.75\n",
      "2022-11-04 13:10:00, BUY EXECUTED --- Price: 203.34, Cost: 2033.40,Commission: 0.00\n",
      "2022-11-04 14:45:00, SELL CREATED --- Size: 10\n",
      "2022-11-04 14:45:00, SELL EXECUTED --- Price: 206.95, Cost: 2033.40,Commission: 0.00\n",
      "2022-11-04 14:45:00, OPERATION RESULT --- Gross: 36.10, Net: 36.10\n",
      "2022-11-04 15:05:00, BUY CREATED --- Size: 10, Cash: 10425.42, Open: 206.60000610351562, Close: 207.6999969482422\n",
      "2022-11-04 15:05:00, BUY EXECUTED --- Price: 206.60, Cost: 2066.00,Commission: 0.00\n",
      "2022-11-04 15:20:00, SELL CREATED --- Size: 10\n",
      "2022-11-04 15:20:00, SELL EXECUTED --- Price: 207.54, Cost: 2066.00,Commission: 0.00\n",
      "2022-11-04 15:20:00, OPERATION RESULT --- Gross: 9.44, Net: 9.44\n",
      "2022-11-04 15:55:00, BUY CREATED --- Size: 10, Cash: 10434.86, Open: 206.42999267578125, Close: 207.47999572753906\n",
      "2022-11-04 15:55:00, BUY EXECUTED --- Price: 206.43, Cost: 2064.30,Commission: 0.00\n",
      "2022-11-07 09:30:00, SELL CREATED --- Size: 10\n",
      "2022-11-07 09:30:00, SELL EXECUTED --- Price: 208.65, Cost: 2064.30,Commission: 0.00\n",
      "2022-11-07 09:30:00, OPERATION RESULT --- Gross: 22.20, Net: 22.20\n",
      "2022-11-07 09:55:00, BUY CREATED --- Size: 10, Cash: 10457.06, Open: 201.49000549316406, Close: 202.41000366210938\n",
      "2022-11-07 09:55:00, BUY EXECUTED --- Price: 201.49, Cost: 2014.90,Commission: 0.00\n",
      "2022-11-07 10:05:00, SELL CREATED --- Size: 10\n",
      "2022-11-07 10:05:00, SELL EXECUTED --- Price: 203.44, Cost: 2014.90,Commission: 0.00\n",
      "2022-11-07 10:05:00, OPERATION RESULT --- Gross: 19.47, Net: 19.47\n",
      "2022-11-07 11:25:00, BUY CREATED --- Size: 10, Cash: 10476.53, Open: 198.17999267578125, Close: 199.83999633789062\n",
      "2022-11-07 11:25:00, BUY EXECUTED --- Price: 198.18, Cost: 1981.80,Commission: 0.00\n",
      "2022-11-07 11:35:00, SELL CREATED --- Size: 10\n",
      "2022-11-07 11:35:00, SELL EXECUTED --- Price: 200.24, Cost: 1981.80,Commission: 0.00\n",
      "2022-11-07 11:35:00, OPERATION RESULT --- Gross: 20.60, Net: 20.60\n",
      "2022-11-07 11:45:00, BUY CREATED --- Size: 10, Cash: 10497.13, Open: 197.14999389648438, Close: 197.96499633789062\n",
      "2022-11-07 11:45:00, BUY EXECUTED --- Price: 197.15, Cost: 1971.50,Commission: 0.00\n",
      "2022-11-07 13:20:00, SELL CREATED --- Size: 10\n",
      "2022-11-07 13:20:00, SELL EXECUTED --- Price: 199.17, Cost: 1971.50,Commission: 0.00\n",
      "2022-11-07 13:20:00, OPERATION RESULT --- Gross: 20.20, Net: 20.20\n",
      "2022-11-08 09:50:00, BUY CREATED --- Size: 10, Cash: 10517.33, Open: 187.94000244140625, Close: 190.02000427246094\n",
      "2022-11-08 09:50:00, BUY EXECUTED --- Price: 187.94, Cost: 1879.40,Commission: 0.00\n",
      "2022-11-08 09:55:00, SELL CREATED --- Size: 10\n",
      "2022-11-08 09:55:00, SELL EXECUTED --- Price: 190.02, Cost: 1879.40,Commission: 0.00\n",
      "2022-11-08 09:55:00, OPERATION RESULT --- Gross: 20.80, Net: 20.80\n",
      "2022-11-08 10:25:00, BUY CREATED --- Size: 10, Cash: 10538.13, Open: 187.4600067138672, Close: 188.98959350585938\n",
      "2022-11-08 10:25:00, BUY EXECUTED --- Price: 187.46, Cost: 1874.60,Commission: 0.00\n",
      "2022-11-08 10:40:00, SELL CREATED --- Size: 10\n",
      "2022-11-08 10:40:00, SELL EXECUTED --- Price: 188.91, Cost: 1874.60,Commission: 0.00\n",
      "2022-11-08 10:40:00, OPERATION RESULT --- Gross: 14.50, Net: 14.50\n",
      "2022-11-08 10:55:00, BUY CREATED --- Size: 10, Cash: 10552.63, Open: 189.5200958251953, Close: 190.42999267578125\n",
      "2022-11-08 10:55:00, BUY EXECUTED --- Price: 189.52, Cost: 1895.20,Commission: 0.00\n",
      "2022-11-08 11:45:00, SELL CREATED --- Size: 10\n",
      "2022-11-08 11:45:00, SELL EXECUTED --- Price: 193.93, Cost: 1895.20,Commission: 0.00\n",
      "2022-11-08 11:45:00, OPERATION RESULT --- Gross: 44.10, Net: 44.10\n",
      "2022-11-08 12:25:00, BUY CREATED --- Size: 10, Cash: 10596.73, Open: 193.03460693359375, Close: 194.25999450683594\n",
      "2022-11-08 12:25:00, BUY EXECUTED --- Price: 193.03, Cost: 1930.35,Commission: 0.00\n",
      "2022-11-08 13:15:00, SELL CREATED --- Size: 10\n",
      "2022-11-08 13:15:00, SELL EXECUTED --- Price: 194.71, Cost: 1930.35,Commission: 0.00\n",
      "2022-11-08 13:15:00, OPERATION RESULT --- Gross: 16.75, Net: 16.75\n",
      "2022-11-08 14:45:00, BUY CREATED --- Size: 10, Cash: 10613.49, Open: 190.32000732421875, Close: 191.42950439453125\n",
      "2022-11-08 14:45:00, BUY EXECUTED --- Price: 190.32, Cost: 1903.20,Commission: 0.00\n",
      "2022-11-08 14:55:00, SELL CREATED --- Size: 10\n",
      "2022-11-08 14:55:00, SELL EXECUTED --- Price: 191.76, Cost: 1903.20,Commission: 0.00\n",
      "2022-11-08 14:55:00, OPERATION RESULT --- Gross: 14.45, Net: 14.45\n",
      "2022-11-09 09:35:00, BUY CREATED --- Size: 10, Cash: 10627.94, Open: 187.81500244140625, Close: 194.5\n",
      "2022-11-09 09:35:00, BUY EXECUTED --- Price: 187.82, Cost: 1878.15,Commission: 0.00\n",
      "2022-11-09 09:45:00, SELL CREATED --- Size: 10\n",
      "2022-11-09 09:45:00, SELL EXECUTED --- Price: 193.67, Cost: 1878.15,Commission: 0.00\n",
      "2022-11-09 09:45:00, OPERATION RESULT --- Gross: 58.55, Net: 58.55\n",
      "2022-11-09 09:55:00, BUY CREATED --- Size: 10, Cash: 10686.49, Open: 189.75509643554688, Close: 190.85499572753906\n",
      "2022-11-09 09:55:00, BUY EXECUTED --- Price: 189.76, Cost: 1897.55,Commission: 0.00\n",
      "2022-11-09 10:10:00, SELL CREATED --- Size: 10\n",
      "2022-11-09 10:10:00, SELL EXECUTED --- Price: 193.06, Cost: 1897.55,Commission: 0.00\n",
      "2022-11-09 10:10:00, OPERATION RESULT --- Gross: 33.10, Net: 33.10\n",
      "2022-11-09 11:40:00, BUY CREATED --- Size: 10, Cash: 10719.58, Open: 186.76499938964844, Close: 187.91000366210938\n",
      "2022-11-09 11:40:00, BUY EXECUTED --- Price: 186.76, Cost: 1867.65,Commission: 0.00\n",
      "2022-11-09 12:05:00, SELL CREATED --- Size: 10\n",
      "2022-11-09 12:05:00, SELL EXECUTED --- Price: 187.29, Cost: 1867.65,Commission: 0.00\n",
      "2022-11-09 12:05:00, OPERATION RESULT --- Gross: 5.25, Net: 5.25\n",
      "2022-11-09 13:40:00, BUY CREATED --- Size: 10, Cash: 10724.83, Open: 179.34849548339844, Close: 180.14999389648438\n",
      "2022-11-09 13:40:00, BUY EXECUTED --- Price: 179.35, Cost: 1793.48,Commission: 0.00\n",
      "2022-11-09 13:45:00, SELL CREATED --- Size: 10\n",
      "2022-11-09 13:45:00, SELL EXECUTED --- Price: 180.17, Cost: 1793.48,Commission: 0.00\n",
      "2022-11-09 13:45:00, OPERATION RESULT --- Gross: 8.22, Net: 8.22\n",
      "2022-11-09 14:00:00, BUY CREATED --- Size: 10, Cash: 10733.05, Open: 179.13999938964844, Close: 179.80999755859375\n",
      "2022-11-09 14:00:00, BUY EXECUTED --- Price: 179.14, Cost: 1791.40,Commission: 0.00\n",
      "2022-11-09 14:30:00, SELL CREATED --- Size: 10\n",
      "2022-11-09 14:30:00, SELL EXECUTED --- Price: 181.55, Cost: 1791.40,Commission: 0.00\n",
      "2022-11-09 14:30:00, OPERATION RESULT --- Gross: 24.10, Net: 24.10\n",
      "2022-11-09 15:30:00, BUY CREATED --- Size: 10, Cash: 10757.15, Open: 180.02000427246094, Close: 180.918701171875\n",
      "2022-11-09 15:30:00, BUY EXECUTED --- Price: 180.02, Cost: 1800.20,Commission: 0.00\n",
      "2022-11-09 15:35:00, SELL CREATED --- Size: 10\n",
      "2022-11-09 15:35:00, SELL EXECUTED --- Price: 180.89, Cost: 1800.20,Commission: 0.00\n",
      "2022-11-09 15:35:00, OPERATION RESULT --- Gross: 8.70, Net: 8.70\n",
      "2022-11-10 09:45:00, BUY CREATED --- Size: 10, Cash: 10765.85, Open: 180.1699981689453, Close: 187.31500244140625\n",
      "2022-11-10 09:45:00, BUY EXECUTED --- Price: 180.17, Cost: 1801.70,Commission: 0.00\n",
      "2022-11-10 10:00:00, SELL CREATED --- Size: 10\n",
      "2022-11-10 10:00:00, SELL EXECUTED --- Price: 187.93, Cost: 1801.70,Commission: 0.00\n",
      "2022-11-10 10:00:00, OPERATION RESULT --- Gross: 77.60, Net: 77.60\n",
      "2022-11-10 10:05:00, BUY CREATED --- Size: 10, Cash: 10843.45, Open: 185.60000610351562, Close: 189.0800018310547\n",
      "2022-11-10 10:05:00, BUY EXECUTED --- Price: 185.60, Cost: 1856.00,Commission: 0.00\n",
      "2022-11-10 10:30:00, SELL CREATED --- Size: 10\n",
      "2022-11-10 10:30:00, SELL EXECUTED --- Price: 188.49, Cost: 1856.00,Commission: 0.00\n",
      "2022-11-10 10:30:00, OPERATION RESULT --- Gross: 28.90, Net: 28.90\n",
      "2022-11-10 10:40:00, BUY CREATED --- Size: 10, Cash: 10872.35, Open: 185.72000122070312, Close: 187.6699981689453\n",
      "2022-11-10 10:40:00, BUY EXECUTED --- Price: 185.72, Cost: 1857.20,Commission: 0.00\n",
      "2022-11-10 11:00:00, SELL CREATED --- Size: 10\n",
      "2022-11-10 11:00:00, SELL EXECUTED --- Price: 188.49, Cost: 1857.20,Commission: 0.00\n",
      "2022-11-10 11:00:00, OPERATION RESULT --- Gross: 27.75, Net: 27.75\n",
      "2022-11-10 11:10:00, BUY CREATED --- Size: 10, Cash: 10900.10, Open: 186.24000549316406, Close: 187.94000244140625\n",
      "2022-11-10 11:10:00, BUY EXECUTED --- Price: 186.24, Cost: 1862.40,Commission: 0.00\n",
      "2022-11-10 11:55:00, SELL CREATED --- Size: 10\n",
      "2022-11-10 11:55:00, SELL EXECUTED --- Price: 190.96, Cost: 1862.40,Commission: 0.00\n",
      "2022-11-10 11:55:00, OPERATION RESULT --- Gross: 47.20, Net: 47.20\n",
      "2022-11-10 15:05:00, BUY CREATED --- Size: 10, Cash: 10947.30, Open: 185.389892578125, Close: 186.58999633789062\n",
      "2022-11-10 15:05:00, BUY EXECUTED --- Price: 185.39, Cost: 1853.90,Commission: 0.00\n",
      "2022-11-11 09:30:00, SELL CREATED --- Size: 10\n",
      "2022-11-11 09:30:00, SELL EXECUTED --- Price: 186.00, Cost: 1853.90,Commission: 0.00\n",
      "2022-11-11 09:30:00, OPERATION RESULT --- Gross: 6.10, Net: 6.10\n",
      "2022-11-11 09:45:00, BUY CREATED --- Size: 10, Cash: 10953.40, Open: 183.92999267578125, Close: 185.49000549316406\n",
      "2022-11-11 09:45:00, BUY EXECUTED --- Price: 183.93, Cost: 1839.30,Commission: 0.00\n",
      "2022-11-11 09:55:00, SELL CREATED --- Size: 10\n",
      "2022-11-11 09:55:00, SELL EXECUTED --- Price: 185.65, Cost: 1839.30,Commission: 0.00\n",
      "2022-11-11 09:55:00, OPERATION RESULT --- Gross: 17.25, Net: 17.25\n",
      "2022-11-11 10:05:00, BUY CREATED --- Size: 10, Cash: 10970.65, Open: 185.3800048828125, Close: 187.2292022705078\n",
      "2022-11-11 10:05:00, BUY EXECUTED --- Price: 185.38, Cost: 1853.80,Commission: 0.00\n",
      "2022-11-11 10:30:00, SELL CREATED --- Size: 10\n",
      "2022-11-11 10:30:00, SELL EXECUTED --- Price: 192.48, Cost: 1853.80,Commission: 0.00\n",
      "2022-11-11 10:30:00, OPERATION RESULT --- Gross: 71.00, Net: 71.00\n",
      "2022-11-11 11:00:00, BUY CREATED --- Size: 10, Cash: 11041.64, Open: 189.69000244140625, Close: 191.52000427246094\n",
      "2022-11-11 11:00:00, BUY EXECUTED --- Price: 189.69, Cost: 1896.90,Commission: 0.00\n",
      "2022-11-11 11:05:00, SELL CREATED --- Size: 10\n",
      "2022-11-11 11:05:00, SELL EXECUTED --- Price: 191.51, Cost: 1896.90,Commission: 0.00\n",
      "2022-11-11 11:05:00, OPERATION RESULT --- Gross: 18.20, Net: 18.20\n",
      "2022-11-11 11:45:00, BUY CREATED --- Size: 10, Cash: 11059.84, Open: 189.4499969482422, Close: 190.41000366210938\n",
      "2022-11-11 11:45:00, BUY EXECUTED --- Price: 189.45, Cost: 1894.50,Commission: 0.00\n",
      "2022-11-11 12:30:00, SELL CREATED --- Size: 10\n",
      "2022-11-11 12:30:00, SELL EXECUTED --- Price: 191.76, Cost: 1894.50,Commission: 0.00\n",
      "2022-11-11 12:30:00, OPERATION RESULT --- Gross: 23.11, Net: 23.11\n",
      "2022-11-11 13:00:00, BUY CREATED --- Size: 10, Cash: 11082.96, Open: 192.5500030517578, Close: 193.91000366210938\n",
      "2022-11-11 13:00:00, BUY EXECUTED --- Price: 192.55, Cost: 1925.50,Commission: 0.00\n",
      "2022-11-11 13:35:00, SELL CREATED --- Size: 10\n",
      "2022-11-11 13:35:00, SELL EXECUTED --- Price: 195.71, Cost: 1925.50,Commission: 0.00\n",
      "2022-11-11 13:35:00, OPERATION RESULT --- Gross: 31.60, Net: 31.60\n",
      "2022-11-14 09:55:00, BUY CREATED --- Size: 10, Cash: 11114.56, Open: 187.58999633789062, Close: 188.75990295410156\n",
      "2022-11-14 09:55:00, BUY EXECUTED --- Price: 187.59, Cost: 1875.90,Commission: 0.00\n",
      "2022-11-14 10:10:00, SELL CREATED --- Size: 10\n",
      "2022-11-14 10:10:00, SELL EXECUTED --- Price: 190.15, Cost: 1875.90,Commission: 0.00\n",
      "2022-11-14 10:10:00, OPERATION RESULT --- Gross: 25.60, Net: 25.60\n",
      "2022-11-14 10:30:00, BUY CREATED --- Size: 10, Cash: 11140.16, Open: 190.49000549316406, Close: 191.36000061035156\n",
      "2022-11-14 10:30:00, BUY EXECUTED --- Price: 190.49, Cost: 1904.90,Commission: 0.00\n",
      "2022-11-14 10:45:00, SELL CREATED --- Size: 10\n",
      "2022-11-14 10:45:00, SELL EXECUTED --- Price: 192.87, Cost: 1904.90,Commission: 0.00\n",
      "2022-11-14 10:45:00, OPERATION RESULT --- Gross: 23.80, Net: 23.80\n",
      "2022-11-14 11:30:00, BUY CREATED --- Size: 10, Cash: 11163.96, Open: 189.11500549316406, Close: 190.74949645996094\n",
      "2022-11-14 11:30:00, BUY EXECUTED --- Price: 189.12, Cost: 1891.15,Commission: 0.00\n",
      "2022-11-14 12:15:00, SELL CREATED --- Size: 10\n",
      "2022-11-14 12:15:00, SELL EXECUTED --- Price: 194.25, Cost: 1891.15,Commission: 0.00\n",
      "2022-11-14 12:15:00, OPERATION RESULT --- Gross: 51.35, Net: 51.35\n",
      "2022-11-14 12:35:00, BUY CREATED --- Size: 10, Cash: 11215.31, Open: 194.26629638671875, Close: 195.54620361328125\n",
      "2022-11-14 12:35:00, BUY EXECUTED --- Price: 194.27, Cost: 1942.66,Commission: 0.00\n",
      "2022-11-14 12:40:00, SELL CREATED --- Size: 10\n",
      "2022-11-14 12:40:00, SELL EXECUTED --- Price: 195.54, Cost: 1942.66,Commission: 0.00\n",
      "2022-11-14 12:40:00, OPERATION RESULT --- Gross: 12.74, Net: 12.74\n",
      "2022-11-14 13:50:00, BUY CREATED --- Size: 10, Cash: 11228.05, Open: 194.3000030517578, Close: 195.35000610351562\n",
      "2022-11-14 13:50:00, BUY EXECUTED --- Price: 194.30, Cost: 1943.00,Commission: 0.00\n",
      "2022-11-14 14:05:00, SELL CREATED --- Size: 10\n",
      "2022-11-14 14:05:00, SELL EXECUTED --- Price: 194.79, Cost: 1943.00,Commission: 0.00\n",
      "2022-11-14 14:05:00, OPERATION RESULT --- Gross: 4.89, Net: 4.89\n",
      "2022-11-15 09:40:00, BUY CREATED --- Size: 10, Cash: 11232.93, Open: 195.19000244140625, Close: 197.25819396972656\n",
      "2022-11-15 09:40:00, BUY EXECUTED --- Price: 195.19, Cost: 1951.90,Commission: 0.00\n",
      "2022-11-15 10:05:00, SELL CREATED --- Size: 10\n",
      "2022-11-15 10:05:00, SELL EXECUTED --- Price: 200.11, Cost: 1951.90,Commission: 0.00\n",
      "2022-11-15 10:05:00, OPERATION RESULT --- Gross: 49.20, Net: 49.20\n",
      "2022-11-15 10:20:00, BUY CREATED --- Size: 10, Cash: 11282.13, Open: 198.14500427246094, Close: 199.39810180664062\n",
      "2022-11-15 10:20:00, BUY EXECUTED --- Price: 198.15, Cost: 1981.45,Commission: 0.00\n",
      "2022-11-15 10:35:00, SELL CREATED --- Size: 10\n",
      "2022-11-15 10:35:00, SELL EXECUTED --- Price: 200.30, Cost: 1981.45,Commission: 0.00\n",
      "2022-11-15 10:35:00, OPERATION RESULT --- Gross: 21.57, Net: 21.57\n",
      "2022-11-15 11:00:00, BUY CREATED --- Size: 10, Cash: 11303.70, Open: 197.83999633789062, Close: 198.82119750976562\n",
      "2022-11-15 11:00:00, BUY EXECUTED --- Price: 197.84, Cost: 1978.40,Commission: 0.00\n",
      "2022-11-15 11:15:00, SELL CREATED --- Size: 10\n",
      "2022-11-15 11:15:00, SELL EXECUTED --- Price: 200.15, Cost: 1978.40,Commission: 0.00\n",
      "2022-11-15 11:15:00, OPERATION RESULT --- Gross: 23.09, Net: 23.09\n",
      "2022-11-15 13:40:00, BUY CREATED --- Size: 10, Cash: 11326.80, Open: 192.91000366210938, Close: 194.22000122070312\n",
      "2022-11-15 13:40:00, BUY EXECUTED --- Price: 192.91, Cost: 1929.10,Commission: 0.00\n",
      "2022-11-15 14:00:00, SELL CREATED --- Size: 10\n",
      "2022-11-15 14:00:00, SELL EXECUTED --- Price: 194.00, Cost: 1929.10,Commission: 0.00\n",
      "2022-11-15 14:00:00, OPERATION RESULT --- Gross: 10.90, Net: 10.90\n",
      "2022-11-15 14:05:00, BUY CREATED --- Size: 10, Cash: 11337.70, Open: 192.1300048828125, Close: 193.72000122070312\n",
      "2022-11-15 14:05:00, BUY EXECUTED --- Price: 192.13, Cost: 1921.30,Commission: 0.00\n",
      "2022-11-15 15:30:00, SELL CREATED --- Size: 10\n",
      "2022-11-15 15:30:00, SELL EXECUTED --- Price: 194.35, Cost: 1921.30,Commission: 0.00\n",
      "2022-11-15 15:30:00, OPERATION RESULT --- Gross: 22.20, Net: 22.20\n",
      "2022-11-16 10:30:00, BUY CREATED --- Size: 10, Cash: 11359.90, Open: 188.17550659179688, Close: 189.04110717773438\n",
      "2022-11-16 10:30:00, BUY EXECUTED --- Price: 188.18, Cost: 1881.76,Commission: 0.00\n",
      "2022-11-16 10:40:00, SELL CREATED --- Size: 10\n",
      "2022-11-16 10:40:00, SELL EXECUTED --- Price: 188.81, Cost: 1881.76,Commission: 0.00\n",
      "2022-11-16 10:40:00, OPERATION RESULT --- Gross: 6.34, Net: 6.34\n",
      "2022-11-16 11:20:00, BUY CREATED --- Size: 10, Cash: 11366.24, Open: 188.00999450683594, Close: 189.6199951171875\n",
      "2022-11-16 11:20:00, BUY EXECUTED --- Price: 188.01, Cost: 1880.10,Commission: 0.00\n",
      "2022-11-16 11:25:00, SELL CREATED --- Size: 10\n",
      "2022-11-16 11:25:00, SELL EXECUTED --- Price: 189.54, Cost: 1880.10,Commission: 0.00\n",
      "2022-11-16 11:25:00, OPERATION RESULT --- Gross: 15.30, Net: 15.30\n",
      "2022-11-17 10:15:00, BUY CREATED --- Size: 10, Cash: 11381.54, Open: 182.85499572753906, Close: 184.66000366210938\n",
      "2022-11-17 10:15:00, BUY EXECUTED --- Price: 182.85, Cost: 1828.55,Commission: 0.00\n",
      "2022-11-17 10:30:00, SELL CREATED --- Size: 10\n",
      "2022-11-17 10:30:00, SELL EXECUTED --- Price: 184.85, Cost: 1828.55,Commission: 0.00\n",
      "2022-11-17 10:30:00, OPERATION RESULT --- Gross: 19.99, Net: 19.99\n",
      "2022-11-17 11:55:00, BUY CREATED --- Size: 10, Cash: 11401.53, Open: 183.35000610351562, Close: 184.67840576171875\n",
      "2022-11-17 11:55:00, BUY EXECUTED --- Price: 183.35, Cost: 1833.50,Commission: 0.00\n",
      "2022-11-17 14:30:00, SELL CREATED --- Size: 10\n",
      "2022-11-17 14:30:00, SELL EXECUTED --- Price: 182.54, Cost: 1833.50,Commission: 0.00\n",
      "2022-11-17 14:30:00, OPERATION RESULT --- Gross: -8.11, Net: -8.11\n",
      "2022-11-18 10:15:00, BUY CREATED --- Size: 10, Cash: 11393.42, Open: 177.5399932861328, Close: 178.3800048828125\n",
      "2022-11-18 10:15:00, BUY EXECUTED --- Price: 177.54, Cost: 1775.40,Commission: 0.00\n",
      "2022-11-18 10:55:00, SELL CREATED --- Size: 10\n",
      "2022-11-18 10:55:00, SELL EXECUTED --- Price: 177.99, Cost: 1775.40,Commission: 0.00\n",
      "2022-11-18 10:55:00, OPERATION RESULT --- Gross: 4.55, Net: 4.55\n",
      "2022-11-18 15:00:00, BUY CREATED --- Size: 10, Cash: 11397.97, Open: 178.49000549316406, Close: 179.60000610351562\n",
      "2022-11-18 15:00:00, BUY EXECUTED --- Price: 178.49, Cost: 1784.90,Commission: 0.00\n",
      "Final Portfolio Value: 11413.92\n"
     ]
    }
   ],
   "source": [
    "STARTING_CASH = 10000.0\n",
    "COMMISSION = 0.0\n",
    "\n",
    "# instantiate SignalData class\n",
    "data = SignalData(dataname=df)\n",
    "# instantiate Cerebro, add strategy, data, initial cash, commission \n",
    "cerebro = bt.Cerebro(stdstats=True, cheat_on_open=True)\n",
    "cerebro.addstrategy(MyStrategy)\n",
    "cerebro.adddata(data, name=ticker)\n",
    "cerebro.broker.setcash(STARTING_CASH)\n",
    "cerebro.broker.setcommission(commission=COMMISSION)\n",
    "# cerebro.addanalyzer(bt.analyzers.PyFolio, _name='pyfolio')\n",
    "\n",
    "# run the backtest\n",
    "print('Starting Portfolio Value: %.2f' % cerebro.broker.getvalue())\n",
    "backtest_result = cerebro.run()\n",
    "final_value = cerebro.broker.getvalue()\n",
    "print('Final Portfolio Value: %.2f' % final_value)\n"
   ]
  },
  {
   "cell_type": "markdown",
   "metadata": {},
   "source": [
    "Compute Net Gain\n",
    "\n",
    "$$\n",
    "    net\\_gain = \\frac{price_{new} - price_{orig}}{price_{orig}}\n",
    "$$"
   ]
  },
  {
   "cell_type": "code",
   "execution_count": 79,
   "metadata": {},
   "outputs": [
    {
     "name": "stdout",
     "output_type": "stream",
     "text": [
      "Net Gain Percentage: 14.14%\n"
     ]
    }
   ],
   "source": [
    "net_gain = (final_value - STARTING_CASH)/STARTING_CASH\n",
    "print(f'Net Gain Percentage: {net_gain*100:.2f}%')"
   ]
  },
  {
   "cell_type": "code",
   "execution_count": 75,
   "metadata": {},
   "outputs": [
    {
     "ename": "KeyboardInterrupt",
     "evalue": "",
     "output_type": "error",
     "traceback": [
      "\u001b[1;31m---------------------------------------------------------------------------\u001b[0m",
      "\u001b[1;31mKeyboardInterrupt\u001b[0m                         Traceback (most recent call last)",
      "\u001b[1;32m~\\AppData\\Local\\Temp\\ipykernel_17736\\3498022755.py\u001b[0m in \u001b[0;36m<cell line: 4>\u001b[1;34m()\u001b[0m\n\u001b[0;32m      2\u001b[0m \u001b[0mmpl\u001b[0m\u001b[1;33m.\u001b[0m\u001b[0mrcParams\u001b[0m\u001b[1;33m[\u001b[0m\u001b[1;34m'figure.dpi'\u001b[0m\u001b[1;33m]\u001b[0m \u001b[1;33m=\u001b[0m \u001b[1;36m150\u001b[0m\u001b[1;33m\u001b[0m\u001b[1;33m\u001b[0m\u001b[0m\n\u001b[0;32m      3\u001b[0m \u001b[1;33m\u001b[0m\u001b[0m\n\u001b[1;32m----> 4\u001b[1;33m \u001b[0mcerebro\u001b[0m\u001b[1;33m.\u001b[0m\u001b[0mplot\u001b[0m\u001b[1;33m(\u001b[0m\u001b[0miplot\u001b[0m\u001b[1;33m=\u001b[0m \u001b[1;32mFalse\u001b[0m\u001b[1;33m)\u001b[0m\u001b[1;33m\u001b[0m\u001b[1;33m\u001b[0m\u001b[0m\n\u001b[0m",
      "\u001b[1;32mc:\\Users\\itber\\anaconda3\\envs\\tf\\lib\\site-packages\\backtrader\\cerebro.py\u001b[0m in \u001b[0;36mplot\u001b[1;34m(self, plotter, numfigs, iplot, start, end, width, height, dpi, tight, use, **kwargs)\u001b[0m\n\u001b[0;32m    994\u001b[0m                 \u001b[0mfigs\u001b[0m\u001b[1;33m.\u001b[0m\u001b[0mappend\u001b[0m\u001b[1;33m(\u001b[0m\u001b[0mrfig\u001b[0m\u001b[1;33m)\u001b[0m\u001b[1;33m\u001b[0m\u001b[1;33m\u001b[0m\u001b[0m\n\u001b[0;32m    995\u001b[0m \u001b[1;33m\u001b[0m\u001b[0m\n\u001b[1;32m--> 996\u001b[1;33m             \u001b[0mplotter\u001b[0m\u001b[1;33m.\u001b[0m\u001b[0mshow\u001b[0m\u001b[1;33m(\u001b[0m\u001b[1;33m)\u001b[0m\u001b[1;33m\u001b[0m\u001b[1;33m\u001b[0m\u001b[0m\n\u001b[0m\u001b[0;32m    997\u001b[0m \u001b[1;33m\u001b[0m\u001b[0m\n\u001b[0;32m    998\u001b[0m         \u001b[1;32mreturn\u001b[0m \u001b[0mfigs\u001b[0m\u001b[1;33m\u001b[0m\u001b[1;33m\u001b[0m\u001b[0m\n",
      "\u001b[1;32mc:\\Users\\itber\\anaconda3\\envs\\tf\\lib\\site-packages\\backtrader\\plot\\plot.py\u001b[0m in \u001b[0;36mshow\u001b[1;34m(self)\u001b[0m\n\u001b[0;32m    815\u001b[0m \u001b[1;33m\u001b[0m\u001b[0m\n\u001b[0;32m    816\u001b[0m     \u001b[1;32mdef\u001b[0m \u001b[0mshow\u001b[0m\u001b[1;33m(\u001b[0m\u001b[0mself\u001b[0m\u001b[1;33m)\u001b[0m\u001b[1;33m:\u001b[0m\u001b[1;33m\u001b[0m\u001b[1;33m\u001b[0m\u001b[0m\n\u001b[1;32m--> 817\u001b[1;33m         \u001b[0mself\u001b[0m\u001b[1;33m.\u001b[0m\u001b[0mmpyplot\u001b[0m\u001b[1;33m.\u001b[0m\u001b[0mshow\u001b[0m\u001b[1;33m(\u001b[0m\u001b[1;33m)\u001b[0m\u001b[1;33m\u001b[0m\u001b[1;33m\u001b[0m\u001b[0m\n\u001b[0m\u001b[0;32m    818\u001b[0m \u001b[1;33m\u001b[0m\u001b[0m\n\u001b[0;32m    819\u001b[0m     \u001b[1;32mdef\u001b[0m \u001b[0msavefig\u001b[0m\u001b[1;33m(\u001b[0m\u001b[0mself\u001b[0m\u001b[1;33m,\u001b[0m \u001b[0mfig\u001b[0m\u001b[1;33m,\u001b[0m \u001b[0mfilename\u001b[0m\u001b[1;33m,\u001b[0m \u001b[0mwidth\u001b[0m\u001b[1;33m=\u001b[0m\u001b[1;36m16\u001b[0m\u001b[1;33m,\u001b[0m \u001b[0mheight\u001b[0m\u001b[1;33m=\u001b[0m\u001b[1;36m9\u001b[0m\u001b[1;33m,\u001b[0m \u001b[0mdpi\u001b[0m\u001b[1;33m=\u001b[0m\u001b[1;36m300\u001b[0m\u001b[1;33m,\u001b[0m \u001b[0mtight\u001b[0m\u001b[1;33m=\u001b[0m\u001b[1;32mTrue\u001b[0m\u001b[1;33m)\u001b[0m\u001b[1;33m:\u001b[0m\u001b[1;33m\u001b[0m\u001b[1;33m\u001b[0m\u001b[0m\n",
      "\u001b[1;32mc:\\Users\\itber\\anaconda3\\envs\\tf\\lib\\site-packages\\matplotlib\\pyplot.py\u001b[0m in \u001b[0;36mshow\u001b[1;34m(*args, **kw)\u001b[0m\n\u001b[0;32m    270\u001b[0m     \"\"\"\n\u001b[0;32m    271\u001b[0m     \u001b[1;32mglobal\u001b[0m \u001b[0m_show\u001b[0m\u001b[1;33m\u001b[0m\u001b[1;33m\u001b[0m\u001b[0m\n\u001b[1;32m--> 272\u001b[1;33m     \u001b[1;32mreturn\u001b[0m \u001b[0m_show\u001b[0m\u001b[1;33m(\u001b[0m\u001b[1;33m*\u001b[0m\u001b[0margs\u001b[0m\u001b[1;33m,\u001b[0m \u001b[1;33m**\u001b[0m\u001b[0mkw\u001b[0m\u001b[1;33m)\u001b[0m\u001b[1;33m\u001b[0m\u001b[1;33m\u001b[0m\u001b[0m\n\u001b[0m\u001b[0;32m    273\u001b[0m \u001b[1;33m\u001b[0m\u001b[0m\n\u001b[0;32m    274\u001b[0m \u001b[1;33m\u001b[0m\u001b[0m\n",
      "\u001b[1;32mc:\\Users\\itber\\anaconda3\\envs\\tf\\lib\\site-packages\\matplotlib\\cbook\\deprecation.py\u001b[0m in \u001b[0;36mwrapper\u001b[1;34m(*args, **kwargs)\u001b[0m\n\u001b[0;32m    398\u001b[0m                 \u001b[1;34m\"parameter will become keyword-only %(removal)s.\"\u001b[0m\u001b[1;33m,\u001b[0m\u001b[1;33m\u001b[0m\u001b[1;33m\u001b[0m\u001b[0m\n\u001b[0;32m    399\u001b[0m                 name=name, obj_type=f\"parameter of {func.__name__}()\")\n\u001b[1;32m--> 400\u001b[1;33m         \u001b[1;32mreturn\u001b[0m \u001b[0mfunc\u001b[0m\u001b[1;33m(\u001b[0m\u001b[1;33m*\u001b[0m\u001b[0margs\u001b[0m\u001b[1;33m,\u001b[0m \u001b[1;33m**\u001b[0m\u001b[0mkwargs\u001b[0m\u001b[1;33m)\u001b[0m\u001b[1;33m\u001b[0m\u001b[1;33m\u001b[0m\u001b[0m\n\u001b[0m\u001b[0;32m    401\u001b[0m \u001b[1;33m\u001b[0m\u001b[0m\n\u001b[0;32m    402\u001b[0m     \u001b[1;32mreturn\u001b[0m \u001b[0mwrapper\u001b[0m\u001b[1;33m\u001b[0m\u001b[1;33m\u001b[0m\u001b[0m\n",
      "\u001b[1;32mc:\\Users\\itber\\anaconda3\\envs\\tf\\lib\\site-packages\\matplotlib\\backend_bases.py\u001b[0m in \u001b[0;36mshow\u001b[1;34m(cls, block)\u001b[0m\n\u001b[0;32m   3405\u001b[0m                 \u001b[0mblock\u001b[0m \u001b[1;33m=\u001b[0m \u001b[1;32mTrue\u001b[0m\u001b[1;33m\u001b[0m\u001b[1;33m\u001b[0m\u001b[0m\n\u001b[0;32m   3406\u001b[0m         \u001b[1;32mif\u001b[0m \u001b[0mblock\u001b[0m\u001b[1;33m:\u001b[0m\u001b[1;33m\u001b[0m\u001b[1;33m\u001b[0m\u001b[0m\n\u001b[1;32m-> 3407\u001b[1;33m             \u001b[0mcls\u001b[0m\u001b[1;33m.\u001b[0m\u001b[0mmainloop\u001b[0m\u001b[1;33m(\u001b[0m\u001b[1;33m)\u001b[0m\u001b[1;33m\u001b[0m\u001b[1;33m\u001b[0m\u001b[0m\n\u001b[0m\u001b[0;32m   3408\u001b[0m \u001b[1;33m\u001b[0m\u001b[0m\n\u001b[0;32m   3409\u001b[0m     \u001b[1;31m# This method is the one actually exporting the required methods.\u001b[0m\u001b[1;33m\u001b[0m\u001b[1;33m\u001b[0m\u001b[0m\n",
      "\u001b[1;32mc:\\Users\\itber\\anaconda3\\envs\\tf\\lib\\site-packages\\matplotlib\\backends\\_backend_tk.py\u001b[0m in \u001b[0;36mmainloop\u001b[1;34m()\u001b[0m\n\u001b[0;32m    917\u001b[0m         \u001b[0mmanagers\u001b[0m \u001b[1;33m=\u001b[0m \u001b[0mGcf\u001b[0m\u001b[1;33m.\u001b[0m\u001b[0mget_all_fig_managers\u001b[0m\u001b[1;33m(\u001b[0m\u001b[1;33m)\u001b[0m\u001b[1;33m\u001b[0m\u001b[1;33m\u001b[0m\u001b[0m\n\u001b[0;32m    918\u001b[0m         \u001b[1;32mif\u001b[0m \u001b[0mmanagers\u001b[0m\u001b[1;33m:\u001b[0m\u001b[1;33m\u001b[0m\u001b[1;33m\u001b[0m\u001b[0m\n\u001b[1;32m--> 919\u001b[1;33m             \u001b[0mmanagers\u001b[0m\u001b[1;33m[\u001b[0m\u001b[1;36m0\u001b[0m\u001b[1;33m]\u001b[0m\u001b[1;33m.\u001b[0m\u001b[0mwindow\u001b[0m\u001b[1;33m.\u001b[0m\u001b[0mmainloop\u001b[0m\u001b[1;33m(\u001b[0m\u001b[1;33m)\u001b[0m\u001b[1;33m\u001b[0m\u001b[1;33m\u001b[0m\u001b[0m\n\u001b[0m",
      "\u001b[1;32mc:\\Users\\itber\\anaconda3\\envs\\tf\\lib\\tkinter\\__init__.py\u001b[0m in \u001b[0;36mmainloop\u001b[1;34m(self, n)\u001b[0m\n\u001b[0;32m   1427\u001b[0m     \u001b[1;32mdef\u001b[0m \u001b[0mmainloop\u001b[0m\u001b[1;33m(\u001b[0m\u001b[0mself\u001b[0m\u001b[1;33m,\u001b[0m \u001b[0mn\u001b[0m\u001b[1;33m=\u001b[0m\u001b[1;36m0\u001b[0m\u001b[1;33m)\u001b[0m\u001b[1;33m:\u001b[0m\u001b[1;33m\u001b[0m\u001b[1;33m\u001b[0m\u001b[0m\n\u001b[0;32m   1428\u001b[0m         \u001b[1;34m\"\"\"Call the mainloop of Tk.\"\"\"\u001b[0m\u001b[1;33m\u001b[0m\u001b[1;33m\u001b[0m\u001b[0m\n\u001b[1;32m-> 1429\u001b[1;33m         \u001b[0mself\u001b[0m\u001b[1;33m.\u001b[0m\u001b[0mtk\u001b[0m\u001b[1;33m.\u001b[0m\u001b[0mmainloop\u001b[0m\u001b[1;33m(\u001b[0m\u001b[0mn\u001b[0m\u001b[1;33m)\u001b[0m\u001b[1;33m\u001b[0m\u001b[1;33m\u001b[0m\u001b[0m\n\u001b[0m\u001b[0;32m   1430\u001b[0m \u001b[1;33m\u001b[0m\u001b[0m\n\u001b[0;32m   1431\u001b[0m     \u001b[1;32mdef\u001b[0m \u001b[0mquit\u001b[0m\u001b[1;33m(\u001b[0m\u001b[0mself\u001b[0m\u001b[1;33m)\u001b[0m\u001b[1;33m:\u001b[0m\u001b[1;33m\u001b[0m\u001b[1;33m\u001b[0m\u001b[0m\n",
      "\u001b[1;31mKeyboardInterrupt\u001b[0m: "
     ]
    }
   ],
   "source": [
    "import matplotlib as mpl\n",
    "mpl.rcParams['figure.dpi'] = 150\n",
    "\n",
    "cerebro.plot(iplot= False)"
   ]
  },
  {
   "cell_type": "code",
   "execution_count": null,
   "metadata": {},
   "outputs": [],
   "source": []
  }
 ],
 "metadata": {
  "kernelspec": {
   "display_name": "Python 3.9.12 ('tf')",
   "language": "python",
   "name": "python3"
  },
  "language_info": {
   "codemirror_mode": {
    "name": "ipython",
    "version": 3
   },
   "file_extension": ".py",
   "mimetype": "text/x-python",
   "name": "python",
   "nbconvert_exporter": "python",
   "pygments_lexer": "ipython3",
   "version": "3.9.12"
  },
  "orig_nbformat": 4,
  "vscode": {
   "interpreter": {
    "hash": "2b2da39daaaff30a84159e8452ba91acfc0bbd521fb66c6aa9941f847b87bd81"
   }
  }
 },
 "nbformat": 4,
 "nbformat_minor": 2
}
