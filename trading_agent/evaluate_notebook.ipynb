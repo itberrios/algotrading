{
  "cells": [
    {
      "cell_type": "markdown",
      "metadata": {
        "id": "uL7rliFsw4k7"
      },
      "source": [
        "## **Backtest models on real data**\n",
        "\n",
        "This is a working notebook to backtest different models on real data.\n",
        "\n",
        "NEED MATPLOTLIB Version 3.2.2 for cerebro plotting"
      ]
    },
    {
      "cell_type": "markdown",
      "metadata": {
        "id": "BVPb0pIGw77C"
      },
      "source": [
        "Install libraries if necessary"
      ]
    },
    {
      "cell_type": "code",
      "execution_count": 1,
      "metadata": {
        "id": "l7GogoFdw4k8"
      },
      "outputs": [],
      "source": [
        "import sys\n",
        "import os \n",
        "import yfinance as yf\n",
        "import numpy as np\n",
        "import pandas as pd\n",
        "import tensorflow as tf\n",
        "import backtrader as bt\n",
        "from datetime import datetime\n",
        "import matplotlib.pyplot as plt\n",
        "%matplotlib inline"
      ]
    },
    {
      "cell_type": "markdown",
      "metadata": {
        "id": "J95Y_h5Qw4k-"
      },
      "source": [
        "local imports"
      ]
    },
    {
      "cell_type": "code",
      "execution_count": 2,
      "metadata": {
        "colab": {
          "base_uri": "https://localhost:8080/",
          "height": 374
        },
        "id": "kvFVFKpow4k-",
        "outputId": "9e97c1fd-436c-4c82-f13f-e232871049ba"
      },
      "outputs": [],
      "source": [
        "sys.path.append(os.path.abspath(os.path.abspath('..')))\n",
        "sys.path.append(os.getcwd())\n",
        "\n",
        "from data_utils import *\n",
        "from Strategies import *\n",
        "from predictive_analytics.RNN.functions import transform_raw_data, last_step_accuracy, get_last_step_predictions_with_confidence\n",
        "from predictive_analytics.transformer.models.basic_transformer import TransformerModel\n"
      ]
    },
    {
      "cell_type": "markdown",
      "metadata": {
        "id": "8fFiXuwcw4lA"
      },
      "source": [
        "Get trained models"
      ]
    },
    {
      "cell_type": "code",
      "execution_count": 13,
      "metadata": {
        "id": "rBzagbQ3w4lA"
      },
      "outputs": [],
      "source": [
        "RNN_MODEL = \"../predictive_analytics/RNN/models/beta_1\"\n",
        "LINEAR_MODEL = \"../predictive_analytics/transformer/models/basic_linear_model_2\"\n",
        "TRANSFORMER_MODEL = \"../predictive_analytics/transformer/models/transformer_checkpoint\""
      ]
    },
    {
      "cell_type": "markdown",
      "metadata": {
        "id": "eFsMmvmJw4lB"
      },
      "source": [
        "Helper functions"
      ]
    },
    {
      "cell_type": "code",
      "execution_count": 14,
      "metadata": {
        "id": "cUX08vqkw4lB"
      },
      "outputs": [],
      "source": [
        "def change_time_format(timestamp): # so that backtrader logs are correct\n",
        "    reg = \"%Y-%m-%d %H:%M:%S\"\n",
        "    time_as_str = timestamp.strftime(reg)\n",
        "    reformatted_time = datetime.strptime(time_as_str, reg)\n",
        "    return reformatted_time\n",
        "\n",
        "\n",
        "def get_predictions_with_confidence(model, X):\n",
        "    ''' used for models that only output a single target'''\n",
        "    y_pred = model.predict(X)\n",
        "    pred_labels = tf.argmax(y_pred, axis=-1).numpy()\n",
        "    probabilities = tf.reduce_max(y_pred, axis=-1).numpy()\n",
        "    return np.c_[pred_labels.reshape((-1,1)), probabilities.reshape((-1,1))]\n",
        "\n",
        "# modify strategy here\n",
        "class MyStrategy(bt.Strategy):\n",
        "    params = dict(\n",
        "    )\n",
        "    \n",
        "    def __init__(self):\n",
        "        # keep track of open, close prices and predicted value in the series\n",
        "        self.data_prediction = self.datas[0].prediction\n",
        "        self.data_confidence = self.datas[0].confidence\n",
        "        self.data_open = self.datas[0].open\n",
        "        self.data_close = self.datas[0].close\n",
        "\n",
        "        # set number of shares to buy sell\n",
        "        self.num_shares = 10\n",
        "\n",
        "        # set required buy/sell probabilities\n",
        "        self.buy_prob = 0.7\n",
        "        self.sell_prob = 0.6\n",
        "        \n",
        "        # keep track of pending orders/buy price/buy commission\n",
        "        self.order = None\n",
        "        self.price = None\n",
        "        self.comm = None\n",
        "        \n",
        "        \n",
        "    # logging function\n",
        "    def log(self, txt):\n",
        "        '''Logging function'''\n",
        "        dt = str(self.datas[0].datetime.datetime())\n",
        "        print(f'{dt}, {txt}')\n",
        "    \n",
        "    \n",
        "    def notify_order(self, order):\n",
        "        if order.status in [order.Submitted, order.Accepted]:\n",
        "            # order already submitted/accepted - no action required\n",
        "            return\n",
        "        # report executed order\n",
        "        if order.status in [order.Completed]:\n",
        "            if order.isbuy():\n",
        "                self.log(f'BUY EXECUTED --- Price: {order.executed.price:.2f}, Cost: {order.executed.value:.2f},Commission: {order.executed.comm:.2f}'\n",
        "                )\n",
        "                self.price = order.executed.price\n",
        "                self.comm = order.executed.comm\n",
        "            else:\n",
        "                self.log(f'SELL EXECUTED --- Price: {order.executed.price:.2f}, Cost: {order.executed.value:.2f},Commission: {order.executed.comm:.2f}'\n",
        "                )\n",
        "        # report failed order\n",
        "        elif order.status in [order.Canceled, order.Margin, \n",
        "                              order.Rejected]:\n",
        "            self.log('Order Failed')\n",
        "        # set no pending order\n",
        "        self.order = None\n",
        "    \n",
        "    \n",
        "    def notify_trade(self, trade):\n",
        "        if not trade.isclosed:\n",
        "            return\n",
        "        self.log(f'OPERATION RESULT --- Gross: {trade.pnl:.2f}, Net: {trade.pnlcomm:.2f}')\n",
        "        \n",
        "    \n",
        "    def next_open(self):\n",
        "        if not self.position:   # not in the market\n",
        "            if self.data_prediction == 1:\n",
        "                if self.data_confidence > self.buy_prob and self.broker.getcash() > self.data_open*10:\n",
        "                    # buy order\n",
        "                    self.log(f'BUY CREATED --- Size: {self.num_shares}, Cash: {self.broker.getcash():.2f}, Open: {self.data_open[0]}, Close: {self.data_close[0]}')\n",
        "                    self.buy(size=self.num_shares)\n",
        "        else:                   # in the market\n",
        "            if self.data_prediction == 0 and self.data_confidence > self.sell_prob:\n",
        "                # sell order\n",
        "                self.log(f'SELL CREATED --- Size: {self.position.size}')\n",
        "                self.sell(size=self.position.size)"
      ]
    },
    {
      "cell_type": "markdown",
      "metadata": {
        "id": "mtZjfu7Ww4lD"
      },
      "source": [
        "##### Load Model\n",
        "The model loading and inferences will be different for each model type"
      ]
    },
    {
      "cell_type": "code",
      "execution_count": 6,
      "metadata": {
        "id": "RV32xSwQw4lE"
      },
      "outputs": [],
      "source": [
        "# linear model\n",
        "model = tf.keras.models.load_model(LINEAR_MODEL, custom_objects={'mcc_metric' : mcc_metric})"
      ]
    },
    {
      "cell_type": "code",
      "execution_count": 15,
      "metadata": {
        "id": "6ISn3k_1w4lE",
        "outputId": "f1cd5fec-45c6-4b0b-cc4c-2bccf5e8085a"
      },
      "outputs": [
        {
          "name": "stdout",
          "output_type": "stream",
          "text": [
            "WARNING:tensorflow:SavedModel saved prior to TF 2.5 detected when loading Keras model. Please ensure that you are saving the model with model.save() or tf.keras.models.save_model(), *NOT* tf.saved_model.save(). To confirm, there should be a file named \"keras_metadata.pb\" in the SavedModel directory.\n"
          ]
        }
      ],
      "source": [
        "# RNN\n",
        "model = tf.keras.models.load_model(RNN_MODEL, custom_objects={'last_step_accuracy': last_step_accuracy})"
      ]
    },
    {
      "cell_type": "code",
      "execution_count": 46,
      "metadata": {
        "id": "2RSddJ5Zw4lF"
      },
      "outputs": [],
      "source": [
        "from tensorflow_addons.layers import multihead_attention\n",
        "\n",
        "custom_objects={\n",
        "    'MultiHeadAttention' : multihead_attention.MultiHeadAttention,\n",
        "    'TransformerModel' : TransformerModel,\n",
        "    'mcc_metric' : mcc_metric}\n",
        "\n",
        "model = tf.keras.models.load_model(TRANSFORMER_MODEL,\n",
        "                                   custom_objects=custom_objects)"
      ]
    },
    {
      "cell_type": "markdown",
      "metadata": {
        "id": "8BRkfsorw4lF"
      },
      "source": [
        "Load Transformer"
      ]
    },
    {
      "cell_type": "markdown",
      "metadata": {
        "id": "2WvAE1Rrw4lF"
      },
      "source": [
        "#### Get stock data"
      ]
    },
    {
      "cell_type": "code",
      "execution_count": 61,
      "metadata": {
        "id": "z3m-Ys07w4lG"
      },
      "outputs": [],
      "source": [
        "ticker = 'QCOM'\n",
        "START_DATE = '2022-11-1'\n",
        "END_DATE = '2022-11-30'\n",
        "\n",
        "EVAL_RANGE=24\n",
        "PREDICT_RANGE=3\n",
        "INTERVAL = 5"
      ]
    },
    {
      "cell_type": "code",
      "execution_count": 62,
      "metadata": {
        "id": "88FpvVmuw4lG"
      },
      "outputs": [],
      "source": [
        "# for normalization\n",
        "train_means = np.load('../data/transformed/{}min/{}_train_means.npy'.format(INTERVAL, ticker))\n",
        "train_stds = np.load('../data/transformed/{}min/{}_train_stds.npy'.format(INTERVAL, ticker))\n",
        "\n",
        "# get stock data\n",
        "tickerData = yf.Ticker(ticker)\n",
        "df = tickerData.history(interval=\"{}m\".format(INTERVAL),  start=START_DATE, end=END_DATE)\n",
        "df = df.reset_index().rename({'Datetime':'Time'}, axis=1)\n",
        "\n",
        "# transform\n",
        "data, targets, time_stamps = transform_raw_data(df, INTERVAL, EVAL_RANGE=24, \n",
        "                                      PREDICT_RANGE=3, NO_CHANGE_THRESHOLD=0.01,\n",
        "                                      TRAIN_RATIO=None, train_means=train_means,\n",
        "                                      train_stds=train_stds)"
      ]
    },
    {
      "cell_type": "markdown",
      "metadata": {
        "id": "ErSFh-Hxw4lG"
      },
      "source": [
        "#### Get Predictions\n",
        "Inferences will be different for each model type"
      ]
    },
    {
      "cell_type": "code",
      "execution_count": 33,
      "metadata": {
        "id": "17VaLNJQw4lG"
      },
      "outputs": [
        {
          "name": "stdout",
          "output_type": "stream",
          "text": [
            "47/47 [==============================] - 0s 2ms/step\n"
          ]
        }
      ],
      "source": [
        "# linear\n",
        "y_pred = get_predictions_with_confidence(model, data[:, -1, :])"
      ]
    },
    {
      "cell_type": "code",
      "execution_count": 41,
      "metadata": {
        "id": "KfAUUA6jw4lG",
        "outputId": "b184d856-a28a-4c56-ae2b-1f106c1429a7"
      },
      "outputs": [
        {
          "name": "stdout",
          "output_type": "stream",
          "text": [
            "47/47 [==============================] - 1s 19ms/step\n"
          ]
        }
      ],
      "source": [
        "# RNN\n",
        "y_pred = get_last_step_predictions_with_confidence(model, data)"
      ]
    },
    {
      "cell_type": "code",
      "execution_count": 56,
      "metadata": {
        "id": "pGxEHKGSw4lI",
        "outputId": "a1762d45-014c-4ff0-a8bc-8c721a19bb63"
      },
      "outputs": [
        {
          "name": "stdout",
          "output_type": "stream",
          "text": [
            "47/47 [==============================] - 1s 11ms/step\n"
          ]
        }
      ],
      "source": [
        "# Transformer\n",
        "y_pred = get_predictions_with_confidence(model, data)"
      ]
    },
    {
      "cell_type": "markdown",
      "metadata": {
        "id": "WY3xtbPCw4lI"
      },
      "source": [
        "#### Prepare for Backtrade analysis"
      ]
    },
    {
      "cell_type": "code",
      "execution_count": 57,
      "metadata": {
        "id": "E7FtB483w4lI"
      },
      "outputs": [],
      "source": [
        "# supress setting with copy warning\n",
        "# https://stackoverflow.com/questions/20625582/how-to-deal-with-settingwithcopywarning-in-pandas\n",
        "pd.options.mode.chained_assignment = None\n",
        "\n",
        "# create data file for backtrade\n",
        "df = df.loc[EVAL_RANGE-1:df.shape[0]-PREDICT_RANGE-1] # data points with labels\n",
        "df.drop(['Dividends','Stock Splits'], axis=1, inplace=True)\n",
        "df.rename(columns = {'Open':'open','High':'high','Low':'low','Adj Close':'close','Volume':'volume',\n",
        "                         }, inplace=True)\n",
        "df[['prediction','confidence']] = y_pred\n",
        "df['Time'] = df['Time'].apply(change_time_format)\n",
        "df.set_index('Time', inplace=True)\n",
        "\n",
        "# print(df.head())\n",
        "\n",
        "# return setting with copy warning to default \n",
        "pd.options.mode.chained_assignment = 'warn'"
      ]
    },
    {
      "cell_type": "markdown",
      "metadata": {
        "id": "-2SvEEuQw4lI"
      },
      "source": [
        "#### Perform Backtrade Analysis\n",
        "\n",
        "Brokers such as IB charge about $ 0.0005 - 0.0035 per share. So we can take an average price value (with an added fudge factor) and compute an estimated commision percentage.\n",
        "\n",
        "https://www.interactivebrokers.com/en/pricing/commissions-home.php"
      ]
    },
    {
      "cell_type": "code",
      "execution_count": 58,
      "metadata": {
        "id": "vmIg11Few4lJ",
        "outputId": "aa108aea-e2ee-41c3-cc74-4508c90ff561"
      },
      "outputs": [
        {
          "name": "stdout",
          "output_type": "stream",
          "text": [
            "Starting Portfolio Value: 10000.00\n",
            "2022-11-02 09:50:00, BUY CREATED --- Size: 10, Cash: 10000.00, Open: 90.33000183105469, Close: 90.69999694824219\n",
            "2022-11-02 09:50:00, BUY EXECUTED --- Price: 90.33, Cost: 10.00,Commission: 0.00\n",
            "2022-11-02 09:55:00, SELL CREATED --- Size: 10\n",
            "2022-11-02 09:55:00, SELL EXECUTED --- Price: 90.70, Cost: 10.00,Commission: 0.00\n",
            "2022-11-02 09:55:00, OPERATION RESULT --- Gross: 3.70, Net: 3.70\n",
            "2022-11-02 10:15:00, BUY CREATED --- Size: 10, Cash: 10003.70, Open: 89.80500030517578, Close: 90.1500015258789\n",
            "2022-11-02 10:15:00, BUY EXECUTED --- Price: 89.81, Cost: 10.00,Commission: 0.00\n",
            "2022-11-02 14:05:00, SELL CREATED --- Size: 10\n",
            "2022-11-02 14:05:00, SELL EXECUTED --- Price: 90.78, Cost: 10.00,Commission: 0.00\n",
            "2022-11-02 14:05:00, OPERATION RESULT --- Gross: 9.75, Net: 9.75\n",
            "2022-11-02 14:25:00, BUY CREATED --- Size: 10, Cash: 10013.45, Open: 90.55010223388672, Close: 90.94499969482422\n",
            "2022-11-02 14:25:00, BUY EXECUTED --- Price: 90.55, Cost: 10.00,Commission: 0.00\n",
            "2022-11-02 14:30:00, SELL CREATED --- Size: 10\n",
            "2022-11-02 14:30:00, SELL EXECUTED --- Price: 90.95, Cost: 10.00,Commission: 0.00\n",
            "2022-11-02 14:30:00, OPERATION RESULT --- Gross: 4.00, Net: 4.00\n",
            "2022-11-02 15:05:00, BUY CREATED --- Size: 10, Cash: 10017.45, Open: 89.06999969482422, Close: 89.625\n",
            "2022-11-02 15:05:00, BUY EXECUTED --- Price: 89.07, Cost: 10.00,Commission: 0.00\n",
            "2022-11-02 15:10:00, SELL CREATED --- Size: 10\n",
            "2022-11-02 15:10:00, SELL EXECUTED --- Price: 89.61, Cost: 10.00,Commission: 0.00\n",
            "2022-11-02 15:10:00, OPERATION RESULT --- Gross: 5.40, Net: 5.40\n",
            "2022-11-03 10:10:00, BUY CREATED --- Size: 10, Cash: 10022.85, Open: 85.1500015258789, Close: 85.59259796142578\n",
            "2022-11-03 10:10:00, BUY EXECUTED --- Price: 85.15, Cost: 10.00,Commission: 0.00\n",
            "2022-11-03 10:30:00, SELL CREATED --- Size: 10\n",
            "2022-11-03 10:30:00, SELL EXECUTED --- Price: 85.81, Cost: 10.00,Commission: 0.00\n",
            "2022-11-03 10:30:00, OPERATION RESULT --- Gross: 6.55, Net: 6.55\n",
            "2022-11-03 10:45:00, BUY CREATED --- Size: 10, Cash: 10029.40, Open: 85.62000274658203, Close: 85.98999786376953\n",
            "2022-11-03 10:45:00, BUY EXECUTED --- Price: 85.62, Cost: 10.00,Commission: 0.00\n",
            "2022-11-03 11:30:00, SELL CREATED --- Size: 10\n",
            "2022-11-03 11:30:00, SELL EXECUTED --- Price: 85.20, Cost: 10.00,Commission: 0.00\n",
            "2022-11-03 11:30:00, OPERATION RESULT --- Gross: -4.20, Net: -4.20\n",
            "2022-11-04 09:55:00, BUY CREATED --- Size: 10, Cash: 10025.20, Open: 84.16999816894531, Close: 84.8501968383789\n",
            "2022-11-04 09:55:00, BUY EXECUTED --- Price: 84.17, Cost: 10.00,Commission: 0.00\n",
            "2022-11-04 10:50:00, SELL CREATED --- Size: 10\n",
            "2022-11-04 10:50:00, SELL EXECUTED --- Price: 86.13, Cost: 10.00,Commission: 0.00\n",
            "2022-11-04 10:50:00, OPERATION RESULT --- Gross: 19.60, Net: 19.60\n",
            "2022-11-04 11:20:00, BUY CREATED --- Size: 10, Cash: 10044.80, Open: 84.80000305175781, Close: 85.29090118408203\n",
            "2022-11-04 11:20:00, BUY EXECUTED --- Price: 84.80, Cost: 10.00,Commission: 0.00\n",
            "2022-11-04 11:25:00, SELL CREATED --- Size: 10\n",
            "2022-11-04 11:25:00, SELL EXECUTED --- Price: 85.29, Cost: 10.00,Commission: 0.00\n",
            "2022-11-04 11:25:00, OPERATION RESULT --- Gross: 4.95, Net: 4.95\n",
            "2022-11-04 12:05:00, BUY CREATED --- Size: 10, Cash: 10049.75, Open: 84.28379821777344, Close: 84.73500061035156\n",
            "2022-11-04 12:05:00, BUY EXECUTED --- Price: 84.28, Cost: 10.00,Commission: 0.00\n",
            "2022-11-04 12:35:00, SELL CREATED --- Size: 10\n",
            "2022-11-04 12:35:00, SELL EXECUTED --- Price: 85.51, Cost: 10.00,Commission: 0.00\n",
            "2022-11-04 12:35:00, OPERATION RESULT --- Gross: 12.31, Net: 12.31\n",
            "2022-11-04 13:10:00, BUY CREATED --- Size: 10, Cash: 10062.06, Open: 84.71499633789062, Close: 85.3499984741211\n",
            "2022-11-04 13:10:00, BUY EXECUTED --- Price: 84.71, Cost: 10.00,Commission: 0.00\n",
            "2022-11-04 13:30:00, SELL CREATED --- Size: 10\n",
            "2022-11-04 13:30:00, SELL EXECUTED --- Price: 85.25, Cost: 10.00,Commission: 0.00\n",
            "2022-11-04 13:30:00, OPERATION RESULT --- Gross: 5.35, Net: 5.35\n",
            "2022-11-07 10:00:00, BUY CREATED --- Size: 10, Cash: 10067.41, Open: 87.37000274658203, Close: 87.82499694824219\n",
            "2022-11-07 10:00:00, BUY EXECUTED --- Price: 87.37, Cost: 10.00,Commission: 0.00\n",
            "2022-11-07 11:40:00, SELL CREATED --- Size: 10\n",
            "2022-11-07 11:40:00, SELL EXECUTED --- Price: 87.68, Cost: 10.00,Commission: 0.00\n",
            "2022-11-07 11:40:00, OPERATION RESULT --- Gross: 3.10, Net: 3.10\n",
            "2022-11-09 10:05:00, BUY CREATED --- Size: 10, Cash: 10070.51, Open: 88.79000091552734, Close: 89.25\n",
            "2022-11-09 10:05:00, BUY EXECUTED --- Price: 88.79, Cost: 10.00,Commission: 0.00\n",
            "2022-11-09 10:25:00, SELL CREATED --- Size: 10\n",
            "2022-11-09 10:25:00, SELL EXECUTED --- Price: 89.18, Cost: 10.00,Commission: 0.00\n",
            "2022-11-09 10:25:00, OPERATION RESULT --- Gross: 3.95, Net: 3.95\n",
            "2022-11-09 11:40:00, BUY CREATED --- Size: 10, Cash: 10074.46, Open: 88.58999633789062, Close: 89.11000061035156\n",
            "2022-11-09 11:40:00, BUY EXECUTED --- Price: 88.59, Cost: 10.00,Commission: 0.00\n",
            "2022-11-09 11:55:00, SELL CREATED --- Size: 10\n",
            "2022-11-09 11:55:00, SELL EXECUTED --- Price: 88.90, Cost: 10.00,Commission: 0.00\n",
            "2022-11-09 11:55:00, OPERATION RESULT --- Gross: 3.10, Net: 3.10\n",
            "2022-11-10 09:45:00, BUY CREATED --- Size: 10, Cash: 10077.56, Open: 92.10060119628906, Close: 93.05500030517578\n",
            "2022-11-10 09:45:00, BUY EXECUTED --- Price: 92.10, Cost: 10.00,Commission: 0.00\n",
            "2022-11-10 10:35:00, SELL CREATED --- Size: 10\n",
            "2022-11-10 10:35:00, SELL EXECUTED --- Price: 93.18, Cost: 10.00,Commission: 0.00\n",
            "2022-11-10 10:35:00, OPERATION RESULT --- Gross: 10.74, Net: 10.74\n",
            "2022-11-10 10:40:00, BUY CREATED --- Size: 10, Cash: 10088.30, Open: 92.69999694824219, Close: 93.26000213623047\n",
            "2022-11-10 10:40:00, BUY EXECUTED --- Price: 92.70, Cost: 10.00,Commission: 0.00\n",
            "2022-11-10 11:00:00, SELL CREATED --- Size: 10\n",
            "2022-11-10 11:00:00, SELL EXECUTED --- Price: 93.33, Cost: 10.00,Commission: 0.00\n",
            "2022-11-10 11:00:00, OPERATION RESULT --- Gross: 6.30, Net: 6.30\n",
            "2022-11-10 11:10:00, BUY CREATED --- Size: 10, Cash: 10094.60, Open: 93.08999633789062, Close: 93.56999969482422\n",
            "2022-11-10 11:10:00, BUY EXECUTED --- Price: 93.09, Cost: 10.00,Commission: 0.00\n",
            "2022-11-10 12:45:00, SELL CREATED --- Size: 10\n",
            "2022-11-10 12:45:00, SELL EXECUTED --- Price: 93.53, Cost: 10.00,Commission: 0.00\n",
            "2022-11-10 12:45:00, OPERATION RESULT --- Gross: 4.35, Net: 4.35\n",
            "2022-11-11 09:40:00, BUY CREATED --- Size: 10, Cash: 10098.95, Open: 94.41000366210938, Close: 95.08000183105469\n",
            "2022-11-11 09:40:00, BUY EXECUTED --- Price: 94.41, Cost: 10.00,Commission: 0.00\n",
            "2022-11-11 09:50:00, SELL CREATED --- Size: 10\n",
            "2022-11-11 09:50:00, SELL EXECUTED --- Price: 95.60, Cost: 10.00,Commission: 0.00\n",
            "2022-11-11 09:50:00, OPERATION RESULT --- Gross: 11.85, Net: 11.85\n",
            "2022-11-11 10:10:00, BUY CREATED --- Size: 10, Cash: 10110.80, Open: 95.66000366210938, Close: 95.98999786376953\n",
            "2022-11-11 10:10:00, BUY EXECUTED --- Price: 95.66, Cost: 10.00,Commission: 0.00\n",
            "2022-11-11 11:05:00, SELL CREATED --- Size: 10\n",
            "2022-11-11 11:05:00, SELL EXECUTED --- Price: 96.72, Cost: 10.00,Commission: 0.00\n",
            "2022-11-11 11:05:00, OPERATION RESULT --- Gross: 10.65, Net: 10.65\n",
            "2022-11-14 09:35:00, BUY CREATED --- Size: 10, Cash: 10121.45, Open: 95.55000305175781, Close: 95.91339874267578\n",
            "2022-11-14 09:35:00, BUY EXECUTED --- Price: 95.55, Cost: 10.00,Commission: 0.00\n",
            "2022-11-14 09:40:00, SELL CREATED --- Size: 10\n",
            "2022-11-14 09:40:00, SELL EXECUTED --- Price: 95.91, Cost: 10.00,Commission: 0.00\n",
            "2022-11-14 09:40:00, OPERATION RESULT --- Gross: 3.60, Net: 3.60\n",
            "2022-11-14 09:45:00, BUY CREATED --- Size: 10, Cash: 10125.05, Open: 95.5199966430664, Close: 95.9000015258789\n",
            "2022-11-14 09:45:00, BUY EXECUTED --- Price: 95.52, Cost: 10.00,Commission: 0.00\n",
            "2022-11-14 10:20:00, SELL CREATED --- Size: 10\n",
            "2022-11-14 10:20:00, SELL EXECUTED --- Price: 96.07, Cost: 10.00,Commission: 0.00\n",
            "2022-11-14 10:20:00, OPERATION RESULT --- Gross: 5.45, Net: 5.45\n",
            "2022-11-14 11:30:00, BUY CREATED --- Size: 10, Cash: 10130.50, Open: 95.47000122070312, Close: 95.88999938964844\n",
            "2022-11-14 11:30:00, BUY EXECUTED --- Price: 95.47, Cost: 10.00,Commission: 0.00\n",
            "2022-11-14 15:10:00, SELL CREATED --- Size: 10\n",
            "2022-11-14 15:10:00, SELL EXECUTED --- Price: 97.12, Cost: 10.00,Commission: 0.00\n",
            "2022-11-14 15:10:00, OPERATION RESULT --- Gross: 16.55, Net: 16.55\n",
            "2022-11-15 09:55:00, BUY CREATED --- Size: 10, Cash: 10147.05, Open: 97.91000366210938, Close: 98.41999816894531\n",
            "2022-11-15 09:55:00, BUY EXECUTED --- Price: 97.91, Cost: 10.00,Commission: 0.00\n",
            "2022-11-15 10:45:00, SELL CREATED --- Size: 10\n",
            "2022-11-15 10:45:00, SELL EXECUTED --- Price: 98.86, Cost: 10.00,Commission: 0.00\n",
            "2022-11-15 10:45:00, OPERATION RESULT --- Gross: 9.50, Net: 9.50\n",
            "2022-11-15 11:05:00, BUY CREATED --- Size: 10, Cash: 10156.55, Open: 98.08000183105469, Close: 98.58999633789062\n",
            "2022-11-15 11:05:00, BUY EXECUTED --- Price: 98.08, Cost: 10.00,Commission: 0.00\n",
            "2022-11-15 11:35:00, SELL CREATED --- Size: 10\n",
            "2022-11-15 11:35:00, SELL EXECUTED --- Price: 99.96, Cost: 10.00,Commission: 0.00\n",
            "2022-11-15 11:35:00, OPERATION RESULT --- Gross: 18.80, Net: 18.80\n",
            "2022-11-15 11:40:00, BUY CREATED --- Size: 10, Cash: 10175.36, Open: 99.62010192871094, Close: 99.947998046875\n",
            "2022-11-15 11:40:00, BUY EXECUTED --- Price: 99.62, Cost: 10.00,Commission: 0.00\n",
            "2022-11-15 11:55:00, SELL CREATED --- Size: 10\n",
            "2022-11-15 11:55:00, SELL EXECUTED --- Price: 100.27, Cost: 10.00,Commission: 0.00\n",
            "2022-11-15 11:55:00, OPERATION RESULT --- Gross: 6.50, Net: 6.50\n",
            "2022-11-15 13:40:00, BUY CREATED --- Size: 10, Cash: 10181.85, Open: 97.33000183105469, Close: 97.91999816894531\n",
            "2022-11-15 13:40:00, BUY EXECUTED --- Price: 97.33, Cost: 10.00,Commission: 0.00\n",
            "2022-11-15 14:00:00, SELL CREATED --- Size: 10\n",
            "2022-11-15 14:00:00, SELL EXECUTED --- Price: 97.89, Cost: 10.00,Commission: 0.00\n",
            "2022-11-15 14:00:00, OPERATION RESULT --- Gross: 5.60, Net: 5.60\n",
            "2022-11-15 14:05:00, BUY CREATED --- Size: 10, Cash: 10187.45, Open: 97.30999755859375, Close: 97.63999938964844\n",
            "2022-11-15 14:05:00, BUY EXECUTED --- Price: 97.31, Cost: 10.00,Commission: 0.00\n",
            "2022-11-16 09:45:00, SELL CREATED --- Size: 10\n",
            "2022-11-16 09:45:00, SELL EXECUTED --- Price: 98.61, Cost: 10.00,Commission: 0.00\n",
            "2022-11-16 09:45:00, OPERATION RESULT --- Gross: 13.00, Net: 13.00\n",
            "2022-11-16 09:50:00, BUY CREATED --- Size: 10, Cash: 10200.45, Open: 98.04000091552734, Close: 98.52999877929688\n",
            "2022-11-16 09:50:00, BUY EXECUTED --- Price: 98.04, Cost: 10.00,Commission: 0.00\n",
            "2022-11-16 10:10:00, SELL CREATED --- Size: 10\n",
            "2022-11-16 10:10:00, SELL EXECUTED --- Price: 98.94, Cost: 10.00,Commission: 0.00\n",
            "2022-11-16 10:10:00, OPERATION RESULT --- Gross: 9.00, Net: 9.00\n",
            "2022-11-16 11:00:00, BUY CREATED --- Size: 10, Cash: 10209.45, Open: 98.56749725341797, Close: 99.00499725341797\n",
            "2022-11-16 11:00:00, BUY EXECUTED --- Price: 98.57, Cost: 10.00,Commission: 0.00\n",
            "2022-11-16 13:55:00, SELL CREATED --- Size: 10\n",
            "2022-11-16 13:55:00, SELL EXECUTED --- Price: 99.26, Cost: 10.00,Commission: 0.00\n",
            "2022-11-16 13:55:00, OPERATION RESULT --- Gross: 6.93, Net: 6.93\n",
            "2022-11-17 09:30:00, BUY CREATED --- Size: 10, Cash: 10216.38, Open: 97.18000030517578, Close: 98.0\n",
            "2022-11-17 09:30:00, BUY EXECUTED --- Price: 97.18, Cost: 10.00,Commission: 0.00\n",
            "2022-11-17 09:35:00, SELL CREATED --- Size: 10\n",
            "2022-11-17 09:35:00, SELL EXECUTED --- Price: 97.97, Cost: 10.00,Commission: 0.00\n",
            "2022-11-17 09:35:00, OPERATION RESULT --- Gross: 7.90, Net: 7.90\n",
            "2022-11-17 11:55:00, BUY CREATED --- Size: 10, Cash: 10224.28, Open: 98.41999816894531, Close: 98.87999725341797\n",
            "2022-11-17 11:55:00, BUY EXECUTED --- Price: 98.42, Cost: 10.00,Commission: 0.00\n",
            "2022-11-17 14:05:00, SELL CREATED --- Size: 10\n",
            "2022-11-17 14:05:00, SELL EXECUTED --- Price: 99.06, Cost: 10.00,Commission: 0.00\n",
            "2022-11-17 14:05:00, OPERATION RESULT --- Gross: 6.40, Net: 6.40\n",
            "2022-11-17 15:45:00, BUY CREATED --- Size: 10, Cash: 10230.68, Open: 98.05500030517578, Close: 98.43000030517578\n",
            "2022-11-17 15:45:00, BUY EXECUTED --- Price: 98.06, Cost: 10.00,Commission: 0.00\n",
            "2022-11-18 09:30:00, SELL CREATED --- Size: 10\n",
            "2022-11-18 09:30:00, SELL EXECUTED --- Price: 99.01, Cost: 10.00,Commission: 0.00\n",
            "2022-11-18 09:30:00, OPERATION RESULT --- Gross: 9.55, Net: 9.55\n",
            "2022-11-18 09:40:00, BUY CREATED --- Size: 10, Cash: 10240.23, Open: 97.8406982421875, Close: 98.73999786376953\n",
            "2022-11-18 09:40:00, BUY EXECUTED --- Price: 97.84, Cost: 10.00,Commission: 0.00\n",
            "2022-11-18 09:45:00, SELL CREATED --- Size: 10\n",
            "2022-11-18 09:45:00, SELL EXECUTED --- Price: 98.74, Cost: 10.00,Commission: 0.00\n",
            "2022-11-18 09:45:00, OPERATION RESULT --- Gross: 8.99, Net: 8.99\n",
            "2022-11-18 09:50:00, BUY CREATED --- Size: 10, Cash: 10249.22, Open: 98.23999786376953, Close: 98.86000061035156\n",
            "2022-11-18 09:50:00, BUY EXECUTED --- Price: 98.24, Cost: 10.00,Commission: 0.00\n",
            "2022-11-18 10:00:00, SELL CREATED --- Size: 10\n",
            "2022-11-18 10:00:00, SELL EXECUTED --- Price: 98.75, Cost: 10.00,Commission: 0.00\n",
            "2022-11-18 10:00:00, OPERATION RESULT --- Gross: 5.10, Net: 5.10\n",
            "2022-11-21 09:30:00, BUY CREATED --- Size: 10, Cash: 10254.32, Open: 97.55999755859375, Close: 98.0\n",
            "2022-11-21 09:30:00, BUY EXECUTED --- Price: 97.56, Cost: 10.00,Commission: 0.00\n",
            "2022-11-21 09:55:00, SELL CREATED --- Size: 10\n",
            "2022-11-21 09:55:00, SELL EXECUTED --- Price: 98.52, Cost: 10.00,Commission: 0.00\n",
            "2022-11-21 09:55:00, OPERATION RESULT --- Gross: 9.60, Net: 9.60\n",
            "2022-11-22 10:00:00, BUY CREATED --- Size: 10, Cash: 10263.92, Open: 94.4800033569336, Close: 94.94999694824219\n",
            "2022-11-22 10:00:00, BUY EXECUTED --- Price: 94.48, Cost: 10.00,Commission: 0.00\n",
            "2022-11-22 11:00:00, SELL CREATED --- Size: 10\n",
            "2022-11-22 11:00:00, SELL EXECUTED --- Price: 96.04, Cost: 10.00,Commission: 0.00\n",
            "2022-11-22 11:00:00, OPERATION RESULT --- Gross: 15.60, Net: 15.60\n",
            "2022-11-23 09:30:00, BUY CREATED --- Size: 10, Cash: 10279.52, Open: 97.33999633789062, Close: 97.70999908447266\n",
            "2022-11-23 09:30:00, BUY EXECUTED --- Price: 97.34, Cost: 10.00,Commission: 0.00\n",
            "2022-11-23 09:55:00, SELL CREATED --- Size: 10\n",
            "2022-11-23 09:55:00, SELL EXECUTED --- Price: 98.17, Cost: 10.00,Commission: 0.00\n",
            "2022-11-23 09:55:00, OPERATION RESULT --- Gross: 8.30, Net: 8.30\n",
            "2022-11-23 14:00:00, BUY CREATED --- Size: 10, Cash: 10287.82, Open: 98.06999969482422, Close: 98.72000122070312\n",
            "2022-11-23 14:00:00, BUY EXECUTED --- Price: 98.07, Cost: 10.00,Commission: 0.00\n",
            "2022-11-23 14:05:00, SELL CREATED --- Size: 10\n",
            "2022-11-23 14:05:00, SELL EXECUTED --- Price: 98.74, Cost: 10.00,Commission: 0.00\n",
            "2022-11-23 14:05:00, OPERATION RESULT --- Gross: 6.70, Net: 6.70\n",
            "2022-11-28 09:35:00, BUY CREATED --- Size: 10, Cash: 10294.52, Open: 97.08999633789062, Close: 97.38500213623047\n",
            "2022-11-28 09:35:00, BUY EXECUTED --- Price: 97.09, Cost: 10.00,Commission: 0.00\n",
            "2022-11-28 09:45:00, SELL CREATED --- Size: 10\n",
            "2022-11-28 09:45:00, SELL EXECUTED --- Price: 97.68, Cost: 10.00,Commission: 0.00\n",
            "2022-11-28 09:45:00, OPERATION RESULT --- Gross: 5.90, Net: 5.90\n",
            "2022-11-28 15:50:00, BUY CREATED --- Size: 10, Cash: 10300.42, Open: 96.01000213623047, Close: 96.41000366210938\n",
            "2022-11-28 15:50:00, BUY EXECUTED --- Price: 96.01, Cost: 10.00,Commission: 0.00\n",
            "2022-11-29 09:55:00, SELL CREATED --- Size: 10\n",
            "2022-11-29 09:55:00, SELL EXECUTED --- Price: 95.90, Cost: 10.00,Commission: 0.00\n",
            "2022-11-29 09:55:00, OPERATION RESULT --- Gross: -1.10, Net: -1.10\n",
            "Final Portfolio Value: 10299.32\n"
          ]
        }
      ],
      "source": [
        "STARTING_CASH = 10000.0\n",
        "COMMISSION = 0 # 0.0035 \n",
        "# set margin=1 to have a fixed commission per share, else None for a percentage\n",
        "MARGIN = 1\n",
        "\n",
        "# instantiate SignalData class\n",
        "data = SignalData(dataname=df)\n",
        "# instantiate Cerebro, add strategy, data, initial cash, commission \n",
        "cerebro = bt.Cerebro(stdstats=True, cheat_on_open=True)\n",
        "cerebro.addstrategy(MyStrategy)\n",
        "cerebro.adddata(data, name=ticker)\n",
        "cerebro.broker.setcash(STARTING_CASH)\n",
        "cerebro.broker.setcommission(commission=COMMISSION, margin=MARGIN)\n",
        "# cerebro.addanalyzer(bt.analyzers.PyFolio, _name='pyfolio')\n",
        "\n",
        "# run the backtest\n",
        "print('Starting Portfolio Value: %.2f' % cerebro.broker.getvalue())\n",
        "backtest_result = cerebro.run()\n",
        "final_value = cerebro.broker.getvalue()\n",
        "print('Final Portfolio Value: %.2f' % final_value)\n"
      ]
    },
    {
      "cell_type": "markdown",
      "metadata": {
        "id": "M-naLyX1w4lJ"
      },
      "source": [
        "Compute Net Gain\n",
        "\n",
        "$$\n",
        "    net\\_gain = \\frac{price_{new} - price_{orig}}{price_{orig}}\n",
        "$$"
      ]
    },
    {
      "cell_type": "code",
      "execution_count": 59,
      "metadata": {
        "id": "p8bfiP8lw4lK",
        "outputId": "9aa7fb4d-06d3-44e9-bdce-6cfb08ae9833"
      },
      "outputs": [
        {
          "name": "stdout",
          "output_type": "stream",
          "text": [
            "Net Gain Percentage: 2.99%\n"
          ]
        }
      ],
      "source": [
        "net_gain = (final_value - STARTING_CASH)/STARTING_CASH\n",
        "print(f'Net Gain Percentage: {net_gain*100:.2f}%')"
      ]
    },
    {
      "cell_type": "code",
      "execution_count": 60,
      "metadata": {
        "id": "gIcXsKdEw4lK",
        "outputId": "61e17b9c-5ca2-4b0b-f322-544f8b3b0ae8"
      },
      "outputs": [
        {
          "data": {
            "image/png": "[encoded data removed]",
            "text/plain": [
              "<Figure size 630x420 with 4 Axes>"
            ]
          },
          "metadata": {
            "needs_background": "light"
          },
          "output_type": "display_data"
        }
      ],
      "source": [
        "import matplotlib as mpl\n",
        "import matplotlib.pyplot as plt\n",
        "%matplotlib inline\n",
        "mpl.rcParams['figure.dpi'] = 105\n",
        "\n",
        "p = cerebro.plot(iplot=False)\n",
        "# p[0][0].suptitle('AAPL - linear model')"
      ]
    },
    {
      "cell_type": "code",
      "execution_count": null,
      "metadata": {},
      "outputs": [],
      "source": []
    }
  ],
  "metadata": {
    "colab": {
      "provenance": []
    },
    "kernelspec": {
      "display_name": "Python 3.9.12 ('tf')",
      "language": "python",
      "name": "python3"
    },
    "language_info": {
      "codemirror_mode": {
        "name": "ipython",
        "version": 3
      },
      "file_extension": ".py",
      "mimetype": "text/x-python",
      "name": "python",
      "nbconvert_exporter": "python",
      "pygments_lexer": "ipython3",
      "version": "3.9.12"
    },
    "orig_nbformat": 4,
    "vscode": {
      "interpreter": {
        "hash": "2b2da39daaaff30a84159e8452ba91acfc0bbd521fb66c6aa9941f847b87bd81"
      }
    }
  },
  "nbformat": 4,
  "nbformat_minor": 0
}
