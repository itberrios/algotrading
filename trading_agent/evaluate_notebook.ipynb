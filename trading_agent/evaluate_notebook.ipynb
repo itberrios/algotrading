{
  "cells": [
    {
      "cell_type": "markdown",
      "metadata": {
        "id": "uL7rliFsw4k7"
      },
      "source": [
        "## **Backtest models on real data**\n",
        "\n",
        "This is a working notebook to backtest different models on real data.\n",
        "\n",
        "NEED MATPLOTLIB Version 3.2.2 for cerebro plotting"
      ]
    },
    {
      "cell_type": "markdown",
      "source": [
        "Install libraries if necessary"
      ],
      "metadata": {
        "id": "BVPb0pIGw77C"
      }
    },
    {
      "cell_type": "code",
      "source": [
        "!pip install tensorflow-addons\n",
        "!pip install yfinance\n",
        "!pip install backtrader\n",
        "!pip install pip install matplotlib==3.2.2"
      ],
      "metadata": {
        "id": "LcUj-kNuw63N"
      },
      "execution_count": null,
      "outputs": []
    },
    {
      "cell_type": "code",
      "execution_count": 3,
      "metadata": {
        "id": "l7GogoFdw4k8"
      },
      "outputs": [],
      "source": [
        "import sys\n",
        "import os \n",
        "import yfinance as yf\n",
        "import numpy as np\n",
        "import pandas as pd\n",
        "import tensorflow as tf\n",
        "import backtrader as bt\n",
        "from datetime import datetime"
      ]
    },
    {
      "cell_type": "markdown",
      "source": [
        "Clone repo if using Colab"
      ],
      "metadata": {
        "id": "kg3whWE5zkqo"
      }
    },
    {
      "cell_type": "code",
      "source": [
        "!git clone https://github.com/itberrios/algotrading"
      ],
      "metadata": {
        "id": "zmyh3SwAzmce"
      },
      "execution_count": null,
      "outputs": []
    },
    {
      "cell_type": "markdown",
      "metadata": {
        "id": "J95Y_h5Qw4k-"
      },
      "source": [
        "local imports if not using Colab"
      ]
    },
    {
      "cell_type": "code",
      "execution_count": 4,
      "metadata": {
        "id": "kvFVFKpow4k-",
        "outputId": "9e97c1fd-436c-4c82-f13f-e232871049ba",
        "colab": {
          "base_uri": "https://localhost:8080/",
          "height": 374
        }
      },
      "outputs": [
        {
          "output_type": "error",
          "ename": "ModuleNotFoundError",
          "evalue": "ignored",
          "traceback": [
            "\u001b[0;31m---------------------------------------------------------------------------\u001b[0m",
            "\u001b[0;31mModuleNotFoundError\u001b[0m                       Traceback (most recent call last)",
            "\u001b[0;32m<ipython-input-4-b1382d5c3f55>\u001b[0m in \u001b[0;36m<module>\u001b[0;34m\u001b[0m\n\u001b[1;32m      2\u001b[0m \u001b[0msys\u001b[0m\u001b[0;34m.\u001b[0m\u001b[0mpath\u001b[0m\u001b[0;34m.\u001b[0m\u001b[0mappend\u001b[0m\u001b[0;34m(\u001b[0m\u001b[0mos\u001b[0m\u001b[0;34m.\u001b[0m\u001b[0mgetcwd\u001b[0m\u001b[0;34m(\u001b[0m\u001b[0;34m)\u001b[0m\u001b[0;34m)\u001b[0m\u001b[0;34m\u001b[0m\u001b[0;34m\u001b[0m\u001b[0m\n\u001b[1;32m      3\u001b[0m \u001b[0;34m\u001b[0m\u001b[0m\n\u001b[0;32m----> 4\u001b[0;31m \u001b[0;32mfrom\u001b[0m \u001b[0mdata_utils\u001b[0m \u001b[0;32mimport\u001b[0m \u001b[0;34m*\u001b[0m\u001b[0;34m\u001b[0m\u001b[0;34m\u001b[0m\u001b[0m\n\u001b[0m\u001b[1;32m      5\u001b[0m \u001b[0;32mfrom\u001b[0m \u001b[0mStrategies\u001b[0m \u001b[0;32mimport\u001b[0m \u001b[0;34m*\u001b[0m\u001b[0;34m\u001b[0m\u001b[0;34m\u001b[0m\u001b[0m\n\u001b[1;32m      6\u001b[0m \u001b[0;32mfrom\u001b[0m \u001b[0mpredictive_analytics\u001b[0m\u001b[0;34m.\u001b[0m\u001b[0mRNN\u001b[0m\u001b[0;34m.\u001b[0m\u001b[0mfunctions\u001b[0m \u001b[0;32mimport\u001b[0m \u001b[0mtransform_raw_data\u001b[0m\u001b[0;34m,\u001b[0m \u001b[0mlast_step_accuracy\u001b[0m\u001b[0;34m,\u001b[0m \u001b[0mget_last_step_predictions_with_confidence\u001b[0m\u001b[0;34m\u001b[0m\u001b[0;34m\u001b[0m\u001b[0m\n",
            "\u001b[0;31mModuleNotFoundError\u001b[0m: No module named 'data_utils'",
            "",
            "\u001b[0;31m---------------------------------------------------------------------------\u001b[0;32m\nNOTE: If your import is failing due to a missing package, you can\nmanually install dependencies using either !pip or !apt.\n\nTo view examples of installing some common dependencies, click the\n\"Open Examples\" button below.\n\u001b[0;31m---------------------------------------------------------------------------\u001b[0m\n"
          ],
          "errorDetails": {
            "actions": [
              {
                "action": "open_url",
                "actionText": "Open Examples",
                "url": "/notebooks/snippets/importing_libraries.ipynb"
              }
            ]
          }
        }
      ],
      "source": [
        "sys.path.append(os.path.abspath(os.path.abspath('..')))\n",
        "sys.path.append(os.getcwd())\n",
        "\n",
        "from data_utils import *\n",
        "from Strategies import *\n",
        "from predictive_analytics.RNN.functions import transform_raw_data, last_step_accuracy, get_last_step_predictions_with_confidence\n",
        "from predictive_analytics.transformer.models.basic_transformer import TransformerModel\n"
      ]
    },
    {
      "cell_type": "markdown",
      "source": [
        "Local Imports for Colab usage"
      ],
      "metadata": {
        "id": "7_gKb3YoxdEN"
      }
    },
    {
      "cell_type": "code",
      "source": [
        "!wget https://raw.githubusercontent.com/itberrios/algotrading/main/data_utils.py\n",
        "!wget https://raw.githubusercontent.com/itberrios/algotrading/main/trading_agent/Strategies.py\n",
        "!wget https://raw.githubusercontent.com/itberrios/algotrading/main/predictive_analytics/RNN/functions.py\n",
        "!wget https://raw.githubusercontent.com/itberrios/algotrading/main/predictive_analytics/transformer/models/basic_transformer.py"
      ],
      "metadata": {
        "id": "76hT5Sypxhcx"
      },
      "execution_count": null,
      "outputs": []
    },
    {
      "cell_type": "code",
      "source": [
        "from data_utils import *\n",
        "from Strategies import *\n",
        "from functions import transform_raw_data, last_step_accuracy, get_last_step_predictions_with_confidence\n",
        "from basic_transformer import TransformerModel"
      ],
      "metadata": {
        "id": "IL1GQpU4yXco"
      },
      "execution_count": 12,
      "outputs": []
    },
    {
      "cell_type": "markdown",
      "metadata": {
        "id": "8fFiXuwcw4lA"
      },
      "source": [
        "Get trained models - use for local"
      ]
    },
    {
      "cell_type": "code",
      "execution_count": null,
      "metadata": {
        "id": "rBzagbQ3w4lA"
      },
      "outputs": [],
      "source": [
        "RNN_MODEL = \"../predictive_analytics/RNN/models/beta_1\"\n",
        "LINEAR_MODEL = \"../predictive_analytics/transformer/models/basic_linear_model_2\"\n",
        "TRANSFORMER_MODEL = \"../predictive_analytics/transformer/models/transformer_checkpoint\""
      ]
    },
    {
      "cell_type": "markdown",
      "source": [
        "Use the followinf cells for Colab usage"
      ],
      "metadata": {
        "id": "Sf1gIXn-yvbf"
      }
    },
    {
      "cell_type": "code",
      "source": [
        "!wget https://github.com/itberrios/algotrading/tree/main/predictive_analytics/transformer/models"
      ],
      "metadata": {
        "id": "x09SZZe4yumo"
      },
      "execution_count": null,
      "outputs": []
    },
    {
      "cell_type": "code",
      "source": [
        "!git clone https://github.com/itberrios/algotrading"
      ],
      "metadata": {
        "id": "AMZMD9apzPVt",
        "outputId": "dbf6dcc6-4238-474d-c692-55953f379853",
        "colab": {
          "base_uri": "https://localhost:8080/"
        }
      },
      "execution_count": 13,
      "outputs": [
        {
          "output_type": "stream",
          "name": "stdout",
          "text": [
            "Cloning into 'algotrading'...\n",
            "remote: Enumerating objects: 780, done.\u001b[K\n",
            "remote: Counting objects: 100% (198/198), done.\u001b[K\n",
            "remote: Compressing objects: 100% (155/155), done.\u001b[K\n",
            "remote: Total 780 (delta 72), reused 144 (delta 39), pack-reused 582\u001b[K\n",
            "Receiving objects: 100% (780/780), 252.78 MiB | 24.31 MiB/s, done.\n",
            "Resolving deltas: 100% (319/319), done.\n",
            "Checking out files: 100% (200/200), done.\n"
          ]
        }
      ]
    },
    {
      "cell_type": "markdown",
      "metadata": {
        "id": "eFsMmvmJw4lB"
      },
      "source": [
        "Helper functions"
      ]
    },
    {
      "cell_type": "code",
      "execution_count": null,
      "metadata": {
        "id": "cUX08vqkw4lB"
      },
      "outputs": [],
      "source": [
        "def change_time_format(timestamp): # so that backtrader logs are correct\n",
        "    reg = \"%Y-%m-%d %H:%M:%S\"\n",
        "    time_as_str = timestamp.strftime(reg)\n",
        "    reformatted_time = datetime.strptime(time_as_str, reg)\n",
        "    return reformatted_time\n",
        "\n",
        "\n",
        "def get_predictions_with_confidence(model, X):\n",
        "    ''' used for models that only output a single target'''\n",
        "    y_pred = model.predict(X)\n",
        "    pred_labels = tf.argmax(y_pred, axis=-1).numpy()\n",
        "    probabilities = tf.reduce_max(y_pred, axis=-1).numpy()\n",
        "    return np.c_[pred_labels.reshape((-1,1)), probabilities.reshape((-1,1))]\n",
        "\n",
        "# modify strategy here\n",
        "class MyStrategy(bt.Strategy):\n",
        "    params = dict(\n",
        "    )\n",
        "    \n",
        "    def __init__(self):\n",
        "        # keep track of open, close prices and predicted value in the series\n",
        "        self.data_prediction = self.datas[0].prediction\n",
        "        self.data_confidence = self.datas[0].confidence\n",
        "        self.data_open = self.datas[0].open\n",
        "        self.data_close = self.datas[0].close\n",
        "\n",
        "        # set number of shares to buy sell\n",
        "        self.num_shares = 300\n",
        "\n",
        "        # set required buy/sell probabilities\n",
        "        self.buy_prob = 0.7\n",
        "        self.sell_prob = 0.6\n",
        "        \n",
        "        # keep track of pending orders/buy price/buy commission\n",
        "        self.order = None\n",
        "        self.price = None\n",
        "        self.comm = None\n",
        "        \n",
        "        \n",
        "    # logging function\n",
        "    def log(self, txt):\n",
        "        '''Logging function'''\n",
        "        dt = str(self.datas[0].datetime.datetime())\n",
        "        print(f'{dt}, {txt}')\n",
        "    \n",
        "    \n",
        "    def notify_order(self, order):\n",
        "        if order.status in [order.Submitted, order.Accepted]:\n",
        "            # order already submitted/accepted - no action required\n",
        "            return\n",
        "        # report executed order\n",
        "        if order.status in [order.Completed]:\n",
        "            if order.isbuy():\n",
        "                self.log(f'BUY EXECUTED --- Price: {order.executed.price:.2f}, Cost: {order.executed.value:.2f},Commission: {order.executed.comm:.2f}'\n",
        "                )\n",
        "                self.price = order.executed.price\n",
        "                self.comm = order.executed.comm\n",
        "            else:\n",
        "                self.log(f'SELL EXECUTED --- Price: {order.executed.price:.2f}, Cost: {order.executed.value:.2f},Commission: {order.executed.comm:.2f}'\n",
        "                )\n",
        "        # report failed order\n",
        "        elif order.status in [order.Canceled, order.Margin, \n",
        "                              order.Rejected]:\n",
        "            self.log('Order Failed')\n",
        "        # set no pending order\n",
        "        self.order = None\n",
        "    \n",
        "    \n",
        "    def notify_trade(self, trade):\n",
        "        if not trade.isclosed:\n",
        "            return\n",
        "        self.log(f'OPERATION RESULT --- Gross: {trade.pnl:.2f}, Net: {trade.pnlcomm:.2f}')\n",
        "        \n",
        "    \n",
        "    def next_open(self):\n",
        "        if not self.position:   # not in the market\n",
        "            if self.data_prediction == 1:\n",
        "                if self.data_confidence > self.buy_prob and self.broker.getcash() > self.data_open*10:\n",
        "                    # buy order\n",
        "                    self.log(f'BUY CREATED --- Size: {self.num_shares}, Cash: {self.broker.getcash():.2f}, Open: {self.data_open[0]}, Close: {self.data_close[0]}')\n",
        "                    self.buy(size=self.num_shares)\n",
        "        else:                   # in the market\n",
        "            if self.data_prediction == 0 and self.data_confidence > self.sell_prob:\n",
        "                # sell order\n",
        "                self.log(f'SELL CREATED --- Size: {self.position.size}')\n",
        "                self.sell(size=self.position.size)"
      ]
    },
    {
      "cell_type": "markdown",
      "metadata": {
        "id": "mtZjfu7Ww4lD"
      },
      "source": [
        "##### Load Model\n",
        "The model loading and inferences will be different for each model type"
      ]
    },
    {
      "cell_type": "code",
      "execution_count": null,
      "metadata": {
        "id": "RV32xSwQw4lE"
      },
      "outputs": [],
      "source": [
        "# linear model\n",
        "model = tf.keras.models.load_model(LINEAR_MODEL, custom_objects={'mcc_metric' : mcc_metric})"
      ]
    },
    {
      "cell_type": "code",
      "execution_count": null,
      "metadata": {
        "id": "6ISn3k_1w4lE",
        "outputId": "f1cd5fec-45c6-4b0b-cc4c-2bccf5e8085a"
      },
      "outputs": [
        {
          "name": "stdout",
          "output_type": "stream",
          "text": [
            "WARNING:tensorflow:SavedModel saved prior to TF 2.5 detected when loading Keras model. Please ensure that you are saving the model with model.save() or tf.keras.models.save_model(), *NOT* tf.saved_model.save(). To confirm, there should be a file named \"keras_metadata.pb\" in the SavedModel directory.\n"
          ]
        }
      ],
      "source": [
        "# RNN\n",
        "model = tf.keras.models.load_model(RNN_MODEL, custom_objects={'last_step_accuracy': last_step_accuracy})"
      ]
    },
    {
      "cell_type": "code",
      "execution_count": null,
      "metadata": {
        "id": "2RSddJ5Zw4lF"
      },
      "outputs": [],
      "source": [
        "from tensorflow_addons.layers import multihead_attention\n",
        "\n",
        "custom_objects={\n",
        "    'MultiHeadAttention' : multihead_attention.MultiHeadAttention,\n",
        "    'TransformerModel' : TransformerModel,\n",
        "    'mcc_metric' : mcc_metric}\n",
        "\n",
        "model = tf.keras.models.load_model(TRANSFORMER_MODEL,\n",
        "                                   custom_objects=custom_objects)"
      ]
    },
    {
      "cell_type": "markdown",
      "metadata": {
        "id": "8BRkfsorw4lF"
      },
      "source": [
        "Load Transformer"
      ]
    },
    {
      "cell_type": "markdown",
      "metadata": {
        "id": "2WvAE1Rrw4lF"
      },
      "source": [
        "#### Get stock data"
      ]
    },
    {
      "cell_type": "code",
      "execution_count": null,
      "metadata": {
        "id": "z3m-Ys07w4lG"
      },
      "outputs": [],
      "source": [
        "ticker = 'TSLA'\n",
        "START_DATE = '2022-11-1'\n",
        "END_DATE = '2022-11-20'\n",
        "\n",
        "EVAL_RANGE=24\n",
        "PREDICT_RANGE=3\n",
        "INTERVAL = 5"
      ]
    },
    {
      "cell_type": "code",
      "execution_count": null,
      "metadata": {
        "id": "88FpvVmuw4lG"
      },
      "outputs": [],
      "source": [
        "# for normalization\n",
        "train_means = np.load('../data/transformed/{}min/{}_train_means.npy'.format(INTERVAL, ticker))\n",
        "train_stds = np.load('../data/transformed/{}min/{}_train_stds.npy'.format(INTERVAL, ticker))\n",
        "\n",
        "# get stock data\n",
        "tickerData = yf.Ticker(ticker)\n",
        "df = tickerData.history(interval=\"{}m\".format(INTERVAL),  start=START_DATE, end=END_DATE)\n",
        "df = df.reset_index().rename({'Datetime':'Time'}, axis=1)\n",
        "\n",
        "# transform\n",
        "data, targets, time_stamps = transform_raw_data(df, INTERVAL, EVAL_RANGE=24, \n",
        "                                      PREDICT_RANGE=3, NO_CHANGE_THRESHOLD=0.01,\n",
        "                                      TRAIN_RATIO=None, train_means=train_means,\n",
        "                                      train_stds=train_stds)"
      ]
    },
    {
      "cell_type": "markdown",
      "metadata": {
        "id": "ErSFh-Hxw4lG"
      },
      "source": [
        "#### Get Predictions\n",
        "Inferences will be different for each model type"
      ]
    },
    {
      "cell_type": "code",
      "execution_count": null,
      "metadata": {
        "id": "17VaLNJQw4lG"
      },
      "outputs": [],
      "source": [
        "# linear\n",
        "y_pred = get_predictions_with_confidence(model, data[:, -1, :])"
      ]
    },
    {
      "cell_type": "code",
      "execution_count": null,
      "metadata": {
        "id": "KfAUUA6jw4lG",
        "outputId": "b184d856-a28a-4c56-ae2b-1f106c1429a7"
      },
      "outputs": [
        {
          "name": "stdout",
          "output_type": "stream",
          "text": [
            "34/34 [==============================] - 0s 14ms/step\n"
          ]
        }
      ],
      "source": [
        "# RNN\n",
        "y_pred = get_last_step_predictions_with_confidence(model, data)"
      ]
    },
    {
      "cell_type": "code",
      "execution_count": null,
      "metadata": {
        "id": "pGxEHKGSw4lI",
        "outputId": "a1762d45-014c-4ff0-a8bc-8c721a19bb63"
      },
      "outputs": [
        {
          "name": "stdout",
          "output_type": "stream",
          "text": [
            "34/34 [==============================] - 0s 9ms/step\n"
          ]
        }
      ],
      "source": [
        "# Transformer\n",
        "y_pred = get_predictions_with_confidence(model, data)"
      ]
    },
    {
      "cell_type": "markdown",
      "metadata": {
        "id": "WY3xtbPCw4lI"
      },
      "source": [
        "#### Prepare for Backtrade analysis"
      ]
    },
    {
      "cell_type": "code",
      "execution_count": null,
      "metadata": {
        "id": "E7FtB483w4lI"
      },
      "outputs": [],
      "source": [
        "# supress setting with copy warning\n",
        "# https://stackoverflow.com/questions/20625582/how-to-deal-with-settingwithcopywarning-in-pandas\n",
        "pd.options.mode.chained_assignment = None\n",
        "\n",
        "# create data file for backtrade\n",
        "df = df.loc[EVAL_RANGE-1:df.shape[0]-PREDICT_RANGE-1] # data points with labels\n",
        "df.drop(['Dividends','Stock Splits'], axis=1, inplace=True)\n",
        "df.rename(columns = {'Open':'open','High':'high','Low':'low','Adj Close':'close','Volume':'volume',\n",
        "                         }, inplace=True)\n",
        "df[['prediction','confidence']] = y_pred\n",
        "df['Time'] = df['Time'].apply(change_time_format)\n",
        "df.set_index('Time', inplace=True)\n",
        "\n",
        "# print(df.head())\n",
        "\n",
        "# return setting with copy warning to default \n",
        "pd.options.mode.chained_assignment = 'warn'"
      ]
    },
    {
      "cell_type": "markdown",
      "metadata": {
        "id": "-2SvEEuQw4lI"
      },
      "source": [
        "#### Perform Backtrade Analysis\n",
        "\n",
        "Brokers such as IB charge about $ 0.0005 - 0.0035 per share. So we can take an average price value (with an added fudge factor) and compute an estimated commision percentage.\n",
        "\n",
        "https://www.interactivebrokers.com/en/pricing/commissions-home.php"
      ]
    },
    {
      "cell_type": "code",
      "execution_count": null,
      "metadata": {
        "id": "uoUYhTNbw4lJ",
        "outputId": "df59e8b1-3222-4349-9de9-2df2de479dad"
      },
      "outputs": [
        {
          "data": {
            "text/plain": [
              "1.9951840488864144e-05"
            ]
          },
          "execution_count": 139,
          "metadata": {},
          "output_type": "execute_result"
        }
      ],
      "source": [
        "0.005 / (df.Close.mean() + (df.Close.max() - df.Close.min())) "
      ]
    },
    {
      "cell_type": "code",
      "execution_count": null,
      "metadata": {
        "id": "vmIg11Few4lJ",
        "outputId": "aa108aea-e2ee-41c3-cc74-4508c90ff561"
      },
      "outputs": [
        {
          "name": "stdout",
          "output_type": "stream",
          "text": [
            "Starting Portfolio Value: 100000.00\n",
            "2022-11-02 09:40:00, BUY CREATED --- Size: 300, Cash: 100000.00, Open: 225.08999633789062, Close: 226.0500030517578\n",
            "2022-11-02 09:40:00, BUY EXECUTED --- Price: 225.09, Cost: 300.00,Commission: 1.05\n",
            "2022-11-02 10:05:00, SELL CREATED --- Size: 300\n",
            "2022-11-02 10:05:00, SELL EXECUTED --- Price: 227.30, Cost: 300.00,Commission: 1.05\n",
            "2022-11-02 10:05:00, OPERATION RESULT --- Gross: 663.00, Net: 660.90\n",
            "2022-11-02 14:00:00, BUY CREATED --- Size: 300, Cash: 100660.90, Open: 221.88999938964844, Close: 226.55999755859375\n",
            "2022-11-02 14:00:00, BUY EXECUTED --- Price: 221.89, Cost: 300.00,Commission: 1.05\n",
            "2022-11-02 14:05:00, SELL CREATED --- Size: 300\n",
            "2022-11-02 14:05:00, SELL EXECUTED --- Price: 226.50, Cost: 300.00,Commission: 1.05\n",
            "2022-11-02 14:05:00, OPERATION RESULT --- Gross: 1381.98, Net: 1379.88\n",
            "2022-11-02 14:25:00, BUY CREATED --- Size: 300, Cash: 102040.78, Open: 224.89999389648438, Close: 226.375\n",
            "2022-11-02 14:25:00, BUY EXECUTED --- Price: 224.90, Cost: 300.00,Commission: 1.05\n",
            "2022-11-02 14:30:00, SELL CREATED --- Size: 300\n",
            "2022-11-02 14:30:00, SELL EXECUTED --- Price: 226.38, Cost: 300.00,Commission: 1.05\n",
            "2022-11-02 14:30:00, OPERATION RESULT --- Gross: 444.00, Net: 441.90\n",
            "2022-11-02 15:05:00, BUY CREATED --- Size: 300, Cash: 102482.68, Open: 219.25, Close: 221.02999877929688\n",
            "2022-11-02 15:05:00, BUY EXECUTED --- Price: 219.25, Cost: 300.00,Commission: 1.05\n",
            "2022-11-02 15:10:00, SELL CREATED --- Size: 300\n",
            "2022-11-02 15:10:00, SELL EXECUTED --- Price: 221.02, Cost: 300.00,Commission: 1.05\n",
            "2022-11-02 15:10:00, OPERATION RESULT --- Gross: 531.00, Net: 528.90\n",
            "2022-11-03 09:30:00, BUY CREATED --- Size: 300, Cash: 103011.59, Open: 211.36000061035156, Close: 215.75999450683594\n",
            "2022-11-03 09:30:00, BUY EXECUTED --- Price: 211.36, Cost: 300.00,Commission: 1.05\n",
            "2022-11-03 09:55:00, SELL CREATED --- Size: 300\n",
            "2022-11-03 09:55:00, SELL EXECUTED --- Price: 216.18, Cost: 300.00,Commission: 1.05\n",
            "2022-11-03 09:55:00, OPERATION RESULT --- Gross: 1446.00, Net: 1443.90\n",
            "2022-11-03 10:00:00, BUY CREATED --- Size: 300, Cash: 104455.48, Open: 215.27999877929688, Close: 217.5800018310547\n",
            "2022-11-03 10:00:00, BUY EXECUTED --- Price: 215.28, Cost: 300.00,Commission: 1.05\n",
            "2022-11-03 10:05:00, SELL CREATED --- Size: 300\n",
            "2022-11-03 10:05:00, SELL EXECUTED --- Price: 217.60, Cost: 300.00,Commission: 1.05\n",
            "2022-11-03 10:05:00, OPERATION RESULT --- Gross: 697.50, Net: 695.40\n",
            "2022-11-03 10:10:00, BUY CREATED --- Size: 300, Cash: 105150.88, Open: 216.4199981689453, Close: 218.3300018310547\n",
            "2022-11-03 10:10:00, BUY EXECUTED --- Price: 216.42, Cost: 300.00,Commission: 1.05\n",
            "2022-11-03 10:30:00, SELL CREATED --- Size: 300\n",
            "2022-11-03 10:30:00, SELL EXECUTED --- Price: 218.88, Cost: 300.00,Commission: 1.05\n",
            "2022-11-03 10:30:00, OPERATION RESULT --- Gross: 738.00, Net: 735.90\n",
            "2022-11-03 10:35:00, BUY CREATED --- Size: 300, Cash: 105886.78, Open: 217.82000732421875, Close: 219.2946014404297\n",
            "2022-11-03 10:35:00, BUY EXECUTED --- Price: 217.82, Cost: 300.00,Commission: 1.05\n",
            "2022-11-03 10:50:00, SELL CREATED --- Size: 300\n",
            "2022-11-03 10:50:00, SELL EXECUTED --- Price: 220.46, Cost: 300.00,Commission: 1.05\n",
            "2022-11-03 10:50:00, OPERATION RESULT --- Gross: 792.21, Net: 790.11\n",
            "2022-11-03 12:40:00, BUY CREATED --- Size: 300, Cash: 106676.89, Open: 215.02999877929688, Close: 216.1717987060547\n",
            "2022-11-03 12:40:00, BUY EXECUTED --- Price: 215.03, Cost: 300.00,Commission: 1.05\n",
            "2022-11-04 09:30:00, SELL CREATED --- Size: 300\n",
            "2022-11-04 09:30:00, SELL EXECUTED --- Price: 222.60, Cost: 300.00,Commission: 1.05\n",
            "2022-11-04 09:30:00, OPERATION RESULT --- Gross: 2271.00, Net: 2268.90\n",
            "2022-11-04 09:45:00, BUY CREATED --- Size: 300, Cash: 108945.79, Open: 217.0, Close: 217.8800048828125\n",
            "2022-11-04 09:45:00, BUY EXECUTED --- Price: 217.00, Cost: 300.00,Commission: 1.05\n",
            "2022-11-04 10:00:00, SELL CREATED --- Size: 300\n",
            "2022-11-04 10:00:00, SELL EXECUTED --- Price: 220.28, Cost: 300.00,Commission: 1.05\n",
            "2022-11-04 10:00:00, OPERATION RESULT --- Gross: 984.00, Net: 981.90\n",
            "2022-11-04 10:05:00, BUY CREATED --- Size: 300, Cash: 109927.69, Open: 219.0449981689453, Close: 219.85000610351562\n",
            "2022-11-04 10:05:00, BUY EXECUTED --- Price: 219.04, Cost: 300.00,Commission: 1.05\n",
            "2022-11-04 10:50:00, SELL CREATED --- Size: 300\n",
            "2022-11-04 10:50:00, SELL EXECUTED --- Price: 222.99, Cost: 300.00,Commission: 1.05\n",
            "2022-11-04 10:50:00, OPERATION RESULT --- Gross: 1183.47, Net: 1181.37\n",
            "2022-11-04 12:05:00, BUY CREATED --- Size: 300, Cash: 111109.06, Open: 210.69500732421875, Close: 211.49989318847656\n",
            "2022-11-04 12:05:00, BUY EXECUTED --- Price: 210.70, Cost: 300.00,Commission: 1.05\n",
            "2022-11-04 12:10:00, SELL CREATED --- Size: 300\n",
            "2022-11-04 12:10:00, SELL EXECUTED --- Price: 211.46, Cost: 300.00,Commission: 1.05\n",
            "2022-11-04 12:10:00, OPERATION RESULT --- Gross: 231.00, Net: 228.90\n",
            "2022-11-04 12:50:00, BUY CREATED --- Size: 300, Cash: 111337.96, Open: 205.5800018310547, Close: 206.1300048828125\n",
            "2022-11-04 12:50:00, BUY EXECUTED --- Price: 205.58, Cost: 300.00,Commission: 1.05\n",
            "2022-11-04 12:55:00, SELL CREATED --- Size: 300\n",
            "2022-11-04 12:55:00, SELL EXECUTED --- Price: 206.11, Cost: 300.00,Commission: 1.05\n",
            "2022-11-04 12:55:00, OPERATION RESULT --- Gross: 159.00, Net: 156.90\n",
            "2022-11-04 13:00:00, BUY CREATED --- Size: 300, Cash: 111494.86, Open: 204.47470092773438, Close: 205.0\n",
            "2022-11-04 13:00:00, BUY EXECUTED --- Price: 204.47, Cost: 300.00,Commission: 1.05\n",
            "2022-11-04 13:05:00, SELL CREATED --- Size: 300\n",
            "2022-11-04 13:05:00, SELL EXECUTED --- Price: 205.00, Cost: 300.00,Commission: 1.05\n",
            "2022-11-04 13:05:00, OPERATION RESULT --- Gross: 157.59, Net: 155.49\n",
            "2022-11-04 13:10:00, BUY CREATED --- Size: 300, Cash: 111650.35, Open: 203.33999633789062, Close: 204.75\n",
            "2022-11-04 13:10:00, BUY EXECUTED --- Price: 203.34, Cost: 300.00,Commission: 1.05\n",
            "2022-11-04 14:45:00, SELL CREATED --- Size: 300\n",
            "2022-11-04 14:45:00, SELL EXECUTED --- Price: 206.95, Cost: 300.00,Commission: 1.05\n",
            "2022-11-04 14:45:00, OPERATION RESULT --- Gross: 1083.00, Net: 1080.90\n",
            "2022-11-04 15:05:00, BUY CREATED --- Size: 300, Cash: 112731.25, Open: 206.60000610351562, Close: 207.6999969482422\n",
            "2022-11-04 15:05:00, BUY EXECUTED --- Price: 206.60, Cost: 300.00,Commission: 1.05\n",
            "2022-11-04 15:20:00, SELL CREATED --- Size: 300\n",
            "2022-11-04 15:20:00, SELL EXECUTED --- Price: 207.54, Cost: 300.00,Commission: 1.05\n",
            "2022-11-04 15:20:00, OPERATION RESULT --- Gross: 283.08, Net: 280.98\n",
            "2022-11-04 15:55:00, BUY CREATED --- Size: 300, Cash: 113012.23, Open: 206.42999267578125, Close: 207.47999572753906\n",
            "2022-11-04 15:55:00, BUY EXECUTED --- Price: 206.43, Cost: 300.00,Commission: 1.05\n",
            "2022-11-07 09:30:00, SELL CREATED --- Size: 300\n",
            "2022-11-07 09:30:00, SELL EXECUTED --- Price: 208.65, Cost: 300.00,Commission: 1.05\n",
            "2022-11-07 09:30:00, OPERATION RESULT --- Gross: 666.00, Net: 663.90\n",
            "2022-11-07 09:55:00, BUY CREATED --- Size: 300, Cash: 113676.13, Open: 201.49000549316406, Close: 202.41000366210938\n",
            "2022-11-07 09:55:00, BUY EXECUTED --- Price: 201.49, Cost: 300.00,Commission: 1.05\n",
            "2022-11-07 10:05:00, SELL CREATED --- Size: 300\n",
            "2022-11-07 10:05:00, SELL EXECUTED --- Price: 203.44, Cost: 300.00,Commission: 1.05\n",
            "2022-11-07 10:05:00, OPERATION RESULT --- Gross: 584.10, Net: 582.00\n",
            "2022-11-07 11:25:00, BUY CREATED --- Size: 300, Cash: 114258.12, Open: 198.17999267578125, Close: 199.83999633789062\n",
            "2022-11-07 11:25:00, BUY EXECUTED --- Price: 198.18, Cost: 300.00,Commission: 1.05\n",
            "2022-11-07 11:35:00, SELL CREATED --- Size: 300\n",
            "2022-11-07 11:35:00, SELL EXECUTED --- Price: 200.24, Cost: 300.00,Commission: 1.05\n",
            "2022-11-07 11:35:00, OPERATION RESULT --- Gross: 618.00, Net: 615.90\n",
            "2022-11-07 11:45:00, BUY CREATED --- Size: 300, Cash: 114874.03, Open: 197.14999389648438, Close: 197.96499633789062\n",
            "2022-11-07 11:45:00, BUY EXECUTED --- Price: 197.15, Cost: 300.00,Commission: 1.05\n",
            "2022-11-07 13:20:00, SELL CREATED --- Size: 300\n",
            "2022-11-07 13:20:00, SELL EXECUTED --- Price: 199.17, Cost: 300.00,Commission: 1.05\n",
            "2022-11-07 13:20:00, OPERATION RESULT --- Gross: 606.00, Net: 603.90\n",
            "2022-11-08 09:50:00, BUY CREATED --- Size: 300, Cash: 115477.93, Open: 187.94000244140625, Close: 190.02000427246094\n",
            "2022-11-08 09:50:00, BUY EXECUTED --- Price: 187.94, Cost: 300.00,Commission: 1.05\n",
            "2022-11-08 09:55:00, SELL CREATED --- Size: 300\n",
            "2022-11-08 09:55:00, SELL EXECUTED --- Price: 190.02, Cost: 300.00,Commission: 1.05\n",
            "2022-11-08 09:55:00, OPERATION RESULT --- Gross: 624.00, Net: 621.90\n",
            "2022-11-08 10:25:00, BUY CREATED --- Size: 300, Cash: 116099.83, Open: 187.4600067138672, Close: 188.98959350585938\n",
            "2022-11-08 10:25:00, BUY EXECUTED --- Price: 187.46, Cost: 300.00,Commission: 1.05\n",
            "2022-11-08 10:40:00, SELL CREATED --- Size: 300\n",
            "2022-11-08 10:40:00, SELL EXECUTED --- Price: 188.91, Cost: 300.00,Commission: 1.05\n",
            "2022-11-08 10:40:00, OPERATION RESULT --- Gross: 434.97, Net: 432.87\n",
            "2022-11-08 10:55:00, BUY CREATED --- Size: 300, Cash: 116532.70, Open: 189.5200958251953, Close: 190.42999267578125\n",
            "2022-11-08 10:55:00, BUY EXECUTED --- Price: 189.52, Cost: 300.00,Commission: 1.05\n",
            "2022-11-08 11:45:00, SELL CREATED --- Size: 300\n",
            "2022-11-08 11:45:00, SELL EXECUTED --- Price: 193.93, Cost: 300.00,Commission: 1.05\n",
            "2022-11-08 11:45:00, OPERATION RESULT --- Gross: 1323.06, Net: 1320.96\n",
            "2022-11-08 12:25:00, BUY CREATED --- Size: 300, Cash: 117853.66, Open: 193.03460693359375, Close: 194.25999450683594\n",
            "2022-11-08 12:25:00, BUY EXECUTED --- Price: 193.03, Cost: 300.00,Commission: 1.05\n",
            "2022-11-08 13:15:00, SELL CREATED --- Size: 300\n",
            "2022-11-08 13:15:00, SELL EXECUTED --- Price: 194.71, Cost: 300.00,Commission: 1.05\n",
            "2022-11-08 13:15:00, OPERATION RESULT --- Gross: 502.62, Net: 500.52\n",
            "2022-11-08 14:45:00, BUY CREATED --- Size: 300, Cash: 118354.18, Open: 190.32000732421875, Close: 191.42950439453125\n",
            "2022-11-08 14:45:00, BUY EXECUTED --- Price: 190.32, Cost: 300.00,Commission: 1.05\n",
            "2022-11-08 14:55:00, SELL CREATED --- Size: 300\n",
            "2022-11-08 14:55:00, SELL EXECUTED --- Price: 191.76, Cost: 300.00,Commission: 1.05\n",
            "2022-11-08 14:55:00, OPERATION RESULT --- Gross: 433.50, Net: 431.40\n",
            "2022-11-09 09:35:00, BUY CREATED --- Size: 300, Cash: 118785.57, Open: 187.81500244140625, Close: 194.5\n",
            "2022-11-09 09:35:00, BUY EXECUTED --- Price: 187.82, Cost: 300.00,Commission: 1.05\n",
            "2022-11-09 09:45:00, SELL CREATED --- Size: 300\n",
            "2022-11-09 09:45:00, SELL EXECUTED --- Price: 193.67, Cost: 300.00,Commission: 1.05\n",
            "2022-11-09 09:45:00, OPERATION RESULT --- Gross: 1756.50, Net: 1754.40\n",
            "2022-11-09 09:55:00, BUY CREATED --- Size: 300, Cash: 120539.97, Open: 189.75509643554688, Close: 190.85499572753906\n",
            "2022-11-09 09:55:00, BUY EXECUTED --- Price: 189.76, Cost: 300.00,Commission: 1.05\n",
            "2022-11-09 10:10:00, SELL CREATED --- Size: 300\n",
            "2022-11-09 10:10:00, SELL EXECUTED --- Price: 193.06, Cost: 300.00,Commission: 1.05\n",
            "2022-11-09 10:10:00, OPERATION RESULT --- Gross: 992.91, Net: 990.81\n",
            "2022-11-09 11:40:00, BUY CREATED --- Size: 300, Cash: 121530.78, Open: 186.76499938964844, Close: 187.91000366210938\n",
            "2022-11-09 11:40:00, BUY EXECUTED --- Price: 186.76, Cost: 300.00,Commission: 1.05\n",
            "2022-11-09 12:05:00, SELL CREATED --- Size: 300\n",
            "2022-11-09 12:05:00, SELL EXECUTED --- Price: 187.29, Cost: 300.00,Commission: 1.05\n",
            "2022-11-09 12:05:00, OPERATION RESULT --- Gross: 157.50, Net: 155.40\n",
            "2022-11-09 13:40:00, BUY CREATED --- Size: 300, Cash: 121686.18, Open: 179.34849548339844, Close: 180.14999389648438\n",
            "2022-11-09 13:40:00, BUY EXECUTED --- Price: 179.35, Cost: 300.00,Commission: 1.05\n",
            "2022-11-09 13:45:00, SELL CREATED --- Size: 300\n",
            "2022-11-09 13:45:00, SELL EXECUTED --- Price: 180.17, Cost: 300.00,Commission: 1.05\n",
            "2022-11-09 13:45:00, OPERATION RESULT --- Gross: 246.45, Net: 244.35\n",
            "2022-11-09 14:00:00, BUY CREATED --- Size: 300, Cash: 121930.53, Open: 179.13999938964844, Close: 179.80999755859375\n",
            "2022-11-09 14:00:00, BUY EXECUTED --- Price: 179.14, Cost: 300.00,Commission: 1.05\n",
            "2022-11-09 14:30:00, SELL CREATED --- Size: 300\n",
            "2022-11-09 14:30:00, SELL EXECUTED --- Price: 181.55, Cost: 300.00,Commission: 1.05\n",
            "2022-11-09 14:30:00, OPERATION RESULT --- Gross: 723.00, Net: 720.90\n",
            "2022-11-09 15:30:00, BUY CREATED --- Size: 300, Cash: 122651.43, Open: 180.02000427246094, Close: 180.918701171875\n",
            "2022-11-09 15:30:00, BUY EXECUTED --- Price: 180.02, Cost: 300.00,Commission: 1.05\n",
            "2022-11-09 15:35:00, SELL CREATED --- Size: 300\n",
            "2022-11-09 15:35:00, SELL EXECUTED --- Price: 180.89, Cost: 300.00,Commission: 1.05\n",
            "2022-11-09 15:35:00, OPERATION RESULT --- Gross: 261.00, Net: 258.90\n",
            "2022-11-10 09:45:00, BUY CREATED --- Size: 300, Cash: 122910.33, Open: 180.1699981689453, Close: 187.31500244140625\n",
            "2022-11-10 09:45:00, BUY EXECUTED --- Price: 180.17, Cost: 300.00,Commission: 1.05\n",
            "2022-11-10 10:00:00, SELL CREATED --- Size: 300\n",
            "2022-11-10 10:00:00, SELL EXECUTED --- Price: 187.93, Cost: 300.00,Commission: 1.05\n",
            "2022-11-10 10:00:00, OPERATION RESULT --- Gross: 2328.00, Net: 2325.90\n",
            "2022-11-10 10:05:00, BUY CREATED --- Size: 300, Cash: 125236.23, Open: 185.60000610351562, Close: 189.0800018310547\n",
            "2022-11-10 10:05:00, BUY EXECUTED --- Price: 185.60, Cost: 300.00,Commission: 1.05\n",
            "2022-11-10 10:30:00, SELL CREATED --- Size: 300\n",
            "2022-11-10 10:30:00, SELL EXECUTED --- Price: 188.49, Cost: 300.00,Commission: 1.05\n",
            "2022-11-10 10:30:00, OPERATION RESULT --- Gross: 867.00, Net: 864.90\n",
            "2022-11-10 10:40:00, BUY CREATED --- Size: 300, Cash: 126101.13, Open: 185.72000122070312, Close: 187.6699981689453\n",
            "2022-11-10 10:40:00, BUY EXECUTED --- Price: 185.72, Cost: 300.00,Commission: 1.05\n",
            "2022-11-10 11:00:00, SELL CREATED --- Size: 300\n",
            "2022-11-10 11:00:00, SELL EXECUTED --- Price: 188.49, Cost: 300.00,Commission: 1.05\n",
            "2022-11-10 11:00:00, OPERATION RESULT --- Gross: 832.50, Net: 830.40\n",
            "2022-11-10 11:10:00, BUY CREATED --- Size: 300, Cash: 126931.53, Open: 186.24000549316406, Close: 187.94000244140625\n",
            "2022-11-10 11:10:00, BUY EXECUTED --- Price: 186.24, Cost: 300.00,Commission: 1.05\n",
            "2022-11-10 11:55:00, SELL CREATED --- Size: 300\n",
            "2022-11-10 11:55:00, SELL EXECUTED --- Price: 190.96, Cost: 300.00,Commission: 1.05\n",
            "2022-11-10 11:55:00, OPERATION RESULT --- Gross: 1416.00, Net: 1413.90\n",
            "2022-11-10 15:05:00, BUY CREATED --- Size: 300, Cash: 128345.43, Open: 185.389892578125, Close: 186.58999633789062\n",
            "2022-11-10 15:05:00, BUY EXECUTED --- Price: 185.39, Cost: 300.00,Commission: 1.05\n",
            "2022-11-11 09:30:00, SELL CREATED --- Size: 300\n",
            "2022-11-11 09:30:00, SELL EXECUTED --- Price: 186.00, Cost: 300.00,Commission: 1.05\n",
            "2022-11-11 09:30:00, OPERATION RESULT --- Gross: 183.03, Net: 180.93\n",
            "2022-11-11 09:45:00, BUY CREATED --- Size: 300, Cash: 128526.36, Open: 183.92999267578125, Close: 185.49000549316406\n",
            "2022-11-11 09:45:00, BUY EXECUTED --- Price: 183.93, Cost: 300.00,Commission: 1.05\n",
            "2022-11-11 09:55:00, SELL CREATED --- Size: 300\n",
            "2022-11-11 09:55:00, SELL EXECUTED --- Price: 185.65, Cost: 300.00,Commission: 1.05\n",
            "2022-11-11 09:55:00, OPERATION RESULT --- Gross: 517.50, Net: 515.40\n",
            "2022-11-11 10:05:00, BUY CREATED --- Size: 300, Cash: 129041.76, Open: 185.3800048828125, Close: 187.2292022705078\n",
            "2022-11-11 10:05:00, BUY EXECUTED --- Price: 185.38, Cost: 300.00,Commission: 1.05\n",
            "2022-11-11 10:30:00, SELL CREATED --- Size: 300\n",
            "2022-11-11 10:30:00, SELL EXECUTED --- Price: 192.48, Cost: 300.00,Commission: 1.05\n",
            "2022-11-11 10:30:00, OPERATION RESULT --- Gross: 2129.88, Net: 2127.78\n",
            "2022-11-11 11:00:00, BUY CREATED --- Size: 300, Cash: 131169.54, Open: 189.69000244140625, Close: 191.52000427246094\n",
            "2022-11-11 11:00:00, BUY EXECUTED --- Price: 189.69, Cost: 300.00,Commission: 1.05\n",
            "2022-11-11 11:05:00, SELL CREATED --- Size: 300\n",
            "2022-11-11 11:05:00, SELL EXECUTED --- Price: 191.51, Cost: 300.00,Commission: 1.05\n",
            "2022-11-11 11:05:00, OPERATION RESULT --- Gross: 546.00, Net: 543.90\n",
            "2022-11-11 11:45:00, BUY CREATED --- Size: 300, Cash: 131713.44, Open: 189.4499969482422, Close: 190.41000366210938\n",
            "2022-11-11 11:45:00, BUY EXECUTED --- Price: 189.45, Cost: 300.00,Commission: 1.05\n",
            "2022-11-11 12:30:00, SELL CREATED --- Size: 300\n",
            "2022-11-11 12:30:00, SELL EXECUTED --- Price: 191.76, Cost: 300.00,Commission: 1.05\n",
            "2022-11-11 12:30:00, OPERATION RESULT --- Gross: 693.39, Net: 691.29\n",
            "2022-11-11 13:00:00, BUY CREATED --- Size: 300, Cash: 132404.73, Open: 192.5500030517578, Close: 193.91000366210938\n",
            "2022-11-11 13:00:00, BUY EXECUTED --- Price: 192.55, Cost: 300.00,Commission: 1.05\n",
            "2022-11-11 13:35:00, SELL CREATED --- Size: 300\n",
            "2022-11-11 13:35:00, SELL EXECUTED --- Price: 195.71, Cost: 300.00,Commission: 1.05\n",
            "2022-11-11 13:35:00, OPERATION RESULT --- Gross: 948.00, Net: 945.90\n",
            "2022-11-14 09:55:00, BUY CREATED --- Size: 300, Cash: 133350.63, Open: 187.58999633789062, Close: 188.75990295410156\n",
            "2022-11-14 09:55:00, BUY EXECUTED --- Price: 187.59, Cost: 300.00,Commission: 1.05\n",
            "2022-11-14 10:10:00, SELL CREATED --- Size: 300\n",
            "2022-11-14 10:10:00, SELL EXECUTED --- Price: 190.15, Cost: 300.00,Commission: 1.05\n",
            "2022-11-14 10:10:00, OPERATION RESULT --- Gross: 768.03, Net: 765.93\n",
            "2022-11-14 10:30:00, BUY CREATED --- Size: 300, Cash: 134116.57, Open: 190.49000549316406, Close: 191.36000061035156\n",
            "2022-11-14 10:30:00, BUY EXECUTED --- Price: 190.49, Cost: 300.00,Commission: 1.05\n",
            "2022-11-14 10:45:00, SELL CREATED --- Size: 300\n",
            "2022-11-14 10:45:00, SELL EXECUTED --- Price: 192.87, Cost: 300.00,Commission: 1.05\n",
            "2022-11-14 10:45:00, OPERATION RESULT --- Gross: 714.00, Net: 711.90\n",
            "2022-11-14 11:30:00, BUY CREATED --- Size: 300, Cash: 134828.46, Open: 189.11500549316406, Close: 190.74949645996094\n",
            "2022-11-14 11:30:00, BUY EXECUTED --- Price: 189.12, Cost: 300.00,Commission: 1.05\n",
            "2022-11-14 12:15:00, SELL CREATED --- Size: 300\n",
            "2022-11-14 12:15:00, SELL EXECUTED --- Price: 194.25, Cost: 300.00,Commission: 1.05\n",
            "2022-11-14 12:15:00, OPERATION RESULT --- Gross: 1540.50, Net: 1538.40\n",
            "2022-11-14 12:35:00, BUY CREATED --- Size: 300, Cash: 136366.86, Open: 194.26629638671875, Close: 195.54620361328125\n",
            "2022-11-14 12:35:00, BUY EXECUTED --- Price: 194.27, Cost: 300.00,Commission: 1.05\n",
            "2022-11-14 12:40:00, SELL CREATED --- Size: 300\n",
            "2022-11-14 12:40:00, SELL EXECUTED --- Price: 195.54, Cost: 300.00,Commission: 1.05\n",
            "2022-11-14 12:40:00, OPERATION RESULT --- Gross: 382.11, Net: 380.01\n",
            "2022-11-14 13:50:00, BUY CREATED --- Size: 300, Cash: 136746.87, Open: 194.3000030517578, Close: 195.35000610351562\n",
            "2022-11-14 13:50:00, BUY EXECUTED --- Price: 194.30, Cost: 300.00,Commission: 1.05\n",
            "2022-11-14 14:05:00, SELL CREATED --- Size: 300\n",
            "2022-11-14 14:05:00, SELL EXECUTED --- Price: 194.79, Cost: 300.00,Commission: 1.05\n",
            "2022-11-14 14:05:00, OPERATION RESULT --- Gross: 146.64, Net: 144.54\n",
            "2022-11-15 09:40:00, BUY CREATED --- Size: 300, Cash: 136891.41, Open: 195.19000244140625, Close: 197.25819396972656\n",
            "2022-11-15 09:40:00, BUY EXECUTED --- Price: 195.19, Cost: 300.00,Commission: 1.05\n",
            "2022-11-15 10:05:00, SELL CREATED --- Size: 300\n",
            "2022-11-15 10:05:00, SELL EXECUTED --- Price: 200.11, Cost: 300.00,Commission: 1.05\n",
            "2022-11-15 10:05:00, OPERATION RESULT --- Gross: 1476.00, Net: 1473.90\n",
            "2022-11-15 10:20:00, BUY CREATED --- Size: 300, Cash: 138365.31, Open: 198.14500427246094, Close: 199.39810180664062\n",
            "2022-11-15 10:20:00, BUY EXECUTED --- Price: 198.15, Cost: 300.00,Commission: 1.05\n",
            "2022-11-15 10:35:00, SELL CREATED --- Size: 300\n",
            "2022-11-15 10:35:00, SELL EXECUTED --- Price: 200.30, Cost: 300.00,Commission: 1.05\n",
            "2022-11-15 10:35:00, OPERATION RESULT --- Gross: 647.10, Net: 645.00\n",
            "2022-11-15 11:00:00, BUY CREATED --- Size: 300, Cash: 139010.31, Open: 197.83999633789062, Close: 198.82119750976562\n",
            "2022-11-15 11:00:00, BUY EXECUTED --- Price: 197.84, Cost: 300.00,Commission: 1.05\n",
            "2022-11-15 11:15:00, SELL CREATED --- Size: 300\n",
            "2022-11-15 11:15:00, SELL EXECUTED --- Price: 200.15, Cost: 300.00,Commission: 1.05\n",
            "2022-11-15 11:15:00, OPERATION RESULT --- Gross: 692.76, Net: 690.66\n",
            "2022-11-15 13:40:00, BUY CREATED --- Size: 300, Cash: 139700.97, Open: 192.91000366210938, Close: 194.22000122070312\n",
            "2022-11-15 13:40:00, BUY EXECUTED --- Price: 192.91, Cost: 300.00,Commission: 1.05\n",
            "2022-11-15 14:00:00, SELL CREATED --- Size: 300\n",
            "2022-11-15 14:00:00, SELL EXECUTED --- Price: 194.00, Cost: 300.00,Commission: 1.05\n",
            "2022-11-15 14:00:00, OPERATION RESULT --- Gross: 327.00, Net: 324.90\n",
            "2022-11-15 14:05:00, BUY CREATED --- Size: 300, Cash: 140025.87, Open: 192.1300048828125, Close: 193.72000122070312\n",
            "2022-11-15 14:05:00, BUY EXECUTED --- Price: 192.13, Cost: 300.00,Commission: 1.05\n",
            "2022-11-15 15:30:00, SELL CREATED --- Size: 300\n",
            "2022-11-15 15:30:00, SELL EXECUTED --- Price: 194.35, Cost: 300.00,Commission: 1.05\n",
            "2022-11-15 15:30:00, OPERATION RESULT --- Gross: 666.00, Net: 663.90\n",
            "2022-11-16 10:30:00, BUY CREATED --- Size: 300, Cash: 140689.77, Open: 188.17550659179688, Close: 189.04110717773438\n",
            "2022-11-16 10:30:00, BUY EXECUTED --- Price: 188.18, Cost: 300.00,Commission: 1.05\n",
            "2022-11-16 10:40:00, SELL CREATED --- Size: 300\n",
            "2022-11-16 10:40:00, SELL EXECUTED --- Price: 188.81, Cost: 300.00,Commission: 1.05\n",
            "2022-11-16 10:40:00, OPERATION RESULT --- Gross: 190.35, Net: 188.25\n",
            "2022-11-16 11:20:00, BUY CREATED --- Size: 300, Cash: 140878.02, Open: 188.00999450683594, Close: 189.6199951171875\n",
            "2022-11-16 11:20:00, BUY EXECUTED --- Price: 188.01, Cost: 300.00,Commission: 1.05\n",
            "2022-11-16 11:25:00, SELL CREATED --- Size: 300\n",
            "2022-11-16 11:25:00, SELL EXECUTED --- Price: 189.54, Cost: 300.00,Commission: 1.05\n",
            "2022-11-16 11:25:00, OPERATION RESULT --- Gross: 459.03, Net: 456.93\n",
            "2022-11-17 10:15:00, BUY CREATED --- Size: 300, Cash: 141334.95, Open: 182.85499572753906, Close: 184.66000366210938\n",
            "2022-11-17 10:15:00, BUY EXECUTED --- Price: 182.85, Cost: 300.00,Commission: 1.05\n",
            "2022-11-17 10:30:00, SELL CREATED --- Size: 300\n",
            "2022-11-17 10:30:00, SELL EXECUTED --- Price: 184.85, Cost: 300.00,Commission: 1.05\n",
            "2022-11-17 10:30:00, OPERATION RESULT --- Gross: 599.79, Net: 597.69\n",
            "2022-11-17 11:55:00, BUY CREATED --- Size: 300, Cash: 141932.64, Open: 183.35000610351562, Close: 184.67840576171875\n",
            "2022-11-17 11:55:00, BUY EXECUTED --- Price: 183.35, Cost: 300.00,Commission: 1.05\n",
            "2022-11-17 14:30:00, SELL CREATED --- Size: 300\n",
            "2022-11-17 14:30:00, SELL EXECUTED --- Price: 182.54, Cost: 300.00,Commission: 1.05\n",
            "2022-11-17 14:30:00, OPERATION RESULT --- Gross: -243.42, Net: -245.52\n",
            "2022-11-18 10:15:00, BUY CREATED --- Size: 300, Cash: 141687.12, Open: 177.5399932861328, Close: 178.3800048828125\n",
            "2022-11-18 10:15:00, BUY EXECUTED --- Price: 177.54, Cost: 300.00,Commission: 1.05\n",
            "2022-11-18 10:55:00, SELL CREATED --- Size: 300\n",
            "2022-11-18 10:55:00, SELL EXECUTED --- Price: 177.99, Cost: 300.00,Commission: 1.05\n",
            "2022-11-18 10:55:00, OPERATION RESULT --- Gross: 136.50, Net: 134.40\n",
            "2022-11-18 15:00:00, BUY CREATED --- Size: 300, Cash: 141821.52, Open: 178.49000549316406, Close: 179.60000610351562\n",
            "2022-11-18 15:00:00, BUY EXECUTED --- Price: 178.49, Cost: 300.00,Commission: 1.05\n",
            "Final Portfolio Value: 142298.97\n"
          ]
        }
      ],
      "source": [
        "STARTING_CASH = 100000.0\n",
        "COMMISSION = 0.0035 \n",
        "# set margin=1 to have a fixed commission per share, else None for a percentage\n",
        "MARGIN = 1\n",
        "\n",
        "# instantiate SignalData class\n",
        "data = SignalData(dataname=df)\n",
        "# instantiate Cerebro, add strategy, data, initial cash, commission \n",
        "cerebro = bt.Cerebro(stdstats=True, cheat_on_open=True)\n",
        "cerebro.addstrategy(MyStrategy)\n",
        "cerebro.adddata(data, name=ticker)\n",
        "cerebro.broker.setcash(STARTING_CASH)\n",
        "cerebro.broker.setcommission(commission=COMMISSION, margin=MARGIN)\n",
        "# cerebro.addanalyzer(bt.analyzers.PyFolio, _name='pyfolio')\n",
        "\n",
        "# run the backtest\n",
        "print('Starting Portfolio Value: %.2f' % cerebro.broker.getvalue())\n",
        "backtest_result = cerebro.run()\n",
        "final_value = cerebro.broker.getvalue()\n",
        "print('Final Portfolio Value: %.2f' % final_value)\n"
      ]
    },
    {
      "cell_type": "markdown",
      "metadata": {
        "id": "M-naLyX1w4lJ"
      },
      "source": [
        "Compute Net Gain\n",
        "\n",
        "$$\n",
        "    net\\_gain = \\frac{price_{new} - price_{orig}}{price_{orig}}\n",
        "$$"
      ]
    },
    {
      "cell_type": "code",
      "execution_count": null,
      "metadata": {
        "id": "p8bfiP8lw4lK",
        "outputId": "9aa7fb4d-06d3-44e9-bdce-6cfb08ae9833"
      },
      "outputs": [
        {
          "name": "stdout",
          "output_type": "stream",
          "text": [
            "Net Gain Percentage: 42.30%\n"
          ]
        }
      ],
      "source": [
        "net_gain = (final_value - STARTING_CASH)/STARTING_CASH\n",
        "print(f'Net Gain Percentage: {net_gain*100:.2f}%')"
      ]
    },
    {
      "cell_type": "code",
      "execution_count": null,
      "metadata": {
        "id": "gIcXsKdEw4lK",
        "outputId": "61e17b9c-5ca2-4b0b-f322-544f8b3b0ae8"
      },
      "outputs": [
        {
          "ename": "KeyboardInterrupt",
          "evalue": "",
          "output_type": "error",
          "traceback": [
            "\u001b[1;31m---------------------------------------------------------------------------\u001b[0m",
            "\u001b[1;31mKeyboardInterrupt\u001b[0m                         Traceback (most recent call last)",
            "\u001b[1;32m~\\AppData\\Local\\Temp\\ipykernel_17736\\3498022755.py\u001b[0m in \u001b[0;36m<cell line: 4>\u001b[1;34m()\u001b[0m\n\u001b[0;32m      2\u001b[0m \u001b[0mmpl\u001b[0m\u001b[1;33m.\u001b[0m\u001b[0mrcParams\u001b[0m\u001b[1;33m[\u001b[0m\u001b[1;34m'figure.dpi'\u001b[0m\u001b[1;33m]\u001b[0m \u001b[1;33m=\u001b[0m \u001b[1;36m150\u001b[0m\u001b[1;33m\u001b[0m\u001b[1;33m\u001b[0m\u001b[0m\n\u001b[0;32m      3\u001b[0m \u001b[1;33m\u001b[0m\u001b[0m\n\u001b[1;32m----> 4\u001b[1;33m \u001b[0mcerebro\u001b[0m\u001b[1;33m.\u001b[0m\u001b[0mplot\u001b[0m\u001b[1;33m(\u001b[0m\u001b[0miplot\u001b[0m\u001b[1;33m=\u001b[0m \u001b[1;32mFalse\u001b[0m\u001b[1;33m)\u001b[0m\u001b[1;33m\u001b[0m\u001b[1;33m\u001b[0m\u001b[0m\n\u001b[0m",
            "\u001b[1;32mc:\\Users\\itber\\anaconda3\\envs\\tf\\lib\\site-packages\\backtrader\\cerebro.py\u001b[0m in \u001b[0;36mplot\u001b[1;34m(self, plotter, numfigs, iplot, start, end, width, height, dpi, tight, use, **kwargs)\u001b[0m\n\u001b[0;32m    994\u001b[0m                 \u001b[0mfigs\u001b[0m\u001b[1;33m.\u001b[0m\u001b[0mappend\u001b[0m\u001b[1;33m(\u001b[0m\u001b[0mrfig\u001b[0m\u001b[1;33m)\u001b[0m\u001b[1;33m\u001b[0m\u001b[1;33m\u001b[0m\u001b[0m\n\u001b[0;32m    995\u001b[0m \u001b[1;33m\u001b[0m\u001b[0m\n\u001b[1;32m--> 996\u001b[1;33m             \u001b[0mplotter\u001b[0m\u001b[1;33m.\u001b[0m\u001b[0mshow\u001b[0m\u001b[1;33m(\u001b[0m\u001b[1;33m)\u001b[0m\u001b[1;33m\u001b[0m\u001b[1;33m\u001b[0m\u001b[0m\n\u001b[0m\u001b[0;32m    997\u001b[0m \u001b[1;33m\u001b[0m\u001b[0m\n\u001b[0;32m    998\u001b[0m         \u001b[1;32mreturn\u001b[0m \u001b[0mfigs\u001b[0m\u001b[1;33m\u001b[0m\u001b[1;33m\u001b[0m\u001b[0m\n",
            "\u001b[1;32mc:\\Users\\itber\\anaconda3\\envs\\tf\\lib\\site-packages\\backtrader\\plot\\plot.py\u001b[0m in \u001b[0;36mshow\u001b[1;34m(self)\u001b[0m\n\u001b[0;32m    815\u001b[0m \u001b[1;33m\u001b[0m\u001b[0m\n\u001b[0;32m    816\u001b[0m     \u001b[1;32mdef\u001b[0m \u001b[0mshow\u001b[0m\u001b[1;33m(\u001b[0m\u001b[0mself\u001b[0m\u001b[1;33m)\u001b[0m\u001b[1;33m:\u001b[0m\u001b[1;33m\u001b[0m\u001b[1;33m\u001b[0m\u001b[0m\n\u001b[1;32m--> 817\u001b[1;33m         \u001b[0mself\u001b[0m\u001b[1;33m.\u001b[0m\u001b[0mmpyplot\u001b[0m\u001b[1;33m.\u001b[0m\u001b[0mshow\u001b[0m\u001b[1;33m(\u001b[0m\u001b[1;33m)\u001b[0m\u001b[1;33m\u001b[0m\u001b[1;33m\u001b[0m\u001b[0m\n\u001b[0m\u001b[0;32m    818\u001b[0m \u001b[1;33m\u001b[0m\u001b[0m\n\u001b[0;32m    819\u001b[0m     \u001b[1;32mdef\u001b[0m \u001b[0msavefig\u001b[0m\u001b[1;33m(\u001b[0m\u001b[0mself\u001b[0m\u001b[1;33m,\u001b[0m \u001b[0mfig\u001b[0m\u001b[1;33m,\u001b[0m \u001b[0mfilename\u001b[0m\u001b[1;33m,\u001b[0m \u001b[0mwidth\u001b[0m\u001b[1;33m=\u001b[0m\u001b[1;36m16\u001b[0m\u001b[1;33m,\u001b[0m \u001b[0mheight\u001b[0m\u001b[1;33m=\u001b[0m\u001b[1;36m9\u001b[0m\u001b[1;33m,\u001b[0m \u001b[0mdpi\u001b[0m\u001b[1;33m=\u001b[0m\u001b[1;36m300\u001b[0m\u001b[1;33m,\u001b[0m \u001b[0mtight\u001b[0m\u001b[1;33m=\u001b[0m\u001b[1;32mTrue\u001b[0m\u001b[1;33m)\u001b[0m\u001b[1;33m:\u001b[0m\u001b[1;33m\u001b[0m\u001b[1;33m\u001b[0m\u001b[0m\n",
            "\u001b[1;32mc:\\Users\\itber\\anaconda3\\envs\\tf\\lib\\site-packages\\matplotlib\\pyplot.py\u001b[0m in \u001b[0;36mshow\u001b[1;34m(*args, **kw)\u001b[0m\n\u001b[0;32m    270\u001b[0m     \"\"\"\n\u001b[0;32m    271\u001b[0m     \u001b[1;32mglobal\u001b[0m \u001b[0m_show\u001b[0m\u001b[1;33m\u001b[0m\u001b[1;33m\u001b[0m\u001b[0m\n\u001b[1;32m--> 272\u001b[1;33m     \u001b[1;32mreturn\u001b[0m \u001b[0m_show\u001b[0m\u001b[1;33m(\u001b[0m\u001b[1;33m*\u001b[0m\u001b[0margs\u001b[0m\u001b[1;33m,\u001b[0m \u001b[1;33m**\u001b[0m\u001b[0mkw\u001b[0m\u001b[1;33m)\u001b[0m\u001b[1;33m\u001b[0m\u001b[1;33m\u001b[0m\u001b[0m\n\u001b[0m\u001b[0;32m    273\u001b[0m \u001b[1;33m\u001b[0m\u001b[0m\n\u001b[0;32m    274\u001b[0m \u001b[1;33m\u001b[0m\u001b[0m\n",
            "\u001b[1;32mc:\\Users\\itber\\anaconda3\\envs\\tf\\lib\\site-packages\\matplotlib\\cbook\\deprecation.py\u001b[0m in \u001b[0;36mwrapper\u001b[1;34m(*args, **kwargs)\u001b[0m\n\u001b[0;32m    398\u001b[0m                 \u001b[1;34m\"parameter will become keyword-only %(removal)s.\"\u001b[0m\u001b[1;33m,\u001b[0m\u001b[1;33m\u001b[0m\u001b[1;33m\u001b[0m\u001b[0m\n\u001b[0;32m    399\u001b[0m                 name=name, obj_type=f\"parameter of {func.__name__}()\")\n\u001b[1;32m--> 400\u001b[1;33m         \u001b[1;32mreturn\u001b[0m \u001b[0mfunc\u001b[0m\u001b[1;33m(\u001b[0m\u001b[1;33m*\u001b[0m\u001b[0margs\u001b[0m\u001b[1;33m,\u001b[0m \u001b[1;33m**\u001b[0m\u001b[0mkwargs\u001b[0m\u001b[1;33m)\u001b[0m\u001b[1;33m\u001b[0m\u001b[1;33m\u001b[0m\u001b[0m\n\u001b[0m\u001b[0;32m    401\u001b[0m \u001b[1;33m\u001b[0m\u001b[0m\n\u001b[0;32m    402\u001b[0m     \u001b[1;32mreturn\u001b[0m \u001b[0mwrapper\u001b[0m\u001b[1;33m\u001b[0m\u001b[1;33m\u001b[0m\u001b[0m\n",
            "\u001b[1;32mc:\\Users\\itber\\anaconda3\\envs\\tf\\lib\\site-packages\\matplotlib\\backend_bases.py\u001b[0m in \u001b[0;36mshow\u001b[1;34m(cls, block)\u001b[0m\n\u001b[0;32m   3405\u001b[0m                 \u001b[0mblock\u001b[0m \u001b[1;33m=\u001b[0m \u001b[1;32mTrue\u001b[0m\u001b[1;33m\u001b[0m\u001b[1;33m\u001b[0m\u001b[0m\n\u001b[0;32m   3406\u001b[0m         \u001b[1;32mif\u001b[0m \u001b[0mblock\u001b[0m\u001b[1;33m:\u001b[0m\u001b[1;33m\u001b[0m\u001b[1;33m\u001b[0m\u001b[0m\n\u001b[1;32m-> 3407\u001b[1;33m             \u001b[0mcls\u001b[0m\u001b[1;33m.\u001b[0m\u001b[0mmainloop\u001b[0m\u001b[1;33m(\u001b[0m\u001b[1;33m)\u001b[0m\u001b[1;33m\u001b[0m\u001b[1;33m\u001b[0m\u001b[0m\n\u001b[0m\u001b[0;32m   3408\u001b[0m \u001b[1;33m\u001b[0m\u001b[0m\n\u001b[0;32m   3409\u001b[0m     \u001b[1;31m# This method is the one actually exporting the required methods.\u001b[0m\u001b[1;33m\u001b[0m\u001b[1;33m\u001b[0m\u001b[0m\n",
            "\u001b[1;32mc:\\Users\\itber\\anaconda3\\envs\\tf\\lib\\site-packages\\matplotlib\\backends\\_backend_tk.py\u001b[0m in \u001b[0;36mmainloop\u001b[1;34m()\u001b[0m\n\u001b[0;32m    917\u001b[0m         \u001b[0mmanagers\u001b[0m \u001b[1;33m=\u001b[0m \u001b[0mGcf\u001b[0m\u001b[1;33m.\u001b[0m\u001b[0mget_all_fig_managers\u001b[0m\u001b[1;33m(\u001b[0m\u001b[1;33m)\u001b[0m\u001b[1;33m\u001b[0m\u001b[1;33m\u001b[0m\u001b[0m\n\u001b[0;32m    918\u001b[0m         \u001b[1;32mif\u001b[0m \u001b[0mmanagers\u001b[0m\u001b[1;33m:\u001b[0m\u001b[1;33m\u001b[0m\u001b[1;33m\u001b[0m\u001b[0m\n\u001b[1;32m--> 919\u001b[1;33m             \u001b[0mmanagers\u001b[0m\u001b[1;33m[\u001b[0m\u001b[1;36m0\u001b[0m\u001b[1;33m]\u001b[0m\u001b[1;33m.\u001b[0m\u001b[0mwindow\u001b[0m\u001b[1;33m.\u001b[0m\u001b[0mmainloop\u001b[0m\u001b[1;33m(\u001b[0m\u001b[1;33m)\u001b[0m\u001b[1;33m\u001b[0m\u001b[1;33m\u001b[0m\u001b[0m\n\u001b[0m",
            "\u001b[1;32mc:\\Users\\itber\\anaconda3\\envs\\tf\\lib\\tkinter\\__init__.py\u001b[0m in \u001b[0;36mmainloop\u001b[1;34m(self, n)\u001b[0m\n\u001b[0;32m   1427\u001b[0m     \u001b[1;32mdef\u001b[0m \u001b[0mmainloop\u001b[0m\u001b[1;33m(\u001b[0m\u001b[0mself\u001b[0m\u001b[1;33m,\u001b[0m \u001b[0mn\u001b[0m\u001b[1;33m=\u001b[0m\u001b[1;36m0\u001b[0m\u001b[1;33m)\u001b[0m\u001b[1;33m:\u001b[0m\u001b[1;33m\u001b[0m\u001b[1;33m\u001b[0m\u001b[0m\n\u001b[0;32m   1428\u001b[0m         \u001b[1;34m\"\"\"Call the mainloop of Tk.\"\"\"\u001b[0m\u001b[1;33m\u001b[0m\u001b[1;33m\u001b[0m\u001b[0m\n\u001b[1;32m-> 1429\u001b[1;33m         \u001b[0mself\u001b[0m\u001b[1;33m.\u001b[0m\u001b[0mtk\u001b[0m\u001b[1;33m.\u001b[0m\u001b[0mmainloop\u001b[0m\u001b[1;33m(\u001b[0m\u001b[0mn\u001b[0m\u001b[1;33m)\u001b[0m\u001b[1;33m\u001b[0m\u001b[1;33m\u001b[0m\u001b[0m\n\u001b[0m\u001b[0;32m   1430\u001b[0m \u001b[1;33m\u001b[0m\u001b[0m\n\u001b[0;32m   1431\u001b[0m     \u001b[1;32mdef\u001b[0m \u001b[0mquit\u001b[0m\u001b[1;33m(\u001b[0m\u001b[0mself\u001b[0m\u001b[1;33m)\u001b[0m\u001b[1;33m:\u001b[0m\u001b[1;33m\u001b[0m\u001b[1;33m\u001b[0m\u001b[0m\n",
            "\u001b[1;31mKeyboardInterrupt\u001b[0m: "
          ]
        }
      ],
      "source": [
        "import matplotlib as mpl\n",
        "mpl.rcParams['figure.dpi'] = 150\n",
        "\n",
        "cerebro.plot(iplot= False)"
      ]
    },
    {
      "cell_type": "code",
      "execution_count": null,
      "metadata": {
        "id": "7_AXsftLw4lK"
      },
      "outputs": [],
      "source": []
    }
  ],
  "metadata": {
    "kernelspec": {
      "display_name": "Python 3.9.12 ('tf')",
      "language": "python",
      "name": "python3"
    },
    "language_info": {
      "codemirror_mode": {
        "name": "ipython",
        "version": 3
      },
      "file_extension": ".py",
      "mimetype": "text/x-python",
      "name": "python",
      "nbconvert_exporter": "python",
      "pygments_lexer": "ipython3",
      "version": "3.9.12"
    },
    "orig_nbformat": 4,
    "vscode": {
      "interpreter": {
        "hash": "2b2da39daaaff30a84159e8452ba91acfc0bbd521fb66c6aa9941f847b87bd81"
      }
    },
    "colab": {
      "provenance": []
    }
  },
  "nbformat": 4,
  "nbformat_minor": 0
}