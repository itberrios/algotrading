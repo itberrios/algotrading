{
  "cells": [
    {
      "cell_type": "markdown",
      "metadata": {
        "id": "view-in-github",
        "colab_type": "text"
      },
      "source": [
        "<a href=\"https://colab.research.google.com/github/itberrios/algotrading/blob/main/RSI_MACD_strategy.ipynb\" target=\"_parent\"><img src=\"https://colab.research.google.com/assets/colab-badge.svg\" alt=\"Open In Colab\"/></a>"
      ]
    },
    {
      "cell_type": "markdown",
      "metadata": {
        "id": "vrdMawnxRNIz"
      },
      "source": [
        "# **RSI and MACD Trading Strategy**\n",
        "\n",
        "In this notebook we will cover a simple trading strategy that uses Relative Strength Index ([RSI](https://en.wikipedia.org/wiki/Relative_strength_index)) and Moving Average Convergence/Divergence ([MACD](https://en.wikipedia.org/wiki/MACD))\n",
        "\n",
        "According to [Investopedia](https://www.investopedia.com/terms/r/rsi.asp): \"The relative strength index (RSI) is a momentum indicator used in technical analysis. RSI measures the speed and magnitude of a security's recent price changes to evaluate overvalued or undervalued conditions in the price of that security.\"\n",
        "\n",
        "[Investopedia](https://www.investopedia.com/terms/m/macd.asp) also states that: \"Moving average convergence divergence (MACD) is a trend-following momentum indicator that shows the relationship between two moving averages of a security’s price. The MACD is calculated by subtracting the 26-period exponential moving average (EMA) from the 12-period EMA. \"\n",
        "\n",
        "Both the RSI and MACD are [momentum indicators](https://www.investopedia.com/investing/momentum-and-relative-strength-index/) which means that they measure the rate of rise and fall of prices."
      ]
    },
    {
      "cell_type": "code",
      "execution_count": null,
      "metadata": {
        "id": "KZrdvTeIRNI1"
      },
      "outputs": [],
      "source": []
    }
  ],
  "metadata": {
    "language_info": {
      "name": "python"
    },
    "orig_nbformat": 4,
    "colab": {
      "provenance": [],
      "include_colab_link": true
    },
    "kernelspec": {
      "name": "python3",
      "display_name": "Python 3"
    }
  },
  "nbformat": 4,
  "nbformat_minor": 0
}