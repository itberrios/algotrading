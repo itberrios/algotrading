{
  "cells": [
    {
      "cell_type": "markdown",
      "metadata": {
        "id": "view-in-github",
        "colab_type": "text"
      },
      "source": [
        "<a href=\"https://colab.research.google.com/github/itberrios/algotrading/blob/main/RSI_MACD_strategy.ipynb\" target=\"_parent\"><img src=\"https://colab.research.google.com/assets/colab-badge.svg\" alt=\"Open In Colab\"/></a>"
      ]
    },
    {
      "cell_type": "markdown",
      "metadata": {
        "id": "vrdMawnxRNIz"
      },
      "source": [
        "# **RSI and MACD Trading Strategy**\n",
        "\n",
        "In this notebook we will cover a simple trading strategy that uses Relative Strength Index ([RSI](https://en.wikipedia.org/wiki/Relative_strength_index)) and Moving Average Convergence/Divergence ([MACD](https://en.wikipedia.org/wiki/MACD))\n",
        "\n",
        "According to [Investopedia](https://www.investopedia.com/terms/r/rsi.asp): \"The relative strength index (RSI) is a momentum indicator used in technical analysis. RSI measures the speed and magnitude of a security's recent price changes to evaluate overvalued or undervalued conditions in the price of that security.\"\n",
        "\n",
        "[Investopedia](https://www.investopedia.com/terms/m/macd.asp) also states that: \"Moving average convergence divergence (MACD) is a trend-following momentum indicator that shows the relationship between two moving averages of a security’s price. The MACD is calculated by subtracting the 26-period exponential moving average (EMA) from the 12-period EMA. \"\n",
        "\n",
        "Both the RSI and MACD are [momentum indicators](https://www.investopedia.com/investing/momentum-and-relative-strength-index/) which means that they measure the rate of rise and fall of prices."
      ]
    },
    {
      "cell_type": "markdown",
      "source": [
        "## Install libraries"
      ],
      "metadata": {
        "id": "7PRiNSWWVqWK"
      }
    },
    {
      "cell_type": "code",
      "execution_count": null,
      "metadata": {
        "id": "KZrdvTeIRNI1"
      },
      "outputs": [],
      "source": [
        "!pip install yfinance"
      ]
    },
    {
      "cell_type": "code",
      "source": [
        "!pip install pandas_ta"
      ],
      "metadata": {
        "id": "-VYI8vyNSGfc"
      },
      "execution_count": null,
      "outputs": []
    },
    {
      "cell_type": "code",
      "source": [
        "!pip install backtrader"
      ],
      "metadata": {
        "id": "08ADeJ3mSJPh"
      },
      "execution_count": null,
      "outputs": []
    },
    {
      "cell_type": "code",
      "source": [
        "!pip install alpha_vantage"
      ],
      "metadata": {
        "id": "WYYOsmvWWOVD"
      },
      "execution_count": null,
      "outputs": []
    },
    {
      "cell_type": "markdown",
      "source": [
        "## Base Library Import"
      ],
      "metadata": {
        "id": "PUNtvZbFVsHm"
      }
    },
    {
      "cell_type": "code",
      "source": [
        "import os\n",
        "import numpy as np\n",
        "import pandas as pd\n",
        "import pandas_ta as ta\n",
        "import alpha_vantage\n",
        "import matplotlib.pyplot as plt\n",
        "\n",
        "%matplotlib inline"
      ],
      "metadata": {
        "id": "ZkGBMnMlTU1z"
      },
      "execution_count": 30,
      "outputs": []
    },
    {
      "cell_type": "markdown",
      "source": [
        "### Set Alpha Vantage API KEY here"
      ],
      "metadata": {
        "id": "GyPSi8wLWJNP"
      }
    },
    {
      "cell_type": "code",
      "source": [
        "# os.environ['ALPHAVANTAGE_API_KEY'] = 'ENTER API KEY'\n",
        "API_KEY = 'K1GZTUTQ65SVGLNU'"
      ],
      "metadata": {
        "id": "ExL5wcV_V2Ik"
      },
      "execution_count": 79,
      "outputs": []
    },
    {
      "cell_type": "code",
      "source": [
        "import requests\n",
        "\n",
        "base_url = 'https://www.alphavantage.co/query?'\n",
        "function = 'TIME_SERIES_DAILY'\n",
        "outputsize = 'compact' # full returns all data, compact returns a the most recent 100\n",
        "symbol = 'HD'\n",
        "\n",
        "response = requests.get(f'{base_url}function={function}&symbol={symbol}&apikey={API_KEY}')\n",
        "response_dict = response.json()\n",
        "_, header = response.json()"
      ],
      "metadata": {
        "id": "ojx-bJhkYUJ3"
      },
      "execution_count": 80,
      "outputs": []
    },
    {
      "cell_type": "code",
      "source": [
        "df = pd.DataFrame.from_dict(response_dict[header], orient='index')\n",
        "\n",
        "df_cols = [i.split(' ')[1] for i in df.columns]\n",
        "df.columns = df_cols\n",
        "\n",
        "print(df)"
      ],
      "metadata": {
        "id": "VZI3VfGvZsmT",
        "outputId": "adf722fb-8845-4c4a-f906-ff5da749b17a",
        "colab": {
          "base_uri": "https://localhost:8080/"
        }
      },
      "execution_count": 81,
      "outputs": [
        {
          "output_type": "stream",
          "name": "stdout",
          "text": [
            "                open      high       low     close   volume\n",
            "2022-09-16  269.0500  276.5600  268.9000  275.9700  9535105\n",
            "2022-09-15  277.8900  278.0100  270.5400  271.5400  3896084\n",
            "2022-09-14  279.4000  279.5400  273.1700  276.3400  4194435\n",
            "2022-09-13  292.0100  294.0800  277.3200  277.9300  4797246\n",
            "2022-09-12  300.8000  302.8300  296.3500  297.5400  3632935\n",
            "...              ...       ...       ...       ...      ...\n",
            "2022-05-02  301.9900  308.7900  299.9100  306.9700  4233870\n",
            "2022-04-29  308.1500  311.7200  299.7100  300.4000  4878169\n",
            "2022-04-28  304.7500  314.5350  303.0100  311.7600  4151717\n",
            "2022-04-27  301.3000  306.4200  299.1200  301.6000  3446242\n",
            "2022-04-26  302.2500  307.5600  299.7200  299.9600  3379693\n",
            "\n",
            "[100 rows x 5 columns]\n"
          ]
        }
      ]
    },
    {
      "cell_type": "code",
      "source": [],
      "metadata": {
        "id": "3mIt-FXSaiQE"
      },
      "execution_count": null,
      "outputs": []
    }
  ],
  "metadata": {
    "language_info": {
      "name": "python"
    },
    "orig_nbformat": 4,
    "colab": {
      "provenance": [],
      "include_colab_link": true
    },
    "kernelspec": {
      "name": "python3",
      "display_name": "Python 3"
    }
  },
  "nbformat": 4,
  "nbformat_minor": 0
}