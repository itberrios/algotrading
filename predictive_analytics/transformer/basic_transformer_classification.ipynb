{
 "cells": [
  {
   "cell_type": "markdown",
   "metadata": {},
   "source": [
    "# Basic Models\n",
    "\n",
    "In this notebook, we will explore a few different models for stock price trend classification. We will work with AAPL, GOOG, QCOM, and TSLA; since these are all correlated stocks in fall of 2022. We will use the past 2 years of 15 min stock price data for each stock to create a data set. We will split this dataset into train, valid, test based on time. We will add a closing price diff column and compute the current stock trends for each row. Then we will standardize the data and feed it into some models.\n",
    "\n",
    "Some of the models we will train are:\n",
    "- Lienar Classifier (1 layer Neural Network)\n",
    "- Neural Network (multi layers)\n",
    "- Transformer Encoder\n",
    "- LSTM"
   ]
  },
  {
   "cell_type": "markdown",
   "metadata": {},
   "source": [
    "### Library Import"
   ]
  },
  {
   "cell_type": "code",
   "execution_count": 1,
   "metadata": {},
   "outputs": [],
   "source": [
    "import os\n",
    "import sys\n",
    "import numpy as np\n",
    "import pandas as pd\n",
    "import pandas_ta as ta\n",
    "import tensorflow as tf\n",
    "import keras\n",
    "from tensorflow.keras import layers\n",
    "import matplotlib.pyplot as plt\n",
    "\n",
    "plt.rcParams[\"figure.figsize\"] = (20, 10)\n",
    "%matplotlib inline"
   ]
  },
  {
   "cell_type": "markdown",
   "metadata": {},
   "source": [
    "### Local Imports\n",
    "\n",
    "Get base dir for imports, this allows us to look in the main algotrading folder to import local modules"
   ]
  },
  {
   "cell_type": "code",
   "execution_count": 2,
   "metadata": {},
   "outputs": [],
   "source": [
    "BASE_DIR = os.path.abspath(os.path.join(os.path.abspath('..'), '..'))\n",
    "sys.path.append(BASE_DIR)"
   ]
  },
  {
   "cell_type": "code",
   "execution_count": 3,
   "metadata": {},
   "outputs": [],
   "source": [
    "from window_generator import WindowGenerator\n",
    "from models.basic_transformer import TransformerModel"
   ]
  },
  {
   "cell_type": "code",
   "execution_count": 4,
   "metadata": {},
   "outputs": [],
   "source": [
    "from data_clean import get_trading_times"
   ]
  },
  {
   "cell_type": "markdown",
   "metadata": {},
   "source": [
    "#### Ensure that GPU is available"
   ]
  },
  {
   "cell_type": "code",
   "execution_count": 5,
   "metadata": {},
   "outputs": [
    {
     "data": {
      "text/plain": [
       "[PhysicalDevice(name='/physical_device:GPU:0', device_type='GPU')]"
      ]
     },
     "execution_count": 5,
     "metadata": {},
     "output_type": "execute_result"
    }
   ],
   "source": [
    "tf.config.list_physical_devices('GPU')  "
   ]
  },
  {
   "cell_type": "markdown",
   "metadata": {},
   "source": [
    "### Get the Data"
   ]
  },
  {
   "cell_type": "code",
   "execution_count": 5,
   "metadata": {},
   "outputs": [],
   "source": [
    "from glob import glob\n",
    "import re\n",
    "\n",
    "get_name = lambda x : re.search('\\w+(?=_15min)', x).group()\n",
    "\n",
    "# get all data .csvs\n",
    "data_paths = glob(os.path.join(BASE_DIR, r'data\\raw\\*.csv'))"
   ]
  },
  {
   "cell_type": "code",
   "execution_count": 71,
   "metadata": {},
   "outputs": [],
   "source": [
    "THRESH = 0.45 # dollars\n",
    "stock_dfs = {}\n",
    "train_df = []\n",
    "valid_df = []\n",
    "test_df = []\n",
    "\n",
    "# supress setting with copy warning\n",
    "# https://stackoverflow.com/questions/20625582/how-to-deal-with-settingwithcopywarning-in-pandas\n",
    "pd.options.mode.chained_assignment = None\n",
    "\n",
    "for _path in data_paths:\n",
    "    df = pd.read_csv(_path, index_col=0, parse_dates=True, infer_datetime_format=True)\n",
    "    \n",
    "    # filter regular trading hours (9:00 - 16:00) and drop NaNs\n",
    "    df = get_trading_times(df)\n",
    "    df = df.dropna()\n",
    "    \n",
    "    # obtain target variable\n",
    "    df['price_diff'] = df['Close'].diff() # don't use price diff for now\n",
    "    df['price_change'] = 1 # price stays the same\n",
    "    df['price_change'][df['price_diff'] < -THRESH] = 0 # downward price movement\n",
    "    df['price_change'][df['price_diff'] > THRESH] = 2 # upward prive movement\n",
    "\n",
    "    # split into train, valid, and test sets\n",
    "    _train = df.loc[:'2022-02-01']\n",
    "    _valid = df.loc['2022-02-02':'2022-07-01']\n",
    "    _test = df.loc['2022-07-01':]\n",
    "\n",
    "    # append to data structures\n",
    "    stock_dfs.update({get_name(_path) : df})\n",
    "    train_df.append(_train)\n",
    "    valid_df.append(_valid)\n",
    "    test_df.append(_test)\n",
    "\n",
    "\n",
    "# return setting with copy warning to default \n",
    "pd.options.mode.chained_assignment = 'warn'\n",
    "\n",
    "# concatenate data\n",
    "train_df = pd.concat(train_df).dropna()\n",
    "valid_df = pd.concat(valid_df).dropna()\n",
    "test_df = pd.concat(test_df).dropna()"
   ]
  },
  {
   "cell_type": "markdown",
   "metadata": {},
   "source": [
    "When we split the stock data into train test, and valid sets we concatenate them sequentially and are careful not to sort the indexes. In this manner our training and validation methods observe one stock after the other. If we were to shuffle the training windows, then we would still be primarily training on one stock at a time, except for several noisy instances where the data crosses over from one stock to another."
   ]
  },
  {
   "cell_type": "markdown",
   "metadata": {},
   "source": [
    "#### Check the sizes of the train, valid, and test sets"
   ]
  },
  {
   "cell_type": "code",
   "execution_count": 72,
   "metadata": {},
   "outputs": [
    {
     "name": "stdout",
     "output_type": "stream",
     "text": [
      "(33248, 7)\n",
      "(10816, 7)\n",
      "(7488, 7)\n"
     ]
    }
   ],
   "source": [
    "print(train_df.shape)\n",
    "print(valid_df.shape)\n",
    "print(test_df.shape)"
   ]
  },
  {
   "cell_type": "markdown",
   "metadata": {},
   "source": [
    "### Check the number of different classes in the train, valid, and test sets"
   ]
  },
  {
   "cell_type": "code",
   "execution_count": 73,
   "metadata": {},
   "outputs": [
    {
     "name": "stdout",
     "output_type": "stream",
     "text": [
      "Number of Downward Price Movements: 4215\n",
      "Number of no/small changes in price: 4476\n",
      "Number of Upward Price Movements: 4172\n"
     ]
    }
   ],
   "source": [
    "num_downward = np.sum(df.price_change == 0)\n",
    "num_no_change = np.sum(df.price_change == 1)\n",
    "num_upward = np.sum(df.price_change == 2)\n",
    "\n",
    "print(f'Number of Downward Price Movements: {num_downward}')\n",
    "print(f'Number of no/small changes in price: {num_no_change}')\n",
    "print(f'Number of Upward Price Movements: {num_upward}')"
   ]
  },
  {
   "cell_type": "code",
   "execution_count": 74,
   "metadata": {},
   "outputs": [
    {
     "data": {
      "image/png": "[encoded data removed]",
      "text/plain": [
       "<Figure size 720x504 with 1 Axes>"
      ]
     },
     "metadata": {
      "needs_background": "light"
     },
     "output_type": "display_data"
    }
   ],
   "source": [
    "fig = plt.figure(figsize=(10, 7))\n",
    "plt.barh([2.25], [0]) # expand to fit the legend\n",
    "plt.barh([0], [num_downward], height=0.4, edgecolor='k', label='num_downward')\n",
    "plt.barh([1], [num_no_change], height=0.4, edgecolor='k', label='num_no_change')\n",
    "plt.barh([2], [num_upward], height=0.4, edgecolor='k', label='num_upward')\n",
    "plt.title('Number of Training Samples in each class')\n",
    "plt.xlabel('Number of Samples')\n",
    "plt.ylabel('Price Movement Class')\n",
    "plt.legend();"
   ]
  },
  {
   "cell_type": "markdown",
   "metadata": {},
   "source": [
    "### Observe the data statistics\n",
    "\n",
    "Note that this is across 4 correlated stocks"
   ]
  },
  {
   "cell_type": "code",
   "execution_count": 75,
   "metadata": {},
   "outputs": [
    {
     "data": {
      "text/html": [
       "<div>\n",
       "<style scoped>\n",
       "    .dataframe tbody tr th:only-of-type {\n",
       "        vertical-align: middle;\n",
       "    }\n",
       "\n",
       "    .dataframe tbody tr th {\n",
       "        vertical-align: top;\n",
       "    }\n",
       "\n",
       "    .dataframe thead th {\n",
       "        text-align: right;\n",
       "    }\n",
       "</style>\n",
       "<table border=\"1\" class=\"dataframe\">\n",
       "  <thead>\n",
       "    <tr style=\"text-align: right;\">\n",
       "      <th></th>\n",
       "      <th>Open</th>\n",
       "      <th>High</th>\n",
       "      <th>Low</th>\n",
       "      <th>Close</th>\n",
       "      <th>Volume</th>\n",
       "      <th>price_diff</th>\n",
       "      <th>price_change</th>\n",
       "    </tr>\n",
       "  </thead>\n",
       "  <tbody>\n",
       "    <tr>\n",
       "      <th>count</th>\n",
       "      <td>33248.000000</td>\n",
       "      <td>33248.000000</td>\n",
       "      <td>33248.000000</td>\n",
       "      <td>33248.000000</td>\n",
       "      <td>3.324800e+04</td>\n",
       "      <td>33248.000000</td>\n",
       "      <td>33248.000000</td>\n",
       "    </tr>\n",
       "    <tr>\n",
       "      <th>mean</th>\n",
       "      <td>163.974449</td>\n",
       "      <td>164.422785</td>\n",
       "      <td>163.512864</td>\n",
       "      <td>163.973821</td>\n",
       "      <td>1.864543e+06</td>\n",
       "      <td>0.010190</td>\n",
       "      <td>1.002466</td>\n",
       "    </tr>\n",
       "    <tr>\n",
       "      <th>std</th>\n",
       "      <td>62.598593</td>\n",
       "      <td>62.960503</td>\n",
       "      <td>62.221521</td>\n",
       "      <td>62.595739</td>\n",
       "      <td>2.213236e+06</td>\n",
       "      <td>1.016718</td>\n",
       "      <td>0.530417</td>\n",
       "    </tr>\n",
       "    <tr>\n",
       "      <th>min</th>\n",
       "      <td>76.118000</td>\n",
       "      <td>76.316500</td>\n",
       "      <td>75.731000</td>\n",
       "      <td>75.826000</td>\n",
       "      <td>3.846000e+04</td>\n",
       "      <td>-29.973333</td>\n",
       "      <td>0.000000</td>\n",
       "    </tr>\n",
       "    <tr>\n",
       "      <th>25%</th>\n",
       "      <td>127.745991</td>\n",
       "      <td>128.020639</td>\n",
       "      <td>127.481716</td>\n",
       "      <td>127.744404</td>\n",
       "      <td>3.703200e+05</td>\n",
       "      <td>-0.224657</td>\n",
       "      <td>1.000000</td>\n",
       "    </tr>\n",
       "    <tr>\n",
       "      <th>50%</th>\n",
       "      <td>141.915051</td>\n",
       "      <td>142.141720</td>\n",
       "      <td>141.649502</td>\n",
       "      <td>141.894783</td>\n",
       "      <td>1.180156e+06</td>\n",
       "      <td>0.004859</td>\n",
       "      <td>1.000000</td>\n",
       "    </tr>\n",
       "    <tr>\n",
       "      <th>75%</th>\n",
       "      <td>180.102819</td>\n",
       "      <td>180.629048</td>\n",
       "      <td>179.684275</td>\n",
       "      <td>180.116793</td>\n",
       "      <td>2.533532e+06</td>\n",
       "      <td>0.232112</td>\n",
       "      <td>1.000000</td>\n",
       "    </tr>\n",
       "    <tr>\n",
       "      <th>max</th>\n",
       "      <td>413.166633</td>\n",
       "      <td>414.496667</td>\n",
       "      <td>412.700000</td>\n",
       "      <td>413.056667</td>\n",
       "      <td>5.643245e+07</td>\n",
       "      <td>36.012633</td>\n",
       "      <td>2.000000</td>\n",
       "    </tr>\n",
       "  </tbody>\n",
       "</table>\n",
       "</div>"
      ],
      "text/plain": [
       "               Open          High           Low         Close        Volume  \\\n",
       "count  33248.000000  33248.000000  33248.000000  33248.000000  3.324800e+04   \n",
       "mean     163.974449    164.422785    163.512864    163.973821  1.864543e+06   \n",
       "std       62.598593     62.960503     62.221521     62.595739  2.213236e+06   \n",
       "min       76.118000     76.316500     75.731000     75.826000  3.846000e+04   \n",
       "25%      127.745991    128.020639    127.481716    127.744404  3.703200e+05   \n",
       "50%      141.915051    142.141720    141.649502    141.894783  1.180156e+06   \n",
       "75%      180.102819    180.629048    179.684275    180.116793  2.533532e+06   \n",
       "max      413.166633    414.496667    412.700000    413.056667  5.643245e+07   \n",
       "\n",
       "         price_diff  price_change  \n",
       "count  33248.000000  33248.000000  \n",
       "mean       0.010190      1.002466  \n",
       "std        1.016718      0.530417  \n",
       "min      -29.973333      0.000000  \n",
       "25%       -0.224657      1.000000  \n",
       "50%        0.004859      1.000000  \n",
       "75%        0.232112      1.000000  \n",
       "max       36.012633      2.000000  "
      ]
     },
     "execution_count": 75,
     "metadata": {},
     "output_type": "execute_result"
    }
   ],
   "source": [
    "train_df.describe()"
   ]
  },
  {
   "cell_type": "markdown",
   "metadata": {},
   "source": [
    "We can see that the price data,price diff and the Volumn are extremely different. It may be useful to experiment by taking the log of the volume and price, and maybe even upscaling the proce diff to get them in the same numeric neighborhood. Then we could standardize them with the training mean and Standard Deviation."
   ]
  },
  {
   "cell_type": "markdown",
   "metadata": {},
   "source": [
    "Now let's plot the data. We will opt not to plot the Volume, since it makes the prices plots alomost useless. The volume is a clear time series outlier, but we opt to leave it in the data since it is a useful indicator of price movements."
   ]
  },
  {
   "cell_type": "code",
   "execution_count": 76,
   "metadata": {},
   "outputs": [
    {
     "data": {
      "image/png": "[encoded data removed]",
      "text/plain": [
       "<Figure size 720x576 with 4 Axes>"
      ]
     },
     "metadata": {
      "needs_background": "light"
     },
     "output_type": "display_data"
    }
   ],
   "source": [
    "fig, ax = plt.subplots(2, 2, figsize=(10, 8))\n",
    "\n",
    "stock_dfs['AAPL'][['Open', 'High', 'Low', 'Close']].plot(ax=ax[0, 0])\n",
    "stock_dfs['GOOG'][['Open', 'High', 'Low', 'Close']].plot(ax=ax[0, 1])\n",
    "stock_dfs['QCOM'][['Open', 'High', 'Low', 'Close']].plot(ax=ax[1, 0])\n",
    "stock_dfs['TSLA'][['Open', 'High', 'Low', 'Close']].plot(ax=ax[1, 1]);\n",
    "\n",
    "ax[0, 0].set_title('AAPL')\n",
    "ax[0, 1].set_title('GOOG')\n",
    "ax[1, 0].set_title('QCOM')\n",
    "ax[1, 1].set_title('TSLA');\n",
    "\n",
    "fig.subplots_adjust(hspace=0.5);"
   ]
  },
  {
   "cell_type": "markdown",
   "metadata": {},
   "source": [
    "We can see that the final parts of each stock data looks similar, but the first part of the stocks do not look similar. This is because the data correlation was computed using the most recent 60 days from early October 2022."
   ]
  },
  {
   "cell_type": "markdown",
   "metadata": {},
   "source": [
    "### Get Standardized train, valid, and test sets\n",
    "\n",
    "Split into train, valid, and test sets. And then standardize with training mean and standard deviation"
   ]
  },
  {
   "cell_type": "code",
   "execution_count": 77,
   "metadata": {},
   "outputs": [
    {
     "name": "stdout",
     "output_type": "stream",
     "text": [
      "(33248, 7)\n",
      "(10816, 7)\n",
      "(7488, 7)\n"
     ]
    }
   ],
   "source": [
    "# first we will take the log of the trading volume to place in a similar neighborhood as the prices\n",
    "train_df['Volume'] = np.log(train_df['Volume'])\n",
    "valid_df['Volume'] = np.log(valid_df['Volume'])\n",
    "test_df['Volume'] = np.log(test_df['Volume'])\n",
    "\n",
    "train_mean = train_df.mean()\n",
    "train_std = train_df.std()\n",
    "\n",
    "# ensure that target column is not standardized\n",
    "train_mean.price_change = 0\n",
    "train_std.price_change = 1\n",
    "\n",
    "train_df = (train_df - train_mean) / train_std\n",
    "valid_df = (valid_df - train_mean) / train_std\n",
    "test_df = (test_df - train_mean) / train_std\n",
    "\n",
    "print(train_df.shape)\n",
    "print(valid_df.shape)\n",
    "print(test_df.shape)"
   ]
  },
  {
   "cell_type": "markdown",
   "metadata": {},
   "source": [
    "## Start Training Models\n",
    "\n",
    "We will train a few base models and compare their results on validation data\n",
    "- Neural Network\n",
    "- Transformer\n",
    "- LSTM\n",
    "\n",
    "For the training we will keep the mutual hyperparameters the same and we will implement early stopping\n",
    "- batch size = 32\n",
    "- epochs = 10\n",
    "- learning rate = 1e-4\n",
    "- early stopping patience = 2\n",
    "\n",
    "First we will obtain a baseline predictor which will use the previous class as it's next prediction. This will provide a good indicator if our models are being trained effectively"
   ]
  },
  {
   "cell_type": "code",
   "execution_count": 78,
   "metadata": {},
   "outputs": [],
   "source": [
    "class Baseline(tf.keras.Model):\n",
    "    def __init__(self, label_index=None):\n",
    "        super().__init__()\n",
    "        self.label_index = label_index\n",
    "\n",
    "    def call(self, inputs):\n",
    "        if self.label_index is None:\n",
    "            return inputs\n",
    "        result = inputs[:, :, self.label_index]\n",
    "        return result[:, :, tf.newaxis]"
   ]
  },
  {
   "cell_type": "markdown",
   "metadata": {},
   "source": [
    "Obtain windowed data for a single step, this will be used for the baseline model and the neural network since it doesn't model sequential data."
   ]
  },
  {
   "cell_type": "code",
   "execution_count": 79,
   "metadata": {},
   "outputs": [],
   "source": [
    "single_step_window_baseline = WindowGenerator(\n",
    "        input_width=1, label_width=1, shift=1,\n",
    "        train_df=train_df, valid_df=valid_df, test_df=test_df,\n",
    "        remove_labels_from_inputs=False, batch_size=32, \n",
    "        shuffle=True, seed=42, label_columns=['price_change'])\n",
    "\n",
    "single_step_window = WindowGenerator(\n",
    "        input_width=1, label_width=1, shift=1,\n",
    "        train_df=train_df, valid_df=valid_df, test_df=test_df,\n",
    "        remove_labels_from_inputs=True, batch_size=32, \n",
    "        shuffle=True, seed=42, label_columns=['price_change'])"
   ]
  },
  {
   "cell_type": "code",
   "execution_count": 84,
   "metadata": {},
   "outputs": [
    {
     "name": "stdout",
     "output_type": "stream",
     "text": [
      "1039/1039 [==============================] - 3s 2ms/step - loss: nan - accuracy: 0.6891\n",
      "338/338 [==============================] - 1s 2ms/step - loss: nan - accuracy: 0.5300\n"
     ]
    }
   ],
   "source": [
    "baseline = Baseline(label_index=single_step_window_baseline.column_indices['price_change'])\n",
    "\n",
    "baseline.compile(loss=tf.keras.losses.SparseCategoricalCrossentropy(),\n",
    "                 metrics=['accuracy'])\n",
    "\n",
    "train_performance = {}\n",
    "val_performance = {}\n",
    "train_performance['Baseline'] = baseline.evaluate(single_step_window_baseline.train)\n",
    "val_performance['Baseline'] = baseline.evaluate(single_step_window_baseline.valid)"
   ]
  },
  {
   "cell_type": "markdown",
   "metadata": {},
   "source": [
    "For the other models we will make a function to make the training process easier"
   ]
  },
  {
   "cell_type": "code",
   "execution_count": 85,
   "metadata": {},
   "outputs": [],
   "source": [
    "def compile_and_fit(model, window, lr=1e-4, max_epochs=100, patience=2):\n",
    "    early_stopping = tf.keras.callbacks.EarlyStopping(monitor='val_loss',\n",
    "                                                      patience=patience,\n",
    "                                                      mode='min')\n",
    "\n",
    "    model.compile(loss=tf.keras.losses.SparseCategoricalCrossentropy(),\n",
    "                  optimizer=tf.keras.optimizers.Adam(learning_rate=lr),\n",
    "                  metrics=['accuracy'])\n",
    "\n",
    "    history = model.fit(window.train, epochs=max_epochs,\n",
    "                        validation_data=window.valid,\n",
    "                        callbacks=[early_stopping])\n",
    "    return history"
   ]
  },
  {
   "cell_type": "markdown",
   "metadata": {},
   "source": [
    "### Train the Neural Network\n",
    "\n",
    "First we will train a linear classifier, then we will train a Neural Network with more layers"
   ]
  },
  {
   "cell_type": "code",
   "execution_count": 86,
   "metadata": {},
   "outputs": [],
   "source": [
    "linear = tf.keras.Sequential([\n",
    "    layers.Dense(units=3, activation='softmax')\n",
    "])"
   ]
  },
  {
   "cell_type": "code",
   "execution_count": 87,
   "metadata": {},
   "outputs": [
    {
     "name": "stdout",
     "output_type": "stream",
     "text": [
      "Epoch 1/10\n",
      "1039/1039 [==============================] - 5s 4ms/step - loss: 1.1422 - accuracy: 0.6258 - val_loss: 1.2260 - val_accuracy: 0.5178\n",
      "Epoch 2/10\n",
      "1039/1039 [==============================] - 4s 3ms/step - loss: 1.0078 - accuracy: 0.6544 - val_loss: 1.1157 - val_accuracy: 0.5515\n",
      "Epoch 3/10\n",
      "1039/1039 [==============================] - 4s 3ms/step - loss: 0.9157 - accuracy: 0.6774 - val_loss: 1.0465 - val_accuracy: 0.5784\n",
      "Epoch 4/10\n",
      "1039/1039 [==============================] - 4s 3ms/step - loss: 0.8489 - accuracy: 0.6896 - val_loss: 0.9980 - val_accuracy: 0.5922\n",
      "Epoch 5/10\n",
      "1039/1039 [==============================] - 4s 4ms/step - loss: 0.7975 - accuracy: 0.7009 - val_loss: 0.9647 - val_accuracy: 0.5930\n",
      "Epoch 6/10\n",
      "1039/1039 [==============================] - 4s 4ms/step - loss: 0.7591 - accuracy: 0.7081 - val_loss: 0.9452 - val_accuracy: 0.5946\n",
      "Epoch 7/10\n",
      "1039/1039 [==============================] - 4s 3ms/step - loss: 0.7316 - accuracy: 0.7137 - val_loss: 0.9367 - val_accuracy: 0.5933\n",
      "Epoch 8/10\n",
      "1039/1039 [==============================] - 4s 4ms/step - loss: 0.7127 - accuracy: 0.7189 - val_loss: 0.9359 - val_accuracy: 0.5916\n",
      "Epoch 9/10\n",
      "1039/1039 [==============================] - 4s 4ms/step - loss: 0.7001 - accuracy: 0.7235 - val_loss: 0.9395 - val_accuracy: 0.5912\n",
      "Epoch 10/10\n",
      "1039/1039 [==============================] - 4s 4ms/step - loss: 0.6921 - accuracy: 0.7269 - val_loss: 0.9449 - val_accuracy: 0.5886\n",
      "1039/1039 [==============================] - 3s 2ms/step - loss: 0.6892 - accuracy: 0.7276\n",
      "338/338 [==============================] - 1s 3ms/step - loss: 0.9449 - accuracy: 0.5886\n"
     ]
    }
   ],
   "source": [
    "history = compile_and_fit(linear, single_step_window, patience=2, max_epochs=10)\n",
    "\n",
    "\n",
    "train_performance['linear'] = linear.evaluate(single_step_window.train)\n",
    "val_performance['linear'] = linear.evaluate(single_step_window.valid)"
   ]
  },
  {
   "cell_type": "code",
   "execution_count": 94,
   "metadata": {},
   "outputs": [],
   "source": [
    "dense = tf.keras.Sequential([\n",
    "    layers.Dense(units=64, activation='relu'),\n",
    "    layers.Dense(units=64, activation='relu'),\n",
    "    layers.Dense(units=3, activation='softmax')\n",
    "])"
   ]
  },
  {
   "cell_type": "code",
   "execution_count": 95,
   "metadata": {},
   "outputs": [
    {
     "name": "stdout",
     "output_type": "stream",
     "text": [
      "Epoch 1/10\n",
      "1039/1039 [==============================] - 7s 6ms/step - loss: 0.7804 - accuracy: 0.6883 - val_loss: 0.9816 - val_accuracy: 0.5883\n",
      "Epoch 2/10\n",
      "1039/1039 [==============================] - 6s 6ms/step - loss: 0.6810 - accuracy: 0.7313 - val_loss: 0.9712 - val_accuracy: 0.5859\n",
      "Epoch 3/10\n",
      "1039/1039 [==============================] - 6s 6ms/step - loss: 0.6715 - accuracy: 0.7334 - val_loss: 0.9624 - val_accuracy: 0.5855\n",
      "Epoch 4/10\n",
      "1039/1039 [==============================] - 6s 6ms/step - loss: 0.6658 - accuracy: 0.7342 - val_loss: 0.9584 - val_accuracy: 0.5858\n",
      "Epoch 5/10\n",
      "1039/1039 [==============================] - 6s 6ms/step - loss: 0.6623 - accuracy: 0.7341 - val_loss: 0.9560 - val_accuracy: 0.5848\n",
      "Epoch 6/10\n",
      "1039/1039 [==============================] - 6s 6ms/step - loss: 0.6601 - accuracy: 0.7329 - val_loss: 0.9557 - val_accuracy: 0.5846\n",
      "Epoch 7/10\n",
      "1039/1039 [==============================] - 6s 6ms/step - loss: 0.6584 - accuracy: 0.7335 - val_loss: 0.9547 - val_accuracy: 0.5854\n",
      "Epoch 8/10\n",
      "1039/1039 [==============================] - 6s 6ms/step - loss: 0.6572 - accuracy: 0.7332 - val_loss: 0.9524 - val_accuracy: 0.5866\n",
      "Epoch 9/10\n",
      "1039/1039 [==============================] - 6s 6ms/step - loss: 0.6560 - accuracy: 0.7325 - val_loss: 0.9536 - val_accuracy: 0.5844\n",
      "Epoch 10/10\n",
      "1039/1039 [==============================] - 6s 6ms/step - loss: 0.6552 - accuracy: 0.7331 - val_loss: 0.9515 - val_accuracy: 0.5854\n",
      "1039/1039 [==============================] - 4s 3ms/step - loss: 0.6541 - accuracy: 0.7344\n",
      "338/338 [==============================] - 1s 4ms/step - loss: 0.9515 - accuracy: 0.5854\n"
     ]
    }
   ],
   "source": [
    "history = compile_and_fit(dense, single_step_window, patience=2, max_epochs=10)\n",
    "\n",
    "train_performance['Dense'] = dense.evaluate(single_step_window.train)\n",
    "val_performance['Dense'] = dense.evaluate(single_step_window.valid)"
   ]
  },
  {
   "cell_type": "markdown",
   "metadata": {},
   "source": [
    "### Get Data Generator for each time step\n",
    "\n",
    "This data generator will be used for our models that handle sequential data such as the Transformer and LSTM"
   ]
  },
  {
   "cell_type": "code",
   "execution_count": 98,
   "metadata": {},
   "outputs": [],
   "source": [
    "data_gen = WindowGenerator(\n",
    "                input_width=32, label_width=1, shift=1, \n",
    "                train_df=train_df, valid_df=valid_df, test_df=test_df,\n",
    "                remove_labels_from_inputs=True, batch_size=32, \n",
    "                shuffle=True, seed=42, label_columns=['price_change'])"
   ]
  },
  {
   "cell_type": "markdown",
   "metadata": {},
   "source": [
    "###  Build and Train the Transformer Encoder"
   ]
  },
  {
   "cell_type": "code",
   "execution_count": 99,
   "metadata": {},
   "outputs": [],
   "source": [
    "transformer_model = TransformerModel(\n",
    "            n_heads=2,\n",
    "            d_model=512,\n",
    "            ff_dim=256,\n",
    "            num_transformer_blocks=2,\n",
    "            mlp_units=[256],\n",
    "            n_outputs=3,\n",
    "            dropout=0.1,\n",
    "            mlp_dropout=0.1)"
   ]
  },
  {
   "cell_type": "code",
   "execution_count": 100,
   "metadata": {},
   "outputs": [
    {
     "name": "stdout",
     "output_type": "stream",
     "text": [
      "Epoch 1/10\n",
      "1038/1038 [==============================] - 62s 58ms/step - loss: 0.7002 - accuracy: 0.7189 - val_loss: 0.9553 - val_accuracy: 0.5941\n",
      "Epoch 2/10\n",
      "1038/1038 [==============================] - 61s 59ms/step - loss: 0.6676 - accuracy: 0.7322 - val_loss: 0.9122 - val_accuracy: 0.5910\n",
      "Epoch 3/10\n",
      "1038/1038 [==============================] - 61s 59ms/step - loss: 0.6469 - accuracy: 0.7347 - val_loss: 0.9225 - val_accuracy: 0.5942\n",
      "Epoch 4/10\n",
      "1038/1038 [==============================] - 61s 59ms/step - loss: 0.6369 - accuracy: 0.7351 - val_loss: 0.9031 - val_accuracy: 0.5907\n",
      "Epoch 5/10\n",
      "1038/1038 [==============================] - 61s 58ms/step - loss: 0.6301 - accuracy: 0.7356 - val_loss: 0.8984 - val_accuracy: 0.5900\n",
      "Epoch 6/10\n",
      "1038/1038 [==============================] - 61s 59ms/step - loss: 0.6254 - accuracy: 0.7365 - val_loss: 0.8969 - val_accuracy: 0.5864\n",
      "Epoch 7/10\n",
      "1038/1038 [==============================] - 61s 59ms/step - loss: 0.6240 - accuracy: 0.7363 - val_loss: 0.8969 - val_accuracy: 0.5893\n",
      "Epoch 8/10\n",
      "1038/1038 [==============================] - 62s 60ms/step - loss: 0.6214 - accuracy: 0.7374 - val_loss: 0.8929 - val_accuracy: 0.5912\n",
      "Epoch 9/10\n",
      "1038/1038 [==============================] - 61s 59ms/step - loss: 0.6197 - accuracy: 0.7366 - val_loss: 0.8893 - val_accuracy: 0.5921\n",
      "Epoch 10/10\n",
      "1038/1038 [==============================] - 61s 59ms/step - loss: 0.6183 - accuracy: 0.7391 - val_loss: 0.8944 - val_accuracy: 0.5929\n",
      "1038/1038 [==============================] - 9s 8ms/step - loss: 0.6136 - accuracy: 0.7398\n",
      "337/337 [==============================] - 3s 8ms/step - loss: 0.8944 - accuracy: 0.5929\n"
     ]
    }
   ],
   "source": [
    "compile_and_fit(transformer_model, data_gen, lr=1e-4,\n",
    "                patience=2, max_epochs=10)\n",
    "\n",
    "train_performance['transformer'] = transformer_model.evaluate(data_gen.train)\n",
    "val_performance['transformer'] = transformer_model.evaluate(data_gen.valid)"
   ]
  },
  {
   "cell_type": "markdown",
   "metadata": {},
   "source": [
    "### Build and Train the LSTM"
   ]
  },
  {
   "cell_type": "code",
   "execution_count": 103,
   "metadata": {},
   "outputs": [],
   "source": [
    "\n",
    "lstm_model = tf.keras.models.Sequential([\n",
    "    # Shape [batch, time, features] => [batch, time, lstm_units]\n",
    "    layers.LSTM(25, dropout=0.0, return_sequences=True),\n",
    "    layers.LSTM(25, dropout=0.0, return_sequences=True),\n",
    "    layers.LSTM(25, dropout=0.0),\n",
    "    # Shape => [batch, time, features]\n",
    "    # layers.TimeDistributed(layers.Dense(units=3, activation='softmax')),\n",
    "    layers.Dense(units=3, activation='softmax'),\n",
    "    layers.Reshape([1, -1])\n",
    "])"
   ]
  },
  {
   "cell_type": "code",
   "execution_count": 107,
   "metadata": {},
   "outputs": [
    {
     "name": "stdout",
     "output_type": "stream",
     "text": [
      "Epoch 1/10\n",
      "1038/1038 [==============================] - 22s 19ms/step - loss: 0.6523 - accuracy: 0.7320 - val_loss: 0.9122 - val_accuracy: 0.5873\n",
      "Epoch 2/10\n",
      "1038/1038 [==============================] - 18s 18ms/step - loss: 0.6507 - accuracy: 0.7326 - val_loss: 0.9048 - val_accuracy: 0.5873\n",
      "Epoch 3/10\n",
      "1038/1038 [==============================] - 18s 18ms/step - loss: 0.6493 - accuracy: 0.7331 - val_loss: 0.9150 - val_accuracy: 0.5880\n",
      "Epoch 4/10\n",
      "1038/1038 [==============================] - 18s 18ms/step - loss: 0.6481 - accuracy: 0.7332 - val_loss: 0.9078 - val_accuracy: 0.5884\n",
      "1038/1038 [==============================] - 9s 9ms/step - loss: 0.6472 - accuracy: 0.7329\n",
      "337/337 [==============================] - 3s 9ms/step - loss: 0.9078 - accuracy: 0.5884\n"
     ]
    }
   ],
   "source": [
    "compile_and_fit(lstm_model, data_gen, lr=1e-4,\n",
    "                patience=2, max_epochs=10)\n",
    "\n",
    "train_performance['lstm'] = lstm_model.evaluate(data_gen.train)\n",
    "val_performance['lstm'] = lstm_model.evaluate(data_gen.valid)"
   ]
  },
  {
   "cell_type": "code",
   "execution_count": 108,
   "metadata": {},
   "outputs": [
    {
     "data": {
      "text/plain": [
       "{'Baseline': [nan, 0.530004620552063],\n",
       " 'linear': [0.944926917552948, 0.5886269211769104],\n",
       " 'Dense': [0.9514778852462769, 0.5853906869888306],\n",
       " 'transformer': [0.8943844437599182, 0.592915415763855],\n",
       " 'lstm': [0.9077631235122681, 0.5883716344833374]}"
      ]
     },
     "execution_count": 108,
     "metadata": {},
     "output_type": "execute_result"
    }
   ],
   "source": [
    "val_performance"
   ]
  },
  {
   "cell_type": "code",
   "execution_count": 109,
   "metadata": {},
   "outputs": [
    {
     "data": {
      "text/plain": [
       "{'Baseline': [nan, 0.6891449093818665],\n",
       " 'linear': [0.689243495464325, 0.7276145219802856],\n",
       " 'Dense': [0.654122531414032, 0.7343820333480835],\n",
       " 'transformer': [0.6135666370391846, 0.7397639751434326],\n",
       " 'lstm': [0.6472254991531372, 0.7328696846961975]}"
      ]
     },
     "execution_count": 109,
     "metadata": {},
     "output_type": "execute_result"
    }
   ],
   "source": [
    "train_performance"
   ]
  },
  {
   "cell_type": "markdown",
   "metadata": {},
   "source": [
    "## Observations\n",
    "\n",
    "It has been observed thar when using only price and trading volume data that the Lienar Classifier and Neural Network generally perform better than the Transformer and LSTM. It is unclear why this happens, perhaps the data being fed into the models is insufficient for this modeling purpose. \n",
    "\n",
    "However, When we add the price difference as an additional feature we observe that the Transformer and LSTM models outperform the Linear Classifier and Neural Network. This could be due to the fact the price change is directly related to the target variable that we are trying to model (i.e. it can be thought of as a continuous version of our target variable). Prehaps the models are able to characterize the sequence of price changes and relate them to the prices and volume data and in turn learn a better understanding of the future price movement."
   ]
  },
  {
   "cell_type": "markdown",
   "metadata": {},
   "source": []
  }
 ],
 "metadata": {
  "kernelspec": {
   "display_name": "Python 3.9.12 ('tf')",
   "language": "python",
   "name": "python3"
  },
  "language_info": {
   "codemirror_mode": {
    "name": "ipython",
    "version": 3
   },
   "file_extension": ".py",
   "mimetype": "text/x-python",
   "name": "python",
   "nbconvert_exporter": "python",
   "pygments_lexer": "ipython3",
   "version": "3.9.12"
  },
  "orig_nbformat": 4,
  "vscode": {
   "interpreter": {
    "hash": "2b2da39daaaff30a84159e8452ba91acfc0bbd521fb66c6aa9941f847b87bd81"
   }
  }
 },
 "nbformat": 4,
 "nbformat_minor": 2
}
