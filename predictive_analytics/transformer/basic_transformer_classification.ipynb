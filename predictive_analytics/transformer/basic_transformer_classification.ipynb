{
 "cells": [
  {
   "cell_type": "markdown",
   "metadata": {},
   "source": [
    "# Basic Models\n",
    "\n",
    "In this notebook, we will explore a few different models for stock price trend classification. We will work with AAPL, GOOG, QCOM, and TSLA; since these are all correlated stocks in fall of 2022. We will use the past 2 years of 15 min stock price data for each stock to create a data set. We will split this dataset into train, valid, test based on time. We will add a closing price diff column and compute the current stock trends for each row. Then we will standardize the data and feed it into some models.\n",
    "\n",
    "Some of the models we will train are:\n",
    "- Lienar Classifier (1 layer Neural Network)\n",
    "- Neural Network (multi layers)\n",
    "- Transformer Encoder\n",
    "- LSTM"
   ]
  },
  {
   "cell_type": "markdown",
   "metadata": {},
   "source": [
    "### Library Import"
   ]
  },
  {
   "cell_type": "code",
   "execution_count": 1,
   "metadata": {},
   "outputs": [],
   "source": [
    "import os\n",
    "import sys\n",
    "import numpy as np\n",
    "import pandas as pd\n",
    "import pandas_ta as ta\n",
    "import tensorflow as tf\n",
    "import keras\n",
    "from tensorflow.keras import layers\n",
    "import matplotlib.pyplot as plt\n",
    "\n",
    "plt.rcParams[\"figure.figsize\"] = (20, 10)\n",
    "%matplotlib inline"
   ]
  },
  {
   "cell_type": "markdown",
   "metadata": {},
   "source": [
    "### Local Imports\n",
    "\n",
    "Get base dir for imports, this allows us to look in the main algotrading folder to import local modules"
   ]
  },
  {
   "cell_type": "code",
   "execution_count": 2,
   "metadata": {},
   "outputs": [],
   "source": [
    "BASE_DIR = os.path.abspath(os.path.join(os.path.abspath('..'), '..'))\n",
    "sys.path.append(BASE_DIR)"
   ]
  },
  {
   "cell_type": "code",
   "execution_count": 13,
   "metadata": {},
   "outputs": [],
   "source": [
    "from window_generator import WindowGenerator\n",
    "from models.basic_transformer import TransformerModel"
   ]
  },
  {
   "cell_type": "code",
   "execution_count": 4,
   "metadata": {},
   "outputs": [],
   "source": [
    "from data_utils import *"
   ]
  },
  {
   "cell_type": "markdown",
   "metadata": {},
   "source": [
    "#### Ensure that GPU is available"
   ]
  },
  {
   "cell_type": "code",
   "execution_count": 5,
   "metadata": {},
   "outputs": [
    {
     "data": {
      "text/plain": [
       "[PhysicalDevice(name='/physical_device:GPU:0', device_type='GPU')]"
      ]
     },
     "execution_count": 5,
     "metadata": {},
     "output_type": "execute_result"
    }
   ],
   "source": [
    "tf.config.list_physical_devices('GPU')  "
   ]
  },
  {
   "cell_type": "markdown",
   "metadata": {},
   "source": [
    "### Get the Data"
   ]
  },
  {
   "cell_type": "code",
   "execution_count": 6,
   "metadata": {},
   "outputs": [],
   "source": [
    "from glob import glob\n",
    "import re\n",
    "\n",
    "get_name = lambda x : re.search('\\w+(?=_15min)', x).group()\n",
    "\n",
    "# get all data .csvs\n",
    "data_paths = glob(os.path.join(BASE_DIR, r'data\\raw\\*.csv'))"
   ]
  },
  {
   "cell_type": "code",
   "execution_count": 7,
   "metadata": {},
   "outputs": [],
   "source": [
    "THRESH = 0.45 # dollars\n",
    "stock_dfs = {}\n",
    "train_df = []\n",
    "valid_df = []\n",
    "test_df = []\n",
    "\n",
    "# supress setting with copy warning\n",
    "# https://stackoverflow.com/questions/20625582/how-to-deal-with-settingwithcopywarning-in-pandas\n",
    "pd.options.mode.chained_assignment = None\n",
    "\n",
    "for _path in data_paths:\n",
    "    df = pd.read_csv(_path, index_col=0, parse_dates=True, infer_datetime_format=True)\n",
    "    \n",
    "    # filter regular trading hours (9:00 - 16:00) and drop NaNs\n",
    "    df = get_trading_times(df)\n",
    "    df = df.dropna()\n",
    "    \n",
    "    # obtain target variable\n",
    "    df['price_diff'] = df['Close'].diff() # don't use price diff for now\n",
    "    df['price_change'] = 1 # price stays the same\n",
    "    df['price_change'][df['price_diff'] < -THRESH] = 0 # downward price movement\n",
    "    df['price_change'][df['price_diff'] > THRESH] = 2 # upward prive movement\n",
    "\n",
    "    # split into train, valid, and test sets\n",
    "    _train = df.loc[:'2022-02-01']\n",
    "    _valid = df.loc['2022-02-02':'2022-07-01']\n",
    "    _test = df.loc['2022-07-01':]\n",
    "\n",
    "    # append to data structures\n",
    "    stock_dfs.update({get_name(_path) : df})\n",
    "    train_df.append(_train)\n",
    "    valid_df.append(_valid)\n",
    "    test_df.append(_test)\n",
    "\n",
    "\n",
    "# return setting with copy warning to default \n",
    "pd.options.mode.chained_assignment = 'warn'\n",
    "\n",
    "# concatenate data\n",
    "train_df = pd.concat(train_df).dropna()\n",
    "valid_df = pd.concat(valid_df).dropna()\n",
    "test_df = pd.concat(test_df).dropna()"
   ]
  },
  {
   "cell_type": "markdown",
   "metadata": {},
   "source": [
    "Get summaries of each raw dataset"
   ]
  },
  {
   "cell_type": "code",
   "execution_count": 8,
   "metadata": {},
   "outputs": [],
   "source": [
    "raw_stock_dfs = {}\n",
    "\n",
    "for _path in data_paths:\n",
    "    _df = pd.read_csv(_path, index_col=0, parse_dates=True, infer_datetime_format=True).dropna()\n",
    "\n",
    "    raw_stock_dfs.update({get_name(_path) : _df})"
   ]
  },
  {
   "cell_type": "markdown",
   "metadata": {},
   "source": [
    "Code to compute target variable (add to utils script)"
   ]
  },
  {
   "cell_type": "code",
   "execution_count": 80,
   "metadata": {},
   "outputs": [],
   "source": [
    "def get_numeric_price_trend(df, n=4):\n",
    "    ''' Obtains target variable for stock data \n",
    "        Discards the final n-1 rows.\n",
    "        Inputs:\n",
    "            df - Stock DataFrame\n",
    "            n - range of target window to compute target variable\n",
    "        Outputs:\n",
    "            df - DataFrame with final n-1 rows removed with target variable inserted for each row\n",
    "    '''\n",
    "    midpoints = []\n",
    "    for i in range(n):\n",
    "        midpoints.append(df[['Open', 'Close']].shift(-i).mean(axis=1))\n",
    "\n",
    "    midpoints = pd.concat(midpoints, axis=1) # .mean(axis=1)\n",
    "    nan_locs = midpoints.isna().any(axis=1)\n",
    "\n",
    "    # remvove NaNs\n",
    "    df = df[~nan_locs]\n",
    "    midpoints = midpoints[~nan_locs]\n",
    "\n",
    "    # compute mean numeric price trend \n",
    "    price_trend = midpoints.mean(axis=1)\n",
    "\n",
    "    # add targets to DataFrame\n",
    "    df['price_trend'] = price_trend - df[['Open', 'Close']].mean(axis=1)\n",
    "\n",
    "    return df\n",
    "    "
   ]
  },
  {
   "cell_type": "code",
   "execution_count": 71,
   "metadata": {},
   "outputs": [
    {
     "name": "stderr",
     "output_type": "stream",
     "text": [
      "C:\\Users\\itber\\AppData\\Local\\Temp\\ipykernel_35328\\1406683477.py:28: SettingWithCopyWarning: \n",
      "A value is trying to be set on a copy of a slice from a DataFrame.\n",
      "Try using .loc[row_indexer,col_indexer] = value instead\n",
      "\n",
      "See the caveats in the documentation: https://pandas.pydata.org/pandas-docs/stable/user_guide/indexing.html#returning-a-view-versus-a-copy\n",
      "  df['target'] = price_trend - df[['Open', 'Close']].mean(axis=1)\n"
     ]
    },
    {
     "data": {
      "text/html": [
       "<div>\n",
       "<style scoped>\n",
       "    .dataframe tbody tr th:only-of-type {\n",
       "        vertical-align: middle;\n",
       "    }\n",
       "\n",
       "    .dataframe tbody tr th {\n",
       "        vertical-align: top;\n",
       "    }\n",
       "\n",
       "    .dataframe thead th {\n",
       "        text-align: right;\n",
       "    }\n",
       "</style>\n",
       "<table border=\"1\" class=\"dataframe\">\n",
       "  <thead>\n",
       "    <tr style=\"text-align: right;\">\n",
       "      <th></th>\n",
       "      <th>Open</th>\n",
       "      <th>High</th>\n",
       "      <th>Low</th>\n",
       "      <th>Close</th>\n",
       "      <th>Volume</th>\n",
       "      <th>target</th>\n",
       "    </tr>\n",
       "    <tr>\n",
       "      <th>Time</th>\n",
       "      <th></th>\n",
       "      <th></th>\n",
       "      <th></th>\n",
       "      <th></th>\n",
       "      <th></th>\n",
       "      <th></th>\n",
       "    </tr>\n",
       "  </thead>\n",
       "  <tbody>\n",
       "    <tr>\n",
       "      <th>2020-10-23 04:15:00</th>\n",
       "      <td>142.280000</td>\n",
       "      <td>142.280000</td>\n",
       "      <td>140.833333</td>\n",
       "      <td>141.333333</td>\n",
       "      <td>73101</td>\n",
       "      <td>-0.344167</td>\n",
       "    </tr>\n",
       "    <tr>\n",
       "      <th>2020-10-23 04:30:00</th>\n",
       "      <td>141.433333</td>\n",
       "      <td>141.826667</td>\n",
       "      <td>141.376667</td>\n",
       "      <td>141.376667</td>\n",
       "      <td>27927</td>\n",
       "      <td>-0.074583</td>\n",
       "    </tr>\n",
       "    <tr>\n",
       "      <th>2020-10-23 04:45:00</th>\n",
       "      <td>141.376667</td>\n",
       "      <td>141.466667</td>\n",
       "      <td>141.300000</td>\n",
       "      <td>141.333333</td>\n",
       "      <td>17907</td>\n",
       "      <td>-0.058333</td>\n",
       "    </tr>\n",
       "    <tr>\n",
       "      <th>2020-10-23 05:00:00</th>\n",
       "      <td>141.300000</td>\n",
       "      <td>141.300000</td>\n",
       "      <td>141.163333</td>\n",
       "      <td>141.266667</td>\n",
       "      <td>17718</td>\n",
       "      <td>0.054583</td>\n",
       "    </tr>\n",
       "    <tr>\n",
       "      <th>2020-10-23 05:15:00</th>\n",
       "      <td>141.263333</td>\n",
       "      <td>141.343333</td>\n",
       "      <td>141.263333</td>\n",
       "      <td>141.293333</td>\n",
       "      <td>8238</td>\n",
       "      <td>0.129583</td>\n",
       "    </tr>\n",
       "    <tr>\n",
       "      <th>...</th>\n",
       "      <td>...</td>\n",
       "      <td>...</td>\n",
       "      <td>...</td>\n",
       "      <td>...</td>\n",
       "      <td>...</td>\n",
       "      <td>...</td>\n",
       "    </tr>\n",
       "    <tr>\n",
       "      <th>2022-10-12 18:15:00</th>\n",
       "      <td>217.080000</td>\n",
       "      <td>217.300000</td>\n",
       "      <td>217.080000</td>\n",
       "      <td>217.100000</td>\n",
       "      <td>17270</td>\n",
       "      <td>-0.107500</td>\n",
       "    </tr>\n",
       "    <tr>\n",
       "      <th>2022-10-12 18:30:00</th>\n",
       "      <td>217.100000</td>\n",
       "      <td>217.100000</td>\n",
       "      <td>216.900000</td>\n",
       "      <td>216.900000</td>\n",
       "      <td>17952</td>\n",
       "      <td>-0.072500</td>\n",
       "    </tr>\n",
       "    <tr>\n",
       "      <th>2022-10-12 18:45:00</th>\n",
       "      <td>217.050000</td>\n",
       "      <td>217.050000</td>\n",
       "      <td>216.900000</td>\n",
       "      <td>216.910000</td>\n",
       "      <td>8217</td>\n",
       "      <td>-0.075000</td>\n",
       "    </tr>\n",
       "    <tr>\n",
       "      <th>2022-10-12 19:00:00</th>\n",
       "      <td>216.970000</td>\n",
       "      <td>216.990000</td>\n",
       "      <td>216.750000</td>\n",
       "      <td>216.750000</td>\n",
       "      <td>14643</td>\n",
       "      <td>0.011250</td>\n",
       "    </tr>\n",
       "    <tr>\n",
       "      <th>2022-10-12 19:15:00</th>\n",
       "      <td>216.780000</td>\n",
       "      <td>216.960000</td>\n",
       "      <td>216.780000</td>\n",
       "      <td>216.960000</td>\n",
       "      <td>7673</td>\n",
       "      <td>-0.003750</td>\n",
       "    </tr>\n",
       "  </tbody>\n",
       "</table>\n",
       "<p>31370 rows × 6 columns</p>\n",
       "</div>"
      ],
      "text/plain": [
       "                           Open        High         Low       Close  Volume  \\\n",
       "Time                                                                          \n",
       "2020-10-23 04:15:00  142.280000  142.280000  140.833333  141.333333   73101   \n",
       "2020-10-23 04:30:00  141.433333  141.826667  141.376667  141.376667   27927   \n",
       "2020-10-23 04:45:00  141.376667  141.466667  141.300000  141.333333   17907   \n",
       "2020-10-23 05:00:00  141.300000  141.300000  141.163333  141.266667   17718   \n",
       "2020-10-23 05:15:00  141.263333  141.343333  141.263333  141.293333    8238   \n",
       "...                         ...         ...         ...         ...     ...   \n",
       "2022-10-12 18:15:00  217.080000  217.300000  217.080000  217.100000   17270   \n",
       "2022-10-12 18:30:00  217.100000  217.100000  216.900000  216.900000   17952   \n",
       "2022-10-12 18:45:00  217.050000  217.050000  216.900000  216.910000    8217   \n",
       "2022-10-12 19:00:00  216.970000  216.990000  216.750000  216.750000   14643   \n",
       "2022-10-12 19:15:00  216.780000  216.960000  216.780000  216.960000    7673   \n",
       "\n",
       "                       target  \n",
       "Time                           \n",
       "2020-10-23 04:15:00 -0.344167  \n",
       "2020-10-23 04:30:00 -0.074583  \n",
       "2020-10-23 04:45:00 -0.058333  \n",
       "2020-10-23 05:00:00  0.054583  \n",
       "2020-10-23 05:15:00  0.129583  \n",
       "...                       ...  \n",
       "2022-10-12 18:15:00 -0.107500  \n",
       "2022-10-12 18:30:00 -0.072500  \n",
       "2022-10-12 18:45:00 -0.075000  \n",
       "2022-10-12 19:00:00  0.011250  \n",
       "2022-10-12 19:15:00 -0.003750  \n",
       "\n",
       "[31370 rows x 6 columns]"
      ]
     },
     "execution_count": 71,
     "metadata": {},
     "output_type": "execute_result"
    }
   ],
   "source": [
    "get_target(df, n=4)"
   ]
  },
  {
   "cell_type": "markdown",
   "metadata": {},
   "source": [
    "When we split the stock data into train test, and valid sets we concatenate them sequentially and are careful not to sort the indexes. In this manner our training and validation methods observe one stock after the other. If we were to shuffle the training windows, then we would still be primarily training on one stock at a time, except for several noisy instances where the data crosses over from one stock to another."
   ]
  },
  {
   "cell_type": "markdown",
   "metadata": {},
   "source": [
    "#### Check the sizes of the train, valid, and test sets"
   ]
  },
  {
   "cell_type": "markdown",
   "metadata": {},
   "source": [
    "### Check the number of different classes in the train, valid, and test sets"
   ]
  },
  {
   "cell_type": "code",
   "execution_count": 9,
   "metadata": {},
   "outputs": [
    {
     "name": "stdout",
     "output_type": "stream",
     "text": [
      "Number of Downward Price Movements: 4215\n",
      "Number of no/small changes in price: 4476\n",
      "Number of Upward Price Movements: 4172\n"
     ]
    }
   ],
   "source": [
    "num_downward = np.sum(df.price_change == 0)\n",
    "num_no_change = np.sum(df.price_change == 1)\n",
    "num_upward = np.sum(df.price_change == 2)\n",
    "\n",
    "print(f'Number of Downward Price Movements: {num_downward}')\n",
    "print(f'Number of no/small changes in price: {num_no_change}')\n",
    "print(f'Number of Upward Price Movements: {num_upward}')"
   ]
  },
  {
   "cell_type": "code",
   "execution_count": 17,
   "metadata": {},
   "outputs": [
    {
     "data": {
      "image/png": "[encoded data removed]",
      "text/plain": [
       "<Figure size 720x504 with 1 Axes>"
      ]
     },
     "metadata": {
      "needs_background": "light"
     },
     "output_type": "display_data"
    }
   ],
   "source": [
    "fig = plt.figure(figsize=(10, 7))\n",
    "plt.barh([2.25], [0]) # expand to fit the legend\n",
    "plt.barh([0], [num_downward], height=0.4, edgecolor='k', label='num_downward')\n",
    "plt.barh([1], [num_no_change], height=0.4, edgecolor='k', label='num_no_change')\n",
    "plt.barh([2], [num_upward], height=0.4, edgecolor='k', label='num_upward')\n",
    "plt.title('Number of Training Samples in each class')\n",
    "plt.xlabel('Number of Samples')\n",
    "plt.ylabel('Price Movement Class')\n",
    "plt.legend();"
   ]
  },
  {
   "cell_type": "markdown",
   "metadata": {},
   "source": [
    "### Observe the data statistics\n",
    "\n",
    "Note that this is across 4 correlated stocks"
   ]
  },
  {
   "cell_type": "code",
   "execution_count": 18,
   "metadata": {},
   "outputs": [
    {
     "data": {
      "text/html": [
       "<div>\n",
       "<style scoped>\n",
       "    .dataframe tbody tr th:only-of-type {\n",
       "        vertical-align: middle;\n",
       "    }\n",
       "\n",
       "    .dataframe tbody tr th {\n",
       "        vertical-align: top;\n",
       "    }\n",
       "\n",
       "    .dataframe thead th {\n",
       "        text-align: right;\n",
       "    }\n",
       "</style>\n",
       "<table border=\"1\" class=\"dataframe\">\n",
       "  <thead>\n",
       "    <tr style=\"text-align: right;\">\n",
       "      <th></th>\n",
       "      <th>Open</th>\n",
       "      <th>High</th>\n",
       "      <th>Low</th>\n",
       "      <th>Close</th>\n",
       "      <th>Volume</th>\n",
       "      <th>price_diff</th>\n",
       "      <th>price_change</th>\n",
       "    </tr>\n",
       "  </thead>\n",
       "  <tbody>\n",
       "    <tr>\n",
       "      <th>count</th>\n",
       "      <td>33248.000000</td>\n",
       "      <td>33248.000000</td>\n",
       "      <td>33248.000000</td>\n",
       "      <td>33248.000000</td>\n",
       "      <td>3.324800e+04</td>\n",
       "      <td>33248.000000</td>\n",
       "      <td>33248.000000</td>\n",
       "    </tr>\n",
       "    <tr>\n",
       "      <th>mean</th>\n",
       "      <td>163.974449</td>\n",
       "      <td>164.422785</td>\n",
       "      <td>163.512864</td>\n",
       "      <td>163.973821</td>\n",
       "      <td>1.864543e+06</td>\n",
       "      <td>0.010190</td>\n",
       "      <td>1.002466</td>\n",
       "    </tr>\n",
       "    <tr>\n",
       "      <th>std</th>\n",
       "      <td>62.598593</td>\n",
       "      <td>62.960503</td>\n",
       "      <td>62.221521</td>\n",
       "      <td>62.595739</td>\n",
       "      <td>2.213236e+06</td>\n",
       "      <td>1.016718</td>\n",
       "      <td>0.530417</td>\n",
       "    </tr>\n",
       "    <tr>\n",
       "      <th>min</th>\n",
       "      <td>76.118000</td>\n",
       "      <td>76.316500</td>\n",
       "      <td>75.731000</td>\n",
       "      <td>75.826000</td>\n",
       "      <td>3.846000e+04</td>\n",
       "      <td>-29.973333</td>\n",
       "      <td>0.000000</td>\n",
       "    </tr>\n",
       "    <tr>\n",
       "      <th>25%</th>\n",
       "      <td>127.745991</td>\n",
       "      <td>128.020639</td>\n",
       "      <td>127.481716</td>\n",
       "      <td>127.744404</td>\n",
       "      <td>3.703200e+05</td>\n",
       "      <td>-0.224657</td>\n",
       "      <td>1.000000</td>\n",
       "    </tr>\n",
       "    <tr>\n",
       "      <th>50%</th>\n",
       "      <td>141.915051</td>\n",
       "      <td>142.141720</td>\n",
       "      <td>141.649502</td>\n",
       "      <td>141.894783</td>\n",
       "      <td>1.180156e+06</td>\n",
       "      <td>0.004859</td>\n",
       "      <td>1.000000</td>\n",
       "    </tr>\n",
       "    <tr>\n",
       "      <th>75%</th>\n",
       "      <td>180.102819</td>\n",
       "      <td>180.629048</td>\n",
       "      <td>179.684275</td>\n",
       "      <td>180.116793</td>\n",
       "      <td>2.533532e+06</td>\n",
       "      <td>0.232112</td>\n",
       "      <td>1.000000</td>\n",
       "    </tr>\n",
       "    <tr>\n",
       "      <th>max</th>\n",
       "      <td>413.166633</td>\n",
       "      <td>414.496667</td>\n",
       "      <td>412.700000</td>\n",
       "      <td>413.056667</td>\n",
       "      <td>5.643245e+07</td>\n",
       "      <td>36.012633</td>\n",
       "      <td>2.000000</td>\n",
       "    </tr>\n",
       "  </tbody>\n",
       "</table>\n",
       "</div>"
      ],
      "text/plain": [
       "               Open          High           Low         Close        Volume  \\\n",
       "count  33248.000000  33248.000000  33248.000000  33248.000000  3.324800e+04   \n",
       "mean     163.974449    164.422785    163.512864    163.973821  1.864543e+06   \n",
       "std       62.598593     62.960503     62.221521     62.595739  2.213236e+06   \n",
       "min       76.118000     76.316500     75.731000     75.826000  3.846000e+04   \n",
       "25%      127.745991    128.020639    127.481716    127.744404  3.703200e+05   \n",
       "50%      141.915051    142.141720    141.649502    141.894783  1.180156e+06   \n",
       "75%      180.102819    180.629048    179.684275    180.116793  2.533532e+06   \n",
       "max      413.166633    414.496667    412.700000    413.056667  5.643245e+07   \n",
       "\n",
       "         price_diff  price_change  \n",
       "count  33248.000000  33248.000000  \n",
       "mean       0.010190      1.002466  \n",
       "std        1.016718      0.530417  \n",
       "min      -29.973333      0.000000  \n",
       "25%       -0.224657      1.000000  \n",
       "50%        0.004859      1.000000  \n",
       "75%        0.232112      1.000000  \n",
       "max       36.012633      2.000000  "
      ]
     },
     "execution_count": 18,
     "metadata": {},
     "output_type": "execute_result"
    }
   ],
   "source": [
    "train_df.describe()"
   ]
  },
  {
   "cell_type": "markdown",
   "metadata": {},
   "source": [
    "We can see that the price data,price diff and the Volumn are extremely different. It may be useful to experiment by taking the log of the volume and price, and maybe even upscaling the proce diff to get them in the same numeric neighborhood. Then we could standardize them with the training mean and Standard Deviation."
   ]
  },
  {
   "cell_type": "markdown",
   "metadata": {},
   "source": [
    "Now let's plot the data. We will opt not to plot the Volume, since it makes the prices plots alomost useless. The volume is a clear time series outlier, but we opt to leave it in the data since it is a useful indicator of price movements."
   ]
  },
  {
   "cell_type": "code",
   "execution_count": 78,
   "metadata": {},
   "outputs": [
    {
     "data": {
      "image/png": "[encoded data removed]",
      "text/plain": [
       "<Figure size 720x576 with 4 Axes>"
      ]
     },
     "metadata": {
      "needs_background": "light"
     },
     "output_type": "display_data"
    }
   ],
   "source": [
    "%matplotlib inline\n",
    "\n",
    "fig, ax = plt.subplots(2, 2, figsize=(10, 8))\n",
    "\n",
    "stock_dfs['AAPL'][['Open', 'High', 'Low', 'Close']].plot(ax=ax[0, 0])\n",
    "stock_dfs['GOOG'][['Open', 'High', 'Low', 'Close']].plot(ax=ax[0, 1])\n",
    "stock_dfs['QCOM'][['Open', 'High', 'Low', 'Close']].plot(ax=ax[1, 0])\n",
    "stock_dfs['TSLA'][['Open', 'High', 'Low', 'Close']].plot(ax=ax[1, 1]);\n",
    "\n",
    "ax[0, 0].set_title('AAPL')\n",
    "ax[0, 1].set_title('GOOG')\n",
    "ax[1, 0].set_title('QCOM')\n",
    "ax[1, 1].set_title('TSLA');\n",
    "\n",
    "# ax[0, 0].set_ylim(50, 500)\n",
    "# ax[0, 1].set_ylim(50, 500)\n",
    "# ax[1, 0].set_ylim(50, 500)\n",
    "# ax[1, 1].set_ylim(50, 500);\n",
    "\n",
    "fig.suptitle('Portfolio Stock Prices');\n",
    "\n",
    "fig.subplots_adjust(hspace=0.5);"
   ]
  },
  {
   "cell_type": "code",
   "execution_count": 72,
   "metadata": {},
   "outputs": [],
   "source": [
    "aapl_close_diff = stock_dfs['AAPL']['Close'].diff()\n",
    "goog_close_diff = stock_dfs['GOOG']['Close'].diff()\n",
    "qcom_close_diff = stock_dfs['QCOM']['Close'].diff()\n",
    "tsla_close_diff = stock_dfs['TSLA']['Close'].diff()"
   ]
  },
  {
   "cell_type": "code",
   "execution_count": 73,
   "metadata": {},
   "outputs": [
    {
     "name": "stdout",
     "output_type": "stream",
     "text": [
      "0.41425187500002636\n",
      "-0.6193740000000361\n",
      "0.623381625000043\n",
      "-0.5158110312500295\n",
      "0.5198186562500364\n"
     ]
    }
   ],
   "source": [
    "# use IQR to detect price change outliers\n",
    "\n",
    "def get_iqr(ser):\n",
    "    q1 = ser.quantile(0.25)\n",
    "    q3 = ser.quantile(0.75)\n",
    "    iqr = q3 - q1\n",
    "\n",
    "    return q1, q3, iqr\n",
    "\n",
    "q1, q3, iqr = get_iqr(aapl_close_diff)\n",
    "print(iqr)\n",
    "print(q1 - iqr)\n",
    "print(q3 + iqr)\n",
    "\n",
    "print(q1 - 0.75*iqr)\n",
    "print(q3 + 0.75*iqr)"
   ]
  },
  {
   "cell_type": "code",
   "execution_count": 74,
   "metadata": {},
   "outputs": [
    {
     "data": {
      "text/plain": [
       "2020-10-23 11:15:00    0.809433\n",
       "2020-10-23 12:45:00    0.981700\n",
       "2020-10-23 13:30:00   -0.643333\n",
       "2020-10-23 16:00:00    0.965000\n",
       "2020-10-26 09:45:00   -1.838333\n",
       "                         ...   \n",
       "2022-10-12 13:30:00   -0.780000\n",
       "2022-10-12 14:00:00    0.701700\n",
       "2022-10-12 14:15:00    0.998300\n",
       "2022-10-12 14:30:00    1.350000\n",
       "2022-10-12 14:45:00   -0.716000\n",
       "Name: Close, Length: 6983, dtype: float64"
      ]
     },
     "execution_count": 74,
     "metadata": {},
     "output_type": "execute_result"
    }
   ],
   "source": [
    "tsla_close_diff[(tsla_close_diff <= (q1 - 1.*iqr)) | (tsla_close_diff >= (q3 + 1.*iqr))]"
   ]
  },
  {
   "cell_type": "code",
   "execution_count": 81,
   "metadata": {},
   "outputs": [
    {
     "name": "stderr",
     "output_type": "stream",
     "text": [
      "C:\\Users\\itber\\AppData\\Local\\Temp\\ipykernel_35328\\740664823.py:25: SettingWithCopyWarning: \n",
      "A value is trying to be set on a copy of a slice from a DataFrame.\n",
      "Try using .loc[row_indexer,col_indexer] = value instead\n",
      "\n",
      "See the caveats in the documentation: https://pandas.pydata.org/pandas-docs/stable/user_guide/indexing.html#returning-a-view-versus-a-copy\n",
      "  df['price_trend'] = price_trend - df[['Open', 'Close']].mean(axis=1)\n",
      "C:\\Users\\itber\\AppData\\Local\\Temp\\ipykernel_35328\\740664823.py:25: SettingWithCopyWarning: \n",
      "A value is trying to be set on a copy of a slice from a DataFrame.\n",
      "Try using .loc[row_indexer,col_indexer] = value instead\n",
      "\n",
      "See the caveats in the documentation: https://pandas.pydata.org/pandas-docs/stable/user_guide/indexing.html#returning-a-view-versus-a-copy\n",
      "  df['price_trend'] = price_trend - df[['Open', 'Close']].mean(axis=1)\n",
      "C:\\Users\\itber\\AppData\\Local\\Temp\\ipykernel_35328\\740664823.py:25: SettingWithCopyWarning: \n",
      "A value is trying to be set on a copy of a slice from a DataFrame.\n",
      "Try using .loc[row_indexer,col_indexer] = value instead\n",
      "\n",
      "See the caveats in the documentation: https://pandas.pydata.org/pandas-docs/stable/user_guide/indexing.html#returning-a-view-versus-a-copy\n",
      "  df['price_trend'] = price_trend - df[['Open', 'Close']].mean(axis=1)\n",
      "C:\\Users\\itber\\AppData\\Local\\Temp\\ipykernel_35328\\740664823.py:25: SettingWithCopyWarning: \n",
      "A value is trying to be set on a copy of a slice from a DataFrame.\n",
      "Try using .loc[row_indexer,col_indexer] = value instead\n",
      "\n",
      "See the caveats in the documentation: https://pandas.pydata.org/pandas-docs/stable/user_guide/indexing.html#returning-a-view-versus-a-copy\n",
      "  df['price_trend'] = price_trend - df[['Open', 'Close']].mean(axis=1)\n"
     ]
    }
   ],
   "source": [
    "aapl_close_diff = get_numeric_price_trend(stock_dfs['AAPL'])['price_trend']\n",
    "goog_close_diff = get_numeric_price_trend(stock_dfs['GOOG'])['price_trend']\n",
    "qcom_close_diff = get_numeric_price_trend(stock_dfs['QCOM'])['price_trend']\n",
    "tsla_close_diff = get_numeric_price_trend(stock_dfs['TSLA'])['price_trend']"
   ]
  },
  {
   "cell_type": "code",
   "execution_count": 82,
   "metadata": {},
   "outputs": [
    {
     "data": {
      "image/png": "[encoded data removed]",
      "text/plain": [
       "<Figure size 720x576 with 4 Axes>"
      ]
     },
     "metadata": {
      "needs_background": "light"
     },
     "output_type": "display_data"
    }
   ],
   "source": [
    "fig, ax = plt.subplots(2, 2, figsize=(10, 8))\n",
    "\n",
    "aapl_close_diff.hist(ax=ax[0, 0], bins=500) # .plot(ax=ax[0, 0])\n",
    "goog_close_diff.hist(ax=ax[0, 1], bins=500) # .plot(ax=ax[0, 1])\n",
    "qcom_close_diff.hist(ax=ax[1, 0], bins=500) # .plot(ax=ax[1, 0])\n",
    "tsla_close_diff.hist(ax=ax[1, 1], bins=500) # .plot(ax=ax[1, 1]);\n",
    "\n",
    "# IQR qeighting\n",
    "iqr_w = 1\n",
    "\n",
    "# plot IQR lines\n",
    "q1, q3, iqr = get_iqr(aapl_close_diff)\n",
    "ax[0, 0].plot([q1 - iqr_w*iqr, q1 - iqr_w*iqr], [0, 400], color='r', linewidth=2)\n",
    "ax[0, 0].plot([q3 + iqr_w*iqr, q3 + iqr_w*iqr], [0, 400], color='r', linewidth=2)\n",
    "\n",
    "q1, q3, iqr = get_iqr(goog_close_diff)\n",
    "ax[0, 1].plot([q1 - iqr_w*iqr, q1 - iqr_w*iqr], [0, 850], color='r', linewidth=2)\n",
    "ax[0, 1].plot([q3 + iqr_w*iqr, q3 + iqr_w*iqr], [0, 850], color='r', linewidth=2)\n",
    "\n",
    "q1, q3, iqr = get_iqr(qcom_close_diff)\n",
    "ax[1, 0].plot([q1 - iqr_w*iqr, q1 - iqr_w*iqr], [0, 1000], color='r', linewidth=2)\n",
    "ax[1, 0].plot([q3 + iqr_w*iqr, q3 + iqr_w*iqr], [0, 1000], color='r', linewidth=2)\n",
    "\n",
    "q1, q3, iqr = get_iqr(tsla_close_diff)\n",
    "ax[1, 1].plot([q1 - iqr_w*iqr, q1 - iqr_w*iqr], [0, 800], color='r', linewidth=2)\n",
    "ax[1, 1].plot([q3 + iqr_w*iqr, q3 + iqr_w*iqr], [0, 800], color='r', linewidth=2)\n",
    "\n",
    "ax[0, 0].set_title('AAPL close diff', size=15)\n",
    "ax[0, 1].set_title('GOOG close diff', size=15)\n",
    "ax[1, 0].set_title('QCOM close diff', size=15)\n",
    "ax[1, 1].set_title('TSLA close diff', size=15);\n",
    "\n",
    "# ax[0, 0].set_ylim(50, 500)\n",
    "# ax[0, 1].set_ylim(50, 500)\n",
    "# ax[1, 0].set_ylim(50, 500)\n",
    "# ax[1, 1].set_ylim(50, 500);\n",
    "\n",
    "ax[0, 0].set_xlim(-4, 4)\n",
    "ax[0, 1].set_xlim(-4, 4)\n",
    "ax[1, 0].set_xlim(-4, 4)\n",
    "ax[1, 1].set_xlim(-10, 10);\n",
    "\n",
    "\n",
    "fig.suptitle('Portfolio Stock Close Price Diffs', size=24);\n",
    "\n",
    "fig.subplots_adjust(hspace=0.25);"
   ]
  },
  {
   "cell_type": "markdown",
   "metadata": {},
   "source": [
    "Now plot trading volume for each stock"
   ]
  },
  {
   "cell_type": "code",
   "execution_count": 43,
   "metadata": {},
   "outputs": [
    {
     "data": {
      "image/png": "[encoded data removed]",
      "text/plain": [
       "<Figure size 720x576 with 4 Axes>"
      ]
     },
     "metadata": {
      "needs_background": "light"
     },
     "output_type": "display_data"
    }
   ],
   "source": [
    "fig, ax = plt.subplots(2, 2, figsize=(10, 8))\n",
    "\n",
    "stock_dfs['AAPL']['Volume'].plot(ax=ax[0, 0])\n",
    "stock_dfs['GOOG']['Volume'].plot(ax=ax[0, 1])\n",
    "stock_dfs['QCOM']['Volume'].plot(ax=ax[1, 0])\n",
    "stock_dfs['TSLA']['Volume'].plot(ax=ax[1, 1]);\n",
    "\n",
    "ax[0, 0].set_title('AAPL')\n",
    "ax[0, 1].set_title('GOOG')\n",
    "ax[1, 0].set_title('QCOM')\n",
    "ax[1, 1].set_title('TSLA');\n",
    "\n",
    "ax[0, 0].set_ylim(0, 6e7)\n",
    "ax[0, 1].set_ylim(0, 6e7)\n",
    "ax[1, 0].set_ylim(0, 6e7)\n",
    "ax[1, 1].set_ylim(0, 6e7);\n",
    "\n",
    "fig.suptitle('Portfolio Trading Volume');\n",
    "\n",
    "fig.subplots_adjust(hspace=0.5);"
   ]
  },
  {
   "cell_type": "markdown",
   "metadata": {},
   "source": [
    "Now plot the log trading volume for each stock"
   ]
  },
  {
   "cell_type": "code",
   "execution_count": 45,
   "metadata": {},
   "outputs": [
    {
     "data": {
      "image/png": "[encoded data removed]",
      "text/plain": [
       "<Figure size 720x576 with 4 Axes>"
      ]
     },
     "metadata": {
      "needs_background": "light"
     },
     "output_type": "display_data"
    }
   ],
   "source": [
    "fig, ax = plt.subplots(2, 2, figsize=(10, 8))\n",
    "\n",
    "np.log(stock_dfs['AAPL']['Volume']).plot(ax=ax[0, 0])\n",
    "np.log(stock_dfs['GOOG']['Volume']).plot(ax=ax[0, 1])\n",
    "np.log(stock_dfs['QCOM']['Volume']).plot(ax=ax[1, 0])\n",
    "np.log(stock_dfs['TSLA']['Volume']).plot(ax=ax[1, 1]);\n",
    "\n",
    "ax[0, 0].set_title('AAPL')\n",
    "ax[0, 1].set_title('GOOG')\n",
    "ax[1, 0].set_title('QCOM')\n",
    "ax[1, 1].set_title('TSLA');\n",
    "\n",
    "ax[0, 0].set_ylim(10, 20)\n",
    "ax[0, 1].set_ylim(10, 20)\n",
    "ax[1, 0].set_ylim(10, 20)\n",
    "ax[1, 1].set_ylim(10, 20);\n",
    "\n",
    "fig.suptitle('Portfolio Trading Volume');\n",
    "\n",
    "fig.subplots_adjust(hspace=0.5);"
   ]
  },
  {
   "cell_type": "markdown",
   "metadata": {},
   "source": [
    "Now explore correlations"
   ]
  },
  {
   "cell_type": "code",
   "execution_count": null,
   "metadata": {},
   "outputs": [],
   "source": []
  },
  {
   "cell_type": "markdown",
   "metadata": {},
   "source": [
    "We can see that the final parts of each stock data looks similar, but the first part of the stocks do not look similar. This is because the data correlation was computed using the most recent 60 days from early October 2022."
   ]
  },
  {
   "cell_type": "markdown",
   "metadata": {},
   "source": [
    "### Get Standardized train, valid, and test sets\n",
    "\n",
    "Split into train, valid, and test sets. And then standardize with training mean and standard deviation"
   ]
  },
  {
   "cell_type": "code",
   "execution_count": 8,
   "metadata": {},
   "outputs": [
    {
     "name": "stdout",
     "output_type": "stream",
     "text": [
      "(33248, 7)\n",
      "(10816, 7)\n",
      "(7488, 7)\n"
     ]
    }
   ],
   "source": [
    "# first we will take the log of the trading volume to place in a similar neighborhood as the prices\n",
    "train_df['Volume'] = np.log(train_df['Volume'])\n",
    "valid_df['Volume'] = np.log(valid_df['Volume'])\n",
    "test_df['Volume'] = np.log(test_df['Volume'])\n",
    "\n",
    "train_mean = train_df.mean()\n",
    "train_std = train_df.std()\n",
    "\n",
    "# ensure that target column is not standardized\n",
    "train_mean.price_change = 0\n",
    "train_std.price_change = 1\n",
    "\n",
    "train_df = (train_df - train_mean) / train_std\n",
    "valid_df = (valid_df - train_mean) / train_std\n",
    "test_df = (test_df - train_mean) / train_std\n",
    "\n",
    "print(train_df.shape)\n",
    "print(valid_df.shape)\n",
    "print(test_df.shape)"
   ]
  },
  {
   "cell_type": "markdown",
   "metadata": {},
   "source": [
    "## Start Training Models\n",
    "\n",
    "We will train a few base models and compare their results on validation data\n",
    "- Neural Network\n",
    "- Transformer\n",
    "- LSTM\n",
    "\n",
    "For the training we will keep the mutual hyperparameters the same and we will implement early stopping\n",
    "- batch size = 32\n",
    "- epochs = 10\n",
    "- learning rate = 1e-4\n",
    "- early stopping patience = 2\n",
    "\n",
    "First we will obtain a baseline predictor which will use the previous class as it's next prediction. This will provide a good indicator if our models are being trained effectively"
   ]
  },
  {
   "cell_type": "code",
   "execution_count": 9,
   "metadata": {},
   "outputs": [],
   "source": [
    "class Baseline(tf.keras.Model):\n",
    "    def __init__(self, label_index=None):\n",
    "        super().__init__()\n",
    "        self.label_index = label_index\n",
    "\n",
    "    def call(self, inputs):\n",
    "        if self.label_index is None:\n",
    "            return inputs\n",
    "        result = inputs[:, :, self.label_index]\n",
    "        return result[:, :, tf.newaxis]"
   ]
  },
  {
   "cell_type": "markdown",
   "metadata": {},
   "source": [
    "Obtain windowed data for a single step, this will be used for the baseline model and the neural network since it doesn't model sequential data."
   ]
  },
  {
   "cell_type": "code",
   "execution_count": 12,
   "metadata": {},
   "outputs": [],
   "source": [
    "single_step_window_baseline = WindowGenerator(\n",
    "        input_width=1, label_width=1, shift=1,\n",
    "        train_df=train_df, valid_df=valid_df, test_df=test_df,\n",
    "        remove_labels_from_inputs=False, batch_size=32, \n",
    "        shuffle=True, seed=42, label_columns=['price_change'])\n",
    "\n",
    "single_step_window = WindowGenerator(\n",
    "        input_width=1, label_width=1, shift=1,\n",
    "        train_df=train_df, valid_df=valid_df, test_df=test_df,\n",
    "        remove_labels_from_inputs=True, batch_size=32, \n",
    "        shuffle=True, seed=42, label_columns=['price_change'])"
   ]
  },
  {
   "cell_type": "code",
   "execution_count": 12,
   "metadata": {},
   "outputs": [
    {
     "name": "stdout",
     "output_type": "stream",
     "text": [
      "1039/1039 [==============================] - 3s 3ms/step - loss: nan - accuracy: 0.6891\n",
      "338/338 [==============================] - 1s 3ms/step - loss: nan - accuracy: 0.5300\n"
     ]
    }
   ],
   "source": [
    "baseline = Baseline(label_index=single_step_window_baseline.column_indices['price_change'])\n",
    "\n",
    "baseline.compile(loss=tf.keras.losses.SparseCategoricalCrossentropy(),\n",
    "                 metrics=['accuracy'])\n",
    "\n",
    "train_performance = {}\n",
    "val_performance = {}\n",
    "train_performance['Baseline'] = baseline.evaluate(single_step_window_baseline.train)\n",
    "val_performance['Baseline'] = baseline.evaluate(single_step_window_baseline.valid)"
   ]
  },
  {
   "cell_type": "markdown",
   "metadata": {},
   "source": [
    "For the other models we will make a function to make the training process easier"
   ]
  },
  {
   "cell_type": "code",
   "execution_count": 9,
   "metadata": {},
   "outputs": [],
   "source": [
    "def compile_and_fit(model, window, lr=1e-4, max_epochs=100, patience=2):\n",
    "    early_stopping = tf.keras.callbacks.EarlyStopping(monitor='val_loss',\n",
    "                                                      patience=patience,\n",
    "                                                      mode='min')\n",
    "\n",
    "    model.compile(loss=tf.keras.losses.SparseCategoricalCrossentropy(),\n",
    "                  optimizer=tf.keras.optimizers.Adam(learning_rate=lr),\n",
    "                  metrics=['accuracy'])\n",
    "\n",
    "    history = model.fit(window.train, epochs=max_epochs,\n",
    "                        validation_data=window.valid,\n",
    "                        callbacks=[early_stopping])\n",
    "    return history"
   ]
  },
  {
   "cell_type": "markdown",
   "metadata": {},
   "source": [
    "### Train the Neural Network\n",
    "\n",
    "First we will train a linear classifier, then we will train a Neural Network with more layers"
   ]
  },
  {
   "cell_type": "code",
   "execution_count": 14,
   "metadata": {},
   "outputs": [],
   "source": [
    "linear = tf.keras.Sequential([\n",
    "    layers.Dense(units=3, activation='softmax')\n",
    "])"
   ]
  },
  {
   "cell_type": "code",
   "execution_count": 15,
   "metadata": {},
   "outputs": [
    {
     "name": "stdout",
     "output_type": "stream",
     "text": [
      "Epoch 1/10\n",
      "1039/1039 [==============================] - 10s 7ms/step - loss: 2.1379 - accuracy: 0.1697 - val_loss: 1.8658 - val_accuracy: 0.2423\n",
      "Epoch 2/10\n",
      "1039/1039 [==============================] - 7s 6ms/step - loss: 1.6511 - accuracy: 0.1806 - val_loss: 1.4719 - val_accuracy: 0.2692\n",
      "Epoch 3/10\n",
      "1039/1039 [==============================] - 7s 6ms/step - loss: 1.2643 - accuracy: 0.2712 - val_loss: 1.1944 - val_accuracy: 0.4206\n",
      "Epoch 4/10\n",
      "1039/1039 [==============================] - 7s 6ms/step - loss: 1.0092 - accuracy: 0.5533 - val_loss: 1.0494 - val_accuracy: 0.5479\n",
      "Epoch 5/10\n",
      "  52/1039 [>.............................] - ETA: 5s - loss: 0.9420 - accuracy: 0.6581"
     ]
    }
   ],
   "source": [
    "history = compile_and_fit(linear, single_step_window, patience=2, max_epochs=10)\n",
    "\n",
    "\n",
    "train_performance['linear'] = linear.evaluate(single_step_window.train)\n",
    "val_performance['linear'] = linear.evaluate(single_step_window.valid)"
   ]
  },
  {
   "cell_type": "code",
   "execution_count": 94,
   "metadata": {},
   "outputs": [],
   "source": [
    "dense = tf.keras.Sequential([\n",
    "    layers.Dense(units=64, activation='relu'),\n",
    "    layers.Dense(units=64, activation='relu'),\n",
    "    layers.Dense(units=3, activation='softmax')\n",
    "])"
   ]
  },
  {
   "cell_type": "code",
   "execution_count": 95,
   "metadata": {},
   "outputs": [
    {
     "name": "stdout",
     "output_type": "stream",
     "text": [
      "Epoch 1/10\n",
      "1039/1039 [==============================] - 7s 6ms/step - loss: 0.7804 - accuracy: 0.6883 - val_loss: 0.9816 - val_accuracy: 0.5883\n",
      "Epoch 2/10\n",
      "1039/1039 [==============================] - 6s 6ms/step - loss: 0.6810 - accuracy: 0.7313 - val_loss: 0.9712 - val_accuracy: 0.5859\n",
      "Epoch 3/10\n",
      "1039/1039 [==============================] - 6s 6ms/step - loss: 0.6715 - accuracy: 0.7334 - val_loss: 0.9624 - val_accuracy: 0.5855\n",
      "Epoch 4/10\n",
      "1039/1039 [==============================] - 6s 6ms/step - loss: 0.6658 - accuracy: 0.7342 - val_loss: 0.9584 - val_accuracy: 0.5858\n",
      "Epoch 5/10\n",
      "1039/1039 [==============================] - 6s 6ms/step - loss: 0.6623 - accuracy: 0.7341 - val_loss: 0.9560 - val_accuracy: 0.5848\n",
      "Epoch 6/10\n",
      "1039/1039 [==============================] - 6s 6ms/step - loss: 0.6601 - accuracy: 0.7329 - val_loss: 0.9557 - val_accuracy: 0.5846\n",
      "Epoch 7/10\n",
      "1039/1039 [==============================] - 6s 6ms/step - loss: 0.6584 - accuracy: 0.7335 - val_loss: 0.9547 - val_accuracy: 0.5854\n",
      "Epoch 8/10\n",
      "1039/1039 [==============================] - 6s 6ms/step - loss: 0.6572 - accuracy: 0.7332 - val_loss: 0.9524 - val_accuracy: 0.5866\n",
      "Epoch 9/10\n",
      "1039/1039 [==============================] - 6s 6ms/step - loss: 0.6560 - accuracy: 0.7325 - val_loss: 0.9536 - val_accuracy: 0.5844\n",
      "Epoch 10/10\n",
      "1039/1039 [==============================] - 6s 6ms/step - loss: 0.6552 - accuracy: 0.7331 - val_loss: 0.9515 - val_accuracy: 0.5854\n",
      "1039/1039 [==============================] - 4s 3ms/step - loss: 0.6541 - accuracy: 0.7344\n",
      "338/338 [==============================] - 1s 4ms/step - loss: 0.9515 - accuracy: 0.5854\n"
     ]
    }
   ],
   "source": [
    "history = compile_and_fit(dense, single_step_window, patience=2, max_epochs=10)\n",
    "\n",
    "train_performance['Dense'] = dense.evaluate(single_step_window.train)\n",
    "val_performance['Dense'] = dense.evaluate(single_step_window.valid)"
   ]
  },
  {
   "cell_type": "markdown",
   "metadata": {},
   "source": [
    "### Get Data Generator for each time step\n",
    "\n",
    "This data generator will be used for our models that handle sequential data such as the Transformer and LSTM"
   ]
  },
  {
   "cell_type": "code",
   "execution_count": 10,
   "metadata": {},
   "outputs": [],
   "source": [
    "data_gen = WindowGenerator(\n",
    "                input_width=32, label_width=1, shift=1, \n",
    "                train_df=train_df, valid_df=valid_df, test_df=test_df,\n",
    "                remove_labels_from_inputs=True, batch_size=32, \n",
    "                shuffle=True, seed=42, label_columns=['price_change'])"
   ]
  },
  {
   "cell_type": "markdown",
   "metadata": {},
   "source": [
    "###  Build and Train the Transformer Encoder"
   ]
  },
  {
   "cell_type": "code",
   "execution_count": 14,
   "metadata": {},
   "outputs": [],
   "source": [
    "transformer_model = TransformerModel(\n",
    "            n_heads=2,\n",
    "            d_model=512,\n",
    "            ff_dim=256,\n",
    "            num_transformer_blocks=2,\n",
    "            mlp_units=[256],\n",
    "            n_outputs=3,\n",
    "            dropout=0.1,\n",
    "            mlp_dropout=0.1)\n",
    "\n",
    "# transformer_model = Transformer(\n",
    "#         num_layers=2,\n",
    "#         d_model=512,\n",
    "#         num_heads=2,\n",
    "#         dff=256,\n",
    "#         num_outputs=3,\n",
    "#         dropout_rate=0.1)"
   ]
  },
  {
   "cell_type": "code",
   "execution_count": 15,
   "metadata": {},
   "outputs": [
    {
     "name": "stdout",
     "output_type": "stream",
     "text": [
      "Epoch 1/2\n",
      "  86/1038 [=>............................] - ETA: 57s - loss: 0.8538 - accuracy: 0.6628"
     ]
    },
    {
     "ename": "KeyboardInterrupt",
     "evalue": "",
     "output_type": "error",
     "traceback": [
      "\u001b[1;31m---------------------------------------------------------------------------\u001b[0m",
      "\u001b[1;31mKeyboardInterrupt\u001b[0m                         Traceback (most recent call last)",
      "\u001b[1;32m~\\AppData\\Local\\Temp\\ipykernel_37124\\2147638430.py\u001b[0m in \u001b[0;36m<cell line: 1>\u001b[1;34m()\u001b[0m\n\u001b[1;32m----> 1\u001b[1;33m compile_and_fit(transformer_model, data_gen, lr=1e-4,\n\u001b[0m\u001b[0;32m      2\u001b[0m                 patience=2, max_epochs=2)\n\u001b[0;32m      3\u001b[0m \u001b[1;33m\u001b[0m\u001b[0m\n\u001b[0;32m      4\u001b[0m \u001b[0mtrain_performance\u001b[0m\u001b[1;33m[\u001b[0m\u001b[1;34m'transformer'\u001b[0m\u001b[1;33m]\u001b[0m \u001b[1;33m=\u001b[0m \u001b[0mtransformer_model\u001b[0m\u001b[1;33m.\u001b[0m\u001b[0mevaluate\u001b[0m\u001b[1;33m(\u001b[0m\u001b[0mdata_gen\u001b[0m\u001b[1;33m.\u001b[0m\u001b[0mtrain\u001b[0m\u001b[1;33m)\u001b[0m\u001b[1;33m\u001b[0m\u001b[1;33m\u001b[0m\u001b[0m\n\u001b[0;32m      5\u001b[0m \u001b[0mval_performance\u001b[0m\u001b[1;33m[\u001b[0m\u001b[1;34m'transformer'\u001b[0m\u001b[1;33m]\u001b[0m \u001b[1;33m=\u001b[0m \u001b[0mtransformer_model\u001b[0m\u001b[1;33m.\u001b[0m\u001b[0mevaluate\u001b[0m\u001b[1;33m(\u001b[0m\u001b[0mdata_gen\u001b[0m\u001b[1;33m.\u001b[0m\u001b[0mvalid\u001b[0m\u001b[1;33m)\u001b[0m\u001b[1;33m\u001b[0m\u001b[1;33m\u001b[0m\u001b[0m\n",
      "\u001b[1;32m~\\AppData\\Local\\Temp\\ipykernel_37124\\3637763076.py\u001b[0m in \u001b[0;36mcompile_and_fit\u001b[1;34m(model, window, lr, max_epochs, patience)\u001b[0m\n\u001b[0;32m      8\u001b[0m                   metrics=['accuracy'])\n\u001b[0;32m      9\u001b[0m \u001b[1;33m\u001b[0m\u001b[0m\n\u001b[1;32m---> 10\u001b[1;33m     history = model.fit(window.train, epochs=max_epochs,\n\u001b[0m\u001b[0;32m     11\u001b[0m                         \u001b[0mvalidation_data\u001b[0m\u001b[1;33m=\u001b[0m\u001b[0mwindow\u001b[0m\u001b[1;33m.\u001b[0m\u001b[0mvalid\u001b[0m\u001b[1;33m,\u001b[0m\u001b[1;33m\u001b[0m\u001b[1;33m\u001b[0m\u001b[0m\n\u001b[0;32m     12\u001b[0m                         callbacks=[early_stopping])\n",
      "\u001b[1;32mc:\\Users\\itber\\anaconda3\\envs\\tf\\lib\\site-packages\\keras\\utils\\traceback_utils.py\u001b[0m in \u001b[0;36merror_handler\u001b[1;34m(*args, **kwargs)\u001b[0m\n\u001b[0;32m     62\u001b[0m     \u001b[0mfiltered_tb\u001b[0m \u001b[1;33m=\u001b[0m \u001b[1;32mNone\u001b[0m\u001b[1;33m\u001b[0m\u001b[1;33m\u001b[0m\u001b[0m\n\u001b[0;32m     63\u001b[0m     \u001b[1;32mtry\u001b[0m\u001b[1;33m:\u001b[0m\u001b[1;33m\u001b[0m\u001b[1;33m\u001b[0m\u001b[0m\n\u001b[1;32m---> 64\u001b[1;33m       \u001b[1;32mreturn\u001b[0m \u001b[0mfn\u001b[0m\u001b[1;33m(\u001b[0m\u001b[1;33m*\u001b[0m\u001b[0margs\u001b[0m\u001b[1;33m,\u001b[0m \u001b[1;33m**\u001b[0m\u001b[0mkwargs\u001b[0m\u001b[1;33m)\u001b[0m\u001b[1;33m\u001b[0m\u001b[1;33m\u001b[0m\u001b[0m\n\u001b[0m\u001b[0;32m     65\u001b[0m     \u001b[1;32mexcept\u001b[0m \u001b[0mException\u001b[0m \u001b[1;32mas\u001b[0m \u001b[0me\u001b[0m\u001b[1;33m:\u001b[0m  \u001b[1;31m# pylint: disable=broad-except\u001b[0m\u001b[1;33m\u001b[0m\u001b[1;33m\u001b[0m\u001b[0m\n\u001b[0;32m     66\u001b[0m       \u001b[0mfiltered_tb\u001b[0m \u001b[1;33m=\u001b[0m \u001b[0m_process_traceback_frames\u001b[0m\u001b[1;33m(\u001b[0m\u001b[0me\u001b[0m\u001b[1;33m.\u001b[0m\u001b[0m__traceback__\u001b[0m\u001b[1;33m)\u001b[0m\u001b[1;33m\u001b[0m\u001b[1;33m\u001b[0m\u001b[0m\n",
      "\u001b[1;32mc:\\Users\\itber\\anaconda3\\envs\\tf\\lib\\site-packages\\keras\\engine\\training.py\u001b[0m in \u001b[0;36mfit\u001b[1;34m(self, x, y, batch_size, epochs, verbose, callbacks, validation_split, validation_data, shuffle, class_weight, sample_weight, initial_epoch, steps_per_epoch, validation_steps, validation_batch_size, validation_freq, max_queue_size, workers, use_multiprocessing)\u001b[0m\n\u001b[0;32m   1399\u001b[0m         \u001b[1;32mwith\u001b[0m \u001b[0mdata_handler\u001b[0m\u001b[1;33m.\u001b[0m\u001b[0mcatch_stop_iteration\u001b[0m\u001b[1;33m(\u001b[0m\u001b[1;33m)\u001b[0m\u001b[1;33m:\u001b[0m\u001b[1;33m\u001b[0m\u001b[1;33m\u001b[0m\u001b[0m\n\u001b[0;32m   1400\u001b[0m           \u001b[0mdata_handler\u001b[0m\u001b[1;33m.\u001b[0m\u001b[0m_initial_step\u001b[0m \u001b[1;33m=\u001b[0m \u001b[0mself\u001b[0m\u001b[1;33m.\u001b[0m\u001b[0m_maybe_load_initial_step_from_ckpt\u001b[0m\u001b[1;33m(\u001b[0m\u001b[1;33m)\u001b[0m  \u001b[1;31m# pylint: disable=protected-access\u001b[0m\u001b[1;33m\u001b[0m\u001b[1;33m\u001b[0m\u001b[0m\n\u001b[1;32m-> 1401\u001b[1;33m           \u001b[1;32mfor\u001b[0m \u001b[0mstep\u001b[0m \u001b[1;32min\u001b[0m \u001b[0mdata_handler\u001b[0m\u001b[1;33m.\u001b[0m\u001b[0msteps\u001b[0m\u001b[1;33m(\u001b[0m\u001b[1;33m)\u001b[0m\u001b[1;33m:\u001b[0m\u001b[1;33m\u001b[0m\u001b[1;33m\u001b[0m\u001b[0m\n\u001b[0m\u001b[0;32m   1402\u001b[0m             with tf.profiler.experimental.Trace(\n\u001b[0;32m   1403\u001b[0m                 \u001b[1;34m'train'\u001b[0m\u001b[1;33m,\u001b[0m\u001b[1;33m\u001b[0m\u001b[1;33m\u001b[0m\u001b[0m\n",
      "\u001b[1;32mc:\\Users\\itber\\anaconda3\\envs\\tf\\lib\\site-packages\\keras\\engine\\data_adapter.py\u001b[0m in \u001b[0;36msteps\u001b[1;34m(self)\u001b[0m\n\u001b[0;32m   1246\u001b[0m       \u001b[1;32mif\u001b[0m \u001b[0mself\u001b[0m\u001b[1;33m.\u001b[0m\u001b[0m_insufficient_data\u001b[0m\u001b[1;33m:\u001b[0m  \u001b[1;31m# Set by `catch_stop_iteration`.\u001b[0m\u001b[1;33m\u001b[0m\u001b[1;33m\u001b[0m\u001b[0m\n\u001b[0;32m   1247\u001b[0m         \u001b[1;32mbreak\u001b[0m\u001b[1;33m\u001b[0m\u001b[1;33m\u001b[0m\u001b[0m\n\u001b[1;32m-> 1248\u001b[1;33m       \u001b[0moriginal_spe\u001b[0m \u001b[1;33m=\u001b[0m \u001b[0mself\u001b[0m\u001b[1;33m.\u001b[0m\u001b[0m_steps_per_execution\u001b[0m\u001b[1;33m.\u001b[0m\u001b[0mnumpy\u001b[0m\u001b[1;33m(\u001b[0m\u001b[1;33m)\u001b[0m\u001b[1;33m.\u001b[0m\u001b[0mitem\u001b[0m\u001b[1;33m(\u001b[0m\u001b[1;33m)\u001b[0m\u001b[1;33m\u001b[0m\u001b[1;33m\u001b[0m\u001b[0m\n\u001b[0m\u001b[0;32m   1249\u001b[0m       can_run_full_execution = (\n\u001b[0;32m   1250\u001b[0m           \u001b[0moriginal_spe\u001b[0m \u001b[1;33m==\u001b[0m \u001b[1;36m1\u001b[0m \u001b[1;32mor\u001b[0m\u001b[1;33m\u001b[0m\u001b[1;33m\u001b[0m\u001b[0m\n",
      "\u001b[1;32mc:\\Users\\itber\\anaconda3\\envs\\tf\\lib\\site-packages\\tensorflow\\python\\ops\\resource_variable_ops.py\u001b[0m in \u001b[0;36mnumpy\u001b[1;34m(self)\u001b[0m\n\u001b[0;32m    635\u001b[0m   \u001b[1;32mdef\u001b[0m \u001b[0mnumpy\u001b[0m\u001b[1;33m(\u001b[0m\u001b[0mself\u001b[0m\u001b[1;33m)\u001b[0m\u001b[1;33m:\u001b[0m\u001b[1;33m\u001b[0m\u001b[1;33m\u001b[0m\u001b[0m\n\u001b[0;32m    636\u001b[0m     \u001b[1;32mif\u001b[0m \u001b[0mcontext\u001b[0m\u001b[1;33m.\u001b[0m\u001b[0mexecuting_eagerly\u001b[0m\u001b[1;33m(\u001b[0m\u001b[1;33m)\u001b[0m\u001b[1;33m:\u001b[0m\u001b[1;33m\u001b[0m\u001b[1;33m\u001b[0m\u001b[0m\n\u001b[1;32m--> 637\u001b[1;33m       \u001b[1;32mreturn\u001b[0m \u001b[0mself\u001b[0m\u001b[1;33m.\u001b[0m\u001b[0mread_value\u001b[0m\u001b[1;33m(\u001b[0m\u001b[1;33m)\u001b[0m\u001b[1;33m.\u001b[0m\u001b[0mnumpy\u001b[0m\u001b[1;33m(\u001b[0m\u001b[1;33m)\u001b[0m\u001b[1;33m\u001b[0m\u001b[1;33m\u001b[0m\u001b[0m\n\u001b[0m\u001b[0;32m    638\u001b[0m     raise NotImplementedError(\n\u001b[0;32m    639\u001b[0m         \"numpy() is only available when eager execution is enabled.\")\n",
      "\u001b[1;32mc:\\Users\\itber\\anaconda3\\envs\\tf\\lib\\site-packages\\tensorflow\\python\\ops\\resource_variable_ops.py\u001b[0m in \u001b[0;36mread_value\u001b[1;34m(self)\u001b[0m\n\u001b[0;32m    710\u001b[0m     \"\"\"\n\u001b[0;32m    711\u001b[0m     \u001b[1;32mwith\u001b[0m \u001b[0mops\u001b[0m\u001b[1;33m.\u001b[0m\u001b[0mname_scope\u001b[0m\u001b[1;33m(\u001b[0m\u001b[1;34m\"Read\"\u001b[0m\u001b[1;33m)\u001b[0m\u001b[1;33m:\u001b[0m\u001b[1;33m\u001b[0m\u001b[1;33m\u001b[0m\u001b[0m\n\u001b[1;32m--> 712\u001b[1;33m       \u001b[0mvalue\u001b[0m \u001b[1;33m=\u001b[0m \u001b[0mself\u001b[0m\u001b[1;33m.\u001b[0m\u001b[0m_read_variable_op\u001b[0m\u001b[1;33m(\u001b[0m\u001b[1;33m)\u001b[0m\u001b[1;33m\u001b[0m\u001b[1;33m\u001b[0m\u001b[0m\n\u001b[0m\u001b[0;32m    713\u001b[0m     \u001b[1;31m# Return an identity so it can get placed on whatever device the context\u001b[0m\u001b[1;33m\u001b[0m\u001b[1;33m\u001b[0m\u001b[0m\n\u001b[0;32m    714\u001b[0m     \u001b[1;31m# specifies instead of the device where the variable is.\u001b[0m\u001b[1;33m\u001b[0m\u001b[1;33m\u001b[0m\u001b[0m\n",
      "\u001b[1;32mc:\\Users\\itber\\anaconda3\\envs\\tf\\lib\\site-packages\\tensorflow\\python\\ops\\resource_variable_ops.py\u001b[0m in \u001b[0;36m_read_variable_op\u001b[1;34m(self)\u001b[0m\n\u001b[0;32m    689\u001b[0m           \u001b[0mresult\u001b[0m \u001b[1;33m=\u001b[0m \u001b[0mread_and_set_handle\u001b[0m\u001b[1;33m(\u001b[0m\u001b[1;33m)\u001b[0m\u001b[1;33m\u001b[0m\u001b[1;33m\u001b[0m\u001b[0m\n\u001b[0;32m    690\u001b[0m     \u001b[1;32melse\u001b[0m\u001b[1;33m:\u001b[0m\u001b[1;33m\u001b[0m\u001b[1;33m\u001b[0m\u001b[0m\n\u001b[1;32m--> 691\u001b[1;33m       \u001b[0mresult\u001b[0m \u001b[1;33m=\u001b[0m \u001b[0mread_and_set_handle\u001b[0m\u001b[1;33m(\u001b[0m\u001b[1;33m)\u001b[0m\u001b[1;33m\u001b[0m\u001b[1;33m\u001b[0m\u001b[0m\n\u001b[0m\u001b[0;32m    692\u001b[0m \u001b[1;33m\u001b[0m\u001b[0m\n\u001b[0;32m    693\u001b[0m     \u001b[1;32mif\u001b[0m \u001b[1;32mnot\u001b[0m \u001b[0mcontext\u001b[0m\u001b[1;33m.\u001b[0m\u001b[0mexecuting_eagerly\u001b[0m\u001b[1;33m(\u001b[0m\u001b[1;33m)\u001b[0m\u001b[1;33m:\u001b[0m\u001b[1;33m\u001b[0m\u001b[1;33m\u001b[0m\u001b[0m\n",
      "\u001b[1;32mc:\\Users\\itber\\anaconda3\\envs\\tf\\lib\\site-packages\\tensorflow\\python\\ops\\resource_variable_ops.py\u001b[0m in \u001b[0;36mread_and_set_handle\u001b[1;34m()\u001b[0m\n\u001b[0;32m    679\u001b[0m \u001b[1;33m\u001b[0m\u001b[0m\n\u001b[0;32m    680\u001b[0m     \u001b[1;32mdef\u001b[0m \u001b[0mread_and_set_handle\u001b[0m\u001b[1;33m(\u001b[0m\u001b[1;33m)\u001b[0m\u001b[1;33m:\u001b[0m\u001b[1;33m\u001b[0m\u001b[1;33m\u001b[0m\u001b[0m\n\u001b[1;32m--> 681\u001b[1;33m       result = gen_resource_variable_ops.read_variable_op(\n\u001b[0m\u001b[0;32m    682\u001b[0m           self.handle, self._dtype)\n\u001b[0;32m    683\u001b[0m       \u001b[0m_maybe_set_handle_data\u001b[0m\u001b[1;33m(\u001b[0m\u001b[0mself\u001b[0m\u001b[1;33m.\u001b[0m\u001b[0m_dtype\u001b[0m\u001b[1;33m,\u001b[0m \u001b[0mself\u001b[0m\u001b[1;33m.\u001b[0m\u001b[0mhandle\u001b[0m\u001b[1;33m,\u001b[0m \u001b[0mresult\u001b[0m\u001b[1;33m)\u001b[0m\u001b[1;33m\u001b[0m\u001b[1;33m\u001b[0m\u001b[0m\n",
      "\u001b[1;32mc:\\Users\\itber\\anaconda3\\envs\\tf\\lib\\site-packages\\tensorflow\\python\\ops\\gen_resource_variable_ops.py\u001b[0m in \u001b[0;36mread_variable_op\u001b[1;34m(resource, dtype, name)\u001b[0m\n\u001b[0;32m    476\u001b[0m   \u001b[1;32mif\u001b[0m \u001b[0mtld\u001b[0m\u001b[1;33m.\u001b[0m\u001b[0mis_eager\u001b[0m\u001b[1;33m:\u001b[0m\u001b[1;33m\u001b[0m\u001b[1;33m\u001b[0m\u001b[0m\n\u001b[0;32m    477\u001b[0m     \u001b[1;32mtry\u001b[0m\u001b[1;33m:\u001b[0m\u001b[1;33m\u001b[0m\u001b[1;33m\u001b[0m\u001b[0m\n\u001b[1;32m--> 478\u001b[1;33m       _result = pywrap_tfe.TFE_Py_FastPathExecute(\n\u001b[0m\u001b[0;32m    479\u001b[0m         _ctx, \"ReadVariableOp\", name, resource, \"dtype\", dtype)\n\u001b[0;32m    480\u001b[0m       \u001b[1;32mreturn\u001b[0m \u001b[0m_result\u001b[0m\u001b[1;33m\u001b[0m\u001b[1;33m\u001b[0m\u001b[0m\n",
      "\u001b[1;31mKeyboardInterrupt\u001b[0m: "
     ]
    }
   ],
   "source": [
    "compile_and_fit(transformer_model, data_gen, lr=1e-4,\n",
    "                patience=2, max_epochs=2)\n",
    "\n",
    "train_performance['transformer'] = transformer_model.evaluate(data_gen.train)\n",
    "val_performance['transformer'] = transformer_model.evaluate(data_gen.valid)"
   ]
  },
  {
   "cell_type": "markdown",
   "metadata": {},
   "source": [
    "### Build and Train the LSTM"
   ]
  },
  {
   "cell_type": "code",
   "execution_count": 103,
   "metadata": {},
   "outputs": [],
   "source": [
    "\n",
    "lstm_model = tf.keras.models.Sequential([\n",
    "    # Shape [batch, time, features] => [batch, time, lstm_units]\n",
    "    layers.LSTM(25, dropout=0.0, return_sequences=True),\n",
    "    layers.LSTM(25, dropout=0.0, return_sequences=True),\n",
    "    layers.LSTM(25, dropout=0.0),\n",
    "    # Shape => [batch, time, features]\n",
    "    # layers.TimeDistributed(layers.Dense(units=3, activation='softmax')),\n",
    "    layers.Dense(units=3, activation='softmax'),\n",
    "    layers.Reshape([1, -1])\n",
    "])"
   ]
  },
  {
   "cell_type": "code",
   "execution_count": 107,
   "metadata": {},
   "outputs": [
    {
     "name": "stdout",
     "output_type": "stream",
     "text": [
      "Epoch 1/10\n",
      "1038/1038 [==============================] - 22s 19ms/step - loss: 0.6523 - accuracy: 0.7320 - val_loss: 0.9122 - val_accuracy: 0.5873\n",
      "Epoch 2/10\n",
      "1038/1038 [==============================] - 18s 18ms/step - loss: 0.6507 - accuracy: 0.7326 - val_loss: 0.9048 - val_accuracy: 0.5873\n",
      "Epoch 3/10\n",
      "1038/1038 [==============================] - 18s 18ms/step - loss: 0.6493 - accuracy: 0.7331 - val_loss: 0.9150 - val_accuracy: 0.5880\n",
      "Epoch 4/10\n",
      "1038/1038 [==============================] - 18s 18ms/step - loss: 0.6481 - accuracy: 0.7332 - val_loss: 0.9078 - val_accuracy: 0.5884\n",
      "1038/1038 [==============================] - 9s 9ms/step - loss: 0.6472 - accuracy: 0.7329\n",
      "337/337 [==============================] - 3s 9ms/step - loss: 0.9078 - accuracy: 0.5884\n"
     ]
    }
   ],
   "source": [
    "compile_and_fit(lstm_model, data_gen, lr=1e-4,\n",
    "                patience=2, max_epochs=10)\n",
    "\n",
    "train_performance['lstm'] = lstm_model.evaluate(data_gen.train)\n",
    "val_performance['lstm'] = lstm_model.evaluate(data_gen.valid)"
   ]
  },
  {
   "cell_type": "code",
   "execution_count": 108,
   "metadata": {},
   "outputs": [
    {
     "data": {
      "text/plain": [
       "{'Baseline': [nan, 0.530004620552063],\n",
       " 'linear': [0.944926917552948, 0.5886269211769104],\n",
       " 'Dense': [0.9514778852462769, 0.5853906869888306],\n",
       " 'transformer': [0.8943844437599182, 0.592915415763855],\n",
       " 'lstm': [0.9077631235122681, 0.5883716344833374]}"
      ]
     },
     "execution_count": 108,
     "metadata": {},
     "output_type": "execute_result"
    }
   ],
   "source": [
    "val_performance"
   ]
  },
  {
   "cell_type": "code",
   "execution_count": 109,
   "metadata": {},
   "outputs": [
    {
     "data": {
      "text/plain": [
       "{'Baseline': [nan, 0.6891449093818665],\n",
       " 'linear': [0.689243495464325, 0.7276145219802856],\n",
       " 'Dense': [0.654122531414032, 0.7343820333480835],\n",
       " 'transformer': [0.6135666370391846, 0.7397639751434326],\n",
       " 'lstm': [0.6472254991531372, 0.7328696846961975]}"
      ]
     },
     "execution_count": 109,
     "metadata": {},
     "output_type": "execute_result"
    }
   ],
   "source": [
    "train_performance"
   ]
  },
  {
   "cell_type": "markdown",
   "metadata": {},
   "source": [
    "## Observations\n",
    "\n",
    "It has been observed thar when using only price and trading volume data that the Lienar Classifier and Neural Network generally perform better than the Transformer and LSTM. It is unclear why this happens, perhaps the data being fed into the models is insufficient for this modeling purpose. \n",
    "\n",
    "However, When we add the price difference as an additional feature we observe that the Transformer and LSTM models outperform the Linear Classifier and Neural Network. This could be due to the fact the price change is directly related to the target variable that we are trying to model (i.e. it can be thought of as a continuous version of our target variable). Prehaps the models are able to characterize the sequence of price changes and relate them to the prices and volume data and in turn learn a better understanding of the future price movement."
   ]
  },
  {
   "cell_type": "markdown",
   "metadata": {},
   "source": []
  }
 ],
 "metadata": {
  "kernelspec": {
   "display_name": "Python 3.9.12 ('tf')",
   "language": "python",
   "name": "python3"
  },
  "language_info": {
   "codemirror_mode": {
    "name": "ipython",
    "version": 3
   },
   "file_extension": ".py",
   "mimetype": "text/x-python",
   "name": "python",
   "nbconvert_exporter": "python",
   "pygments_lexer": "ipython3",
   "version": "3.9.12"
  },
  "orig_nbformat": 4,
  "vscode": {
   "interpreter": {
    "hash": "2b2da39daaaff30a84159e8452ba91acfc0bbd521fb66c6aa9941f847b87bd81"
   }
  }
 },
 "nbformat": 4,
 "nbformat_minor": 2
}
