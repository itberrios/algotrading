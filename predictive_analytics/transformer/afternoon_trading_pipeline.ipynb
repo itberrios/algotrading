{
 "cells": [
  {
   "cell_type": "markdown",
   "metadata": {},
   "source": [
    "# **Afternoon Trading Pipeline**\n",
    "\n",
    "In this notebook we will explore the basic pipeline for afternoon trading on 15min interval stock data. We will be working with a portfolio of highly correlated stocks: AAPL, GOOG, QCOM, and TSLA. These stock were highly correlated around Aug - Oct 2022. The stock dataset does not contains timestamps, prices and trading volume, but does not contin any target variables.\n",
    "- Timestamps &#8594; Interval\n",
    "- Open/Close/High/Low Prices &#8594; Ratio\n",
    "- Trading Volume &#8594; Ratio\n",
    "\n",
    " We will create the target variable by taking the midpoint of Open/Close prices for M future days and then averaging these values. This target variable is Oridnal and has 3 possible classes: \n",
    "- 0 - downward price movement\n",
    "- 1 - no change\n",
    "- 2 - upward price movement\n",
    "\n",
    "The price movements are derived by a threshold that is defined using the IQR method to detect outliers. Currently we use a limit of 1, and every Q1 outlier is classified as \"0 - downward price movement\", every Q3 outlier is classified as \"2 - upward price movement\", and all inliers are classified as: \"1 - no change\".\n",
    "\n",
    "For this problem we filter the data to only inlcude regular trading hours. Since afterhours trading effects the stock prices, we are interested in only training and predicting by using windows the occur sequentially (i.e. within the same trading day)"
   ]
  },
  {
   "cell_type": "markdown",
   "metadata": {},
   "source": [
    "## Models\n",
    "\n",
    "The main model we will be testing in this notebook is a Transformer Encoder. Typically a Transformer has an Encoder and Decoder portion, where the Encoder learns information about which parts of the input sequence are relevant to eachother. The Decoder does the opposite, it takes the continuouss representation learned by the Encoder and learns to generate an ordered output sequence. For the Time Series Classifiecation problem it is unecessary to include the Decoder, we can simply use the Encoder to learn relative correlations of the inputs and add a Vanilla Feed Forward Neural Network to the end of the Encoder Blocks to obtain the desired classification. [Source](https://userweb.cs.txstate.edu/~amk181/AIME_LSTM_Attention_vs_Transformer.pdf).\n",
    "\n",
    "The Transformer Encoder also relies on positional encoding in order to implement this, we will first project the input vectors into high dimensional space as done [here](https://arxiv.org/pdf/2010.02803.pdf), and then add the positional Encoding as done in the [original paper](https://arxiv.org/pdf/1706.03762.pdf).\n",
    "\n",
    "\n",
    "In order to compare how effective the Transformer is in modeling seuqential data, we will compare its results to:\n",
    "- Baseline Model (uses previous predictions)\n",
    "- Linear Model\n",
    "- Neural Network\n",
    "- LSTM"
   ]
  },
  {
   "cell_type": "markdown",
   "metadata": {},
   "source": [
    "### Library Import"
   ]
  },
  {
   "cell_type": "code",
   "execution_count": 1,
   "metadata": {},
   "outputs": [],
   "source": [
    "import os\n",
    "import sys\n",
    "import numpy as np\n",
    "import pandas as pd\n",
    "import pandas_ta as ta\n",
    "import tensorflow as tf\n",
    "import keras\n",
    "from tensorflow.keras import layers\n",
    "import matplotlib.pyplot as plt\n",
    "\n",
    "plt.rcParams[\"figure.figsize\"] = (20, 10)\n",
    "%matplotlib inline"
   ]
  },
  {
   "cell_type": "markdown",
   "metadata": {},
   "source": [
    "### Local Imports\n",
    "\n",
    "Get base dir for imports, this allows us to look in the main algotrading folder to import local modules"
   ]
  },
  {
   "cell_type": "code",
   "execution_count": 2,
   "metadata": {},
   "outputs": [],
   "source": [
    "BASE_DIR = os.path.abspath(os.path.join(os.path.abspath('..'), '..'))\n",
    "sys.path.append(BASE_DIR)"
   ]
  },
  {
   "cell_type": "code",
   "execution_count": 3,
   "metadata": {},
   "outputs": [],
   "source": [
    "from data_utils import *\n",
    "from data_pipeline import *\n",
    "from window_generator import WindowGenerator\n",
    "from models.basic_transformer import TransformerModel"
   ]
  },
  {
   "cell_type": "markdown",
   "metadata": {},
   "source": [
    "### Ensure that GPU is available"
   ]
  },
  {
   "cell_type": "code",
   "execution_count": 4,
   "metadata": {},
   "outputs": [
    {
     "data": {
      "text/plain": [
       "[PhysicalDevice(name='/physical_device:GPU:0', device_type='GPU')]"
      ]
     },
     "execution_count": 4,
     "metadata": {},
     "output_type": "execute_result"
    }
   ],
   "source": [
    "tf.config.list_physical_devices('GPU')"
   ]
  },
  {
   "cell_type": "markdown",
   "metadata": {},
   "source": [
    "### Get the Data\n",
    "Place all stocks in a Dictionary of DataFrames"
   ]
  },
  {
   "cell_type": "code",
   "execution_count": null,
   "metadata": {},
   "outputs": [],
   "source": [
    "from glob import glob\n",
    "import re\n",
    "\n",
    "# get all data .csvs\n",
    "data_paths = glob(os.path.join(BASE_DIR, r'data\\raw\\*.csv'))\n",
    "\n",
    "# get stock DataFrames dict\n",
    "stock_dfs = get_stocks(data_paths, tgt_window=4, iqr_lim=0.25)"
   ]
  },
  {
   "cell_type": "code",
   "execution_count": 7,
   "metadata": {},
   "outputs": [],
   "source": [
    "def get_trading_times(df):\n",
    "    ''' Obtains a cleaned stock price DataFrame, with trading times ranging\n",
    "        from 9:30 - 4:00\n",
    "       '''\n",
    "    \n",
    "    # ensure that all trading times are sequential, pad missing data with NaNs\n",
    "    df = df.reindex(pd.date_range(df.index[0], df.index[-1], freq='15min'))\n",
    "       \n",
    "    # get regular trading times\n",
    "    dayofweek = df.index.dayofweek\n",
    "    hour = df.index.hour\n",
    "    minute = df.index.minute\n",
    "    \n",
    "    df = df.iloc[(dayofweek <= 4)                  # only get M-F\n",
    "                 & ~((hour == 9) & (minute < 30))  # remove less than 9:30\n",
    "                 & ((hour >= 9) & (hour <= 16))    # hours 9-16\n",
    "                 & ~((hour == 16) & (minute > 0))] # remove greater than 16:00\n",
    "    \n",
    "    # remove NaNs\n",
    "    df = df[~df.isna().all(axis=1)]\n",
    "    \n",
    "    return df"
   ]
  },
  {
   "cell_type": "code",
   "execution_count": 8,
   "metadata": {},
   "outputs": [],
   "source": [
    "for name in stock_dfs.keys():\n",
    "    df = stock_dfs[name]\n",
    "    # add filtered stock back to stock dict\n",
    "    stock_dfs[name] = get_trading_times(df)"
   ]
  },
  {
   "cell_type": "markdown",
   "metadata": {},
   "source": [
    "### Place plots of number of each class for each stock"
   ]
  },
  {
   "cell_type": "code",
   "execution_count": 9,
   "metadata": {},
   "outputs": [
    {
     "data": {
      "image/png": "[encoded data removed]",
      "text/plain": [
       "<Figure size 720x576 with 4 Axes>"
      ]
     },
     "metadata": {
      "needs_background": "light"
     },
     "output_type": "display_data"
    }
   ],
   "source": [
    "fig = plt.figure(figsize=(10, 8))\n",
    "\n",
    "for i, name in enumerate(stock_dfs.keys()):\n",
    "    # get plotting axes\n",
    "    ax = plt.subplot(2, 2, i + 1)\n",
    "\n",
    "    # get stock DataFrame\n",
    "    df = stock_dfs[name]\n",
    "\n",
    "    # compute class counts\n",
    "    down = np.sum(df.price_change == 0)\n",
    "    none = np.sum(df.price_change == 1)\n",
    "    up = np.sum(df.price_change == 2)\n",
    "\n",
    "    ax.barh([2.25], [0]) # expand to fit the legend\n",
    "    ax.barh([0], [down], height=0.4, edgecolor='k', label='num_downward')\n",
    "    ax.barh([1], [none], height=0.4, edgecolor='k', label='num_no_change')\n",
    "    ax.barh([2], [up], height=0.4, edgecolor='k', label='num_upward')\n",
    "    ax.set_title(name)\n",
    "    ax.set_xlabel('Number of Samples')\n",
    "    ax.set_ylabel('Price Movement Class')\n",
    "    ax.legend();\n",
    "\n",
    "# set main title\n",
    "fig.suptitle('Number of training samples in each class', size=24)\n",
    "\n",
    "# add a bit of space\n",
    "fig.subplots_adjust(hspace=0.35);\n"
   ]
  },
  {
   "cell_type": "markdown",
   "metadata": {},
   "source": [
    "### FUTURE -- Add more features \n",
    "Add functionalities to data_pipeline module\n",
    "- Price/Volume Differences\n",
    "- Time Encoding\n",
    "- Technical Indicators"
   ]
  },
  {
   "cell_type": "markdown",
   "metadata": {},
   "source": [
    "### NEW - Add Day of Week to features and remove later"
   ]
  },
  {
   "cell_type": "code",
   "execution_count": 10,
   "metadata": {},
   "outputs": [],
   "source": [
    "for name in stock_dfs.keys():\n",
    "    df = stock_dfs[name]\n",
    "    df['dayofweek'] =  df.index.dayofweek\n",
    "\n",
    "    stock_dfs[name] = df\n",
    "\n",
    "    "
   ]
  },
  {
   "cell_type": "code",
   "execution_count": 11,
   "metadata": {},
   "outputs": [
    {
     "data": {
      "text/html": [
       "<div>\n",
       "<style scoped>\n",
       "    .dataframe tbody tr th:only-of-type {\n",
       "        vertical-align: middle;\n",
       "    }\n",
       "\n",
       "    .dataframe tbody tr th {\n",
       "        vertical-align: top;\n",
       "    }\n",
       "\n",
       "    .dataframe thead th {\n",
       "        text-align: right;\n",
       "    }\n",
       "</style>\n",
       "<table border=\"1\" class=\"dataframe\">\n",
       "  <thead>\n",
       "    <tr style=\"text-align: right;\">\n",
       "      <th></th>\n",
       "      <th>Open</th>\n",
       "      <th>High</th>\n",
       "      <th>Low</th>\n",
       "      <th>Close</th>\n",
       "      <th>Volume</th>\n",
       "      <th>price_trend</th>\n",
       "      <th>price_change</th>\n",
       "      <th>dayofweek</th>\n",
       "    </tr>\n",
       "  </thead>\n",
       "  <tbody>\n",
       "    <tr>\n",
       "      <th>2020-10-23 09:30:00</th>\n",
       "      <td>114.932978</td>\n",
       "      <td>114.992262</td>\n",
       "      <td>114.893455</td>\n",
       "      <td>114.972501</td>\n",
       "      <td>137430.0</td>\n",
       "      <td>-0.523458</td>\n",
       "      <td>0.0</td>\n",
       "      <td>4</td>\n",
       "    </tr>\n",
       "    <tr>\n",
       "      <th>2020-10-23 09:45:00</th>\n",
       "      <td>115.002143</td>\n",
       "      <td>115.160235</td>\n",
       "      <td>114.152398</td>\n",
       "      <td>114.322248</td>\n",
       "      <td>5962724.0</td>\n",
       "      <td>-0.547765</td>\n",
       "      <td>0.0</td>\n",
       "      <td>4</td>\n",
       "    </tr>\n",
       "    <tr>\n",
       "      <th>2020-10-23 10:00:00</th>\n",
       "      <td>114.330252</td>\n",
       "      <td>114.448821</td>\n",
       "      <td>113.994306</td>\n",
       "      <td>114.093015</td>\n",
       "      <td>3968090.0</td>\n",
       "      <td>-0.353101</td>\n",
       "      <td>0.0</td>\n",
       "      <td>4</td>\n",
       "    </tr>\n",
       "    <tr>\n",
       "      <th>2020-10-23 10:15:00</th>\n",
       "      <td>114.083233</td>\n",
       "      <td>114.083233</td>\n",
       "      <td>113.411341</td>\n",
       "      <td>113.697883</td>\n",
       "      <td>4777513.0</td>\n",
       "      <td>-0.176532</td>\n",
       "      <td>0.0</td>\n",
       "      <td>4</td>\n",
       "    </tr>\n",
       "    <tr>\n",
       "      <th>2020-10-23 10:30:00</th>\n",
       "      <td>113.698674</td>\n",
       "      <td>113.885617</td>\n",
       "      <td>113.371818</td>\n",
       "      <td>113.688002</td>\n",
       "      <td>3805439.0</td>\n",
       "      <td>-0.010190</td>\n",
       "      <td>1.0</td>\n",
       "      <td>4</td>\n",
       "    </tr>\n",
       "    <tr>\n",
       "      <th>2020-10-23 10:45:00</th>\n",
       "      <td>113.678122</td>\n",
       "      <td>113.984425</td>\n",
       "      <td>113.450864</td>\n",
       "      <td>113.599075</td>\n",
       "      <td>2891741.0</td>\n",
       "      <td>0.041363</td>\n",
       "      <td>1.0</td>\n",
       "      <td>4</td>\n",
       "    </tr>\n",
       "    <tr>\n",
       "      <th>2020-10-23 11:00:00</th>\n",
       "      <td>113.598977</td>\n",
       "      <td>113.796691</td>\n",
       "      <td>113.411341</td>\n",
       "      <td>113.668241</td>\n",
       "      <td>2857045.0</td>\n",
       "      <td>-0.012302</td>\n",
       "      <td>1.0</td>\n",
       "      <td>4</td>\n",
       "    </tr>\n",
       "    <tr>\n",
       "      <th>2020-10-23 11:15:00</th>\n",
       "      <td>113.668241</td>\n",
       "      <td>113.944902</td>\n",
       "      <td>113.589195</td>\n",
       "      <td>113.865856</td>\n",
       "      <td>2297087.0</td>\n",
       "      <td>-0.235891</td>\n",
       "      <td>0.0</td>\n",
       "      <td>4</td>\n",
       "    </tr>\n",
       "    <tr>\n",
       "      <th>2020-10-23 11:30:00</th>\n",
       "      <td>113.865856</td>\n",
       "      <td>113.895498</td>\n",
       "      <td>113.174203</td>\n",
       "      <td>113.495328</td>\n",
       "      <td>3448651.0</td>\n",
       "      <td>-0.256072</td>\n",
       "      <td>0.0</td>\n",
       "      <td>4</td>\n",
       "    </tr>\n",
       "    <tr>\n",
       "      <th>2020-10-23 11:45:00</th>\n",
       "      <td>113.490387</td>\n",
       "      <td>113.529910</td>\n",
       "      <td>113.164322</td>\n",
       "      <td>113.317573</td>\n",
       "      <td>2394617.0</td>\n",
       "      <td>-0.077725</td>\n",
       "      <td>1.0</td>\n",
       "      <td>4</td>\n",
       "    </tr>\n",
       "    <tr>\n",
       "      <th>2020-10-23 12:00:00</th>\n",
       "      <td>113.312534</td>\n",
       "      <td>113.421222</td>\n",
       "      <td>112.917303</td>\n",
       "      <td>113.233487</td>\n",
       "      <td>3735942.0</td>\n",
       "      <td>0.035003</td>\n",
       "      <td>1.0</td>\n",
       "      <td>4</td>\n",
       "    </tr>\n",
       "    <tr>\n",
       "      <th>2020-10-23 12:15:00</th>\n",
       "      <td>113.225188</td>\n",
       "      <td>113.618837</td>\n",
       "      <td>113.124799</td>\n",
       "      <td>113.455805</td>\n",
       "      <td>2648860.0</td>\n",
       "      <td>0.024331</td>\n",
       "      <td>1.0</td>\n",
       "      <td>4</td>\n",
       "    </tr>\n",
       "    <tr>\n",
       "      <th>2020-10-23 12:30:00</th>\n",
       "      <td>113.450963</td>\n",
       "      <td>113.599075</td>\n",
       "      <td>112.966707</td>\n",
       "      <td>113.124107</td>\n",
       "      <td>3295785.0</td>\n",
       "      <td>0.116000</td>\n",
       "      <td>1.0</td>\n",
       "      <td>4</td>\n",
       "    </tr>\n",
       "    <tr>\n",
       "      <th>2020-10-23 12:45:00</th>\n",
       "      <td>113.120550</td>\n",
       "      <td>113.549672</td>\n",
       "      <td>113.060574</td>\n",
       "      <td>113.541471</td>\n",
       "      <td>2447232.0</td>\n",
       "      <td>0.147940</td>\n",
       "      <td>1.0</td>\n",
       "      <td>4</td>\n",
       "    </tr>\n",
       "    <tr>\n",
       "      <th>2020-10-23 13:00:00</th>\n",
       "      <td>113.539791</td>\n",
       "      <td>113.678122</td>\n",
       "      <td>113.253249</td>\n",
       "      <td>113.460745</td>\n",
       "      <td>2571386.0</td>\n",
       "      <td>0.044451</td>\n",
       "      <td>1.0</td>\n",
       "      <td>4</td>\n",
       "    </tr>\n",
       "  </tbody>\n",
       "</table>\n",
       "</div>"
      ],
      "text/plain": [
       "                           Open        High         Low       Close  \\\n",
       "2020-10-23 09:30:00  114.932978  114.992262  114.893455  114.972501   \n",
       "2020-10-23 09:45:00  115.002143  115.160235  114.152398  114.322248   \n",
       "2020-10-23 10:00:00  114.330252  114.448821  113.994306  114.093015   \n",
       "2020-10-23 10:15:00  114.083233  114.083233  113.411341  113.697883   \n",
       "2020-10-23 10:30:00  113.698674  113.885617  113.371818  113.688002   \n",
       "2020-10-23 10:45:00  113.678122  113.984425  113.450864  113.599075   \n",
       "2020-10-23 11:00:00  113.598977  113.796691  113.411341  113.668241   \n",
       "2020-10-23 11:15:00  113.668241  113.944902  113.589195  113.865856   \n",
       "2020-10-23 11:30:00  113.865856  113.895498  113.174203  113.495328   \n",
       "2020-10-23 11:45:00  113.490387  113.529910  113.164322  113.317573   \n",
       "2020-10-23 12:00:00  113.312534  113.421222  112.917303  113.233487   \n",
       "2020-10-23 12:15:00  113.225188  113.618837  113.124799  113.455805   \n",
       "2020-10-23 12:30:00  113.450963  113.599075  112.966707  113.124107   \n",
       "2020-10-23 12:45:00  113.120550  113.549672  113.060574  113.541471   \n",
       "2020-10-23 13:00:00  113.539791  113.678122  113.253249  113.460745   \n",
       "\n",
       "                        Volume  price_trend  price_change  dayofweek  \n",
       "2020-10-23 09:30:00   137430.0    -0.523458           0.0          4  \n",
       "2020-10-23 09:45:00  5962724.0    -0.547765           0.0          4  \n",
       "2020-10-23 10:00:00  3968090.0    -0.353101           0.0          4  \n",
       "2020-10-23 10:15:00  4777513.0    -0.176532           0.0          4  \n",
       "2020-10-23 10:30:00  3805439.0    -0.010190           1.0          4  \n",
       "2020-10-23 10:45:00  2891741.0     0.041363           1.0          4  \n",
       "2020-10-23 11:00:00  2857045.0    -0.012302           1.0          4  \n",
       "2020-10-23 11:15:00  2297087.0    -0.235891           0.0          4  \n",
       "2020-10-23 11:30:00  3448651.0    -0.256072           0.0          4  \n",
       "2020-10-23 11:45:00  2394617.0    -0.077725           1.0          4  \n",
       "2020-10-23 12:00:00  3735942.0     0.035003           1.0          4  \n",
       "2020-10-23 12:15:00  2648860.0     0.024331           1.0          4  \n",
       "2020-10-23 12:30:00  3295785.0     0.116000           1.0          4  \n",
       "2020-10-23 12:45:00  2447232.0     0.147940           1.0          4  \n",
       "2020-10-23 13:00:00  2571386.0     0.044451           1.0          4  "
      ]
     },
     "execution_count": 11,
     "metadata": {},
     "output_type": "execute_result"
    }
   ],
   "source": [
    "stock_dfs['AAPL'].iloc[:15, :]"
   ]
  },
  {
   "cell_type": "markdown",
   "metadata": {},
   "source": [
    "### Get train, valid, test splits for each stock"
   ]
  },
  {
   "cell_type": "code",
   "execution_count": 12,
   "metadata": {},
   "outputs": [],
   "source": [
    "train_dfs = {}\n",
    "valid_dfs = {}\n",
    "test_dfs = {}\n",
    "\n",
    "split_dfs = {}\n",
    "\n",
    "for name in stock_dfs.keys():\n",
    "\n",
    "    # get stock DataFrame\n",
    "    df = stock_dfs[name]\n",
    "\n",
    "    train = df.loc[:'2022-02-01']\n",
    "    valid = df.loc['2022-02-02':'2022-07-01']\n",
    "    test = df.loc['2022-07-01':]\n",
    "\n",
    "    train_dfs.update({name : train})\n",
    "    valid_dfs.update({name : valid})\n",
    "    test_dfs.update({name : test})\n",
    "    \n",
    "    split_dfs.update({name : [train, valid, test]})"
   ]
  },
  {
   "cell_type": "markdown",
   "metadata": {},
   "source": [
    "### Get Data Generators\n",
    "- One for baseline model\n",
    "- One for simple non-sequential models (this will use window normalization)\n",
    "- One for sequential models (This will use window normalization)"
   ]
  },
  {
   "cell_type": "markdown",
   "metadata": {},
   "source": [
    "First we need to make a Data Generator that that can account for the time spans that we are interested in. We might be able to use specific timestamps to define the windows, i.e. 09:30-13:30\n",
    "\n",
    "We should strive for a general method of doing this"
   ]
  },
  {
   "cell_type": "code",
   "execution_count": 24,
   "metadata": {},
   "outputs": [],
   "source": [
    "import numpy as np\n",
    "import tensorflow as tf\n",
    "import matplotlib.pyplot as plt\n",
    "\n",
    "\n",
    "class WindowGenerator():\n",
    "    def __init__(self, input_width, label_width, shift, dfs,\n",
    "                batch_size=32, seed=42, window_norm=True,\n",
    "                sample_weights=True, \n",
    "                remove_columns=[],\n",
    "                label_columns=None,\n",
    "                remove_nonsequential=False):\n",
    "        # Store the raw data.\n",
    "        self.train_df = dfs[0]\n",
    "        self.valid_df = dfs[1]\n",
    "        self.test_df = dfs[2]\n",
    "      \n",
    "        # self.position_encode = position_encode\n",
    "        self.batch_size = batch_size\n",
    "        self.seed = seed\n",
    "        self.window_norm = window_norm\n",
    "        self.sample_weights = sample_weights\n",
    "        self.remove_columns = remove_columns\n",
    "        self.label_columns = label_columns\n",
    "        self.remove_nonsequential = remove_nonsequential # removes non-sequential windows\n",
    "\n",
    "        # standardize training features if window norm not selected\n",
    "        if not self.window_norm:\n",
    "            self.standardize()\n",
    "\n",
    "        # Work out the label column indices.\n",
    "        if label_columns is not None:\n",
    "            self.label_columns_indices = {name: i for i, name in\n",
    "                                        enumerate(label_columns)}\n",
    "        self.column_indices = {name: i for i, name in\n",
    "                                enumerate(self.train_df.columns)} \n",
    "\n",
    "        # Work out the window parameters.\n",
    "        self.input_width = input_width # sequence length\n",
    "        self.label_width = label_width\n",
    "        self.shift = shift\n",
    "\n",
    "        self.total_window_size = input_width + shift\n",
    "\n",
    "        self.input_slice = slice(0, input_width)\n",
    "        self.input_indices = np.arange(self.total_window_size)[self.input_slice]\n",
    "\n",
    "        self.label_start = self.total_window_size - self.label_width\n",
    "        self.labels_slice = slice(self.label_start, None)\n",
    "        self.label_indices = np.arange(self.total_window_size)[self.labels_slice]\n",
    "\n",
    "\n",
    "    def __repr__(self):\n",
    "      return '\\n'.join([\n",
    "          f'Total window size: {self.total_window_size}',\n",
    "          f'Input indices: {self.input_indices}',\n",
    "          f'Label indices: {self.label_indices}',\n",
    "          f'Label column name(s): {self.label_columns}'])\n",
    "\n",
    "    def standardize(self):\n",
    "        train_mean = self.train_df.mean()\n",
    "        train_std = self.train_df.std()\n",
    "\n",
    "        # ensure that target column is not standardized\n",
    "        for col in set(self.label_columns + self.remove_columns):\n",
    "            train_mean[col] = 0\n",
    "            train_std[col] = 1\n",
    "\n",
    "        self.train_df = (self.train_df - train_mean) / train_std\n",
    "        self.valid_df = (self.valid_df - train_mean) / train_std\n",
    "        self.test_df = (self.test_df - train_mean) / train_std\n",
    "\n",
    "\n",
    "    def split_window(self, features):\n",
    "        inputs = features[:, self.input_slice, :]\n",
    "        labels = features[:, self.labels_slice, :]\n",
    "\n",
    "        if self.label_columns is not None:\n",
    "            labels = tf.stack(\n",
    "                [labels[:, :, self.column_indices[name]] for name in self.label_columns],\n",
    "                axis=-1)\n",
    "\n",
    "        # Slicing doesn't preserve static shape information, so set the shapes\n",
    "        # manually. This way the `tf.data.Datasets` are easier to inspect.\n",
    "        inputs.set_shape([None, self.input_width, None])\n",
    "        labels.set_shape([None, self.label_width, None])\n",
    "\n",
    "        if self.remove_nonsequential:\n",
    "            inputs, labels = self.remove_nonsequential_windows(inputs, labels)\n",
    "\n",
    "        # remove desired columns from input features \n",
    "        if len(self.remove_columns) > 0:\n",
    "            inputs = tf.stack(\n",
    "                [inputs[:, :, self.column_indices[name]] for name in self.column_indices.keys() \n",
    "                                if name not in self.remove_columns],\n",
    "                axis=-1)\n",
    "\n",
    "        return inputs, labels\n",
    "\n",
    "\n",
    "    def standardize_window(self, inputs, labels):\n",
    "        ''' Standardizes each window to mean - 0 and std - 1'''\n",
    "        mean = tf.math.reduce_mean(inputs, axis=1)\n",
    "        std = tf.math.reduce_std(inputs, axis=1)\n",
    "        \n",
    "        mean = tf.repeat(tf.expand_dims(mean, axis=1), \n",
    "                         self.total_window_size, axis=1)\n",
    "        std = tf.repeat(tf.expand_dims(std, axis=1), \n",
    "                        self.total_window_size, axis=1)\n",
    "\n",
    "        inputs = tf.math.subtract(inputs, mean)\n",
    "        inputs = tf.math.divide(inputs, std)\n",
    "\n",
    "        return inputs, labels\n",
    "\n",
    "\n",
    "    def get_sample_weights(self, inputs, labels):\n",
    "        ''' Obtains smaple weights for any number of classes.\n",
    "            NOTE: sample_weights pertain a weighting to each label\n",
    "            '''\n",
    "        # get initial sample weights\n",
    "        sample_weights = tf.ones_like(labels, dtype=tf.float64)\n",
    "        \n",
    "        # get classes and counts for each one\n",
    "        class_counts = np.bincount(self.train_df.price_change)\n",
    "        total = class_counts.sum()\n",
    "        n_classes = len(class_counts)\n",
    "\n",
    "        for idx, count in enumerate(class_counts):\n",
    "            # compute weight\n",
    "            weight = total / (n_classes*count)\n",
    "\n",
    "            # update weight value \n",
    "            sample_weights = tf.where(tf.equal(labels, float(idx)), \n",
    "                                      weight, \n",
    "                                      sample_weights)\n",
    "        \n",
    "        return inputs, labels, sample_weights\n",
    "\n",
    "\n",
    "    def remove_sequence(self, inputs, labels, sample_weights=None):\n",
    "        # remove sequence from inputs so simple models can be trained (i.e. Linear Models)\n",
    "        inputs = tf.expand_dims(inputs[:, 0, :], axis=1)\n",
    "\n",
    "        if tf.is_tensor(sample_weights):\n",
    "            return inputs, labels, sample_weights\n",
    "        else:\n",
    "            return inputs, labels\n",
    "\n",
    "\n",
    "    def remove_nonsequential_windows(self, inputs, labels, sample_weights=None):\n",
    "        # ASSUMES that the dayofweek is the final features\n",
    "        # get locations of consistent dayofweeks in each batch\n",
    "        dayofweek_repeats = tf.repeat(tf.expand_dims(inputs[:, 0, -1], axis=1), \n",
    "                                      self.input_width, axis=1)\n",
    "        valid_locs = tf.reduce_all(inputs[:, :, -1] == dayofweek_repeats, axis=1)\n",
    "\n",
    "        inputs = inputs[valid_locs]\n",
    "        labels = labels[valid_locs]\n",
    "\n",
    "        if tf.is_tensor(sample_weights):\n",
    "            return inputs, labels, sample_weights\n",
    "        else:\n",
    "            return inputs, labels\n",
    "            \n",
    "    \n",
    "    def get_position_encoding(self, n=10000):\n",
    "        d = self.train_df.shape[1] # assume all features are used\n",
    "        pos_encode = np.zeros((self.input_width, d))\n",
    "        for k in range(self.input_width):\n",
    "            for i in np.arange(int(d/2)):\n",
    "                denominator = np.power(n, 2*i/d)\n",
    "                pos_encode[k, 2*i] = np.sin(k/denominator)\n",
    "                pos_encode[k, 2*i+1] = np.cos(k/denominator)\n",
    "        return pos_encode\n",
    "\n",
    "    def make_dataset(self, data):\n",
    "        data = np.array(data, dtype=np.float32)\n",
    "        ds = tf.keras.utils.timeseries_dataset_from_array(\n",
    "                data=data,\n",
    "                targets=None,\n",
    "                sequence_length=self.total_window_size,\n",
    "                sequence_stride=1,\n",
    "                shuffle=False,\n",
    "                seed=self.seed,\n",
    "                batch_size=self.batch_size)\n",
    "\n",
    "        # get split window\n",
    "        ds = ds.map(self.split_window)\n",
    "\n",
    "        if self.window_norm:\n",
    "            ds = ds.map(self.standardize_window)\n",
    "\n",
    "        if self.sample_weights:\n",
    "            ds = ds.map(self.get_sample_weights)\n",
    "\n",
    "        return ds\n",
    "    \n",
    "\n",
    "    @property\n",
    "    def train(self):\n",
    "        return self.make_dataset(self.train_df)\n",
    "\n",
    "    @property\n",
    "    def valid(self):\n",
    "        return self.make_dataset(self.valid_df)\n",
    "\n",
    "    @property\n",
    "    def test(self):\n",
    "        return self.make_dataset(self.test_df)\n",
    "\n",
    "    @property\n",
    "    def example(self):\n",
    "        \"\"\"Get and cache an example batch of `inputs, labels` for plotting.\"\"\"\n",
    "        result = getattr(self, '_example', None)\n",
    "        if result is None:\n",
    "            # No example batch was found, so get one from the `.train` dataset\n",
    "            result = next(iter(self.train))\n",
    "            # And cache it for next time\n",
    "            self._example = result\n",
    "        # return result"
   ]
  },
  {
   "cell_type": "code",
   "execution_count": 29,
   "metadata": {},
   "outputs": [],
   "source": [
    "# use shift=0 since the targets are aligned with each feature row\n",
    "aapl_gen = WindowGenerator(\n",
    "                input_width=24, label_width=1, shift=0, \n",
    "                window_norm=False,\n",
    "                dfs=split_dfs['AAPL'],\n",
    "                remove_columns=['price_change', 'price_trend', 'dayofweek'],\n",
    "                batch_size=32, \n",
    "                remove_nonsequential=True,\n",
    "                label_columns=['price_change'])"
   ]
  },
  {
   "cell_type": "code",
   "execution_count": 30,
   "metadata": {},
   "outputs": [
    {
     "name": "stdout",
     "output_type": "stream",
     "text": [
      "Inputs shape (batch, time, features): (8, 24, 5)\n",
      "Labels shape (batch, time, features): (8, 1, 1)\n",
      "Inputs shape (batch, time, features): (4, 24, 5)\n",
      "Labels shape (batch, time, features): (4, 1, 1)\n",
      "Inputs shape (batch, time, features): (4, 24, 5)\n",
      "Labels shape (batch, time, features): (4, 1, 1)\n",
      "Inputs shape (batch, time, features): (4, 24, 5)\n",
      "Labels shape (batch, time, features): (4, 1, 1)\n",
      "Inputs shape (batch, time, features): (4, 24, 5)\n",
      "Labels shape (batch, time, features): (4, 1, 1)\n"
     ]
    }
   ],
   "source": [
    "for inputs, labels, sample_weights in aapl_gen.train.take(5):\n",
    "    print(f'Inputs shape (batch, time, features): {inputs.shape}')\n",
    "    print(f'Labels shape (batch, time, features): {labels.shape}')"
   ]
  },
  {
   "cell_type": "code",
   "execution_count": 31,
   "metadata": {},
   "outputs": [],
   "source": [
    "base_gens = []\n",
    "single_step_gens = []\n",
    "window_generators = []\n",
    "\n",
    "for name in split_dfs.keys():\n",
    "    base_gen = WindowGenerator(\n",
    "        input_width=1, label_width=1, shift=0,\n",
    "        dfs=split_dfs[name],\n",
    "        batch_size=32, \n",
    "        label_columns=['price_change'])\n",
    "\n",
    "    single_gen = WindowGenerator(\n",
    "                input_width=1, label_width=1, shift=0, \n",
    "                window_norm=False,\n",
    "                dfs=split_dfs[name],\n",
    "                remove_columns=['price_change', 'price_trend', 'dayofweek'],\n",
    "                batch_size=32, \n",
    "                remove_nonsequential=True,\n",
    "                label_columns=['price_change'])\n",
    "\n",
    "    data_gen = WindowGenerator(\n",
    "                input_width=24, label_width=1, shift=0, \n",
    "                window_norm=True,\n",
    "                dfs=split_dfs[name],\n",
    "                remove_columns=['price_change', 'price_trend', 'dayofweek'],\n",
    "                batch_size=32, \n",
    "                remove_nonsequential=True,\n",
    "                label_columns=['price_change'])\n",
    "    \n",
    "    base_gens.append(base_gen)\n",
    "    single_step_gens.append(single_gen)\n",
    "    window_generators.append(data_gen)"
   ]
  },
  {
   "cell_type": "markdown",
   "metadata": {},
   "source": [
    "### Start Training Models"
   ]
  },
  {
   "cell_type": "code",
   "execution_count": 32,
   "metadata": {},
   "outputs": [],
   "source": [
    "class Baseline(tf.keras.Model):\n",
    "    def __init__(self, label_index=None):\n",
    "        super().__init__()\n",
    "        self.label_index = label_index\n",
    "\n",
    "    def call(self, inputs):\n",
    "        if self.label_index is None:\n",
    "            return inputs\n",
    "        result = inputs[:, :, self.label_index]\n",
    "        return result[:, :, tf.newaxis]"
   ]
  },
  {
   "cell_type": "code",
   "execution_count": 33,
   "metadata": {},
   "outputs": [],
   "source": [
    "train_performance = {}\n",
    "val_performance = {}"
   ]
  },
  {
   "cell_type": "code",
   "execution_count": 34,
   "metadata": {},
   "outputs": [
    {
     "name": "stdout",
     "output_type": "stream",
     "text": [
      "270/270 [==============================] - 2s 4ms/step - loss: nan - accuracy: 0.2350 - weighted_accuracy: 0.3333\n",
      "88/88 [==============================] - 0s 2ms/step - loss: nan - accuracy: 0.3376 - weighted_accuracy: 0.4098\n",
      "268/268 [==============================] - 1s 3ms/step - loss: nan - accuracy: 0.1422 - weighted_accuracy: 0.3333\n",
      "88/88 [==============================] - 0s 2ms/step - loss: nan - accuracy: 0.2791 - weighted_accuracy: 0.4585\n",
      "270/270 [==============================] - 1s 3ms/step - loss: nan - accuracy: 0.1707 - weighted_accuracy: 0.3333\n",
      "88/88 [==============================] - 0s 2ms/step - loss: nan - accuracy: 0.3117 - weighted_accuracy: 0.4457\n",
      "270/270 [==============================] - 1s 2ms/step - loss: nan - accuracy: 0.2373 - weighted_accuracy: 0.3333\n",
      "88/88 [==============================] - 0s 2ms/step - loss: nan - accuracy: 0.3405 - weighted_accuracy: 0.4170\n"
     ]
    }
   ],
   "source": [
    "train_metrics = []\n",
    "val_metrics = []\n",
    "for data_gen in base_gens:\n",
    "    baseline = Baseline(label_index=data_gen.column_indices['price_change'])\n",
    "\n",
    "    baseline.compile(loss=tf.keras.losses.SparseCategoricalCrossentropy(),\n",
    "                     metrics=['accuracy'],\n",
    "                     weighted_metrics=['accuracy'])\n",
    "\n",
    "    train_metrics.append(baseline.evaluate(data_gen.train))\n",
    "    val_metrics.append(baseline.evaluate(data_gen.valid))"
   ]
  },
  {
   "cell_type": "code",
   "execution_count": 35,
   "metadata": {},
   "outputs": [],
   "source": [
    "train_performance['Baseline'] = train_metrics\n",
    "val_performance['Baseline'] = val_metrics"
   ]
  },
  {
   "cell_type": "markdown",
   "metadata": {},
   "source": [
    "### Train the Linear model\n",
    "Entire dataset is standardized here"
   ]
  },
  {
   "cell_type": "code",
   "execution_count": 36,
   "metadata": {},
   "outputs": [],
   "source": [
    "linear = tf.keras.Sequential([\n",
    "    layers.Dense(units=3, activation='softmax')\n",
    "])\n",
    "\n",
    "linear.compile(\n",
    "    loss=tf.keras.losses.SparseCategoricalCrossentropy(),\n",
    "    optimizer=tf.keras.optimizers.Adam(learning_rate=1e-2),\n",
    "    metrics=[tf.keras.metrics.SparseCategoricalAccuracy()],\n",
    "    weighted_metrics=[tf.keras.metrics.SparseCategoricalAccuracy()])"
   ]
  },
  {
   "cell_type": "code",
   "execution_count": 37,
   "metadata": {},
   "outputs": [
    {
     "name": "stdout",
     "output_type": "stream",
     "text": [
      "\n",
      "MAIN EPOCH: 1\n",
      "\n",
      "270/270 [==============================] - 3s 6ms/step - loss: 1.1069 - sparse_categorical_accuracy: 0.4409 - weighted_sparse_categorical_accuracy: 0.3921 - val_loss: 1.2942 - val_sparse_categorical_accuracy: 0.3497 - val_weighted_sparse_categorical_accuracy: 0.3688\n",
      "270/270 [==============================] - 1s 3ms/step - loss: 1.1152 - sparse_categorical_accuracy: 0.4998 - weighted_sparse_categorical_accuracy: 0.3969\n",
      "88/88 [==============================] - 0s 3ms/step - loss: 1.2942 - sparse_categorical_accuracy: 0.3497 - weighted_sparse_categorical_accuracy: 0.3688\n",
      "\n",
      "268/268 [==============================] - 1s 5ms/step - loss: 1.0846 - sparse_categorical_accuracy: 0.5099 - weighted_sparse_categorical_accuracy: 0.3913 - val_loss: 1.5315 - val_sparse_categorical_accuracy: 0.3569 - val_weighted_sparse_categorical_accuracy: 0.3782\n",
      "268/268 [==============================] - 1s 3ms/step - loss: 1.1156 - sparse_categorical_accuracy: 0.4287 - weighted_sparse_categorical_accuracy: 0.3810\n",
      "88/88 [==============================] - 0s 3ms/step - loss: 1.5315 - sparse_categorical_accuracy: 0.3569 - weighted_sparse_categorical_accuracy: 0.3782\n",
      "\n",
      "270/270 [==============================] - 1s 5ms/step - loss: 1.0766 - sparse_categorical_accuracy: 0.4562 - weighted_sparse_categorical_accuracy: 0.3928 - val_loss: 1.6161 - val_sparse_categorical_accuracy: 0.3851 - val_weighted_sparse_categorical_accuracy: 0.2916\n",
      "270/270 [==============================] - 1s 3ms/step - loss: 1.1044 - sparse_categorical_accuracy: 0.5908 - weighted_sparse_categorical_accuracy: 0.4154\n",
      "88/88 [==============================] - 0s 3ms/step - loss: 1.6161 - sparse_categorical_accuracy: 0.3851 - weighted_sparse_categorical_accuracy: 0.2916\n",
      "\n",
      "270/270 [==============================] - 1s 5ms/step - loss: 1.0527 - sparse_categorical_accuracy: 0.4946 - weighted_sparse_categorical_accuracy: 0.4295 - val_loss: 1.2610 - val_sparse_categorical_accuracy: 0.3878 - val_weighted_sparse_categorical_accuracy: 0.3616\n",
      "270/270 [==============================] - 1s 3ms/step - loss: 1.0746 - sparse_categorical_accuracy: 0.5444 - weighted_sparse_categorical_accuracy: 0.4439\n",
      "88/88 [==============================] - 0s 3ms/step - loss: 1.2610 - sparse_categorical_accuracy: 0.3878 - weighted_sparse_categorical_accuracy: 0.3616\n",
      "\n",
      "MAIN EPOCH: 2\n",
      "\n",
      "270/270 [==============================] - 1s 5ms/step - loss: 1.0924 - sparse_categorical_accuracy: 0.4779 - weighted_sparse_categorical_accuracy: 0.4048 - val_loss: 1.2973 - val_sparse_categorical_accuracy: 0.3515 - val_weighted_sparse_categorical_accuracy: 0.3700\n",
      "270/270 [==============================] - 1s 3ms/step - loss: 1.1131 - sparse_categorical_accuracy: 0.5031 - weighted_sparse_categorical_accuracy: 0.3985\n",
      "88/88 [==============================] - 0s 3ms/step - loss: 1.2973 - sparse_categorical_accuracy: 0.3515 - weighted_sparse_categorical_accuracy: 0.3700\n",
      "\n",
      "268/268 [==============================] - 1s 5ms/step - loss: 1.0832 - sparse_categorical_accuracy: 0.5127 - weighted_sparse_categorical_accuracy: 0.3925 - val_loss: 1.5280 - val_sparse_categorical_accuracy: 0.3587 - val_weighted_sparse_categorical_accuracy: 0.3820\n",
      "268/268 [==============================] - 1s 3ms/step - loss: 1.1137 - sparse_categorical_accuracy: 0.4260 - weighted_sparse_categorical_accuracy: 0.3808\n",
      "88/88 [==============================] - 0s 3ms/step - loss: 1.5280 - sparse_categorical_accuracy: 0.3587 - weighted_sparse_categorical_accuracy: 0.3820\n",
      "\n",
      "270/270 [==============================] - 1s 5ms/step - loss: 1.0745 - sparse_categorical_accuracy: 0.4603 - weighted_sparse_categorical_accuracy: 0.4024 - val_loss: 1.6139 - val_sparse_categorical_accuracy: 0.3876 - val_weighted_sparse_categorical_accuracy: 0.2952\n",
      "270/270 [==============================] - 1s 3ms/step - loss: 1.1032 - sparse_categorical_accuracy: 0.5913 - weighted_sparse_categorical_accuracy: 0.4160\n",
      "88/88 [==============================] - 0s 3ms/step - loss: 1.6139 - sparse_categorical_accuracy: 0.3876 - weighted_sparse_categorical_accuracy: 0.2952\n",
      "\n",
      "270/270 [==============================] - 1s 5ms/step - loss: 1.0516 - sparse_categorical_accuracy: 0.4977 - weighted_sparse_categorical_accuracy: 0.4337 - val_loss: 1.2590 - val_sparse_categorical_accuracy: 0.3932 - val_weighted_sparse_categorical_accuracy: 0.3683\n",
      "270/270 [==============================] - 1s 3ms/step - loss: 1.0734 - sparse_categorical_accuracy: 0.5453 - weighted_sparse_categorical_accuracy: 0.4455\n",
      "88/88 [==============================] - 0s 3ms/step - loss: 1.2590 - sparse_categorical_accuracy: 0.3932 - weighted_sparse_categorical_accuracy: 0.3683\n"
     ]
    }
   ],
   "source": [
    "train_metrics = []\n",
    "val_metrics = []\n",
    "\n",
    "EPOCHS = 2\n",
    "for e in range(1, EPOCHS+1):\n",
    "    print(f'\\nMAIN EPOCH: {e}')\n",
    "    for data_gen in single_step_gens:\n",
    "        print()\n",
    "        \n",
    "        history = linear.fit(\n",
    "                            data_gen.train, epochs=1,\n",
    "                            validation_data=data_gen.valid)\n",
    "\n",
    "        train_metrics.append(linear.evaluate(data_gen.train))\n",
    "        val_metrics.append(linear.evaluate(data_gen.valid))"
   ]
  },
  {
   "cell_type": "code",
   "execution_count": 38,
   "metadata": {},
   "outputs": [],
   "source": [
    "train_performance['Linear'] = train_metrics\n",
    "val_performance['Linear'] = val_metrics"
   ]
  },
  {
   "cell_type": "code",
   "execution_count": 39,
   "metadata": {},
   "outputs": [],
   "source": [
    "transformer_model = TransformerModel(\n",
    "            n_heads=2,\n",
    "            d_model=512,\n",
    "            ff_dim=256,\n",
    "            num_transformer_blocks=2,\n",
    "            mlp_units=[256],\n",
    "            n_outputs=3,\n",
    "            dropout=0.1,\n",
    "            mlp_dropout=0.1)"
   ]
  },
  {
   "cell_type": "markdown",
   "metadata": {},
   "source": [
    "Train model on each dataset once per epoch\n",
    "\n",
    "TODO - add new functions to make this easier"
   ]
  },
  {
   "cell_type": "code",
   "execution_count": 40,
   "metadata": {},
   "outputs": [],
   "source": [
    "LEARN_RATE = 1e-4"
   ]
  },
  {
   "cell_type": "code",
   "execution_count": 41,
   "metadata": {},
   "outputs": [],
   "source": [
    "transformer_model.compile(\n",
    "                  loss=tf.keras.losses.SparseCategoricalCrossentropy(),\n",
    "                  optimizer=tf.keras.optimizers.Adam(learning_rate=LEARN_RATE),\n",
    "                  metrics=[tf.keras.metrics.SparseCategoricalAccuracy()],\n",
    "                  weighted_metrics=[tf.keras.metrics.SparseCategoricalAccuracy()])"
   ]
  },
  {
   "cell_type": "code",
   "execution_count": 42,
   "metadata": {},
   "outputs": [
    {
     "name": "stdout",
     "output_type": "stream",
     "text": [
      "\n",
      "MAIN EPOCH: 1\n",
      "\n",
      "270/270 [==============================] - 14s 25ms/step - loss: 1.0109 - sparse_categorical_accuracy: 0.5739 - weighted_sparse_categorical_accuracy: 0.3705 - val_loss: 1.3130 - val_sparse_categorical_accuracy: 0.3365 - val_weighted_sparse_categorical_accuracy: 0.1809\n",
      "270/270 [==============================] - 2s 7ms/step - loss: 1.0048 - sparse_categorical_accuracy: 0.5708 - weighted_sparse_categorical_accuracy: 0.3698\n",
      "88/88 [==============================] - 1s 7ms/step - loss: 1.3130 - sparse_categorical_accuracy: 0.3365 - weighted_sparse_categorical_accuracy: 0.1809\n",
      "\n",
      "268/268 [==============================] - 6s 22ms/step - loss: 0.9643 - sparse_categorical_accuracy: 0.7246 - weighted_sparse_categorical_accuracy: 0.3541 - val_loss: 1.6613 - val_sparse_categorical_accuracy: 0.4596 - val_weighted_sparse_categorical_accuracy: 0.1481\n",
      "268/268 [==============================] - 2s 7ms/step - loss: 0.9607 - sparse_categorical_accuracy: 0.7270 - weighted_sparse_categorical_accuracy: 0.3521\n",
      "87/87 [==============================] - 1s 7ms/step - loss: 1.6613 - sparse_categorical_accuracy: 0.4596 - weighted_sparse_categorical_accuracy: 0.1481\n",
      "\n",
      "269/269 [==============================] - 6s 21ms/step - loss: 0.9373 - sparse_categorical_accuracy: 0.7050 - weighted_sparse_categorical_accuracy: 0.3823 - val_loss: 1.5039 - val_sparse_categorical_accuracy: 0.4410 - val_weighted_sparse_categorical_accuracy: 0.1686\n",
      "269/269 [==============================] - 2s 7ms/step - loss: 0.9290 - sparse_categorical_accuracy: 0.7082 - weighted_sparse_categorical_accuracy: 0.3840\n",
      "87/87 [==============================] - 1s 8ms/step - loss: 1.5039 - sparse_categorical_accuracy: 0.4410 - weighted_sparse_categorical_accuracy: 0.1686\n",
      "\n",
      "270/270 [==============================] - 6s 21ms/step - loss: 0.9742 - sparse_categorical_accuracy: 0.5967 - weighted_sparse_categorical_accuracy: 0.3922 - val_loss: 1.1652 - val_sparse_categorical_accuracy: 0.4712 - val_weighted_sparse_categorical_accuracy: 0.2793\n",
      "270/270 [==============================] - 2s 7ms/step - loss: 0.9642 - sparse_categorical_accuracy: 0.5975 - weighted_sparse_categorical_accuracy: 0.3927\n",
      "88/88 [==============================] - 1s 8ms/step - loss: 1.1652 - sparse_categorical_accuracy: 0.4712 - weighted_sparse_categorical_accuracy: 0.2793\n",
      "\n",
      "MAIN EPOCH: 2\n",
      "\n",
      "270/270 [==============================] - 6s 21ms/step - loss: 0.9913 - sparse_categorical_accuracy: 0.5684 - weighted_sparse_categorical_accuracy: 0.3747 - val_loss: 1.3364 - val_sparse_categorical_accuracy: 0.3341 - val_weighted_sparse_categorical_accuracy: 0.1912\n",
      "270/270 [==============================] - 2s 7ms/step - loss: 0.9822 - sparse_categorical_accuracy: 0.5715 - weighted_sparse_categorical_accuracy: 0.3884\n",
      "88/88 [==============================] - 1s 8ms/step - loss: 1.3364 - sparse_categorical_accuracy: 0.3341 - weighted_sparse_categorical_accuracy: 0.1912\n",
      "\n",
      "268/268 [==============================] - 6s 21ms/step - loss: 0.9608 - sparse_categorical_accuracy: 0.7163 - weighted_sparse_categorical_accuracy: 0.3517 - val_loss: 1.6701 - val_sparse_categorical_accuracy: 0.4596 - val_weighted_sparse_categorical_accuracy: 0.1514\n",
      "268/268 [==============================] - 2s 7ms/step - loss: 0.9459 - sparse_categorical_accuracy: 0.7237 - weighted_sparse_categorical_accuracy: 0.3505\n",
      "87/87 [==============================] - 1s 7ms/step - loss: 1.6701 - sparse_categorical_accuracy: 0.4596 - weighted_sparse_categorical_accuracy: 0.1514\n",
      "\n",
      "269/269 [==============================] - 6s 21ms/step - loss: 0.9200 - sparse_categorical_accuracy: 0.6995 - weighted_sparse_categorical_accuracy: 0.3867 - val_loss: 1.5172 - val_sparse_categorical_accuracy: 0.4410 - val_weighted_sparse_categorical_accuracy: 0.1686\n",
      "269/269 [==============================] - 2s 7ms/step - loss: 0.9096 - sparse_categorical_accuracy: 0.7050 - weighted_sparse_categorical_accuracy: 0.3823\n",
      "87/87 [==============================] - 1s 7ms/step - loss: 1.5172 - sparse_categorical_accuracy: 0.4410 - weighted_sparse_categorical_accuracy: 0.1686\n",
      "\n",
      "270/270 [==============================] - 6s 21ms/step - loss: 0.9526 - sparse_categorical_accuracy: 0.5983 - weighted_sparse_categorical_accuracy: 0.3979 - val_loss: 1.1714 - val_sparse_categorical_accuracy: 0.4663 - val_weighted_sparse_categorical_accuracy: 0.2943\n",
      "270/270 [==============================] - 2s 7ms/step - loss: 0.9453 - sparse_categorical_accuracy: 0.6014 - weighted_sparse_categorical_accuracy: 0.4141\n",
      "88/88 [==============================] - 1s 7ms/step - loss: 1.1714 - sparse_categorical_accuracy: 0.4663 - weighted_sparse_categorical_accuracy: 0.2943\n"
     ]
    }
   ],
   "source": [
    "train_metrics = []\n",
    "val_metrics = []\n",
    "\n",
    "EPOCHS = 2\n",
    "for e in range(1, EPOCHS+1):\n",
    "    print(f'\\nMAIN EPOCH: {e}')\n",
    "    for window in window_generators:\n",
    "        print()\n",
    "        \n",
    "        history = transformer_model.fit(\n",
    "                            window.train, epochs=1,\n",
    "                            validation_data=window.valid)\n",
    "\n",
    "        train_metrics.append(transformer_model.evaluate(window.train))\n",
    "        val_metrics.append(transformer_model.evaluate(window.valid))"
   ]
  },
  {
   "cell_type": "code",
   "execution_count": 43,
   "metadata": {},
   "outputs": [],
   "source": [
    "train_performance['Transformer'] = train_metrics\n",
    "val_performance['Transformer'] = val_metrics"
   ]
  },
  {
   "cell_type": "code",
   "execution_count": 44,
   "metadata": {},
   "outputs": [
    {
     "data": {
      "text/plain": [
       "{'Baseline': [[nan, 0.23500116169452667, 0.33333343267440796],\n",
       "  [nan, 0.1422237753868103, 0.3333333730697632],\n",
       "  [nan, 0.17068366706371307, 0.3333333432674408],\n",
       "  [nan, 0.23731757700443268, 0.33333349227905273]],\n",
       " 'Linear': [[1.1152030229568481, 0.49976834654808044, 0.3968563973903656],\n",
       "  [1.1156154870986938, 0.4286547601222992, 0.3810034394264221],\n",
       "  [1.1044002771377563, 0.5908458828926086, 0.4153568744659424],\n",
       "  [1.0745733976364136, 0.5443595051765442, 0.44394993782043457],\n",
       "  [1.1131197214126587, 0.5031271576881409, 0.3985099494457245],\n",
       "  [1.1136819124221802, 0.42597129940986633, 0.380776047706604],\n",
       "  [1.1032155752182007, 0.5913093686103821, 0.415955513715744],\n",
       "  [1.0734285116195679, 0.5452860593795776, 0.4454851448535919]],\n",
       " 'Transformer': [[1.004834532737732, 0.5707547068595886, 0.36977294087409973],\n",
       "  [0.9606955647468567, 0.7270471453666687, 0.35207444429397583],\n",
       "  [0.9290105104446411, 0.7082018852233887, 0.3839963376522064],\n",
       "  [0.964201033115387, 0.597484290599823, 0.39271971583366394],\n",
       "  [0.982217013835907, 0.571540892124176, 0.38838842511177063],\n",
       "  [0.9459103345870972, 0.7237386107444763, 0.3504723310470581],\n",
       "  [0.9095633029937744, 0.7050473093986511, 0.3822858929634094],\n",
       "  [0.9453175067901611, 0.6014150977134705, 0.4140772521495819]]}"
      ]
     },
     "execution_count": 44,
     "metadata": {},
     "output_type": "execute_result"
    }
   ],
   "source": [
    "train_performance"
   ]
  },
  {
   "cell_type": "code",
   "execution_count": 45,
   "metadata": {},
   "outputs": [
    {
     "data": {
      "text/plain": [
       "{'Baseline': [[nan, 0.33760684728622437, 0.40984562039375305],\n",
       "  [nan, 0.27905309200286865, 0.4584830701351166],\n",
       "  [nan, 0.31172069907188416, 0.44568681716918945],\n",
       "  [nan, 0.3404558300971985, 0.41701656579971313]],\n",
       " 'Linear': [[1.2942137718200684, 0.34971511363983154, 0.3688000440597534],\n",
       "  [1.5314561128616333, 0.3568866550922394, 0.378169447183609],\n",
       "  [1.616060495376587, 0.3851086497306824, 0.2915721535682678],\n",
       "  [1.2609810829162598, 0.3878205120563507, 0.3616245985031128],\n",
       "  [1.29726243019104, 0.3514957129955292, 0.370029479265213],\n",
       "  [1.5280370712280273, 0.3586800694465637, 0.3819565176963806],\n",
       "  [1.6138532161712646, 0.38760241866111755, 0.2951911389827728],\n",
       "  [1.2590135335922241, 0.39316239953041077, 0.36829179525375366]],\n",
       " 'Transformer': [[1.3129642009735107, 0.3365384638309479, 0.1809397041797638],\n",
       "  [1.6613001823425293, 0.4595959484577179, 0.14814011752605438],\n",
       "  [1.5038597583770752, 0.44096386432647705, 0.1685536801815033],\n",
       "  [1.165165662765503, 0.4711538553237915, 0.27929094433784485],\n",
       "  [1.336381435394287, 0.33413460850715637, 0.19119563698768616],\n",
       "  [1.6700749397277832, 0.4595959484577179, 0.1513846069574356],\n",
       "  [1.5172427892684937, 0.44096386432647705, 0.1685536801815033],\n",
       "  [1.1714304685592651, 0.4663461446762085, 0.2942929267883301]]}"
      ]
     },
     "execution_count": 45,
     "metadata": {},
     "output_type": "execute_result"
    }
   ],
   "source": [
    "val_performance"
   ]
  },
  {
   "cell_type": "markdown",
   "metadata": {},
   "source": [
    "### Save model for future usage"
   ]
  },
  {
   "cell_type": "code",
   "execution_count": 18,
   "metadata": {},
   "outputs": [
    {
     "name": "stdout",
     "output_type": "stream",
     "text": [
      "Model: \"transformer_model\"\n",
      "_________________________________________________________________\n",
      " Layer (type)                Output Shape              Param #   \n",
      "=================================================================\n",
      " positional_embedding (Posit  multiple                 3584      \n",
      " ionalEmbedding)                                                 \n",
      "                                                                 \n",
      " transformer_encoder (Transf  multiple                 2362624   \n",
      " ormerEncoder)                                                   \n",
      "                                                                 \n",
      " transformer_encoder_1 (Tran  multiple                 2362624   \n",
      " sformerEncoder)                                                 \n",
      "                                                                 \n",
      " global_average_pooling1d (G  multiple                 0         \n",
      " lobalAveragePooling1D)                                          \n",
      "                                                                 \n",
      " dense (Dense)               multiple                  8448      \n",
      "                                                                 \n",
      " dropout (Dropout)           multiple                  0         \n",
      "                                                                 \n",
      " dense_1 (Dense)             multiple                  771       \n",
      "                                                                 \n",
      "=================================================================\n",
      "Total params: 4,738,051\n",
      "Trainable params: 4,738,051\n",
      "Non-trainable params: 0\n",
      "_________________________________________________________________\n"
     ]
    }
   ],
   "source": [
    "transformer_model.summary()"
   ]
  },
  {
   "cell_type": "code",
   "execution_count": 19,
   "metadata": {},
   "outputs": [
    {
     "name": "stderr",
     "output_type": "stream",
     "text": [
      "WARNING:absl:Found untraced functions such as dense_2_layer_call_fn, dense_2_layer_call_and_return_conditional_losses, multi_head_attention_layer_call_fn, multi_head_attention_layer_call_and_return_conditional_losses, dropout_2_layer_call_fn while saving (showing 5 of 38). These functions will not be directly callable after loading.\n"
     ]
    },
    {
     "name": "stdout",
     "output_type": "stream",
     "text": [
      "INFO:tensorflow:Assets written to: models/basic_transformer_checkpoint\\assets\n"
     ]
    },
    {
     "name": "stderr",
     "output_type": "stream",
     "text": [
      "INFO:tensorflow:Assets written to: models/basic_transformer_checkpoint\\assets\n",
      "WARNING:absl:<tensorflow_addons.layers.multihead_attention.MultiHeadAttention object at 0x0000026E07D79F10> has the same name 'MultiHeadAttention' as a built-in Keras object. Consider renaming <class 'tensorflow_addons.layers.multihead_attention.MultiHeadAttention'> to avoid naming conflicts when loading with `tf.keras.models.load_model`. If renaming is not possible, pass the object in the `custom_objects` parameter of the load function.\n",
      "WARNING:absl:<tensorflow_addons.layers.multihead_attention.MultiHeadAttention object at 0x0000026E09294F70> has the same name 'MultiHeadAttention' as a built-in Keras object. Consider renaming <class 'tensorflow_addons.layers.multihead_attention.MultiHeadAttention'> to avoid naming conflicts when loading with `tf.keras.models.load_model`. If renaming is not possible, pass the object in the `custom_objects` parameter of the load function.\n"
     ]
    }
   ],
   "source": [
    "transformer_model.save('models/basic_transformer_checkpoint', include_optimizer=True)"
   ]
  },
  {
   "cell_type": "code",
   "execution_count": 22,
   "metadata": {},
   "outputs": [],
   "source": [
    "from tensorflow_addons.layers import multihead_attention\n",
    "\n",
    "custom_objects={\n",
    "    'MultiHeadAttention' : multihead_attention.MultiHeadAttention,\n",
    "    'TransformerModel' : TransformerModel}\n",
    "\n",
    "reconstructed_model = keras.models.load_model('models/basic_transformer_checkpoint',\n",
    "                                              custom_objects=custom_objects)\n"
   ]
  },
  {
   "cell_type": "code",
   "execution_count": 24,
   "metadata": {},
   "outputs": [
    {
     "name": "stdout",
     "output_type": "stream",
     "text": [
      "Epoch 1/2\n",
      "638/638 [==============================] - 40s 59ms/step - loss: 0.8315 - sparse_categorical_accuracy: 0.6993 - weighted_sparse_categorical_accuracy: 0.3950 - val_loss: 0.8886 - val_sparse_categorical_accuracy: 0.7210 - val_weighted_sparse_categorical_accuracy: 0.6870\n",
      "Epoch 2/2\n",
      "174/638 [=======>......................] - ETA: 25s - loss: 0.6626 - sparse_categorical_accuracy: 0.7633 - weighted_sparse_categorical_accuracy: 0.6517"
     ]
    },
    {
     "ename": "KeyboardInterrupt",
     "evalue": "",
     "output_type": "error",
     "traceback": [
      "\u001b[1;31m---------------------------------------------------------------------------\u001b[0m",
      "\u001b[1;31mKeyboardInterrupt\u001b[0m                         Traceback (most recent call last)",
      "\u001b[1;32m~\\AppData\\Local\\Temp\\ipykernel_23300\\1409055518.py\u001b[0m in \u001b[0;36m<cell line: 3>\u001b[1;34m()\u001b[0m\n\u001b[0;32m      3\u001b[0m \u001b[1;32mfor\u001b[0m \u001b[0mdata_gen\u001b[0m \u001b[1;32min\u001b[0m \u001b[0mwindow_generators\u001b[0m\u001b[1;33m:\u001b[0m\u001b[1;33m\u001b[0m\u001b[1;33m\u001b[0m\u001b[0m\n\u001b[0;32m      4\u001b[0m \u001b[1;33m\u001b[0m\u001b[0m\n\u001b[1;32m----> 5\u001b[1;33m     compile_and_fit(reconstructed_model, data_gen, lr=1e-4,\n\u001b[0m\u001b[0;32m      6\u001b[0m                     patience=2, max_epochs=2)\n\u001b[0;32m      7\u001b[0m \u001b[1;33m\u001b[0m\u001b[0m\n",
      "\u001b[1;32m~\\AppData\\Local\\Temp\\ipykernel_23300\\611053135.py\u001b[0m in \u001b[0;36mcompile_and_fit\u001b[1;34m(model, window, lr, max_epochs, patience)\u001b[0m\n\u001b[0;32m      9\u001b[0m                   weighted_metrics=[tf.keras.metrics.SparseCategoricalAccuracy()])\n\u001b[0;32m     10\u001b[0m \u001b[1;33m\u001b[0m\u001b[0m\n\u001b[1;32m---> 11\u001b[1;33m     history = model.fit(window.train, epochs=max_epochs,\n\u001b[0m\u001b[0;32m     12\u001b[0m                         \u001b[0mvalidation_data\u001b[0m\u001b[1;33m=\u001b[0m\u001b[0mwindow\u001b[0m\u001b[1;33m.\u001b[0m\u001b[0mvalid\u001b[0m\u001b[1;33m,\u001b[0m\u001b[1;33m\u001b[0m\u001b[1;33m\u001b[0m\u001b[0m\n\u001b[0;32m     13\u001b[0m                         callbacks=[early_stopping])\n",
      "\u001b[1;32mc:\\Users\\itber\\anaconda3\\envs\\tf\\lib\\site-packages\\keras\\utils\\traceback_utils.py\u001b[0m in \u001b[0;36merror_handler\u001b[1;34m(*args, **kwargs)\u001b[0m\n\u001b[0;32m     62\u001b[0m     \u001b[0mfiltered_tb\u001b[0m \u001b[1;33m=\u001b[0m \u001b[1;32mNone\u001b[0m\u001b[1;33m\u001b[0m\u001b[1;33m\u001b[0m\u001b[0m\n\u001b[0;32m     63\u001b[0m     \u001b[1;32mtry\u001b[0m\u001b[1;33m:\u001b[0m\u001b[1;33m\u001b[0m\u001b[1;33m\u001b[0m\u001b[0m\n\u001b[1;32m---> 64\u001b[1;33m       \u001b[1;32mreturn\u001b[0m \u001b[0mfn\u001b[0m\u001b[1;33m(\u001b[0m\u001b[1;33m*\u001b[0m\u001b[0margs\u001b[0m\u001b[1;33m,\u001b[0m \u001b[1;33m**\u001b[0m\u001b[0mkwargs\u001b[0m\u001b[1;33m)\u001b[0m\u001b[1;33m\u001b[0m\u001b[1;33m\u001b[0m\u001b[0m\n\u001b[0m\u001b[0;32m     65\u001b[0m     \u001b[1;32mexcept\u001b[0m \u001b[0mException\u001b[0m \u001b[1;32mas\u001b[0m \u001b[0me\u001b[0m\u001b[1;33m:\u001b[0m  \u001b[1;31m# pylint: disable=broad-except\u001b[0m\u001b[1;33m\u001b[0m\u001b[1;33m\u001b[0m\u001b[0m\n\u001b[0;32m     66\u001b[0m       \u001b[0mfiltered_tb\u001b[0m \u001b[1;33m=\u001b[0m \u001b[0m_process_traceback_frames\u001b[0m\u001b[1;33m(\u001b[0m\u001b[0me\u001b[0m\u001b[1;33m.\u001b[0m\u001b[0m__traceback__\u001b[0m\u001b[1;33m)\u001b[0m\u001b[1;33m\u001b[0m\u001b[1;33m\u001b[0m\u001b[0m\n",
      "\u001b[1;32mc:\\Users\\itber\\anaconda3\\envs\\tf\\lib\\site-packages\\keras\\engine\\training.py\u001b[0m in \u001b[0;36mfit\u001b[1;34m(self, x, y, batch_size, epochs, verbose, callbacks, validation_split, validation_data, shuffle, class_weight, sample_weight, initial_epoch, steps_per_epoch, validation_steps, validation_batch_size, validation_freq, max_queue_size, workers, use_multiprocessing)\u001b[0m\n\u001b[0;32m   1412\u001b[0m               \u001b[0mlogs\u001b[0m \u001b[1;33m=\u001b[0m \u001b[0mtmp_logs\u001b[0m  \u001b[1;31m# No error, now safe to assign to logs.\u001b[0m\u001b[1;33m\u001b[0m\u001b[1;33m\u001b[0m\u001b[0m\n\u001b[0;32m   1413\u001b[0m               \u001b[0mend_step\u001b[0m \u001b[1;33m=\u001b[0m \u001b[0mstep\u001b[0m \u001b[1;33m+\u001b[0m \u001b[0mdata_handler\u001b[0m\u001b[1;33m.\u001b[0m\u001b[0mstep_increment\u001b[0m\u001b[1;33m\u001b[0m\u001b[1;33m\u001b[0m\u001b[0m\n\u001b[1;32m-> 1414\u001b[1;33m               \u001b[0mcallbacks\u001b[0m\u001b[1;33m.\u001b[0m\u001b[0mon_train_batch_end\u001b[0m\u001b[1;33m(\u001b[0m\u001b[0mend_step\u001b[0m\u001b[1;33m,\u001b[0m \u001b[0mlogs\u001b[0m\u001b[1;33m)\u001b[0m\u001b[1;33m\u001b[0m\u001b[1;33m\u001b[0m\u001b[0m\n\u001b[0m\u001b[0;32m   1415\u001b[0m               \u001b[1;32mif\u001b[0m \u001b[0mself\u001b[0m\u001b[1;33m.\u001b[0m\u001b[0mstop_training\u001b[0m\u001b[1;33m:\u001b[0m\u001b[1;33m\u001b[0m\u001b[1;33m\u001b[0m\u001b[0m\n\u001b[0;32m   1416\u001b[0m                 \u001b[1;32mbreak\u001b[0m\u001b[1;33m\u001b[0m\u001b[1;33m\u001b[0m\u001b[0m\n",
      "\u001b[1;32mc:\\Users\\itber\\anaconda3\\envs\\tf\\lib\\site-packages\\keras\\callbacks.py\u001b[0m in \u001b[0;36mon_train_batch_end\u001b[1;34m(self, batch, logs)\u001b[0m\n\u001b[0;32m    436\u001b[0m     \"\"\"\n\u001b[0;32m    437\u001b[0m     \u001b[1;32mif\u001b[0m \u001b[0mself\u001b[0m\u001b[1;33m.\u001b[0m\u001b[0m_should_call_train_batch_hooks\u001b[0m\u001b[1;33m:\u001b[0m\u001b[1;33m\u001b[0m\u001b[1;33m\u001b[0m\u001b[0m\n\u001b[1;32m--> 438\u001b[1;33m       \u001b[0mself\u001b[0m\u001b[1;33m.\u001b[0m\u001b[0m_call_batch_hook\u001b[0m\u001b[1;33m(\u001b[0m\u001b[0mModeKeys\u001b[0m\u001b[1;33m.\u001b[0m\u001b[0mTRAIN\u001b[0m\u001b[1;33m,\u001b[0m \u001b[1;34m'end'\u001b[0m\u001b[1;33m,\u001b[0m \u001b[0mbatch\u001b[0m\u001b[1;33m,\u001b[0m \u001b[0mlogs\u001b[0m\u001b[1;33m=\u001b[0m\u001b[0mlogs\u001b[0m\u001b[1;33m)\u001b[0m\u001b[1;33m\u001b[0m\u001b[1;33m\u001b[0m\u001b[0m\n\u001b[0m\u001b[0;32m    439\u001b[0m \u001b[1;33m\u001b[0m\u001b[0m\n\u001b[0;32m    440\u001b[0m   \u001b[1;32mdef\u001b[0m \u001b[0mon_test_batch_begin\u001b[0m\u001b[1;33m(\u001b[0m\u001b[0mself\u001b[0m\u001b[1;33m,\u001b[0m \u001b[0mbatch\u001b[0m\u001b[1;33m,\u001b[0m \u001b[0mlogs\u001b[0m\u001b[1;33m=\u001b[0m\u001b[1;32mNone\u001b[0m\u001b[1;33m)\u001b[0m\u001b[1;33m:\u001b[0m\u001b[1;33m\u001b[0m\u001b[1;33m\u001b[0m\u001b[0m\n",
      "\u001b[1;32mc:\\Users\\itber\\anaconda3\\envs\\tf\\lib\\site-packages\\keras\\callbacks.py\u001b[0m in \u001b[0;36m_call_batch_hook\u001b[1;34m(self, mode, hook, batch, logs)\u001b[0m\n\u001b[0;32m    295\u001b[0m       \u001b[0mself\u001b[0m\u001b[1;33m.\u001b[0m\u001b[0m_call_batch_begin_hook\u001b[0m\u001b[1;33m(\u001b[0m\u001b[0mmode\u001b[0m\u001b[1;33m,\u001b[0m \u001b[0mbatch\u001b[0m\u001b[1;33m,\u001b[0m \u001b[0mlogs\u001b[0m\u001b[1;33m)\u001b[0m\u001b[1;33m\u001b[0m\u001b[1;33m\u001b[0m\u001b[0m\n\u001b[0;32m    296\u001b[0m     \u001b[1;32melif\u001b[0m \u001b[0mhook\u001b[0m \u001b[1;33m==\u001b[0m \u001b[1;34m'end'\u001b[0m\u001b[1;33m:\u001b[0m\u001b[1;33m\u001b[0m\u001b[1;33m\u001b[0m\u001b[0m\n\u001b[1;32m--> 297\u001b[1;33m       \u001b[0mself\u001b[0m\u001b[1;33m.\u001b[0m\u001b[0m_call_batch_end_hook\u001b[0m\u001b[1;33m(\u001b[0m\u001b[0mmode\u001b[0m\u001b[1;33m,\u001b[0m \u001b[0mbatch\u001b[0m\u001b[1;33m,\u001b[0m \u001b[0mlogs\u001b[0m\u001b[1;33m)\u001b[0m\u001b[1;33m\u001b[0m\u001b[1;33m\u001b[0m\u001b[0m\n\u001b[0m\u001b[0;32m    298\u001b[0m     \u001b[1;32melse\u001b[0m\u001b[1;33m:\u001b[0m\u001b[1;33m\u001b[0m\u001b[1;33m\u001b[0m\u001b[0m\n\u001b[0;32m    299\u001b[0m       raise ValueError(\n",
      "\u001b[1;32mc:\\Users\\itber\\anaconda3\\envs\\tf\\lib\\site-packages\\keras\\callbacks.py\u001b[0m in \u001b[0;36m_call_batch_end_hook\u001b[1;34m(self, mode, batch, logs)\u001b[0m\n\u001b[0;32m    316\u001b[0m       \u001b[0mself\u001b[0m\u001b[1;33m.\u001b[0m\u001b[0m_batch_times\u001b[0m\u001b[1;33m.\u001b[0m\u001b[0mappend\u001b[0m\u001b[1;33m(\u001b[0m\u001b[0mbatch_time\u001b[0m\u001b[1;33m)\u001b[0m\u001b[1;33m\u001b[0m\u001b[1;33m\u001b[0m\u001b[0m\n\u001b[0;32m    317\u001b[0m \u001b[1;33m\u001b[0m\u001b[0m\n\u001b[1;32m--> 318\u001b[1;33m     \u001b[0mself\u001b[0m\u001b[1;33m.\u001b[0m\u001b[0m_call_batch_hook_helper\u001b[0m\u001b[1;33m(\u001b[0m\u001b[0mhook_name\u001b[0m\u001b[1;33m,\u001b[0m \u001b[0mbatch\u001b[0m\u001b[1;33m,\u001b[0m \u001b[0mlogs\u001b[0m\u001b[1;33m)\u001b[0m\u001b[1;33m\u001b[0m\u001b[1;33m\u001b[0m\u001b[0m\n\u001b[0m\u001b[0;32m    319\u001b[0m \u001b[1;33m\u001b[0m\u001b[0m\n\u001b[0;32m    320\u001b[0m     \u001b[1;32mif\u001b[0m \u001b[0mlen\u001b[0m\u001b[1;33m(\u001b[0m\u001b[0mself\u001b[0m\u001b[1;33m.\u001b[0m\u001b[0m_batch_times\u001b[0m\u001b[1;33m)\u001b[0m \u001b[1;33m>=\u001b[0m \u001b[0mself\u001b[0m\u001b[1;33m.\u001b[0m\u001b[0m_num_batches_for_timing_check\u001b[0m\u001b[1;33m:\u001b[0m\u001b[1;33m\u001b[0m\u001b[1;33m\u001b[0m\u001b[0m\n",
      "\u001b[1;32mc:\\Users\\itber\\anaconda3\\envs\\tf\\lib\\site-packages\\keras\\callbacks.py\u001b[0m in \u001b[0;36m_call_batch_hook_helper\u001b[1;34m(self, hook_name, batch, logs)\u001b[0m\n\u001b[0;32m    354\u001b[0m     \u001b[1;32mfor\u001b[0m \u001b[0mcallback\u001b[0m \u001b[1;32min\u001b[0m \u001b[0mself\u001b[0m\u001b[1;33m.\u001b[0m\u001b[0mcallbacks\u001b[0m\u001b[1;33m:\u001b[0m\u001b[1;33m\u001b[0m\u001b[1;33m\u001b[0m\u001b[0m\n\u001b[0;32m    355\u001b[0m       \u001b[0mhook\u001b[0m \u001b[1;33m=\u001b[0m \u001b[0mgetattr\u001b[0m\u001b[1;33m(\u001b[0m\u001b[0mcallback\u001b[0m\u001b[1;33m,\u001b[0m \u001b[0mhook_name\u001b[0m\u001b[1;33m)\u001b[0m\u001b[1;33m\u001b[0m\u001b[1;33m\u001b[0m\u001b[0m\n\u001b[1;32m--> 356\u001b[1;33m       \u001b[0mhook\u001b[0m\u001b[1;33m(\u001b[0m\u001b[0mbatch\u001b[0m\u001b[1;33m,\u001b[0m \u001b[0mlogs\u001b[0m\u001b[1;33m)\u001b[0m\u001b[1;33m\u001b[0m\u001b[1;33m\u001b[0m\u001b[0m\n\u001b[0m\u001b[0;32m    357\u001b[0m \u001b[1;33m\u001b[0m\u001b[0m\n\u001b[0;32m    358\u001b[0m     \u001b[1;32mif\u001b[0m \u001b[0mself\u001b[0m\u001b[1;33m.\u001b[0m\u001b[0m_check_timing\u001b[0m\u001b[1;33m:\u001b[0m\u001b[1;33m\u001b[0m\u001b[1;33m\u001b[0m\u001b[0m\n",
      "\u001b[1;32mc:\\Users\\itber\\anaconda3\\envs\\tf\\lib\\site-packages\\keras\\callbacks.py\u001b[0m in \u001b[0;36mon_train_batch_end\u001b[1;34m(self, batch, logs)\u001b[0m\n\u001b[0;32m   1032\u001b[0m \u001b[1;33m\u001b[0m\u001b[0m\n\u001b[0;32m   1033\u001b[0m   \u001b[1;32mdef\u001b[0m \u001b[0mon_train_batch_end\u001b[0m\u001b[1;33m(\u001b[0m\u001b[0mself\u001b[0m\u001b[1;33m,\u001b[0m \u001b[0mbatch\u001b[0m\u001b[1;33m,\u001b[0m \u001b[0mlogs\u001b[0m\u001b[1;33m=\u001b[0m\u001b[1;32mNone\u001b[0m\u001b[1;33m)\u001b[0m\u001b[1;33m:\u001b[0m\u001b[1;33m\u001b[0m\u001b[1;33m\u001b[0m\u001b[0m\n\u001b[1;32m-> 1034\u001b[1;33m     \u001b[0mself\u001b[0m\u001b[1;33m.\u001b[0m\u001b[0m_batch_update_progbar\u001b[0m\u001b[1;33m(\u001b[0m\u001b[0mbatch\u001b[0m\u001b[1;33m,\u001b[0m \u001b[0mlogs\u001b[0m\u001b[1;33m)\u001b[0m\u001b[1;33m\u001b[0m\u001b[1;33m\u001b[0m\u001b[0m\n\u001b[0m\u001b[0;32m   1035\u001b[0m \u001b[1;33m\u001b[0m\u001b[0m\n\u001b[0;32m   1036\u001b[0m   \u001b[1;32mdef\u001b[0m \u001b[0mon_test_batch_end\u001b[0m\u001b[1;33m(\u001b[0m\u001b[0mself\u001b[0m\u001b[1;33m,\u001b[0m \u001b[0mbatch\u001b[0m\u001b[1;33m,\u001b[0m \u001b[0mlogs\u001b[0m\u001b[1;33m=\u001b[0m\u001b[1;32mNone\u001b[0m\u001b[1;33m)\u001b[0m\u001b[1;33m:\u001b[0m\u001b[1;33m\u001b[0m\u001b[1;33m\u001b[0m\u001b[0m\n",
      "\u001b[1;32mc:\\Users\\itber\\anaconda3\\envs\\tf\\lib\\site-packages\\keras\\callbacks.py\u001b[0m in \u001b[0;36m_batch_update_progbar\u001b[1;34m(self, batch, logs)\u001b[0m\n\u001b[0;32m   1104\u001b[0m     \u001b[1;32mif\u001b[0m \u001b[0mself\u001b[0m\u001b[1;33m.\u001b[0m\u001b[0mverbose\u001b[0m \u001b[1;33m==\u001b[0m \u001b[1;36m1\u001b[0m\u001b[1;33m:\u001b[0m\u001b[1;33m\u001b[0m\u001b[1;33m\u001b[0m\u001b[0m\n\u001b[0;32m   1105\u001b[0m       \u001b[1;31m# Only block async when verbose = 1.\u001b[0m\u001b[1;33m\u001b[0m\u001b[1;33m\u001b[0m\u001b[0m\n\u001b[1;32m-> 1106\u001b[1;33m       \u001b[0mlogs\u001b[0m \u001b[1;33m=\u001b[0m \u001b[0mtf_utils\u001b[0m\u001b[1;33m.\u001b[0m\u001b[0msync_to_numpy_or_python_type\u001b[0m\u001b[1;33m(\u001b[0m\u001b[0mlogs\u001b[0m\u001b[1;33m)\u001b[0m\u001b[1;33m\u001b[0m\u001b[1;33m\u001b[0m\u001b[0m\n\u001b[0m\u001b[0;32m   1107\u001b[0m       \u001b[0mself\u001b[0m\u001b[1;33m.\u001b[0m\u001b[0mprogbar\u001b[0m\u001b[1;33m.\u001b[0m\u001b[0mupdate\u001b[0m\u001b[1;33m(\u001b[0m\u001b[0mself\u001b[0m\u001b[1;33m.\u001b[0m\u001b[0mseen\u001b[0m\u001b[1;33m,\u001b[0m \u001b[0mlist\u001b[0m\u001b[1;33m(\u001b[0m\u001b[0mlogs\u001b[0m\u001b[1;33m.\u001b[0m\u001b[0mitems\u001b[0m\u001b[1;33m(\u001b[0m\u001b[1;33m)\u001b[0m\u001b[1;33m)\u001b[0m\u001b[1;33m,\u001b[0m \u001b[0mfinalize\u001b[0m\u001b[1;33m=\u001b[0m\u001b[1;32mFalse\u001b[0m\u001b[1;33m)\u001b[0m\u001b[1;33m\u001b[0m\u001b[1;33m\u001b[0m\u001b[0m\n\u001b[0;32m   1108\u001b[0m \u001b[1;33m\u001b[0m\u001b[0m\n",
      "\u001b[1;32mc:\\Users\\itber\\anaconda3\\envs\\tf\\lib\\site-packages\\keras\\utils\\tf_utils.py\u001b[0m in \u001b[0;36msync_to_numpy_or_python_type\u001b[1;34m(tensors)\u001b[0m\n\u001b[0;32m    605\u001b[0m     \u001b[1;32mreturn\u001b[0m \u001b[0mt\u001b[0m\u001b[1;33m.\u001b[0m\u001b[0mitem\u001b[0m\u001b[1;33m(\u001b[0m\u001b[1;33m)\u001b[0m \u001b[1;32mif\u001b[0m \u001b[0mnp\u001b[0m\u001b[1;33m.\u001b[0m\u001b[0mndim\u001b[0m\u001b[1;33m(\u001b[0m\u001b[0mt\u001b[0m\u001b[1;33m)\u001b[0m \u001b[1;33m==\u001b[0m \u001b[1;36m0\u001b[0m \u001b[1;32melse\u001b[0m \u001b[0mt\u001b[0m\u001b[1;33m\u001b[0m\u001b[1;33m\u001b[0m\u001b[0m\n\u001b[0;32m    606\u001b[0m \u001b[1;33m\u001b[0m\u001b[0m\n\u001b[1;32m--> 607\u001b[1;33m   \u001b[1;32mreturn\u001b[0m \u001b[0mtf\u001b[0m\u001b[1;33m.\u001b[0m\u001b[0mnest\u001b[0m\u001b[1;33m.\u001b[0m\u001b[0mmap_structure\u001b[0m\u001b[1;33m(\u001b[0m\u001b[0m_to_single_numpy_or_python_type\u001b[0m\u001b[1;33m,\u001b[0m \u001b[0mtensors\u001b[0m\u001b[1;33m)\u001b[0m\u001b[1;33m\u001b[0m\u001b[1;33m\u001b[0m\u001b[0m\n\u001b[0m\u001b[0;32m    608\u001b[0m \u001b[1;33m\u001b[0m\u001b[0m\n\u001b[0;32m    609\u001b[0m \u001b[1;33m\u001b[0m\u001b[0m\n",
      "\u001b[1;32mc:\\Users\\itber\\anaconda3\\envs\\tf\\lib\\site-packages\\tensorflow\\python\\util\\nest.py\u001b[0m in \u001b[0;36mmap_structure\u001b[1;34m(func, *structure, **kwargs)\u001b[0m\n\u001b[0;32m    914\u001b[0m \u001b[1;33m\u001b[0m\u001b[0m\n\u001b[0;32m    915\u001b[0m   return pack_sequence_as(\n\u001b[1;32m--> 916\u001b[1;33m       \u001b[0mstructure\u001b[0m\u001b[1;33m[\u001b[0m\u001b[1;36m0\u001b[0m\u001b[1;33m]\u001b[0m\u001b[1;33m,\u001b[0m \u001b[1;33m[\u001b[0m\u001b[0mfunc\u001b[0m\u001b[1;33m(\u001b[0m\u001b[1;33m*\u001b[0m\u001b[0mx\u001b[0m\u001b[1;33m)\u001b[0m \u001b[1;32mfor\u001b[0m \u001b[0mx\u001b[0m \u001b[1;32min\u001b[0m \u001b[0mentries\u001b[0m\u001b[1;33m]\u001b[0m\u001b[1;33m,\u001b[0m\u001b[1;33m\u001b[0m\u001b[1;33m\u001b[0m\u001b[0m\n\u001b[0m\u001b[0;32m    917\u001b[0m       expand_composites=expand_composites)\n\u001b[0;32m    918\u001b[0m \u001b[1;33m\u001b[0m\u001b[0m\n",
      "\u001b[1;32mc:\\Users\\itber\\anaconda3\\envs\\tf\\lib\\site-packages\\tensorflow\\python\\util\\nest.py\u001b[0m in \u001b[0;36m<listcomp>\u001b[1;34m(.0)\u001b[0m\n\u001b[0;32m    914\u001b[0m \u001b[1;33m\u001b[0m\u001b[0m\n\u001b[0;32m    915\u001b[0m   return pack_sequence_as(\n\u001b[1;32m--> 916\u001b[1;33m       \u001b[0mstructure\u001b[0m\u001b[1;33m[\u001b[0m\u001b[1;36m0\u001b[0m\u001b[1;33m]\u001b[0m\u001b[1;33m,\u001b[0m \u001b[1;33m[\u001b[0m\u001b[0mfunc\u001b[0m\u001b[1;33m(\u001b[0m\u001b[1;33m*\u001b[0m\u001b[0mx\u001b[0m\u001b[1;33m)\u001b[0m \u001b[1;32mfor\u001b[0m \u001b[0mx\u001b[0m \u001b[1;32min\u001b[0m \u001b[0mentries\u001b[0m\u001b[1;33m]\u001b[0m\u001b[1;33m,\u001b[0m\u001b[1;33m\u001b[0m\u001b[1;33m\u001b[0m\u001b[0m\n\u001b[0m\u001b[0;32m    917\u001b[0m       expand_composites=expand_composites)\n\u001b[0;32m    918\u001b[0m \u001b[1;33m\u001b[0m\u001b[0m\n",
      "\u001b[1;32mc:\\Users\\itber\\anaconda3\\envs\\tf\\lib\\site-packages\\keras\\utils\\tf_utils.py\u001b[0m in \u001b[0;36m_to_single_numpy_or_python_type\u001b[1;34m(t)\u001b[0m\n\u001b[0;32m    599\u001b[0m     \u001b[1;31m# Don't turn ragged or sparse tensors to NumPy.\u001b[0m\u001b[1;33m\u001b[0m\u001b[1;33m\u001b[0m\u001b[0m\n\u001b[0;32m    600\u001b[0m     \u001b[1;32mif\u001b[0m \u001b[0misinstance\u001b[0m\u001b[1;33m(\u001b[0m\u001b[0mt\u001b[0m\u001b[1;33m,\u001b[0m \u001b[0mtf\u001b[0m\u001b[1;33m.\u001b[0m\u001b[0mTensor\u001b[0m\u001b[1;33m)\u001b[0m\u001b[1;33m:\u001b[0m\u001b[1;33m\u001b[0m\u001b[1;33m\u001b[0m\u001b[0m\n\u001b[1;32m--> 601\u001b[1;33m       \u001b[0mt\u001b[0m \u001b[1;33m=\u001b[0m \u001b[0mt\u001b[0m\u001b[1;33m.\u001b[0m\u001b[0mnumpy\u001b[0m\u001b[1;33m(\u001b[0m\u001b[1;33m)\u001b[0m\u001b[1;33m\u001b[0m\u001b[1;33m\u001b[0m\u001b[0m\n\u001b[0m\u001b[0;32m    602\u001b[0m     \u001b[1;31m# Strings, ragged and sparse tensors don't have .item(). Return them as-is.\u001b[0m\u001b[1;33m\u001b[0m\u001b[1;33m\u001b[0m\u001b[0m\n\u001b[0;32m    603\u001b[0m     \u001b[1;32mif\u001b[0m \u001b[1;32mnot\u001b[0m \u001b[0misinstance\u001b[0m\u001b[1;33m(\u001b[0m\u001b[0mt\u001b[0m\u001b[1;33m,\u001b[0m \u001b[1;33m(\u001b[0m\u001b[0mnp\u001b[0m\u001b[1;33m.\u001b[0m\u001b[0mndarray\u001b[0m\u001b[1;33m,\u001b[0m \u001b[0mnp\u001b[0m\u001b[1;33m.\u001b[0m\u001b[0mgeneric\u001b[0m\u001b[1;33m)\u001b[0m\u001b[1;33m)\u001b[0m\u001b[1;33m:\u001b[0m\u001b[1;33m\u001b[0m\u001b[1;33m\u001b[0m\u001b[0m\n",
      "\u001b[1;32mc:\\Users\\itber\\anaconda3\\envs\\tf\\lib\\site-packages\\tensorflow\\python\\framework\\ops.py\u001b[0m in \u001b[0;36mnumpy\u001b[1;34m(self)\u001b[0m\n\u001b[0;32m   1157\u001b[0m     \"\"\"\n\u001b[0;32m   1158\u001b[0m     \u001b[1;31m# TODO(slebedev): Consider avoiding a copy for non-CPU or remote tensors.\u001b[0m\u001b[1;33m\u001b[0m\u001b[1;33m\u001b[0m\u001b[0m\n\u001b[1;32m-> 1159\u001b[1;33m     \u001b[0mmaybe_arr\u001b[0m \u001b[1;33m=\u001b[0m \u001b[0mself\u001b[0m\u001b[1;33m.\u001b[0m\u001b[0m_numpy\u001b[0m\u001b[1;33m(\u001b[0m\u001b[1;33m)\u001b[0m  \u001b[1;31m# pylint: disable=protected-access\u001b[0m\u001b[1;33m\u001b[0m\u001b[1;33m\u001b[0m\u001b[0m\n\u001b[0m\u001b[0;32m   1160\u001b[0m     \u001b[1;32mreturn\u001b[0m \u001b[0mmaybe_arr\u001b[0m\u001b[1;33m.\u001b[0m\u001b[0mcopy\u001b[0m\u001b[1;33m(\u001b[0m\u001b[1;33m)\u001b[0m \u001b[1;32mif\u001b[0m \u001b[0misinstance\u001b[0m\u001b[1;33m(\u001b[0m\u001b[0mmaybe_arr\u001b[0m\u001b[1;33m,\u001b[0m \u001b[0mnp\u001b[0m\u001b[1;33m.\u001b[0m\u001b[0mndarray\u001b[0m\u001b[1;33m)\u001b[0m \u001b[1;32melse\u001b[0m \u001b[0mmaybe_arr\u001b[0m\u001b[1;33m\u001b[0m\u001b[1;33m\u001b[0m\u001b[0m\n\u001b[0;32m   1161\u001b[0m \u001b[1;33m\u001b[0m\u001b[0m\n",
      "\u001b[1;32mc:\\Users\\itber\\anaconda3\\envs\\tf\\lib\\site-packages\\tensorflow\\python\\framework\\ops.py\u001b[0m in \u001b[0;36m_numpy\u001b[1;34m(self)\u001b[0m\n\u001b[0;32m   1123\u001b[0m   \u001b[1;32mdef\u001b[0m \u001b[0m_numpy\u001b[0m\u001b[1;33m(\u001b[0m\u001b[0mself\u001b[0m\u001b[1;33m)\u001b[0m\u001b[1;33m:\u001b[0m\u001b[1;33m\u001b[0m\u001b[1;33m\u001b[0m\u001b[0m\n\u001b[0;32m   1124\u001b[0m     \u001b[1;32mtry\u001b[0m\u001b[1;33m:\u001b[0m\u001b[1;33m\u001b[0m\u001b[1;33m\u001b[0m\u001b[0m\n\u001b[1;32m-> 1125\u001b[1;33m       \u001b[1;32mreturn\u001b[0m \u001b[0mself\u001b[0m\u001b[1;33m.\u001b[0m\u001b[0m_numpy_internal\u001b[0m\u001b[1;33m(\u001b[0m\u001b[1;33m)\u001b[0m\u001b[1;33m\u001b[0m\u001b[1;33m\u001b[0m\u001b[0m\n\u001b[0m\u001b[0;32m   1126\u001b[0m     \u001b[1;32mexcept\u001b[0m \u001b[0mcore\u001b[0m\u001b[1;33m.\u001b[0m\u001b[0m_NotOkStatusException\u001b[0m \u001b[1;32mas\u001b[0m \u001b[0me\u001b[0m\u001b[1;33m:\u001b[0m  \u001b[1;31m# pylint: disable=protected-access\u001b[0m\u001b[1;33m\u001b[0m\u001b[1;33m\u001b[0m\u001b[0m\n\u001b[0;32m   1127\u001b[0m       \u001b[1;32mraise\u001b[0m \u001b[0mcore\u001b[0m\u001b[1;33m.\u001b[0m\u001b[0m_status_to_exception\u001b[0m\u001b[1;33m(\u001b[0m\u001b[0me\u001b[0m\u001b[1;33m)\u001b[0m \u001b[1;32mfrom\u001b[0m \u001b[1;32mNone\u001b[0m  \u001b[1;31m# pylint: disable=protected-access\u001b[0m\u001b[1;33m\u001b[0m\u001b[1;33m\u001b[0m\u001b[0m\n",
      "\u001b[1;31mKeyboardInterrupt\u001b[0m: "
     ]
    }
   ],
   "source": [
    "train_metrics = []\n",
    "val_metrics = []\n",
    "for data_gen in window_generators:\n",
    "\n",
    "    compile_and_fit(reconstructed_model, data_gen, lr=1e-4,\n",
    "                    patience=2, max_epochs=2)\n",
    "\n",
    "    train_metrics.append(transformer_model.evaluate(data_gen.train))\n",
    "    val_metrics.append(transformer_model.evaluate(data_gen.valid))"
   ]
  },
  {
   "cell_type": "code",
   "execution_count": null,
   "metadata": {},
   "outputs": [],
   "source": []
  }
 ],
 "metadata": {
  "kernelspec": {
   "display_name": "Python 3.9.12 ('tf')",
   "language": "python",
   "name": "python3"
  },
  "language_info": {
   "codemirror_mode": {
    "name": "ipython",
    "version": 3
   },
   "file_extension": ".py",
   "mimetype": "text/x-python",
   "name": "python",
   "nbconvert_exporter": "python",
   "pygments_lexer": "ipython3",
   "version": "3.9.12"
  },
  "orig_nbformat": 4,
  "vscode": {
   "interpreter": {
    "hash": "2b2da39daaaff30a84159e8452ba91acfc0bbd521fb66c6aa9941f847b87bd81"
   }
  }
 },
 "nbformat": 4,
 "nbformat_minor": 2
}
