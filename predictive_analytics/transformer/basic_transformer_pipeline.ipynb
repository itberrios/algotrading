{
 "cells": [
  {
   "cell_type": "markdown",
   "metadata": {},
   "source": [
    "# Base Transformer Pipeline\n",
    "\n",
    "In this notebook we will explore the basic pipeline for Training Transformer models to classify future price trends on 15min interval stock data. We will be working with a portfolio of highly correlated stocks: AAPL, GOOG, QCOM, and TSLA. These stock were highly correlated around Aug - Oct 2022. The stock dataset does not contains timestamps, prices and trading volume, but does not contin any target variables.\n",
    "- Timestamps &#8594; Interval\n",
    "- Open/Close/High/Low Prices &#8594; Ratio\n",
    "- Trading Volume &#8594; Ratio\n",
    "\n",
    " We will create the target variable by taking the midpoint of Open/Close prices for M future days and then averaging these values. This target variable is Oridnal and has 3 possible classes: \n",
    "- 0 - downward price movement\n",
    "- 1 - no change\n",
    "- 2 - upward price movement\n",
    "\n",
    "The price movements are derived by a threshold that is defined using the IQR method to detect outliers. Currently we use a limit of 1, and every Q1 outlier is classified as \"0 - downward price movement\", every Q3 outlier is classified as \"2 - upward price movement\", and all inliers are classified as: \"1 - no change\".\n",
    "\n",
    "For this problem we will only perform predictions on the next portion of the sequence"
   ]
  },
  {
   "cell_type": "markdown",
   "metadata": {},
   "source": [
    "## Models\n",
    "\n",
    "The main model we will be testing in this notebook is a Transformer Encoder. Typically a Transformer has an Encoder and Decoder portion, where the Encoder learns information about which parts of the input sequence are relevant to eachother. The Decoder does the opposite, it takes the continuouss representation learned by the Encoder and learns to generate an ordered output sequence. For the Time Series Classifiecation problem it is unecessary to include the Decoder, we can simply use the Encoder to learn relative correlations of the inputs and add a Vanilla Feed Forward Neural Network to the end of the Encoder Blocks to obtain the desired classification. [Source](https://userweb.cs.txstate.edu/~amk181/AIME_LSTM_Attention_vs_Transformer.pdf).\n",
    "\n",
    "The Transformer Encoder also relies on positional encoding in order to implement this, we will first project the input vectors into high dimensional space as done [here](https://arxiv.org/pdf/2010.02803.pdf), and then add the positional Encoding as done in the [original paper](https://arxiv.org/pdf/1706.03762.pdf).\n",
    "\n",
    "\n",
    "In order to compare how effective the Transformer is in modeling seuqential data, we will compare its results to:\n",
    "- Baseline Model (uses previous predictions)\n",
    "- Linear Model\n",
    "- Neural Network\n",
    "- LSTM"
   ]
  },
  {
   "cell_type": "markdown",
   "metadata": {},
   "source": [
    "### Library Import"
   ]
  },
  {
   "cell_type": "code",
   "execution_count": 1,
   "metadata": {},
   "outputs": [],
   "source": [
    "import os\n",
    "import sys\n",
    "import numpy as np\n",
    "import pandas as pd\n",
    "import pandas_ta as ta\n",
    "import tensorflow as tf\n",
    "import keras\n",
    "from tensorflow.keras import layers\n",
    "import matplotlib.pyplot as plt\n",
    "\n",
    "plt.rcParams[\"figure.figsize\"] = (20, 10)\n",
    "%matplotlib inline"
   ]
  },
  {
   "cell_type": "markdown",
   "metadata": {},
   "source": [
    "### Local Imports\n",
    "\n",
    "Get base dir for imports, this allows us to look in the main algotrading folder to import local modules"
   ]
  },
  {
   "cell_type": "code",
   "execution_count": 2,
   "metadata": {},
   "outputs": [],
   "source": [
    "BASE_DIR = os.path.abspath(os.path.join(os.path.abspath('..'), '..'))\n",
    "sys.path.append(BASE_DIR)"
   ]
  },
  {
   "cell_type": "code",
   "execution_count": 3,
   "metadata": {},
   "outputs": [],
   "source": [
    "from data_utils import *\n",
    "from window_generator import WindowGenerator\n",
    "from models.basic_transformer import TransformerModel"
   ]
  },
  {
   "cell_type": "markdown",
   "metadata": {},
   "source": [
    "### Ensure that GPU is available"
   ]
  },
  {
   "cell_type": "code",
   "execution_count": 4,
   "metadata": {},
   "outputs": [
    {
     "data": {
      "text/plain": [
       "[PhysicalDevice(name='/physical_device:GPU:0', device_type='GPU')]"
      ]
     },
     "execution_count": 4,
     "metadata": {},
     "output_type": "execute_result"
    }
   ],
   "source": [
    "tf.config.list_physical_devices('GPU')"
   ]
  },
  {
   "cell_type": "markdown",
   "metadata": {},
   "source": [
    "### Get the Data\n",
    "Place all stocks in a Dictionary of DataFrames"
   ]
  },
  {
   "cell_type": "code",
   "execution_count": 5,
   "metadata": {},
   "outputs": [],
   "source": [
    "def get_trading_times(df):\n",
    "    ''' Obtains a cleaned stock price DataFrame, with trading times ranging\n",
    "        from 9:30 - 4:00\n",
    "       '''\n",
    "    \n",
    "    # ensure that all trading times are sequential, pad missing data with NaNs\n",
    "    df = df.reindex(pd.date_range(df.index[0], df.index[-1], freq='15min'))\n",
    "       \n",
    "    # get regular trading times\n",
    "    dayofweek = df.index.dayofweek\n",
    "    hour = df.index.hour\n",
    "    minute = df.index.minute\n",
    "    \n",
    "    df = df.iloc[(dayofweek <= 4)                  # only get M-F\n",
    "                 & ~((hour == 9) & (minute < 30))  # remove less than 9:30\n",
    "                 & ((hour >= 9) & (hour <= 16))    # hours 9-16\n",
    "                 & ~((hour == 16) & (minute > 0))] # remove greater than 16:00\n",
    "    \n",
    "    # remove NaNs\n",
    "    df = df[~df.isna().all(axis=1)]\n",
    "    \n",
    "    return df"
   ]
  },
  {
   "cell_type": "code",
   "execution_count": 6,
   "metadata": {},
   "outputs": [],
   "source": [
    "from glob import glob\n",
    "import re\n",
    "\n",
    "get_name = lambda x : re.search('\\w+(?=_15min)', x).group()\n",
    "\n",
    "# get all data .csvs\n",
    "data_paths = glob(os.path.join(BASE_DIR, r'data\\raw\\*.csv'))\n",
    "\n",
    "stock_dfs = {}\n",
    "for _path in data_paths:\n",
    "    _df = pd.read_csv(_path, index_col=0, parse_dates=True, infer_datetime_format=True).dropna()\n",
    "\n",
    "    # filter for regular trading times\n",
    "    _df = get_trading_times(_df)\n",
    "\n",
    "    # add price_trend to each stock DataFrame\n",
    "    _df = get_numeric_price_trend(_df, n=4)\n",
    "\n",
    "    stock_dfs.update({get_name(_path) : _df})"
   ]
  },
  {
   "cell_type": "markdown",
   "metadata": {},
   "source": [
    "### Determine Target Variable Thresholds"
   ]
  },
  {
   "cell_type": "code",
   "execution_count": 7,
   "metadata": {},
   "outputs": [],
   "source": [
    "def get_iqr(ser):\n",
    "    q1 = ser.quantile(0.25)\n",
    "    q3 = ser.quantile(0.75)\n",
    "    iqr = q3 - q1\n",
    "\n",
    "    return q1, q3, iqr\n",
    "\n",
    "def get_iqr_thresholds(x, lim=1.):\n",
    "    q1, q3, iqr = get_iqr(x)\n",
    "\n",
    "    lower = q1 - lim*iqr\n",
    "    upper = q3 + lim*iqr\n",
    "\n",
    "    return lower, upper\n"
   ]
  },
  {
   "cell_type": "markdown",
   "metadata": {},
   "source": [
    "For each stock get upper/lower IQR thresholds to dermine price movement class"
   ]
  },
  {
   "cell_type": "code",
   "execution_count": 8,
   "metadata": {},
   "outputs": [],
   "source": [
    "iqr_lim = 0.25 \n",
    "thresholds = {}\n",
    "\n",
    "for name in stock_dfs.keys():\n",
    "    lower, upper = get_iqr_thresholds(stock_dfs[name]['price_trend'], iqr_lim)\n",
    "    thresholds.update({name : (lower, upper)})\n"
   ]
  },
  {
   "cell_type": "markdown",
   "metadata": {},
   "source": [
    "Plot Price Movements with lower/upper thresholds"
   ]
  },
  {
   "cell_type": "code",
   "execution_count": 9,
   "metadata": {},
   "outputs": [
    {
     "data": {
      "image/png": "[encoded data removed]",
      "text/plain": [
       "<Figure size 720x576 with 4 Axes>"
      ]
     },
     "metadata": {
      "needs_background": "light"
     },
     "output_type": "display_data"
    }
   ],
   "source": [
    "fig = plt.figure(figsize=(10, 8))\n",
    "\n",
    "for i, name in enumerate(stock_dfs.keys()):\n",
    "    ax = plt.subplot(2, 2, i + 1)\n",
    "\n",
    "    # plot Numer Price Trend Histogram\n",
    "    ax_obj = stock_dfs[name]['price_trend'].hist(ax=ax, bins=500)\n",
    "\n",
    "    # get adjust x and y limits for display purposes\n",
    "    ylim = [val - val//20 for val in list(ax_obj.get_ylim())]\n",
    "    xlim = [val - val//2 for val in list(ax_obj.get_xlim())]\n",
    "\n",
    "    # plot IQR lines\n",
    "    lower, upper = thresholds[name]\n",
    "    ax.plot([lower, lower], ylim, color='r', linewidth=2)\n",
    "    ax.plot([upper, upper], ylim, color='r', linewidth=2)\n",
    "\n",
    "    # set xlim for nice display\n",
    "    ax.set_xlim(min(xlim), -1*min(xlim))\n",
    "    \n",
    "    # set titles and axis labels\n",
    "    ax.set_title(f'{name}', size=15)\n",
    "\n",
    "\n",
    "# set main title\n",
    "fig.suptitle('Price Trend Histograms', size=24)\n",
    "\n",
    "# add a bit of space\n",
    "fig.subplots_adjust(hspace=0.25);\n",
    "    \n"
   ]
  },
  {
   "cell_type": "markdown",
   "metadata": {},
   "source": [
    "### Add Target Variable (Price Change) to stock DataFrames"
   ]
  },
  {
   "cell_type": "code",
   "execution_count": 10,
   "metadata": {},
   "outputs": [],
   "source": [
    "# supress setting with copy warning\n",
    "# https://stackoverflow.com/questions/20625582/how-to-deal-with-settingwithcopywarning-in-pandas\n",
    "pd.options.mode.chained_assignment = None\n",
    "\n",
    "for name in stock_dfs.keys():\n",
    "\n",
    "    # get stock DataFrame\n",
    "    df = stock_dfs[name]\n",
    "\n",
    "    # get threshold bounds\n",
    "    lower, upper = thresholds[name]\n",
    "\n",
    "    # place target variable in DataFrame\n",
    "    # obtain target variable\n",
    "    df['price_change'] = 1 # price stays the same\n",
    "    df['price_change'][df['price_trend'] < lower] = 0 # downward price movement\n",
    "    df['price_change'][df['price_trend'] > upper] = 2 # upward prive movement\n",
    "\n",
    "# return setting with copy warning to default \n",
    "pd.options.mode.chained_assignment = 'warn'"
   ]
  },
  {
   "cell_type": "markdown",
   "metadata": {},
   "source": [
    "### Place plots of number of each class for each stock"
   ]
  },
  {
   "cell_type": "code",
   "execution_count": 11,
   "metadata": {},
   "outputs": [
    {
     "data": {
      "image/png": "[encoded data removed]",
      "text/plain": [
       "<Figure size 720x576 with 4 Axes>"
      ]
     },
     "metadata": {
      "needs_background": "light"
     },
     "output_type": "display_data"
    }
   ],
   "source": [
    "fig = plt.figure(figsize=(10, 8))\n",
    "\n",
    "for i, name in enumerate(stock_dfs.keys()):\n",
    "    # get plotting axes\n",
    "    ax = plt.subplot(2, 2, i + 1)\n",
    "\n",
    "    # get stock DataFrame\n",
    "    df = stock_dfs[name]\n",
    "\n",
    "    # compute class counts\n",
    "    down = np.sum(df.price_change == 0)\n",
    "    none = np.sum(df.price_change == 1)\n",
    "    up = np.sum(df.price_change == 2)\n",
    "\n",
    "    ax.barh([2.25], [0]) # expand to fit the legend\n",
    "    ax.barh([0], [down], height=0.4, edgecolor='k', label='num_downward')\n",
    "    ax.barh([1], [none], height=0.4, edgecolor='k', label='num_no_change')\n",
    "    ax.barh([2], [up], height=0.4, edgecolor='k', label='num_upward')\n",
    "    ax.set_title(name)\n",
    "    ax.set_xlabel('Number of Samples')\n",
    "    ax.set_ylabel('Price Movement Class')\n",
    "    ax.legend();\n",
    "\n",
    "# set main title\n",
    "fig.suptitle('Number of training samples in each class', size=24)\n",
    "\n",
    "# add a bit of space\n",
    "fig.subplots_adjust(hspace=0.35);\n"
   ]
  },
  {
   "cell_type": "markdown",
   "metadata": {},
   "source": [
    "### FUTURE -- Add more features\n",
    "- Price/Volume Differences\n",
    "- Time Encoding\n",
    "- Technical Indicators"
   ]
  },
  {
   "cell_type": "markdown",
   "metadata": {},
   "source": [
    "### Get train, valid, test splits for each stock"
   ]
  },
  {
   "cell_type": "code",
   "execution_count": 12,
   "metadata": {},
   "outputs": [],
   "source": [
    "train_dfs = {}\n",
    "valid_dfs = {}\n",
    "test_dfs = {}\n",
    "\n",
    "split_dfs = {}\n",
    "\n",
    "for name in stock_dfs.keys():\n",
    "\n",
    "    # get stock DataFrame\n",
    "    df = stock_dfs[name]\n",
    "\n",
    "    train = df.loc[:'2022-02-01']\n",
    "    valid = df.loc['2022-02-02':'2022-07-01']\n",
    "    test = df.loc['2022-07-01':]\n",
    "\n",
    "    train_dfs.update({name : train})\n",
    "    valid_dfs.update({name : valid})\n",
    "    test_dfs.update({name : test})\n",
    "    \n",
    "    split_dfs.update({name : [train, valid, test]})"
   ]
  },
  {
   "cell_type": "markdown",
   "metadata": {},
   "source": [
    "### Test Window Generator"
   ]
  },
  {
   "cell_type": "code",
   "execution_count": 48,
   "metadata": {},
   "outputs": [],
   "source": [
    "# use shift=0 since the targets are aligned with each feature row\n",
    "aapl_gen = WindowGenerator(\n",
    "                input_width=32, label_width=1, shift=0, \n",
    "                dfs=split_dfs['AAPL'],\n",
    "                remove_cols=['price_change', 'price_trend'],\n",
    "                batch_size=32, \n",
    "                label_columns=['price_change'])"
   ]
  },
  {
   "cell_type": "code",
   "execution_count": 49,
   "metadata": {},
   "outputs": [
    {
     "name": "stdout",
     "output_type": "stream",
     "text": [
      "Inputs shape (batch, time, features): (32, 32, 5)\n",
      "Labels shape (batch, time, features): (32, 1, 1)\n"
     ]
    }
   ],
   "source": [
    "for inputs, labels, sample_weights in aapl_gen.train.take(1):\n",
    "    print(f'Inputs shape (batch, time, features): {inputs.shape}')\n",
    "    print(f'Labels shape (batch, time, features): {labels.shape}')"
   ]
  },
  {
   "cell_type": "markdown",
   "metadata": {},
   "source": [
    "Check that each window is standardized"
   ]
  },
  {
   "cell_type": "code",
   "execution_count": null,
   "metadata": {},
   "outputs": [],
   "source": [
    "tf.math.reduce_std(inputs, axis=1)"
   ]
  },
  {
   "cell_type": "markdown",
   "metadata": {},
   "source": [
    "### Start Training Models"
   ]
  },
  {
   "cell_type": "code",
   "execution_count": 16,
   "metadata": {},
   "outputs": [],
   "source": [
    "class Baseline(tf.keras.Model):\n",
    "    def __init__(self, label_index=None):\n",
    "        super().__init__()\n",
    "        self.label_index = label_index\n",
    "\n",
    "    def call(self, inputs):\n",
    "        if self.label_index is None:\n",
    "            return inputs\n",
    "        result = inputs[:, :, self.label_index]\n",
    "        return result[:, :, tf.newaxis]"
   ]
  },
  {
   "cell_type": "code",
   "execution_count": 51,
   "metadata": {},
   "outputs": [],
   "source": [
    "single_step_gens = []\n",
    "norm_single_gens = []\n",
    "window_generators = []\n",
    "\n",
    "for name in split_dfs.keys():\n",
    "    single_gen = WindowGenerator(\n",
    "        input_width=1, label_width=1, shift=0,\n",
    "        dfs=split_dfs[name],\n",
    "        batch_size=32, \n",
    "        label_columns=['price_change'])\n",
    "\n",
    "    norm_single_gen = WindowGenerator(\n",
    "                input_width=32, label_width=1, shift=0, \n",
    "                dfs=split_dfs[name],\n",
    "                remove_cols=['price_change', 'price_trend'], batch_size=32, \n",
    "                label_columns=['price_change'], no_sequence=True)\n",
    "\n",
    "    data_gen = WindowGenerator(\n",
    "                input_width=32, label_width=1, shift=0, \n",
    "                dfs=split_dfs[name],\n",
    "                remove_cols=['price_change', 'price_trend'], batch_size=32, \n",
    "                label_columns=['price_change'])\n",
    "    \n",
    "    single_step_gens.append(single_gen)\n",
    "    window_generators.append(data_gen)\n",
    "    norm_single_gens.append(norm_single_gen)\n",
    "        "
   ]
  },
  {
   "cell_type": "code",
   "execution_count": 52,
   "metadata": {},
   "outputs": [],
   "source": [
    "train_performance = {}\n",
    "val_performance = {}"
   ]
  },
  {
   "cell_type": "code",
   "execution_count": 53,
   "metadata": {},
   "outputs": [
    {
     "name": "stdout",
     "output_type": "stream",
     "text": [
      "270/270 [==============================] - 2s 5ms/step - loss: nan - accuracy: 0.1376 - weighted_accuracy: 0.3333\n",
      "88/88 [==============================] - 0s 2ms/step - loss: nan - accuracy: 0.2724 - weighted_accuracy: 0.4619\n",
      "268/268 [==============================] - 1s 3ms/step - loss: nan - accuracy: 0.1318 - weighted_accuracy: 0.3333\n",
      "88/88 [==============================] - 0s 2ms/step - loss: nan - accuracy: 0.2755 - weighted_accuracy: 0.4804\n",
      "270/270 [==============================] - 1s 3ms/step - loss: nan - accuracy: 0.1457 - weighted_accuracy: 0.3333\n",
      "88/88 [==============================] - 0s 2ms/step - loss: nan - accuracy: 0.2850 - weighted_accuracy: 0.4566\n",
      "270/270 [==============================] - 1s 3ms/step - loss: nan - accuracy: 0.1530 - weighted_accuracy: 0.3333\n",
      "88/88 [==============================] - 0s 2ms/step - loss: nan - accuracy: 0.2600 - weighted_accuracy: 0.4405\n"
     ]
    }
   ],
   "source": [
    "train_metrics = []\n",
    "val_metrics = []\n",
    "for data_gen in single_step_gens:\n",
    "    baseline = Baseline(label_index=data_gen.column_indices['price_change'])\n",
    "\n",
    "    baseline.compile(loss=tf.keras.losses.SparseCategoricalCrossentropy(),\n",
    "                     metrics=['accuracy'],\n",
    "                     weighted_metrics=['accuracy'])\n",
    "\n",
    "    train_metrics.append(baseline.evaluate(data_gen.train))\n",
    "    val_metrics.append(baseline.evaluate(data_gen.valid))"
   ]
  },
  {
   "cell_type": "code",
   "execution_count": 54,
   "metadata": {},
   "outputs": [],
   "source": [
    "train_performance['Baseline'] = train_metrics\n",
    "val_performance['Baseline'] = val_metrics"
   ]
  },
  {
   "cell_type": "markdown",
   "metadata": {},
   "source": [
    "Stream line the process with a conveincence function"
   ]
  },
  {
   "cell_type": "code",
   "execution_count": 55,
   "metadata": {},
   "outputs": [],
   "source": [
    "def compile_and_fit(model, window, lr=1e-4, max_epochs=100, patience=2):\n",
    "    early_stopping = tf.keras.callbacks.EarlyStopping(monitor='val_loss',\n",
    "                                                      patience=patience,\n",
    "                                                      mode='min')\n",
    "\n",
    "    model.compile(loss=tf.keras.losses.SparseCategoricalCrossentropy(),\n",
    "                  optimizer=tf.keras.optimizers.Adam(learning_rate=lr),\n",
    "                  metrics=[tf.keras.metrics.SparseCategoricalAccuracy()],\n",
    "                  weighted_metrics=[tf.keras.metrics.SparseCategoricalAccuracy()])\n",
    "\n",
    "    history = model.fit(window.train, epochs=max_epochs,\n",
    "                        validation_data=window.valid,\n",
    "                        callbacks=[early_stopping])\n",
    "    return history"
   ]
  },
  {
   "cell_type": "markdown",
   "metadata": {},
   "source": [
    "### Train a Linear Model"
   ]
  },
  {
   "cell_type": "code",
   "execution_count": 59,
   "metadata": {},
   "outputs": [],
   "source": [
    "linear = tf.keras.Sequential([\n",
    "    layers.Dense(units=3, activation='softmax')\n",
    "])\n",
    "\n",
    "linear.compile(\n",
    "    loss=tf.keras.losses.SparseCategoricalCrossentropy(),\n",
    "    optimizer=tf.keras.optimizers.Adam(learning_rate=1e-2),\n",
    "    metrics=[tf.keras.metrics.SparseCategoricalAccuracy()],\n",
    "    weighted_metrics=[tf.keras.metrics.SparseCategoricalAccuracy()])"
   ]
  },
  {
   "cell_type": "code",
   "execution_count": 60,
   "metadata": {},
   "outputs": [
    {
     "name": "stdout",
     "output_type": "stream",
     "text": [
      "\n",
      "MAIN EPOCH: 1\n",
      "\n",
      "269/269 [==============================] - 2s 7ms/step - loss: 1.1741 - sparse_categorical_accuracy: 0.3802 - weighted_sparse_categorical_accuracy: 0.3345 - val_loss: 1.5676 - val_sparse_categorical_accuracy: 0.2964 - val_weighted_sparse_categorical_accuracy: 0.4020\n",
      "269/269 [==============================] - 1s 3ms/step - loss: 1.1531 - sparse_categorical_accuracy: 0.2107 - weighted_sparse_categorical_accuracy: 0.3326\n",
      "87/87 [==============================] - 0s 3ms/step - loss: 1.5676 - sparse_categorical_accuracy: 0.2964 - weighted_sparse_categorical_accuracy: 0.4020\n",
      "\n",
      "267/267 [==============================] - 1s 5ms/step - loss: 1.1296 - sparse_categorical_accuracy: 0.3815 - weighted_sparse_categorical_accuracy: 0.3365 - val_loss: 1.5458 - val_sparse_categorical_accuracy: 0.2927 - val_weighted_sparse_categorical_accuracy: 0.4473\n",
      "267/267 [==============================] - 1s 3ms/step - loss: 1.1456 - sparse_categorical_accuracy: 0.1874 - weighted_sparse_categorical_accuracy: 0.3351\n",
      "87/87 [==============================] - 0s 3ms/step - loss: 1.5458 - sparse_categorical_accuracy: 0.2927 - weighted_sparse_categorical_accuracy: 0.4473\n",
      "\n",
      "269/269 [==============================] - 1s 5ms/step - loss: 1.1232 - sparse_categorical_accuracy: 0.3807 - weighted_sparse_categorical_accuracy: 0.3416 - val_loss: 1.5161 - val_sparse_categorical_accuracy: 0.2637 - val_weighted_sparse_categorical_accuracy: 0.3930\n",
      "269/269 [==============================] - 1s 3ms/step - loss: 1.1243 - sparse_categorical_accuracy: 0.1704 - weighted_sparse_categorical_accuracy: 0.3167\n",
      "87/87 [==============================] - 0s 3ms/step - loss: 1.5161 - sparse_categorical_accuracy: 0.2637 - weighted_sparse_categorical_accuracy: 0.3930\n",
      "\n",
      "269/269 [==============================] - 1s 5ms/step - loss: 1.1138 - sparse_categorical_accuracy: 0.3763 - weighted_sparse_categorical_accuracy: 0.3556 - val_loss: 1.3670 - val_sparse_categorical_accuracy: 0.2510 - val_weighted_sparse_categorical_accuracy: 0.4067\n",
      "269/269 [==============================] - 1s 3ms/step - loss: 1.1194 - sparse_categorical_accuracy: 0.1719 - weighted_sparse_categorical_accuracy: 0.3445\n",
      "87/87 [==============================] - 0s 3ms/step - loss: 1.3670 - sparse_categorical_accuracy: 0.2510 - weighted_sparse_categorical_accuracy: 0.4067\n",
      "\n",
      "MAIN EPOCH: 2\n",
      "\n",
      "269/269 [==============================] - 1s 5ms/step - loss: 1.1158 - sparse_categorical_accuracy: 0.3359 - weighted_sparse_categorical_accuracy: 0.3380 - val_loss: 1.5422 - val_sparse_categorical_accuracy: 0.2622 - val_weighted_sparse_categorical_accuracy: 0.4316\n",
      "269/269 [==============================] - 1s 3ms/step - loss: 1.1320 - sparse_categorical_accuracy: 0.1424 - weighted_sparse_categorical_accuracy: 0.3283\n",
      "87/87 [==============================] - 0s 3ms/step - loss: 1.5422 - sparse_categorical_accuracy: 0.2622 - weighted_sparse_categorical_accuracy: 0.4316\n",
      "\n",
      "267/267 [==============================] - 1s 5ms/step - loss: 1.1112 - sparse_categorical_accuracy: 0.3977 - weighted_sparse_categorical_accuracy: 0.3513 - val_loss: 1.5335 - val_sparse_categorical_accuracy: 0.2688 - val_weighted_sparse_categorical_accuracy: 0.4524\n",
      "267/267 [==============================] - 1s 3ms/step - loss: 1.1331 - sparse_categorical_accuracy: 0.1397 - weighted_sparse_categorical_accuracy: 0.3320\n",
      "87/87 [==============================] - 0s 3ms/step - loss: 1.5335 - sparse_categorical_accuracy: 0.2688 - weighted_sparse_categorical_accuracy: 0.4524\n",
      "\n",
      "269/269 [==============================] - 1s 5ms/step - loss: 1.1117 - sparse_categorical_accuracy: 0.3906 - weighted_sparse_categorical_accuracy: 0.3536 - val_loss: 1.5070 - val_sparse_categorical_accuracy: 0.2630 - val_weighted_sparse_categorical_accuracy: 0.4194\n",
      "269/269 [==============================] - 1s 3ms/step - loss: 1.1168 - sparse_categorical_accuracy: 0.1482 - weighted_sparse_categorical_accuracy: 0.3255\n",
      "87/87 [==============================] - 0s 3ms/step - loss: 1.5070 - sparse_categorical_accuracy: 0.2630 - weighted_sparse_categorical_accuracy: 0.4194\n",
      "\n",
      "269/269 [==============================] - 1s 5ms/step - loss: 1.1111 - sparse_categorical_accuracy: 0.3757 - weighted_sparse_categorical_accuracy: 0.3580 - val_loss: 1.3629 - val_sparse_categorical_accuracy: 0.2553 - val_weighted_sparse_categorical_accuracy: 0.4140\n",
      "269/269 [==============================] - 1s 3ms/step - loss: 1.1168 - sparse_categorical_accuracy: 0.1682 - weighted_sparse_categorical_accuracy: 0.3450\n",
      "87/87 [==============================] - 0s 3ms/step - loss: 1.3629 - sparse_categorical_accuracy: 0.2553 - weighted_sparse_categorical_accuracy: 0.4140\n"
     ]
    }
   ],
   "source": [
    "train_metrics = []\n",
    "val_metrics = []\n",
    "\n",
    "EPOCHS = 2\n",
    "for e in range(1, EPOCHS+1):\n",
    "    print(f'\\nMAIN EPOCH: {e}')\n",
    "    for data_gen in norm_single_gens:\n",
    "        print()\n",
    "        \n",
    "        history = linear.fit(\n",
    "                            data_gen.train, epochs=1,\n",
    "                            validation_data=data_gen.valid)\n",
    "\n",
    "        train_metrics.append(linear.evaluate(data_gen.train))\n",
    "        val_metrics.append(linear.evaluate(data_gen.valid))"
   ]
  },
  {
   "cell_type": "code",
   "execution_count": 64,
   "metadata": {},
   "outputs": [],
   "source": [
    "train_performance['Linear'] = train_metrics\n",
    "val_performance['Linear'] = val_metrics"
   ]
  },
  {
   "cell_type": "markdown",
   "metadata": {},
   "source": [
    "### Train the Transformer Model"
   ]
  },
  {
   "cell_type": "code",
   "execution_count": 65,
   "metadata": {},
   "outputs": [],
   "source": [
    "transformer_model = TransformerModel(\n",
    "            n_heads=2,\n",
    "            d_model=512,\n",
    "            ff_dim=256,\n",
    "            num_transformer_blocks=2,\n",
    "            mlp_units=[256],\n",
    "            n_outputs=3,\n",
    "            dropout=0.1,\n",
    "            mlp_dropout=0.1)"
   ]
  },
  {
   "cell_type": "markdown",
   "metadata": {},
   "source": [
    "Train model on each dataset once per epoch\n",
    "\n",
    "TODO - add new functions to make this easier"
   ]
  },
  {
   "cell_type": "code",
   "execution_count": 66,
   "metadata": {},
   "outputs": [],
   "source": [
    "LEARN_RATE = 1e-4"
   ]
  },
  {
   "cell_type": "code",
   "execution_count": 67,
   "metadata": {},
   "outputs": [],
   "source": [
    "transformer_model.compile(\n",
    "                  loss=tf.keras.losses.SparseCategoricalCrossentropy(),\n",
    "                  optimizer=tf.keras.optimizers.Adam(learning_rate=LEARN_RATE),\n",
    "                  metrics=[tf.keras.metrics.SparseCategoricalAccuracy()],\n",
    "                  weighted_metrics=[tf.keras.metrics.SparseCategoricalAccuracy()])"
   ]
  },
  {
   "cell_type": "code",
   "execution_count": 73,
   "metadata": {},
   "outputs": [
    {
     "name": "stdout",
     "output_type": "stream",
     "text": [
      "\n",
      "MAIN EPOCH: 1\n",
      "\n",
      "269/269 [==============================] - 20s 60ms/step - loss: 0.8968 - sparse_categorical_accuracy: 0.6931 - weighted_sparse_categorical_accuracy: 0.3377 - val_loss: 1.5284 - val_sparse_categorical_accuracy: 0.4897 - val_weighted_sparse_categorical_accuracy: 0.1589\n",
      "269/269 [==============================] - 2s 9ms/step - loss: 0.9062 - sparse_categorical_accuracy: 0.7165 - weighted_sparse_categorical_accuracy: 0.3329\n",
      "87/87 [==============================] - 1s 9ms/step - loss: 1.5284 - sparse_categorical_accuracy: 0.4897 - weighted_sparse_categorical_accuracy: 0.1589\n",
      "\n",
      "267/267 [==============================] - 16s 59ms/step - loss: 0.8703 - sparse_categorical_accuracy: 0.7192 - weighted_sparse_categorical_accuracy: 0.3329 - val_loss: 1.5432 - val_sparse_categorical_accuracy: 0.4922 - val_weighted_sparse_categorical_accuracy: 0.1577\n",
      "267/267 [==============================] - 2s 9ms/step - loss: 0.8876 - sparse_categorical_accuracy: 0.7192 - weighted_sparse_categorical_accuracy: 0.3329\n",
      "87/87 [==============================] - 1s 9ms/step - loss: 1.5432 - sparse_categorical_accuracy: 0.4922 - weighted_sparse_categorical_accuracy: 0.1577\n",
      "\n",
      "269/269 [==============================] - 16s 60ms/step - loss: 0.8736 - sparse_categorical_accuracy: 0.7082 - weighted_sparse_categorical_accuracy: 0.3328 - val_loss: 1.5070 - val_sparse_categorical_accuracy: 0.4755 - val_weighted_sparse_categorical_accuracy: 0.1571\n",
      "269/269 [==============================] - 2s 9ms/step - loss: 0.9236 - sparse_categorical_accuracy: 0.7082 - weighted_sparse_categorical_accuracy: 0.3328\n",
      "87/87 [==============================] - 1s 9ms/step - loss: 1.5070 - sparse_categorical_accuracy: 0.4755 - weighted_sparse_categorical_accuracy: 0.1571\n",
      "\n",
      "269/269 [==============================] - 16s 60ms/step - loss: 0.9100 - sparse_categorical_accuracy: 0.6834 - weighted_sparse_categorical_accuracy: 0.3362 - val_loss: 1.3140 - val_sparse_categorical_accuracy: 0.5124 - val_weighted_sparse_categorical_accuracy: 0.2328\n",
      "269/269 [==============================] - 3s 9ms/step - loss: 0.9557 - sparse_categorical_accuracy: 0.6702 - weighted_sparse_categorical_accuracy: 0.3654\n",
      "87/87 [==============================] - 1s 9ms/step - loss: 1.3140 - sparse_categorical_accuracy: 0.5124 - weighted_sparse_categorical_accuracy: 0.2328\n",
      "\n",
      "MAIN EPOCH: 2\n",
      "\n",
      "269/269 [==============================] - 16s 61ms/step - loss: 0.8522 - sparse_categorical_accuracy: 0.7152 - weighted_sparse_categorical_accuracy: 0.3404 - val_loss: 1.5109 - val_sparse_categorical_accuracy: 0.4912 - val_weighted_sparse_categorical_accuracy: 0.1672\n",
      "269/269 [==============================] - 3s 9ms/step - loss: 0.8584 - sparse_categorical_accuracy: 0.7151 - weighted_sparse_categorical_accuracy: 0.3462\n",
      "87/87 [==============================] - 1s 9ms/step - loss: 1.5109 - sparse_categorical_accuracy: 0.4912 - weighted_sparse_categorical_accuracy: 0.1672\n",
      "\n",
      "267/267 [==============================] - 16s 60ms/step - loss: 0.8400 - sparse_categorical_accuracy: 0.7179 - weighted_sparse_categorical_accuracy: 0.3364 - val_loss: 1.5297 - val_sparse_categorical_accuracy: 0.4973 - val_weighted_sparse_categorical_accuracy: 0.1727\n",
      "267/267 [==============================] - 2s 9ms/step - loss: 0.8473 - sparse_categorical_accuracy: 0.7164 - weighted_sparse_categorical_accuracy: 0.3533\n",
      "87/87 [==============================] - 1s 9ms/step - loss: 1.5297 - sparse_categorical_accuracy: 0.4973 - weighted_sparse_categorical_accuracy: 0.1727\n",
      "\n",
      "269/269 [==============================] - 16s 60ms/step - loss: 0.8384 - sparse_categorical_accuracy: 0.7112 - weighted_sparse_categorical_accuracy: 0.3539 - val_loss: 1.5008 - val_sparse_categorical_accuracy: 0.4921 - val_weighted_sparse_categorical_accuracy: 0.2191\n",
      "269/269 [==============================] - 2s 9ms/step - loss: 0.8723 - sparse_categorical_accuracy: 0.7004 - weighted_sparse_categorical_accuracy: 0.3995\n",
      "87/87 [==============================] - 1s 9ms/step - loss: 1.5008 - sparse_categorical_accuracy: 0.4921 - weighted_sparse_categorical_accuracy: 0.2191\n",
      "\n",
      "269/269 [==============================] - 16s 60ms/step - loss: 0.8935 - sparse_categorical_accuracy: 0.6764 - weighted_sparse_categorical_accuracy: 0.3639 - val_loss: 1.2943 - val_sparse_categorical_accuracy: 0.5286 - val_weighted_sparse_categorical_accuracy: 0.2856\n",
      "269/269 [==============================] - 2s 9ms/step - loss: 0.9226 - sparse_categorical_accuracy: 0.6607 - weighted_sparse_categorical_accuracy: 0.4060\n",
      "87/87 [==============================] - 1s 9ms/step - loss: 1.2943 - sparse_categorical_accuracy: 0.5286 - weighted_sparse_categorical_accuracy: 0.2856\n"
     ]
    }
   ],
   "source": [
    "train_metrics = []\n",
    "val_metrics = []\n",
    "\n",
    "EPOCHS = 2\n",
    "for e in range(1, EPOCHS+1):\n",
    "    print(f'\\nMAIN EPOCH: {e}')\n",
    "    for window in window_generators:\n",
    "        print()\n",
    "        \n",
    "        history = transformer_model.fit(\n",
    "                            window.train, epochs=1,\n",
    "                            validation_data=window.valid)\n",
    "\n",
    "        train_metrics.append(transformer_model.evaluate(window.train))\n",
    "        val_metrics.append(transformer_model.evaluate(window.valid))"
   ]
  },
  {
   "cell_type": "code",
   "execution_count": 74,
   "metadata": {},
   "outputs": [
    {
     "data": {
      "text/plain": [
       "[[0.9061693549156189, 0.7164942622184753, 0.33285611867904663],\n",
       " [0.8876495361328125, 0.719203770160675, 0.33286476135253906],\n",
       " [0.9235844612121582, 0.7082219123840332, 0.33282914757728577],\n",
       " [0.9556822180747986, 0.6702313423156738, 0.36543354392051697],\n",
       " [0.8584238290786743, 0.7150993943214417, 0.3462086319923401],\n",
       " [0.8472573757171631, 0.7163934707641602, 0.35327017307281494],\n",
       " [0.8722885847091675, 0.7004302740097046, 0.3995167315006256],\n",
       " [0.9225524663925171, 0.6606997847557068, 0.40595096349716187]]"
      ]
     },
     "execution_count": 74,
     "metadata": {},
     "output_type": "execute_result"
    }
   ],
   "source": [
    "train_metrics"
   ]
  },
  {
   "cell_type": "code",
   "execution_count": 75,
   "metadata": {},
   "outputs": [
    {
     "data": {
      "text/plain": [
       "[[1.5284138917922974, 0.4897371232509613, 0.1589130461215973],\n",
       " [1.5431854724884033, 0.49220165610313416, 0.15770798921585083],\n",
       " [1.5070111751556396, 0.4755043089389801, 0.15706345438957214],\n",
       " [1.3139506578445435, 0.5124234557151794, 0.232777401804924],\n",
       " [1.5109220743179321, 0.4911775290966034, 0.1671837866306305],\n",
       " [1.529694676399231, 0.49727964401245117, 0.17274165153503418],\n",
       " [1.5008020401000977, 0.4920749366283417, 0.21911107003688812],\n",
       " [1.2943109273910522, 0.5286279916763306, 0.28556808829307556]]"
      ]
     },
     "execution_count": 75,
     "metadata": {},
     "output_type": "execute_result"
    }
   ],
   "source": [
    "val_metrics"
   ]
  },
  {
   "cell_type": "code",
   "execution_count": 76,
   "metadata": {},
   "outputs": [],
   "source": [
    "train_performance['Transformer'] = train_metrics\n",
    "val_performance['Transformer'] = val_metrics"
   ]
  },
  {
   "cell_type": "code",
   "execution_count": 77,
   "metadata": {},
   "outputs": [
    {
     "data": {
      "text/plain": [
       "{'Baseline': [[nan, 0.1375955492258072, 0.33333343267440796],\n",
       "  [nan, 0.13183993101119995, 0.33333346247673035],\n",
       "  [nan, 0.14565469324588776, 0.3333335220813751],\n",
       "  [nan, 0.15299977362155914, 0.33333370089530945]],\n",
       " 'Transformer': [[0.9061693549156189, 0.7164942622184753, 0.33285611867904663],\n",
       "  [0.8876495361328125, 0.719203770160675, 0.33286476135253906],\n",
       "  [0.9235844612121582, 0.7082219123840332, 0.33282914757728577],\n",
       "  [0.9556822180747986, 0.6702313423156738, 0.36543354392051697],\n",
       "  [0.8584238290786743, 0.7150993943214417, 0.3462086319923401],\n",
       "  [0.8472573757171631, 0.7163934707641602, 0.35327017307281494],\n",
       "  [0.8722885847091675, 0.7004302740097046, 0.3995167315006256],\n",
       "  [0.9225524663925171, 0.6606997847557068, 0.40595096349716187]],\n",
       " 'Linear': [[1.1530777215957642, 0.21074043214321136, 0.3326411247253418],\n",
       "  [1.1456091403961182, 0.18735362589359283, 0.33508434891700745],\n",
       "  [1.1242986917495728, 0.17036864161491394, 0.3166752755641937],\n",
       "  [1.1194484233856201, 0.17191676795482635, 0.34452325105667114],\n",
       "  [1.132006287574768, 0.14239218831062317, 0.3283451795578003],\n",
       "  [1.1330872774124146, 0.13969555497169495, 0.33197543025016785],\n",
       "  [1.1168376207351685, 0.1481567621231079, 0.32546132802963257],\n",
       "  [1.1168242692947388, 0.1681971400976181, 0.34499332308769226]]}"
      ]
     },
     "execution_count": 77,
     "metadata": {},
     "output_type": "execute_result"
    }
   ],
   "source": [
    "train_performance"
   ]
  },
  {
   "cell_type": "code",
   "execution_count": 78,
   "metadata": {},
   "outputs": [
    {
     "data": {
      "text/plain": [
       "{'Baseline': [[nan, 0.27243590354919434, 0.4618994891643524],\n",
       "  [nan, 0.27546629309654236, 0.4803633987903595],\n",
       "  [nan, 0.2850017845630646, 0.4566367566585541],\n",
       "  [nan, 0.2599714994430542, 0.44045841693878174]],\n",
       " 'Transformer': [[1.5284138917922974, 0.4897371232509613, 0.1589130461215973],\n",
       "  [1.5431854724884033, 0.49220165610313416, 0.15770798921585083],\n",
       "  [1.5070111751556396, 0.4755043089389801, 0.15706345438957214],\n",
       "  [1.3139506578445435, 0.5124234557151794, 0.232777401804924],\n",
       "  [1.5109220743179321, 0.4911775290966034, 0.1671837866306305],\n",
       "  [1.529694676399231, 0.49727964401245117, 0.17274165153503418],\n",
       "  [1.5008020401000977, 0.4920749366283417, 0.21911107003688812],\n",
       "  [1.2943109273910522, 0.5286279916763306, 0.28556808829307556]],\n",
       " 'Linear': [[1.5675842761993408, 0.2963629961013794, 0.40204453468322754],\n",
       "  [1.545818567276001, 0.29270946979522705, 0.44725921750068665],\n",
       "  [1.516089677810669, 0.2636887729167938, 0.3929670751094818],\n",
       "  [1.367013931274414, 0.25099027156829834, 0.40669381618499756],\n",
       "  [1.542209506034851, 0.26215341687202454, 0.4316013753414154],\n",
       "  [1.5335228443145752, 0.26877039670944214, 0.4523734450340271],\n",
       "  [1.5070356130599976, 0.2629683017730713, 0.4194065034389496],\n",
       "  [1.3629146814346313, 0.2553114891052246, 0.41401612758636475]]}"
      ]
     },
     "execution_count": 78,
     "metadata": {},
     "output_type": "execute_result"
    }
   ],
   "source": [
    "val_performance"
   ]
  },
  {
   "cell_type": "markdown",
   "metadata": {},
   "source": [
    "### Save model for future usage"
   ]
  },
  {
   "cell_type": "code",
   "execution_count": 18,
   "metadata": {},
   "outputs": [
    {
     "name": "stdout",
     "output_type": "stream",
     "text": [
      "Model: \"transformer_model\"\n",
      "_________________________________________________________________\n",
      " Layer (type)                Output Shape              Param #   \n",
      "=================================================================\n",
      " positional_embedding (Posit  multiple                 3584      \n",
      " ionalEmbedding)                                                 \n",
      "                                                                 \n",
      " transformer_encoder (Transf  multiple                 2362624   \n",
      " ormerEncoder)                                                   \n",
      "                                                                 \n",
      " transformer_encoder_1 (Tran  multiple                 2362624   \n",
      " sformerEncoder)                                                 \n",
      "                                                                 \n",
      " global_average_pooling1d (G  multiple                 0         \n",
      " lobalAveragePooling1D)                                          \n",
      "                                                                 \n",
      " dense (Dense)               multiple                  8448      \n",
      "                                                                 \n",
      " dropout (Dropout)           multiple                  0         \n",
      "                                                                 \n",
      " dense_1 (Dense)             multiple                  771       \n",
      "                                                                 \n",
      "=================================================================\n",
      "Total params: 4,738,051\n",
      "Trainable params: 4,738,051\n",
      "Non-trainable params: 0\n",
      "_________________________________________________________________\n"
     ]
    }
   ],
   "source": [
    "transformer_model.summary()"
   ]
  },
  {
   "cell_type": "code",
   "execution_count": 19,
   "metadata": {},
   "outputs": [
    {
     "name": "stderr",
     "output_type": "stream",
     "text": [
      "WARNING:absl:Found untraced functions such as dense_2_layer_call_fn, dense_2_layer_call_and_return_conditional_losses, multi_head_attention_layer_call_fn, multi_head_attention_layer_call_and_return_conditional_losses, dropout_2_layer_call_fn while saving (showing 5 of 38). These functions will not be directly callable after loading.\n"
     ]
    },
    {
     "name": "stdout",
     "output_type": "stream",
     "text": [
      "INFO:tensorflow:Assets written to: models/basic_transformer_checkpoint\\assets\n"
     ]
    },
    {
     "name": "stderr",
     "output_type": "stream",
     "text": [
      "INFO:tensorflow:Assets written to: models/basic_transformer_checkpoint\\assets\n",
      "WARNING:absl:<tensorflow_addons.layers.multihead_attention.MultiHeadAttention object at 0x0000026E07D79F10> has the same name 'MultiHeadAttention' as a built-in Keras object. Consider renaming <class 'tensorflow_addons.layers.multihead_attention.MultiHeadAttention'> to avoid naming conflicts when loading with `tf.keras.models.load_model`. If renaming is not possible, pass the object in the `custom_objects` parameter of the load function.\n",
      "WARNING:absl:<tensorflow_addons.layers.multihead_attention.MultiHeadAttention object at 0x0000026E09294F70> has the same name 'MultiHeadAttention' as a built-in Keras object. Consider renaming <class 'tensorflow_addons.layers.multihead_attention.MultiHeadAttention'> to avoid naming conflicts when loading with `tf.keras.models.load_model`. If renaming is not possible, pass the object in the `custom_objects` parameter of the load function.\n"
     ]
    }
   ],
   "source": [
    "transformer_model.save('models/basic_transformer_checkpoint', include_optimizer=True)"
   ]
  },
  {
   "cell_type": "code",
   "execution_count": 22,
   "metadata": {},
   "outputs": [],
   "source": [
    "from tensorflow_addons.layers import multihead_attention\n",
    "\n",
    "custom_objects={\n",
    "    'MultiHeadAttention' : multihead_attention.MultiHeadAttention,\n",
    "    'TransformerModel' : TransformerModel}\n",
    "\n",
    "reconstructed_model = keras.models.load_model('models/basic_transformer_checkpoint',\n",
    "                                              custom_objects=custom_objects)\n"
   ]
  },
  {
   "cell_type": "code",
   "execution_count": 24,
   "metadata": {},
   "outputs": [
    {
     "name": "stdout",
     "output_type": "stream",
     "text": [
      "Epoch 1/2\n",
      "638/638 [==============================] - 40s 59ms/step - loss: 0.8315 - sparse_categorical_accuracy: 0.6993 - weighted_sparse_categorical_accuracy: 0.3950 - val_loss: 0.8886 - val_sparse_categorical_accuracy: 0.7210 - val_weighted_sparse_categorical_accuracy: 0.6870\n",
      "Epoch 2/2\n",
      "174/638 [=======>......................] - ETA: 25s - loss: 0.6626 - sparse_categorical_accuracy: 0.7633 - weighted_sparse_categorical_accuracy: 0.6517"
     ]
    },
    {
     "ename": "KeyboardInterrupt",
     "evalue": "",
     "output_type": "error",
     "traceback": [
      "\u001b[1;31m---------------------------------------------------------------------------\u001b[0m",
      "\u001b[1;31mKeyboardInterrupt\u001b[0m                         Traceback (most recent call last)",
      "\u001b[1;32m~\\AppData\\Local\\Temp\\ipykernel_23300\\1409055518.py\u001b[0m in \u001b[0;36m<cell line: 3>\u001b[1;34m()\u001b[0m\n\u001b[0;32m      3\u001b[0m \u001b[1;32mfor\u001b[0m \u001b[0mdata_gen\u001b[0m \u001b[1;32min\u001b[0m \u001b[0mwindow_generators\u001b[0m\u001b[1;33m:\u001b[0m\u001b[1;33m\u001b[0m\u001b[1;33m\u001b[0m\u001b[0m\n\u001b[0;32m      4\u001b[0m \u001b[1;33m\u001b[0m\u001b[0m\n\u001b[1;32m----> 5\u001b[1;33m     compile_and_fit(reconstructed_model, data_gen, lr=1e-4,\n\u001b[0m\u001b[0;32m      6\u001b[0m                     patience=2, max_epochs=2)\n\u001b[0;32m      7\u001b[0m \u001b[1;33m\u001b[0m\u001b[0m\n",
      "\u001b[1;32m~\\AppData\\Local\\Temp\\ipykernel_23300\\611053135.py\u001b[0m in \u001b[0;36mcompile_and_fit\u001b[1;34m(model, window, lr, max_epochs, patience)\u001b[0m\n\u001b[0;32m      9\u001b[0m                   weighted_metrics=[tf.keras.metrics.SparseCategoricalAccuracy()])\n\u001b[0;32m     10\u001b[0m \u001b[1;33m\u001b[0m\u001b[0m\n\u001b[1;32m---> 11\u001b[1;33m     history = model.fit(window.train, epochs=max_epochs,\n\u001b[0m\u001b[0;32m     12\u001b[0m                         \u001b[0mvalidation_data\u001b[0m\u001b[1;33m=\u001b[0m\u001b[0mwindow\u001b[0m\u001b[1;33m.\u001b[0m\u001b[0mvalid\u001b[0m\u001b[1;33m,\u001b[0m\u001b[1;33m\u001b[0m\u001b[1;33m\u001b[0m\u001b[0m\n\u001b[0;32m     13\u001b[0m                         callbacks=[early_stopping])\n",
      "\u001b[1;32mc:\\Users\\itber\\anaconda3\\envs\\tf\\lib\\site-packages\\keras\\utils\\traceback_utils.py\u001b[0m in \u001b[0;36merror_handler\u001b[1;34m(*args, **kwargs)\u001b[0m\n\u001b[0;32m     62\u001b[0m     \u001b[0mfiltered_tb\u001b[0m \u001b[1;33m=\u001b[0m \u001b[1;32mNone\u001b[0m\u001b[1;33m\u001b[0m\u001b[1;33m\u001b[0m\u001b[0m\n\u001b[0;32m     63\u001b[0m     \u001b[1;32mtry\u001b[0m\u001b[1;33m:\u001b[0m\u001b[1;33m\u001b[0m\u001b[1;33m\u001b[0m\u001b[0m\n\u001b[1;32m---> 64\u001b[1;33m       \u001b[1;32mreturn\u001b[0m \u001b[0mfn\u001b[0m\u001b[1;33m(\u001b[0m\u001b[1;33m*\u001b[0m\u001b[0margs\u001b[0m\u001b[1;33m,\u001b[0m \u001b[1;33m**\u001b[0m\u001b[0mkwargs\u001b[0m\u001b[1;33m)\u001b[0m\u001b[1;33m\u001b[0m\u001b[1;33m\u001b[0m\u001b[0m\n\u001b[0m\u001b[0;32m     65\u001b[0m     \u001b[1;32mexcept\u001b[0m \u001b[0mException\u001b[0m \u001b[1;32mas\u001b[0m \u001b[0me\u001b[0m\u001b[1;33m:\u001b[0m  \u001b[1;31m# pylint: disable=broad-except\u001b[0m\u001b[1;33m\u001b[0m\u001b[1;33m\u001b[0m\u001b[0m\n\u001b[0;32m     66\u001b[0m       \u001b[0mfiltered_tb\u001b[0m \u001b[1;33m=\u001b[0m \u001b[0m_process_traceback_frames\u001b[0m\u001b[1;33m(\u001b[0m\u001b[0me\u001b[0m\u001b[1;33m.\u001b[0m\u001b[0m__traceback__\u001b[0m\u001b[1;33m)\u001b[0m\u001b[1;33m\u001b[0m\u001b[1;33m\u001b[0m\u001b[0m\n",
      "\u001b[1;32mc:\\Users\\itber\\anaconda3\\envs\\tf\\lib\\site-packages\\keras\\engine\\training.py\u001b[0m in \u001b[0;36mfit\u001b[1;34m(self, x, y, batch_size, epochs, verbose, callbacks, validation_split, validation_data, shuffle, class_weight, sample_weight, initial_epoch, steps_per_epoch, validation_steps, validation_batch_size, validation_freq, max_queue_size, workers, use_multiprocessing)\u001b[0m\n\u001b[0;32m   1412\u001b[0m               \u001b[0mlogs\u001b[0m \u001b[1;33m=\u001b[0m \u001b[0mtmp_logs\u001b[0m  \u001b[1;31m# No error, now safe to assign to logs.\u001b[0m\u001b[1;33m\u001b[0m\u001b[1;33m\u001b[0m\u001b[0m\n\u001b[0;32m   1413\u001b[0m               \u001b[0mend_step\u001b[0m \u001b[1;33m=\u001b[0m \u001b[0mstep\u001b[0m \u001b[1;33m+\u001b[0m \u001b[0mdata_handler\u001b[0m\u001b[1;33m.\u001b[0m\u001b[0mstep_increment\u001b[0m\u001b[1;33m\u001b[0m\u001b[1;33m\u001b[0m\u001b[0m\n\u001b[1;32m-> 1414\u001b[1;33m               \u001b[0mcallbacks\u001b[0m\u001b[1;33m.\u001b[0m\u001b[0mon_train_batch_end\u001b[0m\u001b[1;33m(\u001b[0m\u001b[0mend_step\u001b[0m\u001b[1;33m,\u001b[0m \u001b[0mlogs\u001b[0m\u001b[1;33m)\u001b[0m\u001b[1;33m\u001b[0m\u001b[1;33m\u001b[0m\u001b[0m\n\u001b[0m\u001b[0;32m   1415\u001b[0m               \u001b[1;32mif\u001b[0m \u001b[0mself\u001b[0m\u001b[1;33m.\u001b[0m\u001b[0mstop_training\u001b[0m\u001b[1;33m:\u001b[0m\u001b[1;33m\u001b[0m\u001b[1;33m\u001b[0m\u001b[0m\n\u001b[0;32m   1416\u001b[0m                 \u001b[1;32mbreak\u001b[0m\u001b[1;33m\u001b[0m\u001b[1;33m\u001b[0m\u001b[0m\n",
      "\u001b[1;32mc:\\Users\\itber\\anaconda3\\envs\\tf\\lib\\site-packages\\keras\\callbacks.py\u001b[0m in \u001b[0;36mon_train_batch_end\u001b[1;34m(self, batch, logs)\u001b[0m\n\u001b[0;32m    436\u001b[0m     \"\"\"\n\u001b[0;32m    437\u001b[0m     \u001b[1;32mif\u001b[0m \u001b[0mself\u001b[0m\u001b[1;33m.\u001b[0m\u001b[0m_should_call_train_batch_hooks\u001b[0m\u001b[1;33m:\u001b[0m\u001b[1;33m\u001b[0m\u001b[1;33m\u001b[0m\u001b[0m\n\u001b[1;32m--> 438\u001b[1;33m       \u001b[0mself\u001b[0m\u001b[1;33m.\u001b[0m\u001b[0m_call_batch_hook\u001b[0m\u001b[1;33m(\u001b[0m\u001b[0mModeKeys\u001b[0m\u001b[1;33m.\u001b[0m\u001b[0mTRAIN\u001b[0m\u001b[1;33m,\u001b[0m \u001b[1;34m'end'\u001b[0m\u001b[1;33m,\u001b[0m \u001b[0mbatch\u001b[0m\u001b[1;33m,\u001b[0m \u001b[0mlogs\u001b[0m\u001b[1;33m=\u001b[0m\u001b[0mlogs\u001b[0m\u001b[1;33m)\u001b[0m\u001b[1;33m\u001b[0m\u001b[1;33m\u001b[0m\u001b[0m\n\u001b[0m\u001b[0;32m    439\u001b[0m \u001b[1;33m\u001b[0m\u001b[0m\n\u001b[0;32m    440\u001b[0m   \u001b[1;32mdef\u001b[0m \u001b[0mon_test_batch_begin\u001b[0m\u001b[1;33m(\u001b[0m\u001b[0mself\u001b[0m\u001b[1;33m,\u001b[0m \u001b[0mbatch\u001b[0m\u001b[1;33m,\u001b[0m \u001b[0mlogs\u001b[0m\u001b[1;33m=\u001b[0m\u001b[1;32mNone\u001b[0m\u001b[1;33m)\u001b[0m\u001b[1;33m:\u001b[0m\u001b[1;33m\u001b[0m\u001b[1;33m\u001b[0m\u001b[0m\n",
      "\u001b[1;32mc:\\Users\\itber\\anaconda3\\envs\\tf\\lib\\site-packages\\keras\\callbacks.py\u001b[0m in \u001b[0;36m_call_batch_hook\u001b[1;34m(self, mode, hook, batch, logs)\u001b[0m\n\u001b[0;32m    295\u001b[0m       \u001b[0mself\u001b[0m\u001b[1;33m.\u001b[0m\u001b[0m_call_batch_begin_hook\u001b[0m\u001b[1;33m(\u001b[0m\u001b[0mmode\u001b[0m\u001b[1;33m,\u001b[0m \u001b[0mbatch\u001b[0m\u001b[1;33m,\u001b[0m \u001b[0mlogs\u001b[0m\u001b[1;33m)\u001b[0m\u001b[1;33m\u001b[0m\u001b[1;33m\u001b[0m\u001b[0m\n\u001b[0;32m    296\u001b[0m     \u001b[1;32melif\u001b[0m \u001b[0mhook\u001b[0m \u001b[1;33m==\u001b[0m \u001b[1;34m'end'\u001b[0m\u001b[1;33m:\u001b[0m\u001b[1;33m\u001b[0m\u001b[1;33m\u001b[0m\u001b[0m\n\u001b[1;32m--> 297\u001b[1;33m       \u001b[0mself\u001b[0m\u001b[1;33m.\u001b[0m\u001b[0m_call_batch_end_hook\u001b[0m\u001b[1;33m(\u001b[0m\u001b[0mmode\u001b[0m\u001b[1;33m,\u001b[0m \u001b[0mbatch\u001b[0m\u001b[1;33m,\u001b[0m \u001b[0mlogs\u001b[0m\u001b[1;33m)\u001b[0m\u001b[1;33m\u001b[0m\u001b[1;33m\u001b[0m\u001b[0m\n\u001b[0m\u001b[0;32m    298\u001b[0m     \u001b[1;32melse\u001b[0m\u001b[1;33m:\u001b[0m\u001b[1;33m\u001b[0m\u001b[1;33m\u001b[0m\u001b[0m\n\u001b[0;32m    299\u001b[0m       raise ValueError(\n",
      "\u001b[1;32mc:\\Users\\itber\\anaconda3\\envs\\tf\\lib\\site-packages\\keras\\callbacks.py\u001b[0m in \u001b[0;36m_call_batch_end_hook\u001b[1;34m(self, mode, batch, logs)\u001b[0m\n\u001b[0;32m    316\u001b[0m       \u001b[0mself\u001b[0m\u001b[1;33m.\u001b[0m\u001b[0m_batch_times\u001b[0m\u001b[1;33m.\u001b[0m\u001b[0mappend\u001b[0m\u001b[1;33m(\u001b[0m\u001b[0mbatch_time\u001b[0m\u001b[1;33m)\u001b[0m\u001b[1;33m\u001b[0m\u001b[1;33m\u001b[0m\u001b[0m\n\u001b[0;32m    317\u001b[0m \u001b[1;33m\u001b[0m\u001b[0m\n\u001b[1;32m--> 318\u001b[1;33m     \u001b[0mself\u001b[0m\u001b[1;33m.\u001b[0m\u001b[0m_call_batch_hook_helper\u001b[0m\u001b[1;33m(\u001b[0m\u001b[0mhook_name\u001b[0m\u001b[1;33m,\u001b[0m \u001b[0mbatch\u001b[0m\u001b[1;33m,\u001b[0m \u001b[0mlogs\u001b[0m\u001b[1;33m)\u001b[0m\u001b[1;33m\u001b[0m\u001b[1;33m\u001b[0m\u001b[0m\n\u001b[0m\u001b[0;32m    319\u001b[0m \u001b[1;33m\u001b[0m\u001b[0m\n\u001b[0;32m    320\u001b[0m     \u001b[1;32mif\u001b[0m \u001b[0mlen\u001b[0m\u001b[1;33m(\u001b[0m\u001b[0mself\u001b[0m\u001b[1;33m.\u001b[0m\u001b[0m_batch_times\u001b[0m\u001b[1;33m)\u001b[0m \u001b[1;33m>=\u001b[0m \u001b[0mself\u001b[0m\u001b[1;33m.\u001b[0m\u001b[0m_num_batches_for_timing_check\u001b[0m\u001b[1;33m:\u001b[0m\u001b[1;33m\u001b[0m\u001b[1;33m\u001b[0m\u001b[0m\n",
      "\u001b[1;32mc:\\Users\\itber\\anaconda3\\envs\\tf\\lib\\site-packages\\keras\\callbacks.py\u001b[0m in \u001b[0;36m_call_batch_hook_helper\u001b[1;34m(self, hook_name, batch, logs)\u001b[0m\n\u001b[0;32m    354\u001b[0m     \u001b[1;32mfor\u001b[0m \u001b[0mcallback\u001b[0m \u001b[1;32min\u001b[0m \u001b[0mself\u001b[0m\u001b[1;33m.\u001b[0m\u001b[0mcallbacks\u001b[0m\u001b[1;33m:\u001b[0m\u001b[1;33m\u001b[0m\u001b[1;33m\u001b[0m\u001b[0m\n\u001b[0;32m    355\u001b[0m       \u001b[0mhook\u001b[0m \u001b[1;33m=\u001b[0m \u001b[0mgetattr\u001b[0m\u001b[1;33m(\u001b[0m\u001b[0mcallback\u001b[0m\u001b[1;33m,\u001b[0m \u001b[0mhook_name\u001b[0m\u001b[1;33m)\u001b[0m\u001b[1;33m\u001b[0m\u001b[1;33m\u001b[0m\u001b[0m\n\u001b[1;32m--> 356\u001b[1;33m       \u001b[0mhook\u001b[0m\u001b[1;33m(\u001b[0m\u001b[0mbatch\u001b[0m\u001b[1;33m,\u001b[0m \u001b[0mlogs\u001b[0m\u001b[1;33m)\u001b[0m\u001b[1;33m\u001b[0m\u001b[1;33m\u001b[0m\u001b[0m\n\u001b[0m\u001b[0;32m    357\u001b[0m \u001b[1;33m\u001b[0m\u001b[0m\n\u001b[0;32m    358\u001b[0m     \u001b[1;32mif\u001b[0m \u001b[0mself\u001b[0m\u001b[1;33m.\u001b[0m\u001b[0m_check_timing\u001b[0m\u001b[1;33m:\u001b[0m\u001b[1;33m\u001b[0m\u001b[1;33m\u001b[0m\u001b[0m\n",
      "\u001b[1;32mc:\\Users\\itber\\anaconda3\\envs\\tf\\lib\\site-packages\\keras\\callbacks.py\u001b[0m in \u001b[0;36mon_train_batch_end\u001b[1;34m(self, batch, logs)\u001b[0m\n\u001b[0;32m   1032\u001b[0m \u001b[1;33m\u001b[0m\u001b[0m\n\u001b[0;32m   1033\u001b[0m   \u001b[1;32mdef\u001b[0m \u001b[0mon_train_batch_end\u001b[0m\u001b[1;33m(\u001b[0m\u001b[0mself\u001b[0m\u001b[1;33m,\u001b[0m \u001b[0mbatch\u001b[0m\u001b[1;33m,\u001b[0m \u001b[0mlogs\u001b[0m\u001b[1;33m=\u001b[0m\u001b[1;32mNone\u001b[0m\u001b[1;33m)\u001b[0m\u001b[1;33m:\u001b[0m\u001b[1;33m\u001b[0m\u001b[1;33m\u001b[0m\u001b[0m\n\u001b[1;32m-> 1034\u001b[1;33m     \u001b[0mself\u001b[0m\u001b[1;33m.\u001b[0m\u001b[0m_batch_update_progbar\u001b[0m\u001b[1;33m(\u001b[0m\u001b[0mbatch\u001b[0m\u001b[1;33m,\u001b[0m \u001b[0mlogs\u001b[0m\u001b[1;33m)\u001b[0m\u001b[1;33m\u001b[0m\u001b[1;33m\u001b[0m\u001b[0m\n\u001b[0m\u001b[0;32m   1035\u001b[0m \u001b[1;33m\u001b[0m\u001b[0m\n\u001b[0;32m   1036\u001b[0m   \u001b[1;32mdef\u001b[0m \u001b[0mon_test_batch_end\u001b[0m\u001b[1;33m(\u001b[0m\u001b[0mself\u001b[0m\u001b[1;33m,\u001b[0m \u001b[0mbatch\u001b[0m\u001b[1;33m,\u001b[0m \u001b[0mlogs\u001b[0m\u001b[1;33m=\u001b[0m\u001b[1;32mNone\u001b[0m\u001b[1;33m)\u001b[0m\u001b[1;33m:\u001b[0m\u001b[1;33m\u001b[0m\u001b[1;33m\u001b[0m\u001b[0m\n",
      "\u001b[1;32mc:\\Users\\itber\\anaconda3\\envs\\tf\\lib\\site-packages\\keras\\callbacks.py\u001b[0m in \u001b[0;36m_batch_update_progbar\u001b[1;34m(self, batch, logs)\u001b[0m\n\u001b[0;32m   1104\u001b[0m     \u001b[1;32mif\u001b[0m \u001b[0mself\u001b[0m\u001b[1;33m.\u001b[0m\u001b[0mverbose\u001b[0m \u001b[1;33m==\u001b[0m \u001b[1;36m1\u001b[0m\u001b[1;33m:\u001b[0m\u001b[1;33m\u001b[0m\u001b[1;33m\u001b[0m\u001b[0m\n\u001b[0;32m   1105\u001b[0m       \u001b[1;31m# Only block async when verbose = 1.\u001b[0m\u001b[1;33m\u001b[0m\u001b[1;33m\u001b[0m\u001b[0m\n\u001b[1;32m-> 1106\u001b[1;33m       \u001b[0mlogs\u001b[0m \u001b[1;33m=\u001b[0m \u001b[0mtf_utils\u001b[0m\u001b[1;33m.\u001b[0m\u001b[0msync_to_numpy_or_python_type\u001b[0m\u001b[1;33m(\u001b[0m\u001b[0mlogs\u001b[0m\u001b[1;33m)\u001b[0m\u001b[1;33m\u001b[0m\u001b[1;33m\u001b[0m\u001b[0m\n\u001b[0m\u001b[0;32m   1107\u001b[0m       \u001b[0mself\u001b[0m\u001b[1;33m.\u001b[0m\u001b[0mprogbar\u001b[0m\u001b[1;33m.\u001b[0m\u001b[0mupdate\u001b[0m\u001b[1;33m(\u001b[0m\u001b[0mself\u001b[0m\u001b[1;33m.\u001b[0m\u001b[0mseen\u001b[0m\u001b[1;33m,\u001b[0m \u001b[0mlist\u001b[0m\u001b[1;33m(\u001b[0m\u001b[0mlogs\u001b[0m\u001b[1;33m.\u001b[0m\u001b[0mitems\u001b[0m\u001b[1;33m(\u001b[0m\u001b[1;33m)\u001b[0m\u001b[1;33m)\u001b[0m\u001b[1;33m,\u001b[0m \u001b[0mfinalize\u001b[0m\u001b[1;33m=\u001b[0m\u001b[1;32mFalse\u001b[0m\u001b[1;33m)\u001b[0m\u001b[1;33m\u001b[0m\u001b[1;33m\u001b[0m\u001b[0m\n\u001b[0;32m   1108\u001b[0m \u001b[1;33m\u001b[0m\u001b[0m\n",
      "\u001b[1;32mc:\\Users\\itber\\anaconda3\\envs\\tf\\lib\\site-packages\\keras\\utils\\tf_utils.py\u001b[0m in \u001b[0;36msync_to_numpy_or_python_type\u001b[1;34m(tensors)\u001b[0m\n\u001b[0;32m    605\u001b[0m     \u001b[1;32mreturn\u001b[0m \u001b[0mt\u001b[0m\u001b[1;33m.\u001b[0m\u001b[0mitem\u001b[0m\u001b[1;33m(\u001b[0m\u001b[1;33m)\u001b[0m \u001b[1;32mif\u001b[0m \u001b[0mnp\u001b[0m\u001b[1;33m.\u001b[0m\u001b[0mndim\u001b[0m\u001b[1;33m(\u001b[0m\u001b[0mt\u001b[0m\u001b[1;33m)\u001b[0m \u001b[1;33m==\u001b[0m \u001b[1;36m0\u001b[0m \u001b[1;32melse\u001b[0m \u001b[0mt\u001b[0m\u001b[1;33m\u001b[0m\u001b[1;33m\u001b[0m\u001b[0m\n\u001b[0;32m    606\u001b[0m \u001b[1;33m\u001b[0m\u001b[0m\n\u001b[1;32m--> 607\u001b[1;33m   \u001b[1;32mreturn\u001b[0m \u001b[0mtf\u001b[0m\u001b[1;33m.\u001b[0m\u001b[0mnest\u001b[0m\u001b[1;33m.\u001b[0m\u001b[0mmap_structure\u001b[0m\u001b[1;33m(\u001b[0m\u001b[0m_to_single_numpy_or_python_type\u001b[0m\u001b[1;33m,\u001b[0m \u001b[0mtensors\u001b[0m\u001b[1;33m)\u001b[0m\u001b[1;33m\u001b[0m\u001b[1;33m\u001b[0m\u001b[0m\n\u001b[0m\u001b[0;32m    608\u001b[0m \u001b[1;33m\u001b[0m\u001b[0m\n\u001b[0;32m    609\u001b[0m \u001b[1;33m\u001b[0m\u001b[0m\n",
      "\u001b[1;32mc:\\Users\\itber\\anaconda3\\envs\\tf\\lib\\site-packages\\tensorflow\\python\\util\\nest.py\u001b[0m in \u001b[0;36mmap_structure\u001b[1;34m(func, *structure, **kwargs)\u001b[0m\n\u001b[0;32m    914\u001b[0m \u001b[1;33m\u001b[0m\u001b[0m\n\u001b[0;32m    915\u001b[0m   return pack_sequence_as(\n\u001b[1;32m--> 916\u001b[1;33m       \u001b[0mstructure\u001b[0m\u001b[1;33m[\u001b[0m\u001b[1;36m0\u001b[0m\u001b[1;33m]\u001b[0m\u001b[1;33m,\u001b[0m \u001b[1;33m[\u001b[0m\u001b[0mfunc\u001b[0m\u001b[1;33m(\u001b[0m\u001b[1;33m*\u001b[0m\u001b[0mx\u001b[0m\u001b[1;33m)\u001b[0m \u001b[1;32mfor\u001b[0m \u001b[0mx\u001b[0m \u001b[1;32min\u001b[0m \u001b[0mentries\u001b[0m\u001b[1;33m]\u001b[0m\u001b[1;33m,\u001b[0m\u001b[1;33m\u001b[0m\u001b[1;33m\u001b[0m\u001b[0m\n\u001b[0m\u001b[0;32m    917\u001b[0m       expand_composites=expand_composites)\n\u001b[0;32m    918\u001b[0m \u001b[1;33m\u001b[0m\u001b[0m\n",
      "\u001b[1;32mc:\\Users\\itber\\anaconda3\\envs\\tf\\lib\\site-packages\\tensorflow\\python\\util\\nest.py\u001b[0m in \u001b[0;36m<listcomp>\u001b[1;34m(.0)\u001b[0m\n\u001b[0;32m    914\u001b[0m \u001b[1;33m\u001b[0m\u001b[0m\n\u001b[0;32m    915\u001b[0m   return pack_sequence_as(\n\u001b[1;32m--> 916\u001b[1;33m       \u001b[0mstructure\u001b[0m\u001b[1;33m[\u001b[0m\u001b[1;36m0\u001b[0m\u001b[1;33m]\u001b[0m\u001b[1;33m,\u001b[0m \u001b[1;33m[\u001b[0m\u001b[0mfunc\u001b[0m\u001b[1;33m(\u001b[0m\u001b[1;33m*\u001b[0m\u001b[0mx\u001b[0m\u001b[1;33m)\u001b[0m \u001b[1;32mfor\u001b[0m \u001b[0mx\u001b[0m \u001b[1;32min\u001b[0m \u001b[0mentries\u001b[0m\u001b[1;33m]\u001b[0m\u001b[1;33m,\u001b[0m\u001b[1;33m\u001b[0m\u001b[1;33m\u001b[0m\u001b[0m\n\u001b[0m\u001b[0;32m    917\u001b[0m       expand_composites=expand_composites)\n\u001b[0;32m    918\u001b[0m \u001b[1;33m\u001b[0m\u001b[0m\n",
      "\u001b[1;32mc:\\Users\\itber\\anaconda3\\envs\\tf\\lib\\site-packages\\keras\\utils\\tf_utils.py\u001b[0m in \u001b[0;36m_to_single_numpy_or_python_type\u001b[1;34m(t)\u001b[0m\n\u001b[0;32m    599\u001b[0m     \u001b[1;31m# Don't turn ragged or sparse tensors to NumPy.\u001b[0m\u001b[1;33m\u001b[0m\u001b[1;33m\u001b[0m\u001b[0m\n\u001b[0;32m    600\u001b[0m     \u001b[1;32mif\u001b[0m \u001b[0misinstance\u001b[0m\u001b[1;33m(\u001b[0m\u001b[0mt\u001b[0m\u001b[1;33m,\u001b[0m \u001b[0mtf\u001b[0m\u001b[1;33m.\u001b[0m\u001b[0mTensor\u001b[0m\u001b[1;33m)\u001b[0m\u001b[1;33m:\u001b[0m\u001b[1;33m\u001b[0m\u001b[1;33m\u001b[0m\u001b[0m\n\u001b[1;32m--> 601\u001b[1;33m       \u001b[0mt\u001b[0m \u001b[1;33m=\u001b[0m \u001b[0mt\u001b[0m\u001b[1;33m.\u001b[0m\u001b[0mnumpy\u001b[0m\u001b[1;33m(\u001b[0m\u001b[1;33m)\u001b[0m\u001b[1;33m\u001b[0m\u001b[1;33m\u001b[0m\u001b[0m\n\u001b[0m\u001b[0;32m    602\u001b[0m     \u001b[1;31m# Strings, ragged and sparse tensors don't have .item(). Return them as-is.\u001b[0m\u001b[1;33m\u001b[0m\u001b[1;33m\u001b[0m\u001b[0m\n\u001b[0;32m    603\u001b[0m     \u001b[1;32mif\u001b[0m \u001b[1;32mnot\u001b[0m \u001b[0misinstance\u001b[0m\u001b[1;33m(\u001b[0m\u001b[0mt\u001b[0m\u001b[1;33m,\u001b[0m \u001b[1;33m(\u001b[0m\u001b[0mnp\u001b[0m\u001b[1;33m.\u001b[0m\u001b[0mndarray\u001b[0m\u001b[1;33m,\u001b[0m \u001b[0mnp\u001b[0m\u001b[1;33m.\u001b[0m\u001b[0mgeneric\u001b[0m\u001b[1;33m)\u001b[0m\u001b[1;33m)\u001b[0m\u001b[1;33m:\u001b[0m\u001b[1;33m\u001b[0m\u001b[1;33m\u001b[0m\u001b[0m\n",
      "\u001b[1;32mc:\\Users\\itber\\anaconda3\\envs\\tf\\lib\\site-packages\\tensorflow\\python\\framework\\ops.py\u001b[0m in \u001b[0;36mnumpy\u001b[1;34m(self)\u001b[0m\n\u001b[0;32m   1157\u001b[0m     \"\"\"\n\u001b[0;32m   1158\u001b[0m     \u001b[1;31m# TODO(slebedev): Consider avoiding a copy for non-CPU or remote tensors.\u001b[0m\u001b[1;33m\u001b[0m\u001b[1;33m\u001b[0m\u001b[0m\n\u001b[1;32m-> 1159\u001b[1;33m     \u001b[0mmaybe_arr\u001b[0m \u001b[1;33m=\u001b[0m \u001b[0mself\u001b[0m\u001b[1;33m.\u001b[0m\u001b[0m_numpy\u001b[0m\u001b[1;33m(\u001b[0m\u001b[1;33m)\u001b[0m  \u001b[1;31m# pylint: disable=protected-access\u001b[0m\u001b[1;33m\u001b[0m\u001b[1;33m\u001b[0m\u001b[0m\n\u001b[0m\u001b[0;32m   1160\u001b[0m     \u001b[1;32mreturn\u001b[0m \u001b[0mmaybe_arr\u001b[0m\u001b[1;33m.\u001b[0m\u001b[0mcopy\u001b[0m\u001b[1;33m(\u001b[0m\u001b[1;33m)\u001b[0m \u001b[1;32mif\u001b[0m \u001b[0misinstance\u001b[0m\u001b[1;33m(\u001b[0m\u001b[0mmaybe_arr\u001b[0m\u001b[1;33m,\u001b[0m \u001b[0mnp\u001b[0m\u001b[1;33m.\u001b[0m\u001b[0mndarray\u001b[0m\u001b[1;33m)\u001b[0m \u001b[1;32melse\u001b[0m \u001b[0mmaybe_arr\u001b[0m\u001b[1;33m\u001b[0m\u001b[1;33m\u001b[0m\u001b[0m\n\u001b[0;32m   1161\u001b[0m \u001b[1;33m\u001b[0m\u001b[0m\n",
      "\u001b[1;32mc:\\Users\\itber\\anaconda3\\envs\\tf\\lib\\site-packages\\tensorflow\\python\\framework\\ops.py\u001b[0m in \u001b[0;36m_numpy\u001b[1;34m(self)\u001b[0m\n\u001b[0;32m   1123\u001b[0m   \u001b[1;32mdef\u001b[0m \u001b[0m_numpy\u001b[0m\u001b[1;33m(\u001b[0m\u001b[0mself\u001b[0m\u001b[1;33m)\u001b[0m\u001b[1;33m:\u001b[0m\u001b[1;33m\u001b[0m\u001b[1;33m\u001b[0m\u001b[0m\n\u001b[0;32m   1124\u001b[0m     \u001b[1;32mtry\u001b[0m\u001b[1;33m:\u001b[0m\u001b[1;33m\u001b[0m\u001b[1;33m\u001b[0m\u001b[0m\n\u001b[1;32m-> 1125\u001b[1;33m       \u001b[1;32mreturn\u001b[0m \u001b[0mself\u001b[0m\u001b[1;33m.\u001b[0m\u001b[0m_numpy_internal\u001b[0m\u001b[1;33m(\u001b[0m\u001b[1;33m)\u001b[0m\u001b[1;33m\u001b[0m\u001b[1;33m\u001b[0m\u001b[0m\n\u001b[0m\u001b[0;32m   1126\u001b[0m     \u001b[1;32mexcept\u001b[0m \u001b[0mcore\u001b[0m\u001b[1;33m.\u001b[0m\u001b[0m_NotOkStatusException\u001b[0m \u001b[1;32mas\u001b[0m \u001b[0me\u001b[0m\u001b[1;33m:\u001b[0m  \u001b[1;31m# pylint: disable=protected-access\u001b[0m\u001b[1;33m\u001b[0m\u001b[1;33m\u001b[0m\u001b[0m\n\u001b[0;32m   1127\u001b[0m       \u001b[1;32mraise\u001b[0m \u001b[0mcore\u001b[0m\u001b[1;33m.\u001b[0m\u001b[0m_status_to_exception\u001b[0m\u001b[1;33m(\u001b[0m\u001b[0me\u001b[0m\u001b[1;33m)\u001b[0m \u001b[1;32mfrom\u001b[0m \u001b[1;32mNone\u001b[0m  \u001b[1;31m# pylint: disable=protected-access\u001b[0m\u001b[1;33m\u001b[0m\u001b[1;33m\u001b[0m\u001b[0m\n",
      "\u001b[1;31mKeyboardInterrupt\u001b[0m: "
     ]
    }
   ],
   "source": [
    "train_metrics = []\n",
    "val_metrics = []\n",
    "for data_gen in window_generators:\n",
    "\n",
    "    compile_and_fit(reconstructed_model, data_gen, lr=1e-4,\n",
    "                    patience=2, max_epochs=2)\n",
    "\n",
    "    train_metrics.append(transformer_model.evaluate(data_gen.train))\n",
    "    val_metrics.append(transformer_model.evaluate(data_gen.valid))"
   ]
  },
  {
   "cell_type": "code",
   "execution_count": null,
   "metadata": {},
   "outputs": [],
   "source": []
  }
 ],
 "metadata": {
  "kernelspec": {
   "display_name": "Python 3.9.12 ('tf')",
   "language": "python",
   "name": "python3"
  },
  "language_info": {
   "codemirror_mode": {
    "name": "ipython",
    "version": 3
   },
   "file_extension": ".py",
   "mimetype": "text/x-python",
   "name": "python",
   "nbconvert_exporter": "python",
   "pygments_lexer": "ipython3",
   "version": "3.9.12"
  },
  "orig_nbformat": 4,
  "vscode": {
   "interpreter": {
    "hash": "2b2da39daaaff30a84159e8452ba91acfc0bbd521fb66c6aa9941f847b87bd81"
   }
  }
 },
 "nbformat": 4,
 "nbformat_minor": 2
}
