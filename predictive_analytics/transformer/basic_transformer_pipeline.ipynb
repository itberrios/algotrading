{
 "cells": [
  {
   "cell_type": "markdown",
   "metadata": {},
   "source": [
    "# Base Transformer Pipeline\n",
    "\n",
    "In this notebook we will explore the basic pipeline for Training Transformer models to classify future price trends on 15min interval stock data. We will be working with a portfolio of highly correlated stocks: AAPL, GOOG, QCOM, and TSLA. These stock were highly correlated around Aug - Oct 2022. The stock dataset does not contains timestamps, prices and trading volume, but does not contin any target variables.\n",
    "- Timestamps &#8594; Interval\n",
    "- Open/Close/High/Low Prices &#8594; Ratio\n",
    "- Trading Volume &#8594; Ratio\n",
    "\n",
    " We will create the target variable by taking the midpoint of Open/Close prices for M future days and then averaging these values. This target variable is Oridnal and has 3 possible classes: \n",
    "- 0 - downward price movement\n",
    "- 1 - no change\n",
    "- 2 - upward price movement\n",
    "\n",
    "The price movements are derived by a threshold that is defined using the IQR method to detect outliers. Currently we use a limit of 1, and every Q1 outlier is classified as \"0 - downward price movement\", every Q3 outlier is classified as \"2 - upward price movement\", and all inliers are classified as: \"1 - no change\".\n",
    "\n",
    "For this problem we will only perform predictions on the next portion of the sequence"
   ]
  },
  {
   "cell_type": "markdown",
   "metadata": {},
   "source": [
    "## Models\n",
    "\n",
    "The main model we will be testing in this notebook is a Transformer Encoder. Typically a Transformer has an Encoder and Decoder portion, where the Encoder learns information about which parts of the input sequence are relevant to eachother. The Decoder does the opposite, it takes the continuouss representation learned by the Encoder and learns to generate an ordered output sequence. For the Time Series Classifiecation problem it is unecessary to include the Decoder, we can simply use the Encoder to learn relative correlations of the inputs and add a Vanilla Feed Forward Neural Network to the end of the Encoder Blocks to obtain the desired classification. [Source](https://userweb.cs.txstate.edu/~amk181/AIME_LSTM_Attention_vs_Transformer.pdf).\n",
    "\n",
    "The Transformer Encoder also relies on positional encoding in order to implement this, we will first project the input vectors into high dimensional space as done [here](https://arxiv.org/pdf/2010.02803.pdf), and then add the positional Encoding as done in the [original paper](https://arxiv.org/pdf/1706.03762.pdf).\n",
    "\n",
    "\n",
    "In order to compare how effective the Transformer is in modeling seuqential data, we will compare its results to:\n",
    "- Baseline Model (uses previous predictions)\n",
    "- Linear Model\n",
    "- Neural Network\n",
    "- LSTM"
   ]
  },
  {
   "cell_type": "markdown",
   "metadata": {},
   "source": [
    "### Library Import"
   ]
  },
  {
   "cell_type": "code",
   "execution_count": 1,
   "metadata": {},
   "outputs": [],
   "source": [
    "import os\n",
    "import sys\n",
    "import numpy as np\n",
    "import pandas as pd\n",
    "import pandas_ta as ta\n",
    "import tensorflow as tf\n",
    "import keras\n",
    "from tensorflow.keras import layers\n",
    "import matplotlib.pyplot as plt\n",
    "\n",
    "plt.rcParams[\"figure.figsize\"] = (20, 10)\n",
    "%matplotlib inline"
   ]
  },
  {
   "cell_type": "markdown",
   "metadata": {},
   "source": [
    "### Local Imports\n",
    "\n",
    "Get base dir for imports, this allows us to look in the main algotrading folder to import local modules"
   ]
  },
  {
   "cell_type": "code",
   "execution_count": 2,
   "metadata": {},
   "outputs": [],
   "source": [
    "BASE_DIR = os.path.abspath(os.path.join(os.path.abspath('..'), '..'))\n",
    "sys.path.append(BASE_DIR)"
   ]
  },
  {
   "cell_type": "code",
   "execution_count": 3,
   "metadata": {},
   "outputs": [],
   "source": [
    "from data_utils import *\n",
    "from window_generator import WindowGenerator\n",
    "from models.basic_transformer import TransformerModel"
   ]
  },
  {
   "cell_type": "markdown",
   "metadata": {},
   "source": [
    "### Ensure that GPU is available"
   ]
  },
  {
   "cell_type": "code",
   "execution_count": 4,
   "metadata": {},
   "outputs": [
    {
     "data": {
      "text/plain": [
       "[PhysicalDevice(name='/physical_device:GPU:0', device_type='GPU')]"
      ]
     },
     "execution_count": 4,
     "metadata": {},
     "output_type": "execute_result"
    }
   ],
   "source": [
    "tf.config.list_physical_devices('GPU')"
   ]
  },
  {
   "cell_type": "markdown",
   "metadata": {},
   "source": [
    "### Get the Data\n",
    "Place all stocks in a Dictionary of DataFrames"
   ]
  },
  {
   "cell_type": "code",
   "execution_count": 5,
   "metadata": {},
   "outputs": [],
   "source": [
    "from glob import glob\n",
    "import re\n",
    "\n",
    "get_name = lambda x : re.search('\\w+(?=_15min)', x).group()\n",
    "\n",
    "# get all data .csvs\n",
    "data_paths = glob(os.path.join(BASE_DIR, r'data\\raw\\*.csv'))\n",
    "\n",
    "stock_dfs = {}\n",
    "for _path in data_paths:\n",
    "    _df = pd.read_csv(_path, index_col=0, parse_dates=True, infer_datetime_format=True).dropna()\n",
    "\n",
    "    # add price_trend to each stock DataFrame\n",
    "    _df = get_numeric_price_trend(_df, n=4)\n",
    "\n",
    "    stock_dfs.update({get_name(_path) : _df})"
   ]
  },
  {
   "cell_type": "markdown",
   "metadata": {},
   "source": [
    "### Determine Target Variable Thresholds"
   ]
  },
  {
   "cell_type": "code",
   "execution_count": 6,
   "metadata": {},
   "outputs": [],
   "source": [
    "def get_iqr(ser):\n",
    "    q1 = ser.quantile(0.25)\n",
    "    q3 = ser.quantile(0.75)\n",
    "    iqr = q3 - q1\n",
    "\n",
    "    return q1, q3, iqr\n",
    "\n",
    "def get_iqr_thresholds(x, lim=1.):\n",
    "    q1, q3, iqr = get_iqr(x)\n",
    "\n",
    "    lower = q1 - lim*iqr\n",
    "    upper = q3 + lim*iqr\n",
    "\n",
    "    return lower, upper\n"
   ]
  },
  {
   "cell_type": "markdown",
   "metadata": {},
   "source": [
    "For each stock get upper/lower IQR thresholds to dermine price movement class"
   ]
  },
  {
   "cell_type": "code",
   "execution_count": 7,
   "metadata": {},
   "outputs": [],
   "source": [
    "iqr_lim = 0.25 \n",
    "thresholds = {}\n",
    "\n",
    "for name in stock_dfs.keys():\n",
    "    lower, upper = get_iqr_thresholds(stock_dfs[name]['price_trend'], iqr_lim)\n",
    "    thresholds.update({name : (lower, upper)})\n"
   ]
  },
  {
   "cell_type": "markdown",
   "metadata": {},
   "source": [
    "Plot Price Movements with lower/upper thresholds"
   ]
  },
  {
   "cell_type": "code",
   "execution_count": 8,
   "metadata": {},
   "outputs": [
    {
     "data": {
      "image/png": "[encoded data removed]",
      "text/plain": [
       "<Figure size 720x576 with 4 Axes>"
      ]
     },
     "metadata": {
      "needs_background": "light"
     },
     "output_type": "display_data"
    }
   ],
   "source": [
    "fig = plt.figure(figsize=(10, 8))\n",
    "\n",
    "for i, name in enumerate(stock_dfs.keys()):\n",
    "    ax = plt.subplot(2, 2, i + 1)\n",
    "\n",
    "    # plot Numer Price Trend Histogram\n",
    "    ax_obj = stock_dfs[name]['price_trend'].hist(ax=ax, bins=500)\n",
    "\n",
    "    # get adjust x and y limits for display purposes\n",
    "    ylim = [val - val//20 for val in list(ax_obj.get_ylim())]\n",
    "    xlim = [val - val//2 for val in list(ax_obj.get_xlim())]\n",
    "\n",
    "    # plot IQR lines\n",
    "    lower, upper = thresholds[name]\n",
    "    ax.plot([lower, lower], ylim, color='r', linewidth=2)\n",
    "    ax.plot([upper, upper], ylim, color='r', linewidth=2)\n",
    "\n",
    "    # set xlim for nice display\n",
    "    ax.set_xlim(min(xlim), -1*min(xlim))\n",
    "    \n",
    "    # set titles and axis labels\n",
    "    fig.suptitle('Price Trend Histograms', size=24)\n",
    "    ax.set_title(f'{name}', size=15)\n",
    "\n",
    "    # add a bit of space\n",
    "    fig.subplots_adjust(hspace=0.25);\n",
    "    "
   ]
  },
  {
   "cell_type": "markdown",
   "metadata": {},
   "source": [
    "### Add Target Variable (Price Change) to stock DataFrames"
   ]
  },
  {
   "cell_type": "code",
   "execution_count": 9,
   "metadata": {},
   "outputs": [],
   "source": [
    "# supress setting with copy warning\n",
    "# https://stackoverflow.com/questions/20625582/how-to-deal-with-settingwithcopywarning-in-pandas\n",
    "pd.options.mode.chained_assignment = None\n",
    "\n",
    "for name in stock_dfs.keys():\n",
    "\n",
    "    # get stock DataFrame\n",
    "    df = stock_dfs[name]\n",
    "\n",
    "    # get threshold bounds\n",
    "    lower, upper = thresholds[name]\n",
    "\n",
    "    # place target variable in DataFrame\n",
    "    # obtain target variable\n",
    "    df['price_change'] = 1 # price stays the same\n",
    "    df['price_change'][df['price_trend'] < lower] = 0 # downward price movement\n",
    "    df['price_change'][df['price_trend'] > upper] = 2 # upward prive movement\n",
    "\n",
    "# return setting with copy warning to default \n",
    "pd.options.mode.chained_assignment = 'warn'"
   ]
  },
  {
   "cell_type": "markdown",
   "metadata": {},
   "source": [
    "### FUTURE\n",
    "\n",
    "Place plots of number of each class for each stock"
   ]
  },
  {
   "cell_type": "markdown",
   "metadata": {},
   "source": [
    "Add more features\n",
    "- Time Encoding\n",
    "- Technical Indicators"
   ]
  },
  {
   "cell_type": "markdown",
   "metadata": {},
   "source": [
    "### Get train, valid, test splits for each stock"
   ]
  },
  {
   "cell_type": "code",
   "execution_count": 11,
   "metadata": {},
   "outputs": [],
   "source": [
    "train_dfs = {}\n",
    "valid_dfs = {}\n",
    "test_dfs = {}\n",
    "\n",
    "split_dfs = {}\n",
    "\n",
    "for name in stock_dfs.keys():\n",
    "\n",
    "    # get stock DataFrame\n",
    "    df = stock_dfs[name]\n",
    "\n",
    "    train = df.loc[:'2022-02-01']\n",
    "    valid = df.loc['2022-02-02':'2022-07-01']\n",
    "    test = df.loc['2022-07-01':]\n",
    "\n",
    "    train_dfs.update({name : train})\n",
    "    valid_dfs.update({name : valid})\n",
    "    test_dfs.update({name : test})\n",
    "    \n",
    "    split_dfs.update({name : [train, valid, test]})"
   ]
  },
  {
   "cell_type": "markdown",
   "metadata": {},
   "source": [
    "### Test Window Generator"
   ]
  },
  {
   "cell_type": "code",
   "execution_count": 116,
   "metadata": {},
   "outputs": [],
   "source": [
    "aapl_gen = WindowGenerator(\n",
    "                input_width=32, label_width=1, shift=0, \n",
    "                dfs=split_dfs['AAPL'],\n",
    "                remove_labels_from_inputs=True, batch_size=32, \n",
    "                label_columns=['price_change'])"
   ]
  },
  {
   "cell_type": "code",
   "execution_count": 117,
   "metadata": {},
   "outputs": [
    {
     "name": "stdout",
     "output_type": "stream",
     "text": [
      "Inputs shape (batch, time, features): (32, 32, 6)\n",
      "Labels shape (batch, time, features): (32, 1, 1)\n"
     ]
    }
   ],
   "source": [
    "for inputs, labels, sample_weights in aapl_gen.train.take(1):\n",
    "    print(f'Inputs shape (batch, time, features): {inputs.shape}')\n",
    "    print(f'Labels shape (batch, time, features): {labels.shape}')"
   ]
  },
  {
   "cell_type": "code",
   "execution_count": 118,
   "metadata": {},
   "outputs": [
    {
     "data": {
      "text/plain": [
       "array([0.4921495 , 2.04451781, 2.08775156])"
      ]
     },
     "execution_count": 118,
     "metadata": {},
     "output_type": "execute_result"
    }
   ],
   "source": [
    "np.unique(sample_weights)"
   ]
  },
  {
   "cell_type": "markdown",
   "metadata": {},
   "source": [
    "### Start Training Models"
   ]
  },
  {
   "cell_type": "code",
   "execution_count": 119,
   "metadata": {},
   "outputs": [],
   "source": [
    "class Baseline(tf.keras.Model):\n",
    "    def __init__(self, label_index=None):\n",
    "        super().__init__()\n",
    "        self.label_index = label_index\n",
    "\n",
    "    def call(self, inputs):\n",
    "        if self.label_index is None:\n",
    "            return inputs\n",
    "        result = inputs[:, :, self.label_index]\n",
    "        return result[:, :, tf.newaxis]"
   ]
  },
  {
   "cell_type": "code",
   "execution_count": 120,
   "metadata": {},
   "outputs": [],
   "source": [
    "single_step_gens = []\n",
    "window_generators = []\n",
    "\n",
    "for name in split_dfs.keys():\n",
    "    single_gen = WindowGenerator(\n",
    "        input_width=1, label_width=1, shift=0,\n",
    "        dfs=split_dfs[name],\n",
    "        remove_labels_from_inputs=False, batch_size=32, \n",
    "        label_columns=['price_change'])\n",
    "\n",
    "    data_gen = WindowGenerator(\n",
    "                input_width=32, label_width=1, shift=0, \n",
    "                dfs=split_dfs['AAPL'],\n",
    "                remove_labels_from_inputs=True, batch_size=32, \n",
    "                label_columns=['price_change'])\n",
    "    \n",
    "    single_step_gens.append(single_gen)\n",
    "    window_generators.append(data_gen)\n",
    "        "
   ]
  },
  {
   "cell_type": "code",
   "execution_count": 121,
   "metadata": {},
   "outputs": [],
   "source": [
    "train_performance = {}\n",
    "val_performance = {}"
   ]
  },
  {
   "cell_type": "code",
   "execution_count": 122,
   "metadata": {},
   "outputs": [
    {
     "name": "stdout",
     "output_type": "stream",
     "text": [
      "639/639 [==============================] - 2s 3ms/step - loss: nan - accuracy: 0.1597 - weighted_accuracy: 0.3333\n",
      "208/208 [==============================] - 1s 2ms/step - loss: nan - accuracy: 0.2547 - weighted_accuracy: 0.4180\n",
      "356/356 [==============================] - 1s 3ms/step - loss: nan - accuracy: 0.1497 - weighted_accuracy: 0.3333\n",
      "125/125 [==============================] - 0s 2ms/step - loss: nan - accuracy: 0.2787 - weighted_accuracy: 0.4577\n",
      "500/500 [==============================] - 2s 3ms/step - loss: nan - accuracy: 0.1508 - weighted_accuracy: 0.3333\n",
      "171/171 [==============================] - 0s 2ms/step - loss: nan - accuracy: 0.2576 - weighted_accuracy: 0.4378\n",
      "633/633 [==============================] - 2s 3ms/step - loss: nan - accuracy: 0.1673 - weighted_accuracy: 0.3333\n",
      "207/207 [==============================] - 1s 3ms/step - loss: nan - accuracy: 0.2425 - weighted_accuracy: 0.4088\n"
     ]
    }
   ],
   "source": [
    "train_metrics = []\n",
    "val_metrics = []\n",
    "for data_gen in single_step_gens:\n",
    "    baseline = Baseline(label_index=data_gen.column_indices['price_change'])\n",
    "\n",
    "    baseline.compile(loss=tf.keras.losses.SparseCategoricalCrossentropy(),\n",
    "                     metrics=['accuracy'],\n",
    "                     weighted_metrics=['accuracy'])\n",
    "\n",
    "    train_metrics.append(baseline.evaluate(data_gen.train))\n",
    "    val_metrics.append(baseline.evaluate(data_gen.valid))"
   ]
  },
  {
   "cell_type": "code",
   "execution_count": 123,
   "metadata": {},
   "outputs": [],
   "source": [
    "train_performance['Baseline'] = train_metrics\n",
    "val_performance['Baseline'] = val_metrics"
   ]
  },
  {
   "cell_type": "markdown",
   "metadata": {},
   "source": [
    "Stream line the process with a conveincence function"
   ]
  },
  {
   "cell_type": "code",
   "execution_count": 124,
   "metadata": {},
   "outputs": [],
   "source": [
    "def compile_and_fit(model, window, lr=1e-4, max_epochs=100, patience=2):\n",
    "    early_stopping = tf.keras.callbacks.EarlyStopping(monitor='val_loss',\n",
    "                                                      patience=patience,\n",
    "                                                      mode='min')\n",
    "\n",
    "    model.compile(loss=tf.keras.losses.SparseCategoricalCrossentropy(),\n",
    "                  optimizer=tf.keras.optimizers.Adam(learning_rate=lr),\n",
    "                  metrics=[tf.keras.metrics.SparseCategoricalAccuracy()],\n",
    "                  weighted_metrics=[tf.keras.metrics.SparseCategoricalAccuracy()])\n",
    "\n",
    "    history = model.fit(window.train, epochs=max_epochs,\n",
    "                        validation_data=window.valid,\n",
    "                        callbacks=[early_stopping])\n",
    "    return history"
   ]
  },
  {
   "cell_type": "code",
   "execution_count": 131,
   "metadata": {},
   "outputs": [],
   "source": [
    "transformer_model = TransformerModel(\n",
    "            n_heads=2,\n",
    "            d_model=512,\n",
    "            ff_dim=256,\n",
    "            num_transformer_blocks=2,\n",
    "            mlp_units=[256],\n",
    "            n_outputs=3,\n",
    "            dropout=0.1,\n",
    "            mlp_dropout=0.1)"
   ]
  },
  {
   "cell_type": "code",
   "execution_count": null,
   "metadata": {},
   "outputs": [],
   "source": [
    "train_metrics = []\n",
    "val_metrics = []\n",
    "for data_gen in window_generators:\n",
    "\n",
    "    compile_and_fit(transformer_model, data_gen, lr=1e-4,\n",
    "                    patience=2, max_epochs=2)\n",
    "\n",
    "    train_metrics.append(transformer_model.evaluate(data_gen.train))\n",
    "    val_metrics.append(transformer_model.evaluate(data_gen.valid))"
   ]
  },
  {
   "cell_type": "code",
   "execution_count": 127,
   "metadata": {},
   "outputs": [],
   "source": [
    "train_performance['Transformer'] = train_metrics\n",
    "val_performance['Transformer'] = val_metrics"
   ]
  },
  {
   "cell_type": "code",
   "execution_count": 128,
   "metadata": {},
   "outputs": [
    {
     "data": {
      "text/plain": [
       "{'Baseline': [[nan, 0.1596613973379135, 0.33333301544189453],\n",
       "  [nan, 0.14968377351760864, 0.33333349227905273],\n",
       "  [nan, 0.15075093507766724, 0.33333373069763184],\n",
       "  [nan, 0.16729266941547394, 0.33333301544189453]],\n",
       " 'Transformer': [[0.5633180141448975, 0.7615897059440613, 0.8199921250343323],\n",
       "  [0.5090805292129517, 0.777614414691925, 0.8446205258369446],\n",
       "  [0.4888109862804413, 0.7842791080474854, 0.8479552865028381],\n",
       "  [0.484686940908432, 0.7859452962875366, 0.8540302515029907]]}"
      ]
     },
     "execution_count": 128,
     "metadata": {},
     "output_type": "execute_result"
    }
   ],
   "source": [
    "train_performance"
   ]
  },
  {
   "cell_type": "code",
   "execution_count": 129,
   "metadata": {},
   "outputs": [
    {
     "data": {
      "text/plain": [
       "{'Baseline': [[nan, 0.2546658515930176, 0.4179534912109375],\n",
       "  [nan, 0.27870091795921326, 0.4576638340950012],\n",
       "  [nan, 0.25763392448425293, 0.4377609193325043],\n",
       "  [nan, 0.24254803359508514, 0.4087695777416229]],\n",
       " 'Transformer': [[0.61750727891922, 0.8164222240447998, 0.8130326271057129],\n",
       "  [0.49508345127105713, 0.8531680107116699, 0.8544241786003113],\n",
       "  [0.46780693531036377, 0.8557386994361877, 0.8553112745285034],\n",
       "  [0.4527822732925415, 0.8613337278366089, 0.8630524277687073]]}"
      ]
     },
     "execution_count": 129,
     "metadata": {},
     "output_type": "execute_result"
    }
   ],
   "source": [
    "val_performance"
   ]
  },
  {
   "cell_type": "code",
   "execution_count": null,
   "metadata": {},
   "outputs": [],
   "source": []
  }
 ],
 "metadata": {
  "kernelspec": {
   "display_name": "Python 3.9.12 ('tf')",
   "language": "python",
   "name": "python3"
  },
  "language_info": {
   "codemirror_mode": {
    "name": "ipython",
    "version": 3
   },
   "file_extension": ".py",
   "mimetype": "text/x-python",
   "name": "python",
   "nbconvert_exporter": "python",
   "pygments_lexer": "ipython3",
   "version": "3.9.12"
  },
  "orig_nbformat": 4,
  "vscode": {
   "interpreter": {
    "hash": "2b2da39daaaff30a84159e8452ba91acfc0bbd521fb66c6aa9941f847b87bd81"
   }
  }
 },
 "nbformat": 4,
 "nbformat_minor": 2
}
