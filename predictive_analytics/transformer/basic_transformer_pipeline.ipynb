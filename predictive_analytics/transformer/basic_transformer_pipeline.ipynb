{
 "cells": [
  {
   "cell_type": "markdown",
   "metadata": {},
   "source": [
    "# Base Transformer Pipeline\n",
    "\n",
    "In this notebook we will explore the basic pipeline for Training Transformer models to classify future price trends on 15min interval stock data. We will be working with a portfolio of highly correlated stocks: AAPL, GOOG, QCOM, and TSLA. These stock were highly correlated around Aug - Oct 2022. The stock dataset does not contains timestamps, prices and trading volume, but does not contin any target variables.\n",
    "- Timestamps &#8594; Interval\n",
    "- Open/Close/High/Low Prices &#8594; Ratio\n",
    "- Trading Volume &#8594; Ratio\n",
    "\n",
    " We will create the target variable by taking the midpoint of Open/Close prices for M future days and then averaging these values. This target variable is Oridnal and has 3 possible classes: \n",
    "- 0 - downward price movement\n",
    "- 1 - no change\n",
    "- 2 - upward price movement\n",
    "\n",
    "The price movements are derived by a threshold that is defined using the IQR method to detect outliers. Currently we use a limit of 1, and every Q1 outlier is classified as \"0 - downward price movement\", every Q3 outlier is classified as \"2 - upward price movement\", and all inliers are classified as: \"1 - no change\".\n",
    "\n",
    "For this problem we will only perform predictions on the next portion of the sequence"
   ]
  },
  {
   "cell_type": "markdown",
   "metadata": {},
   "source": [
    "## Models\n",
    "\n",
    "The main model we will be testing in this notebook is a Transformer Encoder. Typically a Transformer has an Encoder and Decoder portion, where the Encoder learns information about which parts of the input sequence are relevant to eachother. The Decoder does the opposite, it takes the continuouss representation learned by the Encoder and learns to generate an ordered output sequence. For the Time Series Classifiecation problem it is unecessary to include the Decoder, we can simply use the Encoder to learn relative correlations of the inputs and add a Vanilla Feed Forward Neural Network to the end of the Encoder Blocks to obtain the desired classification. [Source](https://userweb.cs.txstate.edu/~amk181/AIME_LSTM_Attention_vs_Transformer.pdf).\n",
    "\n",
    "The Transformer Encoder also relies on positional encoding in order to implement this, we will first project the input vectors into high dimensional space as done [here](https://arxiv.org/pdf/2010.02803.pdf), and then add the positional Encoding as done in the [original paper](https://arxiv.org/pdf/1706.03762.pdf).\n",
    "\n",
    "\n",
    "In order to compare how effective the Transformer is in modeling seuqential data, we will compare its results to:\n",
    "- Baseline Model (uses previous predictions)\n",
    "- Linear Model\n",
    "- Neural Network\n",
    "- LSTM"
   ]
  },
  {
   "cell_type": "markdown",
   "metadata": {},
   "source": [
    "### Library Import"
   ]
  },
  {
   "cell_type": "code",
   "execution_count": 1,
   "metadata": {},
   "outputs": [],
   "source": [
    "import os\n",
    "import sys\n",
    "import numpy as np\n",
    "import pandas as pd\n",
    "import pandas_ta as ta\n",
    "import tensorflow as tf\n",
    "import keras\n",
    "from tensorflow.keras import layers\n",
    "import matplotlib.pyplot as plt\n",
    "\n",
    "plt.rcParams[\"figure.figsize\"] = (20, 10)\n",
    "%matplotlib inline"
   ]
  },
  {
   "cell_type": "markdown",
   "metadata": {},
   "source": [
    "### Local Imports\n",
    "\n",
    "Get base dir for imports, this allows us to look in the main algotrading folder to import local modules"
   ]
  },
  {
   "cell_type": "code",
   "execution_count": 2,
   "metadata": {},
   "outputs": [],
   "source": [
    "BASE_DIR = os.path.abspath(os.path.join(os.path.abspath('..'), '..'))\n",
    "sys.path.append(BASE_DIR)"
   ]
  },
  {
   "cell_type": "code",
   "execution_count": 3,
   "metadata": {},
   "outputs": [],
   "source": [
    "from data_utils import *\n",
    "from window_generator import WindowGenerator\n",
    "from models.basic_transformer import TransformerModel"
   ]
  },
  {
   "cell_type": "markdown",
   "metadata": {},
   "source": [
    "### Ensure that GPU is available"
   ]
  },
  {
   "cell_type": "code",
   "execution_count": 4,
   "metadata": {},
   "outputs": [
    {
     "data": {
      "text/plain": [
       "[PhysicalDevice(name='/physical_device:GPU:0', device_type='GPU')]"
      ]
     },
     "execution_count": 4,
     "metadata": {},
     "output_type": "execute_result"
    }
   ],
   "source": [
    "tf.config.list_physical_devices('GPU')"
   ]
  },
  {
   "cell_type": "markdown",
   "metadata": {},
   "source": [
    "### Get the Data\n",
    "Place all stocks in a Dictionary of DataFrames"
   ]
  },
  {
   "cell_type": "code",
   "execution_count": 5,
   "metadata": {},
   "outputs": [],
   "source": [
    "from glob import glob\n",
    "import re\n",
    "\n",
    "get_name = lambda x : re.search('\\w+(?=_15min)', x).group()\n",
    "\n",
    "# get all data .csvs\n",
    "data_paths = glob(os.path.join(BASE_DIR, r'data\\raw\\*.csv'))\n",
    "\n",
    "stock_dfs = {}\n",
    "for _path in data_paths:\n",
    "    _df = pd.read_csv(_path, index_col=0, parse_dates=True, infer_datetime_format=True).dropna()\n",
    "\n",
    "    # add price_trend to each stock DataFrame\n",
    "    _df = get_numeric_price_trend(_df, n=4)\n",
    "\n",
    "    stock_dfs.update({get_name(_path) : _df})"
   ]
  },
  {
   "cell_type": "markdown",
   "metadata": {},
   "source": [
    "### Determine Target Variable Thresholds"
   ]
  },
  {
   "cell_type": "code",
   "execution_count": 6,
   "metadata": {},
   "outputs": [],
   "source": [
    "def get_iqr(ser):\n",
    "    q1 = ser.quantile(0.25)\n",
    "    q3 = ser.quantile(0.75)\n",
    "    iqr = q3 - q1\n",
    "\n",
    "    return q1, q3, iqr\n",
    "\n",
    "def get_iqr_thresholds(x, lim=1.):\n",
    "    q1, q3, iqr = get_iqr(x)\n",
    "\n",
    "    lower = q1 - lim*iqr\n",
    "    upper = q3 + lim*iqr\n",
    "\n",
    "    return lower, upper\n"
   ]
  },
  {
   "cell_type": "markdown",
   "metadata": {},
   "source": [
    "For each stock get upper/lower IQR thresholds to dermine price movement class"
   ]
  },
  {
   "cell_type": "code",
   "execution_count": 7,
   "metadata": {},
   "outputs": [],
   "source": [
    "iqr_lim = 0.25 \n",
    "thresholds = {}\n",
    "\n",
    "for name in stock_dfs.keys():\n",
    "    lower, upper = get_iqr_thresholds(stock_dfs[name]['price_trend'], iqr_lim)\n",
    "    thresholds.update({name : (lower, upper)})\n"
   ]
  },
  {
   "cell_type": "markdown",
   "metadata": {},
   "source": [
    "Plot Price Movements with lower/upper thresholds"
   ]
  },
  {
   "cell_type": "code",
   "execution_count": 67,
   "metadata": {},
   "outputs": [
    {
     "data": {
      "image/png": "[encoded data removed]",
      "text/plain": [
       "<Figure size 720x576 with 4 Axes>"
      ]
     },
     "metadata": {
      "needs_background": "light"
     },
     "output_type": "display_data"
    }
   ],
   "source": [
    "fig = plt.figure(figsize=(10, 8))\n",
    "\n",
    "for i, name in enumerate(stock_dfs.keys()):\n",
    "    ax = plt.subplot(2, 2, i + 1)\n",
    "\n",
    "    # plot Numer Price Trend Histogram\n",
    "    ax_obj = stock_dfs[name]['price_trend'].hist(ax=ax, bins=500)\n",
    "\n",
    "    # get adjust x and y limits for display purposes\n",
    "    ylim = [val - val//20 for val in list(ax_obj.get_ylim())]\n",
    "    xlim = [val - val//2 for val in list(ax_obj.get_xlim())]\n",
    "\n",
    "    # plot IQR lines\n",
    "    lower, upper = thresholds[name]\n",
    "    ax.plot([lower, lower], ylim, color='r', linewidth=2)\n",
    "    ax.plot([upper, upper], ylim, color='r', linewidth=2)\n",
    "\n",
    "    # set xlim for nice display\n",
    "    ax.set_xlim(min(xlim), -1*min(xlim))\n",
    "    \n",
    "    # set titles and axis labels\n",
    "    ax.set_title(f'{name}', size=15)\n",
    "\n",
    "\n",
    "# set main title\n",
    "fig.suptitle('Price Trend Histograms', size=24)\n",
    "\n",
    "# add a bit of space\n",
    "fig.subplots_adjust(hspace=0.25);\n",
    "    \n"
   ]
  },
  {
   "cell_type": "markdown",
   "metadata": {},
   "source": [
    "### Add Target Variable (Price Change) to stock DataFrames"
   ]
  },
  {
   "cell_type": "code",
   "execution_count": 9,
   "metadata": {},
   "outputs": [],
   "source": [
    "# supress setting with copy warning\n",
    "# https://stackoverflow.com/questions/20625582/how-to-deal-with-settingwithcopywarning-in-pandas\n",
    "pd.options.mode.chained_assignment = None\n",
    "\n",
    "for name in stock_dfs.keys():\n",
    "\n",
    "    # get stock DataFrame\n",
    "    df = stock_dfs[name]\n",
    "\n",
    "    # get threshold bounds\n",
    "    lower, upper = thresholds[name]\n",
    "\n",
    "    # place target variable in DataFrame\n",
    "    # obtain target variable\n",
    "    df['price_change'] = 1 # price stays the same\n",
    "    df['price_change'][df['price_trend'] < lower] = 0 # downward price movement\n",
    "    df['price_change'][df['price_trend'] > upper] = 2 # upward prive movement\n",
    "\n",
    "# return setting with copy warning to default \n",
    "pd.options.mode.chained_assignment = 'warn'"
   ]
  },
  {
   "cell_type": "markdown",
   "metadata": {},
   "source": [
    "### Place plots of number of each class for each stock"
   ]
  },
  {
   "cell_type": "code",
   "execution_count": 70,
   "metadata": {},
   "outputs": [
    {
     "data": {
      "image/png": "[encoded data removed]",
      "text/plain": [
       "<Figure size 720x576 with 4 Axes>"
      ]
     },
     "metadata": {
      "needs_background": "light"
     },
     "output_type": "display_data"
    }
   ],
   "source": [
    "fig = plt.figure(figsize=(10, 8))\n",
    "\n",
    "for i, name in enumerate(stock_dfs.keys()):\n",
    "    # get plotting axes\n",
    "    ax = plt.subplot(2, 2, i + 1)\n",
    "\n",
    "    # get stock DataFrame\n",
    "    df = stock_dfs[name]\n",
    "\n",
    "    # compute class counts\n",
    "    down = np.sum(df.price_change == 0)\n",
    "    none = np.sum(df.price_change == 1)\n",
    "    up = np.sum(df.price_change == 2)\n",
    "\n",
    "    ax.barh([2.25], [0]) # expand to fit the legend\n",
    "    ax.barh([0], [down], height=0.4, edgecolor='k', label='num_downward')\n",
    "    ax.barh([1], [none], height=0.4, edgecolor='k', label='num_no_change')\n",
    "    ax.barh([2], [up], height=0.4, edgecolor='k', label='num_upward')\n",
    "    ax.set_title(name)\n",
    "    ax.set_xlabel('Number of Samples')\n",
    "    ax.set_ylabel('Price Movement Class')\n",
    "    ax.legend();\n",
    "\n",
    "# set main title\n",
    "fig.suptitle('Number of training samples in each class', size=24)\n",
    "\n",
    "# add a bit of space\n",
    "fig.subplots_adjust(hspace=0.35);\n"
   ]
  },
  {
   "cell_type": "markdown",
   "metadata": {},
   "source": [
    "### FUTURE -- Add more features\n",
    "- Price/Volume Differences\n",
    "- Time Encoding\n",
    "- Technical Indicators"
   ]
  },
  {
   "cell_type": "markdown",
   "metadata": {},
   "source": [
    "### Get train, valid, test splits for each stock"
   ]
  },
  {
   "cell_type": "code",
   "execution_count": 71,
   "metadata": {},
   "outputs": [],
   "source": [
    "train_dfs = {}\n",
    "valid_dfs = {}\n",
    "test_dfs = {}\n",
    "\n",
    "split_dfs = {}\n",
    "\n",
    "for name in stock_dfs.keys():\n",
    "\n",
    "    # get stock DataFrame\n",
    "    df = stock_dfs[name]\n",
    "\n",
    "    train = df.loc[:'2022-02-01']\n",
    "    valid = df.loc['2022-02-02':'2022-07-01']\n",
    "    test = df.loc['2022-07-01':]\n",
    "\n",
    "    train_dfs.update({name : train})\n",
    "    valid_dfs.update({name : valid})\n",
    "    test_dfs.update({name : test})\n",
    "    \n",
    "    split_dfs.update({name : [train, valid, test]})"
   ]
  },
  {
   "cell_type": "markdown",
   "metadata": {},
   "source": [
    "### Test Window Generator"
   ]
  },
  {
   "cell_type": "code",
   "execution_count": 72,
   "metadata": {},
   "outputs": [],
   "source": [
    "# use shift=0 since the targets are aligned with each feature row\n",
    "aapl_gen = WindowGenerator(\n",
    "                input_width=32, label_width=1, shift=0, \n",
    "                dfs=split_dfs['AAPL'],\n",
    "                remove_cols=['price_change', 'price_trend'],\n",
    "                batch_size=32, \n",
    "                label_columns=['price_change'])"
   ]
  },
  {
   "cell_type": "code",
   "execution_count": 73,
   "metadata": {},
   "outputs": [
    {
     "name": "stdout",
     "output_type": "stream",
     "text": [
      "Inputs shape (batch, time, features): (32, 32, 5)\n",
      "Labels shape (batch, time, features): (32, 1, 1)\n"
     ]
    }
   ],
   "source": [
    "for inputs, labels, sample_weights in aapl_gen.train.take(1):\n",
    "    print(f'Inputs shape (batch, time, features): {inputs.shape}')\n",
    "    print(f'Labels shape (batch, time, features): {labels.shape}')"
   ]
  },
  {
   "cell_type": "markdown",
   "metadata": {},
   "source": [
    "Check that each window is standardized"
   ]
  },
  {
   "cell_type": "code",
   "execution_count": null,
   "metadata": {},
   "outputs": [],
   "source": [
    "tf.math.reduce_std(inputs, axis=1)"
   ]
  },
  {
   "cell_type": "markdown",
   "metadata": {},
   "source": [
    "### Start Training Models"
   ]
  },
  {
   "cell_type": "code",
   "execution_count": 75,
   "metadata": {},
   "outputs": [],
   "source": [
    "class Baseline(tf.keras.Model):\n",
    "    def __init__(self, label_index=None):\n",
    "        super().__init__()\n",
    "        self.label_index = label_index\n",
    "\n",
    "    def call(self, inputs):\n",
    "        if self.label_index is None:\n",
    "            return inputs\n",
    "        result = inputs[:, :, self.label_index]\n",
    "        return result[:, :, tf.newaxis]"
   ]
  },
  {
   "cell_type": "code",
   "execution_count": 76,
   "metadata": {},
   "outputs": [],
   "source": [
    "single_step_gens = []\n",
    "window_generators = []\n",
    "\n",
    "for name in split_dfs.keys():\n",
    "    single_gen = WindowGenerator(\n",
    "        input_width=1, label_width=1, shift=0,\n",
    "        dfs=split_dfs[name],\n",
    "        batch_size=32, \n",
    "        label_columns=['price_change'])\n",
    "\n",
    "    data_gen = WindowGenerator(\n",
    "                input_width=32, label_width=1, shift=0, \n",
    "                dfs=split_dfs['AAPL'],\n",
    "                remove_cols=['price_change', 'price_trend'], batch_size=32, \n",
    "                label_columns=['price_change'])\n",
    "    \n",
    "    single_step_gens.append(single_gen)\n",
    "    window_generators.append(data_gen)\n",
    "        "
   ]
  },
  {
   "cell_type": "code",
   "execution_count": 77,
   "metadata": {},
   "outputs": [],
   "source": [
    "train_performance = {}\n",
    "val_performance = {}"
   ]
  },
  {
   "cell_type": "code",
   "execution_count": 78,
   "metadata": {},
   "outputs": [
    {
     "name": "stdout",
     "output_type": "stream",
     "text": [
      "639/639 [==============================] - 2s 3ms/step - loss: nan - accuracy: 0.1597 - weighted_accuracy: 0.3333\n",
      "208/208 [==============================] - 1s 2ms/step - loss: nan - accuracy: 0.2547 - weighted_accuracy: 0.4180\n",
      "356/356 [==============================] - 1s 3ms/step - loss: nan - accuracy: 0.1497 - weighted_accuracy: 0.3333\n",
      "125/125 [==============================] - 0s 2ms/step - loss: nan - accuracy: 0.2787 - weighted_accuracy: 0.4577\n",
      "500/500 [==============================] - 2s 3ms/step - loss: nan - accuracy: 0.1508 - weighted_accuracy: 0.3333\n",
      "171/171 [==============================] - 0s 2ms/step - loss: nan - accuracy: 0.2576 - weighted_accuracy: 0.4378\n",
      "633/633 [==============================] - 2s 3ms/step - loss: nan - accuracy: 0.1673 - weighted_accuracy: 0.3333\n",
      "207/207 [==============================] - 1s 2ms/step - loss: nan - accuracy: 0.2425 - weighted_accuracy: 0.4088\n"
     ]
    }
   ],
   "source": [
    "train_metrics = []\n",
    "val_metrics = []\n",
    "for data_gen in single_step_gens:\n",
    "    baseline = Baseline(label_index=data_gen.column_indices['price_change'])\n",
    "\n",
    "    baseline.compile(loss=tf.keras.losses.SparseCategoricalCrossentropy(),\n",
    "                     metrics=['accuracy'],\n",
    "                     weighted_metrics=['accuracy'])\n",
    "\n",
    "    train_metrics.append(baseline.evaluate(data_gen.train))\n",
    "    val_metrics.append(baseline.evaluate(data_gen.valid))"
   ]
  },
  {
   "cell_type": "code",
   "execution_count": 79,
   "metadata": {},
   "outputs": [],
   "source": [
    "train_performance['Baseline'] = train_metrics\n",
    "val_performance['Baseline'] = val_metrics"
   ]
  },
  {
   "cell_type": "markdown",
   "metadata": {},
   "source": [
    "Stream line the process with a conveincence function"
   ]
  },
  {
   "cell_type": "code",
   "execution_count": 80,
   "metadata": {},
   "outputs": [],
   "source": [
    "def compile_and_fit(model, window, lr=1e-4, max_epochs=100, patience=2):\n",
    "    early_stopping = tf.keras.callbacks.EarlyStopping(monitor='val_loss',\n",
    "                                                      patience=patience,\n",
    "                                                      mode='min')\n",
    "\n",
    "    model.compile(loss=tf.keras.losses.SparseCategoricalCrossentropy(),\n",
    "                  optimizer=tf.keras.optimizers.Adam(learning_rate=lr),\n",
    "                  metrics=[tf.keras.metrics.SparseCategoricalAccuracy()],\n",
    "                  weighted_metrics=[tf.keras.metrics.SparseCategoricalAccuracy()])\n",
    "\n",
    "    history = model.fit(window.train, epochs=max_epochs,\n",
    "                        validation_data=window.valid,\n",
    "                        callbacks=[early_stopping])\n",
    "    return history"
   ]
  },
  {
   "cell_type": "code",
   "execution_count": 91,
   "metadata": {},
   "outputs": [],
   "source": [
    "transformer_model = TransformerModel(\n",
    "            n_heads=2,\n",
    "            d_model=512,\n",
    "            ff_dim=256,\n",
    "            num_transformer_blocks=2,\n",
    "            mlp_units=[256],\n",
    "            n_outputs=3,\n",
    "            dropout=0.1,\n",
    "            mlp_dropout=0.1)"
   ]
  },
  {
   "cell_type": "markdown",
   "metadata": {},
   "source": [
    "Train model on each dataset once per epoch\n",
    "\n",
    "TODO - add new functions to make this easier"
   ]
  },
  {
   "cell_type": "code",
   "execution_count": 92,
   "metadata": {},
   "outputs": [],
   "source": [
    "LEARN_RATE = 1e-4"
   ]
  },
  {
   "cell_type": "code",
   "execution_count": 93,
   "metadata": {},
   "outputs": [],
   "source": [
    "transformer_model.compile(\n",
    "                  loss=tf.keras.losses.SparseCategoricalCrossentropy(),\n",
    "                  optimizer=tf.keras.optimizers.Adam(learning_rate=LEARN_RATE),\n",
    "                  metrics=[tf.keras.metrics.SparseCategoricalAccuracy()],\n",
    "                  weighted_metrics=[tf.keras.metrics.SparseCategoricalAccuracy()])"
   ]
  },
  {
   "cell_type": "code",
   "execution_count": 94,
   "metadata": {},
   "outputs": [
    {
     "name": "stdout",
     "output_type": "stream",
     "text": [
      "\n",
      "MAIN EPOCH: 1\n",
      "\n",
      "638/638 [==============================] - 39s 58ms/step - loss: 0.9095 - sparse_categorical_accuracy: 0.6718 - weighted_sparse_categorical_accuracy: 0.3445 - val_loss: 1.2873 - val_sparse_categorical_accuracy: 0.5193 - val_weighted_sparse_categorical_accuracy: 0.3473\n",
      "638/638 [==============================] - 6s 9ms/step - loss: 0.9492 - sparse_categorical_accuracy: 0.6146 - weighted_sparse_categorical_accuracy: 0.4261\n",
      "207/207 [==============================] - 2s 9ms/step - loss: 1.2873 - sparse_categorical_accuracy: 0.5193 - weighted_sparse_categorical_accuracy: 0.3473\n",
      "\n",
      "638/638 [==============================] - 38s 59ms/step - loss: 0.8730 - sparse_categorical_accuracy: 0.6736 - weighted_sparse_categorical_accuracy: 0.3645 - val_loss: 1.2690 - val_sparse_categorical_accuracy: 0.5200 - val_weighted_sparse_categorical_accuracy: 0.3444\n",
      "638/638 [==============================] - 6s 9ms/step - loss: 0.9304 - sparse_categorical_accuracy: 0.6240 - weighted_sparse_categorical_accuracy: 0.4263\n",
      "207/207 [==============================] - 2s 9ms/step - loss: 1.2690 - sparse_categorical_accuracy: 0.5200 - weighted_sparse_categorical_accuracy: 0.3444\n",
      "\n",
      "638/638 [==============================] - 38s 59ms/step - loss: 0.8649 - sparse_categorical_accuracy: 0.6732 - weighted_sparse_categorical_accuracy: 0.3760 - val_loss: 1.2617 - val_sparse_categorical_accuracy: 0.5238 - val_weighted_sparse_categorical_accuracy: 0.3450\n",
      "638/638 [==============================] - 6s 9ms/step - loss: 0.9201 - sparse_categorical_accuracy: 0.6318 - weighted_sparse_categorical_accuracy: 0.4328\n",
      "207/207 [==============================] - 2s 9ms/step - loss: 1.2617 - sparse_categorical_accuracy: 0.5238 - weighted_sparse_categorical_accuracy: 0.3450\n",
      "\n",
      "638/638 [==============================] - 38s 59ms/step - loss: 0.8586 - sparse_categorical_accuracy: 0.6765 - weighted_sparse_categorical_accuracy: 0.3831 - val_loss: 1.2569 - val_sparse_categorical_accuracy: 0.5285 - val_weighted_sparse_categorical_accuracy: 0.3480\n",
      "638/638 [==============================] - 6s 9ms/step - loss: 0.9111 - sparse_categorical_accuracy: 0.6406 - weighted_sparse_categorical_accuracy: 0.4419\n",
      "207/207 [==============================] - 2s 9ms/step - loss: 1.2569 - sparse_categorical_accuracy: 0.5285 - weighted_sparse_categorical_accuracy: 0.3480\n",
      "\n",
      "MAIN EPOCH: 2\n",
      "\n",
      "638/638 [==============================] - 38s 59ms/step - loss: 0.8551 - sparse_categorical_accuracy: 0.6760 - weighted_sparse_categorical_accuracy: 0.3845 - val_loss: 1.2537 - val_sparse_categorical_accuracy: 0.5284 - val_weighted_sparse_categorical_accuracy: 0.3437\n",
      "638/638 [==============================] - 6s 9ms/step - loss: 0.9057 - sparse_categorical_accuracy: 0.6465 - weighted_sparse_categorical_accuracy: 0.4439\n",
      "207/207 [==============================] - 2s 9ms/step - loss: 1.2537 - sparse_categorical_accuracy: 0.5284 - weighted_sparse_categorical_accuracy: 0.3437\n",
      "\n",
      "638/638 [==============================] - 38s 60ms/step - loss: 0.8514 - sparse_categorical_accuracy: 0.6792 - weighted_sparse_categorical_accuracy: 0.3910 - val_loss: 1.2511 - val_sparse_categorical_accuracy: 0.5261 - val_weighted_sparse_categorical_accuracy: 0.3389\n",
      "638/638 [==============================] - 6s 9ms/step - loss: 0.9000 - sparse_categorical_accuracy: 0.6497 - weighted_sparse_categorical_accuracy: 0.4434\n",
      "207/207 [==============================] - 2s 9ms/step - loss: 1.2511 - sparse_categorical_accuracy: 0.5261 - weighted_sparse_categorical_accuracy: 0.3389\n",
      "\n",
      "638/638 [==============================] - 39s 60ms/step - loss: 0.8492 - sparse_categorical_accuracy: 0.6794 - weighted_sparse_categorical_accuracy: 0.3938 - val_loss: 1.2495 - val_sparse_categorical_accuracy: 0.5274 - val_weighted_sparse_categorical_accuracy: 0.3346\n",
      "638/638 [==============================] - 6s 9ms/step - loss: 0.8954 - sparse_categorical_accuracy: 0.6534 - weighted_sparse_categorical_accuracy: 0.4429\n",
      "207/207 [==============================] - 2s 9ms/step - loss: 1.2495 - sparse_categorical_accuracy: 0.5274 - weighted_sparse_categorical_accuracy: 0.3346\n",
      "\n",
      "638/638 [==============================] - 38s 59ms/step - loss: 0.8470 - sparse_categorical_accuracy: 0.6796 - weighted_sparse_categorical_accuracy: 0.3943 - val_loss: 1.2480 - val_sparse_categorical_accuracy: 0.5303 - val_weighted_sparse_categorical_accuracy: 0.3334\n",
      "638/638 [==============================] - 6s 9ms/step - loss: 0.8901 - sparse_categorical_accuracy: 0.6572 - weighted_sparse_categorical_accuracy: 0.4413\n",
      "207/207 [==============================] - 2s 9ms/step - loss: 1.2480 - sparse_categorical_accuracy: 0.5303 - weighted_sparse_categorical_accuracy: 0.3334\n"
     ]
    }
   ],
   "source": [
    "train_metrics = []\n",
    "val_metrics = []\n",
    "\n",
    "EPOCHS = 2\n",
    "for e in range(1, EPOCHS+1):\n",
    "    print(f'\\nMAIN EPOCH: {e}')\n",
    "    for window in window_generators:\n",
    "        print()\n",
    "        \n",
    "        history = transformer_model.fit(\n",
    "                            window.train, epochs=1,\n",
    "                            validation_data=window.valid)\n",
    "\n",
    "        train_metrics.append(transformer_model.evaluate(window.train))\n",
    "        val_metrics.append(transformer_model.evaluate(window.valid))"
   ]
  },
  {
   "cell_type": "code",
   "execution_count": 95,
   "metadata": {},
   "outputs": [
    {
     "data": {
      "text/plain": [
       "[[0.949173092842102, 0.6146231293678284, 0.42613542079925537],\n",
       " [0.9304172396659851, 0.6240321397781372, 0.42626476287841797],\n",
       " [0.9200723171234131, 0.6317749619483948, 0.4328083395957947],\n",
       " [0.9111279249191284, 0.640644907951355, 0.44194144010543823],\n",
       " [0.9057024121284485, 0.646525502204895, 0.4438883364200592],\n",
       " [0.9000322818756104, 0.6497108936309814, 0.44340410828590393],\n",
       " [0.8953692317008972, 0.6533862352371216, 0.44290339946746826],\n",
       " [0.890130341053009, 0.657159686088562, 0.44131818413734436]]"
      ]
     },
     "execution_count": 95,
     "metadata": {},
     "output_type": "execute_result"
    }
   ],
   "source": [
    "train_metrics"
   ]
  },
  {
   "cell_type": "code",
   "execution_count": 96,
   "metadata": {},
   "outputs": [
    {
     "data": {
      "text/plain": [
       "[[1.2872800827026367, 0.519280195236206, 0.3473113477230072],\n",
       " [1.2689943313598633, 0.5200362801551819, 0.34437912702560425],\n",
       " [1.2616792917251587, 0.523816704750061, 0.3449952006340027],\n",
       " [1.2569442987442017, 0.5285044312477112, 0.34796658158302307],\n",
       " [1.253657579421997, 0.528353214263916, 0.3436739444732666],\n",
       " [1.2511324882507324, 0.5260849595069885, 0.3389472961425781],\n",
       " [1.2495285272598267, 0.527445912361145, 0.3346196115016937],\n",
       " [1.2479684352874756, 0.530319094657898, 0.3333580493927002]]"
      ]
     },
     "execution_count": 96,
     "metadata": {},
     "output_type": "execute_result"
    }
   ],
   "source": [
    "val_metrics"
   ]
  },
  {
   "cell_type": "code",
   "execution_count": 97,
   "metadata": {},
   "outputs": [],
   "source": [
    "train_performance['Transformer'] = train_metrics\n",
    "val_performance['Transformer'] = val_metrics"
   ]
  },
  {
   "cell_type": "code",
   "execution_count": 98,
   "metadata": {},
   "outputs": [
    {
     "data": {
      "text/plain": [
       "{'Baseline': [[nan, 0.1596613973379135, 0.33333301544189453],\n",
       "  [nan, 0.14968377351760864, 0.33333349227905273],\n",
       "  [nan, 0.15075093507766724, 0.33333373069763184],\n",
       "  [nan, 0.16729266941547394, 0.33333301544189453]],\n",
       " 'Transformer': [[0.949173092842102, 0.6146231293678284, 0.42613542079925537],\n",
       "  [0.9304172396659851, 0.6240321397781372, 0.42626476287841797],\n",
       "  [0.9200723171234131, 0.6317749619483948, 0.4328083395957947],\n",
       "  [0.9111279249191284, 0.640644907951355, 0.44194144010543823],\n",
       "  [0.9057024121284485, 0.646525502204895, 0.4438883364200592],\n",
       "  [0.9000322818756104, 0.6497108936309814, 0.44340410828590393],\n",
       "  [0.8953692317008972, 0.6533862352371216, 0.44290339946746826],\n",
       "  [0.890130341053009, 0.657159686088562, 0.44131818413734436]]}"
      ]
     },
     "execution_count": 98,
     "metadata": {},
     "output_type": "execute_result"
    }
   ],
   "source": [
    "train_performance"
   ]
  },
  {
   "cell_type": "code",
   "execution_count": 99,
   "metadata": {},
   "outputs": [
    {
     "data": {
      "text/plain": [
       "{'Baseline': [[nan, 0.2546658515930176, 0.4179534912109375],\n",
       "  [nan, 0.27870091795921326, 0.4576638340950012],\n",
       "  [nan, 0.25763392448425293, 0.4377609193325043],\n",
       "  [nan, 0.24254803359508514, 0.4087695777416229]],\n",
       " 'Transformer': [[1.2872800827026367, 0.519280195236206, 0.3473113477230072],\n",
       "  [1.2689943313598633, 0.5200362801551819, 0.34437912702560425],\n",
       "  [1.2616792917251587, 0.523816704750061, 0.3449952006340027],\n",
       "  [1.2569442987442017, 0.5285044312477112, 0.34796658158302307],\n",
       "  [1.253657579421997, 0.528353214263916, 0.3436739444732666],\n",
       "  [1.2511324882507324, 0.5260849595069885, 0.3389472961425781],\n",
       "  [1.2495285272598267, 0.527445912361145, 0.3346196115016937],\n",
       "  [1.2479684352874756, 0.530319094657898, 0.3333580493927002]]}"
      ]
     },
     "execution_count": 99,
     "metadata": {},
     "output_type": "execute_result"
    }
   ],
   "source": [
    "val_performance"
   ]
  },
  {
   "cell_type": "markdown",
   "metadata": {},
   "source": [
    "### Save model for future usage"
   ]
  },
  {
   "cell_type": "code",
   "execution_count": 18,
   "metadata": {},
   "outputs": [
    {
     "name": "stdout",
     "output_type": "stream",
     "text": [
      "Model: \"transformer_model\"\n",
      "_________________________________________________________________\n",
      " Layer (type)                Output Shape              Param #   \n",
      "=================================================================\n",
      " positional_embedding (Posit  multiple                 3584      \n",
      " ionalEmbedding)                                                 \n",
      "                                                                 \n",
      " transformer_encoder (Transf  multiple                 2362624   \n",
      " ormerEncoder)                                                   \n",
      "                                                                 \n",
      " transformer_encoder_1 (Tran  multiple                 2362624   \n",
      " sformerEncoder)                                                 \n",
      "                                                                 \n",
      " global_average_pooling1d (G  multiple                 0         \n",
      " lobalAveragePooling1D)                                          \n",
      "                                                                 \n",
      " dense (Dense)               multiple                  8448      \n",
      "                                                                 \n",
      " dropout (Dropout)           multiple                  0         \n",
      "                                                                 \n",
      " dense_1 (Dense)             multiple                  771       \n",
      "                                                                 \n",
      "=================================================================\n",
      "Total params: 4,738,051\n",
      "Trainable params: 4,738,051\n",
      "Non-trainable params: 0\n",
      "_________________________________________________________________\n"
     ]
    }
   ],
   "source": [
    "transformer_model.summary()"
   ]
  },
  {
   "cell_type": "code",
   "execution_count": 19,
   "metadata": {},
   "outputs": [
    {
     "name": "stderr",
     "output_type": "stream",
     "text": [
      "WARNING:absl:Found untraced functions such as dense_2_layer_call_fn, dense_2_layer_call_and_return_conditional_losses, multi_head_attention_layer_call_fn, multi_head_attention_layer_call_and_return_conditional_losses, dropout_2_layer_call_fn while saving (showing 5 of 38). These functions will not be directly callable after loading.\n"
     ]
    },
    {
     "name": "stdout",
     "output_type": "stream",
     "text": [
      "INFO:tensorflow:Assets written to: models/basic_transformer_checkpoint\\assets\n"
     ]
    },
    {
     "name": "stderr",
     "output_type": "stream",
     "text": [
      "INFO:tensorflow:Assets written to: models/basic_transformer_checkpoint\\assets\n",
      "WARNING:absl:<tensorflow_addons.layers.multihead_attention.MultiHeadAttention object at 0x0000026E07D79F10> has the same name 'MultiHeadAttention' as a built-in Keras object. Consider renaming <class 'tensorflow_addons.layers.multihead_attention.MultiHeadAttention'> to avoid naming conflicts when loading with `tf.keras.models.load_model`. If renaming is not possible, pass the object in the `custom_objects` parameter of the load function.\n",
      "WARNING:absl:<tensorflow_addons.layers.multihead_attention.MultiHeadAttention object at 0x0000026E09294F70> has the same name 'MultiHeadAttention' as a built-in Keras object. Consider renaming <class 'tensorflow_addons.layers.multihead_attention.MultiHeadAttention'> to avoid naming conflicts when loading with `tf.keras.models.load_model`. If renaming is not possible, pass the object in the `custom_objects` parameter of the load function.\n"
     ]
    }
   ],
   "source": [
    "transformer_model.save('models/basic_transformer_checkpoint', include_optimizer=True)"
   ]
  },
  {
   "cell_type": "code",
   "execution_count": 22,
   "metadata": {},
   "outputs": [],
   "source": [
    "from tensorflow_addons.layers import multihead_attention\n",
    "\n",
    "custom_objects={\n",
    "    'MultiHeadAttention' : multihead_attention.MultiHeadAttention,\n",
    "    'TransformerModel' : TransformerModel}\n",
    "\n",
    "reconstructed_model = keras.models.load_model('models/basic_transformer_checkpoint',\n",
    "                                              custom_objects=custom_objects)\n"
   ]
  },
  {
   "cell_type": "code",
   "execution_count": 24,
   "metadata": {},
   "outputs": [
    {
     "name": "stdout",
     "output_type": "stream",
     "text": [
      "Epoch 1/2\n",
      "638/638 [==============================] - 40s 59ms/step - loss: 0.8315 - sparse_categorical_accuracy: 0.6993 - weighted_sparse_categorical_accuracy: 0.3950 - val_loss: 0.8886 - val_sparse_categorical_accuracy: 0.7210 - val_weighted_sparse_categorical_accuracy: 0.6870\n",
      "Epoch 2/2\n",
      "174/638 [=======>......................] - ETA: 25s - loss: 0.6626 - sparse_categorical_accuracy: 0.7633 - weighted_sparse_categorical_accuracy: 0.6517"
     ]
    },
    {
     "ename": "KeyboardInterrupt",
     "evalue": "",
     "output_type": "error",
     "traceback": [
      "\u001b[1;31m---------------------------------------------------------------------------\u001b[0m",
      "\u001b[1;31mKeyboardInterrupt\u001b[0m                         Traceback (most recent call last)",
      "\u001b[1;32m~\\AppData\\Local\\Temp\\ipykernel_23300\\1409055518.py\u001b[0m in \u001b[0;36m<cell line: 3>\u001b[1;34m()\u001b[0m\n\u001b[0;32m      3\u001b[0m \u001b[1;32mfor\u001b[0m \u001b[0mdata_gen\u001b[0m \u001b[1;32min\u001b[0m \u001b[0mwindow_generators\u001b[0m\u001b[1;33m:\u001b[0m\u001b[1;33m\u001b[0m\u001b[1;33m\u001b[0m\u001b[0m\n\u001b[0;32m      4\u001b[0m \u001b[1;33m\u001b[0m\u001b[0m\n\u001b[1;32m----> 5\u001b[1;33m     compile_and_fit(reconstructed_model, data_gen, lr=1e-4,\n\u001b[0m\u001b[0;32m      6\u001b[0m                     patience=2, max_epochs=2)\n\u001b[0;32m      7\u001b[0m \u001b[1;33m\u001b[0m\u001b[0m\n",
      "\u001b[1;32m~\\AppData\\Local\\Temp\\ipykernel_23300\\611053135.py\u001b[0m in \u001b[0;36mcompile_and_fit\u001b[1;34m(model, window, lr, max_epochs, patience)\u001b[0m\n\u001b[0;32m      9\u001b[0m                   weighted_metrics=[tf.keras.metrics.SparseCategoricalAccuracy()])\n\u001b[0;32m     10\u001b[0m \u001b[1;33m\u001b[0m\u001b[0m\n\u001b[1;32m---> 11\u001b[1;33m     history = model.fit(window.train, epochs=max_epochs,\n\u001b[0m\u001b[0;32m     12\u001b[0m                         \u001b[0mvalidation_data\u001b[0m\u001b[1;33m=\u001b[0m\u001b[0mwindow\u001b[0m\u001b[1;33m.\u001b[0m\u001b[0mvalid\u001b[0m\u001b[1;33m,\u001b[0m\u001b[1;33m\u001b[0m\u001b[1;33m\u001b[0m\u001b[0m\n\u001b[0;32m     13\u001b[0m                         callbacks=[early_stopping])\n",
      "\u001b[1;32mc:\\Users\\itber\\anaconda3\\envs\\tf\\lib\\site-packages\\keras\\utils\\traceback_utils.py\u001b[0m in \u001b[0;36merror_handler\u001b[1;34m(*args, **kwargs)\u001b[0m\n\u001b[0;32m     62\u001b[0m     \u001b[0mfiltered_tb\u001b[0m \u001b[1;33m=\u001b[0m \u001b[1;32mNone\u001b[0m\u001b[1;33m\u001b[0m\u001b[1;33m\u001b[0m\u001b[0m\n\u001b[0;32m     63\u001b[0m     \u001b[1;32mtry\u001b[0m\u001b[1;33m:\u001b[0m\u001b[1;33m\u001b[0m\u001b[1;33m\u001b[0m\u001b[0m\n\u001b[1;32m---> 64\u001b[1;33m       \u001b[1;32mreturn\u001b[0m \u001b[0mfn\u001b[0m\u001b[1;33m(\u001b[0m\u001b[1;33m*\u001b[0m\u001b[0margs\u001b[0m\u001b[1;33m,\u001b[0m \u001b[1;33m**\u001b[0m\u001b[0mkwargs\u001b[0m\u001b[1;33m)\u001b[0m\u001b[1;33m\u001b[0m\u001b[1;33m\u001b[0m\u001b[0m\n\u001b[0m\u001b[0;32m     65\u001b[0m     \u001b[1;32mexcept\u001b[0m \u001b[0mException\u001b[0m \u001b[1;32mas\u001b[0m \u001b[0me\u001b[0m\u001b[1;33m:\u001b[0m  \u001b[1;31m# pylint: disable=broad-except\u001b[0m\u001b[1;33m\u001b[0m\u001b[1;33m\u001b[0m\u001b[0m\n\u001b[0;32m     66\u001b[0m       \u001b[0mfiltered_tb\u001b[0m \u001b[1;33m=\u001b[0m \u001b[0m_process_traceback_frames\u001b[0m\u001b[1;33m(\u001b[0m\u001b[0me\u001b[0m\u001b[1;33m.\u001b[0m\u001b[0m__traceback__\u001b[0m\u001b[1;33m)\u001b[0m\u001b[1;33m\u001b[0m\u001b[1;33m\u001b[0m\u001b[0m\n",
      "\u001b[1;32mc:\\Users\\itber\\anaconda3\\envs\\tf\\lib\\site-packages\\keras\\engine\\training.py\u001b[0m in \u001b[0;36mfit\u001b[1;34m(self, x, y, batch_size, epochs, verbose, callbacks, validation_split, validation_data, shuffle, class_weight, sample_weight, initial_epoch, steps_per_epoch, validation_steps, validation_batch_size, validation_freq, max_queue_size, workers, use_multiprocessing)\u001b[0m\n\u001b[0;32m   1412\u001b[0m               \u001b[0mlogs\u001b[0m \u001b[1;33m=\u001b[0m \u001b[0mtmp_logs\u001b[0m  \u001b[1;31m# No error, now safe to assign to logs.\u001b[0m\u001b[1;33m\u001b[0m\u001b[1;33m\u001b[0m\u001b[0m\n\u001b[0;32m   1413\u001b[0m               \u001b[0mend_step\u001b[0m \u001b[1;33m=\u001b[0m \u001b[0mstep\u001b[0m \u001b[1;33m+\u001b[0m \u001b[0mdata_handler\u001b[0m\u001b[1;33m.\u001b[0m\u001b[0mstep_increment\u001b[0m\u001b[1;33m\u001b[0m\u001b[1;33m\u001b[0m\u001b[0m\n\u001b[1;32m-> 1414\u001b[1;33m               \u001b[0mcallbacks\u001b[0m\u001b[1;33m.\u001b[0m\u001b[0mon_train_batch_end\u001b[0m\u001b[1;33m(\u001b[0m\u001b[0mend_step\u001b[0m\u001b[1;33m,\u001b[0m \u001b[0mlogs\u001b[0m\u001b[1;33m)\u001b[0m\u001b[1;33m\u001b[0m\u001b[1;33m\u001b[0m\u001b[0m\n\u001b[0m\u001b[0;32m   1415\u001b[0m               \u001b[1;32mif\u001b[0m \u001b[0mself\u001b[0m\u001b[1;33m.\u001b[0m\u001b[0mstop_training\u001b[0m\u001b[1;33m:\u001b[0m\u001b[1;33m\u001b[0m\u001b[1;33m\u001b[0m\u001b[0m\n\u001b[0;32m   1416\u001b[0m                 \u001b[1;32mbreak\u001b[0m\u001b[1;33m\u001b[0m\u001b[1;33m\u001b[0m\u001b[0m\n",
      "\u001b[1;32mc:\\Users\\itber\\anaconda3\\envs\\tf\\lib\\site-packages\\keras\\callbacks.py\u001b[0m in \u001b[0;36mon_train_batch_end\u001b[1;34m(self, batch, logs)\u001b[0m\n\u001b[0;32m    436\u001b[0m     \"\"\"\n\u001b[0;32m    437\u001b[0m     \u001b[1;32mif\u001b[0m \u001b[0mself\u001b[0m\u001b[1;33m.\u001b[0m\u001b[0m_should_call_train_batch_hooks\u001b[0m\u001b[1;33m:\u001b[0m\u001b[1;33m\u001b[0m\u001b[1;33m\u001b[0m\u001b[0m\n\u001b[1;32m--> 438\u001b[1;33m       \u001b[0mself\u001b[0m\u001b[1;33m.\u001b[0m\u001b[0m_call_batch_hook\u001b[0m\u001b[1;33m(\u001b[0m\u001b[0mModeKeys\u001b[0m\u001b[1;33m.\u001b[0m\u001b[0mTRAIN\u001b[0m\u001b[1;33m,\u001b[0m \u001b[1;34m'end'\u001b[0m\u001b[1;33m,\u001b[0m \u001b[0mbatch\u001b[0m\u001b[1;33m,\u001b[0m \u001b[0mlogs\u001b[0m\u001b[1;33m=\u001b[0m\u001b[0mlogs\u001b[0m\u001b[1;33m)\u001b[0m\u001b[1;33m\u001b[0m\u001b[1;33m\u001b[0m\u001b[0m\n\u001b[0m\u001b[0;32m    439\u001b[0m \u001b[1;33m\u001b[0m\u001b[0m\n\u001b[0;32m    440\u001b[0m   \u001b[1;32mdef\u001b[0m \u001b[0mon_test_batch_begin\u001b[0m\u001b[1;33m(\u001b[0m\u001b[0mself\u001b[0m\u001b[1;33m,\u001b[0m \u001b[0mbatch\u001b[0m\u001b[1;33m,\u001b[0m \u001b[0mlogs\u001b[0m\u001b[1;33m=\u001b[0m\u001b[1;32mNone\u001b[0m\u001b[1;33m)\u001b[0m\u001b[1;33m:\u001b[0m\u001b[1;33m\u001b[0m\u001b[1;33m\u001b[0m\u001b[0m\n",
      "\u001b[1;32mc:\\Users\\itber\\anaconda3\\envs\\tf\\lib\\site-packages\\keras\\callbacks.py\u001b[0m in \u001b[0;36m_call_batch_hook\u001b[1;34m(self, mode, hook, batch, logs)\u001b[0m\n\u001b[0;32m    295\u001b[0m       \u001b[0mself\u001b[0m\u001b[1;33m.\u001b[0m\u001b[0m_call_batch_begin_hook\u001b[0m\u001b[1;33m(\u001b[0m\u001b[0mmode\u001b[0m\u001b[1;33m,\u001b[0m \u001b[0mbatch\u001b[0m\u001b[1;33m,\u001b[0m \u001b[0mlogs\u001b[0m\u001b[1;33m)\u001b[0m\u001b[1;33m\u001b[0m\u001b[1;33m\u001b[0m\u001b[0m\n\u001b[0;32m    296\u001b[0m     \u001b[1;32melif\u001b[0m \u001b[0mhook\u001b[0m \u001b[1;33m==\u001b[0m \u001b[1;34m'end'\u001b[0m\u001b[1;33m:\u001b[0m\u001b[1;33m\u001b[0m\u001b[1;33m\u001b[0m\u001b[0m\n\u001b[1;32m--> 297\u001b[1;33m       \u001b[0mself\u001b[0m\u001b[1;33m.\u001b[0m\u001b[0m_call_batch_end_hook\u001b[0m\u001b[1;33m(\u001b[0m\u001b[0mmode\u001b[0m\u001b[1;33m,\u001b[0m \u001b[0mbatch\u001b[0m\u001b[1;33m,\u001b[0m \u001b[0mlogs\u001b[0m\u001b[1;33m)\u001b[0m\u001b[1;33m\u001b[0m\u001b[1;33m\u001b[0m\u001b[0m\n\u001b[0m\u001b[0;32m    298\u001b[0m     \u001b[1;32melse\u001b[0m\u001b[1;33m:\u001b[0m\u001b[1;33m\u001b[0m\u001b[1;33m\u001b[0m\u001b[0m\n\u001b[0;32m    299\u001b[0m       raise ValueError(\n",
      "\u001b[1;32mc:\\Users\\itber\\anaconda3\\envs\\tf\\lib\\site-packages\\keras\\callbacks.py\u001b[0m in \u001b[0;36m_call_batch_end_hook\u001b[1;34m(self, mode, batch, logs)\u001b[0m\n\u001b[0;32m    316\u001b[0m       \u001b[0mself\u001b[0m\u001b[1;33m.\u001b[0m\u001b[0m_batch_times\u001b[0m\u001b[1;33m.\u001b[0m\u001b[0mappend\u001b[0m\u001b[1;33m(\u001b[0m\u001b[0mbatch_time\u001b[0m\u001b[1;33m)\u001b[0m\u001b[1;33m\u001b[0m\u001b[1;33m\u001b[0m\u001b[0m\n\u001b[0;32m    317\u001b[0m \u001b[1;33m\u001b[0m\u001b[0m\n\u001b[1;32m--> 318\u001b[1;33m     \u001b[0mself\u001b[0m\u001b[1;33m.\u001b[0m\u001b[0m_call_batch_hook_helper\u001b[0m\u001b[1;33m(\u001b[0m\u001b[0mhook_name\u001b[0m\u001b[1;33m,\u001b[0m \u001b[0mbatch\u001b[0m\u001b[1;33m,\u001b[0m \u001b[0mlogs\u001b[0m\u001b[1;33m)\u001b[0m\u001b[1;33m\u001b[0m\u001b[1;33m\u001b[0m\u001b[0m\n\u001b[0m\u001b[0;32m    319\u001b[0m \u001b[1;33m\u001b[0m\u001b[0m\n\u001b[0;32m    320\u001b[0m     \u001b[1;32mif\u001b[0m \u001b[0mlen\u001b[0m\u001b[1;33m(\u001b[0m\u001b[0mself\u001b[0m\u001b[1;33m.\u001b[0m\u001b[0m_batch_times\u001b[0m\u001b[1;33m)\u001b[0m \u001b[1;33m>=\u001b[0m \u001b[0mself\u001b[0m\u001b[1;33m.\u001b[0m\u001b[0m_num_batches_for_timing_check\u001b[0m\u001b[1;33m:\u001b[0m\u001b[1;33m\u001b[0m\u001b[1;33m\u001b[0m\u001b[0m\n",
      "\u001b[1;32mc:\\Users\\itber\\anaconda3\\envs\\tf\\lib\\site-packages\\keras\\callbacks.py\u001b[0m in \u001b[0;36m_call_batch_hook_helper\u001b[1;34m(self, hook_name, batch, logs)\u001b[0m\n\u001b[0;32m    354\u001b[0m     \u001b[1;32mfor\u001b[0m \u001b[0mcallback\u001b[0m \u001b[1;32min\u001b[0m \u001b[0mself\u001b[0m\u001b[1;33m.\u001b[0m\u001b[0mcallbacks\u001b[0m\u001b[1;33m:\u001b[0m\u001b[1;33m\u001b[0m\u001b[1;33m\u001b[0m\u001b[0m\n\u001b[0;32m    355\u001b[0m       \u001b[0mhook\u001b[0m \u001b[1;33m=\u001b[0m \u001b[0mgetattr\u001b[0m\u001b[1;33m(\u001b[0m\u001b[0mcallback\u001b[0m\u001b[1;33m,\u001b[0m \u001b[0mhook_name\u001b[0m\u001b[1;33m)\u001b[0m\u001b[1;33m\u001b[0m\u001b[1;33m\u001b[0m\u001b[0m\n\u001b[1;32m--> 356\u001b[1;33m       \u001b[0mhook\u001b[0m\u001b[1;33m(\u001b[0m\u001b[0mbatch\u001b[0m\u001b[1;33m,\u001b[0m \u001b[0mlogs\u001b[0m\u001b[1;33m)\u001b[0m\u001b[1;33m\u001b[0m\u001b[1;33m\u001b[0m\u001b[0m\n\u001b[0m\u001b[0;32m    357\u001b[0m \u001b[1;33m\u001b[0m\u001b[0m\n\u001b[0;32m    358\u001b[0m     \u001b[1;32mif\u001b[0m \u001b[0mself\u001b[0m\u001b[1;33m.\u001b[0m\u001b[0m_check_timing\u001b[0m\u001b[1;33m:\u001b[0m\u001b[1;33m\u001b[0m\u001b[1;33m\u001b[0m\u001b[0m\n",
      "\u001b[1;32mc:\\Users\\itber\\anaconda3\\envs\\tf\\lib\\site-packages\\keras\\callbacks.py\u001b[0m in \u001b[0;36mon_train_batch_end\u001b[1;34m(self, batch, logs)\u001b[0m\n\u001b[0;32m   1032\u001b[0m \u001b[1;33m\u001b[0m\u001b[0m\n\u001b[0;32m   1033\u001b[0m   \u001b[1;32mdef\u001b[0m \u001b[0mon_train_batch_end\u001b[0m\u001b[1;33m(\u001b[0m\u001b[0mself\u001b[0m\u001b[1;33m,\u001b[0m \u001b[0mbatch\u001b[0m\u001b[1;33m,\u001b[0m \u001b[0mlogs\u001b[0m\u001b[1;33m=\u001b[0m\u001b[1;32mNone\u001b[0m\u001b[1;33m)\u001b[0m\u001b[1;33m:\u001b[0m\u001b[1;33m\u001b[0m\u001b[1;33m\u001b[0m\u001b[0m\n\u001b[1;32m-> 1034\u001b[1;33m     \u001b[0mself\u001b[0m\u001b[1;33m.\u001b[0m\u001b[0m_batch_update_progbar\u001b[0m\u001b[1;33m(\u001b[0m\u001b[0mbatch\u001b[0m\u001b[1;33m,\u001b[0m \u001b[0mlogs\u001b[0m\u001b[1;33m)\u001b[0m\u001b[1;33m\u001b[0m\u001b[1;33m\u001b[0m\u001b[0m\n\u001b[0m\u001b[0;32m   1035\u001b[0m \u001b[1;33m\u001b[0m\u001b[0m\n\u001b[0;32m   1036\u001b[0m   \u001b[1;32mdef\u001b[0m \u001b[0mon_test_batch_end\u001b[0m\u001b[1;33m(\u001b[0m\u001b[0mself\u001b[0m\u001b[1;33m,\u001b[0m \u001b[0mbatch\u001b[0m\u001b[1;33m,\u001b[0m \u001b[0mlogs\u001b[0m\u001b[1;33m=\u001b[0m\u001b[1;32mNone\u001b[0m\u001b[1;33m)\u001b[0m\u001b[1;33m:\u001b[0m\u001b[1;33m\u001b[0m\u001b[1;33m\u001b[0m\u001b[0m\n",
      "\u001b[1;32mc:\\Users\\itber\\anaconda3\\envs\\tf\\lib\\site-packages\\keras\\callbacks.py\u001b[0m in \u001b[0;36m_batch_update_progbar\u001b[1;34m(self, batch, logs)\u001b[0m\n\u001b[0;32m   1104\u001b[0m     \u001b[1;32mif\u001b[0m \u001b[0mself\u001b[0m\u001b[1;33m.\u001b[0m\u001b[0mverbose\u001b[0m \u001b[1;33m==\u001b[0m \u001b[1;36m1\u001b[0m\u001b[1;33m:\u001b[0m\u001b[1;33m\u001b[0m\u001b[1;33m\u001b[0m\u001b[0m\n\u001b[0;32m   1105\u001b[0m       \u001b[1;31m# Only block async when verbose = 1.\u001b[0m\u001b[1;33m\u001b[0m\u001b[1;33m\u001b[0m\u001b[0m\n\u001b[1;32m-> 1106\u001b[1;33m       \u001b[0mlogs\u001b[0m \u001b[1;33m=\u001b[0m \u001b[0mtf_utils\u001b[0m\u001b[1;33m.\u001b[0m\u001b[0msync_to_numpy_or_python_type\u001b[0m\u001b[1;33m(\u001b[0m\u001b[0mlogs\u001b[0m\u001b[1;33m)\u001b[0m\u001b[1;33m\u001b[0m\u001b[1;33m\u001b[0m\u001b[0m\n\u001b[0m\u001b[0;32m   1107\u001b[0m       \u001b[0mself\u001b[0m\u001b[1;33m.\u001b[0m\u001b[0mprogbar\u001b[0m\u001b[1;33m.\u001b[0m\u001b[0mupdate\u001b[0m\u001b[1;33m(\u001b[0m\u001b[0mself\u001b[0m\u001b[1;33m.\u001b[0m\u001b[0mseen\u001b[0m\u001b[1;33m,\u001b[0m \u001b[0mlist\u001b[0m\u001b[1;33m(\u001b[0m\u001b[0mlogs\u001b[0m\u001b[1;33m.\u001b[0m\u001b[0mitems\u001b[0m\u001b[1;33m(\u001b[0m\u001b[1;33m)\u001b[0m\u001b[1;33m)\u001b[0m\u001b[1;33m,\u001b[0m \u001b[0mfinalize\u001b[0m\u001b[1;33m=\u001b[0m\u001b[1;32mFalse\u001b[0m\u001b[1;33m)\u001b[0m\u001b[1;33m\u001b[0m\u001b[1;33m\u001b[0m\u001b[0m\n\u001b[0;32m   1108\u001b[0m \u001b[1;33m\u001b[0m\u001b[0m\n",
      "\u001b[1;32mc:\\Users\\itber\\anaconda3\\envs\\tf\\lib\\site-packages\\keras\\utils\\tf_utils.py\u001b[0m in \u001b[0;36msync_to_numpy_or_python_type\u001b[1;34m(tensors)\u001b[0m\n\u001b[0;32m    605\u001b[0m     \u001b[1;32mreturn\u001b[0m \u001b[0mt\u001b[0m\u001b[1;33m.\u001b[0m\u001b[0mitem\u001b[0m\u001b[1;33m(\u001b[0m\u001b[1;33m)\u001b[0m \u001b[1;32mif\u001b[0m \u001b[0mnp\u001b[0m\u001b[1;33m.\u001b[0m\u001b[0mndim\u001b[0m\u001b[1;33m(\u001b[0m\u001b[0mt\u001b[0m\u001b[1;33m)\u001b[0m \u001b[1;33m==\u001b[0m \u001b[1;36m0\u001b[0m \u001b[1;32melse\u001b[0m \u001b[0mt\u001b[0m\u001b[1;33m\u001b[0m\u001b[1;33m\u001b[0m\u001b[0m\n\u001b[0;32m    606\u001b[0m \u001b[1;33m\u001b[0m\u001b[0m\n\u001b[1;32m--> 607\u001b[1;33m   \u001b[1;32mreturn\u001b[0m \u001b[0mtf\u001b[0m\u001b[1;33m.\u001b[0m\u001b[0mnest\u001b[0m\u001b[1;33m.\u001b[0m\u001b[0mmap_structure\u001b[0m\u001b[1;33m(\u001b[0m\u001b[0m_to_single_numpy_or_python_type\u001b[0m\u001b[1;33m,\u001b[0m \u001b[0mtensors\u001b[0m\u001b[1;33m)\u001b[0m\u001b[1;33m\u001b[0m\u001b[1;33m\u001b[0m\u001b[0m\n\u001b[0m\u001b[0;32m    608\u001b[0m \u001b[1;33m\u001b[0m\u001b[0m\n\u001b[0;32m    609\u001b[0m \u001b[1;33m\u001b[0m\u001b[0m\n",
      "\u001b[1;32mc:\\Users\\itber\\anaconda3\\envs\\tf\\lib\\site-packages\\tensorflow\\python\\util\\nest.py\u001b[0m in \u001b[0;36mmap_structure\u001b[1;34m(func, *structure, **kwargs)\u001b[0m\n\u001b[0;32m    914\u001b[0m \u001b[1;33m\u001b[0m\u001b[0m\n\u001b[0;32m    915\u001b[0m   return pack_sequence_as(\n\u001b[1;32m--> 916\u001b[1;33m       \u001b[0mstructure\u001b[0m\u001b[1;33m[\u001b[0m\u001b[1;36m0\u001b[0m\u001b[1;33m]\u001b[0m\u001b[1;33m,\u001b[0m \u001b[1;33m[\u001b[0m\u001b[0mfunc\u001b[0m\u001b[1;33m(\u001b[0m\u001b[1;33m*\u001b[0m\u001b[0mx\u001b[0m\u001b[1;33m)\u001b[0m \u001b[1;32mfor\u001b[0m \u001b[0mx\u001b[0m \u001b[1;32min\u001b[0m \u001b[0mentries\u001b[0m\u001b[1;33m]\u001b[0m\u001b[1;33m,\u001b[0m\u001b[1;33m\u001b[0m\u001b[1;33m\u001b[0m\u001b[0m\n\u001b[0m\u001b[0;32m    917\u001b[0m       expand_composites=expand_composites)\n\u001b[0;32m    918\u001b[0m \u001b[1;33m\u001b[0m\u001b[0m\n",
      "\u001b[1;32mc:\\Users\\itber\\anaconda3\\envs\\tf\\lib\\site-packages\\tensorflow\\python\\util\\nest.py\u001b[0m in \u001b[0;36m<listcomp>\u001b[1;34m(.0)\u001b[0m\n\u001b[0;32m    914\u001b[0m \u001b[1;33m\u001b[0m\u001b[0m\n\u001b[0;32m    915\u001b[0m   return pack_sequence_as(\n\u001b[1;32m--> 916\u001b[1;33m       \u001b[0mstructure\u001b[0m\u001b[1;33m[\u001b[0m\u001b[1;36m0\u001b[0m\u001b[1;33m]\u001b[0m\u001b[1;33m,\u001b[0m \u001b[1;33m[\u001b[0m\u001b[0mfunc\u001b[0m\u001b[1;33m(\u001b[0m\u001b[1;33m*\u001b[0m\u001b[0mx\u001b[0m\u001b[1;33m)\u001b[0m \u001b[1;32mfor\u001b[0m \u001b[0mx\u001b[0m \u001b[1;32min\u001b[0m \u001b[0mentries\u001b[0m\u001b[1;33m]\u001b[0m\u001b[1;33m,\u001b[0m\u001b[1;33m\u001b[0m\u001b[1;33m\u001b[0m\u001b[0m\n\u001b[0m\u001b[0;32m    917\u001b[0m       expand_composites=expand_composites)\n\u001b[0;32m    918\u001b[0m \u001b[1;33m\u001b[0m\u001b[0m\n",
      "\u001b[1;32mc:\\Users\\itber\\anaconda3\\envs\\tf\\lib\\site-packages\\keras\\utils\\tf_utils.py\u001b[0m in \u001b[0;36m_to_single_numpy_or_python_type\u001b[1;34m(t)\u001b[0m\n\u001b[0;32m    599\u001b[0m     \u001b[1;31m# Don't turn ragged or sparse tensors to NumPy.\u001b[0m\u001b[1;33m\u001b[0m\u001b[1;33m\u001b[0m\u001b[0m\n\u001b[0;32m    600\u001b[0m     \u001b[1;32mif\u001b[0m \u001b[0misinstance\u001b[0m\u001b[1;33m(\u001b[0m\u001b[0mt\u001b[0m\u001b[1;33m,\u001b[0m \u001b[0mtf\u001b[0m\u001b[1;33m.\u001b[0m\u001b[0mTensor\u001b[0m\u001b[1;33m)\u001b[0m\u001b[1;33m:\u001b[0m\u001b[1;33m\u001b[0m\u001b[1;33m\u001b[0m\u001b[0m\n\u001b[1;32m--> 601\u001b[1;33m       \u001b[0mt\u001b[0m \u001b[1;33m=\u001b[0m \u001b[0mt\u001b[0m\u001b[1;33m.\u001b[0m\u001b[0mnumpy\u001b[0m\u001b[1;33m(\u001b[0m\u001b[1;33m)\u001b[0m\u001b[1;33m\u001b[0m\u001b[1;33m\u001b[0m\u001b[0m\n\u001b[0m\u001b[0;32m    602\u001b[0m     \u001b[1;31m# Strings, ragged and sparse tensors don't have .item(). Return them as-is.\u001b[0m\u001b[1;33m\u001b[0m\u001b[1;33m\u001b[0m\u001b[0m\n\u001b[0;32m    603\u001b[0m     \u001b[1;32mif\u001b[0m \u001b[1;32mnot\u001b[0m \u001b[0misinstance\u001b[0m\u001b[1;33m(\u001b[0m\u001b[0mt\u001b[0m\u001b[1;33m,\u001b[0m \u001b[1;33m(\u001b[0m\u001b[0mnp\u001b[0m\u001b[1;33m.\u001b[0m\u001b[0mndarray\u001b[0m\u001b[1;33m,\u001b[0m \u001b[0mnp\u001b[0m\u001b[1;33m.\u001b[0m\u001b[0mgeneric\u001b[0m\u001b[1;33m)\u001b[0m\u001b[1;33m)\u001b[0m\u001b[1;33m:\u001b[0m\u001b[1;33m\u001b[0m\u001b[1;33m\u001b[0m\u001b[0m\n",
      "\u001b[1;32mc:\\Users\\itber\\anaconda3\\envs\\tf\\lib\\site-packages\\tensorflow\\python\\framework\\ops.py\u001b[0m in \u001b[0;36mnumpy\u001b[1;34m(self)\u001b[0m\n\u001b[0;32m   1157\u001b[0m     \"\"\"\n\u001b[0;32m   1158\u001b[0m     \u001b[1;31m# TODO(slebedev): Consider avoiding a copy for non-CPU or remote tensors.\u001b[0m\u001b[1;33m\u001b[0m\u001b[1;33m\u001b[0m\u001b[0m\n\u001b[1;32m-> 1159\u001b[1;33m     \u001b[0mmaybe_arr\u001b[0m \u001b[1;33m=\u001b[0m \u001b[0mself\u001b[0m\u001b[1;33m.\u001b[0m\u001b[0m_numpy\u001b[0m\u001b[1;33m(\u001b[0m\u001b[1;33m)\u001b[0m  \u001b[1;31m# pylint: disable=protected-access\u001b[0m\u001b[1;33m\u001b[0m\u001b[1;33m\u001b[0m\u001b[0m\n\u001b[0m\u001b[0;32m   1160\u001b[0m     \u001b[1;32mreturn\u001b[0m \u001b[0mmaybe_arr\u001b[0m\u001b[1;33m.\u001b[0m\u001b[0mcopy\u001b[0m\u001b[1;33m(\u001b[0m\u001b[1;33m)\u001b[0m \u001b[1;32mif\u001b[0m \u001b[0misinstance\u001b[0m\u001b[1;33m(\u001b[0m\u001b[0mmaybe_arr\u001b[0m\u001b[1;33m,\u001b[0m \u001b[0mnp\u001b[0m\u001b[1;33m.\u001b[0m\u001b[0mndarray\u001b[0m\u001b[1;33m)\u001b[0m \u001b[1;32melse\u001b[0m \u001b[0mmaybe_arr\u001b[0m\u001b[1;33m\u001b[0m\u001b[1;33m\u001b[0m\u001b[0m\n\u001b[0;32m   1161\u001b[0m \u001b[1;33m\u001b[0m\u001b[0m\n",
      "\u001b[1;32mc:\\Users\\itber\\anaconda3\\envs\\tf\\lib\\site-packages\\tensorflow\\python\\framework\\ops.py\u001b[0m in \u001b[0;36m_numpy\u001b[1;34m(self)\u001b[0m\n\u001b[0;32m   1123\u001b[0m   \u001b[1;32mdef\u001b[0m \u001b[0m_numpy\u001b[0m\u001b[1;33m(\u001b[0m\u001b[0mself\u001b[0m\u001b[1;33m)\u001b[0m\u001b[1;33m:\u001b[0m\u001b[1;33m\u001b[0m\u001b[1;33m\u001b[0m\u001b[0m\n\u001b[0;32m   1124\u001b[0m     \u001b[1;32mtry\u001b[0m\u001b[1;33m:\u001b[0m\u001b[1;33m\u001b[0m\u001b[1;33m\u001b[0m\u001b[0m\n\u001b[1;32m-> 1125\u001b[1;33m       \u001b[1;32mreturn\u001b[0m \u001b[0mself\u001b[0m\u001b[1;33m.\u001b[0m\u001b[0m_numpy_internal\u001b[0m\u001b[1;33m(\u001b[0m\u001b[1;33m)\u001b[0m\u001b[1;33m\u001b[0m\u001b[1;33m\u001b[0m\u001b[0m\n\u001b[0m\u001b[0;32m   1126\u001b[0m     \u001b[1;32mexcept\u001b[0m \u001b[0mcore\u001b[0m\u001b[1;33m.\u001b[0m\u001b[0m_NotOkStatusException\u001b[0m \u001b[1;32mas\u001b[0m \u001b[0me\u001b[0m\u001b[1;33m:\u001b[0m  \u001b[1;31m# pylint: disable=protected-access\u001b[0m\u001b[1;33m\u001b[0m\u001b[1;33m\u001b[0m\u001b[0m\n\u001b[0;32m   1127\u001b[0m       \u001b[1;32mraise\u001b[0m \u001b[0mcore\u001b[0m\u001b[1;33m.\u001b[0m\u001b[0m_status_to_exception\u001b[0m\u001b[1;33m(\u001b[0m\u001b[0me\u001b[0m\u001b[1;33m)\u001b[0m \u001b[1;32mfrom\u001b[0m \u001b[1;32mNone\u001b[0m  \u001b[1;31m# pylint: disable=protected-access\u001b[0m\u001b[1;33m\u001b[0m\u001b[1;33m\u001b[0m\u001b[0m\n",
      "\u001b[1;31mKeyboardInterrupt\u001b[0m: "
     ]
    }
   ],
   "source": [
    "train_metrics = []\n",
    "val_metrics = []\n",
    "for data_gen in window_generators:\n",
    "\n",
    "    compile_and_fit(reconstructed_model, data_gen, lr=1e-4,\n",
    "                    patience=2, max_epochs=2)\n",
    "\n",
    "    train_metrics.append(transformer_model.evaluate(data_gen.train))\n",
    "    val_metrics.append(transformer_model.evaluate(data_gen.valid))"
   ]
  },
  {
   "cell_type": "code",
   "execution_count": null,
   "metadata": {},
   "outputs": [],
   "source": []
  }
 ],
 "metadata": {
  "kernelspec": {
   "display_name": "Python 3.9.12 ('tf')",
   "language": "python",
   "name": "python3"
  },
  "language_info": {
   "codemirror_mode": {
    "name": "ipython",
    "version": 3
   },
   "file_extension": ".py",
   "mimetype": "text/x-python",
   "name": "python",
   "nbconvert_exporter": "python",
   "pygments_lexer": "ipython3",
   "version": "3.9.12"
  },
  "orig_nbformat": 4,
  "vscode": {
   "interpreter": {
    "hash": "2b2da39daaaff30a84159e8452ba91acfc0bbd521fb66c6aa9941f847b87bd81"
   }
  }
 },
 "nbformat": 4,
 "nbformat_minor": 2
}
