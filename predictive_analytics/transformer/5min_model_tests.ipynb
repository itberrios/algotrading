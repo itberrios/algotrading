{
 "cells": [
  {
   "cell_type": "markdown",
   "metadata": {},
   "source": [
    "# **5min stock data**\n",
    "\n",
    "In this notebook we will explore a basic pipeline for 5min interval stock data. We will be working with a portfolio of highly correlated stocks: AAPL, GOOG, QCOM, and TSLA. We will train our models using the Balanced Focal Loss function and compare it to our previous performan using Categorical Cross Entropy Loss. These stocks were highly correlated around Aug - Oct 2022. The stock dataset contains timestamps, prices and trading volume, but does not contin any target variables.\n",
    "- Timestamps &#8594; Interval\n",
    "- Open/Close/High/Low Prices &#8594; Ratio\n",
    "- Trading Volume &#8594; Ratio\n",
    "\n",
    "To use the timestamps we will sinusoidally encode them. We will also add engineered features such as the price difference.\n",
    "\n",
    " We will create the target variable by taking the midpoint of Open/Close prices for M future days and then averaging these values. This target variable is Oridnal and has 3 possible classes: \n",
    "- 0 - downward price movement\n",
    "- 1 - no change\n",
    "- 2 - upward price movement\n",
    "\n",
    "The price movements are derived by a threshold that is defined using the IQR method to detect outliers. Currently we use a limit of 1, and every Q1 outlier is classified as \"0 - downward price movement\", every Q3 outlier is classified as \"2 - upward price movement\", and all inliers are classified as: \"1 - no change\".\n",
    "\n",
    "#### NOTE:\n",
    "This dataset has discontinuities after each trading day (i.e. from final afterhours trade until the first afterhours trade the next day). It is possible that other afterhours activities could have occured to impact the prices during this time period. "
   ]
  },
  {
   "cell_type": "markdown",
   "metadata": {},
   "source": [
    "## Models\n",
    "\n",
    "The main model we will be testing in this notebook is a Transformer Encoder. Typically a Transformer has an Encoder and Decoder portion, where the Encoder learns information about which parts of the input sequence are relevant to eachother. The Decoder does the opposite, it takes the continuouss representation learned by the Encoder and learns to generate an ordered output sequence. For the Time Series Classifiecation problem it is unecessary to include the Decoder, we can simply use the Encoder to learn relative correlations of the inputs and add a Vanilla Feed Forward Neural Network to the end of the Encoder Blocks to obtain the desired classification. [Source](https://userweb.cs.txstate.edu/~amk181/AIME_LSTM_Attention_vs_Transformer.pdf).\n",
    "\n",
    "The Transformer Encoder also relies on positional encoding in order to implement this, we will first project the input vectors into high dimensional space as done [here](https://arxiv.org/pdf/2010.02803.pdf), and then add the positional Encoding as done in the [original paper](https://arxiv.org/pdf/1706.03762.pdf).\n",
    "\n",
    "\n",
    "In order to compare how effective the Transformer is in modeling seuqential data, we will compare its results to:\n",
    "- Baseline Model (uses previous predictions)\n",
    "- Linear Model\n",
    "- Neural Network\n",
    "- LSTM"
   ]
  },
  {
   "cell_type": "markdown",
   "metadata": {},
   "source": [
    "### Library Import"
   ]
  },
  {
   "cell_type": "code",
   "execution_count": 1,
   "metadata": {},
   "outputs": [],
   "source": [
    "import os\n",
    "import sys\n",
    "import numpy as np\n",
    "import pandas as pd\n",
    "import pandas_ta as ta\n",
    "import tensorflow as tf\n",
    "import keras\n",
    "from tensorflow.keras import layers\n",
    "import matplotlib.pyplot as plt\n",
    "\n",
    "plt.rcParams[\"figure.figsize\"] = (20, 10)\n",
    "%matplotlib inline"
   ]
  },
  {
   "cell_type": "markdown",
   "metadata": {},
   "source": [
    "### Local Imports\n",
    "\n",
    "Get base dir for imports, this allows us to look in the main algotrading folder to import local modules"
   ]
  },
  {
   "cell_type": "code",
   "execution_count": 2,
   "metadata": {},
   "outputs": [],
   "source": [
    "BASE_DIR = os.path.abspath(os.path.join(os.path.abspath('..'), '..'))\n",
    "sys.path.append(BASE_DIR)"
   ]
  },
  {
   "cell_type": "code",
   "execution_count": 3,
   "metadata": {},
   "outputs": [],
   "source": [
    "from data_utils import *\n",
    "from data_pipeline import *\n",
    "from window_generator import WindowGenerator\n",
    "from models.basic_transformer import TransformerModel"
   ]
  },
  {
   "cell_type": "markdown",
   "metadata": {},
   "source": [
    "### Ensure that GPU is available"
   ]
  },
  {
   "cell_type": "code",
   "execution_count": 4,
   "metadata": {},
   "outputs": [
    {
     "data": {
      "text/plain": [
       "[PhysicalDevice(name='/physical_device:GPU:0', device_type='GPU')]"
      ]
     },
     "execution_count": 4,
     "metadata": {},
     "output_type": "execute_result"
    }
   ],
   "source": [
    "tf.config.list_physical_devices('GPU')"
   ]
  },
  {
   "cell_type": "markdown",
   "metadata": {},
   "source": [
    "### Get the Data\n",
    "\n",
    "Load data for sequntial models"
   ]
  },
  {
   "cell_type": "code",
   "execution_count": 5,
   "metadata": {},
   "outputs": [],
   "source": [
    "X_train = np.load('../../data/transformed/5min/train_data.npy')\n",
    "y_train = np.load('../../data/transformed/5min/train_targets.npy')\n",
    "X_test = np.load('../../data/transformed/5min/test_data.npy')\n",
    "y_test = np.load('../../data/transformed/5min/test_targets.npy')\n"
   ]
  },
  {
   "cell_type": "markdown",
   "metadata": {},
   "source": [
    "Get data for single instance models (baseline neural network)"
   ]
  },
  {
   "cell_type": "code",
   "execution_count": 6,
   "metadata": {},
   "outputs": [],
   "source": [
    "X_train_single = X_train[:, -1, :]\n",
    "y_train_single = y_train[:, -1]\n",
    "X_test_single = X_test[:, -1, :]\n",
    "y_test_single = y_test[:, -1]"
   ]
  },
  {
   "cell_type": "markdown",
   "metadata": {},
   "source": [
    "### Start Training Models\n",
    "\n",
    "First we will get baseline predictions"
   ]
  },
  {
   "cell_type": "code",
   "execution_count": 7,
   "metadata": {},
   "outputs": [],
   "source": [
    "from sklearn.metrics import accuracy_score, matthews_corrcoef\n",
    "\n",
    "base_train_acc = accuracy_score(y_train_single[1:],  # targets\n",
    "                                y_train_single[:-1]) # baseline predictions\n",
    "\n",
    "base_test_acc = accuracy_score(y_test_single[1:],  # targets\n",
    "                               y_test_single[:-1]) # baseline predictions"
   ]
  },
  {
   "cell_type": "code",
   "execution_count": 8,
   "metadata": {},
   "outputs": [],
   "source": [
    "base_train_mcc = matthews_corrcoef(y_train_single[1:],  # targets\n",
    "                                   y_train_single[:-1]) # baseline predictions\n",
    "\n",
    "base_test_mcc = matthews_corrcoef(y_test_single[1:],  # targets\n",
    "                                  y_test_single[:-1]) # baseline predictions"
   ]
  },
  {
   "cell_type": "code",
   "execution_count": 9,
   "metadata": {},
   "outputs": [
    {
     "name": "stdout",
     "output_type": "stream",
     "text": [
      "Baseline Train Accuracy:  0.6274800629156434\n",
      "Baseline Test Accuracy:  0.560739090551697\n",
      "Baseline Train MCC:  0.3209280867640351\n",
      "Baseline Test MCC:  0.26098550930297915\n"
     ]
    }
   ],
   "source": [
    "print('Baseline Train Accuracy: ', base_train_acc)\n",
    "print('Baseline Test Accuracy: ', base_test_acc)\n",
    "\n",
    "print('Baseline Train MCC: ', base_train_mcc)\n",
    "print('Baseline Test MCC: ', base_test_mcc)"
   ]
  },
  {
   "cell_type": "markdown",
   "metadata": {},
   "source": [
    "### Train Linear Model\n",
    "Now let's train a linear model and check is's performance"
   ]
  },
  {
   "cell_type": "code",
   "execution_count": 13,
   "metadata": {},
   "outputs": [],
   "source": [
    "linear = tf.keras.Sequential([\n",
    "        layers.Dense(units=3, activation='softmax')\n",
    "    ])"
   ]
  },
  {
   "cell_type": "code",
   "execution_count": null,
   "metadata": {},
   "outputs": [],
   "source": [
    "linear.compile(\n",
    "        # loss=SparseCategoricalFocalLoss(gamma=2, class_weight=weights),\n",
    "        loss=tf.keras.losses.SparseCategoricalCrossentropy(),\n",
    "        optimizer=tf.keras.optimizers.Adam(learning_rate=0.5),\n",
    "        metrics=[tf.keras.metrics.SparseCategoricalAccuracy(), mcc_metric],\n",
    "        )\n",
    "\n",
    "early_stopping = tf.keras.callbacks.EarlyStopping(monitor='val_loss',\n",
    "                                                  patience=5,\n",
    "                                                  mode='min')\n",
    "\n",
    "linear_history = linear.fit(X_train_single, y_train_single, \n",
    "                     validation_data=(X_test_single, y_test_single),\n",
    "                     callbacks=[early_stopping],\n",
    "                     epochs=30, batch_size=32)"
   ]
  },
  {
   "cell_type": "code",
   "execution_count": 18,
   "metadata": {},
   "outputs": [
    {
     "name": "stdout",
     "output_type": "stream",
     "text": [
      "INFO:tensorflow:Assets written to: models/basic_linear_model_2\\assets\n"
     ]
    }
   ],
   "source": [
    "# save model\n",
    "linear.save('models/basic_linear_model_2', include_optimizer=True)"
   ]
  },
  {
   "cell_type": "code",
   "execution_count": 17,
   "metadata": {},
   "outputs": [
    {
     "data": {
      "text/plain": [
       "[0.2108549326658249,\n",
       " 0.2530534267425537,\n",
       " 0.27885469794273376,\n",
       " 0.3187476694583893,\n",
       " 0.34177064895629883,\n",
       " 0.31531521677970886,\n",
       " 0.28902533650398254,\n",
       " 0.2920178472995758,\n",
       " 0.222690150141716,\n",
       " 0.3110833466053009,\n",
       " 0.30168870091438293,\n",
       " 0.3035198450088501,\n",
       " 0.25144749879837036,\n",
       " 0.3494548499584198,\n",
       " 0.232704758644104,\n",
       " 0.1809820532798767,\n",
       " 0.26304954290390015,\n",
       " 0.28565964102745056,\n",
       " 0.3297762870788574]"
      ]
     },
     "execution_count": 17,
     "metadata": {},
     "output_type": "execute_result"
    }
   ],
   "source": [
    "linear_history.history['val_mcc_metric']"
   ]
  },
  {
   "cell_type": "markdown",
   "metadata": {},
   "source": [
    "### Train and test the Transformer Model"
   ]
  },
  {
   "cell_type": "code",
   "execution_count": 66,
   "metadata": {},
   "outputs": [],
   "source": [
    "'''\n",
    "   contains the basic Transformer Encoder Architecture\n",
    "   usage:\n",
    "   \n",
    "   from basic_transformer import TransformerModel\n",
    "\n",
    "   transformer_model = TransformerModel(\n",
    "            n_heads=2,\n",
    "            d_model=512,\n",
    "            ff_dim=256,\n",
    "            num_transformer_blocks=2,\n",
    "            mlp_units=[256],\n",
    "            n_outputs=3,\n",
    "            dropout=0.1,\n",
    "            mlp_dropout=0.1)\n",
    "\n",
    "\n",
    "   Position Encoding Code from: https://www.tensorflow.org/text/tutorials/transformer.\n",
    "'''\n",
    "\n",
    "\n",
    "import numpy as np\n",
    "import tensorflow as tf\n",
    "import keras\n",
    "from tensorflow.keras import layers\n",
    "from tensorflow_addons.layers import MultiHeadAttention\n",
    "\n",
    "\n",
    "\n",
    "# ============================================================================\n",
    "# Positional Encoding\n",
    "def positional_encoding(length, depth):\n",
    "    depth = depth/2\n",
    "\n",
    "    positions = np.arange(length)[:, np.newaxis]     # (seq, 1)\n",
    "    depths = np.arange(depth)[np.newaxis, :]/depth   # (1, depth)\n",
    "\n",
    "    angle_rates = 1 / (10000**depths)         # (1, depth)\n",
    "    angle_rads = positions * angle_rates      # (pos, depth)\n",
    "\n",
    "    pos_encoding = np.concatenate(\n",
    "        [np.sin(angle_rads), np.cos(angle_rads)],\n",
    "        axis=-1) \n",
    "\n",
    "    return tf.cast(pos_encoding, dtype=tf.float32)\n",
    "\n",
    "\n",
    "class PositionalEmbedding(layers.Layer):\n",
    "    def __init__(self, d_model, ff_dim):\n",
    "        super().__init__()\n",
    "        self.d_model = d_model\n",
    "        self.ff_dim = ff_dim\n",
    "\n",
    "    def build(self, input_shape):\n",
    "        # self.embedding = tf.keras.layers.Embedding(vocab_size, d_model, mask_zero=True) \n",
    "        self.embedding = layers.Dense(self.d_model)\n",
    "        self.pos_encoding = positional_encoding(length=self.ff_dim, depth=self.d_model)\n",
    "\n",
    "    def call(self, x):\n",
    "        length = tf.shape(x)[1]\n",
    "        x = self.embedding(x)\n",
    "        # This factor sets the relative scale of the embedding and positonal_encoding.\n",
    "        x *= tf.math.sqrt(tf.cast(self.d_model, tf.float32))\n",
    "        x = x + self.pos_encoding[tf.newaxis, :length, :]\n",
    "        return x\n",
    "\n",
    "# ============================================================================\n",
    "# Transformer Encoder\n",
    "\n",
    "class TransformerEncoder(tf.keras.layers.Layer):\n",
    "\n",
    "    def __init__(self, n_heads, d_model, ff_dim, dropout=0):\n",
    "        super().__init__()\n",
    "        \n",
    "        self.n_heads = n_heads\n",
    "        self.d_model = d_model\n",
    "        self.ff_dim = ff_dim\n",
    "        self.dropout = dropout\n",
    "\n",
    "        self.attn_heads = list()\n",
    "\n",
    "\n",
    "    def build(self, input_shape):\n",
    "        \n",
    "        # attention portion\n",
    "        self.attn_multi = MultiHeadAttention(num_heads=self.n_heads, \n",
    "                                             head_size=self.d_model, \n",
    "                                             dropout=self.dropout)\n",
    "        self.attn_dropout = layers.Dropout(self.dropout)\n",
    "        self.attn_norm = layers.LayerNormalization(epsilon=1e-6)\n",
    "\n",
    "        # feedforward portion\n",
    "        self.ff_conv1 = layers.Conv1D(filters=self.ff_dim, \n",
    "                                      kernel_size=1, \n",
    "                                      activation='relu')\n",
    "        self.ff_dropout = layers.Dropout(self.dropout)\n",
    "        self.ff_conv2 = layers.Conv1D(filters=input_shape[-1],\n",
    "                                      kernel_size=1)\n",
    "        self.ff_norm = layers.LayerNormalization(epsilon=1e-6)\n",
    "\n",
    "\n",
    "    def call(self, inputs):\n",
    "        # attention portion\n",
    "        x = self.attn_multi([inputs, inputs])\n",
    "        x = self.attn_dropout(x)\n",
    "        x = self.attn_norm(x)\n",
    "\n",
    "        # get first residual\n",
    "        res = x + inputs\n",
    "        \n",
    "        # feedforward portion\n",
    "        x = self.ff_conv1(res)\n",
    "        x = self.ff_dropout(x)\n",
    "        x = self.ff_conv2(x)\n",
    "        x = self.ff_norm(x)\n",
    "        \n",
    "        # return residual\n",
    "        return res + x\n",
    "\n",
    "# ============================================================================\n",
    "# Transformer Model main\n",
    "\n",
    "class TransformerModel(keras.Model):\n",
    "\n",
    "    def __init__(self, \n",
    "            n_heads,\n",
    "            d_model,\n",
    "            # d_head, # set same value for d_k and d_v\n",
    "            ff_dim,\n",
    "            num_transformer_blocks,\n",
    "            mlp_units,\n",
    "            n_outputs=3,\n",
    "            dropout=0.1,\n",
    "            mlp_dropout=0.1):\n",
    "            \n",
    "        super().__init__()\n",
    "        \n",
    "        self.n_heads = n_heads\n",
    "        self.d_model = d_model\n",
    "        self.ff_dim = ff_dim\n",
    "        self.num_transformer_blocks = num_transformer_blocks\n",
    "        self.mlp_units = mlp_units\n",
    "        self.n_outputs = n_outputs\n",
    "        self.dropout = dropout\n",
    "        self.mlp_dropout = mlp_dropout\n",
    "        \n",
    "         \n",
    "    def build(self, input_shape):\n",
    "\n",
    "        # get embedding layer that projects inputs inot high dimensional space\n",
    "        # self.embed = layers.Dense(self.d_model)\n",
    "\n",
    "        # get learnable time layer\n",
    "        # self.time_layer = layers.Layer(tf.random.uniform((input_shape[1], self.d_model), -0.2, 0.2))\n",
    "        # self.time_layer = tf.Variable(\n",
    "        #     initial_value=tf.random.uniform((input_shape[1], self.d_model), -0.2, 0.2)\n",
    "        #     )\n",
    "        \n",
    "        # get positional embedding\n",
    "        self.positional_embedding = PositionalEmbedding(self.d_model, self.ff_dim)\n",
    "\n",
    "        # get transformer encoders\n",
    "        self.encoders = [TransformerEncoder(self.n_heads, self.d_model, self.ff_dim, self.dropout) \n",
    "                         for _ in range(self.num_transformer_blocks)]\n",
    "\n",
    "        self.avg_pool = layers.GlobalAveragePooling1D(data_format='channels_last') # batch, steps, features \"channels_first\")\n",
    "\n",
    "        # get MLP portion of network\n",
    "        self.mlp_layers = []\n",
    "        for dim in self.mlp_units:\n",
    "            self.mlp_layers.append(layers.Dense(dim, activation=\"relu\"))\n",
    "            self.mlp_layers.append(layers.Dropout(self.mlp_dropout))\n",
    "\n",
    "        # output layer \n",
    "        self.mlp_output = layers.Dense(self.n_outputs, activation='softmax')\n",
    "\n",
    "\n",
    "    def call(self, x):\n",
    "\n",
    "        # project input data into high dimensional space\n",
    "        # x = self.embed(x)\n",
    "\n",
    "        # inject time information ??\n",
    "        # x = x + self.time_layer(x)\n",
    "\n",
    "        # Project Input to high Dimensional Space and Encode Position Information\n",
    "        x = self.positional_embedding(x)\n",
    "\n",
    "        \n",
    "        # Encoder Portion\n",
    "        for encoder in self.encoders:\n",
    "            x = encoder(x)\n",
    "\n",
    "        # Average Pooling\n",
    "        x = self.avg_pool(x)\n",
    "\n",
    "        # MLP portion for classification\n",
    "        for mlp_layer in self.mlp_layers:\n",
    "            x = mlp_layer(x)\n",
    "\n",
    "        x = self.mlp_output(x)\n",
    "\n",
    "        return x\n",
    "\n",
    "    # Needed for saving and loading model with custom layer\n",
    "    # see: https://www.tensorflow.org/guide/keras/save_and_serialize\n",
    "    def get_config(self): \n",
    "        config = super().get_config().copy()\n",
    "        config.update({\n",
    "                'n_heads' : self.n_heads,\n",
    "                'd_model' : self.d_model,\n",
    "                'ff_dim' : self.ff_dim,\n",
    "                'num_transformer_blocks' : self.num_transformer_blocks,\n",
    "                'mlp_units' : self.mlp_units,\n",
    "                'n_outputs' : self.n_outputs,\n",
    "                'dropout' : self.dropout,\n",
    "                'mlp_dropout' : self.mlp_dropout})\n",
    "        return config    \n",
    "\n",
    "    @classmethod\n",
    "    def from_config(cls, config):\n",
    "        return cls(**config)\n",
    "\n",
    "    "
   ]
  },
  {
   "cell_type": "code",
   "execution_count": 67,
   "metadata": {},
   "outputs": [],
   "source": [
    "transformer_model = TransformerModel(\n",
    "                                    n_heads=2,\n",
    "                                    d_model=256,\n",
    "                                    ff_dim=256,\n",
    "                                    num_transformer_blocks=1,\n",
    "                                    mlp_units=[256],\n",
    "                                    n_outputs=3,\n",
    "                                    dropout=0.3,\n",
    "                                    mlp_dropout=0.3)"
   ]
  },
  {
   "cell_type": "code",
   "execution_count": 68,
   "metadata": {},
   "outputs": [],
   "source": [
    "def lr_scheduler(epoch, lr, warmup_epochs=15, decay_epochs=100, initial_lr=1e-6, base_lr=1e-3, min_lr=5e-5):\n",
    "    if epoch <= warmup_epochs:\n",
    "        pct = epoch / warmup_epochs\n",
    "        return ((base_lr - initial_lr) * pct) + initial_lr\n",
    "\n",
    "    if epoch > warmup_epochs and epoch < warmup_epochs+decay_epochs:\n",
    "        pct = 1 - ((epoch - warmup_epochs) / decay_epochs)\n",
    "        return ((base_lr - min_lr) * pct) + min_lr\n",
    "\n",
    "    return min_lr"
   ]
  },
  {
   "cell_type": "code",
   "execution_count": 69,
   "metadata": {},
   "outputs": [
    {
     "name": "stdout",
     "output_type": "stream",
     "text": [
      "Epoch 1/100\n",
      "4530/4530 [==============================] - ETA: 0s - loss: 1.7501 - sparse_categorical_accuracy: 0.4852 - mcc_metric: 0.0472"
     ]
    },
    {
     "name": "stderr",
     "output_type": "stream",
     "text": [
      "WARNING:absl:Found untraced functions such as dense_2_layer_call_fn, dense_2_layer_call_and_return_conditional_losses, multi_head_attention_layer_call_fn, multi_head_attention_layer_call_and_return_conditional_losses, dropout_2_layer_call_fn while saving (showing 5 of 20). These functions will not be directly callable after loading.\n"
     ]
    },
    {
     "name": "stdout",
     "output_type": "stream",
     "text": [
      "INFO:tensorflow:Assets written to: models\\transformer_checkpoint\\assets\n"
     ]
    },
    {
     "name": "stderr",
     "output_type": "stream",
     "text": [
      "INFO:tensorflow:Assets written to: models\\transformer_checkpoint\\assets\n",
      "WARNING:absl:<tensorflow_addons.layers.multihead_attention.MultiHeadAttention object at 0x000001CAC86099A0> has the same name 'MultiHeadAttention' as a built-in Keras object. Consider renaming <class 'tensorflow_addons.layers.multihead_attention.MultiHeadAttention'> to avoid naming conflicts when loading with `tf.keras.models.load_model`. If renaming is not possible, pass the object in the `custom_objects` parameter of the load function.\n"
     ]
    },
    {
     "name": "stdout",
     "output_type": "stream",
     "text": [
      "4530/4530 [==============================] - 61s 13ms/step - loss: 1.7501 - sparse_categorical_accuracy: 0.4852 - mcc_metric: 0.0472 - val_loss: 1.2030 - val_sparse_categorical_accuracy: 0.5380 - val_mcc_metric: -0.0031 - lr: 1.0000e-06\n",
      "Epoch 2/100\n",
      "4529/4530 [============================>.] - ETA: 0s - loss: 0.9325 - sparse_categorical_accuracy: 0.6044 - mcc_metric: 0.0672"
     ]
    },
    {
     "name": "stderr",
     "output_type": "stream",
     "text": [
      "WARNING:absl:Found untraced functions such as dense_2_layer_call_fn, dense_2_layer_call_and_return_conditional_losses, multi_head_attention_layer_call_fn, multi_head_attention_layer_call_and_return_conditional_losses, dropout_2_layer_call_fn while saving (showing 5 of 20). These functions will not be directly callable after loading.\n"
     ]
    },
    {
     "name": "stdout",
     "output_type": "stream",
     "text": [
      "INFO:tensorflow:Assets written to: models\\transformer_checkpoint\\assets\n"
     ]
    },
    {
     "name": "stderr",
     "output_type": "stream",
     "text": [
      "INFO:tensorflow:Assets written to: models\\transformer_checkpoint\\assets\n",
      "WARNING:absl:<tensorflow_addons.layers.multihead_attention.MultiHeadAttention object at 0x000001CAC86099A0> has the same name 'MultiHeadAttention' as a built-in Keras object. Consider renaming <class 'tensorflow_addons.layers.multihead_attention.MultiHeadAttention'> to avoid naming conflicts when loading with `tf.keras.models.load_model`. If renaming is not possible, pass the object in the `custom_objects` parameter of the load function.\n"
     ]
    },
    {
     "name": "stdout",
     "output_type": "stream",
     "text": [
      "4530/4530 [==============================] - 59s 13ms/step - loss: 0.9326 - sparse_categorical_accuracy: 0.6044 - mcc_metric: 0.0672 - val_loss: 1.0227 - val_sparse_categorical_accuracy: 0.5577 - val_mcc_metric: 0.0394 - lr: 6.7600e-05\n",
      "Epoch 3/100\n",
      "4530/4530 [==============================] - 57s 13ms/step - loss: 0.8903 - sparse_categorical_accuracy: 0.6139 - mcc_metric: 0.0711 - val_loss: 1.0223 - val_sparse_categorical_accuracy: 0.5542 - val_mcc_metric: 0.0226 - lr: 1.3420e-04\n",
      "Epoch 4/100\n",
      "4530/4530 [==============================] - 57s 13ms/step - loss: 0.8816 - sparse_categorical_accuracy: 0.6154 - mcc_metric: 0.0729 - val_loss: 1.0088 - val_sparse_categorical_accuracy: 0.5423 - val_mcc_metric: 0.0266 - lr: 2.0080e-04\n",
      "Epoch 5/100\n",
      "4530/4530 [==============================] - ETA: 0s - loss: 0.8785 - sparse_categorical_accuracy: 0.6159 - mcc_metric: 0.0822"
     ]
    },
    {
     "name": "stderr",
     "output_type": "stream",
     "text": [
      "WARNING:absl:Found untraced functions such as dense_2_layer_call_fn, dense_2_layer_call_and_return_conditional_losses, multi_head_attention_layer_call_fn, multi_head_attention_layer_call_and_return_conditional_losses, dropout_2_layer_call_fn while saving (showing 5 of 20). These functions will not be directly callable after loading.\n"
     ]
    },
    {
     "name": "stdout",
     "output_type": "stream",
     "text": [
      "INFO:tensorflow:Assets written to: models\\transformer_checkpoint\\assets\n"
     ]
    },
    {
     "name": "stderr",
     "output_type": "stream",
     "text": [
      "INFO:tensorflow:Assets written to: models\\transformer_checkpoint\\assets\n",
      "WARNING:absl:<tensorflow_addons.layers.multihead_attention.MultiHeadAttention object at 0x000001CAC86099A0> has the same name 'MultiHeadAttention' as a built-in Keras object. Consider renaming <class 'tensorflow_addons.layers.multihead_attention.MultiHeadAttention'> to avoid naming conflicts when loading with `tf.keras.models.load_model`. If renaming is not possible, pass the object in the `custom_objects` parameter of the load function.\n"
     ]
    },
    {
     "name": "stdout",
     "output_type": "stream",
     "text": [
      "4530/4530 [==============================] - 58s 13ms/step - loss: 0.8785 - sparse_categorical_accuracy: 0.6159 - mcc_metric: 0.0822 - val_loss: 1.0529 - val_sparse_categorical_accuracy: 0.5596 - val_mcc_metric: 0.0638 - lr: 2.6740e-04\n",
      "Epoch 6/100\n",
      "4530/4530 [==============================] - ETA: 0s - loss: 0.8148 - sparse_categorical_accuracy: 0.6456 - mcc_metric: 0.2264"
     ]
    },
    {
     "name": "stderr",
     "output_type": "stream",
     "text": [
      "WARNING:absl:Found untraced functions such as dense_2_layer_call_fn, dense_2_layer_call_and_return_conditional_losses, multi_head_attention_layer_call_fn, multi_head_attention_layer_call_and_return_conditional_losses, dropout_2_layer_call_fn while saving (showing 5 of 20). These functions will not be directly callable after loading.\n"
     ]
    },
    {
     "name": "stdout",
     "output_type": "stream",
     "text": [
      "INFO:tensorflow:Assets written to: models\\transformer_checkpoint\\assets\n"
     ]
    },
    {
     "name": "stderr",
     "output_type": "stream",
     "text": [
      "INFO:tensorflow:Assets written to: models\\transformer_checkpoint\\assets\n",
      "WARNING:absl:<tensorflow_addons.layers.multihead_attention.MultiHeadAttention object at 0x000001CAC86099A0> has the same name 'MultiHeadAttention' as a built-in Keras object. Consider renaming <class 'tensorflow_addons.layers.multihead_attention.MultiHeadAttention'> to avoid naming conflicts when loading with `tf.keras.models.load_model`. If renaming is not possible, pass the object in the `custom_objects` parameter of the load function.\n"
     ]
    },
    {
     "name": "stdout",
     "output_type": "stream",
     "text": [
      "4530/4530 [==============================] - 60s 13ms/step - loss: 0.8148 - sparse_categorical_accuracy: 0.6456 - mcc_metric: 0.2264 - val_loss: 0.7993 - val_sparse_categorical_accuracy: 0.6562 - val_mcc_metric: 0.3580 - lr: 3.3400e-04\n",
      "Epoch 7/100\n",
      "4530/4530 [==============================] - 61s 13ms/step - loss: 0.7292 - sparse_categorical_accuracy: 0.6893 - mcc_metric: 0.3757 - val_loss: 0.8355 - val_sparse_categorical_accuracy: 0.6496 - val_mcc_metric: 0.3261 - lr: 4.0060e-04\n",
      "Epoch 8/100\n",
      "4530/4530 [==============================] - 58s 13ms/step - loss: 0.7227 - sparse_categorical_accuracy: 0.6916 - mcc_metric: 0.3797 - val_loss: 0.8286 - val_sparse_categorical_accuracy: 0.6537 - val_mcc_metric: 0.3292 - lr: 4.6720e-04\n",
      "Epoch 9/100\n",
      "4530/4530 [==============================] - 58s 13ms/step - loss: 0.7174 - sparse_categorical_accuracy: 0.6935 - mcc_metric: 0.3839 - val_loss: 1.0110 - val_sparse_categorical_accuracy: 0.6298 - val_mcc_metric: 0.2569 - lr: 5.3380e-04\n",
      "Epoch 10/100\n",
      "4528/4530 [============================>.] - ETA: 0s - loss: 0.7153 - sparse_categorical_accuracy: 0.6945 - mcc_metric: 0.3864"
     ]
    },
    {
     "name": "stderr",
     "output_type": "stream",
     "text": [
      "WARNING:absl:Found untraced functions such as dense_2_layer_call_fn, dense_2_layer_call_and_return_conditional_losses, multi_head_attention_layer_call_fn, multi_head_attention_layer_call_and_return_conditional_losses, dropout_2_layer_call_fn while saving (showing 5 of 20). These functions will not be directly callable after loading.\n"
     ]
    },
    {
     "name": "stdout",
     "output_type": "stream",
     "text": [
      "INFO:tensorflow:Assets written to: models\\transformer_checkpoint\\assets\n"
     ]
    },
    {
     "name": "stderr",
     "output_type": "stream",
     "text": [
      "INFO:tensorflow:Assets written to: models\\transformer_checkpoint\\assets\n",
      "WARNING:absl:<tensorflow_addons.layers.multihead_attention.MultiHeadAttention object at 0x000001CAC86099A0> has the same name 'MultiHeadAttention' as a built-in Keras object. Consider renaming <class 'tensorflow_addons.layers.multihead_attention.MultiHeadAttention'> to avoid naming conflicts when loading with `tf.keras.models.load_model`. If renaming is not possible, pass the object in the `custom_objects` parameter of the load function.\n"
     ]
    },
    {
     "name": "stdout",
     "output_type": "stream",
     "text": [
      "4530/4530 [==============================] - 59s 13ms/step - loss: 0.7154 - sparse_categorical_accuracy: 0.6944 - mcc_metric: 0.3864 - val_loss: 0.7832 - val_sparse_categorical_accuracy: 0.6625 - val_mcc_metric: 0.3707 - lr: 6.0040e-04\n",
      "Epoch 11/100\n",
      "4530/4530 [==============================] - 58s 13ms/step - loss: 0.7147 - sparse_categorical_accuracy: 0.6932 - mcc_metric: 0.3848 - val_loss: 0.9209 - val_sparse_categorical_accuracy: 0.6367 - val_mcc_metric: 0.3080 - lr: 6.6700e-04\n",
      "Epoch 12/100\n",
      "4530/4530 [==============================] - 58s 13ms/step - loss: 0.7165 - sparse_categorical_accuracy: 0.6918 - mcc_metric: 0.3800 - val_loss: 0.9845 - val_sparse_categorical_accuracy: 0.6225 - val_mcc_metric: 0.2796 - lr: 7.3360e-04\n",
      "Epoch 13/100\n",
      "4530/4530 [==============================] - 58s 13ms/step - loss: 0.7138 - sparse_categorical_accuracy: 0.6939 - mcc_metric: 0.3860 - val_loss: 0.7797 - val_sparse_categorical_accuracy: 0.6652 - val_mcc_metric: 0.3621 - lr: 8.0020e-04\n",
      "Epoch 14/100\n",
      "4530/4530 [==============================] - 58s 13ms/step - loss: 0.7151 - sparse_categorical_accuracy: 0.6928 - mcc_metric: 0.3824 - val_loss: 0.8215 - val_sparse_categorical_accuracy: 0.6431 - val_mcc_metric: 0.3119 - lr: 8.6680e-04\n",
      "Epoch 15/100\n",
      "4530/4530 [==============================] - 57s 13ms/step - loss: 0.7142 - sparse_categorical_accuracy: 0.6932 - mcc_metric: 0.3835 - val_loss: 0.9212 - val_sparse_categorical_accuracy: 0.6170 - val_mcc_metric: 0.2764 - lr: 9.3340e-04\n",
      "Epoch 16/100\n",
      "4530/4530 [==============================] - 58s 13ms/step - loss: 0.7391 - sparse_categorical_accuracy: 0.6793 - mcc_metric: 0.3474 - val_loss: 0.8304 - val_sparse_categorical_accuracy: 0.6398 - val_mcc_metric: 0.3196 - lr: 0.0010\n",
      "Epoch 17/100\n",
      "4530/4530 [==============================] - 58s 13ms/step - loss: 0.7234 - sparse_categorical_accuracy: 0.6862 - mcc_metric: 0.3665 - val_loss: 0.7794 - val_sparse_categorical_accuracy: 0.6486 - val_mcc_metric: 0.3274 - lr: 9.9050e-04\n",
      "Epoch 18/100\n",
      "4530/4530 [==============================] - 58s 13ms/step - loss: 0.7422 - sparse_categorical_accuracy: 0.6760 - mcc_metric: 0.3375 - val_loss: 0.9111 - val_sparse_categorical_accuracy: 0.5979 - val_mcc_metric: 0.2007 - lr: 9.8100e-04\n",
      "Epoch 19/100\n",
      "4530/4530 [==============================] - 58s 13ms/step - loss: 0.7174 - sparse_categorical_accuracy: 0.6901 - mcc_metric: 0.3747 - val_loss: 0.7630 - val_sparse_categorical_accuracy: 0.6656 - val_mcc_metric: 0.3580 - lr: 9.7150e-04\n",
      "Epoch 20/100\n",
      "4530/4530 [==============================] - 58s 13ms/step - loss: 0.7516 - sparse_categorical_accuracy: 0.6696 - mcc_metric: 0.3231 - val_loss: 0.8608 - val_sparse_categorical_accuracy: 0.6485 - val_mcc_metric: 0.3109 - lr: 9.6200e-04\n",
      "Epoch 21/100\n",
      "4530/4530 [==============================] - 58s 13ms/step - loss: 0.7253 - sparse_categorical_accuracy: 0.6858 - mcc_metric: 0.3637 - val_loss: 0.7771 - val_sparse_categorical_accuracy: 0.6520 - val_mcc_metric: 0.3556 - lr: 9.5250e-04\n",
      "Epoch 22/100\n",
      "4530/4530 [==============================] - 58s 13ms/step - loss: 0.7254 - sparse_categorical_accuracy: 0.6827 - mcc_metric: 0.3561 - val_loss: 0.8287 - val_sparse_categorical_accuracy: 0.6204 - val_mcc_metric: 0.2826 - lr: 9.4300e-04\n",
      "Epoch 23/100\n",
      "4530/4530 [==============================] - 58s 13ms/step - loss: 0.7806 - sparse_categorical_accuracy: 0.6577 - mcc_metric: 0.2668 - val_loss: 0.9017 - val_sparse_categorical_accuracy: 0.5903 - val_mcc_metric: 0.1611 - lr: 9.3350e-04\n",
      "Epoch 24/100\n",
      "4530/4530 [==============================] - 58s 13ms/step - loss: 0.7523 - sparse_categorical_accuracy: 0.6728 - mcc_metric: 0.3247 - val_loss: 0.7928 - val_sparse_categorical_accuracy: 0.6542 - val_mcc_metric: 0.3455 - lr: 9.2400e-04\n"
     ]
    }
   ],
   "source": [
    "transformer_model.compile(\n",
    "        # loss=SparseCategoricalFocalLoss(gamma=2, class_weight=weights),\n",
    "        loss=tf.keras.losses.SparseCategoricalCrossentropy(),\n",
    "        optimizer=tf.keras.optimizers.Adam(learning_rate=1e-6),\n",
    "        metrics=[tf.keras.metrics.SparseCategoricalAccuracy(), mcc_metric],\n",
    "        )\n",
    "\n",
    "model_checkpoint_callback = tf.keras.callbacks.ModelCheckpoint(\n",
    "        filepath='models/transformer_checkpoint',\n",
    "        save_weights_only=False,\n",
    "        monitor='val_mcc_metric',\n",
    "        mode='max',\n",
    "        save_best_only=True)\n",
    "\n",
    "        \n",
    "lr_callback = tf.keras.callbacks.LearningRateScheduler(lr_scheduler)\n",
    "\n",
    "xformer_history = transformer_model.fit(X_train, y_train_single, \n",
    "                     validation_data=(X_test, y_test_single),\n",
    "                     epochs=100, batch_size=32,\n",
    "                     callbacks=[lr_callback, early_stopping, model_checkpoint_callback]\n",
    "                     )"
   ]
  },
  {
   "cell_type": "markdown",
   "metadata": {},
   "source": [
    "Code to load the model"
   ]
  },
  {
   "cell_type": "code",
   "execution_count": 86,
   "metadata": {},
   "outputs": [],
   "source": [
    "from tensorflow_addons.layers import multihead_attention\n",
    "\n",
    "custom_objects={\n",
    "    'MultiHeadAttention' : multihead_attention.MultiHeadAttention,\n",
    "    'TransformerModel' : TransformerModel,\n",
    "    'mcc_metric' : mcc_metric}\n",
    "\n",
    "reconstructed_model = keras.models.load_model('models/transformer_checkpoint',\n",
    "                                              custom_objects=custom_objects)\n"
   ]
  },
  {
   "cell_type": "code",
   "execution_count": 87,
   "metadata": {},
   "outputs": [
    {
     "data": {
      "text/plain": [
       "9"
      ]
     },
     "execution_count": 87,
     "metadata": {},
     "output_type": "execute_result"
    }
   ],
   "source": [
    "xformer_history.history['val_mcc_metric'].index(max(xformer_history.history['val_mcc_metric']))"
   ]
  },
  {
   "cell_type": "code",
   "execution_count": 72,
   "metadata": {},
   "outputs": [
    {
     "data": {
      "text/plain": [
       "dict_keys(['loss', 'sparse_categorical_accuracy', 'mcc_metric', 'val_loss', 'val_sparse_categorical_accuracy', 'val_mcc_metric', 'lr'])"
      ]
     },
     "execution_count": 72,
     "metadata": {},
     "output_type": "execute_result"
    }
   ],
   "source": [
    "xformer_history.history.keys()"
   ]
  },
  {
   "cell_type": "code",
   "execution_count": 73,
   "metadata": {},
   "outputs": [
    {
     "data": {
      "text/plain": [
       "0.32736626267433167"
      ]
     },
     "execution_count": 73,
     "metadata": {},
     "output_type": "execute_result"
    }
   ],
   "source": [
    "xformer_history.history['val_mcc_metric'][16]"
   ]
  },
  {
   "cell_type": "markdown",
   "metadata": {},
   "source": [
    "### Train the LSTM"
   ]
  },
  {
   "cell_type": "code",
   "execution_count": null,
   "metadata": {},
   "outputs": [],
   "source": [
    "lstm_model = tf.keras.models.Sequential([\n",
    "    layers.LSTM(30, return_sequences=True, input_shape=[None, 5]),\n",
    "    layers.LSTM(30, return_sequences=True),\n",
    "    layers.LSTM(30, return_sequences=True),\n",
    "    layers.LSTM(30, return_sequences=False),\n",
    "    # layers.TimeDistributed(layers.Dense(3, activation='softmax'))\n",
    "    layers.Dense(3, activation='softmax')\n",
    "    ])"
   ]
  },
  {
   "cell_type": "code",
   "execution_count": null,
   "metadata": {},
   "outputs": [],
   "source": [
    "lstm_model.compile(\n",
    "        # loss=SparseCategoricalFocalLoss(gamma=2, class_weight=weights),\n",
    "        loss=tf.keras.losses.SparseCategoricalCrossentropy(),\n",
    "        optimizer=tf.keras.optimizers.Adam(learning_rate=0.01),\n",
    "        metrics=[tf.keras.metrics.SparseCategoricalAccuracy(), mcc_metric],\n",
    "        )\n",
    "\n",
    "early_stopping = tf.keras.callbacks.EarlyStopping(monitor='val_loss',\n",
    "                                                  patience=5,\n",
    "                                                  mode='min')\n",
    "\n",
    "linear_history = lstm_model.fit(X_train_single, y_train_single, \n",
    "                     validation_data=(X_test_single, y_test_single),\n",
    "                     callbacks=[early_stopping],\n",
    "                     epochs=30, batch_size=32)"
   ]
  },
  {
   "cell_type": "markdown",
   "metadata": {},
   "source": [
    "### Get Classification Performance"
   ]
  },
  {
   "cell_type": "markdown",
   "metadata": {},
   "source": [
    "Function to get the predictions and labels"
   ]
  },
  {
   "cell_type": "code",
   "execution_count": 74,
   "metadata": {},
   "outputs": [],
   "source": [
    "def get_label_preds(model, data_gen, threshold=0):\n",
    "    ''' Obtains truth labels and predictions for a model/data_gen pair '''\n",
    "    # get predictions\n",
    "    prediction_vectors = model.predict(data_gen)\n",
    "    predictions = tf.argmax(prediction_vectors, axis=-1)\n",
    "\n",
    "    # get labels\n",
    "    # labels = tf.concat([_labels for _, _labels, _ in data_gen], axis=0)\n",
    "    labels = tf.concat([_labels for _, _labels in data_gen], axis=0)\n",
    "    labels = tf.squeeze(labels, axis=-1)\n",
    "\n",
    "    if threshold > 0:\n",
    "        probs = tf.reduce_max(prediction_vectors, axis=-1)\n",
    "        locs = probs > threshold\n",
    "\n",
    "        predictions = predictions[locs]\n",
    "        labels = labels[locs]\n",
    "\n",
    "    return predictions, labels"
   ]
  },
  {
   "cell_type": "code",
   "execution_count": 159,
   "metadata": {},
   "outputs": [
    {
     "name": "stdout",
     "output_type": "stream",
     "text": [
      "4530/4530 [==============================] - 3s 692us/step\n",
      "239/239 [==============================] - 0s 975us/step\n"
     ]
    }
   ],
   "source": [
    "linear_train_preds = linear.predict(X_train_single)\n",
    "linear_test_preds = linear.predict(X_test_single)"
   ]
  },
  {
   "cell_type": "code",
   "execution_count": 88,
   "metadata": {},
   "outputs": [
    {
     "name": "stdout",
     "output_type": "stream",
     "text": [
      "4530/4530 [==============================] - 15s 3ms/step\n",
      "239/239 [==============================] - 1s 3ms/step\n"
     ]
    }
   ],
   "source": [
    "xformer_train_preds = reconstructed_model.predict(X_train)\n",
    "xformer_test_preds = reconstructed_model.predict(X_test)"
   ]
  },
  {
   "cell_type": "code",
   "execution_count": 163,
   "metadata": {},
   "outputs": [
    {
     "data": {
      "text/plain": [
       "array([1, 1, 2, ..., 1, 2, 2], dtype=int64)"
      ]
     },
     "execution_count": 163,
     "metadata": {},
     "output_type": "execute_result"
    }
   ],
   "source": [
    "np.argmax(linear_train_preds, -1)"
   ]
  },
  {
   "cell_type": "code",
   "execution_count": 164,
   "metadata": {},
   "outputs": [
    {
     "data": {
      "text/plain": [
       "array([[ 6818,  1455, 19900],\n",
       "       [  543,  9973, 17277],\n",
       "       [ 1731,  4433, 82827]], dtype=int64)"
      ]
     },
     "execution_count": 164,
     "metadata": {},
     "output_type": "execute_result"
    }
   ],
   "source": [
    "from sklearn.metrics import confusion_matrix\n",
    "\n",
    "confusion_matrix(y_train_single, np.argmax(linear_train_preds, -1))"
   ]
  },
  {
   "cell_type": "code",
   "execution_count": 165,
   "metadata": {},
   "outputs": [
    {
     "data": {
      "text/plain": [
       "array([[ 354,   87, 1292],\n",
       "       [  14,  644, 1022],\n",
       "       [  68,  347, 3804]], dtype=int64)"
      ]
     },
     "execution_count": 165,
     "metadata": {},
     "output_type": "execute_result"
    }
   ],
   "source": [
    "confusion_matrix(y_test_single, np.argmax(linear_test_preds, -1))"
   ]
  },
  {
   "cell_type": "code",
   "execution_count": 166,
   "metadata": {},
   "outputs": [
    {
     "data": {
      "text/plain": [
       "array([[12857,   901, 14415],\n",
       "       [ 1673, 12054, 14066],\n",
       "       [ 6072,  5374, 77545]], dtype=int64)"
      ]
     },
     "execution_count": 166,
     "metadata": {},
     "output_type": "execute_result"
    }
   ],
   "source": [
    "confusion_matrix(y_train_single, np.argmax(xformer_train_preds, -1))"
   ]
  },
  {
   "cell_type": "code",
   "execution_count": 167,
   "metadata": {},
   "outputs": [
    {
     "data": {
      "text/plain": [
       "array([[ 794,   36,  903],\n",
       "       [  58,  657,  965],\n",
       "       [ 294,  273, 3652]], dtype=int64)"
      ]
     },
     "execution_count": 167,
     "metadata": {},
     "output_type": "execute_result"
    }
   ],
   "source": [
    "confusion_matrix(y_test_single, np.argmax(xformer_test_preds, -1))"
   ]
  },
  {
   "cell_type": "code",
   "execution_count": 169,
   "metadata": {},
   "outputs": [
    {
     "data": {
      "text/plain": [
       "array([28173, 27793, 88991], dtype=int64)"
      ]
     },
     "execution_count": 169,
     "metadata": {},
     "output_type": "execute_result"
    }
   ],
   "source": [
    "np.bincount(y_train_single)"
   ]
  },
  {
   "cell_type": "code",
   "execution_count": 78,
   "metadata": {},
   "outputs": [
    {
     "name": "stdout",
     "output_type": "stream",
     "text": [
      "              precision    recall  f1-score   support\n",
      "\n",
      "          up       0.58      0.48      0.53     28173\n",
      "        down       0.62      0.42      0.50     27793\n",
      "        same       0.73      0.85      0.79     88991\n",
      "\n",
      "    accuracy                           0.69    144957\n",
      "   macro avg       0.64      0.58      0.60    144957\n",
      "weighted avg       0.68      0.69      0.68    144957\n",
      "\n"
     ]
    }
   ],
   "source": [
    "from sklearn.metrics import classification_report\n",
    "\n",
    "cr = classification_report(y_train_single,\n",
    "                      np.argmax(xformer_train_preds, -1),\n",
    "                      labels=[0, 1, 2],\n",
    "                      target_names=['up', 'down', 'same'])\n",
    "\n",
    "print(cr)"
   ]
  },
  {
   "cell_type": "code",
   "execution_count": 173,
   "metadata": {},
   "outputs": [
    {
     "name": "stdout",
     "output_type": "stream",
     "text": [
      "              precision    recall  f1-score   support\n",
      "\n",
      "          up       0.69      0.46      0.55      1733\n",
      "        down       0.68      0.39      0.50      1680\n",
      "        same       0.66      0.87      0.75      4219\n",
      "\n",
      "    accuracy                           0.67      7632\n",
      "   macro avg       0.68      0.57      0.60      7632\n",
      "weighted avg       0.67      0.67      0.65      7632\n",
      "\n"
     ]
    }
   ],
   "source": [
    "cr = classification_report(y_test_single,\n",
    "                      np.argmax(xformer_test_preds, -1),\n",
    "                      labels=[0, 1, 2],\n",
    "                      target_names=['up', 'down', 'same'])\n",
    "\n",
    "print(cr)"
   ]
  },
  {
   "cell_type": "markdown",
   "metadata": {},
   "source": [
    "Get classification reports with confidence thresholded predictions"
   ]
  },
  {
   "cell_type": "code",
   "execution_count": 89,
   "metadata": {},
   "outputs": [],
   "source": [
    "def get_classification_report(targets, preds, thresh=0.):\n",
    "\n",
    "    n = len(targets) # number of targets \n",
    "    locs = np.max(preds, -1) > thresh\n",
    "\n",
    "    preds = np.argmax(preds[locs], -1)\n",
    "    targets = targets[locs]\n",
    "\n",
    "    cr = classification_report(targets,\n",
    "                      preds,\n",
    "                      labels=[0, 1, 2],\n",
    "                      target_names=['up', 'down', 'same'])\n",
    "\n",
    "    acc = accuracy_score(targets, preds)\n",
    "    mcc = matthews_corrcoef(targets, preds)\n",
    "\n",
    "    print(f'Percetage of predictions: {locs.sum()/n}')\n",
    "\n",
    "    return cr, acc, mcc"
   ]
  },
  {
   "cell_type": "code",
   "execution_count": 91,
   "metadata": {},
   "outputs": [
    {
     "name": "stdout",
     "output_type": "stream",
     "text": [
      "Percetage of predictions: 1.0\n",
      "              precision    recall  f1-score   support\n",
      "\n",
      "          up       0.67      0.49      0.56      1733\n",
      "        down       0.59      0.51      0.55      1680\n",
      "        same       0.68      0.79      0.73      4219\n",
      "\n",
      "    accuracy                           0.66      7632\n",
      "   macro avg       0.65      0.60      0.62      7632\n",
      "weighted avg       0.66      0.66      0.65      7632\n",
      "\n",
      "accuracy:  0.6624737945492662\n",
      "MCC:  0.407533335611977\n"
     ]
    }
   ],
   "source": [
    "cr, acc, mcc = get_classification_report(y_test_single, xformer_test_preds, thresh=0.)\n",
    "\n",
    "print(cr)\n",
    "print('accuracy: ', acc)\n",
    "print('MCC: ', mcc)"
   ]
  },
  {
   "cell_type": "code",
   "execution_count": 225,
   "metadata": {},
   "outputs": [
    {
     "name": "stderr",
     "output_type": "stream",
     "text": [
      "WARNING:absl:Found untraced functions such as dense_2_layer_call_fn, dense_2_layer_call_and_return_conditional_losses, multi_head_attention_layer_call_fn, multi_head_attention_layer_call_and_return_conditional_losses, dropout_2_layer_call_fn while saving (showing 5 of 20). These functions will not be directly callable after loading.\n"
     ]
    },
    {
     "name": "stdout",
     "output_type": "stream",
     "text": [
      "INFO:tensorflow:Assets written to: models/transformer_1\\assets\n"
     ]
    },
    {
     "name": "stderr",
     "output_type": "stream",
     "text": [
      "INFO:tensorflow:Assets written to: models/transformer_1\\assets\n",
      "WARNING:absl:<tensorflow_addons.layers.multihead_attention.MultiHeadAttention object at 0x000001FC65749520> has the same name 'MultiHeadAttention' as a built-in Keras object. Consider renaming <class 'tensorflow_addons.layers.multihead_attention.MultiHeadAttention'> to avoid naming conflicts when loading with `tf.keras.models.load_model`. If renaming is not possible, pass the object in the `custom_objects` parameter of the load function.\n"
     ]
    }
   ],
   "source": [
    "transformer_model.save(\"models/{}\".format('transformer_1'), include_optimizer=True) "
   ]
  },
  {
   "cell_type": "code",
   "execution_count": 230,
   "metadata": {},
   "outputs": [],
   "source": [
    "import yfinance as yf"
   ]
  },
  {
   "cell_type": "code",
   "execution_count": 231,
   "metadata": {},
   "outputs": [],
   "source": [
    "from functions import evaluate_on_ticker\n",
    "from sklearn.metrics import accuracy_score, precision_score, recall_score"
   ]
  },
  {
   "cell_type": "code",
   "execution_count": 235,
   "metadata": {},
   "outputs": [],
   "source": [
    "\n",
    "\n",
    "import yfinance as yf\n",
    "import numpy as np\n",
    "import pandas as pd\n",
    "from sklearn.metrics import classification_report\n",
    "\n",
    "# return a sample's label\n",
    "def get_target(cur_avg, next_avg, threshold=0.05):\n",
    "    abs_price_change = abs(next_avg-cur_avg)*100/cur_avg\n",
    "    if abs_price_change <= threshold:\n",
    "        target = 2   # price change is less than threshold (percent) --> neutral target\n",
    "    elif next_avg > cur_avg:\n",
    "        target = 1\n",
    "    else: # lower\n",
    "        target = 0 \n",
    "    return target\n",
    "\n",
    "\n",
    "# Reformat raw data from YFinance\n",
    "def transform_raw_data(df, INTERVAL, EVAL_RANGE, PREDICT_RANGE, NO_CHANGE_THRESHOLD, \n",
    "                       TRAIN_RATIO, train_means=None, train_stds=None, CONTINUOUS_ONLY=False):\n",
    "    MIN_HOUR_OF_DAY = 9.5 + EVAL_RANGE*INTERVAL/60 # minimum hour of the day needed to get continous data\n",
    "    MAX_HOUR_OF_DAY = 16.5 - PREDICT_RANGE*INTERVAL/60 # max hour of day to have continous future data for a label \n",
    "    cur_data = []\n",
    "    cur_targets = []\n",
    "    time_stamps = []\n",
    "    # each day corresponds to a time series of EVAL_RANGE elemetns\n",
    "    last_continuous_index = None # contains index of transformed data of the last sample if it is exactly 1 time unit before the current --> reusesable for faster transformation\n",
    "    \n",
    "    for current_day in range(EVAL_RANGE-1, df.shape[0]-PREDICT_RANGE): # such that past EVAL_RANGE and future PREDICT_RANGE are available \n",
    "        # only transform and save a sample if continous past data is guaranteed\n",
    "        cur_time = df.iloc[current_day]['Time']    \n",
    "        cur_hour_of_day = cur_time.hour + cur_time.minute/60\n",
    "        \n",
    "        # if CONTINUOUS_ONLY=True, only transform & save continous data in a day\n",
    "        if CONTINUOUS_ONLY and cur_hour_of_day < MIN_HOUR_OF_DAY or cur_hour_of_day > MAX_HOUR_OF_DAY:\n",
    "            last_continuous_index = None\n",
    "            continue\n",
    "        time_stamps.append(cur_time)\n",
    "        \n",
    "        if last_continuous_index is None:   # there is a gap --> have to get data of all time units again\n",
    "            time_series = [None]*EVAL_RANGE\n",
    "            time_series_targets = [None]*EVAL_RANGE\n",
    "            for past_day in range(0, EVAL_RANGE): # e.g: from 0 -> 9 \n",
    "                past_day_ix = current_day - (EVAL_RANGE-1) + past_day # Go from the oldest sample to the current sample \n",
    "                past_day_data = df.iloc[past_day_ix][['Open', 'High', 'Low', 'Close', 'Volume']].values\n",
    "                time_series[past_day] = past_day_data\n",
    "                \n",
    "                cur_avg = (df.iloc[past_day_ix]['Open'] + df.iloc[past_day_ix]['Close']) / 2\n",
    "                next_avg = (df.iloc[past_day_ix+1]['Open'] + df.iloc[past_day_ix+1]['Close']) / 2\n",
    "                \n",
    "                target = get_target(cur_avg, next_avg, threshold=NO_CHANGE_THRESHOLD)\n",
    "                time_series_targets[past_day] = target\n",
    "            time_series = np.array(time_series)\n",
    "            time_series_targets = np.array(time_series_targets)\n",
    "                \n",
    "        else:   # reuse EVAL_RANGE-1 time units from last sample (for faster transformation)\n",
    "            time_series = cur_data[last_continuous_index][1:]\n",
    "            time_series_targets = cur_targets[last_continuous_index][1:]\n",
    "            \n",
    "            cur_day_data = df.iloc[current_day][['Open', 'High', 'Low', 'Close', 'Volume']].values\n",
    "            cur_avg = (df.iloc[current_day]['Open'] + df.iloc[current_day]['Close']) / 2\n",
    "            next_avg = (df.iloc[current_day+1]['Open'] + df.iloc[current_day+1]['Close']) / 2\n",
    "            target = get_target(cur_avg, next_avg, threshold=NO_CHANGE_THRESHOLD)\n",
    "            time_series = np.concatenate((time_series, cur_day_data.reshape(1,len(cur_day_data))))\n",
    "            time_series_targets = np.append(time_series_targets, target)\n",
    "        \n",
    "        \n",
    "        # window normalization\n",
    "        # time_series = np.array(time_series, dtype=np.float32)\n",
    "        # normalized_time_series = (time_series - time_series.mean(axis=0))/time_series.std(axis=0)\n",
    "        \n",
    "        last_continuous_index = len(cur_data)\n",
    "        cur_data.append(time_series)\n",
    "        cur_targets.append(time_series_targets)\n",
    "    \n",
    "        \n",
    "    ticker_data = np.array(cur_data, dtype=np.float32)\n",
    "    ticker_targets = np.array(cur_targets)\n",
    "    \n",
    "    if TRAIN_RATIO is not None: # split data to train and test set\n",
    "        train_test_split_idx = int(ticker_data.shape[0]*TRAIN_RATIO)\n",
    "        train_ticker_data, train_ticker_targets = ticker_data[:train_test_split_idx], ticker_targets[:train_test_split_idx]\n",
    "        test_ticker_data, test_ticker_targets = ticker_data[train_test_split_idx:], ticker_targets[train_test_split_idx:]\n",
    "        \n",
    "        # Normalization, only use info from train set\n",
    "        train_data_means = train_ticker_data.mean(axis=0)\n",
    "        train_data_stds = train_ticker_data.std(axis=0)\n",
    "        scaled_train_ticker_data = (train_ticker_data - train_data_means)/train_data_stds\n",
    "        scaled_test_ticker_data = (test_ticker_data - train_data_means)/train_data_stds\n",
    "    \n",
    "        return {\n",
    "                'train': [scaled_train_ticker_data, train_ticker_targets], \n",
    "                'test': [scaled_test_ticker_data, test_ticker_targets],\n",
    "                'train_means': train_data_means,\n",
    "                'train_stds': train_data_stds,\n",
    "                'time_stamps': time_stamps\n",
    "                    }\n",
    "    \n",
    "    # normalize using input means and stds, used for testing on new data\n",
    "    elif train_means is not None and train_stds is not None: \n",
    "        scaled_data = (ticker_data - train_means)/train_stds\n",
    "        return (scaled_data, ticker_targets, time_stamps)\n",
    "\n",
    "\n",
    "# def extract_last_step_labels(y_pred): # y_pred: output matrix of RNN. Output: 1D matrix of last step predictions\n",
    "#     return np.array([np.argmax(pred[-1]) for pred in y_pred])\n",
    "\n",
    "def get_last_step_predictions(model, X): # X: an input Tensor to RNN. Output: 1D matrix of last step predictions\n",
    "    y_pred = model.predict(X)\n",
    "    return np.array([np.argmax(pred) for pred in y_pred])\n",
    "\n",
    "# same as get_last_step_predictions, but also return a second column, which contains probabilities\n",
    "def get_last_step_predictions_with_confidence(model, X):\n",
    "    y_pred = model.predict(X)\n",
    "    labels = np.array([np.argmax(pred) for pred in y_pred])\n",
    "    probabilities = np.array([pred[np.argmax(pred)] for pred in y_pred])\n",
    "    return np.c_[labels.reshape((-1,1)), probabilities.reshape((-1,1))]\n",
    "\n",
    "\n",
    "# measure accuracy for only predictions with probablity >= confidence\n",
    "def get_last_step_performance_based_on_confidence(model, X, y_true, conf_threshold=0, printout=True):\n",
    "    X, y_true = X.copy(), y_true.copy()\n",
    "    y_pred = get_last_step_predictions_with_confidence(model, X)\n",
    "    y_true = y_true[:, -1] # last step only\n",
    "    \n",
    "    satisfied_indicies = y_pred[:,1] > conf_threshold\n",
    "    y_pred = y_pred[satisfied_indicies, 0]\n",
    "    y_true = y_true[satisfied_indicies]\n",
    "    \n",
    "    if y_pred.shape[0] == 0:\n",
    "        print(\"No predictions have confidence >= {}%\".format(conf_threshold))\n",
    "        return\n",
    "    \n",
    "    accuracy = sum(y_pred==y_true)/y_pred.shape[0]\n",
    "    num_all_labels = X.shape[0]\n",
    "    num_filtered_labels = y_pred.shape[0]\n",
    "    out_of_ratio = num_filtered_labels/num_all_labels\n",
    "    num_0_label = np.count_nonzero(y_pred==0)\n",
    "    num_1_label = np.count_nonzero(y_pred==1)\n",
    "    num_2_label = np.count_nonzero(y_pred==2)\n",
    "    \n",
    "    if printout: \n",
    "        print(\"For predictions with confidence >= {}%, accuracy = {:.2f}\".format(conf_threshold*100, accuracy))\n",
    "        print(\"\\t - {}/{} ({:.2f}%) of all predictions\".format(num_filtered_labels, num_all_labels, out_of_ratio*100))\n",
    "        print(\"\\t - {}/{} ({:.2f}%) of which have labels of val 0 (down)\".format(num_0_label,num_filtered_labels, num_0_label*100/num_filtered_labels))\n",
    "        print(\"\\t - {}/{} ({:.2f}%) of which have labels of val 1 (up)\".format(num_1_label,num_filtered_labels, num_1_label*100/num_filtered_labels))\n",
    "        print(\"\\t - {}/{} ({:.2f}%) of which have labels of val 2 (same)\".format(num_2_label,num_filtered_labels, num_2_label*100/num_filtered_labels))\n",
    "        \n",
    "        print(\"Performance:\")\n",
    "        print(classification_report(y_true, y_pred, labels=[0,1,2], target_names=[\"Down\", \"Up\", \"Approx. Same\"]))\n",
    "        \n",
    "\n",
    "def evaluate_on_ticker(model, ticker, START_DATE, END_DATE, INTERVAL=5, \n",
    "                       EVAL_RANGE=24, PREDICT_RANGE=6, NO_CHANGE_THRESHOLD=0.1,\n",
    "                       conf_thresholds=[0,90,95], printout=True):\n",
    "    \n",
    "    # for normalization\n",
    "    train_means = np.load('../../data/transformed/{}min/{}_train_means.npy'.format(INTERVAL, ticker))\n",
    "    train_stds = np.load('../../data/transformed/{}min/{}_train_stds.npy'.format(INTERVAL, ticker))\n",
    "    \n",
    "    # get stock data\n",
    "    tickerData = yf.Ticker(ticker)\n",
    "    df = tickerData.history(interval=\"{}m\".format(INTERVAL),  start=START_DATE, end=END_DATE)\n",
    "    df = df.reset_index().rename({'Datetime':'Time'}, axis=1)\n",
    "    \n",
    "    # transform\n",
    "    transformed_data = transform_raw_data(df, INTERVAL, EVAL_RANGE, \n",
    "                                          PREDICT_RANGE, NO_CHANGE_THRESHOLD,\n",
    "                                          TRAIN_RATIO=None, train_means=train_means,\n",
    "                                          train_stds=train_stds)\n",
    "    # evaluate\n",
    "    data, targets, time_stamps = transformed_data\n",
    "    for threshold in conf_thresholds:\n",
    "        get_last_step_performance_based_on_confidence(model, data, targets, threshold, printout=printout)\n",
    "    \n",
    "    \n",
    "    # return predictions with timestamp & confidence\n",
    "    y_pred = get_last_step_predictions_with_confidence(model, data)\n",
    "    result = pd.DataFrame(columns=['Time','Prediction', 'Actual', 'Confidence'])\n",
    "    result['Time'] = time_stamps\n",
    "    result[['Prediction','Confidence']] = y_pred\n",
    "    result['Actual'] = targets[:,-1]\n",
    "    return result\n",
    "\n",
    "    "
   ]
  },
  {
   "cell_type": "code",
   "execution_count": null,
   "metadata": {},
   "outputs": [],
   "source": [
    "matthews_corrcoef"
   ]
  },
  {
   "cell_type": "code",
   "execution_count": 256,
   "metadata": {},
   "outputs": [
    {
     "name": "stdout",
     "output_type": "stream",
     "text": [
      "19/19 [==============================] - 0s 14ms/step\n",
      "For predictions with confidence >= 0%, accuracy = 0.69\n",
      "\t - 595/595 (100.00%) of all predictions\n",
      "\t - 92/595 (15.46%) of which have labels of val 0 (down)\n",
      "\t - 36/595 (6.05%) of which have labels of val 1 (up)\n",
      "\t - 467/595 (78.49%) of which have labels of val 2 (same)\n",
      "Performance:\n",
      "              precision    recall  f1-score   support\n",
      "\n",
      "        Down       0.57      0.43      0.49       121\n",
      "          Up       0.75      0.25      0.38       107\n",
      "Approx. Same       0.71      0.90      0.79       367\n",
      "\n",
      "    accuracy                           0.69       595\n",
      "   macro avg       0.67      0.53      0.55       595\n",
      "weighted avg       0.69      0.69      0.66       595\n",
      "\n",
      "19/19 [==============================] - 0s 10ms/step\n",
      "For predictions with confidence >= 70.0%, accuracy = 0.78\n",
      "\t - 379/595 (63.70%) of all predictions\n",
      "\t - 36/379 (9.50%) of which have labels of val 0 (down)\n",
      "\t - 14/379 (3.69%) of which have labels of val 1 (up)\n",
      "\t - 329/379 (86.81%) of which have labels of val 2 (same)\n",
      "Performance:\n",
      "              precision    recall  f1-score   support\n",
      "\n",
      "        Down       0.78      0.45      0.57        62\n",
      "          Up       0.71      0.20      0.31        51\n",
      "Approx. Same       0.78      0.96      0.86       266\n",
      "\n",
      "    accuracy                           0.78       379\n",
      "   macro avg       0.76      0.54      0.58       379\n",
      "weighted avg       0.77      0.78      0.74       379\n",
      "\n",
      "19/19 [==============================] - 0s 8ms/step\n",
      "For predictions with confidence >= 90.0%, accuracy = 0.85\n",
      "\t - 110/595 (18.49%) of all predictions\n",
      "\t - 6/110 (5.45%) of which have labels of val 0 (down)\n",
      "\t - 3/110 (2.73%) of which have labels of val 1 (up)\n",
      "\t - 101/110 (91.82%) of which have labels of val 2 (same)\n",
      "Performance:\n",
      "              precision    recall  f1-score   support\n",
      "\n",
      "        Down       1.00      0.67      0.80         9\n",
      "          Up       0.67      0.13      0.22        15\n",
      "Approx. Same       0.84      0.99      0.91        86\n",
      "\n",
      "    accuracy                           0.85       110\n",
      "   macro avg       0.84      0.60      0.64       110\n",
      "weighted avg       0.83      0.85      0.81       110\n",
      "\n",
      "19/19 [==============================] - 0s 8ms/step\n"
     ]
    }
   ],
   "source": [
    "ticker = 'GOOG'\n",
    "START_DATE = '2022-10-22'\n",
    "END_DATE = '2022-11-3'\n",
    "FIG_SIZE = (10,5)\n",
    "result = evaluate_on_ticker(transformer_model, ticker, START_DATE, END_DATE, conf_thresholds=[0,0.7,0.9])\n",
    "\n",
    "result['Hour'] = result['Time'].apply(lambda timestamp: timestamp.hour)\n",
    "\n",
    "def extract_accuracy(df):\n",
    "    acc_df = pd.DataFrame(columns=['Hour', 'Accuracy'])\n",
    "    acc_score = accuracy_score(df['Prediction'], df['Actual'])\n",
    "    timestamp = df['Hour'].iloc[0]\n",
    "    acc_df.loc[0] = [timestamp, acc_score] \n",
    "    return acc_df\n",
    "\n",
    "def extract_mcc(df):\n",
    "    mcc_df = pd.DataFrame(columns=['Hour', 'MCC'])\n",
    "    mcc_score = matthews_corrcoef(df['Prediction'], df['Actual'])\n",
    "    timestamp = df['Hour'].iloc[0]\n",
    "    mcc_df.loc[0] = [timestamp, mcc_score] \n",
    "    return mcc_df\n",
    "\n",
    "\n",
    "def extract_metric(metric):\n",
    "    def fit_df(df):\n",
    "        metric_df = pd.DataFrame(columns=['Hour', 'Up', 'Down', 'Same'])\n",
    "        metric_score = metric(df['Prediction'], df['Actual'], average=None)\n",
    "        metric_df.loc[0] = [int(df['Hour'].iloc[0])] + [metric_score[i] for i in range(3)]\n",
    "        return metric_df\n",
    "    return fit_df"
   ]
  },
  {
   "cell_type": "code",
   "execution_count": 252,
   "metadata": {},
   "outputs": [
    {
     "data": {
      "image/png": "[encoded data removed]",
      "text/plain": [
       "<Figure size 720x360 with 1 Axes>"
      ]
     },
     "metadata": {
      "needs_background": "light"
     },
     "output_type": "display_data"
    }
   ],
   "source": [
    "acc_df = result.groupby('Hour').apply(extract_accuracy)\n",
    "acc_df.plot(x='Hour', y='Accuracy', kind='bar', figsize=(10,5))\n",
    "plt.xlabel(\"Time of the day\")\n",
    "plt.ylabel(\"Accuracy\")\n",
    "plt.title(\"Accuracy based on time of the day\")\n",
    "plt.show()"
   ]
  },
  {
   "cell_type": "code",
   "execution_count": 253,
   "metadata": {},
   "outputs": [
    {
     "data": {
      "image/png": "[encoded data removed]",
      "text/plain": [
       "<Figure size 720x360 with 1 Axes>"
      ]
     },
     "metadata": {
      "needs_background": "light"
     },
     "output_type": "display_data"
    }
   ],
   "source": [
    "mcc_df = result.groupby('Hour').apply(extract_mcc)\n",
    "mcc_df.plot(x='Hour', y='MCC', kind='bar', figsize=(10,5))\n",
    "plt.xlabel(\"Time of the day\")\n",
    "plt.ylabel(\"MCC\")\n",
    "plt.title(\"MCC based on time of the day\")\n",
    "plt.show()"
   ]
  },
  {
   "cell_type": "code",
   "execution_count": 254,
   "metadata": {},
   "outputs": [
    {
     "data": {
      "image/png": "[encoded data removed]",
      "text/plain": [
       "<Figure size 720x360 with 1 Axes>"
      ]
     },
     "metadata": {
      "needs_background": "light"
     },
     "output_type": "display_data"
    }
   ],
   "source": [
    "pre_df = result.groupby('Hour').apply(extract_metric(precision_score))\n",
    "pre_df.plot(x='Hour', y=['Up', 'Down', 'Same'], kind='bar', figsize=(10,5))\n",
    "plt.xlabel(\"Time of the day\")\n",
    "plt.ylabel(\"Precision\")\n",
    "plt.title(\"Precision based on time of the day\")\n",
    "plt.show()"
   ]
  },
  {
   "cell_type": "code",
   "execution_count": 255,
   "metadata": {},
   "outputs": [
    {
     "data": {
      "image/png": "[encoded data removed]",
      "text/plain": [
       "<Figure size 720x360 with 1 Axes>"
      ]
     },
     "metadata": {
      "needs_background": "light"
     },
     "output_type": "display_data"
    }
   ],
   "source": [
    "rec_df = result.groupby('Hour').apply(extract_metric(recall_score))\n",
    "rec_df.plot(x='Hour', y=['Up', 'Down', 'Same'], kind='bar', figsize=(10,5))\n",
    "plt.xlabel(\"Time of the day\")\n",
    "plt.ylabel(\"Recall\")\n",
    "plt.title(\"Recall based on time of the day\")\n",
    "plt.show()"
   ]
  },
  {
   "cell_type": "code",
   "execution_count": 261,
   "metadata": {},
   "outputs": [
    {
     "name": "stdout",
     "output_type": "stream",
     "text": [
      "56/56 [==============================] - 1s 10ms/step\n",
      "For predictions with confidence >= 0%, accuracy = 0.69\n",
      "\t - 1765/1765 (100.00%) of all predictions\n",
      "\t - 245/1765 (13.88%) of which have labels of val 0 (down)\n",
      "\t - 115/1765 (6.52%) of which have labels of val 1 (up)\n",
      "\t - 1405/1765 (79.60%) of which have labels of val 2 (same)\n",
      "Performance:\n",
      "              precision    recall  f1-score   support\n",
      "\n",
      "        Down       0.62      0.44      0.51       345\n",
      "          Up       0.72      0.24      0.36       348\n",
      "Approx. Same       0.70      0.91      0.79      1072\n",
      "\n",
      "    accuracy                           0.69      1765\n",
      "   macro avg       0.68      0.53      0.55      1765\n",
      "weighted avg       0.69      0.69      0.65      1765\n",
      "\n",
      "56/56 [==============================] - 0s 5ms/step\n",
      "For predictions with confidence >= 70.0%, accuracy = 0.77\n",
      "\t - 1125/1765 (63.74%) of all predictions\n",
      "\t - 93/1125 (8.27%) of which have labels of val 0 (down)\n",
      "\t - 56/1125 (4.98%) of which have labels of val 1 (up)\n",
      "\t - 976/1125 (86.76%) of which have labels of val 2 (same)\n",
      "Performance:\n",
      "              precision    recall  f1-score   support\n",
      "\n",
      "        Down       0.85      0.43      0.57       184\n",
      "          Up       0.82      0.25      0.39       181\n",
      "Approx. Same       0.76      0.97      0.85       760\n",
      "\n",
      "    accuracy                           0.77      1125\n",
      "   macro avg       0.81      0.55      0.60      1125\n",
      "weighted avg       0.78      0.77      0.73      1125\n",
      "\n",
      "56/56 [==============================] - 0s 4ms/step\n",
      "For predictions with confidence >= 90.0%, accuracy = 0.86\n",
      "\t - 347/1765 (19.66%) of all predictions\n",
      "\t - 29/347 (8.36%) of which have labels of val 0 (down)\n",
      "\t - 16/347 (4.61%) of which have labels of val 1 (up)\n",
      "\t - 302/347 (87.03%) of which have labels of val 2 (same)\n",
      "Performance:\n",
      "              precision    recall  f1-score   support\n",
      "\n",
      "        Down       0.97      0.60      0.74        47\n",
      "          Up       0.81      0.34      0.48        38\n",
      "Approx. Same       0.86      0.99      0.92       262\n",
      "\n",
      "    accuracy                           0.86       347\n",
      "   macro avg       0.88      0.64      0.71       347\n",
      "weighted avg       0.87      0.86      0.85       347\n",
      "\n",
      "56/56 [==============================] - 0s 4ms/step\n"
     ]
    }
   ],
   "source": [
    "ticker = 'GOOG'\n",
    "START_DATE = '2022-10-1'\n",
    "END_DATE = '2022-11-3'\n",
    "FIG_SIZE = (10,5)\n",
    "result = evaluate_on_ticker(transformer_model, ticker, START_DATE, END_DATE, conf_thresholds=[0,0.7,0.9])\n",
    "\n",
    "result['Hour'] = result['Time'].apply(lambda timestamp: timestamp.hour)\n",
    "\n",
    "def extract_accuracy(df):\n",
    "    acc_df = pd.DataFrame(columns=['Hour', 'Accuracy'])\n",
    "    acc_score = accuracy_score(df['Actual'], df['Prediction'])\n",
    "    timestamp = df['Hour'].iloc[0]\n",
    "    acc_df.loc[0] = [timestamp, acc_score] \n",
    "    return acc_df\n",
    "\n",
    "def extract_mcc(df):\n",
    "    acc_df = pd.DataFrame(columns=['Hour', 'MCC'])\n",
    "    acc_score = matthews_corrcoef(df['Actual'], df['Prediction'])\n",
    "    timestamp = df['Hour'].iloc[0]\n",
    "    acc_df.loc[0] = [timestamp, acc_score] \n",
    "    return acc_df\n",
    "\n",
    "def extract_metric(metric):\n",
    "    def fit_df(df):\n",
    "        metric_df = pd.DataFrame(columns=['Hour', 'Down', 'Up', 'Same'])\n",
    "        metric_score = metric(df['Actual'], df['Prediction'], average=None)\n",
    "        metric_df.loc[0] = [int(df['Hour'].iloc[0])] + [metric_score[i] for i in range(3)]\n",
    "        return metric_df\n",
    "    return fit_df"
   ]
  },
  {
   "cell_type": "code",
   "execution_count": 262,
   "metadata": {},
   "outputs": [
    {
     "data": {
      "image/png": "[encoded data removed]",
      "text/plain": [
       "<Figure size 720x360 with 1 Axes>"
      ]
     },
     "metadata": {
      "needs_background": "light"
     },
     "output_type": "display_data"
    },
    {
     "data": {
      "image/png": "[encoded data removed]",
      "text/plain": [
       "<Figure size 720x360 with 1 Axes>"
      ]
     },
     "metadata": {
      "needs_background": "light"
     },
     "output_type": "display_data"
    }
   ],
   "source": [
    "acc_df = result.groupby('Hour').apply(extract_accuracy)\n",
    "acc_df.plot(x='Hour', y='Accuracy', kind='bar', figsize=(10,5))\n",
    "plt.xlabel(\"Time of the day\")\n",
    "plt.ylabel(\"Accuracy\")\n",
    "plt.title(\"Accuracy based on time of the day\")\n",
    "plt.show()\n",
    "\n",
    "\n",
    "mcc_df = result.groupby('Hour').apply(extract_mcc)\n",
    "mcc_df.plot(x='Hour', y='MCC', kind='bar', figsize=(10,5))\n",
    "plt.xlabel(\"Time of the day\")\n",
    "plt.ylabel(\"MCC\")\n",
    "plt.title(\"MCC based on time of the day\")\n",
    "plt.show()"
   ]
  },
  {
   "cell_type": "code",
   "execution_count": 263,
   "metadata": {},
   "outputs": [
    {
     "data": {
      "image/png": "[encoded data removed]",
      "text/plain": [
       "<Figure size 720x360 with 1 Axes>"
      ]
     },
     "metadata": {
      "needs_background": "light"
     },
     "output_type": "display_data"
    }
   ],
   "source": [
    "\n",
    "\n",
    "pre_df = result.groupby('Hour').apply(extract_metric(precision_score))\n",
    "pre_df.plot(x='Hour', y=['Up', 'Down', 'Same'], kind='bar', color=['g','r','b'], figsize=(10,5))\n",
    "plt.xlabel(\"Time of the day\")\n",
    "plt.ylabel(\"Precision\")\n",
    "plt.title(\"Precision based on time of the day\")\n",
    "plt.show()\n",
    "\n"
   ]
  },
  {
   "cell_type": "code",
   "execution_count": 264,
   "metadata": {},
   "outputs": [
    {
     "data": {
      "image/png": "[encoded data removed]",
      "text/plain": [
       "<Figure size 720x360 with 1 Axes>"
      ]
     },
     "metadata": {
      "needs_background": "light"
     },
     "output_type": "display_data"
    }
   ],
   "source": [
    "\n",
    "\n",
    "rec_df = result.groupby('Hour').apply(extract_metric(recall_score))\n",
    "rec_df.plot(x='Hour', y=['Up', 'Down', 'Same'], kind='bar', color=['g','r','b'], figsize=(10,5))\n",
    "plt.xlabel(\"Time of the day\")\n",
    "plt.ylabel(\"Recall\")\n",
    "plt.title(\"Recall based on time of the day\")\n",
    "plt.show()\n",
    "\n"
   ]
  },
  {
   "cell_type": "code",
   "execution_count": 269,
   "metadata": {},
   "outputs": [],
   "source": [
    "up, down, same = np.bincount(np.hstack((y_train_single, y_test_single)))"
   ]
  },
  {
   "cell_type": "code",
   "execution_count": 274,
   "metadata": {},
   "outputs": [
    {
     "data": {
      "image/png": "[encoded data removed]",
      "text/plain": [
       "<Figure size 432x288 with 1 Axes>"
      ]
     },
     "metadata": {
      "needs_background": "light"
     },
     "output_type": "display_data"
    }
   ],
   "source": [
    "plt.barh([2.25], [0]) # expand to fit the legend\n",
    "plt.barh([0], [down], height=0.4, edgecolor='k', label='num_downward')\n",
    "plt.barh([1], [same], height=0.4, edgecolor='k', label='num_no_change')\n",
    "plt.barh([2], [up], height=0.4, edgecolor='k', label='num_upward')\n",
    "plt.title('Target Classes')\n",
    "plt.xlabel('Number of Samples')\n",
    "plt.ylabel('Price Movement Class')\n",
    "plt.legend();\n"
   ]
  },
  {
   "cell_type": "code",
   "execution_count": null,
   "metadata": {},
   "outputs": [],
   "source": []
  }
 ],
 "metadata": {
  "kernelspec": {
   "display_name": "Python 3.9.12 ('tf')",
   "language": "python",
   "name": "python3"
  },
  "language_info": {
   "codemirror_mode": {
    "name": "ipython",
    "version": 3
   },
   "file_extension": ".py",
   "mimetype": "text/x-python",
   "name": "python",
   "nbconvert_exporter": "python",
   "pygments_lexer": "ipython3",
   "version": "3.9.12"
  },
  "orig_nbformat": 4,
  "vscode": {
   "interpreter": {
    "hash": "2b2da39daaaff30a84159e8452ba91acfc0bbd521fb66c6aa9941f847b87bd81"
   }
  }
 },
 "nbformat": 4,
 "nbformat_minor": 2
}
