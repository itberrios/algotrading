{
 "cells": [
  {
   "cell_type": "markdown",
   "metadata": {},
   "source": [
    "# **5min stock data**\n",
    "\n",
    "In this notebook we will explore a basic pipeline for 5min interval stock data. We will be working with a portfolio of highly correlated stocks: AAPL, GOOG, QCOM, and TSLA. We will train our models using the Balanced Focal Loss function and compare it to our previous performan using Categorical Cross Entropy Loss. These stocks were highly correlated around Aug - Oct 2022. The stock dataset contains timestamps, prices and trading volume, but does not contin any target variables.\n",
    "- Timestamps &#8594; Interval\n",
    "- Open/Close/High/Low Prices &#8594; Ratio\n",
    "- Trading Volume &#8594; Ratio\n",
    "\n",
    "To use the timestamps we will sinusoidally encode them. We will also add engineered features such as the price difference.\n",
    "\n",
    " We will create the target variable by taking the midpoint of Open/Close prices for M future days and then averaging these values. This target variable is Oridnal and has 3 possible classes: \n",
    "- 0 - downward price movement\n",
    "- 1 - no change\n",
    "- 2 - upward price movement\n",
    "\n",
    "The price movements are derived by a threshold that is defined using the IQR method to detect outliers. Currently we use a limit of 1, and every Q1 outlier is classified as \"0 - downward price movement\", every Q3 outlier is classified as \"2 - upward price movement\", and all inliers are classified as: \"1 - no change\".\n",
    "\n",
    "#### NOTE:\n",
    "This dataset has discontinuities after each trading day (i.e. from final afterhours trade until the first afterhours trade the next day). It is possible that other afterhours activities could have occured to impact the prices during this time period. "
   ]
  },
  {
   "cell_type": "markdown",
   "metadata": {},
   "source": [
    "## Models\n",
    "\n",
    "The main model we will be testing in this notebook is a Transformer Encoder. Typically a Transformer has an Encoder and Decoder portion, where the Encoder learns information about which parts of the input sequence are relevant to eachother. The Decoder does the opposite, it takes the continuouss representation learned by the Encoder and learns to generate an ordered output sequence. For the Time Series Classifiecation problem it is unecessary to include the Decoder, we can simply use the Encoder to learn relative correlations of the inputs and add a Vanilla Feed Forward Neural Network to the end of the Encoder Blocks to obtain the desired classification. [Source](https://userweb.cs.txstate.edu/~amk181/AIME_LSTM_Attention_vs_Transformer.pdf).\n",
    "\n",
    "The Transformer Encoder also relies on positional encoding in order to implement this, we will first project the input vectors into high dimensional space as done [here](https://arxiv.org/pdf/2010.02803.pdf), and then add the positional Encoding as done in the [original paper](https://arxiv.org/pdf/1706.03762.pdf).\n",
    "\n",
    "\n",
    "In order to compare how effective the Transformer is in modeling seuqential data, we will compare its results to:\n",
    "- Baseline Model (uses previous predictions)\n",
    "- Linear Model\n",
    "- Neural Network\n",
    "- LSTM"
   ]
  },
  {
   "cell_type": "markdown",
   "metadata": {},
   "source": [
    "### Library Import"
   ]
  },
  {
   "cell_type": "code",
   "execution_count": 1,
   "metadata": {},
   "outputs": [],
   "source": [
    "import os\n",
    "import sys\n",
    "import numpy as np\n",
    "import pandas as pd\n",
    "import pandas_ta as ta\n",
    "import tensorflow as tf\n",
    "import keras\n",
    "from tensorflow.keras import layers\n",
    "import matplotlib.pyplot as plt\n",
    "\n",
    "plt.rcParams[\"figure.figsize\"] = (20, 10)\n",
    "%matplotlib inline"
   ]
  },
  {
   "cell_type": "markdown",
   "metadata": {},
   "source": [
    "### Local Imports\n",
    "\n",
    "Get base dir for imports, this allows us to look in the main algotrading folder to import local modules"
   ]
  },
  {
   "cell_type": "code",
   "execution_count": 2,
   "metadata": {},
   "outputs": [],
   "source": [
    "BASE_DIR = os.path.abspath(os.path.join(os.path.abspath('..'), '..'))\n",
    "sys.path.append(BASE_DIR)"
   ]
  },
  {
   "cell_type": "code",
   "execution_count": 3,
   "metadata": {},
   "outputs": [],
   "source": [
    "from data_utils import *\n",
    "from data_pipeline import *\n",
    "from window_generator import WindowGenerator\n",
    "from models.basic_transformer import TransformerModel"
   ]
  },
  {
   "cell_type": "markdown",
   "metadata": {},
   "source": [
    "### Ensure that GPU is available"
   ]
  },
  {
   "cell_type": "code",
   "execution_count": 4,
   "metadata": {},
   "outputs": [
    {
     "data": {
      "text/plain": [
       "[PhysicalDevice(name='/physical_device:GPU:0', device_type='GPU')]"
      ]
     },
     "execution_count": 4,
     "metadata": {},
     "output_type": "execute_result"
    }
   ],
   "source": [
    "tf.config.list_physical_devices('GPU')"
   ]
  },
  {
   "cell_type": "markdown",
   "metadata": {},
   "source": [
    "### Get the Data\n",
    "Place all stocks in a Dictionary of DataFrames"
   ]
  },
  {
   "cell_type": "code",
   "execution_count": 5,
   "metadata": {},
   "outputs": [
    {
     "name": "stderr",
     "output_type": "stream",
     "text": [
      "c:\\Users\\itber\\Documents\\learning\\school\\ESE527\\project\\algotrading\\data_pipeline.py:99: SettingWithCopyWarning: \n",
      "A value is trying to be set on a copy of a slice from a DataFrame\n",
      "\n",
      "See the caveats in the documentation: https://pandas.pydata.org/pandas-docs/stable/user_guide/indexing.html#returning-a-view-versus-a-copy\n",
      "  df['price_change'][df['price_trend'] < lower] = 0 # downward price movement\n",
      "c:\\Users\\itber\\Documents\\learning\\school\\ESE527\\project\\algotrading\\data_pipeline.py:100: SettingWithCopyWarning: \n",
      "A value is trying to be set on a copy of a slice from a DataFrame\n",
      "\n",
      "See the caveats in the documentation: https://pandas.pydata.org/pandas-docs/stable/user_guide/indexing.html#returning-a-view-versus-a-copy\n",
      "  df['price_change'][df['price_trend'] > upper] = 2 # upward prive movement\n",
      "c:\\Users\\itber\\Documents\\learning\\school\\ESE527\\project\\algotrading\\data_pipeline.py:99: SettingWithCopyWarning: \n",
      "A value is trying to be set on a copy of a slice from a DataFrame\n",
      "\n",
      "See the caveats in the documentation: https://pandas.pydata.org/pandas-docs/stable/user_guide/indexing.html#returning-a-view-versus-a-copy\n",
      "  df['price_change'][df['price_trend'] < lower] = 0 # downward price movement\n",
      "c:\\Users\\itber\\Documents\\learning\\school\\ESE527\\project\\algotrading\\data_pipeline.py:100: SettingWithCopyWarning: \n",
      "A value is trying to be set on a copy of a slice from a DataFrame\n",
      "\n",
      "See the caveats in the documentation: https://pandas.pydata.org/pandas-docs/stable/user_guide/indexing.html#returning-a-view-versus-a-copy\n",
      "  df['price_change'][df['price_trend'] > upper] = 2 # upward prive movement\n",
      "c:\\Users\\itber\\Documents\\learning\\school\\ESE527\\project\\algotrading\\data_pipeline.py:99: SettingWithCopyWarning: \n",
      "A value is trying to be set on a copy of a slice from a DataFrame\n",
      "\n",
      "See the caveats in the documentation: https://pandas.pydata.org/pandas-docs/stable/user_guide/indexing.html#returning-a-view-versus-a-copy\n",
      "  df['price_change'][df['price_trend'] < lower] = 0 # downward price movement\n",
      "c:\\Users\\itber\\Documents\\learning\\school\\ESE527\\project\\algotrading\\data_pipeline.py:100: SettingWithCopyWarning: \n",
      "A value is trying to be set on a copy of a slice from a DataFrame\n",
      "\n",
      "See the caveats in the documentation: https://pandas.pydata.org/pandas-docs/stable/user_guide/indexing.html#returning-a-view-versus-a-copy\n",
      "  df['price_change'][df['price_trend'] > upper] = 2 # upward prive movement\n",
      "c:\\Users\\itber\\Documents\\learning\\school\\ESE527\\project\\algotrading\\data_pipeline.py:99: SettingWithCopyWarning: \n",
      "A value is trying to be set on a copy of a slice from a DataFrame\n",
      "\n",
      "See the caveats in the documentation: https://pandas.pydata.org/pandas-docs/stable/user_guide/indexing.html#returning-a-view-versus-a-copy\n",
      "  df['price_change'][df['price_trend'] < lower] = 0 # downward price movement\n",
      "c:\\Users\\itber\\Documents\\learning\\school\\ESE527\\project\\algotrading\\data_pipeline.py:100: SettingWithCopyWarning: \n",
      "A value is trying to be set on a copy of a slice from a DataFrame\n",
      "\n",
      "See the caveats in the documentation: https://pandas.pydata.org/pandas-docs/stable/user_guide/indexing.html#returning-a-view-versus-a-copy\n",
      "  df['price_change'][df['price_trend'] > upper] = 2 # upward prive movement\n"
     ]
    }
   ],
   "source": [
    "from glob import glob\n",
    "import re\n",
    "\n",
    "# get all data .csvs\n",
    "data_paths = glob(os.path.join(BASE_DIR, r'data\\raw\\5min\\*.csv'))\n",
    "\n",
    "# get stock DataFrames dict\n",
    "stock_dfs = get_stocks(data_paths, tgt_window=4, iqr_lim=0.25)"
   ]
  },
  {
   "cell_type": "markdown",
   "metadata": {},
   "source": [
    "### Plot the of number of each class for each stock"
   ]
  },
  {
   "cell_type": "code",
   "execution_count": 6,
   "metadata": {},
   "outputs": [
    {
     "data": {
      "image/png": "[encoded data removed]",
      "text/plain": [
       "<Figure size 720x576 with 4 Axes>"
      ]
     },
     "metadata": {
      "needs_background": "light"
     },
     "output_type": "display_data"
    }
   ],
   "source": [
    "fig = plt.figure(figsize=(10, 8))\n",
    "\n",
    "for i, name in enumerate(stock_dfs.keys()):\n",
    "    # get plotting axes\n",
    "    ax = plt.subplot(2, 2, i + 1)\n",
    "\n",
    "    # get stock DataFrame\n",
    "    df = stock_dfs[name]\n",
    "\n",
    "    # compute class counts\n",
    "    down = np.sum(df.price_change == 0)\n",
    "    none = np.sum(df.price_change == 1)\n",
    "    up = np.sum(df.price_change == 2)\n",
    "\n",
    "    ax.barh([2.25], [0]) # expand to fit the legend\n",
    "    ax.barh([0], [down], height=0.4, edgecolor='k', label='num_downward')\n",
    "    ax.barh([1], [none], height=0.4, edgecolor='k', label='num_no_change')\n",
    "    ax.barh([2], [up], height=0.4, edgecolor='k', label='num_upward')\n",
    "    ax.set_title(name)\n",
    "    ax.set_xlabel('Number of Samples')\n",
    "    ax.set_ylabel('Price Movement Class')\n",
    "    ax.legend();\n",
    "\n",
    "# set main title\n",
    "fig.suptitle('Number of training samples in each class', size=24)\n",
    "\n",
    "# add a bit of space\n",
    "fig.subplots_adjust(hspace=0.35);\n"
   ]
  },
  {
   "cell_type": "markdown",
   "metadata": {},
   "source": [
    "### Add Day of Week to features and remove later\n",
    "We will use the dayofweek to remove windows containing non-consecutive data"
   ]
  },
  {
   "cell_type": "code",
   "execution_count": 6,
   "metadata": {},
   "outputs": [],
   "source": [
    "for name in stock_dfs.keys():\n",
    "    df = stock_dfs[name]\n",
    "    df['dayofweek'] =  df.index.dayofweek\n",
    "\n",
    "    stock_dfs[name] = df"
   ]
  },
  {
   "cell_type": "code",
   "execution_count": 7,
   "metadata": {},
   "outputs": [
    {
     "data": {
      "text/plain": [
       "(93274, 16)"
      ]
     },
     "execution_count": 7,
     "metadata": {},
     "output_type": "execute_result"
    }
   ],
   "source": [
    "stock_dfs['AAPL'].shape"
   ]
  },
  {
   "cell_type": "code",
   "execution_count": 8,
   "metadata": {},
   "outputs": [
    {
     "name": "stdout",
     "output_type": "stream",
     "text": [
      "(69493, 16)\n",
      "(13015, 16)\n",
      "(10766, 16)\n"
     ]
    }
   ],
   "source": [
    "print(stock_dfs['AAPL'].loc[:'2022-05-01'].shape)\n",
    "print(stock_dfs['AAPL'].loc['2022-05-02':'2022-08-09'].shape)\n",
    "print(stock_dfs['AAPL'].loc['2022-08-10':].shape)"
   ]
  },
  {
   "cell_type": "markdown",
   "metadata": {},
   "source": [
    "### Get train, valid, test splits for each stock"
   ]
  },
  {
   "cell_type": "code",
   "execution_count": 9,
   "metadata": {},
   "outputs": [],
   "source": [
    "split_dfs = get_split_dfs(stock_dfs, train_loc='2022-05-01', \n",
    "                          valid_loc_1='2022-05-02', valid_loc_2='2022-08-09', \n",
    "                          test_loc='2022-08-10')"
   ]
  },
  {
   "cell_type": "markdown",
   "metadata": {},
   "source": [
    "### Get Data Generators\n",
    "- One for baseline model\n",
    "- One for simple non-sequential models (this will use window normalization)\n",
    "- One for sequential models (This will use window normalization)"
   ]
  },
  {
   "cell_type": "markdown",
   "metadata": {},
   "source": [
    "First we need to make a Data Generator that that can account for the time spans that we are interested in. We might be able to use specific timestamps to define the windows, i.e. 09:30-13:30\n",
    "\n",
    "We should strive for a general method of doing this"
   ]
  },
  {
   "cell_type": "markdown",
   "metadata": {},
   "source": [
    "### Get Data Generators\n",
    "We will add data generators for each stock to dictionaries"
   ]
  },
  {
   "cell_type": "code",
   "execution_count": 95,
   "metadata": {},
   "outputs": [],
   "source": [
    "base_gens = {}\n",
    "single_gens = {}\n",
    "window_gens = {}\n",
    "    \n",
    "for name in stock_dfs.keys():\n",
    "    base_gen = WindowGenerator(\n",
    "                input_width=1, label_width=1, shift=0,\n",
    "                sample_weights=False,\n",
    "                dfs=split_dfs[name],\n",
    "                batch_size=32, \n",
    "                label_columns=['price_change'])\n",
    "\n",
    "    single_gen = WindowGenerator(\n",
    "                input_width=1, label_width=1, shift=0, \n",
    "                sample_weights=False,\n",
    "                window_norm=False,\n",
    "                dfs=split_dfs[name],\n",
    "                remove_columns=['price_change', 'price_trend', 'dayofweek'],\n",
    "                batch_size=32, \n",
    "                remove_nonsequential=True,\n",
    "                label_columns=['price_change'])\n",
    "\n",
    "    window_normed_gen = WindowGenerator(\n",
    "                input_width=32, label_width=1, shift=0, \n",
    "                sample_weights=False,\n",
    "                window_norm=True,\n",
    "                dfs=split_dfs[name],\n",
    "                remove_columns=['price_change', 'price_trend', 'dayofweek'],\n",
    "                batch_size=32, \n",
    "                remove_nonsequential=True, # keep only simultaneous batch windows\n",
    "                label_columns=['price_change'])\n",
    "\n",
    "    # add to data generators\n",
    "    base_gens.update({name : base_gen})\n",
    "    single_gens.update({name : single_gen})\n",
    "    window_gens.update({name : window_normed_gen})\n",
    "        "
   ]
  },
  {
   "cell_type": "code",
   "execution_count": 96,
   "metadata": {},
   "outputs": [
    {
     "name": "stdout",
     "output_type": "stream",
     "text": [
      "Inputs shape (batch, time, features): (32, 32, 13)\n",
      "Labels shape (batch, time, features): (32, 1, 1)\n",
      "Inputs shape (batch, time, features): (32, 32, 13)\n",
      "Labels shape (batch, time, features): (32, 1, 1)\n",
      "Inputs shape (batch, time, features): (32, 32, 13)\n",
      "Labels shape (batch, time, features): (32, 1, 1)\n",
      "Inputs shape (batch, time, features): (32, 32, 13)\n",
      "Labels shape (batch, time, features): (32, 1, 1)\n",
      "Inputs shape (batch, time, features): (32, 32, 13)\n",
      "Labels shape (batch, time, features): (32, 1, 1)\n"
     ]
    }
   ],
   "source": [
    "for inputs, labels in window_gens['AAPL'].train.take(5):\n",
    "    print(f'Inputs shape (batch, time, features): {inputs.shape}')\n",
    "    print(f'Labels shape (batch, time, features): {labels.shape}')"
   ]
  },
  {
   "cell_type": "markdown",
   "metadata": {},
   "source": [
    "### Start Training Models"
   ]
  },
  {
   "cell_type": "code",
   "execution_count": 97,
   "metadata": {},
   "outputs": [],
   "source": [
    "def mcc_metric(y_true, y_pred, num_classes=3, threshold=0.5):\n",
    "    ''' Custom Mathew Correlation Coefficient for multiclass \n",
    "        For more details see: \n",
    "            \"https://en.wikipedia.org/wiki/Phi_coefficient\"\n",
    "        Inputs: \n",
    "            y_true (tensor)\n",
    "            y_pred (tensor)\n",
    "            num_classes - number of classes\n",
    "        Outputs:\n",
    "            mcc - Mathews Correlation Coefficient\n",
    "        '''\n",
    "    # obtain predictions here, we can add in a threshold if we would like to\n",
    "    y_pred = tf.argmax(y_pred, axis=-1)\n",
    "\n",
    "    # cast to int64\n",
    "    y_true = tf.squeeze(tf.cast(y_true, tf.int64), axis=-1)\n",
    "    y_pred = tf.cast(y_pred, tf.int64)\n",
    "\n",
    "    # total number of samples\n",
    "    s = tf.size(y_true, out_type=tf.int64)\n",
    "\n",
    "    # total number of correctly predicted labels\n",
    "    c = s - tf.math.count_nonzero(y_true - y_pred)\n",
    "    \n",
    "    # number of times each class truely occured\n",
    "    t = []\n",
    "\n",
    "    # number of times each class was predicted\n",
    "    p = []\n",
    "\n",
    "    for k in range(num_classes):\n",
    "        k = tf.cast(k, tf.int64)\n",
    "        \n",
    "        # number of times that the class truely occured\n",
    "        t.append(tf.reduce_sum(tf.cast(tf.equal(k, y_true), tf.int32)))\n",
    "\n",
    "        # number of times that the class was predicted\n",
    "        p.append(tf.reduce_sum(tf.cast(tf.equal(k, y_pred), tf.int32)))\n",
    "\n",
    "\n",
    "    t = tf.expand_dims(tf.stack(t), 0)\n",
    "    p = tf.expand_dims(tf.stack(p), 0)\n",
    "\n",
    "    s = tf.cast(s, tf.int32)\n",
    "    c = tf.cast(c, tf.int32)\n",
    "    \n",
    "    num = tf.cast(c*s - tf.matmul(t, tf.transpose(p)), tf.float32)\n",
    "    dem = tf.math.sqrt(tf.cast(s**2 - tf.matmul(p, tf.transpose(p)), tf.float32)) \\\n",
    "          * tf.math.sqrt(tf.cast(s**2 - tf.matmul(t, tf.transpose(t)), tf.float32))\n",
    "\n",
    "\n",
    "    mcc = tf.divide(num, dem + 1e-6)\n",
    "\n",
    "    return mcc\n",
    "    "
   ]
  },
  {
   "cell_type": "markdown",
   "metadata": {},
   "source": [
    "In order to use Mathews Correlation Coefficient with predicted class probabilities, we will override thhe update_state function"
   ]
  },
  {
   "cell_type": "code",
   "execution_count": 98,
   "metadata": {},
   "outputs": [],
   "source": [
    "class Baseline(tf.keras.Model):\n",
    "    def __init__(self, label_index=None):\n",
    "        super().__init__()\n",
    "        self.label_index = label_index\n",
    "\n",
    "    def call(self, inputs):\n",
    "        if self.label_index is None:\n",
    "            return inputs\n",
    "        result = inputs[:, :, self.label_index]\n",
    "        return result[:, :, tf.newaxis]"
   ]
  },
  {
   "cell_type": "code",
   "execution_count": 99,
   "metadata": {},
   "outputs": [],
   "source": [
    "train_performance = {}\n",
    "val_performance = {}"
   ]
  },
  {
   "cell_type": "code",
   "execution_count": 100,
   "metadata": {},
   "outputs": [
    {
     "name": "stdout",
     "output_type": "stream",
     "text": [
      "2172/2172 [==============================] - 8s 3ms/step - loss: nan - mcc_metric: 0.0000e+00 - accuracy: 0.1725\n",
      "407/407 [==============================] - 1s 3ms/step - loss: nan - mcc_metric: 0.0000e+00 - accuracy: 0.2232\n",
      "1068/1068 [==============================] - 4s 3ms/step - loss: nan - mcc_metric: 0.0000e+00 - accuracy: 0.1737\n",
      "246/246 [==============================] - 1s 3ms/step - loss: nan - mcc_metric: 0.0000e+00 - accuracy: 0.2153\n",
      "1438/1438 [==============================] - 5s 3ms/step - loss: nan - mcc_metric: 0.0000e+00 - accuracy: 0.1697\n",
      "265/265 [==============================] - 1s 3ms/step - loss: nan - mcc_metric: 0.0000e+00 - accuracy: 0.2187\n",
      "2094/2094 [==============================] - 7s 3ms/step - loss: nan - mcc_metric: 0.0000e+00 - accuracy: 0.1843\n",
      "400/400 [==============================] - 1s 3ms/step - loss: nan - mcc_metric: 0.0000e+00 - accuracy: 0.2061\n"
     ]
    }
   ],
   "source": [
    "for name in base_gens.keys():\n",
    "    baseline = Baseline(label_index=base_gen.column_indices['price_change'])\n",
    "\n",
    "    baseline.compile(loss=tf.keras.losses.SparseCategoricalCrossentropy(),\n",
    "                    metrics=[mcc_metric, 'accuracy'],\n",
    "                    # weighted_metrics=['accuracy'],\n",
    "                    )\n",
    "\n",
    "    train_performance[f'Baseline_{name}'] = baseline.evaluate(base_gens[name].train)\n",
    "    val_performance[f'Baseline_{name}'] = baseline.evaluate(base_gens[name].valid)"
   ]
  },
  {
   "cell_type": "markdown",
   "metadata": {},
   "source": [
    "Add a function to streamline the rest of the training process. First we will compute normalized class weights to help with the class imbalance."
   ]
  },
  {
   "cell_type": "code",
   "execution_count": 101,
   "metadata": {},
   "outputs": [],
   "source": [
    "def get_class_weights(dfs, name):\n",
    "    class_counts = np.bincount(dfs[name][0].price_change)\n",
    "    total = class_counts.sum()\n",
    "    n_classes = len(class_counts)\n",
    "\n",
    "    weights = []\n",
    "    for idx, count in enumerate(class_counts):\n",
    "        # compute balanced weights\n",
    "        weights.append(total / (n_classes*count))\n",
    "\n",
    "        # get inverse frequency class weighting\n",
    "        # weights.append(1/np.power(count, 1))\n",
    "\n",
    "\n",
    "    weights = np.array(weights) \n",
    "    # weights = weights / weights.sum()\n",
    "    return weights"
   ]
  },
  {
   "cell_type": "code",
   "execution_count": 102,
   "metadata": {},
   "outputs": [],
   "source": [
    "from focal_loss import SparseCategoricalFocalLoss\n",
    "\n",
    "def compile_and_fit(model, window, lr=1e-4, max_epochs=100, lr_scheduler=None, patience=5, weights=None):\n",
    "    early_stopping = tf.keras.callbacks.EarlyStopping(monitor='val_loss',\n",
    "                                                      patience=patience,\n",
    "                                                      mode='min')\n",
    "\n",
    "    \n",
    "    model.compile(\n",
    "        # loss=SparseCategoricalFocalLoss(gamma=2, class_weight=weights),\n",
    "        loss=tf.keras.losses.SparseCategoricalCrossentropy(),\n",
    "        optimizer=tf.keras.optimizers.Adam(learning_rate=lr),\n",
    "        metrics=[tf.keras.metrics.SparseCategoricalAccuracy(), mcc_metric],\n",
    "        # weighted_metrics=[tf.keras.metrics.SparseCategoricalAccuracy()]\n",
    "        )\n",
    "\n",
    "    if lr_scheduler:\n",
    "        lr_callback = tf.keras.callbacks.LearningRateScheduler(lr_scheduler)\n",
    "        history = model.fit(window.train, epochs=max_epochs,\n",
    "                            validation_data=window.valid,\n",
    "                            callbacks=[lr_callback, early_stopping])\n",
    "    else:\n",
    "        history = model.fit(window.train, epochs=max_epochs,\n",
    "                            validation_data=window.valid,\n",
    "                            callbacks=[early_stopping])\n",
    "    return history"
   ]
  },
  {
   "cell_type": "markdown",
   "metadata": {},
   "source": [
    "### Train the Linear model\n",
    "Entire dataset is standardized here"
   ]
  },
  {
   "cell_type": "code",
   "execution_count": 103,
   "metadata": {},
   "outputs": [
    {
     "name": "stdout",
     "output_type": "stream",
     "text": [
      "Epoch 1/30\n",
      "2172/2172 [==============================] - 14s 6ms/step - loss: 1.2062 - sparse_categorical_accuracy: 0.6224 - mcc_metric: 0.0947 - val_loss: 1.5503 - val_sparse_categorical_accuracy: 0.4379 - val_mcc_metric: 0.0879\n",
      "Epoch 2/30\n",
      "2172/2172 [==============================] - 12s 6ms/step - loss: 1.1552 - sparse_categorical_accuracy: 0.6308 - mcc_metric: 0.0961 - val_loss: 1.3985 - val_sparse_categorical_accuracy: 0.4373 - val_mcc_metric: 0.0880\n",
      "Epoch 3/30\n",
      "2172/2172 [==============================] - 13s 6ms/step - loss: 1.1552 - sparse_categorical_accuracy: 0.6309 - mcc_metric: 0.0990 - val_loss: 1.7599 - val_sparse_categorical_accuracy: 0.3830 - val_mcc_metric: 0.0723\n",
      "Epoch 4/30\n",
      "2172/2172 [==============================] - 12s 6ms/step - loss: 1.1582 - sparse_categorical_accuracy: 0.6313 - mcc_metric: 0.0974 - val_loss: 1.8545 - val_sparse_categorical_accuracy: 0.3840 - val_mcc_metric: 0.0772\n",
      "Epoch 5/30\n",
      "2172/2172 [==============================] - 13s 6ms/step - loss: 1.1397 - sparse_categorical_accuracy: 0.6319 - mcc_metric: 0.1006 - val_loss: 2.0052 - val_sparse_categorical_accuracy: 0.3912 - val_mcc_metric: 0.0829\n",
      "Epoch 6/30\n",
      "2172/2172 [==============================] - 14s 6ms/step - loss: 1.1792 - sparse_categorical_accuracy: 0.6270 - mcc_metric: 0.0973 - val_loss: 1.5448 - val_sparse_categorical_accuracy: 0.4391 - val_mcc_metric: 0.0985\n",
      "Epoch 7/30\n",
      "2172/2172 [==============================] - 13s 6ms/step - loss: 1.1553 - sparse_categorical_accuracy: 0.6310 - mcc_metric: 0.0954 - val_loss: 1.3874 - val_sparse_categorical_accuracy: 0.4450 - val_mcc_metric: 0.0761\n",
      "Epoch 8/30\n",
      "2172/2172 [==============================] - 12s 6ms/step - loss: 1.1370 - sparse_categorical_accuracy: 0.6349 - mcc_metric: 0.0986 - val_loss: 1.4065 - val_sparse_categorical_accuracy: 0.4306 - val_mcc_metric: 0.0759\n",
      "Epoch 9/30\n",
      "2172/2172 [==============================] - 12s 6ms/step - loss: 1.1436 - sparse_categorical_accuracy: 0.6323 - mcc_metric: 0.0996 - val_loss: 1.6283 - val_sparse_categorical_accuracy: 0.4091 - val_mcc_metric: 0.0808\n",
      "Epoch 10/30\n",
      "2172/2172 [==============================] - 12s 6ms/step - loss: 1.1669 - sparse_categorical_accuracy: 0.6318 - mcc_metric: 0.0959 - val_loss: 1.6274 - val_sparse_categorical_accuracy: 0.4347 - val_mcc_metric: 0.0883\n",
      "Epoch 11/30\n",
      "2172/2172 [==============================] - 12s 6ms/step - loss: 1.1745 - sparse_categorical_accuracy: 0.6312 - mcc_metric: 0.0956 - val_loss: 1.5056 - val_sparse_categorical_accuracy: 0.4346 - val_mcc_metric: 0.0950\n",
      "Epoch 12/30\n",
      "2172/2172 [==============================] - 12s 6ms/step - loss: 1.1532 - sparse_categorical_accuracy: 0.6319 - mcc_metric: 0.0963 - val_loss: 1.5238 - val_sparse_categorical_accuracy: 0.4296 - val_mcc_metric: 0.0891\n",
      "Epoch 1/30\n",
      "1068/1068 [==============================] - 7s 6ms/step - loss: 0.9937 - sparse_categorical_accuracy: 0.6204 - mcc_metric: 0.0572 - val_loss: 1.3678 - val_sparse_categorical_accuracy: 0.3158 - val_mcc_metric: 0.0175\n",
      "Epoch 2/30\n",
      "1068/1068 [==============================] - 6s 6ms/step - loss: 1.0064 - sparse_categorical_accuracy: 0.6190 - mcc_metric: 0.0579 - val_loss: 1.3512 - val_sparse_categorical_accuracy: 0.3166 - val_mcc_metric: 0.0123\n",
      "Epoch 3/30\n",
      "1068/1068 [==============================] - 6s 6ms/step - loss: 1.0135 - sparse_categorical_accuracy: 0.6182 - mcc_metric: 0.0596 - val_loss: 1.3447 - val_sparse_categorical_accuracy: 0.3162 - val_mcc_metric: 0.0122\n",
      "Epoch 4/30\n",
      "1068/1068 [==============================] - 6s 6ms/step - loss: 1.0114 - sparse_categorical_accuracy: 0.6184 - mcc_metric: 0.0593 - val_loss: 1.3430 - val_sparse_categorical_accuracy: 0.3167 - val_mcc_metric: 0.0133\n",
      "Epoch 5/30\n",
      "1068/1068 [==============================] - 6s 6ms/step - loss: 1.0110 - sparse_categorical_accuracy: 0.6185 - mcc_metric: 0.0592 - val_loss: 1.3427 - val_sparse_categorical_accuracy: 0.3167 - val_mcc_metric: 0.0133\n",
      "Epoch 6/30\n",
      "1068/1068 [==============================] - 6s 6ms/step - loss: 1.0110 - sparse_categorical_accuracy: 0.6185 - mcc_metric: 0.0591 - val_loss: 1.3427 - val_sparse_categorical_accuracy: 0.3170 - val_mcc_metric: 0.0137\n",
      "Epoch 7/30\n",
      "1068/1068 [==============================] - 6s 6ms/step - loss: 1.0109 - sparse_categorical_accuracy: 0.6185 - mcc_metric: 0.0590 - val_loss: 1.3425 - val_sparse_categorical_accuracy: 0.3172 - val_mcc_metric: 0.0141\n",
      "Epoch 8/30\n",
      "1068/1068 [==============================] - 6s 6ms/step - loss: 1.0107 - sparse_categorical_accuracy: 0.6185 - mcc_metric: 0.0591 - val_loss: 1.3428 - val_sparse_categorical_accuracy: 0.3174 - val_mcc_metric: 0.0140\n",
      "Epoch 9/30\n",
      "1068/1068 [==============================] - 6s 6ms/step - loss: 1.0106 - sparse_categorical_accuracy: 0.6184 - mcc_metric: 0.0589 - val_loss: 1.3429 - val_sparse_categorical_accuracy: 0.3181 - val_mcc_metric: 0.0146\n",
      "Epoch 10/30\n",
      "1068/1068 [==============================] - 6s 6ms/step - loss: 1.0105 - sparse_categorical_accuracy: 0.6186 - mcc_metric: 0.0591 - val_loss: 1.3431 - val_sparse_categorical_accuracy: 0.3179 - val_mcc_metric: 0.0142\n",
      "Epoch 11/30\n",
      "1068/1068 [==============================] - 6s 6ms/step - loss: 1.0103 - sparse_categorical_accuracy: 0.6186 - mcc_metric: 0.0593 - val_loss: 1.3432 - val_sparse_categorical_accuracy: 0.3184 - val_mcc_metric: 0.0149\n",
      "Epoch 12/30\n",
      "1068/1068 [==============================] - 6s 6ms/step - loss: 1.0101 - sparse_categorical_accuracy: 0.6186 - mcc_metric: 0.0591 - val_loss: 1.3434 - val_sparse_categorical_accuracy: 0.3189 - val_mcc_metric: 0.0158\n",
      "Epoch 1/30\n",
      "1438/1438 [==============================] - 8s 6ms/step - loss: 1.1890 - sparse_categorical_accuracy: 0.6156 - mcc_metric: 0.0582 - val_loss: 1.1131 - val_sparse_categorical_accuracy: 0.4388 - val_mcc_metric: 0.1009\n",
      "Epoch 2/30\n",
      "1438/1438 [==============================] - 8s 5ms/step - loss: 1.1510 - sparse_categorical_accuracy: 0.6226 - mcc_metric: 0.0577 - val_loss: 1.0944 - val_sparse_categorical_accuracy: 0.4732 - val_mcc_metric: 0.1104\n",
      "Epoch 3/30\n",
      "1438/1438 [==============================] - 8s 5ms/step - loss: 1.1332 - sparse_categorical_accuracy: 0.6224 - mcc_metric: 0.0556 - val_loss: 1.0899 - val_sparse_categorical_accuracy: 0.4678 - val_mcc_metric: 0.1049\n",
      "Epoch 4/30\n",
      "1438/1438 [==============================] - 10s 7ms/step - loss: 1.1296 - sparse_categorical_accuracy: 0.6222 - mcc_metric: 0.0556 - val_loss: 1.0879 - val_sparse_categorical_accuracy: 0.4672 - val_mcc_metric: 0.1052\n",
      "Epoch 5/30\n",
      "1438/1438 [==============================] - 8s 6ms/step - loss: 1.1275 - sparse_categorical_accuracy: 0.6218 - mcc_metric: 0.0542 - val_loss: 1.0866 - val_sparse_categorical_accuracy: 0.4669 - val_mcc_metric: 0.1059\n",
      "Epoch 6/30\n",
      "1438/1438 [==============================] - 8s 6ms/step - loss: 1.1263 - sparse_categorical_accuracy: 0.6220 - mcc_metric: 0.0551 - val_loss: 1.0853 - val_sparse_categorical_accuracy: 0.4673 - val_mcc_metric: 0.1069\n",
      "Epoch 7/30\n",
      "1438/1438 [==============================] - 8s 5ms/step - loss: 1.1261 - sparse_categorical_accuracy: 0.6221 - mcc_metric: 0.0555 - val_loss: 1.0832 - val_sparse_categorical_accuracy: 0.4685 - val_mcc_metric: 0.1069\n",
      "Epoch 8/30\n",
      "1438/1438 [==============================] - 8s 5ms/step - loss: 1.1245 - sparse_categorical_accuracy: 0.6220 - mcc_metric: 0.0555 - val_loss: 1.0818 - val_sparse_categorical_accuracy: 0.4699 - val_mcc_metric: 0.1086\n",
      "Epoch 9/30\n",
      "1438/1438 [==============================] - 8s 5ms/step - loss: 1.1238 - sparse_categorical_accuracy: 0.6220 - mcc_metric: 0.0553 - val_loss: 1.0798 - val_sparse_categorical_accuracy: 0.4710 - val_mcc_metric: 0.1076\n",
      "Epoch 10/30\n",
      "1438/1438 [==============================] - 8s 5ms/step - loss: 1.1229 - sparse_categorical_accuracy: 0.6222 - mcc_metric: 0.0558 - val_loss: 1.0783 - val_sparse_categorical_accuracy: 0.4719 - val_mcc_metric: 0.1078\n",
      "Epoch 11/30\n",
      "1438/1438 [==============================] - 7s 5ms/step - loss: 1.1226 - sparse_categorical_accuracy: 0.6224 - mcc_metric: 0.0563 - val_loss: 1.0764 - val_sparse_categorical_accuracy: 0.4735 - val_mcc_metric: 0.1086\n",
      "Epoch 12/30\n",
      "1438/1438 [==============================] - 8s 5ms/step - loss: 1.1225 - sparse_categorical_accuracy: 0.6228 - mcc_metric: 0.0570 - val_loss: 1.0748 - val_sparse_categorical_accuracy: 0.4753 - val_mcc_metric: 0.1086\n",
      "Epoch 13/30\n",
      "1438/1438 [==============================] - 7s 5ms/step - loss: 1.1224 - sparse_categorical_accuracy: 0.6229 - mcc_metric: 0.0573 - val_loss: 1.0735 - val_sparse_categorical_accuracy: 0.4770 - val_mcc_metric: 0.1086\n",
      "Epoch 14/30\n",
      "1438/1438 [==============================] - 8s 5ms/step - loss: 1.1221 - sparse_categorical_accuracy: 0.6228 - mcc_metric: 0.0569 - val_loss: 1.0723 - val_sparse_categorical_accuracy: 0.4784 - val_mcc_metric: 0.1091\n",
      "Epoch 15/30\n",
      "1438/1438 [==============================] - 8s 5ms/step - loss: 1.1210 - sparse_categorical_accuracy: 0.6229 - mcc_metric: 0.0575 - val_loss: 1.0714 - val_sparse_categorical_accuracy: 0.4797 - val_mcc_metric: 0.1096\n",
      "Epoch 16/30\n",
      "1438/1438 [==============================] - 7s 5ms/step - loss: 1.1236 - sparse_categorical_accuracy: 0.6234 - mcc_metric: 0.0588 - val_loss: 1.0698 - val_sparse_categorical_accuracy: 0.4818 - val_mcc_metric: 0.1105\n",
      "Epoch 17/30\n",
      "1438/1438 [==============================] - 7s 5ms/step - loss: 1.1193 - sparse_categorical_accuracy: 0.6234 - mcc_metric: 0.0581 - val_loss: 1.0689 - val_sparse_categorical_accuracy: 0.4835 - val_mcc_metric: 0.1123\n",
      "Epoch 18/30\n",
      "1438/1438 [==============================] - 7s 5ms/step - loss: 1.1241 - sparse_categorical_accuracy: 0.6241 - mcc_metric: 0.0596 - val_loss: 1.0674 - val_sparse_categorical_accuracy: 0.4841 - val_mcc_metric: 0.1115\n",
      "Epoch 19/30\n",
      "1438/1438 [==============================] - 7s 5ms/step - loss: 1.1191 - sparse_categorical_accuracy: 0.6241 - mcc_metric: 0.0598 - val_loss: 1.0669 - val_sparse_categorical_accuracy: 0.4861 - val_mcc_metric: 0.1129\n",
      "Epoch 20/30\n",
      "1438/1438 [==============================] - 8s 5ms/step - loss: 1.1213 - sparse_categorical_accuracy: 0.6247 - mcc_metric: 0.0607 - val_loss: 1.0650 - val_sparse_categorical_accuracy: 0.4871 - val_mcc_metric: 0.1137\n",
      "Epoch 21/30\n",
      "1438/1438 [==============================] - 8s 5ms/step - loss: 1.1216 - sparse_categorical_accuracy: 0.6248 - mcc_metric: 0.0612 - val_loss: 1.0640 - val_sparse_categorical_accuracy: 0.4873 - val_mcc_metric: 0.1121\n",
      "Epoch 22/30\n",
      "1438/1438 [==============================] - 7s 5ms/step - loss: 1.1197 - sparse_categorical_accuracy: 0.6244 - mcc_metric: 0.0605 - val_loss: 1.0625 - val_sparse_categorical_accuracy: 0.4884 - val_mcc_metric: 0.1123\n",
      "Epoch 23/30\n",
      "1438/1438 [==============================] - 7s 5ms/step - loss: 1.1199 - sparse_categorical_accuracy: 0.6248 - mcc_metric: 0.0615 - val_loss: 1.0627 - val_sparse_categorical_accuracy: 0.4892 - val_mcc_metric: 0.1145\n",
      "Epoch 24/30\n",
      "1438/1438 [==============================] - 8s 5ms/step - loss: 1.1172 - sparse_categorical_accuracy: 0.6246 - mcc_metric: 0.0616 - val_loss: 1.0617 - val_sparse_categorical_accuracy: 0.4911 - val_mcc_metric: 0.1158\n",
      "Epoch 25/30\n",
      "1438/1438 [==============================] - 8s 5ms/step - loss: 1.1229 - sparse_categorical_accuracy: 0.6252 - mcc_metric: 0.0625 - val_loss: 1.0590 - val_sparse_categorical_accuracy: 0.4907 - val_mcc_metric: 0.1123\n",
      "Epoch 26/30\n",
      "1438/1438 [==============================] - 8s 5ms/step - loss: 1.1159 - sparse_categorical_accuracy: 0.6249 - mcc_metric: 0.0625 - val_loss: 1.0595 - val_sparse_categorical_accuracy: 0.4944 - val_mcc_metric: 0.1170\n",
      "Epoch 27/30\n",
      "1438/1438 [==============================] - 7s 5ms/step - loss: 1.1227 - sparse_categorical_accuracy: 0.6260 - mcc_metric: 0.0638 - val_loss: 1.0572 - val_sparse_categorical_accuracy: 0.4938 - val_mcc_metric: 0.1153\n",
      "Epoch 28/30\n",
      "1438/1438 [==============================] - 8s 5ms/step - loss: 1.1155 - sparse_categorical_accuracy: 0.6254 - mcc_metric: 0.0629 - val_loss: 1.0579 - val_sparse_categorical_accuracy: 0.4952 - val_mcc_metric: 0.1160\n",
      "Epoch 29/30\n",
      "1438/1438 [==============================] - 8s 6ms/step - loss: 1.1205 - sparse_categorical_accuracy: 0.6259 - mcc_metric: 0.0630 - val_loss: 1.0555 - val_sparse_categorical_accuracy: 0.4951 - val_mcc_metric: 0.1155\n",
      "Epoch 30/30\n",
      "1438/1438 [==============================] - 9s 6ms/step - loss: 1.1173 - sparse_categorical_accuracy: 0.6259 - mcc_metric: 0.0629 - val_loss: 1.0547 - val_sparse_categorical_accuracy: 0.4969 - val_mcc_metric: 0.1169\n",
      "Epoch 1/30\n",
      "2094/2094 [==============================] - 12s 6ms/step - loss: 1.1940 - sparse_categorical_accuracy: 0.6152 - mcc_metric: 0.1022 - val_loss: 1.4139 - val_sparse_categorical_accuracy: 0.4571 - val_mcc_metric: 0.1209\n",
      "Epoch 2/30\n",
      "2094/2094 [==============================] - 12s 6ms/step - loss: 1.2371 - sparse_categorical_accuracy: 0.6171 - mcc_metric: 0.1031 - val_loss: 1.4020 - val_sparse_categorical_accuracy: 0.4388 - val_mcc_metric: 0.1560\n",
      "Epoch 3/30\n",
      "2094/2094 [==============================] - 12s 6ms/step - loss: 1.2160 - sparse_categorical_accuracy: 0.6141 - mcc_metric: 0.1020 - val_loss: 1.4161 - val_sparse_categorical_accuracy: 0.4972 - val_mcc_metric: 0.1082\n",
      "Epoch 4/30\n",
      "2094/2094 [==============================] - 12s 6ms/step - loss: 1.2003 - sparse_categorical_accuracy: 0.6187 - mcc_metric: 0.1030 - val_loss: 1.3726 - val_sparse_categorical_accuracy: 0.4474 - val_mcc_metric: 0.1306\n",
      "Epoch 5/30\n",
      "2094/2094 [==============================] - 12s 6ms/step - loss: 1.2082 - sparse_categorical_accuracy: 0.6154 - mcc_metric: 0.1029 - val_loss: 1.4840 - val_sparse_categorical_accuracy: 0.4935 - val_mcc_metric: 0.1013\n",
      "Epoch 6/30\n",
      "2094/2094 [==============================] - 12s 6ms/step - loss: 1.1913 - sparse_categorical_accuracy: 0.6200 - mcc_metric: 0.1042 - val_loss: 1.3852 - val_sparse_categorical_accuracy: 0.4512 - val_mcc_metric: 0.1251\n",
      "Epoch 7/30\n",
      "2094/2094 [==============================] - 11s 5ms/step - loss: 1.2093 - sparse_categorical_accuracy: 0.6159 - mcc_metric: 0.1037 - val_loss: 1.4601 - val_sparse_categorical_accuracy: 0.4938 - val_mcc_metric: 0.1021\n",
      "Epoch 8/30\n",
      "2094/2094 [==============================] - 12s 6ms/step - loss: 1.1953 - sparse_categorical_accuracy: 0.6191 - mcc_metric: 0.1032 - val_loss: 1.3799 - val_sparse_categorical_accuracy: 0.4514 - val_mcc_metric: 0.1239\n",
      "Epoch 9/30\n",
      "2094/2094 [==============================] - 12s 6ms/step - loss: 1.2098 - sparse_categorical_accuracy: 0.6161 - mcc_metric: 0.1041 - val_loss: 1.4702 - val_sparse_categorical_accuracy: 0.4945 - val_mcc_metric: 0.1010\n"
     ]
    }
   ],
   "source": [
    "linear_models = {}\n",
    "\n",
    "for name in single_gens.keys():\n",
    "\n",
    "    linear = tf.keras.Sequential([\n",
    "        layers.Dense(units=3, activation='softmax')\n",
    "    ])\n",
    "\n",
    "    # weights = get_class_weights(split_dfs, name)\n",
    "    history = compile_and_fit(linear, single_gens[name], lr=0.08, max_epochs=30, weights=None)\n",
    "\n",
    "    linear_models.update({f'linear_{name}' : linear})\n",
    "    train_performance[f'linear_{name}'] = linear.evaluate(single_gens[name].train, verbose=False)\n",
    "    val_performance[f'linear_{name}'] = linear.evaluate(single_gens[name].valid, verbose=False)"
   ]
  },
  {
   "cell_type": "code",
   "execution_count": 105,
   "metadata": {},
   "outputs": [
    {
     "data": {
      "text/plain": [
       "{'Baseline_AAPL': [nan, 0.0, 0.22320400178432465],\n",
       " 'Baseline_GOOG': [nan, 0.0, 0.215257465839386],\n",
       " 'Baseline_QCOM': [nan, 0.0, 0.21873155236244202],\n",
       " 'Baseline_TSLA': [nan, 0.0, 0.20606866478919983],\n",
       " 'linear_AAPL': [1.5238393545150757, 0.42958125472068787, 0.08913545310497284],\n",
       " 'linear_GOOG': [1.3434151411056519, 0.3188811242580414, 0.015764497220516205],\n",
       " 'linear_QCOM': [1.0547120571136475, 0.4968701899051666, 0.11689107865095139],\n",
       " 'linear_TSLA': [1.4702140092849731, 0.49448660016059875, 0.10098537802696228]}"
      ]
     },
     "execution_count": 105,
     "metadata": {},
     "output_type": "execute_result"
    }
   ],
   "source": [
    "val_performance"
   ]
  },
  {
   "cell_type": "markdown",
   "metadata": {},
   "source": [
    "### Train the transformer Model"
   ]
  },
  {
   "cell_type": "markdown",
   "metadata": {},
   "source": [
    "Use learning rate schuler to warmpup Transformer learning rate"
   ]
  },
  {
   "cell_type": "code",
   "execution_count": 106,
   "metadata": {},
   "outputs": [],
   "source": [
    "def lr_scheduler(epoch, lr, warmup_epochs=15, decay_epochs=100, initial_lr=1e-6, base_lr=1e-3, min_lr=5e-5):\n",
    "    if epoch <= warmup_epochs:\n",
    "        pct = epoch / warmup_epochs\n",
    "        return ((base_lr - initial_lr) * pct) + initial_lr\n",
    "\n",
    "    if epoch > warmup_epochs and epoch < warmup_epochs+decay_epochs:\n",
    "        pct = 1 - ((epoch - warmup_epochs) / decay_epochs)\n",
    "        return ((base_lr - min_lr) * pct) + min_lr\n",
    "\n",
    "    return min_lr"
   ]
  },
  {
   "cell_type": "code",
   "execution_count": 108,
   "metadata": {},
   "outputs": [
    {
     "name": "stdout",
     "output_type": "stream",
     "text": [
      "Epoch 1/30\n",
      "2171/2171 [==============================] - 61s 27ms/step - loss: 1.0401 - sparse_categorical_accuracy: 0.5115 - mcc_metric: -0.0055 - val_loss: 1.0321 - val_sparse_categorical_accuracy: 0.5242 - val_mcc_metric: -0.0059 - lr: 1.0000e-06\n",
      "Epoch 2/30\n",
      "2171/2171 [==============================] - 60s 28ms/step - loss: 0.8313 - sparse_categorical_accuracy: 0.6434 - mcc_metric: 0.0215 - val_loss: 0.9486 - val_sparse_categorical_accuracy: 0.5499 - val_mcc_metric: 0.1061 - lr: 6.7600e-05\n",
      "Epoch 3/30\n",
      "2171/2171 [==============================] - 60s 28ms/step - loss: 0.8075 - sparse_categorical_accuracy: 0.6517 - mcc_metric: 0.0899 - val_loss: 0.9840 - val_sparse_categorical_accuracy: 0.5304 - val_mcc_metric: 0.1597 - lr: 1.3420e-04\n",
      "Epoch 4/30\n",
      "2171/2171 [==============================] - 60s 27ms/step - loss: 0.7978 - sparse_categorical_accuracy: 0.6568 - mcc_metric: 0.1129 - val_loss: 0.9914 - val_sparse_categorical_accuracy: 0.5293 - val_mcc_metric: 0.1765 - lr: 2.0080e-04\n",
      "Epoch 5/30\n",
      "2171/2171 [==============================] - 59s 27ms/step - loss: 0.7910 - sparse_categorical_accuracy: 0.6589 - mcc_metric: 0.1218 - val_loss: 0.9938 - val_sparse_categorical_accuracy: 0.5215 - val_mcc_metric: 0.1774 - lr: 2.6740e-04\n",
      "Epoch 6/30\n",
      "2171/2171 [==============================] - 60s 28ms/step - loss: 0.7849 - sparse_categorical_accuracy: 0.6609 - mcc_metric: 0.1291 - val_loss: 0.9865 - val_sparse_categorical_accuracy: 0.5202 - val_mcc_metric: 0.1875 - lr: 3.3400e-04\n",
      "Epoch 7/30\n",
      "2171/2171 [==============================] - 59s 27ms/step - loss: 0.7793 - sparse_categorical_accuracy: 0.6633 - mcc_metric: 0.1369 - val_loss: 0.9797 - val_sparse_categorical_accuracy: 0.5291 - val_mcc_metric: 0.1964 - lr: 4.0060e-04\n",
      "Epoch 1/30\n",
      "1068/1068 [==============================] - 27s 24ms/step - loss: 1.0832 - sparse_categorical_accuracy: 0.4206 - mcc_metric: 0.0128 - val_loss: 1.0708 - val_sparse_categorical_accuracy: 0.5131 - val_mcc_metric: -0.0064 - lr: 1.0000e-06\n",
      "Epoch 2/30\n",
      "1068/1068 [==============================] - 25s 23ms/step - loss: 0.8059 - sparse_categorical_accuracy: 0.7056 - mcc_metric: -2.4313e-04 - val_loss: 0.9866 - val_sparse_categorical_accuracy: 0.6058 - val_mcc_metric: -4.0781e-04 - lr: 6.7600e-05\n",
      "Epoch 3/30\n",
      "1068/1068 [==============================] - 25s 23ms/step - loss: 0.7911 - sparse_categorical_accuracy: 0.7072 - mcc_metric: 0.0035 - val_loss: 1.0005 - val_sparse_categorical_accuracy: 0.5611 - val_mcc_metric: 0.0124 - lr: 1.3420e-04\n",
      "Epoch 4/30\n",
      "1068/1068 [==============================] - 25s 23ms/step - loss: 0.7859 - sparse_categorical_accuracy: 0.7075 - mcc_metric: 0.0149 - val_loss: 1.0105 - val_sparse_categorical_accuracy: 0.5311 - val_mcc_metric: 0.0181 - lr: 2.0080e-04\n",
      "Epoch 5/30\n",
      "1068/1068 [==============================] - 25s 23ms/step - loss: 0.7803 - sparse_categorical_accuracy: 0.7069 - mcc_metric: 0.0222 - val_loss: 1.0108 - val_sparse_categorical_accuracy: 0.5306 - val_mcc_metric: 0.0184 - lr: 2.6740e-04\n",
      "Epoch 6/30\n",
      "1068/1068 [==============================] - 25s 23ms/step - loss: 0.7759 - sparse_categorical_accuracy: 0.7070 - mcc_metric: 0.0275 - val_loss: 1.0021 - val_sparse_categorical_accuracy: 0.5363 - val_mcc_metric: 0.0252 - lr: 3.3400e-04\n",
      "Epoch 7/30\n",
      "1068/1068 [==============================] - 25s 23ms/step - loss: 0.7710 - sparse_categorical_accuracy: 0.7063 - mcc_metric: 0.0298 - val_loss: 0.9955 - val_sparse_categorical_accuracy: 0.5437 - val_mcc_metric: 0.0418 - lr: 4.0060e-04\n",
      "Epoch 1/30\n",
      "1437/1437 [==============================] - 37s 25ms/step - loss: 1.0215 - sparse_categorical_accuracy: 0.6104 - mcc_metric: -0.0019 - val_loss: 1.0244 - val_sparse_categorical_accuracy: 0.5962 - val_mcc_metric: 0.0012 - lr: 1.0000e-06\n",
      "Epoch 2/30\n",
      "1437/1437 [==============================] - 36s 25ms/step - loss: 0.7977 - sparse_categorical_accuracy: 0.6893 - mcc_metric: -0.0010 - val_loss: 0.9422 - val_sparse_categorical_accuracy: 0.5988 - val_mcc_metric: 0.0000e+00 - lr: 6.7600e-05\n",
      "Epoch 3/30\n",
      "1437/1437 [==============================] - 36s 25ms/step - loss: 0.7879 - sparse_categorical_accuracy: 0.6901 - mcc_metric: 0.0011 - val_loss: 0.9381 - val_sparse_categorical_accuracy: 0.5980 - val_mcc_metric: -0.0032 - lr: 1.3420e-04\n",
      "Epoch 4/30\n",
      "1437/1437 [==============================] - 37s 25ms/step - loss: 0.7823 - sparse_categorical_accuracy: 0.6915 - mcc_metric: 0.0126 - val_loss: 0.9303 - val_sparse_categorical_accuracy: 0.6005 - val_mcc_metric: 0.0187 - lr: 2.0080e-04\n",
      "Epoch 5/30\n",
      "1437/1437 [==============================] - 37s 25ms/step - loss: 0.7762 - sparse_categorical_accuracy: 0.6930 - mcc_metric: 0.0284 - val_loss: 0.9263 - val_sparse_categorical_accuracy: 0.6016 - val_mcc_metric: 0.0379 - lr: 2.6740e-04\n",
      "Epoch 6/30\n",
      "1437/1437 [==============================] - 36s 25ms/step - loss: 0.7717 - sparse_categorical_accuracy: 0.6931 - mcc_metric: 0.0348 - val_loss: 0.9236 - val_sparse_categorical_accuracy: 0.6049 - val_mcc_metric: 0.0573 - lr: 3.3400e-04\n",
      "Epoch 7/30\n",
      "1437/1437 [==============================] - 36s 25ms/step - loss: 0.7695 - sparse_categorical_accuracy: 0.6945 - mcc_metric: 0.0459 - val_loss: 0.9240 - val_sparse_categorical_accuracy: 0.6035 - val_mcc_metric: 0.0575 - lr: 4.0060e-04\n",
      "Epoch 8/30\n",
      "1437/1437 [==============================] - 36s 25ms/step - loss: 0.7683 - sparse_categorical_accuracy: 0.6951 - mcc_metric: 0.0486 - val_loss: 0.9224 - val_sparse_categorical_accuracy: 0.6079 - val_mcc_metric: 0.0676 - lr: 4.6720e-04\n",
      "Epoch 9/30\n",
      "1437/1437 [==============================] - 36s 25ms/step - loss: 0.7659 - sparse_categorical_accuracy: 0.6961 - mcc_metric: 0.0541 - val_loss: 0.9242 - val_sparse_categorical_accuracy: 0.6067 - val_mcc_metric: 0.0742 - lr: 5.3380e-04\n",
      "Epoch 10/30\n",
      "1437/1437 [==============================] - 36s 25ms/step - loss: 0.7648 - sparse_categorical_accuracy: 0.6973 - mcc_metric: 0.0579 - val_loss: 0.9400 - val_sparse_categorical_accuracy: 0.5912 - val_mcc_metric: 0.0796 - lr: 6.0040e-04\n",
      "Epoch 11/30\n",
      "1437/1437 [==============================] - 36s 25ms/step - loss: 0.7631 - sparse_categorical_accuracy: 0.6974 - mcc_metric: 0.0595 - val_loss: 0.9169 - val_sparse_categorical_accuracy: 0.6094 - val_mcc_metric: 0.0815 - lr: 6.6700e-04\n",
      "Epoch 12/30\n",
      "1437/1437 [==============================] - 36s 25ms/step - loss: 0.7618 - sparse_categorical_accuracy: 0.6965 - mcc_metric: 0.0657 - val_loss: 0.9241 - val_sparse_categorical_accuracy: 0.6095 - val_mcc_metric: 0.0941 - lr: 7.3360e-04\n",
      "Epoch 13/30\n",
      "1437/1437 [==============================] - 36s 25ms/step - loss: 0.7587 - sparse_categorical_accuracy: 0.6982 - mcc_metric: 0.0649 - val_loss: 0.9214 - val_sparse_categorical_accuracy: 0.6106 - val_mcc_metric: 0.0884 - lr: 8.0020e-04\n",
      "Epoch 14/30\n",
      "1437/1437 [==============================] - 36s 25ms/step - loss: 0.7567 - sparse_categorical_accuracy: 0.6991 - mcc_metric: 0.0706 - val_loss: 0.9207 - val_sparse_categorical_accuracy: 0.6098 - val_mcc_metric: 0.0902 - lr: 8.6680e-04\n",
      "Epoch 15/30\n",
      "1437/1437 [==============================] - 36s 25ms/step - loss: 0.7577 - sparse_categorical_accuracy: 0.6981 - mcc_metric: 0.0723 - val_loss: 0.9215 - val_sparse_categorical_accuracy: 0.6046 - val_mcc_metric: 0.0819 - lr: 9.3340e-04\n",
      "Epoch 16/30\n",
      "1437/1437 [==============================] - 36s 25ms/step - loss: 0.7569 - sparse_categorical_accuracy: 0.6976 - mcc_metric: 0.0715 - val_loss: 0.9204 - val_sparse_categorical_accuracy: 0.6057 - val_mcc_metric: 0.0870 - lr: 0.0010\n",
      "Epoch 1/30\n",
      "2093/2093 [==============================] - 58s 27ms/step - loss: 1.0311 - sparse_categorical_accuracy: 0.5749 - mcc_metric: 0.0023 - val_loss: 1.0239 - val_sparse_categorical_accuracy: 0.5733 - val_mcc_metric: 0.0015 - lr: 1.0000e-06\n",
      "Epoch 2/30\n",
      "2093/2093 [==============================] - 57s 27ms/step - loss: 0.8780 - sparse_categorical_accuracy: 0.6243 - mcc_metric: 0.0045 - val_loss: 0.9275 - val_sparse_categorical_accuracy: 0.5558 - val_mcc_metric: 0.0103 - lr: 6.7600e-05\n",
      "Epoch 3/30\n",
      "2093/2093 [==============================] - 57s 27ms/step - loss: 0.8353 - sparse_categorical_accuracy: 0.6319 - mcc_metric: 0.0604 - val_loss: 0.9173 - val_sparse_categorical_accuracy: 0.5737 - val_mcc_metric: 0.1320 - lr: 1.3420e-04\n",
      "Epoch 4/30\n",
      "2093/2093 [==============================] - 57s 27ms/step - loss: 0.8177 - sparse_categorical_accuracy: 0.6418 - mcc_metric: 0.1201 - val_loss: 0.9227 - val_sparse_categorical_accuracy: 0.5707 - val_mcc_metric: 0.1510 - lr: 2.0080e-04\n",
      "Epoch 5/30\n",
      "2093/2093 [==============================] - 57s 27ms/step - loss: 0.8079 - sparse_categorical_accuracy: 0.6485 - mcc_metric: 0.1342 - val_loss: 0.9228 - val_sparse_categorical_accuracy: 0.5711 - val_mcc_metric: 0.1567 - lr: 2.6740e-04\n",
      "Epoch 6/30\n",
      "2093/2093 [==============================] - 58s 28ms/step - loss: 0.8004 - sparse_categorical_accuracy: 0.6511 - mcc_metric: 0.1434 - val_loss: 0.9223 - val_sparse_categorical_accuracy: 0.5690 - val_mcc_metric: 0.1669 - lr: 3.3400e-04\n",
      "Epoch 7/30\n",
      "2093/2093 [==============================] - 57s 27ms/step - loss: 0.7942 - sparse_categorical_accuracy: 0.6541 - mcc_metric: 0.1511 - val_loss: 0.9262 - val_sparse_categorical_accuracy: 0.5662 - val_mcc_metric: 0.1777 - lr: 4.0060e-04\n",
      "Epoch 8/30\n",
      "2093/2093 [==============================] - 58s 28ms/step - loss: 0.7910 - sparse_categorical_accuracy: 0.6557 - mcc_metric: 0.1542 - val_loss: 0.9300 - val_sparse_categorical_accuracy: 0.5651 - val_mcc_metric: 0.1782 - lr: 4.6720e-04\n"
     ]
    }
   ],
   "source": [
    "transformer_models = {}\n",
    "\n",
    "for name in single_gens.keys():\n",
    "\n",
    "    transformer_model = TransformerModel(\n",
    "                                    n_heads=2,\n",
    "                                    d_model=512,\n",
    "                                    ff_dim=256,\n",
    "                                    num_transformer_blocks=1,\n",
    "                                    mlp_units=[256],\n",
    "                                    n_outputs=3,\n",
    "                                    dropout=0.1,\n",
    "                                    mlp_dropout=0.1)\n",
    "\n",
    "    # weights = get_class_weights(split_dfs, name)\n",
    "    history = compile_and_fit(transformer_model, window_gens[name], lr=1e-6, max_epochs=30, \n",
    "                          lr_scheduler=lr_scheduler, patience=5)\n",
    "\n",
    "    transformer_models.update({f'transformer_{name}' : transformer_model})\n",
    "    train_performance[f'transformer_{name}'] = transformer_model.evaluate(window_gens[name].train, verbose=False)\n",
    "    val_performance[f'transformer_{name}'] = transformer_model.evaluate(window_gens[name].valid, verbose=False)\n"
   ]
  },
  {
   "cell_type": "markdown",
   "metadata": {},
   "source": [
    "### Train the LSTM"
   ]
  },
  {
   "cell_type": "code",
   "execution_count": 112,
   "metadata": {},
   "outputs": [
    {
     "name": "stdout",
     "output_type": "stream",
     "text": [
      "Epoch 1/30\n",
      "2171/2171 [==============================] - 61s 28ms/step - loss: 0.8685 - sparse_categorical_accuracy: 0.6419 - mcc_metric: 0.0398 - val_loss: 1.0020 - val_sparse_categorical_accuracy: 0.5372 - val_mcc_metric: 0.1200\n",
      "Epoch 2/30\n",
      "2171/2171 [==============================] - 60s 28ms/step - loss: 0.8480 - sparse_categorical_accuracy: 0.6521 - mcc_metric: 0.0703 - val_loss: 0.9761 - val_sparse_categorical_accuracy: 0.5519 - val_mcc_metric: 0.1673\n",
      "Epoch 3/30\n",
      "2171/2171 [==============================] - 61s 28ms/step - loss: 0.8344 - sparse_categorical_accuracy: 0.6534 - mcc_metric: 0.0791 - val_loss: 0.9937 - val_sparse_categorical_accuracy: 0.5489 - val_mcc_metric: 0.1739\n",
      "Epoch 4/30\n",
      "2171/2171 [==============================] - 59s 27ms/step - loss: 0.8417 - sparse_categorical_accuracy: 0.6532 - mcc_metric: 0.0810 - val_loss: 1.0224 - val_sparse_categorical_accuracy: 0.5388 - val_mcc_metric: 0.1835\n",
      "Epoch 5/30\n",
      "2171/2171 [==============================] - 59s 27ms/step - loss: 0.8414 - sparse_categorical_accuracy: 0.6533 - mcc_metric: 0.0764 - val_loss: 0.9894 - val_sparse_categorical_accuracy: 0.5391 - val_mcc_metric: 0.1465\n",
      "Epoch 6/30\n",
      "2171/2171 [==============================] - 59s 27ms/step - loss: 0.8482 - sparse_categorical_accuracy: 0.6500 - mcc_metric: 0.0608 - val_loss: 1.0098 - val_sparse_categorical_accuracy: 0.5340 - val_mcc_metric: 0.1510\n",
      "Epoch 7/30\n",
      "2171/2171 [==============================] - 59s 27ms/step - loss: 0.8450 - sparse_categorical_accuracy: 0.6525 - mcc_metric: 0.0725 - val_loss: 1.0053 - val_sparse_categorical_accuracy: 0.5261 - val_mcc_metric: 0.1291\n",
      "Epoch 1/30\n",
      "1068/1068 [==============================] - 26s 23ms/step - loss: 0.7924 - sparse_categorical_accuracy: 0.7068 - mcc_metric: 0.0043 - val_loss: 0.9534 - val_sparse_categorical_accuracy: 0.6069 - val_mcc_metric: 0.0060\n",
      "Epoch 2/30\n",
      "1068/1068 [==============================] - 25s 23ms/step - loss: 0.8025 - sparse_categorical_accuracy: 0.7073 - mcc_metric: 0.0031 - val_loss: 0.9560 - val_sparse_categorical_accuracy: 0.6064 - val_mcc_metric: 0.0000e+00\n",
      "Epoch 3/30\n",
      "1068/1068 [==============================] - 24s 23ms/step - loss: 0.7998 - sparse_categorical_accuracy: 0.7079 - mcc_metric: 0.0000e+00 - val_loss: 0.9565 - val_sparse_categorical_accuracy: 0.6064 - val_mcc_metric: 0.0000e+00\n",
      "Epoch 4/30\n",
      "1068/1068 [==============================] - 26s 24ms/step - loss: 0.8000 - sparse_categorical_accuracy: 0.7079 - mcc_metric: 0.0000e+00 - val_loss: 0.9565 - val_sparse_categorical_accuracy: 0.6064 - val_mcc_metric: 0.0000e+00\n",
      "Epoch 5/30\n",
      "1068/1068 [==============================] - 26s 24ms/step - loss: 0.8000 - sparse_categorical_accuracy: 0.7079 - mcc_metric: 0.0000e+00 - val_loss: 0.9565 - val_sparse_categorical_accuracy: 0.6064 - val_mcc_metric: 0.0000e+00\n",
      "Epoch 6/30\n",
      "1068/1068 [==============================] - 26s 24ms/step - loss: 0.8000 - sparse_categorical_accuracy: 0.7079 - mcc_metric: 0.0000e+00 - val_loss: 0.9565 - val_sparse_categorical_accuracy: 0.6064 - val_mcc_metric: 0.0000e+00\n",
      "Epoch 1/30\n",
      "1437/1437 [==============================] - 40s 27ms/step - loss: 0.8096 - sparse_categorical_accuracy: 0.6897 - mcc_metric: -1.5396e-04 - val_loss: 0.9558 - val_sparse_categorical_accuracy: 0.5988 - val_mcc_metric: 4.4921e-04\n",
      "Epoch 2/30\n",
      "1437/1437 [==============================] - 38s 27ms/step - loss: 0.8075 - sparse_categorical_accuracy: 0.6897 - mcc_metric: 1.1746e-04 - val_loss: 0.9559 - val_sparse_categorical_accuracy: 0.5988 - val_mcc_metric: 0.0000e+00\n",
      "Epoch 3/30\n",
      "1437/1437 [==============================] - 38s 27ms/step - loss: 0.8076 - sparse_categorical_accuracy: 0.6897 - mcc_metric: 0.0000e+00 - val_loss: 0.9559 - val_sparse_categorical_accuracy: 0.5988 - val_mcc_metric: 0.0000e+00\n",
      "Epoch 4/30\n",
      "1437/1437 [==============================] - 36s 25ms/step - loss: 0.8076 - sparse_categorical_accuracy: 0.6897 - mcc_metric: 0.0000e+00 - val_loss: 0.9559 - val_sparse_categorical_accuracy: 0.5988 - val_mcc_metric: 0.0000e+00\n",
      "Epoch 5/30\n",
      "1437/1437 [==============================] - 36s 25ms/step - loss: 0.8076 - sparse_categorical_accuracy: 0.6897 - mcc_metric: 0.0000e+00 - val_loss: 0.9559 - val_sparse_categorical_accuracy: 0.5988 - val_mcc_metric: 0.0000e+00\n",
      "Epoch 6/30\n",
      "1437/1437 [==============================] - 36s 25ms/step - loss: 0.8076 - sparse_categorical_accuracy: 0.6897 - mcc_metric: 0.0000e+00 - val_loss: 0.9559 - val_sparse_categorical_accuracy: 0.5988 - val_mcc_metric: 0.0000e+00\n",
      "Epoch 1/30\n",
      "2093/2093 [==============================] - 57s 27ms/step - loss: 0.9044 - sparse_categorical_accuracy: 0.6232 - mcc_metric: 0.0000e+00 - val_loss: 0.9897 - val_sparse_categorical_accuracy: 0.5733 - val_mcc_metric: 0.0000e+00\n",
      "Epoch 2/30\n",
      "2093/2093 [==============================] - 56s 27ms/step - loss: 0.9059 - sparse_categorical_accuracy: 0.6232 - mcc_metric: 0.0000e+00 - val_loss: 0.9896 - val_sparse_categorical_accuracy: 0.5733 - val_mcc_metric: 0.0000e+00\n",
      "Epoch 3/30\n",
      "2093/2093 [==============================] - 56s 27ms/step - loss: 0.9059 - sparse_categorical_accuracy: 0.6232 - mcc_metric: 0.0000e+00 - val_loss: 0.9896 - val_sparse_categorical_accuracy: 0.5733 - val_mcc_metric: 0.0000e+00\n",
      "Epoch 4/30\n",
      "2093/2093 [==============================] - 56s 27ms/step - loss: 0.9059 - sparse_categorical_accuracy: 0.6232 - mcc_metric: 0.0000e+00 - val_loss: 0.9896 - val_sparse_categorical_accuracy: 0.5733 - val_mcc_metric: 0.0000e+00\n",
      "Epoch 5/30\n",
      "2093/2093 [==============================] - 55s 26ms/step - loss: 0.9059 - sparse_categorical_accuracy: 0.6232 - mcc_metric: 0.0000e+00 - val_loss: 0.9896 - val_sparse_categorical_accuracy: 0.5733 - val_mcc_metric: 0.0000e+00\n",
      "Epoch 6/30\n",
      "2093/2093 [==============================] - 56s 27ms/step - loss: 0.9059 - sparse_categorical_accuracy: 0.6232 - mcc_metric: 0.0000e+00 - val_loss: 0.9896 - val_sparse_categorical_accuracy: 0.5733 - val_mcc_metric: 0.0000e+00\n",
      "Epoch 7/30\n",
      "2093/2093 [==============================] - 56s 27ms/step - loss: 0.9059 - sparse_categorical_accuracy: 0.6232 - mcc_metric: 0.0000e+00 - val_loss: 0.9896 - val_sparse_categorical_accuracy: 0.5733 - val_mcc_metric: 0.0000e+00\n",
      "Epoch 8/30\n",
      "2093/2093 [==============================] - 55s 27ms/step - loss: 0.9059 - sparse_categorical_accuracy: 0.6232 - mcc_metric: 0.0000e+00 - val_loss: 0.9896 - val_sparse_categorical_accuracy: 0.5733 - val_mcc_metric: 0.0000e+00\n",
      "Epoch 9/30\n",
      "2093/2093 [==============================] - 56s 27ms/step - loss: 0.9059 - sparse_categorical_accuracy: 0.6232 - mcc_metric: 0.0000e+00 - val_loss: 0.9896 - val_sparse_categorical_accuracy: 0.5733 - val_mcc_metric: 0.0000e+00\n",
      "Epoch 10/30\n",
      "2093/2093 [==============================] - 56s 27ms/step - loss: 0.9059 - sparse_categorical_accuracy: 0.6232 - mcc_metric: 0.0000e+00 - val_loss: 0.9896 - val_sparse_categorical_accuracy: 0.5733 - val_mcc_metric: 0.0000e+00\n"
     ]
    }
   ],
   "source": [
    "lstm_models = {}\n",
    "\n",
    "for name in single_gens.keys():\n",
    "\n",
    "    lstm_model = tf.keras.models.Sequential([\n",
    "        # Shape [batch, time, features] => [batch, time, lstm_units]\n",
    "        # layers.LSTM(25, dropout=0.0, return_sequences=True),\n",
    "        layers.LSTM(25, dropout=0.0),\n",
    "        # Shape => [batch, time, features]\n",
    "        # layers.TimeDistributed(layers.Dense(units=3, activation='softmax')),\n",
    "        layers.Dense(units=3, activation='softmax'),\n",
    "        layers.Reshape([1, -1])\n",
    "    ])\n",
    "\n",
    "    # weights = get_class_weights(split_dfs, name)\n",
    "    history = compile_and_fit(transformer_model, window_gens[name], lr=0.005, max_epochs=30, \n",
    "                              patience=5)\n",
    "\n",
    "    lstm_models.update({f'lstm_{name}' : lstm_models})\n",
    "    train_performance[f'lstm_{name}'] = lstm_models.evaluate(window_gens[name].train, verbose=False)\n",
    "    val_performance[f'lstm_{name}'] = lstm_models.evaluate(window_gens[name].valid, verbose=False)\n"
   ]
  },
  {
   "cell_type": "code",
   "execution_count": 113,
   "metadata": {},
   "outputs": [
    {
     "data": {
      "text/plain": [
       "{'Baseline_AAPL': [nan, 0.0, 0.17250658571720123],\n",
       " 'Baseline_GOOG': [nan, 0.0, 0.17368914186954498],\n",
       " 'Baseline_QCOM': [nan, 0.0, 0.16974611580371857],\n",
       " 'Baseline_TSLA': [nan, 0.0, 0.18433701992034912],\n",
       " 'linear_AAPL': [2.0645980834960938, 0.39052852988243103, 0.05672554671764374],\n",
       " 'linear_GOOG': [1.6996376514434814, 0.2846441864967346, 0.022803664207458496],\n",
       " 'linear_QCOM': [1.0521388053894043, 0.5544300675392151, 0.09147047996520996],\n",
       " 'linear_TSLA': [1.7513982057571411, 0.4700683653354645, 0.08654278516769409],\n",
       " 'transformer_AAPL': [0.9866639971733093,\n",
       "  0.49967238306999207,\n",
       "  0.19455310702323914],\n",
       " 'transformer_GOOG': [0.8812099695205688,\n",
       "  0.6865711212158203,\n",
       "  0.07174509763717651],\n",
       " 'transformer_QCOM': [0.8338237404823303,\n",
       "  0.6866649389266968,\n",
       "  0.11423670500516891],\n",
       " 'transformer_TSLA': [0.9290779829025269,\n",
       "  0.5608723163604736,\n",
       "  0.20469708740711212],\n",
       " 'lstm_AAPL': [0.9899654388427734, 0.5537832975387573, 0.1464715301990509],\n",
       " 'lstm_GOOG': [0.8691303730010986, 0.7079162001609802, 0.0],\n",
       " 'lstm_QCOM': [0.8734530210494995, 0.6897081136703491, 0.0],\n",
       " 'lstm_TSLA': [0.954899787902832, 0.6232315301895142, 0.0]}"
      ]
     },
     "execution_count": 113,
     "metadata": {},
     "output_type": "execute_result"
    }
   ],
   "source": [
    "train_performance"
   ]
  },
  {
   "cell_type": "code",
   "execution_count": 114,
   "metadata": {},
   "outputs": [
    {
     "data": {
      "text/plain": [
       "{'Baseline_AAPL': [nan, 0.0, 0.22320400178432465],\n",
       " 'Baseline_GOOG': [nan, 0.0, 0.215257465839386],\n",
       " 'Baseline_QCOM': [nan, 0.0, 0.21873155236244202],\n",
       " 'Baseline_TSLA': [nan, 0.0, 0.20606866478919983],\n",
       " 'linear_AAPL': [1.5238393545150757, 0.42958125472068787, 0.08913545310497284],\n",
       " 'linear_GOOG': [1.3434151411056519, 0.3188811242580414, 0.015764497220516205],\n",
       " 'linear_QCOM': [1.0547120571136475, 0.4968701899051666, 0.11689107865095139],\n",
       " 'linear_TSLA': [1.4702140092849731, 0.49448660016059875, 0.10098537802696228],\n",
       " 'transformer_AAPL': [0.9796975255012512,\n",
       "  0.5290548205375671,\n",
       "  0.19643597304821014],\n",
       " 'transformer_GOOG': [0.9954694509506226,\n",
       "  0.5436605215072632,\n",
       "  0.04179302975535393],\n",
       " 'transformer_QCOM': [0.9204387664794922,\n",
       "  0.605720579624176,\n",
       "  0.08696354180574417],\n",
       " 'transformer_TSLA': [0.9299902319908142,\n",
       "  0.5650826692581177,\n",
       "  0.17820467054843903],\n",
       " 'lstm_AAPL': [1.0053125619888306, 0.5261125564575195, 0.12908129394054413],\n",
       " 'lstm_GOOG': [0.9564542174339294, 0.6063569784164429, 0.0],\n",
       " 'lstm_QCOM': [0.9558749794960022, 0.5987673997879028, 0.0],\n",
       " 'lstm_TSLA': [0.989646852016449, 0.5732532143592834, 0.0]}"
      ]
     },
     "execution_count": 114,
     "metadata": {},
     "output_type": "execute_result"
    }
   ],
   "source": [
    "val_performance"
   ]
  },
  {
   "cell_type": "markdown",
   "metadata": {},
   "source": [
    "### Get Classification Performance"
   ]
  },
  {
   "cell_type": "markdown",
   "metadata": {},
   "source": [
    "Function to get the predictions and labels"
   ]
  },
  {
   "cell_type": "code",
   "execution_count": 115,
   "metadata": {},
   "outputs": [],
   "source": [
    "def get_label_preds(model, data_gen, threshold=0):\n",
    "    ''' Obtains truth labels and predictions for a model/data_gen pair '''\n",
    "    # get predictions\n",
    "    prediction_vectors = model.predict(data_gen)\n",
    "    predictions = tf.argmax(prediction_vectors, axis=-1)\n",
    "\n",
    "    # get labels\n",
    "    # labels = tf.concat([_labels for _, _labels, _ in data_gen], axis=0)\n",
    "    labels = tf.concat([_labels for _, _labels in data_gen], axis=0)\n",
    "    labels = tf.squeeze(labels, axis=-1)\n",
    "\n",
    "    if threshold > 0:\n",
    "        probs = tf.reduce_max(prediction_vectors, axis=-1)\n",
    "        locs = probs > threshold\n",
    "\n",
    "        predictions = predictions[locs]\n",
    "        labels = labels[locs]\n",
    "\n",
    "    return predictions, labels"
   ]
  },
  {
   "cell_type": "code",
   "execution_count": 116,
   "metadata": {},
   "outputs": [
    {
     "name": "stdout",
     "output_type": "stream",
     "text": [
      "2094/2094 [==============================] - 2s 1ms/step\n",
      "400/400 [==============================] - 0s 912us/step\n"
     ]
    }
   ],
   "source": [
    "base_train_preds, base_train_labels = get_label_preds(baseline, base_gen.train)\n",
    "base_valid_preds, base_valid_labels = get_label_preds(baseline, base_gen.valid)"
   ]
  },
  {
   "cell_type": "code",
   "execution_count": 118,
   "metadata": {},
   "outputs": [
    {
     "name": "stdout",
     "output_type": "stream",
     "text": [
      "2172/2172 [==============================] - 3s 1ms/step\n",
      "407/407 [==============================] - 1s 1ms/step\n"
     ]
    }
   ],
   "source": [
    "linear_train_preds, linear_train_labels = get_label_preds(linear, \n",
    "                                                          single_gens['AAPL'].train,\n",
    "                                                          threshold=0.)\n",
    "linear_valid_preds, linear_valid_labels = get_label_preds(linear, \n",
    "                                                          single_gens['AAPL'].valid,\n",
    "                                                          threshold=0.)"
   ]
  },
  {
   "cell_type": "code",
   "execution_count": 119,
   "metadata": {},
   "outputs": [
    {
     "data": {
      "text/plain": [
       "<tf.Tensor: shape=(3, 3), dtype=int32, numpy=\n",
       "array([[ 4817,  2797,  4374],\n",
       "       [ 9458, 21368, 14613],\n",
       "       [ 3955,  2719,  5392]])>"
      ]
     },
     "execution_count": 119,
     "metadata": {},
     "output_type": "execute_result"
    }
   ],
   "source": [
    "tf.math.confusion_matrix(tf.squeeze(linear_train_labels), linear_train_preds)"
   ]
  },
  {
   "cell_type": "code",
   "execution_count": 120,
   "metadata": {},
   "outputs": [
    {
     "data": {
      "text/plain": [
       "<tf.Tensor: shape=(3, 3), dtype=int32, numpy=\n",
       "array([[ 824,  736, 1345],\n",
       "       [1178, 3445, 2599],\n",
       "       [ 433,  745, 1710]])>"
      ]
     },
     "execution_count": 120,
     "metadata": {},
     "output_type": "execute_result"
    }
   ],
   "source": [
    "tf.math.confusion_matrix(tf.squeeze(linear_valid_labels), linear_valid_preds)"
   ]
  },
  {
   "cell_type": "code",
   "execution_count": 121,
   "metadata": {},
   "outputs": [
    {
     "name": "stdout",
     "output_type": "stream",
     "text": [
      "2171/2171 [==============================] - 9s 4ms/step\n",
      "406/406 [==============================] - 2s 4ms/step\n"
     ]
    }
   ],
   "source": [
    "xformer_train_preds, xformer_train_labels = get_label_preds(transformer_model, \n",
    "                                                            window_gens['AAPL'].train,\n",
    "                                                            threshold=0.)\n",
    "xformer_valid_preds, xformer_valid_labels = get_label_preds(transformer_model, \n",
    "                                                            window_gens['AAPL'].valid,\n",
    "                                                            threshold=0.)"
   ]
  },
  {
   "cell_type": "code",
   "execution_count": null,
   "metadata": {},
   "outputs": [],
   "source": [
    "tf.math.confusion_matrix(tf.squeeze(xformer_train_labels), xformer_train_preds)"
   ]
  },
  {
   "cell_type": "code",
   "execution_count": null,
   "metadata": {},
   "outputs": [],
   "source": [
    "tf.math.confusion_matrix(tf.squeeze(xformer_valid_labels), xformer_valid_preds)"
   ]
  },
  {
   "cell_type": "code",
   "execution_count": null,
   "metadata": {},
   "outputs": [],
   "source": [
    "lstm_train_preds, lstm_train_labels = get_label_preds(lstm_model, \n",
    "                                                      window_gens['AAPL'].train,\n",
    "                                                      threshold=0.)\n",
    "lstm_valid_preds, lstm_valid_labels = get_label_preds(lstm_model, \n",
    "                                                      window_gens['AAPL'].valid,\n",
    "                                                      threshold=0.)"
   ]
  }
 ],
 "metadata": {
  "kernelspec": {
   "display_name": "Python 3.9.12 ('tf')",
   "language": "python",
   "name": "python3"
  },
  "language_info": {
   "codemirror_mode": {
    "name": "ipython",
    "version": 3
   },
   "file_extension": ".py",
   "mimetype": "text/x-python",
   "name": "python",
   "nbconvert_exporter": "python",
   "pygments_lexer": "ipython3",
   "version": "3.9.12"
  },
  "orig_nbformat": 4,
  "vscode": {
   "interpreter": {
    "hash": "2b2da39daaaff30a84159e8452ba91acfc0bbd521fb66c6aa9941f847b87bd81"
   }
  }
 },
 "nbformat": 4,
 "nbformat_minor": 2
}
