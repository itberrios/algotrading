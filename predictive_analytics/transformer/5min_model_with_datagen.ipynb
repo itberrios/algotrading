{
 "cells": [
  {
   "cell_type": "markdown",
   "metadata": {},
   "source": [
    "# **5min stock data**\n",
    "\n",
    "In this notebook we will explore a basic pipeline for 5min interval stock data. We will be working with a portfolio of highly correlated stocks: AAPL, GOOG, QCOM, and TSLA. We will train our models using the Balanced Focal Loss function and compare it to our previous performan using Categorical Cross Entropy Loss. These stocks were highly correlated around Aug - Oct 2022. The stock dataset contains timestamps, prices and trading volume, but does not contin any target variables.\n",
    "- Timestamps &#8594; Interval\n",
    "- Open/Close/High/Low Prices &#8594; Ratio\n",
    "- Trading Volume &#8594; Ratio\n",
    "\n",
    "To use the timestamps we will sinusoidally encode them. We will also add engineered features such as the price difference.\n",
    "\n",
    " We will create the target variable by taking the midpoint of Open/Close prices for M future days and then averaging these values. This target variable is Oridnal and has 3 possible classes: \n",
    "- 0 - downward price movement\n",
    "- 1 - no change\n",
    "- 2 - upward price movement\n",
    "\n",
    "The price movements are derived by a threshold that is defined using the IQR method to detect outliers. Currently we use a limit of 1, and every Q1 outlier is classified as \"0 - downward price movement\", every Q3 outlier is classified as \"2 - upward price movement\", and all inliers are classified as: \"1 - no change\".\n",
    "\n",
    "#### NOTE:\n",
    "This dataset has discontinuities after each trading day (i.e. from final afterhours trade until the first afterhours trade the next day). It is possible that other afterhours activities could have occured to impact the prices during this time period. "
   ]
  },
  {
   "cell_type": "markdown",
   "metadata": {},
   "source": [
    "## Models\n",
    "\n",
    "The main model we will be testing in this notebook is a Transformer Encoder. Typically a Transformer has an Encoder and Decoder portion, where the Encoder learns information about which parts of the input sequence are relevant to eachother. The Decoder does the opposite, it takes the continuouss representation learned by the Encoder and learns to generate an ordered output sequence. For the Time Series Classifiecation problem it is unecessary to include the Decoder, we can simply use the Encoder to learn relative correlations of the inputs and add a Vanilla Feed Forward Neural Network to the end of the Encoder Blocks to obtain the desired classification. [Source](https://userweb.cs.txstate.edu/~amk181/AIME_LSTM_Attention_vs_Transformer.pdf).\n",
    "\n",
    "The Transformer Encoder also relies on positional encoding in order to implement this, we will first project the input vectors into high dimensional space as done [here](https://arxiv.org/pdf/2010.02803.pdf), and then add the positional Encoding as done in the [original paper](https://arxiv.org/pdf/1706.03762.pdf).\n",
    "\n",
    "\n",
    "In order to compare how effective the Transformer is in modeling seuqential data, we will compare its results to:\n",
    "- Baseline Model (uses previous predictions)\n",
    "- Linear Model\n",
    "- Neural Network\n",
    "- LSTM"
   ]
  },
  {
   "cell_type": "markdown",
   "metadata": {},
   "source": [
    "### Library Import"
   ]
  },
  {
   "cell_type": "code",
   "execution_count": 1,
   "metadata": {},
   "outputs": [],
   "source": [
    "import os\n",
    "import sys\n",
    "import numpy as np\n",
    "import pandas as pd\n",
    "import pandas_ta as ta\n",
    "import tensorflow as tf\n",
    "import keras\n",
    "from tensorflow.keras import layers\n",
    "import matplotlib.pyplot as plt\n",
    "\n",
    "plt.rcParams[\"figure.figsize\"] = (20, 10)\n",
    "%matplotlib inline"
   ]
  },
  {
   "cell_type": "markdown",
   "metadata": {},
   "source": [
    "### Local Imports\n",
    "\n",
    "Get base dir for imports, this allows us to look in the main algotrading folder to import local modules"
   ]
  },
  {
   "cell_type": "code",
   "execution_count": 2,
   "metadata": {},
   "outputs": [],
   "source": [
    "BASE_DIR = os.path.abspath(os.path.join(os.path.abspath('..'), '..'))\n",
    "sys.path.append(BASE_DIR)"
   ]
  },
  {
   "cell_type": "code",
   "execution_count": 3,
   "metadata": {},
   "outputs": [],
   "source": [
    "from data_utils import *\n",
    "from data_pipeline import *\n",
    "from window_generator import WindowGenerator\n",
    "from models.basic_transformer import TransformerModel"
   ]
  },
  {
   "cell_type": "markdown",
   "metadata": {},
   "source": [
    "### Ensure that GPU is available"
   ]
  },
  {
   "cell_type": "code",
   "execution_count": 4,
   "metadata": {},
   "outputs": [
    {
     "data": {
      "text/plain": [
       "[PhysicalDevice(name='/physical_device:GPU:0', device_type='GPU')]"
      ]
     },
     "execution_count": 4,
     "metadata": {},
     "output_type": "execute_result"
    }
   ],
   "source": [
    "tf.config.list_physical_devices('GPU')"
   ]
  },
  {
   "cell_type": "markdown",
   "metadata": {},
   "source": [
    "### Get the Data\n",
    "Place all stocks in a Dictionary of DataFrames"
   ]
  },
  {
   "cell_type": "code",
   "execution_count": 5,
   "metadata": {},
   "outputs": [
    {
     "name": "stderr",
     "output_type": "stream",
     "text": [
      "c:\\Users\\itber\\Documents\\learning\\school\\ESE527\\project\\algotrading\\data_pipeline.py:110: SettingWithCopyWarning: \n",
      "A value is trying to be set on a copy of a slice from a DataFrame\n",
      "\n",
      "See the caveats in the documentation: https://pandas.pydata.org/pandas-docs/stable/user_guide/indexing.html#returning-a-view-versus-a-copy\n",
      "  df['price_change'][df['price_trend'] < lower] = 0 # downward price movement\n",
      "c:\\Users\\itber\\Documents\\learning\\school\\ESE527\\project\\algotrading\\data_pipeline.py:111: SettingWithCopyWarning: \n",
      "A value is trying to be set on a copy of a slice from a DataFrame\n",
      "\n",
      "See the caveats in the documentation: https://pandas.pydata.org/pandas-docs/stable/user_guide/indexing.html#returning-a-view-versus-a-copy\n",
      "  df['price_change'][df['price_trend'] > upper] = 2 # upward prive movement\n",
      "c:\\Users\\itber\\Documents\\learning\\school\\ESE527\\project\\algotrading\\data_pipeline.py:110: SettingWithCopyWarning: \n",
      "A value is trying to be set on a copy of a slice from a DataFrame\n",
      "\n",
      "See the caveats in the documentation: https://pandas.pydata.org/pandas-docs/stable/user_guide/indexing.html#returning-a-view-versus-a-copy\n",
      "  df['price_change'][df['price_trend'] < lower] = 0 # downward price movement\n",
      "c:\\Users\\itber\\Documents\\learning\\school\\ESE527\\project\\algotrading\\data_pipeline.py:111: SettingWithCopyWarning: \n",
      "A value is trying to be set on a copy of a slice from a DataFrame\n",
      "\n",
      "See the caveats in the documentation: https://pandas.pydata.org/pandas-docs/stable/user_guide/indexing.html#returning-a-view-versus-a-copy\n",
      "  df['price_change'][df['price_trend'] > upper] = 2 # upward prive movement\n",
      "c:\\Users\\itber\\Documents\\learning\\school\\ESE527\\project\\algotrading\\data_pipeline.py:110: SettingWithCopyWarning: \n",
      "A value is trying to be set on a copy of a slice from a DataFrame\n",
      "\n",
      "See the caveats in the documentation: https://pandas.pydata.org/pandas-docs/stable/user_guide/indexing.html#returning-a-view-versus-a-copy\n",
      "  df['price_change'][df['price_trend'] < lower] = 0 # downward price movement\n",
      "c:\\Users\\itber\\Documents\\learning\\school\\ESE527\\project\\algotrading\\data_pipeline.py:111: SettingWithCopyWarning: \n",
      "A value is trying to be set on a copy of a slice from a DataFrame\n",
      "\n",
      "See the caveats in the documentation: https://pandas.pydata.org/pandas-docs/stable/user_guide/indexing.html#returning-a-view-versus-a-copy\n",
      "  df['price_change'][df['price_trend'] > upper] = 2 # upward prive movement\n",
      "c:\\Users\\itber\\Documents\\learning\\school\\ESE527\\project\\algotrading\\data_pipeline.py:110: SettingWithCopyWarning: \n",
      "A value is trying to be set on a copy of a slice from a DataFrame\n",
      "\n",
      "See the caveats in the documentation: https://pandas.pydata.org/pandas-docs/stable/user_guide/indexing.html#returning-a-view-versus-a-copy\n",
      "  df['price_change'][df['price_trend'] < lower] = 0 # downward price movement\n",
      "c:\\Users\\itber\\Documents\\learning\\school\\ESE527\\project\\algotrading\\data_pipeline.py:111: SettingWithCopyWarning: \n",
      "A value is trying to be set on a copy of a slice from a DataFrame\n",
      "\n",
      "See the caveats in the documentation: https://pandas.pydata.org/pandas-docs/stable/user_guide/indexing.html#returning-a-view-versus-a-copy\n",
      "  df['price_change'][df['price_trend'] > upper] = 2 # upward prive movement\n"
     ]
    }
   ],
   "source": [
    "from glob import glob\n",
    "import re\n",
    "\n",
    "# get all data .csvs\n",
    "data_paths = glob(os.path.join(BASE_DIR, r'data\\raw\\5min\\*.csv'))\n",
    "\n",
    "# get stock DataFrames dict\n",
    "stock_dfs = get_stocks(data_paths, tgt_window=1, iqr_lim=0.1)"
   ]
  },
  {
   "cell_type": "markdown",
   "metadata": {},
   "source": [
    "### Plot the of number of each class for each stock"
   ]
  },
  {
   "cell_type": "code",
   "execution_count": 6,
   "metadata": {},
   "outputs": [
    {
     "data": {
      "image/png": "[encoded data removed]",
      "text/plain": [
       "<Figure size 720x576 with 4 Axes>"
      ]
     },
     "metadata": {
      "needs_background": "light"
     },
     "output_type": "display_data"
    }
   ],
   "source": [
    "fig = plt.figure(figsize=(10, 8))\n",
    "\n",
    "for i, name in enumerate(stock_dfs.keys()):\n",
    "    # get plotting axes\n",
    "    ax = plt.subplot(2, 2, i + 1)\n",
    "\n",
    "    # get stock DataFrame\n",
    "    df = stock_dfs[name]\n",
    "\n",
    "    # compute class counts\n",
    "    down = np.sum(df.price_change == 0)\n",
    "    none = np.sum(df.price_change == 1)\n",
    "    up = np.sum(df.price_change == 2)\n",
    "\n",
    "    ax.barh([2.25], [0]) # expand to fit the legend\n",
    "    ax.barh([0], [down], height=0.4, edgecolor='k', label='num_downward')\n",
    "    ax.barh([1], [none], height=0.4, edgecolor='k', label='num_no_change')\n",
    "    ax.barh([2], [up], height=0.4, edgecolor='k', label='num_upward')\n",
    "    ax.set_title(name)\n",
    "    ax.set_xlabel('Number of Samples')\n",
    "    ax.set_ylabel('Price Movement Class')\n",
    "    ax.legend();\n",
    "\n",
    "# set main title\n",
    "fig.suptitle('Number of training samples in each class', size=24)\n",
    "\n",
    "# add a bit of space\n",
    "fig.subplots_adjust(hspace=0.35);\n"
   ]
  },
  {
   "cell_type": "markdown",
   "metadata": {},
   "source": [
    "### Display a table of values for each stock"
   ]
  },
  {
   "cell_type": "code",
   "execution_count": 7,
   "metadata": {},
   "outputs": [
    {
     "data": {
      "text/html": [
       "<div>\n",
       "<style scoped>\n",
       "    .dataframe tbody tr th:only-of-type {\n",
       "        vertical-align: middle;\n",
       "    }\n",
       "\n",
       "    .dataframe tbody tr th {\n",
       "        vertical-align: top;\n",
       "    }\n",
       "\n",
       "    .dataframe thead th {\n",
       "        text-align: right;\n",
       "    }\n",
       "</style>\n",
       "<table border=\"1\" class=\"dataframe\">\n",
       "  <thead>\n",
       "    <tr style=\"text-align: right;\">\n",
       "      <th></th>\n",
       "      <th>Open</th>\n",
       "      <th>High</th>\n",
       "      <th>Low</th>\n",
       "      <th>Close</th>\n",
       "      <th>Volume</th>\n",
       "      <th>price_trend</th>\n",
       "      <th>open_diff</th>\n",
       "      <th>close_diff</th>\n",
       "      <th>high_diff</th>\n",
       "      <th>low_diff</th>\n",
       "      <th>log_vol_diff</th>\n",
       "      <th>price_change</th>\n",
       "    </tr>\n",
       "  </thead>\n",
       "  <tbody>\n",
       "    <tr>\n",
       "      <th>2020-11-09 09:50:00</th>\n",
       "      <td>89.16850</td>\n",
       "      <td>89.6785</td>\n",
       "      <td>89.1030</td>\n",
       "      <td>89.295500</td>\n",
       "      <td>839000.0</td>\n",
       "      <td>-0.062222</td>\n",
       "      <td>-0.43700</td>\n",
       "      <td>0.184000</td>\n",
       "      <td>0.069685</td>\n",
       "      <td>0.48295</td>\n",
       "      <td>-0.086866</td>\n",
       "      <td>1</td>\n",
       "    </tr>\n",
       "    <tr>\n",
       "      <th>2020-11-09 09:55:00</th>\n",
       "      <td>89.27625</td>\n",
       "      <td>89.3630</td>\n",
       "      <td>88.8285</td>\n",
       "      <td>89.063305</td>\n",
       "      <td>756060.0</td>\n",
       "      <td>0.038222</td>\n",
       "      <td>0.10775</td>\n",
       "      <td>-0.232195</td>\n",
       "      <td>-0.315500</td>\n",
       "      <td>-0.27450</td>\n",
       "      <td>-0.104090</td>\n",
       "      <td>1</td>\n",
       "    </tr>\n",
       "    <tr>\n",
       "      <th>2020-11-09 10:00:00</th>\n",
       "      <td>89.00550</td>\n",
       "      <td>89.5000</td>\n",
       "      <td>88.9010</td>\n",
       "      <td>89.410500</td>\n",
       "      <td>413260.0</td>\n",
       "      <td>0.599000</td>\n",
       "      <td>-0.27075</td>\n",
       "      <td>0.347195</td>\n",
       "      <td>0.137000</td>\n",
       "      <td>0.07250</td>\n",
       "      <td>-0.604044</td>\n",
       "      <td>2</td>\n",
       "    </tr>\n",
       "    <tr>\n",
       "      <th>2020-11-09 10:05:00</th>\n",
       "      <td>89.52500</td>\n",
       "      <td>90.0895</td>\n",
       "      <td>89.4900</td>\n",
       "      <td>90.089000</td>\n",
       "      <td>1021300.0</td>\n",
       "      <td>0.188250</td>\n",
       "      <td>0.51950</td>\n",
       "      <td>0.678500</td>\n",
       "      <td>0.589500</td>\n",
       "      <td>0.58900</td>\n",
       "      <td>0.904755</td>\n",
       "      <td>2</td>\n",
       "    </tr>\n",
       "    <tr>\n",
       "      <th>2020-11-09 10:10:00</th>\n",
       "      <td>90.09050</td>\n",
       "      <td>90.1335</td>\n",
       "      <td>89.7045</td>\n",
       "      <td>89.900000</td>\n",
       "      <td>629600.0</td>\n",
       "      <td>-0.067500</td>\n",
       "      <td>0.56550</td>\n",
       "      <td>-0.189000</td>\n",
       "      <td>0.044000</td>\n",
       "      <td>0.21450</td>\n",
       "      <td>-0.483747</td>\n",
       "      <td>1</td>\n",
       "    </tr>\n",
       "    <tr>\n",
       "      <th>...</th>\n",
       "      <td>...</td>\n",
       "      <td>...</td>\n",
       "      <td>...</td>\n",
       "      <td>...</td>\n",
       "      <td>...</td>\n",
       "      <td>...</td>\n",
       "      <td>...</td>\n",
       "      <td>...</td>\n",
       "      <td>...</td>\n",
       "      <td>...</td>\n",
       "      <td>...</td>\n",
       "      <td>...</td>\n",
       "    </tr>\n",
       "    <tr>\n",
       "      <th>2022-10-28 15:35:00</th>\n",
       "      <td>96.84500</td>\n",
       "      <td>96.8600</td>\n",
       "      <td>96.7350</td>\n",
       "      <td>96.850000</td>\n",
       "      <td>411646.0</td>\n",
       "      <td>-0.030000</td>\n",
       "      <td>0.10500</td>\n",
       "      <td>0.020000</td>\n",
       "      <td>0.012200</td>\n",
       "      <td>0.08500</td>\n",
       "      <td>0.105648</td>\n",
       "      <td>1</td>\n",
       "    </tr>\n",
       "    <tr>\n",
       "      <th>2022-10-28 15:40:00</th>\n",
       "      <td>96.85500</td>\n",
       "      <td>96.8556</td>\n",
       "      <td>96.6400</td>\n",
       "      <td>96.780000</td>\n",
       "      <td>399264.0</td>\n",
       "      <td>-0.100000</td>\n",
       "      <td>0.01000</td>\n",
       "      <td>-0.070000</td>\n",
       "      <td>-0.004400</td>\n",
       "      <td>-0.09500</td>\n",
       "      <td>-0.030541</td>\n",
       "      <td>0</td>\n",
       "    </tr>\n",
       "    <tr>\n",
       "      <th>2022-10-28 15:45:00</th>\n",
       "      <td>96.77000</td>\n",
       "      <td>96.7700</td>\n",
       "      <td>96.6400</td>\n",
       "      <td>96.665000</td>\n",
       "      <td>348569.0</td>\n",
       "      <td>-0.070500</td>\n",
       "      <td>-0.08500</td>\n",
       "      <td>-0.115000</td>\n",
       "      <td>-0.085600</td>\n",
       "      <td>0.00000</td>\n",
       "      <td>-0.135787</td>\n",
       "      <td>1</td>\n",
       "    </tr>\n",
       "    <tr>\n",
       "      <th>2022-10-28 15:50:00</th>\n",
       "      <td>96.66900</td>\n",
       "      <td>96.7400</td>\n",
       "      <td>96.6150</td>\n",
       "      <td>96.625000</td>\n",
       "      <td>414491.0</td>\n",
       "      <td>0.033000</td>\n",
       "      <td>-0.10100</td>\n",
       "      <td>-0.040000</td>\n",
       "      <td>-0.030000</td>\n",
       "      <td>-0.02500</td>\n",
       "      <td>0.173215</td>\n",
       "      <td>1</td>\n",
       "    </tr>\n",
       "    <tr>\n",
       "      <th>2022-10-28 15:55:00</th>\n",
       "      <td>96.64000</td>\n",
       "      <td>96.8300</td>\n",
       "      <td>96.5300</td>\n",
       "      <td>96.720000</td>\n",
       "      <td>698302.0</td>\n",
       "      <td>-0.045000</td>\n",
       "      <td>-0.02900</td>\n",
       "      <td>0.095000</td>\n",
       "      <td>0.090000</td>\n",
       "      <td>-0.08500</td>\n",
       "      <td>0.521600</td>\n",
       "      <td>1</td>\n",
       "    </tr>\n",
       "  </tbody>\n",
       "</table>\n",
       "<p>37660 rows × 12 columns</p>\n",
       "</div>"
      ],
      "text/plain": [
       "                         Open     High      Low      Close     Volume  \\\n",
       "2020-11-09 09:50:00  89.16850  89.6785  89.1030  89.295500   839000.0   \n",
       "2020-11-09 09:55:00  89.27625  89.3630  88.8285  89.063305   756060.0   \n",
       "2020-11-09 10:00:00  89.00550  89.5000  88.9010  89.410500   413260.0   \n",
       "2020-11-09 10:05:00  89.52500  90.0895  89.4900  90.089000  1021300.0   \n",
       "2020-11-09 10:10:00  90.09050  90.1335  89.7045  89.900000   629600.0   \n",
       "...                       ...      ...      ...        ...        ...   \n",
       "2022-10-28 15:35:00  96.84500  96.8600  96.7350  96.850000   411646.0   \n",
       "2022-10-28 15:40:00  96.85500  96.8556  96.6400  96.780000   399264.0   \n",
       "2022-10-28 15:45:00  96.77000  96.7700  96.6400  96.665000   348569.0   \n",
       "2022-10-28 15:50:00  96.66900  96.7400  96.6150  96.625000   414491.0   \n",
       "2022-10-28 15:55:00  96.64000  96.8300  96.5300  96.720000   698302.0   \n",
       "\n",
       "                     price_trend  open_diff  close_diff  high_diff  low_diff  \\\n",
       "2020-11-09 09:50:00    -0.062222   -0.43700    0.184000   0.069685   0.48295   \n",
       "2020-11-09 09:55:00     0.038222    0.10775   -0.232195  -0.315500  -0.27450   \n",
       "2020-11-09 10:00:00     0.599000   -0.27075    0.347195   0.137000   0.07250   \n",
       "2020-11-09 10:05:00     0.188250    0.51950    0.678500   0.589500   0.58900   \n",
       "2020-11-09 10:10:00    -0.067500    0.56550   -0.189000   0.044000   0.21450   \n",
       "...                          ...        ...         ...        ...       ...   \n",
       "2022-10-28 15:35:00    -0.030000    0.10500    0.020000   0.012200   0.08500   \n",
       "2022-10-28 15:40:00    -0.100000    0.01000   -0.070000  -0.004400  -0.09500   \n",
       "2022-10-28 15:45:00    -0.070500   -0.08500   -0.115000  -0.085600   0.00000   \n",
       "2022-10-28 15:50:00     0.033000   -0.10100   -0.040000  -0.030000  -0.02500   \n",
       "2022-10-28 15:55:00    -0.045000   -0.02900    0.095000   0.090000  -0.08500   \n",
       "\n",
       "                     log_vol_diff  price_change  \n",
       "2020-11-09 09:50:00     -0.086866             1  \n",
       "2020-11-09 09:55:00     -0.104090             1  \n",
       "2020-11-09 10:00:00     -0.604044             2  \n",
       "2020-11-09 10:05:00      0.904755             2  \n",
       "2020-11-09 10:10:00     -0.483747             1  \n",
       "...                           ...           ...  \n",
       "2022-10-28 15:35:00      0.105648             1  \n",
       "2022-10-28 15:40:00     -0.030541             0  \n",
       "2022-10-28 15:45:00     -0.135787             1  \n",
       "2022-10-28 15:50:00      0.173215             1  \n",
       "2022-10-28 15:55:00      0.521600             1  \n",
       "\n",
       "[37660 rows x 12 columns]"
      ]
     },
     "execution_count": 7,
     "metadata": {},
     "output_type": "execute_result"
    }
   ],
   "source": [
    "stock_dfs['GOOG']"
   ]
  },
  {
   "cell_type": "code",
   "execution_count": 8,
   "metadata": {},
   "outputs": [
    {
     "data": {
      "text/html": [
       "<div>\n",
       "<style scoped>\n",
       "    .dataframe tbody tr th:only-of-type {\n",
       "        vertical-align: middle;\n",
       "    }\n",
       "\n",
       "    .dataframe tbody tr th {\n",
       "        vertical-align: top;\n",
       "    }\n",
       "\n",
       "    .dataframe thead th {\n",
       "        text-align: right;\n",
       "    }\n",
       "</style>\n",
       "<table border=\"1\" class=\"dataframe\">\n",
       "  <thead>\n",
       "    <tr style=\"text-align: right;\">\n",
       "      <th></th>\n",
       "      <th>Open</th>\n",
       "      <th>High</th>\n",
       "      <th>Low</th>\n",
       "      <th>Close</th>\n",
       "    </tr>\n",
       "  </thead>\n",
       "  <tbody>\n",
       "    <tr>\n",
       "      <th>count</th>\n",
       "      <td>37660.000000</td>\n",
       "      <td>37660.000000</td>\n",
       "      <td>37660.000000</td>\n",
       "      <td>37660.000000</td>\n",
       "    </tr>\n",
       "    <tr>\n",
       "      <th>mean</th>\n",
       "      <td>120.391790</td>\n",
       "      <td>120.508458</td>\n",
       "      <td>120.269744</td>\n",
       "      <td>120.389259</td>\n",
       "    </tr>\n",
       "    <tr>\n",
       "      <th>std</th>\n",
       "      <td>18.364536</td>\n",
       "      <td>18.364960</td>\n",
       "      <td>18.362658</td>\n",
       "      <td>18.362838</td>\n",
       "    </tr>\n",
       "    <tr>\n",
       "      <th>min</th>\n",
       "      <td>85.095500</td>\n",
       "      <td>85.152000</td>\n",
       "      <td>84.950000</td>\n",
       "      <td>85.061250</td>\n",
       "    </tr>\n",
       "    <tr>\n",
       "      <th>25%</th>\n",
       "      <td>105.080000</td>\n",
       "      <td>105.213375</td>\n",
       "      <td>104.949978</td>\n",
       "      <td>105.077375</td>\n",
       "    </tr>\n",
       "    <tr>\n",
       "      <th>50%</th>\n",
       "      <td>119.137748</td>\n",
       "      <td>119.259125</td>\n",
       "      <td>118.992200</td>\n",
       "      <td>119.139950</td>\n",
       "    </tr>\n",
       "    <tr>\n",
       "      <th>75%</th>\n",
       "      <td>137.208535</td>\n",
       "      <td>137.345375</td>\n",
       "      <td>137.090914</td>\n",
       "      <td>137.200875</td>\n",
       "    </tr>\n",
       "    <tr>\n",
       "      <th>max</th>\n",
       "      <td>151.686500</td>\n",
       "      <td>152.029500</td>\n",
       "      <td>151.492500</td>\n",
       "      <td>151.694500</td>\n",
       "    </tr>\n",
       "  </tbody>\n",
       "</table>\n",
       "</div>"
      ],
      "text/plain": [
       "               Open          High           Low         Close\n",
       "count  37660.000000  37660.000000  37660.000000  37660.000000\n",
       "mean     120.391790    120.508458    120.269744    120.389259\n",
       "std       18.364536     18.364960     18.362658     18.362838\n",
       "min       85.095500     85.152000     84.950000     85.061250\n",
       "25%      105.080000    105.213375    104.949978    105.077375\n",
       "50%      119.137748    119.259125    118.992200    119.139950\n",
       "75%      137.208535    137.345375    137.090914    137.200875\n",
       "max      151.686500    152.029500    151.492500    151.694500"
      ]
     },
     "execution_count": 8,
     "metadata": {},
     "output_type": "execute_result"
    }
   ],
   "source": [
    "stock_dfs['GOOG'].iloc[:, :4].describe()"
   ]
  },
  {
   "cell_type": "markdown",
   "metadata": {},
   "source": [
    "### Plot stocks prices"
   ]
  },
  {
   "cell_type": "code",
   "execution_count": 9,
   "metadata": {},
   "outputs": [
    {
     "data": {
      "image/png": "[encoded data removed]",
      "text/plain": [
       "<Figure size 576x576 with 4 Axes>"
      ]
     },
     "metadata": {
      "needs_background": "light"
     },
     "output_type": "display_data"
    }
   ],
   "source": [
    "fig, ax = plt.subplots(2, 2, figsize=(8, 8))\n",
    "\n",
    "stock_dfs['AAPL'].iloc[:, :4].plot(ax=ax[0, 0])\n",
    "stock_dfs['GOOG'].iloc[:, :4].plot(ax=ax[0, 1])\n",
    "stock_dfs['QCOM'].iloc[:, :4].plot(ax=ax[1, 0])\n",
    "stock_dfs['TSLA'].iloc[:, :4].plot(ax=ax[1, 1])\n",
    "\n",
    "\n",
    "# set main title\n",
    "# fig.suptitle('5min Stock Prices', size=18)\n",
    "\n",
    "# set titles and axis labels\n",
    "ax[0, 0].set_title('AAPL', size=15)\n",
    "ax[0, 1].set_title('GOOG', size=15)\n",
    "ax[1, 0].set_title('QCOM', size=15)\n",
    "ax[1, 1].set_title('TSLA', size=15)\n",
    "\n",
    "# add a bit of space\n",
    "fig.subplots_adjust(hspace=0.5);\n",
    "    "
   ]
  },
  {
   "cell_type": "markdown",
   "metadata": {},
   "source": [
    "### Get train, valid, test splits for each stock"
   ]
  },
  {
   "cell_type": "code",
   "execution_count": 10,
   "metadata": {},
   "outputs": [],
   "source": [
    "split_dfs = get_split_dfs(stock_dfs, train_loc='2022-09-01', \n",
    "                          valid_loc_1='2022-09-02', valid_loc_2='2022-10-29', \n",
    "                          test_loc='2022-09-10')"
   ]
  },
  {
   "cell_type": "markdown",
   "metadata": {},
   "source": [
    "### Get Data Generators\n",
    "- One for baseline model\n",
    "- One for simple non-sequential models (this will use window normalization)\n",
    "- One for sequential models (This will use window normalization)"
   ]
  },
  {
   "cell_type": "markdown",
   "metadata": {},
   "source": [
    "First we need to make a Data Generator that that can account for the time spans that we are interested in. We might be able to use specific timestamps to define the windows, i.e. 09:30-13:30\n",
    "\n",
    "We should strive for a general method of doing this"
   ]
  },
  {
   "cell_type": "markdown",
   "metadata": {},
   "source": [
    "### Get Data Generators\n",
    "We will add data generators for each stock to dictionaries"
   ]
  },
  {
   "cell_type": "code",
   "execution_count": 11,
   "metadata": {},
   "outputs": [],
   "source": [
    "base_gens = {}\n",
    "single_gens = {}\n",
    "window_gens = {}\n",
    "    \n",
    "for name in stock_dfs.keys():\n",
    "    base_gen = WindowGenerator(\n",
    "                input_width=1, label_width=1, shift=0,\n",
    "                sample_weights=False,\n",
    "                dfs=split_dfs[name],\n",
    "                batch_size=32, \n",
    "                label_columns=['price_change'])\n",
    "\n",
    "    single_gen = WindowGenerator(\n",
    "                input_width=1, label_width=1, shift=0, \n",
    "                sample_weights=False,\n",
    "                window_norm=False,\n",
    "                dfs=split_dfs[name],\n",
    "                remove_columns=['price_change', 'price_trend', 'dayofweek'],\n",
    "                batch_size=32, \n",
    "                remove_nonsequential=False,\n",
    "                label_columns=['price_change'])\n",
    "\n",
    "    window_normed_gen = WindowGenerator(\n",
    "                input_width=32, label_width=1, shift=0, \n",
    "                sample_weights=False,\n",
    "                window_norm=True,\n",
    "                dfs=split_dfs[name],\n",
    "                remove_columns=['price_change', 'price_trend', 'dayofweek'],\n",
    "                batch_size=32, \n",
    "                remove_nonsequential=False, # keep only simultaneous batch windows\n",
    "                label_columns=['price_change'])\n",
    "\n",
    "    # add to data generators\n",
    "    base_gens.update({name : base_gen})\n",
    "    single_gens.update({name : single_gen})\n",
    "    window_gens.update({name : window_normed_gen})\n",
    "        "
   ]
  },
  {
   "cell_type": "code",
   "execution_count": 12,
   "metadata": {},
   "outputs": [
    {
     "name": "stdout",
     "output_type": "stream",
     "text": [
      "Inputs shape (batch, time, features): (32, 32, 10)\n",
      "Labels shape (batch, time, features): (32, 1, 1)\n",
      "Inputs shape (batch, time, features): (32, 32, 10)\n",
      "Labels shape (batch, time, features): (32, 1, 1)\n",
      "Inputs shape (batch, time, features): (32, 32, 10)\n",
      "Labels shape (batch, time, features): (32, 1, 1)\n",
      "Inputs shape (batch, time, features): (32, 32, 10)\n",
      "Labels shape (batch, time, features): (32, 1, 1)\n",
      "Inputs shape (batch, time, features): (32, 32, 10)\n",
      "Labels shape (batch, time, features): (32, 1, 1)\n"
     ]
    }
   ],
   "source": [
    "for inputs, labels in window_gens['AAPL'].train.take(5):\n",
    "    print(f'Inputs shape (batch, time, features): {inputs.shape}')\n",
    "    print(f'Labels shape (batch, time, features): {labels.shape}')"
   ]
  },
  {
   "cell_type": "markdown",
   "metadata": {},
   "source": [
    "### Start Training Models"
   ]
  },
  {
   "cell_type": "markdown",
   "metadata": {},
   "source": [
    "In order to use Mathews Correlation Coefficient with predicted class probabilities, we will override thhe update_state function"
   ]
  },
  {
   "cell_type": "code",
   "execution_count": 13,
   "metadata": {},
   "outputs": [],
   "source": [
    "class Baseline(tf.keras.Model):\n",
    "    def __init__(self, label_index=None):\n",
    "        super().__init__()\n",
    "        self.label_index = label_index\n",
    "\n",
    "    def call(self, inputs):\n",
    "        if self.label_index is None:\n",
    "            return inputs\n",
    "        result = inputs[:, :, self.label_index]\n",
    "        return result[:, :, tf.newaxis]"
   ]
  },
  {
   "cell_type": "code",
   "execution_count": 13,
   "metadata": {},
   "outputs": [],
   "source": [
    "train_performance = {}\n",
    "val_performance = {}"
   ]
  },
  {
   "cell_type": "code",
   "execution_count": 15,
   "metadata": {},
   "outputs": [
    {
     "name": "stdout",
     "output_type": "stream",
     "text": [
      "1083/1083 [==============================] - 5s 4ms/step - loss: nan - mcc_metric: 0.0000e+00 - accuracy: 0.2090\n",
      "95/95 [==============================] - 1s 5ms/step - loss: nan - mcc_metric: 0.0000e+00 - accuracy: 0.2708\n",
      "1082/1082 [==============================] - 7s 6ms/step - loss: nan - mcc_metric: 0.0000e+00 - accuracy: 0.2137\n",
      "95/95 [==============================] - 1s 6ms/step - loss: nan - mcc_metric: 0.0000e+00 - accuracy: 0.2228\n",
      "1083/1083 [==============================] - 7s 6ms/step - loss: nan - mcc_metric: 0.0000e+00 - accuracy: 0.2148\n",
      "95/95 [==============================] - 1s 6ms/step - loss: nan - mcc_metric: 0.0000e+00 - accuracy: 0.2353\n",
      "1083/1083 [==============================] - 7s 6ms/step - loss: nan - mcc_metric: 0.0000e+00 - accuracy: 0.2154\n",
      "95/95 [==============================] - 1s 6ms/step - loss: nan - mcc_metric: 0.0000e+00 - accuracy: 0.2152\n"
     ]
    }
   ],
   "source": [
    "for name in base_gens.keys():\n",
    "    baseline = Baseline(label_index=base_gen.column_indices['price_change'])\n",
    "\n",
    "    baseline.compile(loss=tf.keras.losses.SparseCategoricalCrossentropy(),\n",
    "                    metrics=[mcc_metric, 'accuracy'],\n",
    "                    # weighted_metrics=['accuracy'],\n",
    "                    )\n",
    "\n",
    "    train_performance[f'Baseline_{name}'] = baseline.evaluate(base_gens[name].train)\n",
    "    val_performance[f'Baseline_{name}'] = baseline.evaluate(base_gens[name].valid)"
   ]
  },
  {
   "cell_type": "code",
   "execution_count": 16,
   "metadata": {},
   "outputs": [],
   "source": [
    "from sklearn.metrics import accuracy_score, matthews_corrcoef\n",
    "\n",
    "\n",
    "for name in split_dfs.keys():\n",
    "\n",
    "    train_df = split_dfs[name][0]\n",
    "    valid_df = split_dfs[name][1]\n",
    "\n",
    "    base_train_acc = accuracy_score(train_df.price_change.iloc[1:],  # targets\n",
    "                                    train_df.price_change.iloc[:-1]) # baseline predictions\n",
    "\n",
    "    base_train_mcc = matthews_corrcoef(train_df.price_change.iloc[1:],  # targets\n",
    "                                       train_df.price_change.iloc[:-1]) # baseline predictions\n",
    "\n",
    "    base_valid_acc = accuracy_score(valid_df.price_change.iloc[1:],  # targets\n",
    "                                    valid_df.price_change.iloc[:-1]) # baseline predictions\n",
    "\n",
    "    base_valid_mcc = matthews_corrcoef(valid_df.price_change.iloc[1:],  # targets\n",
    "                                       valid_df.price_change.iloc[:-1]) # baseline predictions\n",
    "\n",
    "    train_performance[f'Baseline_{name}'] = [base_train_acc, base_train_mcc]\n",
    "    val_performance[f'Baseline_{name}'] = [base_valid_acc, base_valid_mcc]"
   ]
  },
  {
   "cell_type": "code",
   "execution_count": 17,
   "metadata": {},
   "outputs": [
    {
     "data": {
      "text/plain": [
       "{'Baseline_AAPL': [0.5940794223826715, 0.29260241934687675],\n",
       " 'Baseline_GOOG': [0.5681686886192953, 0.2559731679524698],\n",
       " 'Baseline_QCOM': [0.6002599277978339, 0.3109103535028117],\n",
       " 'Baseline_TSLA': [0.5965054151624549, 0.30773318753137374]}"
      ]
     },
     "execution_count": 17,
     "metadata": {},
     "output_type": "execute_result"
    }
   ],
   "source": [
    "train_performance"
   ]
  },
  {
   "cell_type": "code",
   "execution_count": 27,
   "metadata": {},
   "outputs": [
    {
     "data": {
      "text/plain": [
       "{'Baseline_AAPL': [0.5072416063199473, 0.23846036599322837],\n",
       " 'Baseline_GOOG': [0.543449637919684, 0.2403414411299258],\n",
       " 'Baseline_QCOM': [0.5447662936142199, 0.24880595694632565],\n",
       " 'Baseline_TSLA': [0.5516787360105333, 0.2414679845859339],\n",
       " 'linear_AAPL': [1.3604209423065186, 0.5330700874328613, 0.2193784862756729],\n",
       " 'linear_GOOG': [1.1412543058395386, 0.5199078917503357, 0.16863787174224854],\n",
       " 'linear_QCOM': [1.3587056398391724, 0.3195129930973053, 0.1843000054359436],\n",
       " 'linear_TSLA': [1.4199621677398682, 0.4442250728607178, 0.20675602555274963]}"
      ]
     },
     "execution_count": 27,
     "metadata": {},
     "output_type": "execute_result"
    }
   ],
   "source": [
    "val_performance"
   ]
  },
  {
   "cell_type": "markdown",
   "metadata": {},
   "source": [
    "Add a function to streamline the rest of the training process. First we will compute normalized class weights to help with the class imbalance."
   ]
  },
  {
   "cell_type": "code",
   "execution_count": 14,
   "metadata": {},
   "outputs": [],
   "source": [
    "def get_class_weights(dfs, name):\n",
    "    class_counts = np.bincount(dfs[name][0].price_change)\n",
    "    total = class_counts.sum()\n",
    "    n_classes = len(class_counts)\n",
    "\n",
    "    weights = []\n",
    "    for idx, count in enumerate(class_counts):\n",
    "        # compute balanced weights\n",
    "        weights.append(total / (n_classes*count))\n",
    "\n",
    "        # get inverse frequency class weighting\n",
    "        # weights.append(1/np.power(count, 1))\n",
    "\n",
    "\n",
    "    weights = np.array(weights) \n",
    "    # weights = weights / weights.sum()\n",
    "    return weights"
   ]
  },
  {
   "cell_type": "code",
   "execution_count": 15,
   "metadata": {},
   "outputs": [
    {
     "data": {
      "text/plain": [
       "array([1.59485975, 0.57263346, 1.59574174])"
      ]
     },
     "execution_count": 15,
     "metadata": {},
     "output_type": "execute_result"
    }
   ],
   "source": [
    "get_class_weights(split_dfs, 'AAPL')"
   ]
  },
  {
   "cell_type": "code",
   "execution_count": 16,
   "metadata": {},
   "outputs": [],
   "source": [
    "from focal_loss import SparseCategoricalFocalLoss\n",
    "\n",
    "def compile_and_fit(model, window, lr=1e-4, max_epochs=100, lr_scheduler=None, patience=5, weights=None):\n",
    "    early_stopping = tf.keras.callbacks.EarlyStopping(monitor='val_loss',\n",
    "                                                      patience=patience,\n",
    "                                                      mode='min')\n",
    "\n",
    "    \n",
    "    model.compile(\n",
    "        loss=SparseCategoricalFocalLoss(gamma=2, class_weight=weights),\n",
    "        # loss=tf.keras.losses.SparseCategoricalCrossentropy(),\n",
    "        optimizer=tf.keras.optimizers.Adam(learning_rate=lr),\n",
    "        metrics=[tf.keras.metrics.SparseCategoricalAccuracy(), mcc_metric],\n",
    "        # weighted_metrics=[tf.keras.metrics.SparseCategoricalAccuracy()]\n",
    "        )\n",
    "\n",
    "    if lr_scheduler:\n",
    "        lr_callback = tf.keras.callbacks.LearningRateScheduler(lr_scheduler)\n",
    "        history = model.fit(window.train, epochs=max_epochs,\n",
    "                            validation_data=window.valid,\n",
    "                            callbacks=[lr_callback, early_stopping])\n",
    "    else:\n",
    "        history = model.fit(window.train, epochs=max_epochs,\n",
    "                            validation_data=window.valid,\n",
    "                            callbacks=[early_stopping])\n",
    "    return history"
   ]
  },
  {
   "cell_type": "markdown",
   "metadata": {},
   "source": [
    "### Train the Linear model\n",
    "Entire dataset is standardized here"
   ]
  },
  {
   "cell_type": "code",
   "execution_count": 17,
   "metadata": {},
   "outputs": [
    {
     "name": "stdout",
     "output_type": "stream",
     "text": [
      "Epoch 1/30\n",
      "1083/1083 [==============================] - 9s 7ms/step - loss: 0.7095 - sparse_categorical_accuracy: 0.5634 - mcc_metric: 0.2630 - val_loss: 1.1639 - val_sparse_categorical_accuracy: 0.3995 - val_mcc_metric: 0.1454\n",
      "Epoch 2/30\n",
      "1083/1083 [==============================] - 7s 7ms/step - loss: 0.7495 - sparse_categorical_accuracy: 0.5607 - mcc_metric: 0.2671 - val_loss: 1.5930 - val_sparse_categorical_accuracy: 0.3814 - val_mcc_metric: 0.1471\n",
      "Epoch 3/30\n",
      "1083/1083 [==============================] - 7s 7ms/step - loss: 0.7920 - sparse_categorical_accuracy: 0.5574 - mcc_metric: 0.2610 - val_loss: 0.8969 - val_sparse_categorical_accuracy: 0.4179 - val_mcc_metric: 0.1714\n",
      "Epoch 4/30\n",
      "1083/1083 [==============================] - 7s 7ms/step - loss: 0.7170 - sparse_categorical_accuracy: 0.5611 - mcc_metric: 0.2636 - val_loss: 0.9386 - val_sparse_categorical_accuracy: 0.4146 - val_mcc_metric: 0.1683\n",
      "Epoch 5/30\n",
      "1083/1083 [==============================] - 7s 7ms/step - loss: 0.7113 - sparse_categorical_accuracy: 0.5632 - mcc_metric: 0.2658 - val_loss: 0.8698 - val_sparse_categorical_accuracy: 0.4209 - val_mcc_metric: 0.1828\n",
      "Epoch 6/30\n",
      "1083/1083 [==============================] - 7s 7ms/step - loss: 0.6982 - sparse_categorical_accuracy: 0.5603 - mcc_metric: 0.2622 - val_loss: 1.1847 - val_sparse_categorical_accuracy: 0.4070 - val_mcc_metric: 0.1613\n",
      "Epoch 7/30\n",
      "1083/1083 [==============================] - 7s 7ms/step - loss: 0.7251 - sparse_categorical_accuracy: 0.5608 - mcc_metric: 0.2670 - val_loss: 1.3900 - val_sparse_categorical_accuracy: 0.3972 - val_mcc_metric: 0.1415\n",
      "Epoch 8/30\n",
      "1083/1083 [==============================] - 7s 7ms/step - loss: 0.7505 - sparse_categorical_accuracy: 0.5634 - mcc_metric: 0.2656 - val_loss: 1.7357 - val_sparse_categorical_accuracy: 0.3814 - val_mcc_metric: 0.1475\n",
      "Epoch 9/30\n",
      "1083/1083 [==============================] - 7s 7ms/step - loss: 0.7922 - sparse_categorical_accuracy: 0.5591 - mcc_metric: 0.2646 - val_loss: 0.9767 - val_sparse_categorical_accuracy: 0.4182 - val_mcc_metric: 0.1690\n",
      "Epoch 10/30\n",
      "1083/1083 [==============================] - 7s 7ms/step - loss: 0.6908 - sparse_categorical_accuracy: 0.5634 - mcc_metric: 0.2637 - val_loss: 0.9450 - val_sparse_categorical_accuracy: 0.4133 - val_mcc_metric: 0.1725\n",
      "Epoch 1/30\n",
      "1082/1082 [==============================] - 8s 7ms/step - loss: 0.7972 - sparse_categorical_accuracy: 0.5108 - mcc_metric: 0.2007 - val_loss: 0.7466 - val_sparse_categorical_accuracy: 0.4564 - val_mcc_metric: 0.1511\n",
      "Epoch 2/30\n",
      "1082/1082 [==============================] - 7s 7ms/step - loss: 0.7992 - sparse_categorical_accuracy: 0.5019 - mcc_metric: 0.1919 - val_loss: 0.9030 - val_sparse_categorical_accuracy: 0.5360 - val_mcc_metric: 0.1910\n",
      "Epoch 3/30\n",
      "1082/1082 [==============================] - 7s 7ms/step - loss: 0.8182 - sparse_categorical_accuracy: 0.5043 - mcc_metric: 0.1977 - val_loss: 0.8296 - val_sparse_categorical_accuracy: 0.4821 - val_mcc_metric: 0.1607\n",
      "Epoch 4/30\n",
      "1082/1082 [==============================] - 7s 7ms/step - loss: 0.8645 - sparse_categorical_accuracy: 0.5051 - mcc_metric: 0.1996 - val_loss: 0.7800 - val_sparse_categorical_accuracy: 0.5248 - val_mcc_metric: 0.1755\n",
      "Epoch 5/30\n",
      "1082/1082 [==============================] - 7s 7ms/step - loss: 0.7824 - sparse_categorical_accuracy: 0.5082 - mcc_metric: 0.2054 - val_loss: 0.9171 - val_sparse_categorical_accuracy: 0.5110 - val_mcc_metric: 0.1765\n",
      "Epoch 6/30\n",
      "1082/1082 [==============================] - 7s 7ms/step - loss: 0.8018 - sparse_categorical_accuracy: 0.5040 - mcc_metric: 0.1999 - val_loss: 0.9348 - val_sparse_categorical_accuracy: 0.4311 - val_mcc_metric: 0.1381\n",
      "Epoch 1/30\n",
      "1083/1083 [==============================] - 8s 7ms/step - loss: 0.8037 - sparse_categorical_accuracy: 0.5609 - mcc_metric: 0.2535 - val_loss: 0.8254 - val_sparse_categorical_accuracy: 0.4215 - val_mcc_metric: 0.2656\n",
      "Epoch 2/30\n",
      "1083/1083 [==============================] - 7s 7ms/step - loss: 0.7119 - sparse_categorical_accuracy: 0.5728 - mcc_metric: 0.2610 - val_loss: 0.7543 - val_sparse_categorical_accuracy: 0.3929 - val_mcc_metric: 0.2752\n",
      "Epoch 3/30\n",
      "1083/1083 [==============================] - 7s 7ms/step - loss: 0.7638 - sparse_categorical_accuracy: 0.5744 - mcc_metric: 0.2628 - val_loss: 0.7279 - val_sparse_categorical_accuracy: 0.3982 - val_mcc_metric: 0.2710\n",
      "Epoch 4/30\n",
      "1083/1083 [==============================] - 7s 7ms/step - loss: 0.7440 - sparse_categorical_accuracy: 0.5749 - mcc_metric: 0.2636 - val_loss: 0.7872 - val_sparse_categorical_accuracy: 0.4376 - val_mcc_metric: 0.2728\n",
      "Epoch 5/30\n",
      "1083/1083 [==============================] - 7s 7ms/step - loss: 0.7015 - sparse_categorical_accuracy: 0.5721 - mcc_metric: 0.2606 - val_loss: 0.5827 - val_sparse_categorical_accuracy: 0.3995 - val_mcc_metric: 0.2910\n",
      "Epoch 6/30\n",
      "1083/1083 [==============================] - 7s 7ms/step - loss: 0.7002 - sparse_categorical_accuracy: 0.5747 - mcc_metric: 0.2612 - val_loss: 0.6546 - val_sparse_categorical_accuracy: 0.4399 - val_mcc_metric: 0.2930\n",
      "Epoch 7/30\n",
      "1083/1083 [==============================] - 7s 7ms/step - loss: 0.7095 - sparse_categorical_accuracy: 0.5726 - mcc_metric: 0.2604 - val_loss: 0.6293 - val_sparse_categorical_accuracy: 0.3988 - val_mcc_metric: 0.2802\n",
      "Epoch 8/30\n",
      "1083/1083 [==============================] - 7s 7ms/step - loss: 0.7327 - sparse_categorical_accuracy: 0.5748 - mcc_metric: 0.2644 - val_loss: 0.7774 - val_sparse_categorical_accuracy: 0.3847 - val_mcc_metric: 0.2744\n",
      "Epoch 9/30\n",
      "1083/1083 [==============================] - 7s 7ms/step - loss: 0.7175 - sparse_categorical_accuracy: 0.5758 - mcc_metric: 0.2616 - val_loss: 0.6450 - val_sparse_categorical_accuracy: 0.3909 - val_mcc_metric: 0.2818\n",
      "Epoch 10/30\n",
      "1083/1083 [==============================] - 7s 7ms/step - loss: 0.7244 - sparse_categorical_accuracy: 0.5803 - mcc_metric: 0.2664 - val_loss: 0.5873 - val_sparse_categorical_accuracy: 0.3840 - val_mcc_metric: 0.2805\n",
      "Epoch 1/30\n",
      "1083/1083 [==============================] - 8s 7ms/step - loss: 0.8044 - sparse_categorical_accuracy: 0.5727 - mcc_metric: 0.2540 - val_loss: 1.2385 - val_sparse_categorical_accuracy: 0.3597 - val_mcc_metric: 0.1709\n",
      "Epoch 2/30\n",
      "1083/1083 [==============================] - 7s 7ms/step - loss: 0.8173 - sparse_categorical_accuracy: 0.5680 - mcc_metric: 0.2518 - val_loss: 1.8983 - val_sparse_categorical_accuracy: 0.2915 - val_mcc_metric: 0.1114\n",
      "Epoch 3/30\n",
      "1083/1083 [==============================] - 7s 7ms/step - loss: 0.7115 - sparse_categorical_accuracy: 0.5710 - mcc_metric: 0.2543 - val_loss: 1.8946 - val_sparse_categorical_accuracy: 0.2892 - val_mcc_metric: 0.1105\n",
      "Epoch 4/30\n",
      "1083/1083 [==============================] - 7s 7ms/step - loss: 0.7784 - sparse_categorical_accuracy: 0.5711 - mcc_metric: 0.2560 - val_loss: 1.4687 - val_sparse_categorical_accuracy: 0.4719 - val_mcc_metric: 0.2354\n",
      "Epoch 5/30\n",
      "1083/1083 [==============================] - 7s 7ms/step - loss: 0.8348 - sparse_categorical_accuracy: 0.5754 - mcc_metric: 0.2598 - val_loss: 1.2864 - val_sparse_categorical_accuracy: 0.4564 - val_mcc_metric: 0.2331\n",
      "Epoch 6/30\n",
      "1083/1083 [==============================] - 7s 7ms/step - loss: 0.7954 - sparse_categorical_accuracy: 0.5749 - mcc_metric: 0.2562 - val_loss: 1.7696 - val_sparse_categorical_accuracy: 0.2906 - val_mcc_metric: 0.1161\n"
     ]
    }
   ],
   "source": [
    "linear_models = {}\n",
    "\n",
    "for name in single_gens.keys():\n",
    "\n",
    "    linear = tf.keras.Sequential([\n",
    "        layers.Dense(units=3, activation='softmax')\n",
    "    ])\n",
    "\n",
    "    weights = get_class_weights(split_dfs, name)\n",
    "    history = compile_and_fit(linear, single_gens[name], lr=0.35, max_epochs=30, weights=weights)\n",
    "\n",
    "    linear_models.update({name : linear})\n",
    "    train_performance[f'linear_{name}'] = linear.evaluate(single_gens[name].train, verbose=False)\n",
    "    val_performance[f'linear_{name}'] = linear.evaluate(single_gens[name].valid, verbose=False)"
   ]
  },
  {
   "cell_type": "code",
   "execution_count": 18,
   "metadata": {},
   "outputs": [],
   "source": [
    "def get_label_preds(model, data_gen, threshold=0):\n",
    "    ''' Obtains truth labels and predictions for a model/data_gen pair '''\n",
    "    # get predictions\n",
    "    prediction_vectors = model.predict(data_gen, verbose=False)\n",
    "    predictions = tf.argmax(prediction_vectors, axis=-1)\n",
    "\n",
    "    # get labels\n",
    "    # labels = tf.concat([_labels for _, _labels, _ in data_gen], axis=0)\n",
    "    labels = tf.concat([_labels for _, _labels in data_gen], axis=0)\n",
    "    labels = tf.squeeze(labels, axis=-1)\n",
    "\n",
    "    if threshold > 0:\n",
    "        probs = tf.reduce_max(prediction_vectors, axis=-1)\n",
    "        locs = probs > threshold\n",
    "\n",
    "        predictions = predictions[locs]\n",
    "        labels = labels[locs]\n",
    "\n",
    "    return predictions, labels"
   ]
  },
  {
   "cell_type": "code",
   "execution_count": 19,
   "metadata": {},
   "outputs": [
    {
     "name": "stdout",
     "output_type": "stream",
     "text": [
      "AAPL  train acc:  0.2822  mcc:  0.0877\n",
      "AAPL  valid acc:  0.4133  mcc:  0.1854\n",
      "GOOG  train acc:  0.2839  mcc:  0.0457\n",
      "GOOG  valid acc:  0.4311  mcc:  0.1495\n",
      "QCOM  train acc:  0.3747  mcc:  0.1977\n",
      "QCOM  valid acc:  0.384  mcc:  0.2764\n",
      "TSLA  train acc:  0.2953  mcc:  0.1086\n",
      "TSLA  valid acc:  0.2906  mcc:  0.0912\n"
     ]
    }
   ],
   "source": [
    "from sklearn.metrics import accuracy_score, matthews_corrcoef\n",
    "\n",
    "\n",
    "for name in split_dfs.keys():\n",
    "\n",
    "    train_preds, train_labels = get_label_preds(linear_models[name], \n",
    "                                                single_gens[name].train, \n",
    "                                                threshold=0)\n",
    "    valid_preds, valid_labels = get_label_preds(linear_models[name], \n",
    "                                                single_gens[name].valid, \n",
    "                                                threshold=0)\n",
    "\n",
    "    train_acc = accuracy_score(train_labels, # targets\n",
    "                               train_preds)  # predictions\n",
    "\n",
    "    train_mcc = matthews_corrcoef(train_labels, # targets\n",
    "                                  train_preds)  #  predictions\n",
    "\n",
    "    valid_acc = accuracy_score(valid_labels, # targets\n",
    "                               valid_preds)  # predictions\n",
    "\n",
    "    valid_mcc = matthews_corrcoef(valid_labels, # targets\n",
    "                                  valid_preds)  #  predictions\n",
    "\n",
    "\n",
    "    print(name, ' train acc: ', np.round(train_acc, 4), ' mcc: ', np.round(train_mcc, 4))\n",
    "    print(name, ' valid acc: ', np.round(valid_acc, 4), ' mcc: ', np.round(valid_mcc, 4))"
   ]
  },
  {
   "cell_type": "markdown",
   "metadata": {},
   "source": [
    "### Train the transformer Model"
   ]
  },
  {
   "cell_type": "markdown",
   "metadata": {},
   "source": [
    "Use learning rate schuler to warmpup Transformer learning rate"
   ]
  },
  {
   "cell_type": "code",
   "execution_count": 20,
   "metadata": {},
   "outputs": [],
   "source": [
    "def lr_scheduler(epoch, lr, warmup_epochs=15, decay_epochs=100, initial_lr=1e-6, base_lr=1e-3, min_lr=5e-5):\n",
    "    if epoch <= warmup_epochs:\n",
    "        pct = epoch / warmup_epochs\n",
    "        return ((base_lr - initial_lr) * pct) + initial_lr\n",
    "\n",
    "    if epoch > warmup_epochs and epoch < warmup_epochs+decay_epochs:\n",
    "        pct = 1 - ((epoch - warmup_epochs) / decay_epochs)\n",
    "        return ((base_lr - min_lr) * pct) + min_lr\n",
    "\n",
    "    return min_lr"
   ]
  },
  {
   "cell_type": "code",
   "execution_count": 21,
   "metadata": {},
   "outputs": [
    {
     "name": "stdout",
     "output_type": "stream",
     "text": [
      "Epoch 1/30\n",
      "1082/1082 [==============================] - 20s 15ms/step - loss: 0.6566 - sparse_categorical_accuracy: 0.3341 - mcc_metric: 0.0038 - val_loss: 0.5915 - val_sparse_categorical_accuracy: 0.3504 - val_mcc_metric: 0.0260 - lr: 1.0000e-06\n",
      "Epoch 2/30\n",
      "1082/1082 [==============================] - 16s 15ms/step - loss: 0.4945 - sparse_categorical_accuracy: 0.4268 - mcc_metric: 0.0087 - val_loss: 0.5470 - val_sparse_categorical_accuracy: 0.3105 - val_mcc_metric: 0.0095 - lr: 6.7600e-05\n",
      "Epoch 3/30\n",
      "1082/1082 [==============================] - 16s 15ms/step - loss: 0.4749 - sparse_categorical_accuracy: 0.4534 - mcc_metric: 0.0192 - val_loss: 0.5436 - val_sparse_categorical_accuracy: 0.3085 - val_mcc_metric: 0.0082 - lr: 1.3420e-04\n",
      "Epoch 4/30\n",
      "1082/1082 [==============================] - 16s 15ms/step - loss: 0.4747 - sparse_categorical_accuracy: 0.4618 - mcc_metric: 0.0226 - val_loss: 0.5409 - val_sparse_categorical_accuracy: 0.3474 - val_mcc_metric: 0.0494 - lr: 2.0080e-04\n",
      "Epoch 5/30\n",
      "1082/1082 [==============================] - 16s 15ms/step - loss: 0.4746 - sparse_categorical_accuracy: 0.4676 - mcc_metric: 0.0189 - val_loss: 0.5395 - val_sparse_categorical_accuracy: 0.3108 - val_mcc_metric: 0.0177 - lr: 2.6740e-04\n",
      "Epoch 6/30\n",
      "1082/1082 [==============================] - 16s 14ms/step - loss: 0.4739 - sparse_categorical_accuracy: 0.4795 - mcc_metric: 0.0289 - val_loss: 0.5393 - val_sparse_categorical_accuracy: 0.3334 - val_mcc_metric: 0.0291 - lr: 3.3400e-04\n",
      "Epoch 7/30\n",
      "1082/1082 [==============================] - 16s 15ms/step - loss: 0.4761 - sparse_categorical_accuracy: 0.4807 - mcc_metric: 0.0288 - val_loss: 0.5443 - val_sparse_categorical_accuracy: 0.3574 - val_mcc_metric: 0.0057 - lr: 4.0060e-04\n",
      "Epoch 8/30\n",
      "1082/1082 [==============================] - 16s 15ms/step - loss: 0.4743 - sparse_categorical_accuracy: 0.4860 - mcc_metric: 0.0365 - val_loss: 0.5385 - val_sparse_categorical_accuracy: 0.3145 - val_mcc_metric: 0.0284 - lr: 4.6720e-04\n",
      "Epoch 9/30\n",
      "1082/1082 [==============================] - 16s 15ms/step - loss: 0.4730 - sparse_categorical_accuracy: 0.4895 - mcc_metric: 0.0357 - val_loss: 0.5396 - val_sparse_categorical_accuracy: 0.3394 - val_mcc_metric: 0.0290 - lr: 5.3380e-04\n",
      "Epoch 10/30\n",
      "1082/1082 [==============================] - 16s 15ms/step - loss: 0.4736 - sparse_categorical_accuracy: 0.4959 - mcc_metric: 0.0307 - val_loss: 0.5422 - val_sparse_categorical_accuracy: 0.3531 - val_mcc_metric: 0.0159 - lr: 6.0040e-04\n",
      "Epoch 11/30\n",
      "1082/1082 [==============================] - 16s 15ms/step - loss: 0.4746 - sparse_categorical_accuracy: 0.5057 - mcc_metric: 0.0397 - val_loss: 0.5400 - val_sparse_categorical_accuracy: 0.3624 - val_mcc_metric: 0.0285 - lr: 6.6700e-04\n",
      "Epoch 12/30\n",
      "1082/1082 [==============================] - 16s 14ms/step - loss: 0.4728 - sparse_categorical_accuracy: 0.5000 - mcc_metric: 0.0361 - val_loss: 0.5386 - val_sparse_categorical_accuracy: 0.2793 - val_mcc_metric: -0.0018 - lr: 7.3360e-04\n",
      "Epoch 13/30\n",
      "1082/1082 [==============================] - 16s 14ms/step - loss: 0.4731 - sparse_categorical_accuracy: 0.5029 - mcc_metric: 0.0351 - val_loss: 0.5325 - val_sparse_categorical_accuracy: 0.2729 - val_mcc_metric: -0.0083 - lr: 8.0020e-04\n",
      "Epoch 14/30\n",
      "1082/1082 [==============================] - 16s 15ms/step - loss: 0.4736 - sparse_categorical_accuracy: 0.5034 - mcc_metric: 0.0237 - val_loss: 0.5329 - val_sparse_categorical_accuracy: 0.2982 - val_mcc_metric: 0.0136 - lr: 8.6680e-04\n",
      "Epoch 15/30\n",
      "1082/1082 [==============================] - 16s 15ms/step - loss: 0.4750 - sparse_categorical_accuracy: 0.4985 - mcc_metric: 0.0312 - val_loss: 0.5354 - val_sparse_categorical_accuracy: 0.3215 - val_mcc_metric: 0.0246 - lr: 9.3340e-04\n",
      "Epoch 16/30\n",
      "1082/1082 [==============================] - 16s 15ms/step - loss: 0.4741 - sparse_categorical_accuracy: 0.5039 - mcc_metric: 0.0278 - val_loss: 0.5343 - val_sparse_categorical_accuracy: 0.2955 - val_mcc_metric: 0.0093 - lr: 0.0010\n",
      "Epoch 17/30\n",
      "1082/1082 [==============================] - 16s 15ms/step - loss: 0.4737 - sparse_categorical_accuracy: 0.5027 - mcc_metric: 0.0324 - val_loss: 0.5350 - val_sparse_categorical_accuracy: 0.3145 - val_mcc_metric: 0.0186 - lr: 9.9050e-04\n",
      "Epoch 18/30\n",
      "1082/1082 [==============================] - 16s 14ms/step - loss: 0.4734 - sparse_categorical_accuracy: 0.5102 - mcc_metric: 0.0340 - val_loss: 0.5356 - val_sparse_categorical_accuracy: 0.3198 - val_mcc_metric: 0.0123 - lr: 9.8100e-04\n",
      "Epoch 1/30\n",
      "1081/1081 [==============================] - 17s 15ms/step - loss: 0.6396 - sparse_categorical_accuracy: 0.3494 - mcc_metric: -0.0052 - val_loss: 0.5349 - val_sparse_categorical_accuracy: 0.2583 - val_mcc_metric: -0.0302 - lr: 1.0000e-06\n",
      "Epoch 2/30\n",
      "1081/1081 [==============================] - 16s 14ms/step - loss: 0.4918 - sparse_categorical_accuracy: 0.4191 - mcc_metric: 0.0211 - val_loss: 0.5097 - val_sparse_categorical_accuracy: 0.3524 - val_mcc_metric: 0.0169 - lr: 6.7600e-05\n",
      "Epoch 3/30\n",
      " 273/1081 [======>.......................] - ETA: 11s - loss: 0.4411 - sparse_categorical_accuracy: 0.5235 - mcc_metric: 0.0042"
     ]
    },
    {
     "ename": "KeyboardInterrupt",
     "evalue": "",
     "output_type": "error",
     "traceback": [
      "\u001b[1;31m---------------------------------------------------------------------------\u001b[0m",
      "\u001b[1;31mKeyboardInterrupt\u001b[0m                         Traceback (most recent call last)",
      "\u001b[1;32m~\\AppData\\Local\\Temp\\ipykernel_27724\\2340926006.py\u001b[0m in \u001b[0;36m<cell line: 3>\u001b[1;34m()\u001b[0m\n\u001b[0;32m     14\u001b[0m \u001b[1;33m\u001b[0m\u001b[0m\n\u001b[0;32m     15\u001b[0m     \u001b[0mweights\u001b[0m \u001b[1;33m=\u001b[0m \u001b[0mget_class_weights\u001b[0m\u001b[1;33m(\u001b[0m\u001b[0msplit_dfs\u001b[0m\u001b[1;33m,\u001b[0m \u001b[0mname\u001b[0m\u001b[1;33m)\u001b[0m\u001b[1;33m\u001b[0m\u001b[1;33m\u001b[0m\u001b[0m\n\u001b[1;32m---> 16\u001b[1;33m     history = compile_and_fit(transformer_model, window_gens[name], lr=1e-6, max_epochs=30, \n\u001b[0m\u001b[0;32m     17\u001b[0m                           lr_scheduler=lr_scheduler, patience=5, weights=weights)\n\u001b[0;32m     18\u001b[0m \u001b[1;33m\u001b[0m\u001b[0m\n",
      "\u001b[1;32m~\\AppData\\Local\\Temp\\ipykernel_27724\\2023365853.py\u001b[0m in \u001b[0;36mcompile_and_fit\u001b[1;34m(model, window, lr, max_epochs, lr_scheduler, patience, weights)\u001b[0m\n\u001b[0;32m     17\u001b[0m     \u001b[1;32mif\u001b[0m \u001b[0mlr_scheduler\u001b[0m\u001b[1;33m:\u001b[0m\u001b[1;33m\u001b[0m\u001b[1;33m\u001b[0m\u001b[0m\n\u001b[0;32m     18\u001b[0m         \u001b[0mlr_callback\u001b[0m \u001b[1;33m=\u001b[0m \u001b[0mtf\u001b[0m\u001b[1;33m.\u001b[0m\u001b[0mkeras\u001b[0m\u001b[1;33m.\u001b[0m\u001b[0mcallbacks\u001b[0m\u001b[1;33m.\u001b[0m\u001b[0mLearningRateScheduler\u001b[0m\u001b[1;33m(\u001b[0m\u001b[0mlr_scheduler\u001b[0m\u001b[1;33m)\u001b[0m\u001b[1;33m\u001b[0m\u001b[1;33m\u001b[0m\u001b[0m\n\u001b[1;32m---> 19\u001b[1;33m         history = model.fit(window.train, epochs=max_epochs,\n\u001b[0m\u001b[0;32m     20\u001b[0m                             \u001b[0mvalidation_data\u001b[0m\u001b[1;33m=\u001b[0m\u001b[0mwindow\u001b[0m\u001b[1;33m.\u001b[0m\u001b[0mvalid\u001b[0m\u001b[1;33m,\u001b[0m\u001b[1;33m\u001b[0m\u001b[1;33m\u001b[0m\u001b[0m\n\u001b[0;32m     21\u001b[0m                             callbacks=[lr_callback, early_stopping])\n",
      "\u001b[1;32mc:\\Users\\itber\\anaconda3\\envs\\tf\\lib\\site-packages\\keras\\utils\\traceback_utils.py\u001b[0m in \u001b[0;36merror_handler\u001b[1;34m(*args, **kwargs)\u001b[0m\n\u001b[0;32m     62\u001b[0m     \u001b[0mfiltered_tb\u001b[0m \u001b[1;33m=\u001b[0m \u001b[1;32mNone\u001b[0m\u001b[1;33m\u001b[0m\u001b[1;33m\u001b[0m\u001b[0m\n\u001b[0;32m     63\u001b[0m     \u001b[1;32mtry\u001b[0m\u001b[1;33m:\u001b[0m\u001b[1;33m\u001b[0m\u001b[1;33m\u001b[0m\u001b[0m\n\u001b[1;32m---> 64\u001b[1;33m       \u001b[1;32mreturn\u001b[0m \u001b[0mfn\u001b[0m\u001b[1;33m(\u001b[0m\u001b[1;33m*\u001b[0m\u001b[0margs\u001b[0m\u001b[1;33m,\u001b[0m \u001b[1;33m**\u001b[0m\u001b[0mkwargs\u001b[0m\u001b[1;33m)\u001b[0m\u001b[1;33m\u001b[0m\u001b[1;33m\u001b[0m\u001b[0m\n\u001b[0m\u001b[0;32m     65\u001b[0m     \u001b[1;32mexcept\u001b[0m \u001b[0mException\u001b[0m \u001b[1;32mas\u001b[0m \u001b[0me\u001b[0m\u001b[1;33m:\u001b[0m  \u001b[1;31m# pylint: disable=broad-except\u001b[0m\u001b[1;33m\u001b[0m\u001b[1;33m\u001b[0m\u001b[0m\n\u001b[0;32m     66\u001b[0m       \u001b[0mfiltered_tb\u001b[0m \u001b[1;33m=\u001b[0m \u001b[0m_process_traceback_frames\u001b[0m\u001b[1;33m(\u001b[0m\u001b[0me\u001b[0m\u001b[1;33m.\u001b[0m\u001b[0m__traceback__\u001b[0m\u001b[1;33m)\u001b[0m\u001b[1;33m\u001b[0m\u001b[1;33m\u001b[0m\u001b[0m\n",
      "\u001b[1;32mc:\\Users\\itber\\anaconda3\\envs\\tf\\lib\\site-packages\\keras\\engine\\training.py\u001b[0m in \u001b[0;36mfit\u001b[1;34m(self, x, y, batch_size, epochs, verbose, callbacks, validation_split, validation_data, shuffle, class_weight, sample_weight, initial_epoch, steps_per_epoch, validation_steps, validation_batch_size, validation_freq, max_queue_size, workers, use_multiprocessing)\u001b[0m\n\u001b[0;32m   1407\u001b[0m                 _r=1):\n\u001b[0;32m   1408\u001b[0m               \u001b[0mcallbacks\u001b[0m\u001b[1;33m.\u001b[0m\u001b[0mon_train_batch_begin\u001b[0m\u001b[1;33m(\u001b[0m\u001b[0mstep\u001b[0m\u001b[1;33m)\u001b[0m\u001b[1;33m\u001b[0m\u001b[1;33m\u001b[0m\u001b[0m\n\u001b[1;32m-> 1409\u001b[1;33m               \u001b[0mtmp_logs\u001b[0m \u001b[1;33m=\u001b[0m \u001b[0mself\u001b[0m\u001b[1;33m.\u001b[0m\u001b[0mtrain_function\u001b[0m\u001b[1;33m(\u001b[0m\u001b[0miterator\u001b[0m\u001b[1;33m)\u001b[0m\u001b[1;33m\u001b[0m\u001b[1;33m\u001b[0m\u001b[0m\n\u001b[0m\u001b[0;32m   1410\u001b[0m               \u001b[1;32mif\u001b[0m \u001b[0mdata_handler\u001b[0m\u001b[1;33m.\u001b[0m\u001b[0mshould_sync\u001b[0m\u001b[1;33m:\u001b[0m\u001b[1;33m\u001b[0m\u001b[1;33m\u001b[0m\u001b[0m\n\u001b[0;32m   1411\u001b[0m                 \u001b[0mcontext\u001b[0m\u001b[1;33m.\u001b[0m\u001b[0masync_wait\u001b[0m\u001b[1;33m(\u001b[0m\u001b[1;33m)\u001b[0m\u001b[1;33m\u001b[0m\u001b[1;33m\u001b[0m\u001b[0m\n",
      "\u001b[1;32mc:\\Users\\itber\\anaconda3\\envs\\tf\\lib\\site-packages\\tensorflow\\python\\util\\traceback_utils.py\u001b[0m in \u001b[0;36merror_handler\u001b[1;34m(*args, **kwargs)\u001b[0m\n\u001b[0;32m    148\u001b[0m     \u001b[0mfiltered_tb\u001b[0m \u001b[1;33m=\u001b[0m \u001b[1;32mNone\u001b[0m\u001b[1;33m\u001b[0m\u001b[1;33m\u001b[0m\u001b[0m\n\u001b[0;32m    149\u001b[0m     \u001b[1;32mtry\u001b[0m\u001b[1;33m:\u001b[0m\u001b[1;33m\u001b[0m\u001b[1;33m\u001b[0m\u001b[0m\n\u001b[1;32m--> 150\u001b[1;33m       \u001b[1;32mreturn\u001b[0m \u001b[0mfn\u001b[0m\u001b[1;33m(\u001b[0m\u001b[1;33m*\u001b[0m\u001b[0margs\u001b[0m\u001b[1;33m,\u001b[0m \u001b[1;33m**\u001b[0m\u001b[0mkwargs\u001b[0m\u001b[1;33m)\u001b[0m\u001b[1;33m\u001b[0m\u001b[1;33m\u001b[0m\u001b[0m\n\u001b[0m\u001b[0;32m    151\u001b[0m     \u001b[1;32mexcept\u001b[0m \u001b[0mException\u001b[0m \u001b[1;32mas\u001b[0m \u001b[0me\u001b[0m\u001b[1;33m:\u001b[0m\u001b[1;33m\u001b[0m\u001b[1;33m\u001b[0m\u001b[0m\n\u001b[0;32m    152\u001b[0m       \u001b[0mfiltered_tb\u001b[0m \u001b[1;33m=\u001b[0m \u001b[0m_process_traceback_frames\u001b[0m\u001b[1;33m(\u001b[0m\u001b[0me\u001b[0m\u001b[1;33m.\u001b[0m\u001b[0m__traceback__\u001b[0m\u001b[1;33m)\u001b[0m\u001b[1;33m\u001b[0m\u001b[1;33m\u001b[0m\u001b[0m\n",
      "\u001b[1;32mc:\\Users\\itber\\anaconda3\\envs\\tf\\lib\\site-packages\\tensorflow\\python\\eager\\def_function.py\u001b[0m in \u001b[0;36m__call__\u001b[1;34m(self, *args, **kwds)\u001b[0m\n\u001b[0;32m    913\u001b[0m \u001b[1;33m\u001b[0m\u001b[0m\n\u001b[0;32m    914\u001b[0m       \u001b[1;32mwith\u001b[0m \u001b[0mOptionalXlaContext\u001b[0m\u001b[1;33m(\u001b[0m\u001b[0mself\u001b[0m\u001b[1;33m.\u001b[0m\u001b[0m_jit_compile\u001b[0m\u001b[1;33m)\u001b[0m\u001b[1;33m:\u001b[0m\u001b[1;33m\u001b[0m\u001b[1;33m\u001b[0m\u001b[0m\n\u001b[1;32m--> 915\u001b[1;33m         \u001b[0mresult\u001b[0m \u001b[1;33m=\u001b[0m \u001b[0mself\u001b[0m\u001b[1;33m.\u001b[0m\u001b[0m_call\u001b[0m\u001b[1;33m(\u001b[0m\u001b[1;33m*\u001b[0m\u001b[0margs\u001b[0m\u001b[1;33m,\u001b[0m \u001b[1;33m**\u001b[0m\u001b[0mkwds\u001b[0m\u001b[1;33m)\u001b[0m\u001b[1;33m\u001b[0m\u001b[1;33m\u001b[0m\u001b[0m\n\u001b[0m\u001b[0;32m    916\u001b[0m \u001b[1;33m\u001b[0m\u001b[0m\n\u001b[0;32m    917\u001b[0m       \u001b[0mnew_tracing_count\u001b[0m \u001b[1;33m=\u001b[0m \u001b[0mself\u001b[0m\u001b[1;33m.\u001b[0m\u001b[0mexperimental_get_tracing_count\u001b[0m\u001b[1;33m(\u001b[0m\u001b[1;33m)\u001b[0m\u001b[1;33m\u001b[0m\u001b[1;33m\u001b[0m\u001b[0m\n",
      "\u001b[1;32mc:\\Users\\itber\\anaconda3\\envs\\tf\\lib\\site-packages\\tensorflow\\python\\eager\\def_function.py\u001b[0m in \u001b[0;36m_call\u001b[1;34m(self, *args, **kwds)\u001b[0m\n\u001b[0;32m    945\u001b[0m       \u001b[1;31m# In this case we have created variables on the first call, so we run the\u001b[0m\u001b[1;33m\u001b[0m\u001b[1;33m\u001b[0m\u001b[0m\n\u001b[0;32m    946\u001b[0m       \u001b[1;31m# defunned version which is guaranteed to never create variables.\u001b[0m\u001b[1;33m\u001b[0m\u001b[1;33m\u001b[0m\u001b[0m\n\u001b[1;32m--> 947\u001b[1;33m       \u001b[1;32mreturn\u001b[0m \u001b[0mself\u001b[0m\u001b[1;33m.\u001b[0m\u001b[0m_stateless_fn\u001b[0m\u001b[1;33m(\u001b[0m\u001b[1;33m*\u001b[0m\u001b[0margs\u001b[0m\u001b[1;33m,\u001b[0m \u001b[1;33m**\u001b[0m\u001b[0mkwds\u001b[0m\u001b[1;33m)\u001b[0m  \u001b[1;31m# pylint: disable=not-callable\u001b[0m\u001b[1;33m\u001b[0m\u001b[1;33m\u001b[0m\u001b[0m\n\u001b[0m\u001b[0;32m    948\u001b[0m     \u001b[1;32melif\u001b[0m \u001b[0mself\u001b[0m\u001b[1;33m.\u001b[0m\u001b[0m_stateful_fn\u001b[0m \u001b[1;32mis\u001b[0m \u001b[1;32mnot\u001b[0m \u001b[1;32mNone\u001b[0m\u001b[1;33m:\u001b[0m\u001b[1;33m\u001b[0m\u001b[1;33m\u001b[0m\u001b[0m\n\u001b[0;32m    949\u001b[0m       \u001b[1;31m# Release the lock early so that multiple threads can perform the call\u001b[0m\u001b[1;33m\u001b[0m\u001b[1;33m\u001b[0m\u001b[0m\n",
      "\u001b[1;32mc:\\Users\\itber\\anaconda3\\envs\\tf\\lib\\site-packages\\tensorflow\\python\\eager\\function.py\u001b[0m in \u001b[0;36m__call__\u001b[1;34m(self, *args, **kwargs)\u001b[0m\n\u001b[0;32m   2451\u001b[0m       (graph_function,\n\u001b[0;32m   2452\u001b[0m        filtered_flat_args) = self._maybe_define_function(args, kwargs)\n\u001b[1;32m-> 2453\u001b[1;33m     return graph_function._call_flat(\n\u001b[0m\u001b[0;32m   2454\u001b[0m         filtered_flat_args, captured_inputs=graph_function.captured_inputs)  # pylint: disable=protected-access\n\u001b[0;32m   2455\u001b[0m \u001b[1;33m\u001b[0m\u001b[0m\n",
      "\u001b[1;32mc:\\Users\\itber\\anaconda3\\envs\\tf\\lib\\site-packages\\tensorflow\\python\\eager\\function.py\u001b[0m in \u001b[0;36m_call_flat\u001b[1;34m(self, args, captured_inputs, cancellation_manager)\u001b[0m\n\u001b[0;32m   1858\u001b[0m         and executing_eagerly):\n\u001b[0;32m   1859\u001b[0m       \u001b[1;31m# No tape is watching; skip to running the function.\u001b[0m\u001b[1;33m\u001b[0m\u001b[1;33m\u001b[0m\u001b[0m\n\u001b[1;32m-> 1860\u001b[1;33m       return self._build_call_outputs(self._inference_function.call(\n\u001b[0m\u001b[0;32m   1861\u001b[0m           ctx, args, cancellation_manager=cancellation_manager))\n\u001b[0;32m   1862\u001b[0m     forward_backward = self._select_forward_and_backward_functions(\n",
      "\u001b[1;32mc:\\Users\\itber\\anaconda3\\envs\\tf\\lib\\site-packages\\tensorflow\\python\\eager\\function.py\u001b[0m in \u001b[0;36mcall\u001b[1;34m(self, ctx, args, cancellation_manager)\u001b[0m\n\u001b[0;32m    495\u001b[0m       \u001b[1;32mwith\u001b[0m \u001b[0m_InterpolateFunctionError\u001b[0m\u001b[1;33m(\u001b[0m\u001b[0mself\u001b[0m\u001b[1;33m)\u001b[0m\u001b[1;33m:\u001b[0m\u001b[1;33m\u001b[0m\u001b[1;33m\u001b[0m\u001b[0m\n\u001b[0;32m    496\u001b[0m         \u001b[1;32mif\u001b[0m \u001b[0mcancellation_manager\u001b[0m \u001b[1;32mis\u001b[0m \u001b[1;32mNone\u001b[0m\u001b[1;33m:\u001b[0m\u001b[1;33m\u001b[0m\u001b[1;33m\u001b[0m\u001b[0m\n\u001b[1;32m--> 497\u001b[1;33m           outputs = execute.execute(\n\u001b[0m\u001b[0;32m    498\u001b[0m               \u001b[0mstr\u001b[0m\u001b[1;33m(\u001b[0m\u001b[0mself\u001b[0m\u001b[1;33m.\u001b[0m\u001b[0msignature\u001b[0m\u001b[1;33m.\u001b[0m\u001b[0mname\u001b[0m\u001b[1;33m)\u001b[0m\u001b[1;33m,\u001b[0m\u001b[1;33m\u001b[0m\u001b[1;33m\u001b[0m\u001b[0m\n\u001b[0;32m    499\u001b[0m               \u001b[0mnum_outputs\u001b[0m\u001b[1;33m=\u001b[0m\u001b[0mself\u001b[0m\u001b[1;33m.\u001b[0m\u001b[0m_num_outputs\u001b[0m\u001b[1;33m,\u001b[0m\u001b[1;33m\u001b[0m\u001b[1;33m\u001b[0m\u001b[0m\n",
      "\u001b[1;32mc:\\Users\\itber\\anaconda3\\envs\\tf\\lib\\site-packages\\tensorflow\\python\\eager\\execute.py\u001b[0m in \u001b[0;36mquick_execute\u001b[1;34m(op_name, num_outputs, inputs, attrs, ctx, name)\u001b[0m\n\u001b[0;32m     52\u001b[0m   \u001b[1;32mtry\u001b[0m\u001b[1;33m:\u001b[0m\u001b[1;33m\u001b[0m\u001b[1;33m\u001b[0m\u001b[0m\n\u001b[0;32m     53\u001b[0m     \u001b[0mctx\u001b[0m\u001b[1;33m.\u001b[0m\u001b[0mensure_initialized\u001b[0m\u001b[1;33m(\u001b[0m\u001b[1;33m)\u001b[0m\u001b[1;33m\u001b[0m\u001b[1;33m\u001b[0m\u001b[0m\n\u001b[1;32m---> 54\u001b[1;33m     tensors = pywrap_tfe.TFE_Py_Execute(ctx._handle, device_name, op_name,\n\u001b[0m\u001b[0;32m     55\u001b[0m                                         inputs, attrs, num_outputs)\n\u001b[0;32m     56\u001b[0m   \u001b[1;32mexcept\u001b[0m \u001b[0mcore\u001b[0m\u001b[1;33m.\u001b[0m\u001b[0m_NotOkStatusException\u001b[0m \u001b[1;32mas\u001b[0m \u001b[0me\u001b[0m\u001b[1;33m:\u001b[0m\u001b[1;33m\u001b[0m\u001b[1;33m\u001b[0m\u001b[0m\n",
      "\u001b[1;31mKeyboardInterrupt\u001b[0m: "
     ]
    }
   ],
   "source": [
    "transformer_models = {}\n",
    "\n",
    "for name in single_gens.keys():\n",
    "\n",
    "    transformer_model = TransformerModel(\n",
    "                                    n_heads=2,\n",
    "                                    d_model=256,\n",
    "                                    ff_dim=256,\n",
    "                                    num_transformer_blocks=1,\n",
    "                                    mlp_units=[256],\n",
    "                                    n_outputs=3,\n",
    "                                    dropout=0.3,\n",
    "                                    mlp_dropout=0.3)\n",
    "\n",
    "    weights = get_class_weights(split_dfs, name)\n",
    "    history = compile_and_fit(transformer_model, window_gens[name], lr=1e-6, max_epochs=30, \n",
    "                          lr_scheduler=lr_scheduler, patience=5, weights=weights)\n",
    "\n",
    "    transformer_models.update({name : transformer_model})\n",
    "    train_performance[f'transformer_{name}'] = transformer_model.evaluate(window_gens[name].train, verbose=False)\n",
    "    val_performance[f'transformer_{name}'] = transformer_model.evaluate(window_gens[name].valid, verbose=False)\n"
   ]
  },
  {
   "cell_type": "code",
   "execution_count": null,
   "metadata": {},
   "outputs": [
    {
     "name": "stdout",
     "output_type": "stream",
     "text": [
      "AAPL  train acc:  0.2926  mcc:  0.0556\n",
      "AAPL  valid acc:  0.3132  mcc:  0.0382\n",
      "GOOG  train acc:  0.2141  mcc:  0.0059\n",
      "GOOG  valid acc:  0.2191  mcc:  -0.0129\n"
     ]
    },
    {
     "ename": "KeyboardInterrupt",
     "evalue": "",
     "output_type": "error",
     "traceback": [
      "\u001b[1;31m---------------------------------------------------------------------------\u001b[0m",
      "\u001b[1;31mKeyboardInterrupt\u001b[0m                         Traceback (most recent call last)",
      "\u001b[1;32m~\\AppData\\Local\\Temp\\ipykernel_40140\\5192098.py\u001b[0m in \u001b[0;36m<cell line: 4>\u001b[1;34m()\u001b[0m\n\u001b[0;32m      8\u001b[0m                                                 threshold=0)\n\u001b[0;32m      9\u001b[0m     valid_preds, valid_labels = get_label_preds(transformer_models[name], \n\u001b[1;32m---> 10\u001b[1;33m                                                 \u001b[0mwindow_gens\u001b[0m\u001b[1;33m[\u001b[0m\u001b[0mname\u001b[0m\u001b[1;33m]\u001b[0m\u001b[1;33m.\u001b[0m\u001b[0mvalid\u001b[0m\u001b[1;33m,\u001b[0m\u001b[1;33m\u001b[0m\u001b[1;33m\u001b[0m\u001b[0m\n\u001b[0m\u001b[0;32m     11\u001b[0m                                                 threshold=0)\n\u001b[0;32m     12\u001b[0m \u001b[1;33m\u001b[0m\u001b[0m\n",
      "\u001b[1;32mc:\\Users\\itber\\Documents\\learning\\school\\ESE527\\project\\algotrading\\predictive_analytics\\transformer\\window_generator.py\u001b[0m in \u001b[0;36mvalid\u001b[1;34m(self)\u001b[0m\n\u001b[0;32m    216\u001b[0m     \u001b[1;33m@\u001b[0m\u001b[0mproperty\u001b[0m\u001b[1;33m\u001b[0m\u001b[1;33m\u001b[0m\u001b[0m\n\u001b[0;32m    217\u001b[0m     \u001b[1;32mdef\u001b[0m \u001b[0mvalid\u001b[0m\u001b[1;33m(\u001b[0m\u001b[0mself\u001b[0m\u001b[1;33m)\u001b[0m\u001b[1;33m:\u001b[0m\u001b[1;33m\u001b[0m\u001b[1;33m\u001b[0m\u001b[0m\n\u001b[1;32m--> 218\u001b[1;33m         \u001b[1;32mreturn\u001b[0m \u001b[0mself\u001b[0m\u001b[1;33m.\u001b[0m\u001b[0mmake_dataset\u001b[0m\u001b[1;33m(\u001b[0m\u001b[0mself\u001b[0m\u001b[1;33m.\u001b[0m\u001b[0mvalid_df\u001b[0m\u001b[1;33m)\u001b[0m\u001b[1;33m\u001b[0m\u001b[1;33m\u001b[0m\u001b[0m\n\u001b[0m\u001b[0;32m    219\u001b[0m \u001b[1;33m\u001b[0m\u001b[0m\n\u001b[0;32m    220\u001b[0m     \u001b[1;33m@\u001b[0m\u001b[0mproperty\u001b[0m\u001b[1;33m\u001b[0m\u001b[1;33m\u001b[0m\u001b[0m\n",
      "\u001b[1;32mc:\\Users\\itber\\Documents\\learning\\school\\ESE527\\project\\algotrading\\predictive_analytics\\transformer\\window_generator.py\u001b[0m in \u001b[0;36mmake_dataset\u001b[1;34m(self, data)\u001b[0m\n\u001b[0;32m    189\u001b[0m \u001b[1;33m\u001b[0m\u001b[0m\n\u001b[0;32m    190\u001b[0m         \u001b[0mdata\u001b[0m \u001b[1;33m=\u001b[0m \u001b[0mnp\u001b[0m\u001b[1;33m.\u001b[0m\u001b[0marray\u001b[0m\u001b[1;33m(\u001b[0m\u001b[0mdata\u001b[0m\u001b[1;33m,\u001b[0m \u001b[0mdtype\u001b[0m\u001b[1;33m=\u001b[0m\u001b[0mnp\u001b[0m\u001b[1;33m.\u001b[0m\u001b[0mfloat32\u001b[0m\u001b[1;33m)\u001b[0m\u001b[1;33m\u001b[0m\u001b[1;33m\u001b[0m\u001b[0m\n\u001b[1;32m--> 191\u001b[1;33m         ds = tf.keras.utils.timeseries_dataset_from_array(\n\u001b[0m\u001b[0;32m    192\u001b[0m                 \u001b[0mdata\u001b[0m\u001b[1;33m=\u001b[0m\u001b[0mdata\u001b[0m\u001b[1;33m,\u001b[0m\u001b[1;33m\u001b[0m\u001b[1;33m\u001b[0m\u001b[0m\n\u001b[0;32m    193\u001b[0m                 \u001b[0mtargets\u001b[0m\u001b[1;33m=\u001b[0m\u001b[1;32mNone\u001b[0m\u001b[1;33m,\u001b[0m\u001b[1;33m\u001b[0m\u001b[1;33m\u001b[0m\u001b[0m\n",
      "\u001b[1;32mc:\\Users\\itber\\anaconda3\\envs\\tf\\lib\\site-packages\\keras\\utils\\timeseries_dataset.py\u001b[0m in \u001b[0;36mtimeseries_dataset_from_array\u001b[1;34m(data, targets, sequence_length, sequence_stride, sampling_rate, batch_size, shuffle, seed, start_index, end_index)\u001b[0m\n\u001b[0;32m    209\u001b[0m \u001b[1;33m\u001b[0m\u001b[0m\n\u001b[0;32m    210\u001b[0m   \u001b[1;31m# For each initial window position, generates indices of the window elements\u001b[0m\u001b[1;33m\u001b[0m\u001b[1;33m\u001b[0m\u001b[0m\n\u001b[1;32m--> 211\u001b[1;33m   indices = tf.data.Dataset.zip(\n\u001b[0m\u001b[0;32m    212\u001b[0m       \u001b[1;33m(\u001b[0m\u001b[0mtf\u001b[0m\u001b[1;33m.\u001b[0m\u001b[0mdata\u001b[0m\u001b[1;33m.\u001b[0m\u001b[0mDataset\u001b[0m\u001b[1;33m.\u001b[0m\u001b[0mrange\u001b[0m\u001b[1;33m(\u001b[0m\u001b[0mlen\u001b[0m\u001b[1;33m(\u001b[0m\u001b[0mstart_positions\u001b[0m\u001b[1;33m)\u001b[0m\u001b[1;33m)\u001b[0m\u001b[1;33m,\u001b[0m \u001b[0mpositions_ds\u001b[0m\u001b[1;33m)\u001b[0m\u001b[1;33m)\u001b[0m\u001b[1;33m.\u001b[0m\u001b[0mmap\u001b[0m\u001b[1;33m(\u001b[0m\u001b[1;33m\u001b[0m\u001b[1;33m\u001b[0m\u001b[0m\n\u001b[0;32m    213\u001b[0m           lambda i, positions: tf.range(  # pylint: disable=g-long-lambda\n",
      "\u001b[1;32mc:\\Users\\itber\\anaconda3\\envs\\tf\\lib\\site-packages\\tensorflow\\python\\data\\ops\\dataset_ops.py\u001b[0m in \u001b[0;36mmap\u001b[1;34m(self, map_func, num_parallel_calls, deterministic, name)\u001b[0m\n\u001b[0;32m   2048\u001b[0m       \u001b[1;32mreturn\u001b[0m \u001b[0mMapDataset\u001b[0m\u001b[1;33m(\u001b[0m\u001b[0mself\u001b[0m\u001b[1;33m,\u001b[0m \u001b[0mmap_func\u001b[0m\u001b[1;33m,\u001b[0m \u001b[0mpreserve_cardinality\u001b[0m\u001b[1;33m=\u001b[0m\u001b[1;32mTrue\u001b[0m\u001b[1;33m,\u001b[0m \u001b[0mname\u001b[0m\u001b[1;33m=\u001b[0m\u001b[0mname\u001b[0m\u001b[1;33m)\u001b[0m\u001b[1;33m\u001b[0m\u001b[1;33m\u001b[0m\u001b[0m\n\u001b[0;32m   2049\u001b[0m     \u001b[1;32melse\u001b[0m\u001b[1;33m:\u001b[0m\u001b[1;33m\u001b[0m\u001b[1;33m\u001b[0m\u001b[0m\n\u001b[1;32m-> 2050\u001b[1;33m       return ParallelMapDataset(\n\u001b[0m\u001b[0;32m   2051\u001b[0m           \u001b[0mself\u001b[0m\u001b[1;33m,\u001b[0m\u001b[1;33m\u001b[0m\u001b[1;33m\u001b[0m\u001b[0m\n\u001b[0;32m   2052\u001b[0m           \u001b[0mmap_func\u001b[0m\u001b[1;33m,\u001b[0m\u001b[1;33m\u001b[0m\u001b[1;33m\u001b[0m\u001b[0m\n",
      "\u001b[1;32mc:\\Users\\itber\\anaconda3\\envs\\tf\\lib\\site-packages\\tensorflow\\python\\data\\ops\\dataset_ops.py\u001b[0m in \u001b[0;36m__init__\u001b[1;34m(self, input_dataset, map_func, num_parallel_calls, deterministic, use_inter_op_parallelism, preserve_cardinality, use_legacy_function, name)\u001b[0m\n\u001b[0;32m   5282\u001b[0m     \u001b[0mself\u001b[0m\u001b[1;33m.\u001b[0m\u001b[0m_input_dataset\u001b[0m \u001b[1;33m=\u001b[0m \u001b[0minput_dataset\u001b[0m\u001b[1;33m\u001b[0m\u001b[1;33m\u001b[0m\u001b[0m\n\u001b[0;32m   5283\u001b[0m     \u001b[0mself\u001b[0m\u001b[1;33m.\u001b[0m\u001b[0m_use_inter_op_parallelism\u001b[0m \u001b[1;33m=\u001b[0m \u001b[0muse_inter_op_parallelism\u001b[0m\u001b[1;33m\u001b[0m\u001b[1;33m\u001b[0m\u001b[0m\n\u001b[1;32m-> 5284\u001b[1;33m     self._map_func = structured_function.StructuredFunctionWrapper(\n\u001b[0m\u001b[0;32m   5285\u001b[0m         \u001b[0mmap_func\u001b[0m\u001b[1;33m,\u001b[0m\u001b[1;33m\u001b[0m\u001b[1;33m\u001b[0m\u001b[0m\n\u001b[0;32m   5286\u001b[0m         \u001b[0mself\u001b[0m\u001b[1;33m.\u001b[0m\u001b[0m_transformation_name\u001b[0m\u001b[1;33m(\u001b[0m\u001b[1;33m)\u001b[0m\u001b[1;33m,\u001b[0m\u001b[1;33m\u001b[0m\u001b[1;33m\u001b[0m\u001b[0m\n",
      "\u001b[1;32mc:\\Users\\itber\\anaconda3\\envs\\tf\\lib\\site-packages\\tensorflow\\python\\data\\ops\\structured_function.py\u001b[0m in \u001b[0;36m__init__\u001b[1;34m(self, func, transformation_name, dataset, input_classes, input_shapes, input_types, input_structure, add_to_graph, use_legacy_function, defun_kwargs)\u001b[0m\n\u001b[0;32m    269\u001b[0m         \u001b[0mfn_factory\u001b[0m \u001b[1;33m=\u001b[0m \u001b[0mtrace_tf_function\u001b[0m\u001b[1;33m(\u001b[0m\u001b[0mdefun_kwargs\u001b[0m\u001b[1;33m)\u001b[0m\u001b[1;33m\u001b[0m\u001b[1;33m\u001b[0m\u001b[0m\n\u001b[0;32m    270\u001b[0m \u001b[1;33m\u001b[0m\u001b[0m\n\u001b[1;32m--> 271\u001b[1;33m     \u001b[0mself\u001b[0m\u001b[1;33m.\u001b[0m\u001b[0m_function\u001b[0m \u001b[1;33m=\u001b[0m \u001b[0mfn_factory\u001b[0m\u001b[1;33m(\u001b[0m\u001b[1;33m)\u001b[0m\u001b[1;33m\u001b[0m\u001b[1;33m\u001b[0m\u001b[0m\n\u001b[0m\u001b[0;32m    272\u001b[0m     \u001b[1;31m# There is no graph to add in eager mode.\u001b[0m\u001b[1;33m\u001b[0m\u001b[1;33m\u001b[0m\u001b[0m\n\u001b[0;32m    273\u001b[0m     \u001b[0madd_to_graph\u001b[0m \u001b[1;33m&=\u001b[0m \u001b[1;32mnot\u001b[0m \u001b[0mcontext\u001b[0m\u001b[1;33m.\u001b[0m\u001b[0mexecuting_eagerly\u001b[0m\u001b[1;33m(\u001b[0m\u001b[1;33m)\u001b[0m\u001b[1;33m\u001b[0m\u001b[1;33m\u001b[0m\u001b[0m\n",
      "\u001b[1;32mc:\\Users\\itber\\anaconda3\\envs\\tf\\lib\\site-packages\\tensorflow\\python\\eager\\function.py\u001b[0m in \u001b[0;36mget_concrete_function\u001b[1;34m(self, *args, **kwargs)\u001b[0m\n\u001b[0;32m   2565\u001b[0m          \u001b[1;32mor\u001b[0m\u001b[0;31m \u001b[0m\u001b[0;31m`\u001b[0m\u001b[0mtf\u001b[0m\u001b[1;33m.\u001b[0m\u001b[0mTensor\u001b[0m\u001b[0;31m`\u001b[0m \u001b[1;32mor\u001b[0m\u001b[0;31m \u001b[0m\u001b[0;31m`\u001b[0m\u001b[0mtf\u001b[0m\u001b[1;33m.\u001b[0m\u001b[0mTensorSpec\u001b[0m\u001b[0;31m`\u001b[0m\u001b[1;33m.\u001b[0m\u001b[1;33m\u001b[0m\u001b[1;33m\u001b[0m\u001b[0m\n\u001b[0;32m   2566\u001b[0m     \"\"\"\n\u001b[1;32m-> 2567\u001b[1;33m     graph_function = self._get_concrete_function_garbage_collected(\n\u001b[0m\u001b[0;32m   2568\u001b[0m         *args, **kwargs)\n\u001b[0;32m   2569\u001b[0m     \u001b[0mgraph_function\u001b[0m\u001b[1;33m.\u001b[0m\u001b[0m_garbage_collector\u001b[0m\u001b[1;33m.\u001b[0m\u001b[0mrelease\u001b[0m\u001b[1;33m(\u001b[0m\u001b[1;33m)\u001b[0m  \u001b[1;31m# pylint: disable=protected-access\u001b[0m\u001b[1;33m\u001b[0m\u001b[1;33m\u001b[0m\u001b[0m\n",
      "\u001b[1;32mc:\\Users\\itber\\anaconda3\\envs\\tf\\lib\\site-packages\\tensorflow\\python\\eager\\function.py\u001b[0m in \u001b[0;36m_get_concrete_function_garbage_collected\u001b[1;34m(self, *args, **kwargs)\u001b[0m\n\u001b[0;32m   2531\u001b[0m       \u001b[0margs\u001b[0m\u001b[1;33m,\u001b[0m \u001b[0mkwargs\u001b[0m \u001b[1;33m=\u001b[0m \u001b[1;32mNone\u001b[0m\u001b[1;33m,\u001b[0m \u001b[1;32mNone\u001b[0m\u001b[1;33m\u001b[0m\u001b[1;33m\u001b[0m\u001b[0m\n\u001b[0;32m   2532\u001b[0m     \u001b[1;32mwith\u001b[0m \u001b[0mself\u001b[0m\u001b[1;33m.\u001b[0m\u001b[0m_lock\u001b[0m\u001b[1;33m:\u001b[0m\u001b[1;33m\u001b[0m\u001b[1;33m\u001b[0m\u001b[0m\n\u001b[1;32m-> 2533\u001b[1;33m       \u001b[0mgraph_function\u001b[0m\u001b[1;33m,\u001b[0m \u001b[0m_\u001b[0m \u001b[1;33m=\u001b[0m \u001b[0mself\u001b[0m\u001b[1;33m.\u001b[0m\u001b[0m_maybe_define_function\u001b[0m\u001b[1;33m(\u001b[0m\u001b[0margs\u001b[0m\u001b[1;33m,\u001b[0m \u001b[0mkwargs\u001b[0m\u001b[1;33m)\u001b[0m\u001b[1;33m\u001b[0m\u001b[1;33m\u001b[0m\u001b[0m\n\u001b[0m\u001b[0;32m   2534\u001b[0m       \u001b[0mseen_names\u001b[0m \u001b[1;33m=\u001b[0m \u001b[0mset\u001b[0m\u001b[1;33m(\u001b[0m\u001b[1;33m)\u001b[0m\u001b[1;33m\u001b[0m\u001b[1;33m\u001b[0m\u001b[0m\n\u001b[0;32m   2535\u001b[0m       captured = object_identity.ObjectIdentitySet(\n",
      "\u001b[1;32mc:\\Users\\itber\\anaconda3\\envs\\tf\\lib\\site-packages\\tensorflow\\python\\eager\\function.py\u001b[0m in \u001b[0;36m_maybe_define_function\u001b[1;34m(self, args, kwargs)\u001b[0m\n\u001b[0;32m   2709\u001b[0m             \u001b[1;33m(\u001b[0m\u001b[0margs\u001b[0m\u001b[1;33m,\u001b[0m \u001b[0mkwargs\u001b[0m\u001b[1;33m)\u001b[0m \u001b[1;33m=\u001b[0m \u001b[0mcache_key\u001b[0m\u001b[1;33m.\u001b[0m\u001b[0m_placeholder_value\u001b[0m\u001b[1;33m(\u001b[0m\u001b[1;33m)\u001b[0m  \u001b[1;31m# pylint: disable=protected-access\u001b[0m\u001b[1;33m\u001b[0m\u001b[1;33m\u001b[0m\u001b[0m\n\u001b[0;32m   2710\u001b[0m \u001b[1;33m\u001b[0m\u001b[0m\n\u001b[1;32m-> 2711\u001b[1;33m           \u001b[0mgraph_function\u001b[0m \u001b[1;33m=\u001b[0m \u001b[0mself\u001b[0m\u001b[1;33m.\u001b[0m\u001b[0m_create_graph_function\u001b[0m\u001b[1;33m(\u001b[0m\u001b[0margs\u001b[0m\u001b[1;33m,\u001b[0m \u001b[0mkwargs\u001b[0m\u001b[1;33m)\u001b[0m\u001b[1;33m\u001b[0m\u001b[1;33m\u001b[0m\u001b[0m\n\u001b[0m\u001b[0;32m   2712\u001b[0m           self._function_cache.add(cache_key, cache_key_deletion_observer,\n\u001b[0;32m   2713\u001b[0m                                    graph_function)\n",
      "\u001b[1;32mc:\\Users\\itber\\anaconda3\\envs\\tf\\lib\\site-packages\\tensorflow\\python\\eager\\function.py\u001b[0m in \u001b[0;36m_create_graph_function\u001b[1;34m(self, args, kwargs)\u001b[0m\n\u001b[0;32m   2625\u001b[0m     \u001b[0marg_names\u001b[0m \u001b[1;33m=\u001b[0m \u001b[0mbase_arg_names\u001b[0m \u001b[1;33m+\u001b[0m \u001b[0mmissing_arg_names\u001b[0m\u001b[1;33m\u001b[0m\u001b[1;33m\u001b[0m\u001b[0m\n\u001b[0;32m   2626\u001b[0m     graph_function = ConcreteFunction(\n\u001b[1;32m-> 2627\u001b[1;33m         func_graph_module.func_graph_from_py_func(\n\u001b[0m\u001b[0;32m   2628\u001b[0m             \u001b[0mself\u001b[0m\u001b[1;33m.\u001b[0m\u001b[0m_name\u001b[0m\u001b[1;33m,\u001b[0m\u001b[1;33m\u001b[0m\u001b[1;33m\u001b[0m\u001b[0m\n\u001b[0;32m   2629\u001b[0m             \u001b[0mself\u001b[0m\u001b[1;33m.\u001b[0m\u001b[0m_python_function\u001b[0m\u001b[1;33m,\u001b[0m\u001b[1;33m\u001b[0m\u001b[1;33m\u001b[0m\u001b[0m\n",
      "\u001b[1;32mc:\\Users\\itber\\anaconda3\\envs\\tf\\lib\\site-packages\\tensorflow\\python\\framework\\func_graph.py\u001b[0m in \u001b[0;36mfunc_graph_from_py_func\u001b[1;34m(name, python_func, args, kwargs, signature, func_graph, autograph, autograph_options, add_control_dependencies, arg_names, op_return_value, collections, capture_by_value, acd_record_initial_resource_uses)\u001b[0m\n\u001b[0;32m   1139\u001b[0m         \u001b[0m_\u001b[0m\u001b[1;33m,\u001b[0m \u001b[0moriginal_func\u001b[0m \u001b[1;33m=\u001b[0m \u001b[0mtf_decorator\u001b[0m\u001b[1;33m.\u001b[0m\u001b[0munwrap\u001b[0m\u001b[1;33m(\u001b[0m\u001b[0mpython_func\u001b[0m\u001b[1;33m)\u001b[0m\u001b[1;33m\u001b[0m\u001b[1;33m\u001b[0m\u001b[0m\n\u001b[0;32m   1140\u001b[0m \u001b[1;33m\u001b[0m\u001b[0m\n\u001b[1;32m-> 1141\u001b[1;33m       \u001b[0mfunc_outputs\u001b[0m \u001b[1;33m=\u001b[0m \u001b[0mpython_func\u001b[0m\u001b[1;33m(\u001b[0m\u001b[1;33m*\u001b[0m\u001b[0mfunc_args\u001b[0m\u001b[1;33m,\u001b[0m \u001b[1;33m**\u001b[0m\u001b[0mfunc_kwargs\u001b[0m\u001b[1;33m)\u001b[0m\u001b[1;33m\u001b[0m\u001b[1;33m\u001b[0m\u001b[0m\n\u001b[0m\u001b[0;32m   1142\u001b[0m \u001b[1;33m\u001b[0m\u001b[0m\n\u001b[0;32m   1143\u001b[0m       \u001b[1;31m# invariant: `func_outputs` contains only Tensors, CompositeTensors,\u001b[0m\u001b[1;33m\u001b[0m\u001b[1;33m\u001b[0m\u001b[0m\n",
      "\u001b[1;32mc:\\Users\\itber\\anaconda3\\envs\\tf\\lib\\site-packages\\tensorflow\\python\\data\\ops\\structured_function.py\u001b[0m in \u001b[0;36mwrapped_fn\u001b[1;34m(*args)\u001b[0m\n\u001b[0;32m    246\u001b[0m           attributes=defun_kwargs)\n\u001b[0;32m    247\u001b[0m       \u001b[1;32mdef\u001b[0m \u001b[0mwrapped_fn\u001b[0m\u001b[1;33m(\u001b[0m\u001b[1;33m*\u001b[0m\u001b[0margs\u001b[0m\u001b[1;33m)\u001b[0m\u001b[1;33m:\u001b[0m  \u001b[1;31m# pylint: disable=missing-docstring\u001b[0m\u001b[1;33m\u001b[0m\u001b[1;33m\u001b[0m\u001b[0m\n\u001b[1;32m--> 248\u001b[1;33m         \u001b[0mret\u001b[0m \u001b[1;33m=\u001b[0m \u001b[0mwrapper_helper\u001b[0m\u001b[1;33m(\u001b[0m\u001b[1;33m*\u001b[0m\u001b[0margs\u001b[0m\u001b[1;33m)\u001b[0m\u001b[1;33m\u001b[0m\u001b[1;33m\u001b[0m\u001b[0m\n\u001b[0m\u001b[0;32m    249\u001b[0m         \u001b[0mret\u001b[0m \u001b[1;33m=\u001b[0m \u001b[0mstructure\u001b[0m\u001b[1;33m.\u001b[0m\u001b[0mto_tensor_list\u001b[0m\u001b[1;33m(\u001b[0m\u001b[0mself\u001b[0m\u001b[1;33m.\u001b[0m\u001b[0m_output_structure\u001b[0m\u001b[1;33m,\u001b[0m \u001b[0mret\u001b[0m\u001b[1;33m)\u001b[0m\u001b[1;33m\u001b[0m\u001b[1;33m\u001b[0m\u001b[0m\n\u001b[0;32m    250\u001b[0m         \u001b[1;32mreturn\u001b[0m \u001b[1;33m[\u001b[0m\u001b[0mops\u001b[0m\u001b[1;33m.\u001b[0m\u001b[0mconvert_to_tensor\u001b[0m\u001b[1;33m(\u001b[0m\u001b[0mt\u001b[0m\u001b[1;33m)\u001b[0m \u001b[1;32mfor\u001b[0m \u001b[0mt\u001b[0m \u001b[1;32min\u001b[0m \u001b[0mret\u001b[0m\u001b[1;33m]\u001b[0m\u001b[1;33m\u001b[0m\u001b[1;33m\u001b[0m\u001b[0m\n",
      "\u001b[1;32mc:\\Users\\itber\\anaconda3\\envs\\tf\\lib\\site-packages\\tensorflow\\python\\data\\ops\\structured_function.py\u001b[0m in \u001b[0;36mwrapper_helper\u001b[1;34m(*args)\u001b[0m\n\u001b[0;32m    175\u001b[0m       \u001b[1;32mif\u001b[0m \u001b[1;32mnot\u001b[0m \u001b[0m_should_unpack\u001b[0m\u001b[1;33m(\u001b[0m\u001b[0mnested_args\u001b[0m\u001b[1;33m)\u001b[0m\u001b[1;33m:\u001b[0m\u001b[1;33m\u001b[0m\u001b[1;33m\u001b[0m\u001b[0m\n\u001b[0;32m    176\u001b[0m         \u001b[0mnested_args\u001b[0m \u001b[1;33m=\u001b[0m \u001b[1;33m(\u001b[0m\u001b[0mnested_args\u001b[0m\u001b[1;33m,\u001b[0m\u001b[1;33m)\u001b[0m\u001b[1;33m\u001b[0m\u001b[1;33m\u001b[0m\u001b[0m\n\u001b[1;32m--> 177\u001b[1;33m       \u001b[0mret\u001b[0m \u001b[1;33m=\u001b[0m \u001b[0mautograph\u001b[0m\u001b[1;33m.\u001b[0m\u001b[0mtf_convert\u001b[0m\u001b[1;33m(\u001b[0m\u001b[0mself\u001b[0m\u001b[1;33m.\u001b[0m\u001b[0m_func\u001b[0m\u001b[1;33m,\u001b[0m \u001b[0mag_ctx\u001b[0m\u001b[1;33m)\u001b[0m\u001b[1;33m(\u001b[0m\u001b[1;33m*\u001b[0m\u001b[0mnested_args\u001b[0m\u001b[1;33m)\u001b[0m\u001b[1;33m\u001b[0m\u001b[1;33m\u001b[0m\u001b[0m\n\u001b[0m\u001b[0;32m    178\u001b[0m       \u001b[1;32mif\u001b[0m \u001b[0m_should_pack\u001b[0m\u001b[1;33m(\u001b[0m\u001b[0mret\u001b[0m\u001b[1;33m)\u001b[0m\u001b[1;33m:\u001b[0m\u001b[1;33m\u001b[0m\u001b[1;33m\u001b[0m\u001b[0m\n\u001b[0;32m    179\u001b[0m         \u001b[0mret\u001b[0m \u001b[1;33m=\u001b[0m \u001b[0mtuple\u001b[0m\u001b[1;33m(\u001b[0m\u001b[0mret\u001b[0m\u001b[1;33m)\u001b[0m\u001b[1;33m\u001b[0m\u001b[1;33m\u001b[0m\u001b[0m\n",
      "\u001b[1;32mc:\\Users\\itber\\anaconda3\\envs\\tf\\lib\\site-packages\\tensorflow\\python\\autograph\\impl\\api.py\u001b[0m in \u001b[0;36mwrapper\u001b[1;34m(*args, **kwargs)\u001b[0m\n\u001b[0;32m    687\u001b[0m       \u001b[1;32mtry\u001b[0m\u001b[1;33m:\u001b[0m\u001b[1;33m\u001b[0m\u001b[1;33m\u001b[0m\u001b[0m\n\u001b[0;32m    688\u001b[0m         \u001b[1;32mwith\u001b[0m \u001b[0mconversion_ctx\u001b[0m\u001b[1;33m:\u001b[0m\u001b[1;33m\u001b[0m\u001b[1;33m\u001b[0m\u001b[0m\n\u001b[1;32m--> 689\u001b[1;33m           \u001b[1;32mreturn\u001b[0m \u001b[0mconverted_call\u001b[0m\u001b[1;33m(\u001b[0m\u001b[0mf\u001b[0m\u001b[1;33m,\u001b[0m \u001b[0margs\u001b[0m\u001b[1;33m,\u001b[0m \u001b[0mkwargs\u001b[0m\u001b[1;33m,\u001b[0m \u001b[0moptions\u001b[0m\u001b[1;33m=\u001b[0m\u001b[0moptions\u001b[0m\u001b[1;33m)\u001b[0m\u001b[1;33m\u001b[0m\u001b[1;33m\u001b[0m\u001b[0m\n\u001b[0m\u001b[0;32m    690\u001b[0m       \u001b[1;32mexcept\u001b[0m \u001b[0mException\u001b[0m \u001b[1;32mas\u001b[0m \u001b[0me\u001b[0m\u001b[1;33m:\u001b[0m  \u001b[1;31m# pylint:disable=broad-except\u001b[0m\u001b[1;33m\u001b[0m\u001b[1;33m\u001b[0m\u001b[0m\n\u001b[0;32m    691\u001b[0m         \u001b[1;32mif\u001b[0m \u001b[0mhasattr\u001b[0m\u001b[1;33m(\u001b[0m\u001b[0me\u001b[0m\u001b[1;33m,\u001b[0m \u001b[1;34m'ag_error_metadata'\u001b[0m\u001b[1;33m)\u001b[0m\u001b[1;33m:\u001b[0m\u001b[1;33m\u001b[0m\u001b[1;33m\u001b[0m\u001b[0m\n",
      "\u001b[1;32mc:\\Users\\itber\\anaconda3\\envs\\tf\\lib\\site-packages\\tensorflow\\python\\autograph\\impl\\api.py\u001b[0m in \u001b[0;36mconverted_call\u001b[1;34m(f, args, kwargs, caller_fn_scope, options)\u001b[0m\n\u001b[0;32m    375\u001b[0m \u001b[1;33m\u001b[0m\u001b[0m\n\u001b[0;32m    376\u001b[0m   \u001b[1;32mif\u001b[0m \u001b[1;32mnot\u001b[0m \u001b[0moptions\u001b[0m\u001b[1;33m.\u001b[0m\u001b[0muser_requested\u001b[0m \u001b[1;32mand\u001b[0m \u001b[0mconversion\u001b[0m\u001b[1;33m.\u001b[0m\u001b[0mis_allowlisted\u001b[0m\u001b[1;33m(\u001b[0m\u001b[0mf\u001b[0m\u001b[1;33m)\u001b[0m\u001b[1;33m:\u001b[0m\u001b[1;33m\u001b[0m\u001b[1;33m\u001b[0m\u001b[0m\n\u001b[1;32m--> 377\u001b[1;33m     \u001b[1;32mreturn\u001b[0m \u001b[0m_call_unconverted\u001b[0m\u001b[1;33m(\u001b[0m\u001b[0mf\u001b[0m\u001b[1;33m,\u001b[0m \u001b[0margs\u001b[0m\u001b[1;33m,\u001b[0m \u001b[0mkwargs\u001b[0m\u001b[1;33m,\u001b[0m \u001b[0moptions\u001b[0m\u001b[1;33m)\u001b[0m\u001b[1;33m\u001b[0m\u001b[1;33m\u001b[0m\u001b[0m\n\u001b[0m\u001b[0;32m    378\u001b[0m \u001b[1;33m\u001b[0m\u001b[0m\n\u001b[0;32m    379\u001b[0m   \u001b[1;31m# internal_convert_user_code is for example turned off when issuing a dynamic\u001b[0m\u001b[1;33m\u001b[0m\u001b[1;33m\u001b[0m\u001b[0m\n",
      "\u001b[1;32mc:\\Users\\itber\\anaconda3\\envs\\tf\\lib\\site-packages\\tensorflow\\python\\autograph\\impl\\api.py\u001b[0m in \u001b[0;36m_call_unconverted\u001b[1;34m(f, args, kwargs, options, update_cache)\u001b[0m\n\u001b[0;32m    456\u001b[0m \u001b[1;33m\u001b[0m\u001b[0m\n\u001b[0;32m    457\u001b[0m   \u001b[1;32mif\u001b[0m \u001b[0mkwargs\u001b[0m \u001b[1;32mis\u001b[0m \u001b[1;32mnot\u001b[0m \u001b[1;32mNone\u001b[0m\u001b[1;33m:\u001b[0m\u001b[1;33m\u001b[0m\u001b[1;33m\u001b[0m\u001b[0m\n\u001b[1;32m--> 458\u001b[1;33m     \u001b[1;32mreturn\u001b[0m \u001b[0mf\u001b[0m\u001b[1;33m(\u001b[0m\u001b[1;33m*\u001b[0m\u001b[0margs\u001b[0m\u001b[1;33m,\u001b[0m \u001b[1;33m**\u001b[0m\u001b[0mkwargs\u001b[0m\u001b[1;33m)\u001b[0m\u001b[1;33m\u001b[0m\u001b[1;33m\u001b[0m\u001b[0m\n\u001b[0m\u001b[0;32m    459\u001b[0m   \u001b[1;32mreturn\u001b[0m \u001b[0mf\u001b[0m\u001b[1;33m(\u001b[0m\u001b[1;33m*\u001b[0m\u001b[0margs\u001b[0m\u001b[1;33m)\u001b[0m\u001b[1;33m\u001b[0m\u001b[1;33m\u001b[0m\u001b[0m\n\u001b[0;32m    460\u001b[0m \u001b[1;33m\u001b[0m\u001b[0m\n",
      "\u001b[1;32mc:\\Users\\itber\\anaconda3\\envs\\tf\\lib\\site-packages\\keras\\utils\\timeseries_dataset.py\u001b[0m in \u001b[0;36m<lambda>\u001b[1;34m(i, positions)\u001b[0m\n\u001b[0;32m    213\u001b[0m           lambda i, positions: tf.range(  # pylint: disable=g-long-lambda\n\u001b[0;32m    214\u001b[0m               \u001b[0mpositions\u001b[0m\u001b[1;33m[\u001b[0m\u001b[0mi\u001b[0m\u001b[1;33m]\u001b[0m\u001b[1;33m,\u001b[0m\u001b[1;33m\u001b[0m\u001b[1;33m\u001b[0m\u001b[0m\n\u001b[1;32m--> 215\u001b[1;33m               \u001b[0mpositions\u001b[0m\u001b[1;33m[\u001b[0m\u001b[0mi\u001b[0m\u001b[1;33m]\u001b[0m \u001b[1;33m+\u001b[0m \u001b[0msequence_length\u001b[0m \u001b[1;33m*\u001b[0m \u001b[0msampling_rate\u001b[0m\u001b[1;33m,\u001b[0m\u001b[1;33m\u001b[0m\u001b[1;33m\u001b[0m\u001b[0m\n\u001b[0m\u001b[0;32m    216\u001b[0m               sampling_rate),\n\u001b[0;32m    217\u001b[0m           num_parallel_calls=tf.data.AUTOTUNE)\n",
      "\u001b[1;32mc:\\Users\\itber\\anaconda3\\envs\\tf\\lib\\site-packages\\tensorflow\\python\\util\\traceback_utils.py\u001b[0m in \u001b[0;36merror_handler\u001b[1;34m(*args, **kwargs)\u001b[0m\n\u001b[0;32m    148\u001b[0m     \u001b[0mfiltered_tb\u001b[0m \u001b[1;33m=\u001b[0m \u001b[1;32mNone\u001b[0m\u001b[1;33m\u001b[0m\u001b[1;33m\u001b[0m\u001b[0m\n\u001b[0;32m    149\u001b[0m     \u001b[1;32mtry\u001b[0m\u001b[1;33m:\u001b[0m\u001b[1;33m\u001b[0m\u001b[1;33m\u001b[0m\u001b[0m\n\u001b[1;32m--> 150\u001b[1;33m       \u001b[1;32mreturn\u001b[0m \u001b[0mfn\u001b[0m\u001b[1;33m(\u001b[0m\u001b[1;33m*\u001b[0m\u001b[0margs\u001b[0m\u001b[1;33m,\u001b[0m \u001b[1;33m**\u001b[0m\u001b[0mkwargs\u001b[0m\u001b[1;33m)\u001b[0m\u001b[1;33m\u001b[0m\u001b[1;33m\u001b[0m\u001b[0m\n\u001b[0m\u001b[0;32m    151\u001b[0m     \u001b[1;32mexcept\u001b[0m \u001b[0mException\u001b[0m \u001b[1;32mas\u001b[0m \u001b[0me\u001b[0m\u001b[1;33m:\u001b[0m\u001b[1;33m\u001b[0m\u001b[1;33m\u001b[0m\u001b[0m\n\u001b[0;32m    152\u001b[0m       \u001b[0mfiltered_tb\u001b[0m \u001b[1;33m=\u001b[0m \u001b[0m_process_traceback_frames\u001b[0m\u001b[1;33m(\u001b[0m\u001b[0me\u001b[0m\u001b[1;33m.\u001b[0m\u001b[0m__traceback__\u001b[0m\u001b[1;33m)\u001b[0m\u001b[1;33m\u001b[0m\u001b[1;33m\u001b[0m\u001b[0m\n",
      "\u001b[1;32mc:\\Users\\itber\\anaconda3\\envs\\tf\\lib\\site-packages\\tensorflow\\python\\util\\dispatch.py\u001b[0m in \u001b[0;36mop_dispatch_handler\u001b[1;34m(*args, **kwargs)\u001b[0m\n\u001b[0;32m   1080\u001b[0m       \u001b[1;31m# Fallback dispatch system (dispatch v1):\u001b[0m\u001b[1;33m\u001b[0m\u001b[1;33m\u001b[0m\u001b[0m\n\u001b[0;32m   1081\u001b[0m       \u001b[1;32mtry\u001b[0m\u001b[1;33m:\u001b[0m\u001b[1;33m\u001b[0m\u001b[1;33m\u001b[0m\u001b[0m\n\u001b[1;32m-> 1082\u001b[1;33m         \u001b[1;32mreturn\u001b[0m \u001b[0mdispatch_target\u001b[0m\u001b[1;33m(\u001b[0m\u001b[1;33m*\u001b[0m\u001b[0margs\u001b[0m\u001b[1;33m,\u001b[0m \u001b[1;33m**\u001b[0m\u001b[0mkwargs\u001b[0m\u001b[1;33m)\u001b[0m\u001b[1;33m\u001b[0m\u001b[1;33m\u001b[0m\u001b[0m\n\u001b[0m\u001b[0;32m   1083\u001b[0m       \u001b[1;32mexcept\u001b[0m \u001b[1;33m(\u001b[0m\u001b[0mTypeError\u001b[0m\u001b[1;33m,\u001b[0m \u001b[0mValueError\u001b[0m\u001b[1;33m)\u001b[0m\u001b[1;33m:\u001b[0m\u001b[1;33m\u001b[0m\u001b[1;33m\u001b[0m\u001b[0m\n\u001b[0;32m   1084\u001b[0m         \u001b[1;31m# Note: convert_to_eager_tensor currently raises a ValueError, not a\u001b[0m\u001b[1;33m\u001b[0m\u001b[1;33m\u001b[0m\u001b[0m\n",
      "\u001b[1;32mc:\\Users\\itber\\anaconda3\\envs\\tf\\lib\\site-packages\\tensorflow\\python\\ops\\array_ops.py\u001b[0m in \u001b[0;36m_slice_helper\u001b[1;34m(tensor, slice_spec, var)\u001b[0m\n\u001b[0;32m   1095\u001b[0m       \u001b[0mvar_empty\u001b[0m \u001b[1;33m=\u001b[0m \u001b[0mconstant\u001b[0m\u001b[1;33m(\u001b[0m\u001b[1;33m[\u001b[0m\u001b[1;33m]\u001b[0m\u001b[1;33m,\u001b[0m \u001b[0mdtype\u001b[0m\u001b[1;33m=\u001b[0m\u001b[0mdtypes\u001b[0m\u001b[1;33m.\u001b[0m\u001b[0mint32\u001b[0m\u001b[1;33m)\u001b[0m\u001b[1;33m\u001b[0m\u001b[1;33m\u001b[0m\u001b[0m\n\u001b[0;32m   1096\u001b[0m       \u001b[0mpacked_begin\u001b[0m \u001b[1;33m=\u001b[0m \u001b[0mpacked_end\u001b[0m \u001b[1;33m=\u001b[0m \u001b[0mpacked_strides\u001b[0m \u001b[1;33m=\u001b[0m \u001b[0mvar_empty\u001b[0m\u001b[1;33m\u001b[0m\u001b[1;33m\u001b[0m\u001b[0m\n\u001b[1;32m-> 1097\u001b[1;33m     return strided_slice(\n\u001b[0m\u001b[0;32m   1098\u001b[0m         \u001b[0mtensor\u001b[0m\u001b[1;33m,\u001b[0m\u001b[1;33m\u001b[0m\u001b[1;33m\u001b[0m\u001b[0m\n\u001b[0;32m   1099\u001b[0m         \u001b[0mpacked_begin\u001b[0m\u001b[1;33m,\u001b[0m\u001b[1;33m\u001b[0m\u001b[1;33m\u001b[0m\u001b[0m\n",
      "\u001b[1;32mc:\\Users\\itber\\anaconda3\\envs\\tf\\lib\\site-packages\\tensorflow\\python\\util\\traceback_utils.py\u001b[0m in \u001b[0;36merror_handler\u001b[1;34m(*args, **kwargs)\u001b[0m\n\u001b[0;32m    148\u001b[0m     \u001b[0mfiltered_tb\u001b[0m \u001b[1;33m=\u001b[0m \u001b[1;32mNone\u001b[0m\u001b[1;33m\u001b[0m\u001b[1;33m\u001b[0m\u001b[0m\n\u001b[0;32m    149\u001b[0m     \u001b[1;32mtry\u001b[0m\u001b[1;33m:\u001b[0m\u001b[1;33m\u001b[0m\u001b[1;33m\u001b[0m\u001b[0m\n\u001b[1;32m--> 150\u001b[1;33m       \u001b[1;32mreturn\u001b[0m \u001b[0mfn\u001b[0m\u001b[1;33m(\u001b[0m\u001b[1;33m*\u001b[0m\u001b[0margs\u001b[0m\u001b[1;33m,\u001b[0m \u001b[1;33m**\u001b[0m\u001b[0mkwargs\u001b[0m\u001b[1;33m)\u001b[0m\u001b[1;33m\u001b[0m\u001b[1;33m\u001b[0m\u001b[0m\n\u001b[0m\u001b[0;32m    151\u001b[0m     \u001b[1;32mexcept\u001b[0m \u001b[0mException\u001b[0m \u001b[1;32mas\u001b[0m \u001b[0me\u001b[0m\u001b[1;33m:\u001b[0m\u001b[1;33m\u001b[0m\u001b[1;33m\u001b[0m\u001b[0m\n\u001b[0;32m    152\u001b[0m       \u001b[0mfiltered_tb\u001b[0m \u001b[1;33m=\u001b[0m \u001b[0m_process_traceback_frames\u001b[0m\u001b[1;33m(\u001b[0m\u001b[0me\u001b[0m\u001b[1;33m.\u001b[0m\u001b[0m__traceback__\u001b[0m\u001b[1;33m)\u001b[0m\u001b[1;33m\u001b[0m\u001b[1;33m\u001b[0m\u001b[0m\n",
      "\u001b[1;32mc:\\Users\\itber\\anaconda3\\envs\\tf\\lib\\site-packages\\tensorflow\\python\\util\\dispatch.py\u001b[0m in \u001b[0;36mop_dispatch_handler\u001b[1;34m(*args, **kwargs)\u001b[0m\n\u001b[0;32m   1080\u001b[0m       \u001b[1;31m# Fallback dispatch system (dispatch v1):\u001b[0m\u001b[1;33m\u001b[0m\u001b[1;33m\u001b[0m\u001b[0m\n\u001b[0;32m   1081\u001b[0m       \u001b[1;32mtry\u001b[0m\u001b[1;33m:\u001b[0m\u001b[1;33m\u001b[0m\u001b[1;33m\u001b[0m\u001b[0m\n\u001b[1;32m-> 1082\u001b[1;33m         \u001b[1;32mreturn\u001b[0m \u001b[0mdispatch_target\u001b[0m\u001b[1;33m(\u001b[0m\u001b[1;33m*\u001b[0m\u001b[0margs\u001b[0m\u001b[1;33m,\u001b[0m \u001b[1;33m**\u001b[0m\u001b[0mkwargs\u001b[0m\u001b[1;33m)\u001b[0m\u001b[1;33m\u001b[0m\u001b[1;33m\u001b[0m\u001b[0m\n\u001b[0m\u001b[0;32m   1083\u001b[0m       \u001b[1;32mexcept\u001b[0m \u001b[1;33m(\u001b[0m\u001b[0mTypeError\u001b[0m\u001b[1;33m,\u001b[0m \u001b[0mValueError\u001b[0m\u001b[1;33m)\u001b[0m\u001b[1;33m:\u001b[0m\u001b[1;33m\u001b[0m\u001b[1;33m\u001b[0m\u001b[0m\n\u001b[0;32m   1084\u001b[0m         \u001b[1;31m# Note: convert_to_eager_tensor currently raises a ValueError, not a\u001b[0m\u001b[1;33m\u001b[0m\u001b[1;33m\u001b[0m\u001b[0m\n",
      "\u001b[1;32mc:\\Users\\itber\\anaconda3\\envs\\tf\\lib\\site-packages\\tensorflow\\python\\ops\\array_ops.py\u001b[0m in \u001b[0;36mstrided_slice\u001b[1;34m(input_, begin, end, strides, begin_mask, end_mask, ellipsis_mask, new_axis_mask, shrink_axis_mask, var, name)\u001b[0m\n\u001b[0;32m   1268\u001b[0m     \u001b[0mstrides\u001b[0m \u001b[1;33m=\u001b[0m \u001b[0mones_like\u001b[0m\u001b[1;33m(\u001b[0m\u001b[0mbegin\u001b[0m\u001b[1;33m)\u001b[0m\u001b[1;33m\u001b[0m\u001b[1;33m\u001b[0m\u001b[0m\n\u001b[0;32m   1269\u001b[0m \u001b[1;33m\u001b[0m\u001b[0m\n\u001b[1;32m-> 1270\u001b[1;33m   op = gen_array_ops.strided_slice(\n\u001b[0m\u001b[0;32m   1271\u001b[0m       \u001b[0minput\u001b[0m\u001b[1;33m=\u001b[0m\u001b[0minput_\u001b[0m\u001b[1;33m,\u001b[0m\u001b[1;33m\u001b[0m\u001b[1;33m\u001b[0m\u001b[0m\n\u001b[0;32m   1272\u001b[0m       \u001b[0mbegin\u001b[0m\u001b[1;33m=\u001b[0m\u001b[0mbegin\u001b[0m\u001b[1;33m,\u001b[0m\u001b[1;33m\u001b[0m\u001b[1;33m\u001b[0m\u001b[0m\n",
      "\u001b[1;32mc:\\Users\\itber\\anaconda3\\envs\\tf\\lib\\site-packages\\tensorflow\\python\\ops\\gen_array_ops.py\u001b[0m in \u001b[0;36mstrided_slice\u001b[1;34m(input, begin, end, strides, begin_mask, end_mask, ellipsis_mask, new_axis_mask, shrink_axis_mask, name)\u001b[0m\n\u001b[0;32m  10695\u001b[0m     \u001b[0mshrink_axis_mask\u001b[0m \u001b[1;33m=\u001b[0m \u001b[1;36m0\u001b[0m\u001b[1;33m\u001b[0m\u001b[1;33m\u001b[0m\u001b[0m\n\u001b[0;32m  10696\u001b[0m   \u001b[0mshrink_axis_mask\u001b[0m \u001b[1;33m=\u001b[0m \u001b[0m_execute\u001b[0m\u001b[1;33m.\u001b[0m\u001b[0mmake_int\u001b[0m\u001b[1;33m(\u001b[0m\u001b[0mshrink_axis_mask\u001b[0m\u001b[1;33m,\u001b[0m \u001b[1;34m\"shrink_axis_mask\"\u001b[0m\u001b[1;33m)\u001b[0m\u001b[1;33m\u001b[0m\u001b[1;33m\u001b[0m\u001b[0m\n\u001b[1;32m> 10697\u001b[1;33m   _, _, _op, _outputs = _op_def_library._apply_op_helper(\n\u001b[0m\u001b[0;32m  10698\u001b[0m         \u001b[1;34m\"StridedSlice\"\u001b[0m\u001b[1;33m,\u001b[0m \u001b[0minput\u001b[0m\u001b[1;33m=\u001b[0m\u001b[0minput\u001b[0m\u001b[1;33m,\u001b[0m \u001b[0mbegin\u001b[0m\u001b[1;33m=\u001b[0m\u001b[0mbegin\u001b[0m\u001b[1;33m,\u001b[0m \u001b[0mend\u001b[0m\u001b[1;33m=\u001b[0m\u001b[0mend\u001b[0m\u001b[1;33m,\u001b[0m \u001b[0mstrides\u001b[0m\u001b[1;33m=\u001b[0m\u001b[0mstrides\u001b[0m\u001b[1;33m,\u001b[0m\u001b[1;33m\u001b[0m\u001b[1;33m\u001b[0m\u001b[0m\n\u001b[0;32m  10699\u001b[0m                         \u001b[0mbegin_mask\u001b[0m\u001b[1;33m=\u001b[0m\u001b[0mbegin_mask\u001b[0m\u001b[1;33m,\u001b[0m \u001b[0mend_mask\u001b[0m\u001b[1;33m=\u001b[0m\u001b[0mend_mask\u001b[0m\u001b[1;33m,\u001b[0m\u001b[1;33m\u001b[0m\u001b[1;33m\u001b[0m\u001b[0m\n",
      "\u001b[1;32mc:\\Users\\itber\\anaconda3\\envs\\tf\\lib\\site-packages\\tensorflow\\python\\framework\\op_def_library.py\u001b[0m in \u001b[0;36m_apply_op_helper\u001b[1;34m(op_type_name, name, **keywords)\u001b[0m\n\u001b[0;32m    795\u001b[0m       \u001b[1;31m# Add Op to graph\u001b[0m\u001b[1;33m\u001b[0m\u001b[1;33m\u001b[0m\u001b[0m\n\u001b[0;32m    796\u001b[0m       \u001b[1;31m# pylint: disable=protected-access\u001b[0m\u001b[1;33m\u001b[0m\u001b[1;33m\u001b[0m\u001b[0m\n\u001b[1;32m--> 797\u001b[1;33m       op = g._create_op_internal(op_type_name, inputs, dtypes=None,\n\u001b[0m\u001b[0;32m    798\u001b[0m                                  \u001b[0mname\u001b[0m\u001b[1;33m=\u001b[0m\u001b[0mscope\u001b[0m\u001b[1;33m,\u001b[0m \u001b[0minput_types\u001b[0m\u001b[1;33m=\u001b[0m\u001b[0minput_types\u001b[0m\u001b[1;33m,\u001b[0m\u001b[1;33m\u001b[0m\u001b[1;33m\u001b[0m\u001b[0m\n\u001b[0;32m    799\u001b[0m                                  attrs=attr_protos, op_def=op_def)\n",
      "\u001b[1;32mc:\\Users\\itber\\anaconda3\\envs\\tf\\lib\\site-packages\\tensorflow\\python\\framework\\func_graph.py\u001b[0m in \u001b[0;36m_create_op_internal\u001b[1;34m(self, op_type, inputs, dtypes, input_types, name, attrs, op_def, compute_device)\u001b[0m\n\u001b[0;32m    692\u001b[0m       \u001b[0minp\u001b[0m \u001b[1;33m=\u001b[0m \u001b[0mself\u001b[0m\u001b[1;33m.\u001b[0m\u001b[0mcapture\u001b[0m\u001b[1;33m(\u001b[0m\u001b[0minp\u001b[0m\u001b[1;33m)\u001b[0m\u001b[1;33m\u001b[0m\u001b[1;33m\u001b[0m\u001b[0m\n\u001b[0;32m    693\u001b[0m       \u001b[0mcaptured_inputs\u001b[0m\u001b[1;33m.\u001b[0m\u001b[0mappend\u001b[0m\u001b[1;33m(\u001b[0m\u001b[0minp\u001b[0m\u001b[1;33m)\u001b[0m\u001b[1;33m\u001b[0m\u001b[1;33m\u001b[0m\u001b[0m\n\u001b[1;32m--> 694\u001b[1;33m     return super(FuncGraph, self)._create_op_internal(  # pylint: disable=protected-access\n\u001b[0m\u001b[0;32m    695\u001b[0m         \u001b[0mop_type\u001b[0m\u001b[1;33m,\u001b[0m \u001b[0mcaptured_inputs\u001b[0m\u001b[1;33m,\u001b[0m \u001b[0mdtypes\u001b[0m\u001b[1;33m,\u001b[0m \u001b[0minput_types\u001b[0m\u001b[1;33m,\u001b[0m \u001b[0mname\u001b[0m\u001b[1;33m,\u001b[0m \u001b[0mattrs\u001b[0m\u001b[1;33m,\u001b[0m \u001b[0mop_def\u001b[0m\u001b[1;33m,\u001b[0m\u001b[1;33m\u001b[0m\u001b[1;33m\u001b[0m\u001b[0m\n\u001b[0;32m    696\u001b[0m         compute_device)\n",
      "\u001b[1;32mc:\\Users\\itber\\anaconda3\\envs\\tf\\lib\\site-packages\\tensorflow\\python\\framework\\ops.py\u001b[0m in \u001b[0;36m_create_op_internal\u001b[1;34m(self, op_type, inputs, dtypes, input_types, name, attrs, op_def, compute_device)\u001b[0m\n\u001b[0;32m   3752\u001b[0m     \u001b[1;31m# Session.run call cannot occur between creating and mutating the op.\u001b[0m\u001b[1;33m\u001b[0m\u001b[1;33m\u001b[0m\u001b[0m\n\u001b[0;32m   3753\u001b[0m     \u001b[1;32mwith\u001b[0m \u001b[0mself\u001b[0m\u001b[1;33m.\u001b[0m\u001b[0m_mutation_lock\u001b[0m\u001b[1;33m(\u001b[0m\u001b[1;33m)\u001b[0m\u001b[1;33m:\u001b[0m\u001b[1;33m\u001b[0m\u001b[1;33m\u001b[0m\u001b[0m\n\u001b[1;32m-> 3754\u001b[1;33m       ret = Operation(\n\u001b[0m\u001b[0;32m   3755\u001b[0m           \u001b[0mnode_def\u001b[0m\u001b[1;33m,\u001b[0m\u001b[1;33m\u001b[0m\u001b[1;33m\u001b[0m\u001b[0m\n\u001b[0;32m   3756\u001b[0m           \u001b[0mself\u001b[0m\u001b[1;33m,\u001b[0m\u001b[1;33m\u001b[0m\u001b[1;33m\u001b[0m\u001b[0m\n",
      "\u001b[1;32mc:\\Users\\itber\\anaconda3\\envs\\tf\\lib\\site-packages\\tensorflow\\python\\framework\\ops.py\u001b[0m in \u001b[0;36m__init__\u001b[1;34m(self, node_def, g, inputs, output_types, control_inputs, input_types, original_op, op_def)\u001b[0m\n\u001b[0;32m   2127\u001b[0m       \u001b[1;32mif\u001b[0m \u001b[0mop_def\u001b[0m \u001b[1;32mis\u001b[0m \u001b[1;32mNone\u001b[0m\u001b[1;33m:\u001b[0m\u001b[1;33m\u001b[0m\u001b[1;33m\u001b[0m\u001b[0m\n\u001b[0;32m   2128\u001b[0m         \u001b[0mop_def\u001b[0m \u001b[1;33m=\u001b[0m \u001b[0mself\u001b[0m\u001b[1;33m.\u001b[0m\u001b[0m_graph\u001b[0m\u001b[1;33m.\u001b[0m\u001b[0m_get_op_def\u001b[0m\u001b[1;33m(\u001b[0m\u001b[0mnode_def\u001b[0m\u001b[1;33m.\u001b[0m\u001b[0mop\u001b[0m\u001b[1;33m)\u001b[0m\u001b[1;33m\u001b[0m\u001b[1;33m\u001b[0m\u001b[0m\n\u001b[1;32m-> 2129\u001b[1;33m       self._c_op = _create_c_op(self._graph, node_def, inputs,\n\u001b[0m\u001b[0;32m   2130\u001b[0m                                 control_input_ops, op_def)\n\u001b[0;32m   2131\u001b[0m       \u001b[0mname\u001b[0m \u001b[1;33m=\u001b[0m \u001b[0mcompat\u001b[0m\u001b[1;33m.\u001b[0m\u001b[0mas_str\u001b[0m\u001b[1;33m(\u001b[0m\u001b[0mnode_def\u001b[0m\u001b[1;33m.\u001b[0m\u001b[0mname\u001b[0m\u001b[1;33m)\u001b[0m\u001b[1;33m\u001b[0m\u001b[1;33m\u001b[0m\u001b[0m\n",
      "\u001b[1;32mc:\\Users\\itber\\anaconda3\\envs\\tf\\lib\\site-packages\\tensorflow\\python\\util\\traceback_utils.py\u001b[0m in \u001b[0;36merror_handler\u001b[1;34m(*args, **kwargs)\u001b[0m\n\u001b[0;32m    148\u001b[0m     \u001b[0mfiltered_tb\u001b[0m \u001b[1;33m=\u001b[0m \u001b[1;32mNone\u001b[0m\u001b[1;33m\u001b[0m\u001b[1;33m\u001b[0m\u001b[0m\n\u001b[0;32m    149\u001b[0m     \u001b[1;32mtry\u001b[0m\u001b[1;33m:\u001b[0m\u001b[1;33m\u001b[0m\u001b[1;33m\u001b[0m\u001b[0m\n\u001b[1;32m--> 150\u001b[1;33m       \u001b[1;32mreturn\u001b[0m \u001b[0mfn\u001b[0m\u001b[1;33m(\u001b[0m\u001b[1;33m*\u001b[0m\u001b[0margs\u001b[0m\u001b[1;33m,\u001b[0m \u001b[1;33m**\u001b[0m\u001b[0mkwargs\u001b[0m\u001b[1;33m)\u001b[0m\u001b[1;33m\u001b[0m\u001b[1;33m\u001b[0m\u001b[0m\n\u001b[0m\u001b[0;32m    151\u001b[0m     \u001b[1;32mexcept\u001b[0m \u001b[0mException\u001b[0m \u001b[1;32mas\u001b[0m \u001b[0me\u001b[0m\u001b[1;33m:\u001b[0m\u001b[1;33m\u001b[0m\u001b[1;33m\u001b[0m\u001b[0m\n\u001b[0;32m    152\u001b[0m       \u001b[0mfiltered_tb\u001b[0m \u001b[1;33m=\u001b[0m \u001b[0m_process_traceback_frames\u001b[0m\u001b[1;33m(\u001b[0m\u001b[0me\u001b[0m\u001b[1;33m.\u001b[0m\u001b[0m__traceback__\u001b[0m\u001b[1;33m)\u001b[0m\u001b[1;33m\u001b[0m\u001b[1;33m\u001b[0m\u001b[0m\n",
      "\u001b[1;32mc:\\Users\\itber\\anaconda3\\envs\\tf\\lib\\site-packages\\tensorflow\\python\\framework\\ops.py\u001b[0m in \u001b[0;36m_create_c_op\u001b[1;34m(graph, node_def, inputs, control_inputs, op_def)\u001b[0m\n\u001b[0;32m   1958\u001b[0m \u001b[1;33m\u001b[0m\u001b[0m\n\u001b[0;32m   1959\u001b[0m   \u001b[1;32mtry\u001b[0m\u001b[1;33m:\u001b[0m\u001b[1;33m\u001b[0m\u001b[1;33m\u001b[0m\u001b[0m\n\u001b[1;32m-> 1960\u001b[1;33m     \u001b[0mc_op\u001b[0m \u001b[1;33m=\u001b[0m \u001b[0mpywrap_tf_session\u001b[0m\u001b[1;33m.\u001b[0m\u001b[0mTF_FinishOperation\u001b[0m\u001b[1;33m(\u001b[0m\u001b[0mop_desc\u001b[0m\u001b[1;33m)\u001b[0m\u001b[1;33m\u001b[0m\u001b[1;33m\u001b[0m\u001b[0m\n\u001b[0m\u001b[0;32m   1961\u001b[0m   \u001b[1;32mexcept\u001b[0m \u001b[0merrors\u001b[0m\u001b[1;33m.\u001b[0m\u001b[0mInvalidArgumentError\u001b[0m \u001b[1;32mas\u001b[0m \u001b[0me\u001b[0m\u001b[1;33m:\u001b[0m\u001b[1;33m\u001b[0m\u001b[1;33m\u001b[0m\u001b[0m\n\u001b[0;32m   1962\u001b[0m     \u001b[1;31m# Convert to ValueError for backwards compatibility.\u001b[0m\u001b[1;33m\u001b[0m\u001b[1;33m\u001b[0m\u001b[0m\n",
      "\u001b[1;31mKeyboardInterrupt\u001b[0m: "
     ]
    }
   ],
   "source": [
    "from sklearn.metrics import accuracy_score, matthews_corrcoef\n",
    "\n",
    "\n",
    "for name in split_dfs.keys():\n",
    "\n",
    "    train_preds, train_labels = get_label_preds(transformer_models[name], \n",
    "                                                window_gens[name].train, \n",
    "                                                threshold=0)\n",
    "    valid_preds, valid_labels = get_label_preds(transformer_models[name], \n",
    "                                                window_gens[name].valid, \n",
    "                                                threshold=0)\n",
    "\n",
    "    train_acc = accuracy_score(train_labels, # targets\n",
    "                               train_preds)  # predictions\n",
    "\n",
    "    train_mcc = matthews_corrcoef(train_labels, # targets\n",
    "                                  train_preds)  #  predictions\n",
    "\n",
    "    valid_acc = accuracy_score(valid_labels, # targets\n",
    "                               valid_preds)  # predictions\n",
    "\n",
    "    valid_mcc = matthews_corrcoef(valid_labels, # targets\n",
    "                                  valid_preds)  #  predictions\n",
    "\n",
    "\n",
    "    print(name, ' train acc: ', np.round(train_acc, 4), ' mcc: ', np.round(train_mcc, 4))\n",
    "    print(name, ' valid acc: ', np.round(valid_acc, 4), ' mcc: ', np.round(valid_mcc, 4))"
   ]
  },
  {
   "cell_type": "markdown",
   "metadata": {},
   "source": [
    "### Train the LSTM"
   ]
  },
  {
   "cell_type": "code",
   "execution_count": 22,
   "metadata": {},
   "outputs": [
    {
     "name": "stdout",
     "output_type": "stream",
     "text": [
      "Epoch 1/30\n",
      "1082/1082 [==============================] - 14s 11ms/step - loss: 0.3380 - sparse_categorical_accuracy: 0.5561 - mcc_metric: 0.3020 - val_loss: 0.3842 - val_sparse_categorical_accuracy: 0.5399 - val_mcc_metric: 0.3439\n",
      "Epoch 2/30\n",
      "1082/1082 [==============================] - 11s 10ms/step - loss: 0.3239 - sparse_categorical_accuracy: 0.5645 - mcc_metric: 0.3173 - val_loss: 0.3779 - val_sparse_categorical_accuracy: 0.5492 - val_mcc_metric: 0.3522\n",
      "Epoch 3/30\n",
      "1082/1082 [==============================] - 11s 10ms/step - loss: 0.3194 - sparse_categorical_accuracy: 0.5698 - mcc_metric: 0.3241 - val_loss: 0.3785 - val_sparse_categorical_accuracy: 0.5492 - val_mcc_metric: 0.3541\n",
      "Epoch 4/30\n",
      "1082/1082 [==============================] - 11s 10ms/step - loss: 0.3159 - sparse_categorical_accuracy: 0.5764 - mcc_metric: 0.3312 - val_loss: 0.3775 - val_sparse_categorical_accuracy: 0.5455 - val_mcc_metric: 0.3507\n",
      "Epoch 5/30\n",
      "1082/1082 [==============================] - 11s 10ms/step - loss: 0.3138 - sparse_categorical_accuracy: 0.5796 - mcc_metric: 0.3323 - val_loss: 0.3761 - val_sparse_categorical_accuracy: 0.5499 - val_mcc_metric: 0.3517\n",
      "Epoch 6/30\n",
      "1082/1082 [==============================] - 11s 10ms/step - loss: 0.3110 - sparse_categorical_accuracy: 0.5819 - mcc_metric: 0.3342 - val_loss: 0.3781 - val_sparse_categorical_accuracy: 0.5449 - val_mcc_metric: 0.3464\n",
      "Epoch 7/30\n",
      "1082/1082 [==============================] - 11s 10ms/step - loss: 0.3079 - sparse_categorical_accuracy: 0.5870 - mcc_metric: 0.3390 - val_loss: 0.3799 - val_sparse_categorical_accuracy: 0.5545 - val_mcc_metric: 0.3604\n",
      "Epoch 8/30\n",
      "1082/1082 [==============================] - 11s 10ms/step - loss: 0.3062 - sparse_categorical_accuracy: 0.5861 - mcc_metric: 0.3369 - val_loss: 0.3782 - val_sparse_categorical_accuracy: 0.5568 - val_mcc_metric: 0.3621\n",
      "Epoch 9/30\n",
      "1082/1082 [==============================] - 11s 10ms/step - loss: 0.3040 - sparse_categorical_accuracy: 0.5888 - mcc_metric: 0.3385 - val_loss: 0.3837 - val_sparse_categorical_accuracy: 0.5455 - val_mcc_metric: 0.3373\n",
      "Epoch 10/30\n",
      "1082/1082 [==============================] - 11s 10ms/step - loss: 0.3025 - sparse_categorical_accuracy: 0.5885 - mcc_metric: 0.3388 - val_loss: 0.3852 - val_sparse_categorical_accuracy: 0.5472 - val_mcc_metric: 0.3425\n",
      "Epoch 1/30\n",
      "1081/1081 [==============================] - 13s 11ms/step - loss: 0.3758 - sparse_categorical_accuracy: 0.5309 - mcc_metric: 0.2507 - val_loss: 0.3502 - val_sparse_categorical_accuracy: 0.5136 - val_mcc_metric: 0.3128\n",
      "Epoch 2/30\n",
      "1081/1081 [==============================] - 11s 10ms/step - loss: 0.3649 - sparse_categorical_accuracy: 0.5389 - mcc_metric: 0.2654 - val_loss: 0.3498 - val_sparse_categorical_accuracy: 0.5266 - val_mcc_metric: 0.3179\n",
      "Epoch 3/30\n",
      "1081/1081 [==============================] - 11s 10ms/step - loss: 0.3600 - sparse_categorical_accuracy: 0.5452 - mcc_metric: 0.2691 - val_loss: 0.3479 - val_sparse_categorical_accuracy: 0.5346 - val_mcc_metric: 0.3294\n",
      "Epoch 4/30\n",
      "1081/1081 [==============================] - 11s 10ms/step - loss: 0.3572 - sparse_categorical_accuracy: 0.5506 - mcc_metric: 0.2770 - val_loss: 0.3506 - val_sparse_categorical_accuracy: 0.5312 - val_mcc_metric: 0.3271\n",
      "Epoch 5/30\n",
      "1081/1081 [==============================] - 11s 10ms/step - loss: 0.3542 - sparse_categorical_accuracy: 0.5541 - mcc_metric: 0.2810 - val_loss: 0.3505 - val_sparse_categorical_accuracy: 0.5362 - val_mcc_metric: 0.3361\n",
      "Epoch 6/30\n",
      "1081/1081 [==============================] - 11s 10ms/step - loss: 0.3518 - sparse_categorical_accuracy: 0.5571 - mcc_metric: 0.2836 - val_loss: 0.3475 - val_sparse_categorical_accuracy: 0.5256 - val_mcc_metric: 0.3296\n",
      "Epoch 7/30\n",
      "1081/1081 [==============================] - 11s 10ms/step - loss: 0.3498 - sparse_categorical_accuracy: 0.5584 - mcc_metric: 0.2843 - val_loss: 0.3430 - val_sparse_categorical_accuracy: 0.5406 - val_mcc_metric: 0.3310\n",
      "Epoch 8/30\n",
      "1081/1081 [==============================] - 11s 10ms/step - loss: 0.3477 - sparse_categorical_accuracy: 0.5605 - mcc_metric: 0.2883 - val_loss: 0.3439 - val_sparse_categorical_accuracy: 0.5306 - val_mcc_metric: 0.3094\n",
      "Epoch 9/30\n",
      "1081/1081 [==============================] - 11s 10ms/step - loss: 0.3462 - sparse_categorical_accuracy: 0.5620 - mcc_metric: 0.2908 - val_loss: 0.3412 - val_sparse_categorical_accuracy: 0.5485 - val_mcc_metric: 0.3311\n",
      "Epoch 10/30\n",
      "1081/1081 [==============================] - 11s 10ms/step - loss: 0.3444 - sparse_categorical_accuracy: 0.5634 - mcc_metric: 0.2935 - val_loss: 0.3442 - val_sparse_categorical_accuracy: 0.5469 - val_mcc_metric: 0.3231\n",
      "Epoch 11/30\n",
      "1081/1081 [==============================] - 11s 10ms/step - loss: 0.3429 - sparse_categorical_accuracy: 0.5645 - mcc_metric: 0.2937 - val_loss: 0.3415 - val_sparse_categorical_accuracy: 0.5505 - val_mcc_metric: 0.3302\n",
      "Epoch 12/30\n",
      "1081/1081 [==============================] - 12s 11ms/step - loss: 0.3422 - sparse_categorical_accuracy: 0.5640 - mcc_metric: 0.2932 - val_loss: 0.3432 - val_sparse_categorical_accuracy: 0.5525 - val_mcc_metric: 0.3366\n",
      "Epoch 13/30\n",
      "1081/1081 [==============================] - 11s 10ms/step - loss: 0.3423 - sparse_categorical_accuracy: 0.5620 - mcc_metric: 0.2885 - val_loss: 0.3427 - val_sparse_categorical_accuracy: 0.5532 - val_mcc_metric: 0.3249\n",
      "Epoch 14/30\n",
      "1081/1081 [==============================] - 11s 10ms/step - loss: 0.3410 - sparse_categorical_accuracy: 0.5623 - mcc_metric: 0.2884 - val_loss: 0.3444 - val_sparse_categorical_accuracy: 0.5422 - val_mcc_metric: 0.3236\n",
      "Epoch 1/30\n",
      "1082/1082 [==============================] - 13s 11ms/step - loss: 0.3377 - sparse_categorical_accuracy: 0.5653 - mcc_metric: 0.2954 - val_loss: 0.3513 - val_sparse_categorical_accuracy: 0.5359 - val_mcc_metric: 0.3233\n",
      "Epoch 2/30\n",
      "1082/1082 [==============================] - 11s 10ms/step - loss: 0.3255 - sparse_categorical_accuracy: 0.5757 - mcc_metric: 0.3060 - val_loss: 0.3433 - val_sparse_categorical_accuracy: 0.5379 - val_mcc_metric: 0.3327\n",
      "Epoch 3/30\n",
      "1082/1082 [==============================] - 11s 10ms/step - loss: 0.3215 - sparse_categorical_accuracy: 0.5841 - mcc_metric: 0.3130 - val_loss: 0.3413 - val_sparse_categorical_accuracy: 0.5452 - val_mcc_metric: 0.3422\n",
      "Epoch 4/30\n",
      "1082/1082 [==============================] - 11s 10ms/step - loss: 0.3185 - sparse_categorical_accuracy: 0.5866 - mcc_metric: 0.3154 - val_loss: 0.3389 - val_sparse_categorical_accuracy: 0.5485 - val_mcc_metric: 0.3501\n",
      "Epoch 5/30\n",
      "1082/1082 [==============================] - 11s 10ms/step - loss: 0.3161 - sparse_categorical_accuracy: 0.5907 - mcc_metric: 0.3202 - val_loss: 0.3379 - val_sparse_categorical_accuracy: 0.5439 - val_mcc_metric: 0.3455\n",
      "Epoch 6/30\n",
      "1082/1082 [==============================] - 11s 10ms/step - loss: 0.3143 - sparse_categorical_accuracy: 0.5935 - mcc_metric: 0.3232 - val_loss: 0.3362 - val_sparse_categorical_accuracy: 0.5409 - val_mcc_metric: 0.3389\n",
      "Epoch 7/30\n",
      "1082/1082 [==============================] - 11s 10ms/step - loss: 0.3117 - sparse_categorical_accuracy: 0.5973 - mcc_metric: 0.3275 - val_loss: 0.3358 - val_sparse_categorical_accuracy: 0.5505 - val_mcc_metric: 0.3465\n",
      "Epoch 8/30\n",
      "1082/1082 [==============================] - 11s 10ms/step - loss: 0.3093 - sparse_categorical_accuracy: 0.5978 - mcc_metric: 0.3299 - val_loss: 0.3351 - val_sparse_categorical_accuracy: 0.5452 - val_mcc_metric: 0.3456\n",
      "Epoch 9/30\n",
      "1082/1082 [==============================] - 12s 11ms/step - loss: 0.3077 - sparse_categorical_accuracy: 0.5999 - mcc_metric: 0.3308 - val_loss: 0.3354 - val_sparse_categorical_accuracy: 0.5439 - val_mcc_metric: 0.3422\n",
      "Epoch 10/30\n",
      "1082/1082 [==============================] - 12s 11ms/step - loss: 0.3071 - sparse_categorical_accuracy: 0.5984 - mcc_metric: 0.3304 - val_loss: 0.3366 - val_sparse_categorical_accuracy: 0.5429 - val_mcc_metric: 0.3371\n",
      "Epoch 11/30\n",
      "1082/1082 [==============================] - 11s 10ms/step - loss: 0.3059 - sparse_categorical_accuracy: 0.6021 - mcc_metric: 0.3342 - val_loss: 0.3372 - val_sparse_categorical_accuracy: 0.5422 - val_mcc_metric: 0.3458\n",
      "Epoch 12/30\n",
      "1082/1082 [==============================] - 11s 10ms/step - loss: 0.3040 - sparse_categorical_accuracy: 0.6033 - mcc_metric: 0.3366 - val_loss: 0.3362 - val_sparse_categorical_accuracy: 0.5492 - val_mcc_metric: 0.3464\n",
      "Epoch 13/30\n",
      "1082/1082 [==============================] - 11s 10ms/step - loss: 0.3031 - sparse_categorical_accuracy: 0.6025 - mcc_metric: 0.3360 - val_loss: 0.3400 - val_sparse_categorical_accuracy: 0.5399 - val_mcc_metric: 0.3335\n",
      "Epoch 1/30\n",
      "1082/1082 [==============================] - 13s 11ms/step - loss: 0.3370 - sparse_categorical_accuracy: 0.5715 - mcc_metric: 0.2967 - val_loss: 0.3297 - val_sparse_categorical_accuracy: 0.5668 - val_mcc_metric: 0.3432\n",
      "Epoch 2/30\n",
      "1082/1082 [==============================] - 11s 10ms/step - loss: 0.3232 - sparse_categorical_accuracy: 0.5794 - mcc_metric: 0.3088 - val_loss: 0.3253 - val_sparse_categorical_accuracy: 0.5881 - val_mcc_metric: 0.3442\n",
      "Epoch 3/30\n",
      "1082/1082 [==============================] - 11s 10ms/step - loss: 0.3185 - sparse_categorical_accuracy: 0.5862 - mcc_metric: 0.3166 - val_loss: 0.3291 - val_sparse_categorical_accuracy: 0.6061 - val_mcc_metric: 0.3544\n",
      "Epoch 4/30\n",
      "1082/1082 [==============================] - 11s 10ms/step - loss: 0.3152 - sparse_categorical_accuracy: 0.5899 - mcc_metric: 0.3173 - val_loss: 0.3300 - val_sparse_categorical_accuracy: 0.6024 - val_mcc_metric: 0.3501\n",
      "Epoch 5/30\n",
      "1082/1082 [==============================] - 11s 10ms/step - loss: 0.3128 - sparse_categorical_accuracy: 0.5954 - mcc_metric: 0.3258 - val_loss: 0.3286 - val_sparse_categorical_accuracy: 0.5987 - val_mcc_metric: 0.3474\n",
      "Epoch 6/30\n",
      "1082/1082 [==============================] - 11s 10ms/step - loss: 0.3106 - sparse_categorical_accuracy: 0.5966 - mcc_metric: 0.3262 - val_loss: 0.3317 - val_sparse_categorical_accuracy: 0.5957 - val_mcc_metric: 0.3405\n",
      "Epoch 7/30\n",
      "1082/1082 [==============================] - 11s 10ms/step - loss: 0.3087 - sparse_categorical_accuracy: 0.5992 - mcc_metric: 0.3321 - val_loss: 0.3378 - val_sparse_categorical_accuracy: 0.5908 - val_mcc_metric: 0.3281\n"
     ]
    }
   ],
   "source": [
    "lstm_models = {}\n",
    "\n",
    "for name in single_gens.keys():\n",
    "\n",
    "    lstm_model = tf.keras.models.Sequential([\n",
    "        # Shape [batch, time, features] => [batch, time, lstm_units]\n",
    "        layers.LSTM(25, dropout=0.0),\n",
    "        # Shape => [batch, time, features]\n",
    "        layers.Dense(units=3, activation='softmax'),\n",
    "        layers.Reshape([1, -1])\n",
    "    ])\n",
    "\n",
    "    weights = get_class_weights(split_dfs, name)\n",
    "    history = compile_and_fit(lstm_model, window_gens[name], lr=0.01, max_epochs=30, \n",
    "                              patience=5, weights=weights)\n",
    "\n",
    "    lstm_models.update({name : lstm_model})\n",
    "    train_performance[f'lstm_{name}'] = lstm_model.evaluate(window_gens[name].train, verbose=False)\n",
    "    val_performance[f'lstm_{name}'] = lstm_model.evaluate(window_gens[name].valid, verbose=False)\n"
   ]
  },
  {
   "cell_type": "code",
   "execution_count": 24,
   "metadata": {},
   "outputs": [
    {
     "name": "stdout",
     "output_type": "stream",
     "text": [
      "AAPL  train acc:  0.4994  mcc:  0.3354\n",
      "AAPL  valid acc:  0.5472  mcc:  0.3562\n",
      "GOOG  train acc:  0.5423  mcc:  0.3103\n",
      "GOOG  valid acc:  0.5422  mcc:  0.3323\n",
      "QCOM  train acc:  0.5288  mcc:  0.3378\n",
      "QCOM  valid acc:  0.5399  mcc:  0.3485\n",
      "TSLA  train acc:  0.5914  mcc:  0.3492\n",
      "TSLA  valid acc:  0.5908  mcc:  0.3434\n"
     ]
    }
   ],
   "source": [
    "for name in split_dfs.keys():\n",
    "\n",
    "    train_preds, train_labels = get_label_preds(lstm_models[name], \n",
    "                                                window_gens[name].train, \n",
    "                                                threshold=0)\n",
    "    valid_preds, valid_labels = get_label_preds(lstm_models[name], \n",
    "                                                window_gens[name].valid, \n",
    "                                                threshold=0)\n",
    "\n",
    "    train_acc = accuracy_score(train_labels, # targets\n",
    "                               train_preds)  # predictions\n",
    "\n",
    "    train_mcc = matthews_corrcoef(train_labels, # targets\n",
    "                                  train_preds)  #  predictions\n",
    "\n",
    "    valid_acc = accuracy_score(valid_labels, # targets\n",
    "                               valid_preds)  # predictions\n",
    "\n",
    "    valid_mcc = matthews_corrcoef(valid_labels, # targets\n",
    "                                  valid_preds)  #  predictions\n",
    "\n",
    "\n",
    "    print(name, ' train acc: ', np.round(train_acc, 4), ' mcc: ', np.round(train_mcc, 4))\n",
    "    print(name, ' valid acc: ', np.round(valid_acc, 4), ' mcc: ', np.round(valid_mcc, 4))"
   ]
  },
  {
   "cell_type": "markdown",
   "metadata": {},
   "source": [
    "### Get Classification Performance"
   ]
  },
  {
   "cell_type": "markdown",
   "metadata": {},
   "source": [
    "Function to get the predictions and labels"
   ]
  },
  {
   "cell_type": "code",
   "execution_count": 115,
   "metadata": {},
   "outputs": [],
   "source": [
    "def get_label_preds(model, data_gen, threshold=0):\n",
    "    ''' Obtains truth labels and predictions for a model/data_gen pair '''\n",
    "    # get predictions\n",
    "    prediction_vectors = model.predict(data_gen)\n",
    "    predictions = tf.argmax(prediction_vectors, axis=-1)\n",
    "\n",
    "    # get labels\n",
    "    # labels = tf.concat([_labels for _, _labels, _ in data_gen], axis=0)\n",
    "    labels = tf.concat([_labels for _, _labels in data_gen], axis=0)\n",
    "    labels = tf.squeeze(labels, axis=-1)\n",
    "\n",
    "    if threshold > 0:\n",
    "        probs = tf.reduce_max(prediction_vectors, axis=-1)\n",
    "        locs = probs > threshold\n",
    "\n",
    "        predictions = predictions[locs]\n",
    "        labels = labels[locs]\n",
    "\n",
    "    return predictions, labels"
   ]
  },
  {
   "cell_type": "code",
   "execution_count": 116,
   "metadata": {},
   "outputs": [
    {
     "name": "stdout",
     "output_type": "stream",
     "text": [
      "2094/2094 [==============================] - 2s 1ms/step\n",
      "400/400 [==============================] - 0s 912us/step\n"
     ]
    }
   ],
   "source": [
    "base_train_preds, base_train_labels = get_label_preds(baseline, base_gen.train)\n",
    "base_valid_preds, base_valid_labels = get_label_preds(baseline, base_gen.valid)"
   ]
  },
  {
   "cell_type": "code",
   "execution_count": 118,
   "metadata": {},
   "outputs": [
    {
     "name": "stdout",
     "output_type": "stream",
     "text": [
      "2172/2172 [==============================] - 3s 1ms/step\n",
      "407/407 [==============================] - 1s 1ms/step\n"
     ]
    }
   ],
   "source": [
    "linear_train_preds, linear_train_labels = get_label_preds(linear, \n",
    "                                                          single_gens['AAPL'].train,\n",
    "                                                          threshold=0.)\n",
    "linear_valid_preds, linear_valid_labels = get_label_preds(linear, \n",
    "                                                          single_gens['AAPL'].valid,\n",
    "                                                          threshold=0.)"
   ]
  },
  {
   "cell_type": "code",
   "execution_count": 119,
   "metadata": {},
   "outputs": [
    {
     "data": {
      "text/plain": [
       "<tf.Tensor: shape=(3, 3), dtype=int32, numpy=\n",
       "array([[ 4817,  2797,  4374],\n",
       "       [ 9458, 21368, 14613],\n",
       "       [ 3955,  2719,  5392]])>"
      ]
     },
     "execution_count": 119,
     "metadata": {},
     "output_type": "execute_result"
    }
   ],
   "source": [
    "tf.math.confusion_matrix(tf.squeeze(linear_train_labels), linear_train_preds)"
   ]
  },
  {
   "cell_type": "code",
   "execution_count": 120,
   "metadata": {},
   "outputs": [
    {
     "data": {
      "text/plain": [
       "<tf.Tensor: shape=(3, 3), dtype=int32, numpy=\n",
       "array([[ 824,  736, 1345],\n",
       "       [1178, 3445, 2599],\n",
       "       [ 433,  745, 1710]])>"
      ]
     },
     "execution_count": 120,
     "metadata": {},
     "output_type": "execute_result"
    }
   ],
   "source": [
    "tf.math.confusion_matrix(tf.squeeze(linear_valid_labels), linear_valid_preds)"
   ]
  },
  {
   "cell_type": "code",
   "execution_count": 121,
   "metadata": {},
   "outputs": [
    {
     "name": "stdout",
     "output_type": "stream",
     "text": [
      "2171/2171 [==============================] - 9s 4ms/step\n",
      "406/406 [==============================] - 2s 4ms/step\n"
     ]
    }
   ],
   "source": [
    "xformer_train_preds, xformer_train_labels = get_label_preds(transformer_model, \n",
    "                                                            window_gens['AAPL'].train,\n",
    "                                                            threshold=0.)\n",
    "xformer_valid_preds, xformer_valid_labels = get_label_preds(transformer_model, \n",
    "                                                            window_gens['AAPL'].valid,\n",
    "                                                            threshold=0.)"
   ]
  },
  {
   "cell_type": "code",
   "execution_count": null,
   "metadata": {},
   "outputs": [],
   "source": [
    "tf.math.confusion_matrix(tf.squeeze(xformer_train_labels), xformer_train_preds)"
   ]
  },
  {
   "cell_type": "code",
   "execution_count": null,
   "metadata": {},
   "outputs": [],
   "source": [
    "tf.math.confusion_matrix(tf.squeeze(xformer_valid_labels), xformer_valid_preds)"
   ]
  },
  {
   "cell_type": "code",
   "execution_count": null,
   "metadata": {},
   "outputs": [],
   "source": [
    "lstm_train_preds, lstm_train_labels = get_label_preds(lstm_model, \n",
    "                                                      window_gens['AAPL'].train,\n",
    "                                                      threshold=0.)\n",
    "lstm_valid_preds, lstm_valid_labels = get_label_preds(lstm_model, \n",
    "                                                      window_gens['AAPL'].valid,\n",
    "                                                      threshold=0.)"
   ]
  }
 ],
 "metadata": {
  "kernelspec": {
   "display_name": "Python 3.9.12 ('tf')",
   "language": "python",
   "name": "python3"
  },
  "language_info": {
   "codemirror_mode": {
    "name": "ipython",
    "version": 3
   },
   "file_extension": ".py",
   "mimetype": "text/x-python",
   "name": "python",
   "nbconvert_exporter": "python",
   "pygments_lexer": "ipython3",
   "version": "3.9.12"
  },
  "orig_nbformat": 4,
  "vscode": {
   "interpreter": {
    "hash": "2b2da39daaaff30a84159e8452ba91acfc0bbd521fb66c6aa9941f847b87bd81"
   }
  }
 },
 "nbformat": 4,
 "nbformat_minor": 2
}
