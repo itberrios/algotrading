{
  "cells": [
    {
      "cell_type": "markdown",
      "metadata": {
        "id": "view-in-github",
        "colab_type": "text"
      },
      "source": [
        "<a href=\"https://colab.research.google.com/github/itberrios/algotrading/blob/main/predictive_analytics/naive_predictors.ipynb\" target=\"_parent\"><img src=\"https://colab.research.google.com/assets/colab-badge.svg\" alt=\"Open In Colab\"/></a>"
      ]
    },
    {
      "cell_type": "markdown",
      "metadata": {
        "id": "Lv4LxTQG96a6"
      },
      "source": [
        "# **Simple Predictors**\n",
        "\n",
        "In this notebook we will train and test some baseline models so we can get a sense of how well our main models need to perform. The models will predict price changes for a single lag.\n",
        "\n",
        "We will try:\n",
        "- Random Guessing \n",
        "- Predict trend based on previous price change\n"
      ]
    },
    {
      "cell_type": "markdown",
      "source": [
        "## Get Stock Data"
      ],
      "metadata": {
        "id": "AnP9iD5f-d5Q"
      }
    },
    {
      "cell_type": "code",
      "source": [
        "!git clone https://github.com/itberrios/algotrading"
      ],
      "metadata": {
        "id": "jp9WejVV-fTr"
      },
      "execution_count": null,
      "outputs": []
    },
    {
      "cell_type": "code",
      "execution_count": 22,
      "metadata": {
        "id": "vOGpFvPn96a_"
      },
      "outputs": [],
      "source": [
        "import os\n",
        "import numpy as np \n",
        "import pandas as pd\n",
        "import matplotlib.pyplot as plt\n",
        "\n",
        "\n",
        "def get_trading_times(df):\n",
        "    ''' Obtains a cleaned stock price DataFrame, with trading times ranging\n",
        "        from 9:45 - 4:00\n",
        "       '''\n",
        "    \n",
        "    # ensure that all trading times are sequential, pad missing data with NaNs\n",
        "    df = df.reindex(pd.date_range(df.index[0], df.index[-1], freq='15min'))\n",
        "       \n",
        "    # get regular trading times\n",
        "    dayofweek = df.index.dayofweek\n",
        "    hour = df.index.hour\n",
        "    minute = df.index.minute\n",
        "    \n",
        "    df = df.iloc[(dayofweek <= 4)                  # only get M-F\n",
        "                 & ~((hour == 9) & (minute < 45))  # remove less than 9:45\n",
        "                 & ((hour >= 9) & (hour <= 16))    # hours 9-16\n",
        "                 & ~((hour == 16) & (minute > 0))] # remove greater than 16:00\n",
        "    \n",
        "    # remove NaNs\n",
        "    df = df[~df.isna().all(axis=1)]\n",
        "    \n",
        "    return df"
      ]
    },
    {
      "cell_type": "code",
      "source": [
        "df = pd.read_csv(r'algotrading/data/raw/AAPL_15min.csv', index_col=0,\n",
        "                 parse_dates=True, infer_datetime_format=True)\n",
        "df = get_trading_times(df)"
      ],
      "metadata": {
        "id": "IMT4rvtS-X0f"
      },
      "execution_count": 23,
      "outputs": []
    },
    {
      "cell_type": "markdown",
      "source": [
        "Obtain the first year of data to use as training data"
      ],
      "metadata": {
        "id": "wsbEQyjM_VA5"
      }
    },
    {
      "cell_type": "code",
      "source": [
        "thresh = 0.1 # dollars\n",
        "df_train = df.loc['2020-10-01':'2021-10-01']\n",
        "df_train['price diff'] = df_train['close'].diff()\n",
        "df_train['price change'] = 1 # price stays the same\n",
        "df_train['price change'][df_train['price diff'] < -thresh] = 0 # downward price movement\n",
        "df_train['price change'][df_train['price diff'] > thresh] = 2 # upward prive movement\n",
        "\n",
        "df_train.dropna(inplace=True)"
      ],
      "metadata": {
        "id": "ygahLnPc-oiF"
      },
      "execution_count": null,
      "outputs": []
    },
    {
      "cell_type": "code",
      "source": [
        "df_train"
      ],
      "metadata": {
        "colab": {
          "base_uri": "https://localhost:8080/",
          "height": 424
        },
        "id": "DOtELrBNAPfY",
        "outputId": "27fc9536-e95c-4cb9-c177-fb79bd66a494"
      },
      "execution_count": 86,
      "outputs": [
        {
          "output_type": "execute_result",
          "data": {
            "text/plain": [
              "                           open        high         low       close  \\\n",
              "2020-10-01 10:00:00  115.560406  116.316284  114.774886  115.031785   \n",
              "2020-10-01 10:15:00  115.021905  115.585108  114.893455  115.268924   \n",
              "2020-10-01 10:30:00  115.268924  115.496181  115.031785  115.259142   \n",
              "2020-10-01 10:45:00  115.263983  115.624631  115.100951  115.417135   \n",
              "2020-10-01 11:00:00  115.417135  116.266880  115.120712  115.372474   \n",
              "...                         ...         ...         ...         ...   \n",
              "2021-10-01 15:00:00  140.981144  141.388862  140.951311  141.269530   \n",
              "2021-10-01 15:15:00  141.263265  141.614699  141.199920  141.587749   \n",
              "2021-10-01 15:30:00  141.592722  141.707082  141.408751  141.458473   \n",
              "2021-10-01 15:45:00  141.453501  141.687193  141.339141  141.687193   \n",
              "2021-10-01 16:00:00  141.687193  142.124745  141.110420  141.846303   \n",
              "\n",
              "                        volume  price diff  price change  \n",
              "2020-10-01 10:00:00  6590610.0   -0.528621             0  \n",
              "2020-10-01 10:15:00  6193580.0    0.237138             2  \n",
              "2020-10-01 10:30:00  3849310.0   -0.009782             1  \n",
              "2020-10-01 10:45:00  3933477.0    0.157993             2  \n",
              "2020-10-01 11:00:00  3369518.0   -0.044661             1  \n",
              "...                        ...         ...           ...  \n",
              "2021-10-01 15:00:00  2190037.0    0.293359             2  \n",
              "2021-10-01 15:15:00  2125178.0    0.318219             2  \n",
              "2021-10-01 15:30:00  2457091.0   -0.129277             0  \n",
              "2021-10-01 15:45:00  2557871.0    0.228720             2  \n",
              "2021-10-01 16:00:00  8319961.0    0.159110             2  \n",
              "\n",
              "[6555 rows x 7 columns]"
            ],
            "text/html": [
              "\n",
              "  <div id=\"df-64876952-4a61-4fc4-9593-aac3e51d091b\">\n",
              "    <div class=\"colab-df-container\">\n",
              "      <div>\n",
              "<style scoped>\n",
              "    .dataframe tbody tr th:only-of-type {\n",
              "        vertical-align: middle;\n",
              "    }\n",
              "\n",
              "    .dataframe tbody tr th {\n",
              "        vertical-align: top;\n",
              "    }\n",
              "\n",
              "    .dataframe thead th {\n",
              "        text-align: right;\n",
              "    }\n",
              "</style>\n",
              "<table border=\"1\" class=\"dataframe\">\n",
              "  <thead>\n",
              "    <tr style=\"text-align: right;\">\n",
              "      <th></th>\n",
              "      <th>open</th>\n",
              "      <th>high</th>\n",
              "      <th>low</th>\n",
              "      <th>close</th>\n",
              "      <th>volume</th>\n",
              "      <th>price diff</th>\n",
              "      <th>price change</th>\n",
              "    </tr>\n",
              "  </thead>\n",
              "  <tbody>\n",
              "    <tr>\n",
              "      <th>2020-10-01 10:00:00</th>\n",
              "      <td>115.560406</td>\n",
              "      <td>116.316284</td>\n",
              "      <td>114.774886</td>\n",
              "      <td>115.031785</td>\n",
              "      <td>6590610.0</td>\n",
              "      <td>-0.528621</td>\n",
              "      <td>0</td>\n",
              "    </tr>\n",
              "    <tr>\n",
              "      <th>2020-10-01 10:15:00</th>\n",
              "      <td>115.021905</td>\n",
              "      <td>115.585108</td>\n",
              "      <td>114.893455</td>\n",
              "      <td>115.268924</td>\n",
              "      <td>6193580.0</td>\n",
              "      <td>0.237138</td>\n",
              "      <td>2</td>\n",
              "    </tr>\n",
              "    <tr>\n",
              "      <th>2020-10-01 10:30:00</th>\n",
              "      <td>115.268924</td>\n",
              "      <td>115.496181</td>\n",
              "      <td>115.031785</td>\n",
              "      <td>115.259142</td>\n",
              "      <td>3849310.0</td>\n",
              "      <td>-0.009782</td>\n",
              "      <td>1</td>\n",
              "    </tr>\n",
              "    <tr>\n",
              "      <th>2020-10-01 10:45:00</th>\n",
              "      <td>115.263983</td>\n",
              "      <td>115.624631</td>\n",
              "      <td>115.100951</td>\n",
              "      <td>115.417135</td>\n",
              "      <td>3933477.0</td>\n",
              "      <td>0.157993</td>\n",
              "      <td>2</td>\n",
              "    </tr>\n",
              "    <tr>\n",
              "      <th>2020-10-01 11:00:00</th>\n",
              "      <td>115.417135</td>\n",
              "      <td>116.266880</td>\n",
              "      <td>115.120712</td>\n",
              "      <td>115.372474</td>\n",
              "      <td>3369518.0</td>\n",
              "      <td>-0.044661</td>\n",
              "      <td>1</td>\n",
              "    </tr>\n",
              "    <tr>\n",
              "      <th>...</th>\n",
              "      <td>...</td>\n",
              "      <td>...</td>\n",
              "      <td>...</td>\n",
              "      <td>...</td>\n",
              "      <td>...</td>\n",
              "      <td>...</td>\n",
              "      <td>...</td>\n",
              "    </tr>\n",
              "    <tr>\n",
              "      <th>2021-10-01 15:00:00</th>\n",
              "      <td>140.981144</td>\n",
              "      <td>141.388862</td>\n",
              "      <td>140.951311</td>\n",
              "      <td>141.269530</td>\n",
              "      <td>2190037.0</td>\n",
              "      <td>0.293359</td>\n",
              "      <td>2</td>\n",
              "    </tr>\n",
              "    <tr>\n",
              "      <th>2021-10-01 15:15:00</th>\n",
              "      <td>141.263265</td>\n",
              "      <td>141.614699</td>\n",
              "      <td>141.199920</td>\n",
              "      <td>141.587749</td>\n",
              "      <td>2125178.0</td>\n",
              "      <td>0.318219</td>\n",
              "      <td>2</td>\n",
              "    </tr>\n",
              "    <tr>\n",
              "      <th>2021-10-01 15:30:00</th>\n",
              "      <td>141.592722</td>\n",
              "      <td>141.707082</td>\n",
              "      <td>141.408751</td>\n",
              "      <td>141.458473</td>\n",
              "      <td>2457091.0</td>\n",
              "      <td>-0.129277</td>\n",
              "      <td>0</td>\n",
              "    </tr>\n",
              "    <tr>\n",
              "      <th>2021-10-01 15:45:00</th>\n",
              "      <td>141.453501</td>\n",
              "      <td>141.687193</td>\n",
              "      <td>141.339141</td>\n",
              "      <td>141.687193</td>\n",
              "      <td>2557871.0</td>\n",
              "      <td>0.228720</td>\n",
              "      <td>2</td>\n",
              "    </tr>\n",
              "    <tr>\n",
              "      <th>2021-10-01 16:00:00</th>\n",
              "      <td>141.687193</td>\n",
              "      <td>142.124745</td>\n",
              "      <td>141.110420</td>\n",
              "      <td>141.846303</td>\n",
              "      <td>8319961.0</td>\n",
              "      <td>0.159110</td>\n",
              "      <td>2</td>\n",
              "    </tr>\n",
              "  </tbody>\n",
              "</table>\n",
              "<p>6555 rows × 7 columns</p>\n",
              "</div>\n",
              "      <button class=\"colab-df-convert\" onclick=\"convertToInteractive('df-64876952-4a61-4fc4-9593-aac3e51d091b')\"\n",
              "              title=\"Convert this dataframe to an interactive table.\"\n",
              "              style=\"display:none;\">\n",
              "        \n",
              "  <svg xmlns=\"http://www.w3.org/2000/svg\" height=\"24px\"viewBox=\"0 0 24 24\"\n",
              "       width=\"24px\">\n",
              "    <path d=\"M0 0h24v24H0V0z\" fill=\"none\"/>\n",
              "    <path d=\"M18.56 5.44l.94 2.06.94-2.06 2.06-.94-2.06-.94-.94-2.06-.94 2.06-2.06.94zm-11 1L8.5 8.5l.94-2.06 2.06-.94-2.06-.94L8.5 2.5l-.94 2.06-2.06.94zm10 10l.94 2.06.94-2.06 2.06-.94-2.06-.94-.94-2.06-.94 2.06-2.06.94z\"/><path d=\"M17.41 7.96l-1.37-1.37c-.4-.4-.92-.59-1.43-.59-.52 0-1.04.2-1.43.59L10.3 9.45l-7.72 7.72c-.78.78-.78 2.05 0 2.83L4 21.41c.39.39.9.59 1.41.59.51 0 1.02-.2 1.41-.59l7.78-7.78 2.81-2.81c.8-.78.8-2.07 0-2.86zM5.41 20L4 18.59l7.72-7.72 1.47 1.35L5.41 20z\"/>\n",
              "  </svg>\n",
              "      </button>\n",
              "      \n",
              "  <style>\n",
              "    .colab-df-container {\n",
              "      display:flex;\n",
              "      flex-wrap:wrap;\n",
              "      gap: 12px;\n",
              "    }\n",
              "\n",
              "    .colab-df-convert {\n",
              "      background-color: #E8F0FE;\n",
              "      border: none;\n",
              "      border-radius: 50%;\n",
              "      cursor: pointer;\n",
              "      display: none;\n",
              "      fill: #1967D2;\n",
              "      height: 32px;\n",
              "      padding: 0 0 0 0;\n",
              "      width: 32px;\n",
              "    }\n",
              "\n",
              "    .colab-df-convert:hover {\n",
              "      background-color: #E2EBFA;\n",
              "      box-shadow: 0px 1px 2px rgba(60, 64, 67, 0.3), 0px 1px 3px 1px rgba(60, 64, 67, 0.15);\n",
              "      fill: #174EA6;\n",
              "    }\n",
              "\n",
              "    [theme=dark] .colab-df-convert {\n",
              "      background-color: #3B4455;\n",
              "      fill: #D2E3FC;\n",
              "    }\n",
              "\n",
              "    [theme=dark] .colab-df-convert:hover {\n",
              "      background-color: #434B5C;\n",
              "      box-shadow: 0px 1px 3px 1px rgba(0, 0, 0, 0.15);\n",
              "      filter: drop-shadow(0px 1px 2px rgba(0, 0, 0, 0.3));\n",
              "      fill: #FFFFFF;\n",
              "    }\n",
              "  </style>\n",
              "\n",
              "      <script>\n",
              "        const buttonEl =\n",
              "          document.querySelector('#df-64876952-4a61-4fc4-9593-aac3e51d091b button.colab-df-convert');\n",
              "        buttonEl.style.display =\n",
              "          google.colab.kernel.accessAllowed ? 'block' : 'none';\n",
              "\n",
              "        async function convertToInteractive(key) {\n",
              "          const element = document.querySelector('#df-64876952-4a61-4fc4-9593-aac3e51d091b');\n",
              "          const dataTable =\n",
              "            await google.colab.kernel.invokeFunction('convertToInteractive',\n",
              "                                                     [key], {});\n",
              "          if (!dataTable) return;\n",
              "\n",
              "          const docLinkHtml = 'Like what you see? Visit the ' +\n",
              "            '<a target=\"_blank\" href=https://colab.research.google.com/notebooks/data_table.ipynb>data table notebook</a>'\n",
              "            + ' to learn more about interactive tables.';\n",
              "          element.innerHTML = '';\n",
              "          dataTable['output_type'] = 'display_data';\n",
              "          await google.colab.output.renderOutput(dataTable, element);\n",
              "          const docLink = document.createElement('div');\n",
              "          docLink.innerHTML = docLinkHtml;\n",
              "          element.appendChild(docLink);\n",
              "        }\n",
              "      </script>\n",
              "    </div>\n",
              "  </div>\n",
              "  "
            ]
          },
          "metadata": {},
          "execution_count": 86
        }
      ]
    },
    {
      "cell_type": "code",
      "source": [
        "df_train['price diff'].hist(bins=100)"
      ],
      "metadata": {
        "colab": {
          "base_uri": "https://localhost:8080/",
          "height": 282
        },
        "id": "xycb3Hbp-qAD",
        "outputId": "7c5681eb-e710-43ae-d333-ab7ebc1edfda"
      },
      "execution_count": 87,
      "outputs": [
        {
          "output_type": "execute_result",
          "data": {
            "text/plain": [
              "<matplotlib.axes._subplots.AxesSubplot at 0x7f32ab04c550>"
            ]
          },
          "metadata": {},
          "execution_count": 87
        },
        {
          "output_type": "display_data",
          "data": {
            "text/plain": [
              "<Figure size 432x288 with 1 Axes>"
            ],
            "image/png": "[encoded data removed]"
          },
          "metadata": {
            "needs_background": "light"
          }
        }
      ]
    },
    {
      "cell_type": "code",
      "source": [
        "df_train['price change'].value_counts()"
      ],
      "metadata": {
        "colab": {
          "base_uri": "https://localhost:8080/"
        },
        "id": "cfNRrnUuATF9",
        "outputId": "9fba5f23-d028-42bc-8ef3-c2e297140550"
      },
      "execution_count": 88,
      "outputs": [
        {
          "output_type": "execute_result",
          "data": {
            "text/plain": [
              "2    2264\n",
              "0    2234\n",
              "1    2057\n",
              "Name: price change, dtype: int64"
            ]
          },
          "metadata": {},
          "execution_count": 88
        }
      ]
    },
    {
      "cell_type": "markdown",
      "source": [
        "## **Random Guessing**\n",
        "\n",
        "Since we have a roughly even amount of values in each class, this should acheive roughly 33% accuracy"
      ],
      "metadata": {
        "id": "ZmaahKu9Chpf"
      }
    },
    {
      "cell_type": "code",
      "source": [
        "from sklearn.metrics import accuracy_score\n",
        "\n",
        "y = df_train['price change'].to_numpy()\n",
        "y_hat = np.random.randint(0, 3, len(df_train))\n",
        "\n",
        "accuracy_score(y, y_hat).round(4)"
      ],
      "metadata": {
        "colab": {
          "base_uri": "https://localhost:8080/"
        },
        "id": "-k_3iYV6ChWv",
        "outputId": "06b32006-f290-4eba-dcb7-d3678ce82468"
      },
      "execution_count": 141,
      "outputs": [
        {
          "output_type": "execute_result",
          "data": {
            "text/plain": [
              "0.3385"
            ]
          },
          "metadata": {},
          "execution_count": 141
        }
      ]
    },
    {
      "cell_type": "markdown",
      "source": [
        "## **Use previous price change to predict future price change**"
      ],
      "metadata": {
        "id": "BoASLNGdFFkM"
      }
    },
    {
      "cell_type": "code",
      "source": [
        "y_hat = df_train['price change'].shift(1).to_numpy()\n",
        "\n",
        "accuracy_score(y[1:], y_hat[1:]).round(4)"
      ],
      "metadata": {
        "colab": {
          "base_uri": "https://localhost:8080/"
        },
        "id": "VDvuDqY3FUqZ",
        "outputId": "6589e660-92c5-40b1-8267-c368e6878e7b"
      },
      "execution_count": 142,
      "outputs": [
        {
          "output_type": "execute_result",
          "data": {
            "text/plain": [
              "0.3546"
            ]
          },
          "metadata": {},
          "execution_count": 142
        }
      ]
    },
    {
      "cell_type": "markdown",
      "source": [
        "Under the assumption that the classes are not heavily imbalanced we may be able to say that a 35% accuracy is the minimum for a trained model."
      ],
      "metadata": {
        "id": "PHfl1y-9FyFM"
      }
    }
  ],
  "metadata": {
    "kernelspec": {
      "display_name": "Python 3.8.12 ('base')",
      "language": "python",
      "name": "python3"
    },
    "language_info": {
      "codemirror_mode": {
        "name": "ipython",
        "version": 3
      },
      "file_extension": ".py",
      "mimetype": "text/x-python",
      "name": "python",
      "nbconvert_exporter": "python",
      "pygments_lexer": "ipython3",
      "version": "3.8.12"
    },
    "orig_nbformat": 4,
    "vscode": {
      "interpreter": {
        "hash": "6c3515861ec4313dacaa20b0eec5bf326e6557b6589b7b6a4fe3c8baa566747d"
      }
    },
    "colab": {
      "provenance": [],
      "include_colab_link": true
    }
  },
  "nbformat": 4,
  "nbformat_minor": 0
}