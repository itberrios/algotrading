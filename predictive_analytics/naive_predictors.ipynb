{
 "cells": [
  {
   "cell_type": "markdown",
   "metadata": {},
   "source": [
    "# **How to upload files into a notebook in Colab**\n",
    "\n",
    "In this quick tutorial we will review two use cases of '!wget' that will make using Colab much easier for your projects. In a Colab notebook you can use commandline arguments in a cell if you prepend them with a '!'"
   ]
  },
  {
   "cell_type": "markdown",
   "metadata": {},
   "source": [
    "The first use case is to upload helper/utils scripts from github. With a utils script your notbook won't be cluttered with functions that are not directly insightful for your project. There is no need to upload an entire repository, we can use it by calling '!wget' followed by the direct path to the file that we want"
   ]
  },
  {
   "cell_type": "code",
   "execution_count": 1,
   "metadata": {},
   "outputs": [],
   "source": [
    "# !wget https://raw.githubusercontent.com/ASAROVA/complejos/main/complejos.py\n",
    "# from complejos import *"
   ]
  },
  {
   "cell_type": "markdown",
   "metadata": {},
   "source": [
    "The next use case is to obtain data for our projects. This is particulary useful since it automates a tideaous proces of manually downloading data and manualy uploading it. Even if we [mount the google drive] (add link) we still need to download the data and place it in our google drive. \n",
    "\n",
    "This method works well for smaller dataset, I've had good experiances with datasets up to a ~3GB. If your dataset is particularly large this may work, but there could be better options. To get the datalink, just rightclick the button to download and copy the link path."
   ]
  },
  {
   "cell_type": "code",
   "execution_count": null,
   "metadata": {},
   "outputs": [],
   "source": [
    "!wget"
   ]
  },
  {
   "cell_type": "markdown",
   "metadata": {},
   "source": [
    "Then we just unzip the fiels and place them where we want. This usually takes a couple of minutes total to donwload and unzip, and it is much faster than manually downloading it."
   ]
  },
  {
   "cell_type": "markdown",
   "metadata": {},
   "source": []
  },
  {
   "cell_type": "code",
   "execution_count": null,
   "metadata": {},
   "outputs": [],
   "source": []
  }
 ],
 "metadata": {
  "kernelspec": {
   "display_name": "Python 3.8.12 ('base')",
   "language": "python",
   "name": "python3"
  },
  "language_info": {
   "codemirror_mode": {
    "name": "ipython",
    "version": 3
   },
   "file_extension": ".py",
   "mimetype": "text/x-python",
   "name": "python",
   "nbconvert_exporter": "python",
   "pygments_lexer": "ipython3",
   "version": "3.8.12"
  },
  "orig_nbformat": 4,
  "vscode": {
   "interpreter": {
    "hash": "6c3515861ec4313dacaa20b0eec5bf326e6557b6589b7b6a4fe3c8baa566747d"
   }
  }
 },
 "nbformat": 4,
 "nbformat_minor": 2
}
