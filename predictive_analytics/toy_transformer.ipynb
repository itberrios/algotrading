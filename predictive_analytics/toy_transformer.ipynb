{
 "cells": [
  {
   "cell_type": "markdown",
   "metadata": {},
   "source": [
    "# **Toy Transformer for Time Series Regression**\n",
    "\n",
    "In this notebook we will build a toy transformer for time series regression on 15min Stock Price data."
   ]
  },
  {
   "cell_type": "markdown",
   "metadata": {},
   "source": [
    "#### Library Import"
   ]
  },
  {
   "cell_type": "code",
   "execution_count": 1,
   "metadata": {},
   "outputs": [],
   "source": [
    "import os\n",
    "import sys\n",
    "import numpy as np\n",
    "import pandas as pd\n",
    "import pandas_ta as ta\n",
    "import matplotlib.pyplot as plt\n",
    "\n",
    "plt.rcParams[\"figure.figsize\"] = (20, 10)\n",
    "%matplotlib inline"
   ]
  },
  {
   "cell_type": "markdown",
   "metadata": {},
   "source": [
    "Local imports"
   ]
  },
  {
   "cell_type": "code",
   "execution_count": 2,
   "metadata": {},
   "outputs": [],
   "source": [
    "# for python scripts use: \"os.path.dirname(__file__)\" instead of \"os.path.abspath('')\"\n",
    "sys.path.append(\n",
    "    os.path.abspath(os.path.join(os.path.abspath(''), os.path.pardir)))\n",
    "\n",
    "from data_clean import get_trading_times"
   ]
  },
  {
   "cell_type": "markdown",
   "metadata": {},
   "source": [
    "### Get the data\n",
    "\n",
    "Split into train, validation and test sets"
   ]
  },
  {
   "cell_type": "code",
   "execution_count": 92,
   "metadata": {},
   "outputs": [
    {
     "name": "stderr",
     "output_type": "stream",
     "text": [
      "c:\\Users\\itber\\anaconda3\\envs\\tf\\lib\\site-packages\\pandas\\core\\indexes\\base.py:920: RuntimeWarning: invalid value encountered in sin\n",
      "  result = getattr(ufunc, method)(*new_inputs, **kwargs)\n",
      "c:\\Users\\itber\\anaconda3\\envs\\tf\\lib\\site-packages\\pandas\\core\\indexes\\base.py:920: RuntimeWarning: invalid value encountered in cos\n",
      "  result = getattr(ufunc, method)(*new_inputs, **kwargs)\n",
      "c:\\Users\\itber\\anaconda3\\envs\\tf\\lib\\site-packages\\pandas\\core\\indexes\\base.py:920: RuntimeWarning: invalid value encountered in sin\n",
      "  result = getattr(ufunc, method)(*new_inputs, **kwargs)\n",
      "c:\\Users\\itber\\anaconda3\\envs\\tf\\lib\\site-packages\\pandas\\core\\indexes\\base.py:920: RuntimeWarning: invalid value encountered in cos\n",
      "  result = getattr(ufunc, method)(*new_inputs, **kwargs)\n"
     ]
    },
    {
     "data": {
      "text/html": [
       "<div>\n",
       "<style scoped>\n",
       "    .dataframe tbody tr th:only-of-type {\n",
       "        vertical-align: middle;\n",
       "    }\n",
       "\n",
       "    .dataframe tbody tr th {\n",
       "        vertical-align: top;\n",
       "    }\n",
       "\n",
       "    .dataframe thead th {\n",
       "        text-align: right;\n",
       "    }\n",
       "</style>\n",
       "<table border=\"1\" class=\"dataframe\">\n",
       "  <thead>\n",
       "    <tr style=\"text-align: right;\">\n",
       "      <th></th>\n",
       "      <th>open</th>\n",
       "      <th>high</th>\n",
       "      <th>low</th>\n",
       "      <th>close</th>\n",
       "      <th>volume</th>\n",
       "      <th>sin_day</th>\n",
       "      <th>cos_day</th>\n",
       "      <th>sin_hour</th>\n",
       "      <th>cos_hour</th>\n",
       "      <th>sin_minute</th>\n",
       "      <th>cos_minute</th>\n",
       "    </tr>\n",
       "    <tr>\n",
       "      <th>time</th>\n",
       "      <th></th>\n",
       "      <th></th>\n",
       "      <th></th>\n",
       "      <th></th>\n",
       "      <th></th>\n",
       "      <th></th>\n",
       "      <th></th>\n",
       "      <th></th>\n",
       "      <th></th>\n",
       "      <th></th>\n",
       "      <th></th>\n",
       "    </tr>\n",
       "  </thead>\n",
       "  <tbody>\n",
       "    <tr>\n",
       "      <th>2020-10-01 04:15:00</th>\n",
       "      <td>115.318327</td>\n",
       "      <td>115.693796</td>\n",
       "      <td>115.318327</td>\n",
       "      <td>115.614750</td>\n",
       "      <td>21768.0</td>\n",
       "      <td>0.866025</td>\n",
       "      <td>-0.5</td>\n",
       "      <td>1.000000</td>\n",
       "      <td>6.123234e-17</td>\n",
       "      <td>0.406737</td>\n",
       "      <td>0.913545</td>\n",
       "    </tr>\n",
       "    <tr>\n",
       "      <th>2020-10-01 04:30:00</th>\n",
       "      <td>115.634512</td>\n",
       "      <td>115.792604</td>\n",
       "      <td>115.407254</td>\n",
       "      <td>115.407254</td>\n",
       "      <td>13550.0</td>\n",
       "      <td>0.866025</td>\n",
       "      <td>-0.5</td>\n",
       "      <td>1.000000</td>\n",
       "      <td>6.123234e-17</td>\n",
       "      <td>0.207912</td>\n",
       "      <td>0.978148</td>\n",
       "    </tr>\n",
       "    <tr>\n",
       "      <th>2020-10-01 04:45:00</th>\n",
       "      <td>115.367731</td>\n",
       "      <td>115.367731</td>\n",
       "      <td>115.120712</td>\n",
       "      <td>115.308447</td>\n",
       "      <td>12857.0</td>\n",
       "      <td>0.866025</td>\n",
       "      <td>-0.5</td>\n",
       "      <td>1.000000</td>\n",
       "      <td>6.123234e-17</td>\n",
       "      <td>0.139173</td>\n",
       "      <td>0.990268</td>\n",
       "    </tr>\n",
       "    <tr>\n",
       "      <th>2020-10-01 05:00:00</th>\n",
       "      <td>115.308447</td>\n",
       "      <td>115.397374</td>\n",
       "      <td>115.298566</td>\n",
       "      <td>115.318327</td>\n",
       "      <td>10079.0</td>\n",
       "      <td>0.866025</td>\n",
       "      <td>-0.5</td>\n",
       "      <td>0.951057</td>\n",
       "      <td>3.090170e-01</td>\n",
       "      <td>NaN</td>\n",
       "      <td>NaN</td>\n",
       "    </tr>\n",
       "    <tr>\n",
       "      <th>2020-10-01 05:15:00</th>\n",
       "      <td>115.417135</td>\n",
       "      <td>115.604869</td>\n",
       "      <td>115.377612</td>\n",
       "      <td>115.604869</td>\n",
       "      <td>3534.0</td>\n",
       "      <td>0.866025</td>\n",
       "      <td>-0.5</td>\n",
       "      <td>0.951057</td>\n",
       "      <td>3.090170e-01</td>\n",
       "      <td>0.406737</td>\n",
       "      <td>0.913545</td>\n",
       "    </tr>\n",
       "  </tbody>\n",
       "</table>\n",
       "</div>"
      ],
      "text/plain": [
       "                           open        high         low       close   volume  \\\n",
       "time                                                                           \n",
       "2020-10-01 04:15:00  115.318327  115.693796  115.318327  115.614750  21768.0   \n",
       "2020-10-01 04:30:00  115.634512  115.792604  115.407254  115.407254  13550.0   \n",
       "2020-10-01 04:45:00  115.367731  115.367731  115.120712  115.308447  12857.0   \n",
       "2020-10-01 05:00:00  115.308447  115.397374  115.298566  115.318327  10079.0   \n",
       "2020-10-01 05:15:00  115.417135  115.604869  115.377612  115.604869   3534.0   \n",
       "\n",
       "                      sin_day  cos_day  sin_hour      cos_hour  sin_minute  \\\n",
       "time                                                                         \n",
       "2020-10-01 04:15:00  0.866025     -0.5  1.000000  6.123234e-17    0.406737   \n",
       "2020-10-01 04:30:00  0.866025     -0.5  1.000000  6.123234e-17    0.207912   \n",
       "2020-10-01 04:45:00  0.866025     -0.5  1.000000  6.123234e-17    0.139173   \n",
       "2020-10-01 05:00:00  0.866025     -0.5  0.951057  3.090170e-01         NaN   \n",
       "2020-10-01 05:15:00  0.866025     -0.5  0.951057  3.090170e-01    0.406737   \n",
       "\n",
       "                     cos_minute  \n",
       "time                             \n",
       "2020-10-01 04:15:00    0.913545  \n",
       "2020-10-01 04:30:00    0.978148  \n",
       "2020-10-01 04:45:00    0.990268  \n",
       "2020-10-01 05:00:00         NaN  \n",
       "2020-10-01 05:15:00    0.913545  "
      ]
     },
     "execution_count": 92,
     "metadata": {},
     "output_type": "execute_result"
    }
   ],
   "source": [
    "data_path = r'..\\data\\raw\\AAPL_15min.csv'\n",
    "df = pd.read_csv(data_path, index_col=0, \n",
    "                 parse_dates=True, infer_datetime_format=True)\n",
    "\n",
    "# df = get_trading_times(df)\n",
    "df = df.dropna()\n",
    "\n",
    "# add days, hours, and minutes to the dataset\n",
    "dayofweek = df.index.dayofweek\n",
    "hour = df.index.hour\n",
    "minute = df.index.minute\n",
    "\n",
    "# encode the days, hours, and minutes with sin and cos functions\n",
    "days_in_week = 7\n",
    "hours_in_day = 24\n",
    "minutes_in_hour = 60\n",
    "\n",
    "\n",
    "df['sin_day'] = np.sin(2*np.pi/dayofweek)\n",
    "df['cos_day'] = np.cos(2*np.pi/dayofweek)\n",
    "df['sin_hour'] = np.sin(2*np.pi/hour)\n",
    "df['cos_hour'] = np.cos(2*np.pi/hour)\n",
    "df['sin_minute'] = np.sin(2*np.pi/minute)\n",
    "df['cos_minute'] = np.cos(2*np.pi/minute)\n",
    "\n",
    "df.head()"
   ]
  },
  {
   "cell_type": "markdown",
   "metadata": {},
   "source": [
    "### Add target columns\n",
    "We will add a column for price change at each interval, this will be our regression target variable. We will also add another column that quantifys the magnitude of the price change, this will be out target variable for classification."
   ]
  },
  {
   "cell_type": "code",
   "execution_count": 93,
   "metadata": {},
   "outputs": [],
   "source": [
    "df['price_diff'] = df['close'].diff()\n",
    "\n",
    "# thresh = 0.1 # dollars\n",
    "# df['price_change'] = 1 # price stays the same\n",
    "# df['price_change'][df['price_diff'] < -thresh] = 0 # downward price movement\n",
    "# df['price_change'][df['price_diff'] > thresh] = 2 # upward prive movement"
   ]
  },
  {
   "cell_type": "code",
   "execution_count": 94,
   "metadata": {},
   "outputs": [
    {
     "data": {
      "text/html": [
       "<div>\n",
       "<style scoped>\n",
       "    .dataframe tbody tr th:only-of-type {\n",
       "        vertical-align: middle;\n",
       "    }\n",
       "\n",
       "    .dataframe tbody tr th {\n",
       "        vertical-align: top;\n",
       "    }\n",
       "\n",
       "    .dataframe thead th {\n",
       "        text-align: right;\n",
       "    }\n",
       "</style>\n",
       "<table border=\"1\" class=\"dataframe\">\n",
       "  <thead>\n",
       "    <tr style=\"text-align: right;\">\n",
       "      <th></th>\n",
       "      <th>open</th>\n",
       "      <th>high</th>\n",
       "      <th>low</th>\n",
       "      <th>close</th>\n",
       "      <th>volume</th>\n",
       "      <th>sin_day</th>\n",
       "      <th>cos_day</th>\n",
       "      <th>sin_hour</th>\n",
       "      <th>cos_hour</th>\n",
       "      <th>sin_minute</th>\n",
       "      <th>cos_minute</th>\n",
       "      <th>price_diff</th>\n",
       "    </tr>\n",
       "    <tr>\n",
       "      <th>time</th>\n",
       "      <th></th>\n",
       "      <th></th>\n",
       "      <th></th>\n",
       "      <th></th>\n",
       "      <th></th>\n",
       "      <th></th>\n",
       "      <th></th>\n",
       "      <th></th>\n",
       "      <th></th>\n",
       "      <th></th>\n",
       "      <th></th>\n",
       "      <th></th>\n",
       "    </tr>\n",
       "  </thead>\n",
       "  <tbody>\n",
       "    <tr>\n",
       "      <th>2020-10-01 04:30:00</th>\n",
       "      <td>115.634512</td>\n",
       "      <td>115.792604</td>\n",
       "      <td>115.407254</td>\n",
       "      <td>115.407254</td>\n",
       "      <td>13550.0</td>\n",
       "      <td>0.866025</td>\n",
       "      <td>-0.5</td>\n",
       "      <td>1.000000</td>\n",
       "      <td>6.123234e-17</td>\n",
       "      <td>0.207912</td>\n",
       "      <td>0.978148</td>\n",
       "      <td>-0.207496</td>\n",
       "    </tr>\n",
       "    <tr>\n",
       "      <th>2020-10-01 04:45:00</th>\n",
       "      <td>115.367731</td>\n",
       "      <td>115.367731</td>\n",
       "      <td>115.120712</td>\n",
       "      <td>115.308447</td>\n",
       "      <td>12857.0</td>\n",
       "      <td>0.866025</td>\n",
       "      <td>-0.5</td>\n",
       "      <td>1.000000</td>\n",
       "      <td>6.123234e-17</td>\n",
       "      <td>0.139173</td>\n",
       "      <td>0.990268</td>\n",
       "      <td>-0.098808</td>\n",
       "    </tr>\n",
       "    <tr>\n",
       "      <th>2020-10-01 05:15:00</th>\n",
       "      <td>115.417135</td>\n",
       "      <td>115.604869</td>\n",
       "      <td>115.377612</td>\n",
       "      <td>115.604869</td>\n",
       "      <td>3534.0</td>\n",
       "      <td>0.866025</td>\n",
       "      <td>-0.5</td>\n",
       "      <td>0.951057</td>\n",
       "      <td>3.090170e-01</td>\n",
       "      <td>0.406737</td>\n",
       "      <td>0.913545</td>\n",
       "      <td>0.286542</td>\n",
       "    </tr>\n",
       "    <tr>\n",
       "      <th>2020-10-01 05:30:00</th>\n",
       "      <td>115.604869</td>\n",
       "      <td>115.703677</td>\n",
       "      <td>115.555466</td>\n",
       "      <td>115.703677</td>\n",
       "      <td>7688.0</td>\n",
       "      <td>0.866025</td>\n",
       "      <td>-0.5</td>\n",
       "      <td>0.951057</td>\n",
       "      <td>3.090170e-01</td>\n",
       "      <td>0.207912</td>\n",
       "      <td>0.978148</td>\n",
       "      <td>0.098808</td>\n",
       "    </tr>\n",
       "    <tr>\n",
       "      <th>2020-10-01 05:45:00</th>\n",
       "      <td>115.703677</td>\n",
       "      <td>115.851888</td>\n",
       "      <td>115.535704</td>\n",
       "      <td>115.822246</td>\n",
       "      <td>29016.0</td>\n",
       "      <td>0.866025</td>\n",
       "      <td>-0.5</td>\n",
       "      <td>0.951057</td>\n",
       "      <td>3.090170e-01</td>\n",
       "      <td>0.139173</td>\n",
       "      <td>0.990268</td>\n",
       "      <td>0.118569</td>\n",
       "    </tr>\n",
       "  </tbody>\n",
       "</table>\n",
       "</div>"
      ],
      "text/plain": [
       "                           open        high         low       close   volume  \\\n",
       "time                                                                           \n",
       "2020-10-01 04:30:00  115.634512  115.792604  115.407254  115.407254  13550.0   \n",
       "2020-10-01 04:45:00  115.367731  115.367731  115.120712  115.308447  12857.0   \n",
       "2020-10-01 05:15:00  115.417135  115.604869  115.377612  115.604869   3534.0   \n",
       "2020-10-01 05:30:00  115.604869  115.703677  115.555466  115.703677   7688.0   \n",
       "2020-10-01 05:45:00  115.703677  115.851888  115.535704  115.822246  29016.0   \n",
       "\n",
       "                      sin_day  cos_day  sin_hour      cos_hour  sin_minute  \\\n",
       "time                                                                         \n",
       "2020-10-01 04:30:00  0.866025     -0.5  1.000000  6.123234e-17    0.207912   \n",
       "2020-10-01 04:45:00  0.866025     -0.5  1.000000  6.123234e-17    0.139173   \n",
       "2020-10-01 05:15:00  0.866025     -0.5  0.951057  3.090170e-01    0.406737   \n",
       "2020-10-01 05:30:00  0.866025     -0.5  0.951057  3.090170e-01    0.207912   \n",
       "2020-10-01 05:45:00  0.866025     -0.5  0.951057  3.090170e-01    0.139173   \n",
       "\n",
       "                     cos_minute  price_diff  \n",
       "time                                         \n",
       "2020-10-01 04:30:00    0.978148   -0.207496  \n",
       "2020-10-01 04:45:00    0.990268   -0.098808  \n",
       "2020-10-01 05:15:00    0.913545    0.286542  \n",
       "2020-10-01 05:30:00    0.978148    0.098808  \n",
       "2020-10-01 05:45:00    0.990268    0.118569  "
      ]
     },
     "execution_count": 94,
     "metadata": {},
     "output_type": "execute_result"
    }
   ],
   "source": [
    "df = df.dropna()\n",
    "df.head()"
   ]
  },
  {
   "cell_type": "code",
   "execution_count": 100,
   "metadata": {},
   "outputs": [
    {
     "data": {
      "text/plain": [
       "<AxesSubplot:xlabel='time'>"
      ]
     },
     "execution_count": 100,
     "metadata": {},
     "output_type": "execute_result"
    },
    {
     "data": {
      "image/png": "[encoded data removed]",
      "text/plain": [
       "<Figure size 432x288 with 1 Axes>"
      ]
     },
     "metadata": {
      "needs_background": "light"
     },
     "output_type": "display_data"
    }
   ],
   "source": [
    "df.cos_minute.iloc[:20].plot()\n",
    "df.sin_minute.iloc[:20].plot()"
   ]
  },
  {
   "cell_type": "markdown",
   "metadata": {},
   "source": [
    "### Split into train, valid, and test sets"
   ]
  },
  {
   "cell_type": "code",
   "execution_count": 101,
   "metadata": {},
   "outputs": [
    {
     "name": "stdout",
     "output_type": "stream",
     "text": [
      "(9831, 12)\n",
      "(5588, 12)\n",
      "(3886, 12)\n"
     ]
    }
   ],
   "source": [
    "train_df = df.loc['2020-10-01':'2021-10-01']\n",
    "valid_df = df.loc['2021-10-02':'2022-05-01']\n",
    "test_df = df.loc['2022-05-02':]\n",
    "\n",
    "print(train_df.shape)\n",
    "print(valid_df.shape)\n",
    "print(test_df.shape)"
   ]
  },
  {
   "cell_type": "markdown",
   "metadata": {},
   "source": [
    "### Standardize the Dat\n",
    "\n",
    "Standardize the data using the train, mean and standard deviation"
   ]
  },
  {
   "cell_type": "code",
   "execution_count": 102,
   "metadata": {},
   "outputs": [],
   "source": [
    "train_mean = train_df.mean()\n",
    "train_std = train_df.std()\n",
    "\n",
    "train_df = (train_df - train_mean) / train_std\n",
    "valid_df = (valid_df - train_mean) / train_std\n",
    "test_df = (test_df - train_mean) / train_std"
   ]
  },
  {
   "cell_type": "markdown",
   "metadata": {},
   "source": [
    "### Format Data for Transformer Input\n",
    "\n",
    "Now we need to format the data for the transformer input. We will use tf.data to generate the dataset, see [example](https://www.tensorflow.org/tutorials/structured_data/time_series) from Tensor Flow tutorial"
   ]
  },
  {
   "cell_type": "markdown",
   "metadata": {},
   "source": [
    "Probably won't use this :("
   ]
  },
  {
   "cell_type": "code",
   "execution_count": 107,
   "metadata": {},
   "outputs": [],
   "source": [
    "def get_window(data, seq_len, tgt_idx):\n",
    "    ''' Obtains windowed data '''\n",
    "    \n",
    "    # feature indexes \n",
    "    feat_idxs = np.setdiff1d(np.arange(0, data.shape[1]), tgt_idx)\n",
    "\n",
    "    x = []\n",
    "    y = []\n",
    "\n",
    "    for i in range(len(data) - seq_len):\n",
    "        window = data.iloc[i:(i+seq_len), feat_idxs]\n",
    "        target = data.iloc[i+seq_len, tgt_idx]\n",
    "        \n",
    "        x.append(window)\n",
    "        y.append(target)\n",
    "        \n",
    "    return np.array(x),np.array(y)"
   ]
  },
  {
   "cell_type": "code",
   "execution_count": 126,
   "metadata": {},
   "outputs": [],
   "source": [
    "import tensorflow as tf\n",
    "\n",
    "class WindowGenerator():\n",
    "    def __init__(self, input_width, label_width, shift,\n",
    "                train_df=train_df, valid_df=valid_df, test_df=test_df,\n",
    "                label_columns=None):\n",
    "      # Store the raw data.\n",
    "      self.train_df = train_df\n",
    "      self.valid_df = valid_df\n",
    "      self.test_df = test_df\n",
    "\n",
    "      # Work out the label column indices.\n",
    "      self.label_columns = label_columns\n",
    "      if label_columns is not None:\n",
    "         self.label_columns_indices = {name: i for i, name in\n",
    "                                       enumerate(label_columns)}\n",
    "      self.column_indices = {name: i for i, name in\n",
    "                             enumerate(train_df.columns)}\n",
    "\n",
    "      # Work out the window parameters.\n",
    "      self.input_width = input_width # sequence length\n",
    "      self.label_width = label_width\n",
    "      self.shift = shift\n",
    "\n",
    "      self.total_window_size = input_width + shift\n",
    "\n",
    "      self.input_slice = slice(0, input_width)\n",
    "      self.input_indices = np.arange(self.total_window_size)[self.input_slice]\n",
    "\n",
    "      self.label_start = self.total_window_size - self.label_width\n",
    "      self.labels_slice = slice(self.label_start, None)\n",
    "      self.label_indices = np.arange(self.total_window_size)[self.labels_slice]\n",
    "\n",
    "\n",
    "    def __repr__(self):\n",
    "      return '\\n'.join([\n",
    "          f'Total window size: {self.total_window_size}',\n",
    "          f'Input indices: {self.input_indices}',\n",
    "          f'Label indices: {self.label_indices}',\n",
    "          f'Label column name(s): {self.label_columns}'])\n",
    "\n",
    "\n",
    "    def split_window(self, features):\n",
    "        inputs = features[:, self.input_slice, :]\n",
    "        labels = features[:, self.labels_slice, :]\n",
    "        if self.label_columns is not None:\n",
    "            labels = tf.stack(\n",
    "                [labels[:, :, self.column_indices[name]] for name in self.label_columns],\n",
    "                axis=-1)\n",
    "\n",
    "        # Slicing doesn't preserve static shape information, so set the shapes\n",
    "        # manually. This way the `tf.data.Datasets` are easier to inspect.\n",
    "        inputs.set_shape([None, self.input_width, None])\n",
    "        labels.set_shape([None, self.label_width, None])\n",
    "\n",
    "        return inputs, labels\n",
    "\n",
    "    # WindowGenerator.split_window = split_window\n",
    "\n",
    "\n",
    "    def plot(self, data, model=None, plot_col='price_diff', max_subplots=3):\n",
    "        inputs, labels = data\n",
    "        plt.figure(figsize=(12, 8))\n",
    "        plot_col_index = self.column_indices[plot_col]\n",
    "        max_n = min(max_subplots, len(inputs))\n",
    "        for n in range(max_n):\n",
    "          plt.subplot(max_n, 1, n+1)\n",
    "          plt.ylabel(f'{plot_col} [normed]')\n",
    "          plt.plot(self.input_indices, inputs[n, :, plot_col_index],\n",
    "                  label='Inputs', marker='.', zorder=-10)\n",
    "\n",
    "          if self.label_columns:\n",
    "            label_col_index = self.label_columns_indices.get(plot_col, None)\n",
    "          else:\n",
    "            label_col_index = plot_col_index\n",
    "\n",
    "          if label_col_index is None:\n",
    "            continue\n",
    "\n",
    "          plt.scatter(self.label_indices, labels[n, :, label_col_index],\n",
    "                      edgecolors='k', label='Labels', c='#2ca02c', s=64)\n",
    "          if model is not None:\n",
    "            predictions = model(inputs)\n",
    "            plt.scatter(self.label_indices, predictions[n, :, label_col_index],\n",
    "                        marker='X', edgecolors='k', label='Predictions',\n",
    "                        c='#ff7f0e', s=64)\n",
    "\n",
    "          if n == 0:\n",
    "            plt.legend()\n",
    "\n",
    "        plt.xlabel('Time [h]')\n",
    "\n",
    "    # WindowGenerator.plot = plot\n",
    "    \n",
    "    \n",
    "    def get_position_encoding(self, n=10000):\n",
    "        d = self.train_df.shape[1] # assume all features are used\n",
    "        pos_encode = np.zeros((self.input_width, d))\n",
    "        for k in range(self.input_width):\n",
    "            for i in np.arange(int(d/2)):\n",
    "                denominator = np.power(n, 2*i/d)\n",
    "                pos_encode[k, 2*i] = np.sin(k/denominator)\n",
    "                pos_encode[k, 2*i+1] = np.cos(k/denominator)\n",
    "        return pos_encode\n",
    "\n",
    "    def make_dataset(self, data, batch_size=32):\n",
    "        data = np.array(data, dtype=np.float32)\n",
    "        ds = tf.keras.utils.timeseries_dataset_from_array(\n",
    "                data=data,\n",
    "                targets=None,\n",
    "                sequence_length=self.total_window_size,\n",
    "                sequence_stride=1,\n",
    "                shuffle=False, #True,\n",
    "                batch_size=batch_size)\n",
    "\n",
    "        ds = ds.map(self.split_window)\n",
    "\n",
    "        return ds\n",
    "\n",
    "    # WindowGenerator.make_dataset = make_dataset\n",
    "    \n",
    "\n",
    "    @property\n",
    "    def train(self):\n",
    "        return self.make_dataset(self.train_df)\n",
    "\n",
    "    @property\n",
    "    def valid(self):\n",
    "        return self.make_dataset(self.valid_df)\n",
    "\n",
    "    @property\n",
    "    def test(self):\n",
    "        return self.make_dataset(self.test_df)\n",
    "\n",
    "    @property\n",
    "    def example(self):\n",
    "        \"\"\"Get and cache an example batch of `inputs, labels` for plotting.\"\"\"\n",
    "        result = getattr(self, '_example', None)\n",
    "        if result is None:\n",
    "            # No example batch was found, so get one from the `.train` dataset\n",
    "            result = next(iter(self.train))\n",
    "            # And cache it for next time\n",
    "            self._example = result\n",
    "        return result\n",
    "\n",
    "    # WindowGenerator.train = train\n",
    "    # WindowGenerator.valid = valid\n",
    "    # WindowGenerator.test = test\n",
    "    # WindowGenerator.example = example\n",
    "\n"
   ]
  },
  {
   "cell_type": "code",
   "execution_count": 127,
   "metadata": {},
   "outputs": [
    {
     "data": {
      "text/plain": [
       "Total window size: 11\n",
       "Input indices: [0 1 2 3 4 5 6 7 8 9]\n",
       "Label indices: [10]\n",
       "Label column name(s): ['price_diff']"
      ]
     },
     "execution_count": 127,
     "metadata": {},
     "output_type": "execute_result"
    }
   ],
   "source": [
    "WindowGenerator(input_width=10, label_width=1, shift=1, label_columns=['price_diff'])"
   ]
  },
  {
   "cell_type": "code",
   "execution_count": 128,
   "metadata": {},
   "outputs": [],
   "source": [
    "win_gen = WindowGenerator(input_width=10, label_width=1, shift=1, label_columns=['price_diff'])"
   ]
  },
  {
   "cell_type": "code",
   "execution_count": 129,
   "metadata": {},
   "outputs": [],
   "source": [
    "p = win_gen.get_position_encoding()"
   ]
  },
  {
   "cell_type": "code",
   "execution_count": 130,
   "metadata": {},
   "outputs": [
    {
     "data": {
      "text/plain": [
       "(10, 12)"
      ]
     },
     "execution_count": 130,
     "metadata": {},
     "output_type": "execute_result"
    }
   ],
   "source": [
    "p.shape"
   ]
  },
  {
   "cell_type": "code",
   "execution_count": 115,
   "metadata": {},
   "outputs": [],
   "source": [
    "example_window = tf.stack([np.array(train_df[:win_gen.total_window_size]),\n",
    "                           np.array(train_df[100:100+win_gen.total_window_size]),\n",
    "                           np.array(train_df[200:200+win_gen.total_window_size])])\n",
    "\n",
    "example_inputs, example_labels = win_gen.split_window(example_window)"
   ]
  },
  {
   "cell_type": "code",
   "execution_count": 116,
   "metadata": {},
   "outputs": [
    {
     "data": {
      "image/png": "[encoded data removed]",
      "text/plain": [
       "<Figure size 864x576 with 3 Axes>"
      ]
     },
     "metadata": {
      "needs_background": "light"
     },
     "output_type": "display_data"
    }
   ],
   "source": [
    "win_gen.plot((example_inputs, example_labels))"
   ]
  },
  {
   "cell_type": "markdown",
   "metadata": {},
   "source": [
    "The [Dataset.element_spec](https://www.tensorflow.org/api_docs/python/tf/data/Dataset#element_spec) property tells you the structure, data types, and shapes of the dataset elements."
   ]
  },
  {
   "cell_type": "code",
   "execution_count": 117,
   "metadata": {},
   "outputs": [
    {
     "data": {
      "text/plain": [
       "(TensorSpec(shape=(None, 10, 12), dtype=tf.float32, name=None),\n",
       " TensorSpec(shape=(None, 1, 1), dtype=tf.float32, name=None))"
      ]
     },
     "execution_count": 117,
     "metadata": {},
     "output_type": "execute_result"
    }
   ],
   "source": [
    "win_gen.train.element_spec"
   ]
  },
  {
   "cell_type": "markdown",
   "metadata": {},
   "source": [
    "We can iterate over the dataset and get our batches"
   ]
  },
  {
   "cell_type": "code",
   "execution_count": 131,
   "metadata": {},
   "outputs": [
    {
     "name": "stdout",
     "output_type": "stream",
     "text": [
      "Inputs shape (batch, time, features): (32, 10, 12)\n",
      "Targets shape (batch, time, features): (32, 1, 1)\n"
     ]
    }
   ],
   "source": [
    "for inputs, targets in win_gen.train.take(1):\n",
    "    print(f'Inputs shape (batch, time, features): {inputs.shape}')\n",
    "    print(f'Targets shape (batch, time, features): {targets.shape}')"
   ]
  },
  {
   "cell_type": "code",
   "execution_count": 154,
   "metadata": {},
   "outputs": [
    {
     "data": {
      "text/plain": [
       "<tf.Tensor: shape=(10, 12), dtype=float32, numpy=\n",
       "array([[-1.3164947 , -1.3203301 , -1.3185292 , -1.336381  , -0.64998025,\n",
       "         0.8688863 , -0.50326526,  1.9552284 , -2.8744698 , -0.38321406,\n",
       "         0.5204014 , -0.70839393],\n",
       "       [-1.3400742 , -1.3579388 , -1.3438182 , -1.3451144 , -0.65032053,\n",
       "         0.8688863 , -0.50326526,  1.9552284 , -2.8744698 , -0.98889035,\n",
       "         0.8801792 , -0.3364252 ],\n",
       "       [-1.3357077 , -1.3369479 , -1.3211453 , -1.3189142 , -0.65489817,\n",
       "         0.8688863 , -0.50326526,  1.7269905 , -1.6769598 ,  1.368692  ,\n",
       "        -1.3972156 ,  0.98237306],\n",
       "       [-1.3191147 , -1.3282017 , -1.3054488 , -1.3101808 , -0.6528585 ,\n",
       "         0.8688863 , -0.50326526,  1.7269905 , -1.6769598 , -0.38321406,\n",
       "         0.5204014 ,  0.33988163],\n",
       "       [-1.3103815 , -1.3150823 , -1.3071928 , -1.2997007 , -0.6423864 ,\n",
       "         0.8688863 , -0.50326526,  1.7269905 , -1.6769598 , -0.98889035,\n",
       "         0.8801792 ,  0.4075123 ],\n",
       "       [-1.2859288 , -1.2932168 , -1.2845199 , -1.2944607 , -0.6488156 ,\n",
       "         0.8688863 , -0.50326526,  1.3304652 , -0.93685794,  1.368692  ,\n",
       "        -1.3972156 , -0.6407632 ],\n",
       "       [-1.2955352 , -1.2844707 , -1.2888801 , -1.2665138 , -0.64907926,\n",
       "         0.8688863 , -0.50326526,  1.3304652 , -0.93685794, -0.38321406,\n",
       "         0.5204014 ,  1.0838192 ],\n",
       "       [-1.278069  , -1.2949661 , -1.2819039 , -1.2787405 , -0.6516983 ,\n",
       "         0.8688863 , -0.50326526,  1.3304652 , -0.93685794, -0.98889035,\n",
       "         0.8801792 , -0.47168654],\n",
       "       [-1.2885487 , -1.2853453 , -1.2871361 , -1.2673872 , -0.5842793 ,\n",
       "         0.8688863 , -0.50326526,  0.937844  , -0.45830736,  1.368692  ,\n",
       "        -1.3972156 ,  0.33988163],\n",
       "       [-1.266716  , -1.2757244 , -1.2662072 , -1.2795266 , -0.63295907,\n",
       "         0.8688863 , -0.50326526,  0.937844  , -0.45830736, -0.38321406,\n",
       "         0.5204014 , -0.46830502]], dtype=float32)>"
      ]
     },
     "execution_count": 154,
     "metadata": {},
     "output_type": "execute_result"
    }
   ],
   "source": [
    "inputs[0, :, :]"
   ]
  },
  {
   "cell_type": "code",
   "execution_count": 150,
   "metadata": {},
   "outputs": [
    {
     "data": {
      "text/plain": [
       "<tf.Tensor: shape=(1, 1), dtype=float32, numpy=array([[-0.2383607]], dtype=float32)>"
      ]
     },
     "execution_count": 150,
     "metadata": {},
     "output_type": "execute_result"
    }
   ],
   "source": [
    "targets[0, :, :]"
   ]
  },
  {
   "cell_type": "markdown",
   "metadata": {},
   "source": [
    "## **Start Training Models**\n",
    "\n",
    "First we will need a baseline model to compare our results to. The most simple baseline model will just predict the next value by using the previous value."
   ]
  },
  {
   "cell_type": "code",
   "execution_count": 132,
   "metadata": {},
   "outputs": [],
   "source": [
    "class Baseline(tf.keras.Model):\n",
    "    def __init__(self, label_index=None):\n",
    "        super().__init__()\n",
    "        self.label_index = label_index\n",
    "\n",
    "    def call(self, inputs):\n",
    "        if self.label_index is None:\n",
    "            return inputs\n",
    "        result = inputs[:, :, self.label_index]\n",
    "        return result[:, :, tf.newaxis]"
   ]
  },
  {
   "cell_type": "code",
   "execution_count": 133,
   "metadata": {},
   "outputs": [],
   "source": [
    "single_step_window = WindowGenerator(\n",
    "        input_width=1, label_width=1, shift=1,\n",
    "        label_columns=['price_diff'])\n"
   ]
  },
  {
   "cell_type": "code",
   "execution_count": 134,
   "metadata": {},
   "outputs": [
    {
     "name": "stdout",
     "output_type": "stream",
     "text": [
      "175/175 [==============================] - 0s 2ms/step - loss: 4.1929 - mean_absolute_error: 1.2598\n"
     ]
    }
   ],
   "source": [
    "baseline = Baseline(label_index=win_gen.column_indices['price_diff'])\n",
    "\n",
    "baseline.compile(loss=tf.keras.losses.MeanSquaredError(),\n",
    "                 metrics=[tf.keras.metrics.MeanAbsoluteError()])\n",
    "\n",
    "val_performance = {}\n",
    "performance = {}\n",
    "val_performance['Baseline'] = baseline.evaluate(single_step_window.valid)\n",
    "performance['Baseline'] = baseline.evaluate(single_step_window.test, verbose=0)"
   ]
  },
  {
   "cell_type": "markdown",
   "metadata": {},
   "source": [
    "### Now let's try a Vanilla Neural Network model"
   ]
  },
  {
   "cell_type": "code",
   "execution_count": 135,
   "metadata": {},
   "outputs": [],
   "source": [
    "dense = tf.keras.Sequential([\n",
    "    tf.keras.layers.Dense(units=64, activation='relu'),\n",
    "    tf.keras.layers.Dense(units=64, activation='relu'),\n",
    "    tf.keras.layers.Dense(units=1)\n",
    "])\n",
    "\n",
    "\n",
    "def compile_and_fit(model, window, lr=1e-4, max_epochs=100, patience=2):\n",
    "    early_stopping = tf.keras.callbacks.EarlyStopping(monitor='val_loss',\n",
    "                                                        patience=patience,\n",
    "                                                        mode='min')\n",
    "\n",
    "    model.compile(loss=tf.keras.losses.MeanSquaredError(),\n",
    "                    optimizer=tf.keras.optimizers.Adam(learning_rate=lr),\n",
    "                    metrics=[tf.keras.metrics.MeanAbsoluteError()])\n",
    "\n",
    "    history = model.fit(window.train, epochs=max_epochs,\n",
    "                        validation_data=window.valid,\n",
    "                        callbacks=[early_stopping])\n",
    "    return history"
   ]
  },
  {
   "cell_type": "code",
   "execution_count": 136,
   "metadata": {},
   "outputs": [
    {
     "name": "stdout",
     "output_type": "stream",
     "text": [
      "Epoch 1/100\n",
      "308/308 [==============================] - 4s 7ms/step - loss: 1.0149 - mean_absolute_error: 0.6066 - val_loss: 2.0629 - val_mean_absolute_error: 0.8669\n",
      "Epoch 2/100\n",
      "308/308 [==============================] - 2s 7ms/step - loss: 1.0004 - mean_absolute_error: 0.5969 - val_loss: 2.0588 - val_mean_absolute_error: 0.8664\n",
      "Epoch 3/100\n",
      "308/308 [==============================] - 2s 7ms/step - loss: 0.9962 - mean_absolute_error: 0.5949 - val_loss: 2.0590 - val_mean_absolute_error: 0.8670\n",
      "Epoch 4/100\n",
      "308/308 [==============================] - 2s 7ms/step - loss: 0.9938 - mean_absolute_error: 0.5940 - val_loss: 2.0593 - val_mean_absolute_error: 0.8672\n",
      "175/175 [==============================] - 1s 3ms/step - loss: 2.0593 - mean_absolute_error: 0.8672\n"
     ]
    }
   ],
   "source": [
    "history = compile_and_fit(dense, single_step_window)\n",
    "\n",
    "val_performance['Dense'] = dense.evaluate(single_step_window.valid)\n",
    "performance['Dense'] = dense.evaluate(single_step_window.test, verbose=0)"
   ]
  },
  {
   "cell_type": "markdown",
   "metadata": {},
   "source": [
    "Now let's build the transformer"
   ]
  },
  {
   "cell_type": "code",
   "execution_count": 137,
   "metadata": {},
   "outputs": [],
   "source": [
    "from tensorflow import keras\n",
    "from tensorflow.keras import layers\n",
    "\n",
    "def transformer_encoder(inputs, head_size, num_heads, ff_dim, dropout=0):\n",
    "    # Normalization and Attention\n",
    "    x = layers.LayerNormalization(epsilon=1e-6)(inputs)\n",
    "    x = layers.MultiHeadAttention(\n",
    "        key_dim=head_size, num_heads=num_heads, dropout=dropout\n",
    "    )(x, x)\n",
    "    x = layers.Dropout(dropout)(x)\n",
    "    res = x + inputs\n",
    "\n",
    "    # Feed Forward Part\n",
    "    x = layers.LayerNormalization(epsilon=1e-6)(res)\n",
    "    x = layers.Conv1D(filters=ff_dim, kernel_size=1, activation=\"relu\")(x)\n",
    "    x = layers.Dropout(dropout)(x)\n",
    "    x = layers.Conv1D(filters=inputs.shape[-1], kernel_size=1)(x)\n",
    "    return x + res"
   ]
  },
  {
   "cell_type": "code",
   "execution_count": 138,
   "metadata": {},
   "outputs": [],
   "source": [
    "def build_model(\n",
    "            input_shape,\n",
    "            head_size,\n",
    "            num_heads,\n",
    "            ff_dim,\n",
    "            num_transformer_blocks,\n",
    "            mlp_units,\n",
    "            dropout=0,\n",
    "            mlp_dropout=0,\n",
    "        ):\n",
    "    inputs = keras.Input(shape=input_shape)\n",
    "    x = inputs\n",
    "    for _ in range(num_transformer_blocks):\n",
    "        x = transformer_encoder(x, head_size, num_heads, ff_dim, dropout)\n",
    "\n",
    "    x = layers.GlobalAveragePooling1D(data_format=\"channels_first\")(x)\n",
    "    for dim in mlp_units:\n",
    "        x = layers.Dense(dim, activation=\"relu\")(x)\n",
    "        x = layers.Dropout(mlp_dropout)(x)\n",
    "    outputs = layers.Dense(1)(x)\n",
    "    return keras.Model(inputs, outputs)"
   ]
  },
  {
   "cell_type": "code",
   "execution_count": 148,
   "metadata": {},
   "outputs": [
    {
     "data": {
      "text/plain": [
       "TensorShape([32, 10, 12])"
      ]
     },
     "execution_count": 148,
     "metadata": {},
     "output_type": "execute_result"
    }
   ],
   "source": [
    "inputs.shape"
   ]
  },
  {
   "cell_type": "code",
   "execution_count": 144,
   "metadata": {},
   "outputs": [],
   "source": [
    "input_shape = inputs.shape[1:]\n",
    "\n",
    "model = build_model(\n",
    "    input_shape,\n",
    "    head_size=256,\n",
    "    num_heads=4,\n",
    "    ff_dim=256,\n",
    "    num_transformer_blocks=4,\n",
    "    mlp_units=[128],\n",
    "    mlp_dropout=0.4,\n",
    "    dropout=0.25,\n",
    ")\n",
    "\n",
    "# model.compile(\n",
    "#     loss=\"mean_squared_error\",\n",
    "#     optimizer=keras.optimizers.Adam(learning_rate=1e-4)\n",
    "# )\n",
    "# #model.summary()\n",
    "\n",
    "# callbacks = [keras.callbacks.EarlyStopping(patience=10, \\\n",
    "#     restore_best_weights=True)]\n"
   ]
  },
  {
   "cell_type": "code",
   "execution_count": 145,
   "metadata": {},
   "outputs": [
    {
     "name": "stdout",
     "output_type": "stream",
     "text": [
      "Epoch 1/200\n",
      "307/307 [==============================] - 13s 35ms/step - loss: 1.0058 - mean_absolute_error: 0.5984 - val_loss: 2.0529 - val_mean_absolute_error: 0.8608\n",
      "Epoch 2/200\n",
      "307/307 [==============================] - 10s 33ms/step - loss: 1.0070 - mean_absolute_error: 0.5977 - val_loss: 2.0493 - val_mean_absolute_error: 0.8606\n",
      "Epoch 3/200\n",
      "307/307 [==============================] - 10s 33ms/step - loss: 1.0041 - mean_absolute_error: 0.5968 - val_loss: 2.0484 - val_mean_absolute_error: 0.8605\n",
      "Epoch 4/200\n",
      "307/307 [==============================] - 10s 33ms/step - loss: 1.0030 - mean_absolute_error: 0.5966 - val_loss: 2.0483 - val_mean_absolute_error: 0.8608\n",
      "Epoch 5/200\n",
      "307/307 [==============================] - 10s 33ms/step - loss: 1.0044 - mean_absolute_error: 0.5968 - val_loss: 2.0498 - val_mean_absolute_error: 0.8609\n",
      "Epoch 6/200\n",
      "307/307 [==============================] - 10s 33ms/step - loss: 1.0053 - mean_absolute_error: 0.5969 - val_loss: 2.0493 - val_mean_absolute_error: 0.8621\n",
      "Epoch 7/200\n",
      "307/307 [==============================] - 10s 33ms/step - loss: 1.0038 - mean_absolute_error: 0.5961 - val_loss: 2.0493 - val_mean_absolute_error: 0.8629\n",
      "Epoch 8/200\n",
      "307/307 [==============================] - 10s 32ms/step - loss: 1.0054 - mean_absolute_error: 0.5964 - val_loss: 2.0485 - val_mean_absolute_error: 0.8612\n",
      "Epoch 9/200\n",
      "307/307 [==============================] - 10s 34ms/step - loss: 1.0033 - mean_absolute_error: 0.5961 - val_loss: 2.0486 - val_mean_absolute_error: 0.8601\n"
     ]
    },
    {
     "data": {
      "text/plain": [
       "<keras.callbacks.History at 0x2090f8343a0>"
      ]
     },
     "execution_count": 145,
     "metadata": {},
     "output_type": "execute_result"
    }
   ],
   "source": [
    "compile_and_fit(model, win_gen, lr=1e-4, max_epochs=200, patience=5)"
   ]
  },
  {
   "cell_type": "code",
   "execution_count": 146,
   "metadata": {},
   "outputs": [
    {
     "name": "stdout",
     "output_type": "stream",
     "text": [
      "175/175 [==============================] - 2s 13ms/step - loss: 2.0486 - mean_absolute_error: 0.8601\n"
     ]
    }
   ],
   "source": [
    "val_performance['xform_1'] = model.evaluate(win_gen.valid)\n",
    "performance['xfborm_1'] = model.evaluate(win_gen.test, verbose=0)"
   ]
  },
  {
   "cell_type": "code",
   "execution_count": 147,
   "metadata": {},
   "outputs": [
    {
     "data": {
      "text/plain": [
       "{'Baseline': [4.192903995513916, 1.259775996208191],\n",
       " 'Dense': [2.059305191040039, 0.8672387003898621],\n",
       " 'xform_0': [2.048050880432129, 0.8603833317756653],\n",
       " 'xform_1': [2.0485799312591553, 0.8600624203681946]}"
      ]
     },
     "execution_count": 147,
     "metadata": {},
     "output_type": "execute_result"
    }
   ],
   "source": [
    "val_performance"
   ]
  },
  {
   "cell_type": "code",
   "execution_count": null,
   "metadata": {},
   "outputs": [],
   "source": []
  }
 ],
 "metadata": {
  "kernelspec": {
   "display_name": "Python 3.9.12 ('tf')",
   "language": "python",
   "name": "python3"
  },
  "language_info": {
   "codemirror_mode": {
    "name": "ipython",
    "version": 3
   },
   "file_extension": ".py",
   "mimetype": "text/x-python",
   "name": "python",
   "nbconvert_exporter": "python",
   "pygments_lexer": "ipython3",
   "version": "3.9.12"
  },
  "orig_nbformat": 4,
  "vscode": {
   "interpreter": {
    "hash": "2b2da39daaaff30a84159e8452ba91acfc0bbd521fb66c6aa9941f847b87bd81"
   }
  }
 },
 "nbformat": 4,
 "nbformat_minor": 2
}
