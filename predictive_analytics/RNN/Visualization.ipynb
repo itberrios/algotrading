{
 "cells": [
  {
   "cell_type": "code",
   "execution_count": 24,
   "id": "954f37a7",
   "metadata": {},
   "outputs": [],
   "source": [
    "import pandas as pd\n",
    "import numpy as np\n",
    "import matplotlib.pyplot as plt\n",
    "from functions import evaluate_on_ticker\n",
    "import tensorflow as tf\n",
    "from sklearn.metrics import accuracy_score, precision_score, recall_score"
   ]
  },
  {
   "cell_type": "markdown",
   "id": "ae976271",
   "metadata": {},
   "source": [
    "# Prepare Model"
   ]
  },
  {
   "cell_type": "code",
   "execution_count": 2,
   "id": "2268a914",
   "metadata": {},
   "outputs": [],
   "source": [
    "@tf.autograph.experimental.do_not_convert\n",
    "def last_step_accuracy(Y_true, Y_pred):\n",
    "    last_step_labels = tf.dtypes.cast(Y_true[:, -1], tf.int32)\n",
    "    last_step_preds = Y_pred[:,-1]\n",
    "    last_step_preds = tf.math.argmax(last_step_preds, axis=1, output_type=tf.int32)\n",
    "    compare = tf.dtypes.cast(tf.equal(last_step_preds, last_step_labels), tf.int32)\n",
    "    tot_correct = tf.reduce_sum(compare)\n",
    "    tot_size = tf.size(last_step_labels)\n",
    "    accuracy = tf.divide(tot_correct, tot_size)\n",
    "    return accuracy\n",
    "\n",
    "MODEL_NAME = \"beta_1\"\n",
    "model = tf.keras.models.load_model(\"models/{}\".format(MODEL_NAME), custom_objects={'last_step_accuracy': last_step_accuracy})"
   ]
  },
  {
   "cell_type": "markdown",
   "id": "cefddaa7",
   "metadata": {},
   "source": [
    "# 1. By hours"
   ]
  },
  {
   "cell_type": "code",
   "execution_count": 57,
   "id": "d224adcf",
   "metadata": {},
   "outputs": [
    {
     "name": "stdout",
     "output_type": "stream",
     "text": [
      "For predictions with confidence >= 0%, accuracy = 0.69\n",
      "\t - 596/596 (100.00%) of all predictions\n",
      "\t - 99/596 (16.61%) of which have labels of val 0 (down)\n",
      "\t - 76/596 (12.75%) of which have labels of val 1 (up)\n",
      "\t - 421/596 (70.64%) of which have labels of val 2 (same)\n",
      "Performance:\n",
      "              precision    recall  f1-score   support\n",
      "\n",
      "        Down       0.57      0.46      0.51       122\n",
      "          Up       0.58      0.41      0.48       107\n",
      "Approx. Same       0.74      0.85      0.79       367\n",
      "\n",
      "    accuracy                           0.69       596\n",
      "   macro avg       0.63      0.57      0.59       596\n",
      "weighted avg       0.68      0.69      0.68       596\n",
      "\n",
      "For predictions with confidence >= 70.0%, accuracy = 0.79\n",
      "\t - 256/596 (42.95%) of all predictions\n",
      "\t - 33/256 (12.89%) of which have labels of val 0 (down)\n",
      "\t - 31/256 (12.11%) of which have labels of val 1 (up)\n",
      "\t - 192/256 (75.00%) of which have labels of val 2 (same)\n",
      "Performance:\n",
      "              precision    recall  f1-score   support\n",
      "\n",
      "        Down       0.73      0.62      0.67        39\n",
      "          Up       0.71      0.47      0.56        47\n",
      "Approx. Same       0.82      0.92      0.87       170\n",
      "\n",
      "    accuracy                           0.79       256\n",
      "   macro avg       0.75      0.67      0.70       256\n",
      "weighted avg       0.78      0.79      0.78       256\n",
      "\n",
      "For predictions with confidence >= 90.0%, accuracy = 0.92\n",
      "\t - 25/596 (4.19%) of all predictions\n",
      "\t - 9/25 (36.00%) of which have labels of val 0 (down)\n",
      "\t - 8/25 (32.00%) of which have labels of val 1 (up)\n",
      "\t - 8/25 (32.00%) of which have labels of val 2 (same)\n",
      "Performance:\n",
      "              precision    recall  f1-score   support\n",
      "\n",
      "        Down       0.89      1.00      0.94         8\n",
      "          Up       0.88      1.00      0.93         7\n",
      "Approx. Same       1.00      0.80      0.89        10\n",
      "\n",
      "    accuracy                           0.92        25\n",
      "   macro avg       0.92      0.93      0.92        25\n",
      "weighted avg       0.93      0.92      0.92        25\n",
      "\n"
     ]
    }
   ],
   "source": [
    "ticker = 'GOOG'\n",
    "START_DATE = '2022-10-22'\n",
    "END_DATE = '2022-11-3'\n",
    "FIG_SIZE = (10,5)\n",
    "result = evaluate_on_ticker(model, ticker, START_DATE, END_DATE, conf_thresholds=[0,0.7,0.9])\n",
    "\n",
    "result['Hour'] = result['Time'].apply(lambda timestamp: timestamp.hour)\n",
    "\n",
    "def extract_accuracy(df):\n",
    "    acc_df = pd.DataFrame(columns=['Hour', 'Accuracy'])\n",
    "    acc_score = accuracy_score(df['Prediction'], df['Actual'])\n",
    "    timestamp = df['Hour'].iloc[0]\n",
    "    acc_df.loc[0] = [timestamp, acc_score] \n",
    "    return acc_df\n",
    "\n",
    "def extract_metric(metric):\n",
    "    def fit_df(df):\n",
    "        metric_df = pd.DataFrame(columns=['Hour', 'Up', 'Down', 'Same'])\n",
    "        metric_score = metric(df['Prediction'], df['Actual'], average=None)\n",
    "        metric_df.loc[0] = [int(df['Hour'].iloc[0])] + [metric_score[i] for i in range(3)]\n",
    "        return metric_df\n",
    "    return fit_df"
   ]
  },
  {
   "cell_type": "markdown",
   "id": "a201621d",
   "metadata": {},
   "source": [
    "## Accuracy"
   ]
  },
  {
   "cell_type": "code",
   "execution_count": 58,
   "id": "40e0f805",
   "metadata": {},
   "outputs": [
    {
     "data": {
      "image/png": "[encoded data removed]",
      "text/plain": [
       "<Figure size 720x360 with 1 Axes>"
      ]
     },
     "metadata": {
      "needs_background": "light"
     },
     "output_type": "display_data"
    }
   ],
   "source": [
    "acc_df = result.groupby('Hour').apply(extract_accuracy)\n",
    "acc_df.plot(x='Hour', y='Accuracy', kind='bar', figsize=(10,5))\n",
    "plt.xlabel(\"Time of the day\")\n",
    "plt.ylabel(\"Accuracy\")\n",
    "plt.title(\"Accuracy based on time of the day\")\n",
    "plt.show()"
   ]
  },
  {
   "cell_type": "code",
   "execution_count": 49,
   "id": "4aeaa81f",
   "metadata": {},
   "outputs": [
    {
     "data": {
      "image/png": "[encoded data removed]",
      "text/plain": [
       "<Figure size 720x360 with 1 Axes>"
      ]
     },
     "metadata": {
      "needs_background": "light"
     },
     "output_type": "display_data"
    }
   ],
   "source": [
    "pre_df = result.groupby('Hour').apply(extract_metric(precision_score))\n",
    "pre_df.plot(x='Hour', y=['Up', 'Down', 'Same'], kind='bar', figsize=(10,5))\n",
    "plt.xlabel(\"Time of the day\")\n",
    "plt.ylabel(\"Precision\")\n",
    "plt.title(\"Precision based on time of the day\")\n",
    "plt.show()"
   ]
  },
  {
   "cell_type": "code",
   "execution_count": 50,
   "id": "06db5444",
   "metadata": {},
   "outputs": [
    {
     "data": {
      "image/png": "[encoded data removed]",
      "text/plain": [
       "<Figure size 720x360 with 1 Axes>"
      ]
     },
     "metadata": {
      "needs_background": "light"
     },
     "output_type": "display_data"
    }
   ],
   "source": [
    "rec_df = result.groupby('Hour').apply(extract_metric(recall_score))\n",
    "rec_df.plot(x='Hour', y=['Up', 'Down', 'Same'], kind='bar', figsize=(10,5))\n",
    "plt.xlabel(\"Time of the day\")\n",
    "plt.ylabel(\"Recall\")\n",
    "plt.title(\"Recall based on time of the day\")\n",
    "plt.show()"
   ]
  },
  {
   "cell_type": "code",
   "execution_count": null,
   "id": "917143dd",
   "metadata": {},
   "outputs": [],
   "source": []
  },
  {
   "cell_type": "code",
   "execution_count": null,
   "id": "666ce075",
   "metadata": {},
   "outputs": [],
   "source": []
  }
 ],
 "metadata": {
  "kernelspec": {
   "display_name": "tflow",
   "language": "python",
   "name": "tflow"
  },
  "language_info": {
   "codemirror_mode": {
    "name": "ipython",
    "version": 3
   },
   "file_extension": ".py",
   "mimetype": "text/x-python",
   "name": "python",
   "nbconvert_exporter": "python",
   "pygments_lexer": "ipython3",
   "version": "3.8.10"
  }
 },
 "nbformat": 4,
 "nbformat_minor": 5
}
