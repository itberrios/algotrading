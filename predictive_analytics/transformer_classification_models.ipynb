{
 "cells": [
  {
   "cell_type": "markdown",
   "metadata": {},
   "source": [
    "# Toy Models\n",
    "\n",
    "In this notebook, we will explore Transformer Architectures to perform classification of price movement on stock data. We will preprocess the stock data to contain the Times in the form of sines and cosines in order to feed additional data to our model. We will follow the approach outlined in the [paper](https://arxiv.org/pdf/2010.02803.pdf), where the features are projected into high dimensional space and a time/sequence representation is learned by our model"
   ]
  },
  {
   "cell_type": "markdown",
   "metadata": {},
   "source": [
    "### Library Import"
   ]
  },
  {
   "cell_type": "code",
   "execution_count": 1,
   "metadata": {},
   "outputs": [],
   "source": [
    "import os\n",
    "import sys\n",
    "import numpy as np\n",
    "import pandas as pd\n",
    "import pandas_ta as ta\n",
    "import tensorflow as tf\n",
    "import keras\n",
    "from tensorflow.keras import layers\n",
    "import matplotlib.pyplot as plt\n",
    "\n",
    "plt.rcParams[\"figure.figsize\"] = (20, 10)\n",
    "%matplotlib inline"
   ]
  },
  {
   "cell_type": "markdown",
   "metadata": {},
   "source": [
    "### Local Imports"
   ]
  },
  {
   "cell_type": "code",
   "execution_count": 2,
   "metadata": {},
   "outputs": [],
   "source": [
    "from window_generator import WindowGenerator"
   ]
  },
  {
   "cell_type": "code",
   "execution_count": 3,
   "metadata": {},
   "outputs": [],
   "source": [
    "# for python scripts use: \"os.path.dirname(__file__)\" instead of \"os.path.abspath('')\"\n",
    "sys.path.append(\n",
    "    os.path.abspath(os.path.join(os.path.abspath(''), os.path.pardir)))\n",
    "\n",
    "from data_clean import get_trading_times"
   ]
  },
  {
   "cell_type": "markdown",
   "metadata": {},
   "source": [
    "#### Ensure that GPU is available"
   ]
  },
  {
   "cell_type": "code",
   "execution_count": 4,
   "metadata": {},
   "outputs": [
    {
     "data": {
      "text/plain": [
       "[PhysicalDevice(name='/physical_device:GPU:0', device_type='GPU')]"
      ]
     },
     "execution_count": 4,
     "metadata": {},
     "output_type": "execute_result"
    }
   ],
   "source": [
    "tf.config.list_physical_devices('GPU')  "
   ]
  },
  {
   "cell_type": "markdown",
   "metadata": {},
   "source": [
    "### Get the Data"
   ]
  },
  {
   "cell_type": "code",
   "execution_count": 170,
   "metadata": {},
   "outputs": [],
   "source": [
    "data_path = r'..\\data\\raw\\AAPL_15min.csv'\n",
    "df = pd.read_csv(data_path, index_col=0, \n",
    "                 parse_dates=True, infer_datetime_format=True)\n",
    "\n",
    "# df = get_trading_times(df)\n",
    "df = df.dropna()\n",
    "\n",
    "# add days, hours, and minutes to the dataset\n",
    "dayofweek = df.index.dayofweek\n",
    "hour = df.index.hour\n",
    "minute = df.index.minute\n",
    "\n",
    "# encode the days, hours, and minutes with sin and cos functions\n",
    "days_in_week = 7\n",
    "hours_in_day = 24\n",
    "minutes_in_hour = 60\n",
    "\n",
    "df['sin_day'] = np.sin(2*np.pi*dayofweek/days_in_week)\n",
    "df['cos_day'] = np.cos(2*np.pi*dayofweek/days_in_week)\n",
    "df['sin_hour'] = np.sin(2*np.pi*hour/hours_in_day)\n",
    "df['cos_hour'] = np.cos(2*np.pi*hour/hours_in_day)\n",
    "df['sin_minute'] = np.sin(2*np.pi*minute/minutes_in_hour)\n",
    "df['cos_minute'] = np.cos(2*np.pi*minute/minutes_in_hour)\n"
   ]
  },
  {
   "cell_type": "markdown",
   "metadata": {},
   "source": [
    "### Add target columns\n",
    "We will add a column for price change at each interval, this will be our regression target variable. We will also add another column that quantifys the magnitude of the price change, this will be out target variable for classification."
   ]
  },
  {
   "cell_type": "code",
   "execution_count": 171,
   "metadata": {},
   "outputs": [
    {
     "name": "stderr",
     "output_type": "stream",
     "text": [
      "C:\\Users\\itber\\AppData\\Local\\Temp\\ipykernel_15104\\2560370332.py:5: SettingWithCopyWarning: \n",
      "A value is trying to be set on a copy of a slice from a DataFrame\n",
      "\n",
      "See the caveats in the documentation: https://pandas.pydata.org/pandas-docs/stable/user_guide/indexing.html#returning-a-view-versus-a-copy\n",
      "  df['price_change'][df['price_diff'] < -thresh] = 0 # downward price movement\n",
      "C:\\Users\\itber\\AppData\\Local\\Temp\\ipykernel_15104\\2560370332.py:6: SettingWithCopyWarning: \n",
      "A value is trying to be set on a copy of a slice from a DataFrame\n",
      "\n",
      "See the caveats in the documentation: https://pandas.pydata.org/pandas-docs/stable/user_guide/indexing.html#returning-a-view-versus-a-copy\n",
      "  df['price_change'][df['price_diff'] > thresh] = 2 # upward prive movement\n"
     ]
    }
   ],
   "source": [
    "df['price_diff'] = df['close'].diff()\n",
    "\n",
    "thresh = 0.1 # dollars\n",
    "df['price_change'] = 1 # price stays the same\n",
    "df['price_change'][df['price_diff'] < -thresh] = 0 # downward price movement\n",
    "df['price_change'][df['price_diff'] > thresh] = 2 # upward prive movement"
   ]
  },
  {
   "cell_type": "code",
   "execution_count": 172,
   "metadata": {},
   "outputs": [
    {
     "data": {
      "text/html": [
       "<div>\n",
       "<style scoped>\n",
       "    .dataframe tbody tr th:only-of-type {\n",
       "        vertical-align: middle;\n",
       "    }\n",
       "\n",
       "    .dataframe tbody tr th {\n",
       "        vertical-align: top;\n",
       "    }\n",
       "\n",
       "    .dataframe thead th {\n",
       "        text-align: right;\n",
       "    }\n",
       "</style>\n",
       "<table border=\"1\" class=\"dataframe\">\n",
       "  <thead>\n",
       "    <tr style=\"text-align: right;\">\n",
       "      <th></th>\n",
       "      <th>open</th>\n",
       "      <th>high</th>\n",
       "      <th>low</th>\n",
       "      <th>close</th>\n",
       "      <th>volume</th>\n",
       "      <th>sin_day</th>\n",
       "      <th>cos_day</th>\n",
       "      <th>sin_hour</th>\n",
       "      <th>cos_hour</th>\n",
       "      <th>sin_minute</th>\n",
       "      <th>cos_minute</th>\n",
       "      <th>price_diff</th>\n",
       "      <th>price_change</th>\n",
       "    </tr>\n",
       "    <tr>\n",
       "      <th>time</th>\n",
       "      <th></th>\n",
       "      <th></th>\n",
       "      <th></th>\n",
       "      <th></th>\n",
       "      <th></th>\n",
       "      <th></th>\n",
       "      <th></th>\n",
       "      <th></th>\n",
       "      <th></th>\n",
       "      <th></th>\n",
       "      <th></th>\n",
       "      <th></th>\n",
       "      <th></th>\n",
       "    </tr>\n",
       "  </thead>\n",
       "  <tbody>\n",
       "    <tr>\n",
       "      <th>2020-10-01 04:30:00</th>\n",
       "      <td>115.634512</td>\n",
       "      <td>115.792604</td>\n",
       "      <td>115.407254</td>\n",
       "      <td>115.407254</td>\n",
       "      <td>13550.0</td>\n",
       "      <td>0.433884</td>\n",
       "      <td>-0.900969</td>\n",
       "      <td>0.866025</td>\n",
       "      <td>0.500000</td>\n",
       "      <td>5.665539e-16</td>\n",
       "      <td>-1.000000e+00</td>\n",
       "      <td>-0.207496</td>\n",
       "      <td>0</td>\n",
       "    </tr>\n",
       "    <tr>\n",
       "      <th>2020-10-01 04:45:00</th>\n",
       "      <td>115.367731</td>\n",
       "      <td>115.367731</td>\n",
       "      <td>115.120712</td>\n",
       "      <td>115.308447</td>\n",
       "      <td>12857.0</td>\n",
       "      <td>0.433884</td>\n",
       "      <td>-0.900969</td>\n",
       "      <td>0.866025</td>\n",
       "      <td>0.500000</td>\n",
       "      <td>-1.000000e+00</td>\n",
       "      <td>-1.836970e-16</td>\n",
       "      <td>-0.098808</td>\n",
       "      <td>1</td>\n",
       "    </tr>\n",
       "    <tr>\n",
       "      <th>2020-10-01 05:00:00</th>\n",
       "      <td>115.308447</td>\n",
       "      <td>115.397374</td>\n",
       "      <td>115.298566</td>\n",
       "      <td>115.318327</td>\n",
       "      <td>10079.0</td>\n",
       "      <td>0.433884</td>\n",
       "      <td>-0.900969</td>\n",
       "      <td>0.965926</td>\n",
       "      <td>0.258819</td>\n",
       "      <td>0.000000e+00</td>\n",
       "      <td>1.000000e+00</td>\n",
       "      <td>0.009881</td>\n",
       "      <td>1</td>\n",
       "    </tr>\n",
       "    <tr>\n",
       "      <th>2020-10-01 05:15:00</th>\n",
       "      <td>115.417135</td>\n",
       "      <td>115.604869</td>\n",
       "      <td>115.377612</td>\n",
       "      <td>115.604869</td>\n",
       "      <td>3534.0</td>\n",
       "      <td>0.433884</td>\n",
       "      <td>-0.900969</td>\n",
       "      <td>0.965926</td>\n",
       "      <td>0.258819</td>\n",
       "      <td>1.000000e+00</td>\n",
       "      <td>2.832769e-16</td>\n",
       "      <td>0.286542</td>\n",
       "      <td>2</td>\n",
       "    </tr>\n",
       "    <tr>\n",
       "      <th>2020-10-01 05:30:00</th>\n",
       "      <td>115.604869</td>\n",
       "      <td>115.703677</td>\n",
       "      <td>115.555466</td>\n",
       "      <td>115.703677</td>\n",
       "      <td>7688.0</td>\n",
       "      <td>0.433884</td>\n",
       "      <td>-0.900969</td>\n",
       "      <td>0.965926</td>\n",
       "      <td>0.258819</td>\n",
       "      <td>5.665539e-16</td>\n",
       "      <td>-1.000000e+00</td>\n",
       "      <td>0.098808</td>\n",
       "      <td>1</td>\n",
       "    </tr>\n",
       "  </tbody>\n",
       "</table>\n",
       "</div>"
      ],
      "text/plain": [
       "                           open        high         low       close   volume  \\\n",
       "time                                                                           \n",
       "2020-10-01 04:30:00  115.634512  115.792604  115.407254  115.407254  13550.0   \n",
       "2020-10-01 04:45:00  115.367731  115.367731  115.120712  115.308447  12857.0   \n",
       "2020-10-01 05:00:00  115.308447  115.397374  115.298566  115.318327  10079.0   \n",
       "2020-10-01 05:15:00  115.417135  115.604869  115.377612  115.604869   3534.0   \n",
       "2020-10-01 05:30:00  115.604869  115.703677  115.555466  115.703677   7688.0   \n",
       "\n",
       "                      sin_day   cos_day  sin_hour  cos_hour    sin_minute  \\\n",
       "time                                                                        \n",
       "2020-10-01 04:30:00  0.433884 -0.900969  0.866025  0.500000  5.665539e-16   \n",
       "2020-10-01 04:45:00  0.433884 -0.900969  0.866025  0.500000 -1.000000e+00   \n",
       "2020-10-01 05:00:00  0.433884 -0.900969  0.965926  0.258819  0.000000e+00   \n",
       "2020-10-01 05:15:00  0.433884 -0.900969  0.965926  0.258819  1.000000e+00   \n",
       "2020-10-01 05:30:00  0.433884 -0.900969  0.965926  0.258819  5.665539e-16   \n",
       "\n",
       "                       cos_minute  price_diff  price_change  \n",
       "time                                                         \n",
       "2020-10-01 04:30:00 -1.000000e+00   -0.207496             0  \n",
       "2020-10-01 04:45:00 -1.836970e-16   -0.098808             1  \n",
       "2020-10-01 05:00:00  1.000000e+00    0.009881             1  \n",
       "2020-10-01 05:15:00  2.832769e-16    0.286542             2  \n",
       "2020-10-01 05:30:00 -1.000000e+00    0.098808             1  "
      ]
     },
     "execution_count": 172,
     "metadata": {},
     "output_type": "execute_result"
    }
   ],
   "source": [
    "df = df.dropna()\n",
    "df.head()"
   ]
  },
  {
   "cell_type": "markdown",
   "metadata": {},
   "source": [
    "## Compute Technical Indicators\n",
    "\n",
    "In this portion we will compute several Technical Indicators that will help feed the model more useful information.\n",
    "\n",
    "We will compute the:\n",
    "- [Awsome Oscillator](https://www.ifcm.co.uk/ntx-indicators/awesome-oscillator)\n",
    "- RSI \n",
    "- SMA\n",
    "- EMA\n"
   ]
  },
  {
   "cell_type": "code",
   "execution_count": 173,
   "metadata": {},
   "outputs": [],
   "source": [
    "# momentum indicators\n",
    "awsome_oscillator = ta.momentum.ao(df.high, df.low, fast=5, slow=34)\n",
    "\n",
    "rsi_14 = ta.momentum.rsi(df.close, length=14)\n",
    "rsi_24 = ta.momentum.rsi(df.close, length=24)\n",
    "\n",
    "stoch_rsi_14 = ta.momentum.rsi(df.close, rsi_length=14, length=14)\n",
    "stoch_rsi_24 = ta.momentum.rsi(df.close, rsi_length=24, length=24)\n",
    "\n",
    "tsi = ta.momentum.tsi(df.close)\n",
    "\n",
    "ema_10 = ta.ema(df.close, length=10)\n",
    "ema_20 = ta.ema(df.close, length=20)\n",
    "ema_30 = ta.ema(df.close, length=30)\n",
    "\n",
    "# volume indicators\n",
    "acc_dist = ta.volume.ad(df.high, df.low, df.close, df.open)"
   ]
  },
  {
   "cell_type": "code",
   "execution_count": null,
   "metadata": {},
   "outputs": [],
   "source": [
    "help(ta.ema)"
   ]
  },
  {
   "cell_type": "code",
   "execution_count": null,
   "metadata": {},
   "outputs": [],
   "source": [
    "dir(ta.trend)"
   ]
  },
  {
   "cell_type": "markdown",
   "metadata": {},
   "source": [
    "Place everything in the data frame"
   ]
  },
  {
   "cell_type": "code",
   "execution_count": 174,
   "metadata": {},
   "outputs": [
    {
     "data": {
      "text/html": [
       "<div>\n",
       "<style scoped>\n",
       "    .dataframe tbody tr th:only-of-type {\n",
       "        vertical-align: middle;\n",
       "    }\n",
       "\n",
       "    .dataframe tbody tr th {\n",
       "        vertical-align: top;\n",
       "    }\n",
       "\n",
       "    .dataframe thead th {\n",
       "        text-align: right;\n",
       "    }\n",
       "</style>\n",
       "<table border=\"1\" class=\"dataframe\">\n",
       "  <thead>\n",
       "    <tr style=\"text-align: right;\">\n",
       "      <th></th>\n",
       "      <th>open</th>\n",
       "      <th>high</th>\n",
       "      <th>low</th>\n",
       "      <th>close</th>\n",
       "      <th>volume</th>\n",
       "      <th>sin_day</th>\n",
       "      <th>cos_day</th>\n",
       "      <th>sin_hour</th>\n",
       "      <th>cos_hour</th>\n",
       "      <th>sin_minute</th>\n",
       "      <th>...</th>\n",
       "      <th>RSI_14</th>\n",
       "      <th>RSI_24</th>\n",
       "      <th>RSI_14</th>\n",
       "      <th>RSI_24</th>\n",
       "      <th>TSI_13_25_13</th>\n",
       "      <th>TSIs_13_25_13</th>\n",
       "      <th>EMA_10</th>\n",
       "      <th>EMA_20</th>\n",
       "      <th>EMA_30</th>\n",
       "      <th>AD</th>\n",
       "    </tr>\n",
       "    <tr>\n",
       "      <th>time</th>\n",
       "      <th></th>\n",
       "      <th></th>\n",
       "      <th></th>\n",
       "      <th></th>\n",
       "      <th></th>\n",
       "      <th></th>\n",
       "      <th></th>\n",
       "      <th></th>\n",
       "      <th></th>\n",
       "      <th></th>\n",
       "      <th></th>\n",
       "      <th></th>\n",
       "      <th></th>\n",
       "      <th></th>\n",
       "      <th></th>\n",
       "      <th></th>\n",
       "      <th></th>\n",
       "      <th></th>\n",
       "      <th></th>\n",
       "      <th></th>\n",
       "      <th></th>\n",
       "    </tr>\n",
       "  </thead>\n",
       "  <tbody>\n",
       "    <tr>\n",
       "      <th>2020-10-01 12:45:00</th>\n",
       "      <td>114.863813</td>\n",
       "      <td>115.061428</td>\n",
       "      <td>114.626674</td>\n",
       "      <td>114.794548</td>\n",
       "      <td>2690445.0</td>\n",
       "      <td>0.433884</td>\n",
       "      <td>-0.900969</td>\n",
       "      <td>1.224647e-16</td>\n",
       "      <td>-1.000000</td>\n",
       "      <td>-1.000000e+00</td>\n",
       "      <td>...</td>\n",
       "      <td>37.401455</td>\n",
       "      <td>40.240973</td>\n",
       "      <td>37.401455</td>\n",
       "      <td>40.240973</td>\n",
       "      <td>-8.961924</td>\n",
       "      <td>-4.830030</td>\n",
       "      <td>115.086042</td>\n",
       "      <td>115.317195</td>\n",
       "      <td>115.543580</td>\n",
       "      <td>420.912656</td>\n",
       "    </tr>\n",
       "    <tr>\n",
       "      <th>2020-10-01 13:00:00</th>\n",
       "      <td>114.789707</td>\n",
       "      <td>114.972501</td>\n",
       "      <td>114.685959</td>\n",
       "      <td>114.942859</td>\n",
       "      <td>2110737.0</td>\n",
       "      <td>0.433884</td>\n",
       "      <td>-0.900969</td>\n",
       "      <td>-2.588190e-01</td>\n",
       "      <td>-0.965926</td>\n",
       "      <td>0.000000e+00</td>\n",
       "      <td>...</td>\n",
       "      <td>40.976625</td>\n",
       "      <td>42.613570</td>\n",
       "      <td>40.976625</td>\n",
       "      <td>42.613570</td>\n",
       "      <td>-9.050960</td>\n",
       "      <td>-5.433020</td>\n",
       "      <td>115.060009</td>\n",
       "      <td>115.281544</td>\n",
       "      <td>115.504823</td>\n",
       "      <td>511.952769</td>\n",
       "    </tr>\n",
       "    <tr>\n",
       "      <th>2020-10-01 13:15:00</th>\n",
       "      <td>114.942859</td>\n",
       "      <td>115.160235</td>\n",
       "      <td>114.893455</td>\n",
       "      <td>115.051547</td>\n",
       "      <td>1936852.0</td>\n",
       "      <td>0.433884</td>\n",
       "      <td>-0.900969</td>\n",
       "      <td>-2.588190e-01</td>\n",
       "      <td>-0.965926</td>\n",
       "      <td>1.000000e+00</td>\n",
       "      <td>...</td>\n",
       "      <td>43.522318</td>\n",
       "      <td>44.304539</td>\n",
       "      <td>43.522318</td>\n",
       "      <td>44.304539</td>\n",
       "      <td>-8.465868</td>\n",
       "      <td>-5.866284</td>\n",
       "      <td>115.058470</td>\n",
       "      <td>115.259639</td>\n",
       "      <td>115.475580</td>\n",
       "      <td>533.238483</td>\n",
       "    </tr>\n",
       "    <tr>\n",
       "      <th>2020-10-01 13:30:00</th>\n",
       "      <td>115.051547</td>\n",
       "      <td>115.160235</td>\n",
       "      <td>114.834170</td>\n",
       "      <td>114.993745</td>\n",
       "      <td>2435041.0</td>\n",
       "      <td>0.433884</td>\n",
       "      <td>-0.900969</td>\n",
       "      <td>-2.588190e-01</td>\n",
       "      <td>-0.965926</td>\n",
       "      <td>5.665539e-16</td>\n",
       "      <td>...</td>\n",
       "      <td>42.473151</td>\n",
       "      <td>43.591724</td>\n",
       "      <td>42.473151</td>\n",
       "      <td>43.591724</td>\n",
       "      <td>-8.286458</td>\n",
       "      <td>-6.212023</td>\n",
       "      <td>115.046702</td>\n",
       "      <td>115.234316</td>\n",
       "      <td>115.444494</td>\n",
       "      <td>530.797996</td>\n",
       "    </tr>\n",
       "    <tr>\n",
       "      <th>2020-10-01 13:45:00</th>\n",
       "      <td>115.003724</td>\n",
       "      <td>115.377612</td>\n",
       "      <td>114.954222</td>\n",
       "      <td>115.272481</td>\n",
       "      <td>2259626.0</td>\n",
       "      <td>0.433884</td>\n",
       "      <td>-0.900969</td>\n",
       "      <td>-2.588190e-01</td>\n",
       "      <td>-0.965926</td>\n",
       "      <td>-1.000000e+00</td>\n",
       "      <td>...</td>\n",
       "      <td>48.873587</td>\n",
       "      <td>47.816401</td>\n",
       "      <td>48.873587</td>\n",
       "      <td>47.816401</td>\n",
       "      <td>-6.415967</td>\n",
       "      <td>-6.241158</td>\n",
       "      <td>115.087753</td>\n",
       "      <td>115.237951</td>\n",
       "      <td>115.433396</td>\n",
       "      <td>588.689019</td>\n",
       "    </tr>\n",
       "  </tbody>\n",
       "</table>\n",
       "<p>5 rows × 24 columns</p>\n",
       "</div>"
      ],
      "text/plain": [
       "                           open        high         low       close  \\\n",
       "time                                                                  \n",
       "2020-10-01 12:45:00  114.863813  115.061428  114.626674  114.794548   \n",
       "2020-10-01 13:00:00  114.789707  114.972501  114.685959  114.942859   \n",
       "2020-10-01 13:15:00  114.942859  115.160235  114.893455  115.051547   \n",
       "2020-10-01 13:30:00  115.051547  115.160235  114.834170  114.993745   \n",
       "2020-10-01 13:45:00  115.003724  115.377612  114.954222  115.272481   \n",
       "\n",
       "                        volume   sin_day   cos_day      sin_hour  cos_hour  \\\n",
       "time                                                                         \n",
       "2020-10-01 12:45:00  2690445.0  0.433884 -0.900969  1.224647e-16 -1.000000   \n",
       "2020-10-01 13:00:00  2110737.0  0.433884 -0.900969 -2.588190e-01 -0.965926   \n",
       "2020-10-01 13:15:00  1936852.0  0.433884 -0.900969 -2.588190e-01 -0.965926   \n",
       "2020-10-01 13:30:00  2435041.0  0.433884 -0.900969 -2.588190e-01 -0.965926   \n",
       "2020-10-01 13:45:00  2259626.0  0.433884 -0.900969 -2.588190e-01 -0.965926   \n",
       "\n",
       "                       sin_minute  ...     RSI_14     RSI_24     RSI_14  \\\n",
       "time                               ...                                    \n",
       "2020-10-01 12:45:00 -1.000000e+00  ...  37.401455  40.240973  37.401455   \n",
       "2020-10-01 13:00:00  0.000000e+00  ...  40.976625  42.613570  40.976625   \n",
       "2020-10-01 13:15:00  1.000000e+00  ...  43.522318  44.304539  43.522318   \n",
       "2020-10-01 13:30:00  5.665539e-16  ...  42.473151  43.591724  42.473151   \n",
       "2020-10-01 13:45:00 -1.000000e+00  ...  48.873587  47.816401  48.873587   \n",
       "\n",
       "                        RSI_24  TSI_13_25_13  TSIs_13_25_13      EMA_10  \\\n",
       "time                                                                      \n",
       "2020-10-01 12:45:00  40.240973     -8.961924      -4.830030  115.086042   \n",
       "2020-10-01 13:00:00  42.613570     -9.050960      -5.433020  115.060009   \n",
       "2020-10-01 13:15:00  44.304539     -8.465868      -5.866284  115.058470   \n",
       "2020-10-01 13:30:00  43.591724     -8.286458      -6.212023  115.046702   \n",
       "2020-10-01 13:45:00  47.816401     -6.415967      -6.241158  115.087753   \n",
       "\n",
       "                         EMA_20      EMA_30          AD  \n",
       "time                                                     \n",
       "2020-10-01 12:45:00  115.317195  115.543580  420.912656  \n",
       "2020-10-01 13:00:00  115.281544  115.504823  511.952769  \n",
       "2020-10-01 13:15:00  115.259639  115.475580  533.238483  \n",
       "2020-10-01 13:30:00  115.234316  115.444494  530.797996  \n",
       "2020-10-01 13:45:00  115.237951  115.433396  588.689019  \n",
       "\n",
       "[5 rows x 24 columns]"
      ]
     },
     "execution_count": 174,
     "metadata": {},
     "output_type": "execute_result"
    }
   ],
   "source": [
    "indicators = [\n",
    "    awsome_oscillator,\n",
    "    rsi_14, \n",
    "    rsi_24, \n",
    "    stoch_rsi_14, \n",
    "    stoch_rsi_24,\n",
    "    tsi, \n",
    "    ema_10, \n",
    "    ema_20, \n",
    "    ema_30, \n",
    "    acc_dist \n",
    "]\n",
    "\n",
    "df = pd.concat([df, pd.concat(indicators, axis=1)], axis=1)\n",
    "\n",
    "df = df.dropna()\n",
    "df.head()"
   ]
  },
  {
   "cell_type": "markdown",
   "metadata": {},
   "source": [
    "### Get Standardized train, valid, and test sets\n",
    "\n",
    "Split into train, valid, and test sets. And then standardize with training mean and standard deviation"
   ]
  },
  {
   "cell_type": "code",
   "execution_count": 185,
   "metadata": {},
   "outputs": [
    {
     "name": "stdout",
     "output_type": "stream",
     "text": [
      "(16079, 24)\n",
      "(9243, 24)\n",
      "(6267, 24)\n"
     ]
    }
   ],
   "source": [
    "train_df = df.loc['2020-10-01':'2021-10-01']\n",
    "valid_df = df.loc['2021-10-02':'2022-05-01']\n",
    "test_df = df.loc['2022-05-02':]\n",
    "\n",
    "train_mean = train_df.mean()\n",
    "train_std = train_df.std()\n",
    "\n",
    "# ensure that target column is not standardized\n",
    "train_mean.price_change = 0\n",
    "train_std.price_change = 1\n",
    "\n",
    "train_df = (train_df - train_mean) / train_std\n",
    "valid_df = (valid_df - train_mean) / train_std\n",
    "test_df = (test_df - train_mean) / train_std\n",
    "\n",
    "# (train_df * train_std + train_mean)\n",
    "\n",
    "print(train_df.shape)\n",
    "print(valid_df.shape)\n",
    "print(test_df.shape)"
   ]
  },
  {
   "cell_type": "markdown",
   "metadata": {},
   "source": [
    "### Get Data Generator for each time step"
   ]
  },
  {
   "cell_type": "code",
   "execution_count": 194,
   "metadata": {},
   "outputs": [],
   "source": [
    "data_gen = WindowGenerator(\n",
    "                input_width=64, label_width=1, shift=1, \n",
    "                train_df=train_df, valid_df=valid_df, test_df=test_df,\n",
    "                label_columns=['price_change'])"
   ]
  },
  {
   "cell_type": "code",
   "execution_count": 195,
   "metadata": {},
   "outputs": [
    {
     "name": "stdout",
     "output_type": "stream",
     "text": [
      "Inputs shape (batch, time, features): (32, 64, 24)\n",
      "Targets shape (batch, time, features): (32, 1, 1)\n"
     ]
    }
   ],
   "source": [
    "for inputs, targets in data_gen.train.take(1):\n",
    "    print(f'Inputs shape (batch, time, features): {inputs.shape}')\n",
    "    print(f'Targets shape (batch, time, features): {targets.shape}')"
   ]
  },
  {
   "cell_type": "markdown",
   "metadata": {},
   "source": [
    "## **Start Training Models**\n",
    "\n",
    "First we will define a helper function to streamline this process"
   ]
  },
  {
   "cell_type": "code",
   "execution_count": 178,
   "metadata": {},
   "outputs": [],
   "source": [
    "def compile_and_fit(model, window, lr=1e-4, max_epochs=100, patience=2):\n",
    "    early_stopping = tf.keras.callbacks.EarlyStopping(monitor='val_loss',\n",
    "                                                      patience=patience,\n",
    "                                                      mode='min')\n",
    "\n",
    "    model.compile(loss=tf.keras.losses.SparseCategoricalCrossentropy(),\n",
    "                  optimizer=tf.keras.optimizers.Adam(learning_rate=lr),\n",
    "                  metrics=['accuracy'])\n",
    "\n",
    "    history = model.fit(window.train, epochs=max_epochs,\n",
    "                        validation_data=window.valid,\n",
    "                        callbacks=[early_stopping])\n",
    "    return history"
   ]
  },
  {
   "cell_type": "markdown",
   "metadata": {},
   "source": [
    "Track the performance of several models"
   ]
  },
  {
   "cell_type": "code",
   "execution_count": null,
   "metadata": {},
   "outputs": [],
   "source": [
    "val_performance = {}\n",
    "performance = {}"
   ]
  },
  {
   "cell_type": "markdown",
   "metadata": {},
   "source": [
    "We will also define a learning rate scheduler"
   ]
  },
  {
   "cell_type": "code",
   "execution_count": 14,
   "metadata": {},
   "outputs": [],
   "source": [
    "def lr_scheduler(epoch, lr, warmup_epochs=15, decay_epochs=100, initial_lr=1e-6, base_lr=1e-3, min_lr=5e-5):\n",
    "    if epoch <= warmup_epochs:\n",
    "        pct = epoch / warmup_epochs\n",
    "        return ((base_lr - initial_lr) * pct) + initial_lr\n",
    "\n",
    "    if epoch > warmup_epochs and epoch < warmup_epochs+decay_epochs:\n",
    "        pct = 1 - ((epoch - warmup_epochs) / decay_epochs)\n",
    "        return ((base_lr - min_lr) * pct) + min_lr\n",
    "\n",
    "    return min_lr"
   ]
  },
  {
   "cell_type": "markdown",
   "metadata": {},
   "source": [
    "Setup the Transformer Encoder"
   ]
  },
  {
   "cell_type": "markdown",
   "metadata": {},
   "source": [
    "Build model with Keras classes\n",
    "\n",
    "Things to try:\n",
    "- Try to replace Layer Normalization with Batch Normalization and observe the results"
   ]
  },
  {
   "cell_type": "code",
   "execution_count": 196,
   "metadata": {},
   "outputs": [],
   "source": [
    "from tensorflow_addons.layers import MultiHeadAttention\n",
    "\n",
    "class TransformerEncoder(tf.keras.layers.Layer):\n",
    "\n",
    "    def __init__(self, n_heads, head_size, ff_dim, dropout=0):\n",
    "        super().__init__()\n",
    "        \n",
    "        self.n_heads = n_heads\n",
    "        self.head_size = head_size\n",
    "        self.ff_dim = ff_dim\n",
    "        self.dropout = dropout\n",
    "\n",
    "        self.attn_heads = list()\n",
    "\n",
    "\n",
    "    def build(self, input_shape):\n",
    "        \n",
    "        # attention portion\n",
    "        self.attn_multi = MultiHeadAttention(num_heads=self.n_heads, \n",
    "                                             head_size=self.head_size, \n",
    "                                             dropout=self.dropout)\n",
    "        self.attn_dropout = layers.Dropout(self.dropout)\n",
    "        self.attn_norm = layers.LayerNormalization(epsilon=1e-6)\n",
    "\n",
    "        # feedforward portion\n",
    "        self.ff_conv1 = layers.Conv1D(filters=self.ff_dim, \n",
    "                                      kernel_size=1, \n",
    "                                      activation='relu')\n",
    "        self.ff_dropout = layers.Dropout(self.dropout)\n",
    "        self.ff_conv2 = layers.Conv1D(filters=input_shape[-1],\n",
    "                                      kernel_size=1)\n",
    "        self.ff_norm = layers.LayerNormalization(epsilon=1e-6)\n",
    "\n",
    "\n",
    "    def call(self, inputs):\n",
    "        # attention portion\n",
    "        x = self.attn_multi([inputs, inputs])\n",
    "        x = self.attn_dropout(x)\n",
    "        x = self.attn_norm(x)\n",
    "\n",
    "        # get first residual\n",
    "        res = x + inputs\n",
    "        \n",
    "        # feedforward portion\n",
    "        x = self.ff_conv1(res)\n",
    "        x = self.ff_dropout(x)\n",
    "        x = self.ff_conv2(x)\n",
    "        x = self.ff_norm(x)\n",
    "        \n",
    "        # return residual\n",
    "        return res + x\n",
    "    \n",
    "    # Needed for saving and loading model with custom layer\n",
    "    def get_config(self): \n",
    "        config = super().get_config().copy()\n",
    "        config.update({'d_k': self.d_k,\n",
    "                       'd_v': self.d_v,\n",
    "                       'n_heads': self.n_heads,\n",
    "                       'ff_dim': self.ff_dim,\n",
    "                       'attn_heads': self.attn_heads,\n",
    "                       'dropout': self.dropout_rate})\n",
    "        return config          \n"
   ]
  },
  {
   "cell_type": "code",
   "execution_count": 197,
   "metadata": {},
   "outputs": [],
   "source": [
    "class TransformerModel(keras.Model):\n",
    "\n",
    "    def __init__(self, \n",
    "            n_heads,\n",
    "            head_size,\n",
    "            ff_dim,\n",
    "            num_transformer_blocks,\n",
    "            mlp_units,\n",
    "            n_outputs=3,\n",
    "            dropout=0.1,\n",
    "            mlp_dropout=0.1):\n",
    "            \n",
    "        super().__init__()\n",
    "        \n",
    "        self.n_heads = n_heads\n",
    "        self.head_size = head_size\n",
    "        self.ff_dim = ff_dim\n",
    "        self.num_transformer_blocks = num_transformer_blocks\n",
    "        self.mlp_units = mlp_units\n",
    "        self.n_outputs = n_outputs\n",
    "        self.dropout = dropout\n",
    "        self.mlp_dropout = mlp_dropout\n",
    "\n",
    "        \n",
    "         \n",
    "    def build(self, input_shape):\n",
    "\n",
    "        # get embedding layer that projects inputs inot high dimensional space\n",
    "        self.embed = layers.Dense(self.head_size)\n",
    "\n",
    "        # get learnable time layer\n",
    "        # self.time_layer = layers.Layer(tf.random.uniform((input_shape[1], self.head_size), -0.2, 0.2))\n",
    "        # self.time_layer = tf.Variable(\n",
    "        #     initial_value=tf.random.uniform((input_shape[1], self.head_size), -0.2, 0.2)\n",
    "        #     )\n",
    "        \n",
    "        # get transformer encoders\n",
    "        self.encoders = [TransformerEncoder(self.n_heads, self.head_size, self.ff_dim, self.dropout) \n",
    "                         for _ in range(self.num_transformer_blocks)]\n",
    "\n",
    "        self.avg_pool = layers.GlobalAveragePooling1D(data_format=\"channels_first\")\n",
    "\n",
    "        # get MLP portion of network\n",
    "        self.mlp_layers = []\n",
    "        for dim in self.mlp_units:\n",
    "            self.mlp_layers.append(layers.Dense(dim, activation=\"relu\"))\n",
    "            self.mlp_layers.append(layers.Dropout(self.mlp_dropout))\n",
    "\n",
    "        # output layer \n",
    "        self.mlp_output = layers.Dense(self.n_outputs, activation='softmax')\n",
    "\n",
    "\n",
    "    def call(self, x):\n",
    "\n",
    "        # project input data into high dimensional space\n",
    "        x = self.embed(x)\n",
    "\n",
    "        # inject time information ??\n",
    "        # x = x + self.time_layer(x)\n",
    "        \n",
    "        # Encoder Portion\n",
    "        for encoder in self.encoders:\n",
    "            x = encoder(x)\n",
    "\n",
    "        # Average Pooling\n",
    "        x = self.avg_pool(x)\n",
    "\n",
    "        # MLP portion for classification\n",
    "        for mlp_layer in self.mlp_layers:\n",
    "            x = mlp_layer(x)\n",
    "\n",
    "        x = self.mlp_output(x)\n",
    "\n",
    "        return x"
   ]
  },
  {
   "cell_type": "code",
   "execution_count": 198,
   "metadata": {},
   "outputs": [],
   "source": [
    "transformer_model = TransformerModel(\n",
    "            n_heads=2,\n",
    "            head_size=512,\n",
    "            ff_dim=256,\n",
    "            num_transformer_blocks=2,\n",
    "            mlp_units=[256],\n",
    "            n_outputs=3,\n",
    "            dropout=0.1,\n",
    "            mlp_dropout=0.1)"
   ]
  },
  {
   "cell_type": "code",
   "execution_count": 199,
   "metadata": {},
   "outputs": [
    {
     "name": "stdout",
     "output_type": "stream",
     "text": [
      "Epoch 1/10\n",
      "501/501 [==============================] - 37s 69ms/step - loss: 1.0042 - accuracy: 0.5103 - val_loss: 1.0448 - val_accuracy: 0.4487\n",
      "Epoch 2/10\n",
      "501/501 [==============================] - 35s 69ms/step - loss: 0.9718 - accuracy: 0.5183 - val_loss: 1.0515 - val_accuracy: 0.4523\n",
      "Epoch 3/10\n",
      "501/501 [==============================] - 34s 69ms/step - loss: 0.9654 - accuracy: 0.5277 - val_loss: 1.0588 - val_accuracy: 0.4504\n",
      "Epoch 4/10\n",
      "501/501 [==============================] - 34s 69ms/step - loss: 0.9594 - accuracy: 0.5273 - val_loss: 1.0672 - val_accuracy: 0.4478\n",
      "Epoch 5/10\n",
      "501/501 [==============================] - 34s 69ms/step - loss: 0.9525 - accuracy: 0.5284 - val_loss: 1.0662 - val_accuracy: 0.4351\n",
      "Epoch 6/10\n",
      "501/501 [==============================] - 35s 70ms/step - loss: 0.9481 - accuracy: 0.5286 - val_loss: 1.0464 - val_accuracy: 0.4572\n",
      "Epoch 7/10\n",
      "501/501 [==============================] - 36s 72ms/step - loss: 0.9456 - accuracy: 0.5320 - val_loss: 1.0429 - val_accuracy: 0.4561\n",
      "Epoch 8/10\n",
      "501/501 [==============================] - 37s 74ms/step - loss: 0.9414 - accuracy: 0.5328 - val_loss: 1.0742 - val_accuracy: 0.4435\n",
      "Epoch 9/10\n",
      "501/501 [==============================] - 36s 73ms/step - loss: 0.9395 - accuracy: 0.5371 - val_loss: 1.0921 - val_accuracy: 0.4376\n",
      "Epoch 10/10\n",
      "501/501 [==============================] - 36s 71ms/step - loss: 0.9361 - accuracy: 0.5384 - val_loss: 1.1175 - val_accuracy: 0.4310\n",
      "287/287 [==============================] - 3s 10ms/step - loss: 1.1175 - accuracy: 0.4310\n"
     ]
    }
   ],
   "source": [
    "compile_and_fit(transformer_model, data_gen, patience=15, max_epochs=10)\n",
    "\n",
    "val_performance['transformer_3'] = transformer_model.evaluate(data_gen.valid)\n",
    "performance['transformer_3'] = transformer_model.evaluate(data_gen.test, verbose=0)"
   ]
  },
  {
   "cell_type": "code",
   "execution_count": 193,
   "metadata": {},
   "outputs": [
    {
     "data": {
      "text/plain": [
       "{'transformer_1': [0.9981821179389954, 0.4725024402141571],\n",
       " 'transformer_2': [1.033190131187439, 0.4488556385040283]}"
      ]
     },
     "execution_count": 193,
     "metadata": {},
     "output_type": "execute_result"
    }
   ],
   "source": [
    "val_performance"
   ]
  },
  {
   "cell_type": "code",
   "execution_count": null,
   "metadata": {},
   "outputs": [],
   "source": []
  }
 ],
 "metadata": {
  "kernelspec": {
   "display_name": "Python 3.9.12 ('tf')",
   "language": "python",
   "name": "python3"
  },
  "language_info": {
   "codemirror_mode": {
    "name": "ipython",
    "version": 3
   },
   "file_extension": ".py",
   "mimetype": "text/x-python",
   "name": "python",
   "nbconvert_exporter": "python",
   "pygments_lexer": "ipython3",
   "version": "3.9.12"
  },
  "orig_nbformat": 4,
  "vscode": {
   "interpreter": {
    "hash": "2b2da39daaaff30a84159e8452ba91acfc0bbd521fb66c6aa9941f847b87bd81"
   }
  }
 },
 "nbformat": 4,
 "nbformat_minor": 2
}
